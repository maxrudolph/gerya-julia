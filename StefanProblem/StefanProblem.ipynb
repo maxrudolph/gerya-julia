{
 "cells": [
  {
   "cell_type": "markdown",
   "id": "cfe374fc-6e05-4d82-96ac-5cc85cf846aa",
   "metadata": {},
   "source": [
    "# Stefan Problem - test melting and solidification\n",
    "\n",
    "Step 1 - import packages"
   ]
  },
  {
   "cell_type": "code",
   "execution_count": null,
   "id": "92dc91f2-7a02-4bf8-8f20-b86fd3d989ff",
   "metadata": {},
   "outputs": [],
   "source": []
  },
  {
   "cell_type": "markdown",
   "id": "ebc2da32-d2ab-4a87-aefa-267589b18944",
   "metadata": {},
   "source": [
    "Step 2 - Define a function that relates entropy and temperature/pressure. \n",
    "$$\n",
    "T = f_1(P,S)\n",
    "$$\n",
    "\n",
    "$$\n",
    "T = \\exp \\left( \\frac{S}{C_V} + \\ln (T_{ref}) - \\frac{\\Delta H_{fus} }{C_V T_M}X \\right)\n",
    "$$\n",
    "\n",
    "and \n",
    "$$\n",
    "S = f_2(P,T)\n",
    "$$\n",
    "$$\n",
    "S = C_V (\\ln (T) - \\ln(T_{ref})) + \\frac{\\Delta H_{fus}}{T_m}X\n",
    "$$"
   ]
  },
  {
   "cell_type": "code",
   "execution_count": null,
   "id": "fb26a90d-d64e-470c-86d1-65c3fc8b1bc8",
   "metadata": {},
   "outputs": [],
   "source": []
  },
  {
   "cell_type": "markdown",
   "id": "5ffa255e-9cb4-4563-8d22-88745b0ee668",
   "metadata": {},
   "source": [
    "Step 3 - Write functions to set up the initial condition for the Stefan problem\n",
    "\n",
    "- Consider a box with width 100 km and height 100 km.\n",
    "- The box is filled entirely with one material\n",
    "- Initially, the top 10 km is solid and the bottom 90 km is liquid.\n",
    "- The sides are insulating\n",
    "- Density is constant and equal to 1000 kg/m$^3$\n",
    "- The surface is at T=100K, the bottom is at T=273 K\n",
    "- The liquid is isothermal with $T=T_m$.\n",
    "- The solid has initial $T(z)$ given by the Stefan solution (Turcotte and Schubert section 4.18)\n",
    "$$\n",
    "\\theta = \\frac{erf(\\eta)}{erf(\\lambda_1)}\n",
    "$$\n",
    "- Given the initial temperature, compute initial entropy S on the markers.\n",
    "  "
   ]
  },
  {
   "cell_type": "code",
   "execution_count": null,
   "id": "e8c7ff3c-19c4-4487-a72f-80919080bf4b",
   "metadata": {},
   "outputs": [],
   "source": []
  },
  {
   "cell_type": "markdown",
   "id": "5af65739-2045-4d1a-aca8-d1503e48d576",
   "metadata": {},
   "source": [
    "# Main part of code\n",
    "- At each timestep, begin by computing T(S,X) on the markers\n",
    "- Iteratively solve the temperature equation. Start with a guess S_new = S_old\n",
    "    - For T_new, compute $q_{cond} = \\nabla \\cdot (k \\nabla T_{new})$\n",
    "    - Solve diffusion equation for S_new\n",
    "    - Given S_new, update T_new\n",
    "    - Iterate until converged...\n",
    "- Given the new entropy solution on the cell centers, update the entropy and melt fraction on the markers."
   ]
  },
  {
   "cell_type": "code",
   "execution_count": null,
   "id": "dcc8cf1b-90de-4f8e-8b55-898703876c6d",
   "metadata": {},
   "outputs": [],
   "source": []
  }
 ],
 "metadata": {
  "kernelspec": {
   "display_name": "Julia 20 Threads 1.8.5",
   "language": "julia",
   "name": "julia-20-threads-1.8"
  },
  "language_info": {
   "file_extension": ".jl",
   "mimetype": "application/julia",
   "name": "julia",
   "version": "1.8.5"
  }
 },
 "nbformat": 4,
 "nbformat_minor": 5
}
