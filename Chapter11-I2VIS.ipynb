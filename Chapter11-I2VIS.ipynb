{
 "cells": [
  {
   "cell_type": "markdown",
   "id": "dac8b53a",
   "metadata": {},
   "source": [
    "# Chapter 11 - I2VIS\n",
    "\n",
    "This is an implementation of a 2D viscous flow code. The energy equation (for temperature) is solved at the cell centers (unlike the example in the chapter 10 notebook, which is solved at the basic nodes."
   ]
  },
  {
   "cell_type": "code",
   "execution_count": 6,
   "id": "7a586011",
   "metadata": {},
   "outputs": [],
   "source": [
    "# Import necessary packages\n",
    "using SparseArrays\n",
    "using LinearAlgebra\n",
    "using IterativeSolvers\n",
    "using WriteVTK\n",
    "using Printf\n",
    "\n",
    "include(\"Grid.jl\")\n",
    "include(\"Markers.jl\")\n",
    "include(\"Stokes.jl\")\n",
    "\n",
    "using PyPlot"
   ]
  },
  {
   "cell_type": "code",
   "execution_count": 7,
   "id": "8586a373",
   "metadata": {},
   "outputs": [
    {
     "data": {
      "text/plain": [
       "visualization (generic function with 2 methods)"
      ]
     },
     "execution_count": 7,
     "metadata": {},
     "output_type": "execute_result"
    }
   ],
   "source": [
    "# Define a function to form the energy equation left hand side and right hand side\n",
    "function assemble_energy_equation_center(grid::CartesianGrid,rho::Matrix,Cp::Matrix,kThermal::Matrix,H::Matrix,Tlast::Matrix,dt)\n",
    "    bcleft  = -1   # -1 = insulating, 1 = constant temp\n",
    "    bcright = -1   #\n",
    "    bctop   =  1\n",
    "    bcbottom  = 1\n",
    "    bcval = [0.0,0.0,1000.0,1000.0] # left,right,top,bottom\n",
    "    \n",
    "    N = grid.nx*grid.ny\n",
    "    row = zeros(Int64,5*N);\n",
    "    col = zeros(Int64,5*N);\n",
    "    val = zeros(Float64, 5*N);\n",
    "    R = zeros(Float64,N,1);\n",
    "    k = 1;\n",
    "    #        j-1   j     j   j+1   j+1\n",
    "    #   i-1   |----kC----|----vy----|\n",
    "    #         |          |          |\n",
    "    #   i     kA    T   kB    T     |\n",
    "    #         |          |          |\n",
    "    #   i     |----kD--(i,j)--vy----|\n",
    "    #         |          |          |\n",
    "    #   i+1   vx    c    vx   c     vx\n",
    "    #         |          |          |\n",
    "    #   i+1   |----vy----|----vy----|\n",
    "    \n",
    "    for j in 1:grid.nx\n",
    "        dxc = j>1 ? grid.x[j] - grid.x[j-1] : grid.x[j+1] - grid.x[j]\n",
    "        dxp = grid.xc[j+1] - grid.xc[j]\n",
    "        dxm = j>1 ? grid.xc[j]-grid.xc[j-1] : grid.xc[j+1] - grid.xc[j]\n",
    "        for i in 1:grid.ny\n",
    "            dyc = i>1 ? grid.y[i] - grid.y[i-1] : grid.y[i+1] - grid.y[i]\n",
    "            dyp = grid.yc[i+1] - grid.yc[i]\n",
    "            dym = i>1 ? grid.yc[i]-grid.yc[i-1] : grid.yc[i+1] - grid.yc[i]\n",
    "            \n",
    "            this_row = node_index(i,j,grid.ny);\n",
    "            if i==1 # ghost nodes along top.\n",
    "                row[k] = this_row\n",
    "                col[k] = this_row\n",
    "                val[k] = 1.0/2.0\n",
    "                k+=1\n",
    "                \n",
    "                row[k] = this_row\n",
    "                col[k] = node_index(i+1,j,grid.ny)\n",
    "                val[k] = bctop/2.0\n",
    "                k+=1\n",
    "                \n",
    "                R[this_row] = bcval[3]\n",
    "            elseif j==1 # ghost nodes along left side.\n",
    "                row[k] = this_row\n",
    "                col[k] = this_row\n",
    "                val[k] = 1.0/2.0\n",
    "                k+=1\n",
    "                \n",
    "                row[k] = this_row\n",
    "                col[k] = node_index(i,j+1,grid.ny)\n",
    "                val[k] = bcleft/2.0\n",
    "                k+=1\n",
    "                \n",
    "                R[this_row] = bcval[1]\n",
    "            else            \n",
    "                # kA, kB, kC, kD\n",
    "                kA = 0.5*(kThermal[i-1,j-1] + kThermal[i,j-1])\n",
    "                kB = 0.5*(kThermal[i,j]     + kThermal[i-1,j])\n",
    "                kC = 0.5*(kThermal[i-1,j-1] + kThermal[i-1,j])\n",
    "                kD = 0.5*(kThermal[i,j-1]   + kThermal[i,j])\n",
    "                rho_c = 0.25*(rho[i-1,j-1] + rho[i,j-1] + rho[i-1,j] + rho[i,j])\n",
    "                Cp_c = 0.25*(Cp[i-1,j-1] + Cp[i,j-1] + Cp[i-1,j] + Cp[i,j])\n",
    "\n",
    "                # diagonal entry\n",
    "                row[k] = this_row;\n",
    "                col[k] = this_row;\n",
    "                val[k] = (rho_c*Cp_c)/dt + kB/dxp/dxc + kA/dxm/dxc + kD/dyp/dyc + kC/dyp/dyc;\n",
    "                k+=1\n",
    "                # right\n",
    "                row[k] = this_row;\n",
    "                #col[k] = j==grid.nx ? node_index(i,2,grid.ny) : node_index(i,j+1,grid.ny);\n",
    "                col[k] = j==grid.nx ? node_index(i,j,grid.ny) : node_index(i,j+1,grid.ny);\n",
    "                val[k] = j==grid.nx ? bcright*kB/dxp/dxc : -kB/dxp/dxc;\n",
    "                k+=1\n",
    "                # left\n",
    "                row[k] = this_row;\n",
    "                col[k] = node_index(i,j-1,grid.ny);\n",
    "                val[k] = -kA/dxm/dxc;\n",
    "                k+=1\n",
    "                # down (+y)\n",
    "                row[k] = this_row;\n",
    "                col[k] = i==grid.ny ? node_index(i,j,grid.ny) : node_index(i+1,j,grid.ny);\n",
    "                val[k] = i==grid.ny ? bcbottom*kD/dyp/dyc : -kD/dyp/dyc;\n",
    "                k+=1\n",
    "                # up (-y)\n",
    "                row[k] = this_row;\n",
    "                col[k] = node_index(i-1,j,grid.ny);\n",
    "                val[k] = -kC/dyp/dyc;\n",
    "                k+=1\n",
    "                \n",
    "                R[this_row] = Tlast[i,j]*rho_c*Cp_c/dt;\n",
    "                if j==grid.nx\n",
    "                    R[this_row] += 2*bcval[2]*bcright*kB/dxp/dxc\n",
    "                end\n",
    "                if i==grid.ny\n",
    "                    R[this_row] += 2*bcval[4]*bcbottom*kD/dyp/dyc\n",
    "                end\n",
    "            end\n",
    "        end\n",
    "    end\n",
    "    row = @views row[1:k-1]\n",
    "    col = @views col[1:k-1]\n",
    "    val = @views val[1:k-1]\n",
    "    L = sparse(row,col,val)\n",
    "    return L,R\n",
    "end\n",
    "\n",
    "function ghost_temperature(grid::CartesianGrid,T::Matrix)\n",
    "    # Define a new grid that is (ny+1)x(nx+1) and insert the ghost temperature values.\n",
    "    bcleft  = -1   # -1 = insulating, 1 = constant temp\n",
    "    bcright = -1   #\n",
    "    bctop   =  1\n",
    "    bcbottom  = 1\n",
    "    bcval = [0.0,0.0,1000.0,1000.0] # left,right,top,bottom\n",
    "    Tpad = Array{Float64,2}(undef,grid.ny+1,grid.nx+1)\n",
    "    Tpad[1:grid.ny,1:grid.nx] = T[1:grid.ny,1:grid.nx]\n",
    "    # right side first\n",
    "    for i in 1:grid.ny\n",
    "        if bcright == 1\n",
    "            Tpad[i,grid.nx+1] = 2.0*bcval[2]-Tpad[i,grid.nx]\n",
    "        elseif bcright == -1\n",
    "            Tpad[i,grid.nx+1] = Tpad[i,grid.nx]\n",
    "        end\n",
    "    end\n",
    "    # bottom\n",
    "    for j in 1:grid.nx+1\n",
    "        if bcbottom == 1\n",
    "            Tpad[grid.ny+1,j] = 2.0*bcval[4]-Tpad[grid.ny,j]\n",
    "        elseif bcbottom == -1\n",
    "            Tpad[grid.ny+1,j] = Tpad[grid.ny,j]\n",
    "        end\n",
    "    end\n",
    "    return Tpad\n",
    "end\n",
    "\n",
    "function subgrid_temperature_relaxation!(markers::Markers,grid::CartesianGrid,Tlast::Matrix,Cp,kThermal,dt::Float64)\n",
    "        dsubgrid = 1.0; # subgrid temperature diffusivity\n",
    "        dT_subgrid_m = Array{Float64,1}(undef,markers.nmark)\n",
    "        # compuate the nodal temperature on the markers.\n",
    "        cell_center_to_markers!(markers,grid,Tlast,dT_subgrid_m)\n",
    "    \n",
    "        # compute the subgrid temperature changes on the markers\n",
    "        rho = markers.scalarFields[\"rho\"]\n",
    "        T = markers.scalarFields[\"T\"]\n",
    "        Threads.@threads for i in 1:markers.nmark\n",
    "            dx2 = (grid.x[markers.cell[1,i]+1] - grid.x[markers.cell[1,i]])^2\n",
    "            dy2 = (grid.y[markers.cell[2,i]+1] - grid.y[markers.cell[2,i]])^2\n",
    "            tdiff = markers.scalars[rho,i]*Cp/kThermal / (2/dx2 + 2/dy2)\n",
    "            dT_subgrid_m[i] = (dT_subgrid_m[i]-markers.scalars[T,i])*( 1.0 - exp(-dsubgrid*dt/tdiff) )\n",
    "        end\n",
    "        # interpolate subgrid temperature changes back onto basic nodes.\n",
    "        markers.scalars[T,1:markers.nmark] += dT_subgrid_m\n",
    "    \n",
    "        dT_subgrid_node = marker_to_cell_center(markers,grid,dT_subgrid_m)\n",
    "        return dT_subgrid_node\n",
    "end\n",
    "\n",
    "function initial_conditions!(markers::Markers)\n",
    "    rho = markers.scalarFields[\"rho\"]\n",
    "    eta = markers.scalarFields[\"eta\"]\n",
    "    T = markers.scalarFields[\"T\"]\n",
    "    for i in 1:markers.nmark\n",
    "        mx = markers.x[1,i]\n",
    "        my = markers.x[2,i]\n",
    "        mr = ((mx-2.5e5)^2 + (my-2.5e5)^2)^0.5\n",
    "        # my initial misunderstanding of the problem setup:\n",
    "        # markers.rho[i] = mx >= 200e3 && mx <= 300e3 ? 3200. : 3300.\n",
    "        markers.scalars[rho,i] = mr < 1.0e5 ? 3200. : 3300.\n",
    "        markers.scalars[eta,i] = mr < 1.0e5 ? 1e20 : 1e21 \n",
    "        markers.scalars[T,i] = mr < 1.0e5 ? 1300. : 1000.\n",
    "    end\n",
    "end\n",
    "\n",
    "function visualization(grid::CartesianGrid,rho::Matrix,eta::Matrix,vn::Array{Float64},pressure::Matrix,temperature::Matrix,time ; filename=\"test.vts\")\n",
    "    # write the visualization output from the regular grid as a .vts file.\n",
    "    vtk_grid(filename, grid.x, grid.y) do vtk\n",
    "        vtk[\"rho\"] = transpose(rho)\n",
    "        vtk[\"viscosity\"] = transpose(eta)\n",
    "        # add a fake third dimension to the velocity vectors\n",
    "        v3 = Array{Float64,3}(undef,3,grid.nx,grid.ny)\n",
    "        v3[1:2,:,:] = vn\n",
    "        v3[3,:,:] .= 0.0\n",
    "        vtk[\"Velocity\"] = v3\n",
    "        vtk[\"Temperature\"] = transpose(temperature)\n",
    "        vtk[\"pressure\"] = transpose(pressure[2:end,2:end])\n",
    "        vtk[\"TIME\"] = time\n",
    "    end\n",
    "end\n",
    "\n",
    "function visualization(markers::Markers,time; filename=\"markers.vtp\")  \n",
    "    p3 = Array{Float64,2}(undef,3,markers.nmark)\n",
    "    p3[1:2,:] = markers.x[1:2,1:markers.nmark]\n",
    "    p3[3,:] .= 0.0\n",
    "      \n",
    "    polys = [MeshCell(PolyData.Polys(),i:i) for i in 1:markers.nmark]\n",
    "    vtk_grid(filename,p3,polys) do vtk    \n",
    "        for key in keys(markers.scalarFields)\n",
    "            vtk[key] = markers.scalars[markers.scalarFields[key],1:markers.nmark]\n",
    "        end\n",
    "       vtk[\"TIME\"] = time\n",
    "    end\n",
    "end"
   ]
  },
  {
   "cell_type": "code",
   "execution_count": 3,
   "id": "442779cb",
   "metadata": {},
   "outputs": [
    {
     "name": "stdout",
     "output_type": "stream",
     "text": [
      "Creating Markers...\n",
      "  0.089542 seconds (137.45 k allocations: 11.116 MiB, 97.82% compilation time)\n",
      "Initial condition...\n",
      "  0.001740 seconds\n"
     ]
    },
    {
     "ename": "LoadError",
     "evalue": "InterruptException:",
     "output_type": "error",
     "traceback": [
      "InterruptException:",
      "",
      "Stacktrace:",
      " [1] eval",
      "   @ ./boot.jl:373 [inlined]",
      " [2] include_string(mapexpr::typeof(REPL.softscope), mod::Module, code::String, filename::String)",
      "   @ Base ./loading.jl:1196"
     ]
    }
   ],
   "source": [
    "nx = 51\n",
    "ny = 55\n",
    "W = 5e5\n",
    "H = 5e5\n",
    "gx = 0.0\n",
    "gy = 10.0\n",
    "\n",
    "bc = BoundaryConditions(0,0,0,0) # currently does nothing but is required argument to stokes solver.\n",
    "\n",
    "\n",
    "markx = 5\n",
    "marky = 5\n",
    "seconds_in_year = 3.15e7\n",
    "plot_interval = 1e5*seconds_in_year # plot interval in seconds\n",
    "end_time = 3e7*seconds_in_year\n",
    "dtmax = plot_interval\n",
    "grid = CartesianGrid(W,H,nx,ny)\n",
    "println(\"Creating Markers...\")\n",
    "@time markers = Markers(grid,[\"T\",\"rho\",\"eta\"],[\"material\"] ; nmx=markx,nmy=marky,random=false)\n",
    "println(\"Initial condition...\")\n",
    "@time initial_conditions!(markers)\n",
    "\n",
    "# define arrays for k, rho, cp, H at the basic nodes. Fill them with constant values for now.\n",
    "kThermal = 3.0 .*ones(grid.ny,grid.nx);\n",
    "Cp = 1250. .* ones(grid.ny,grid.nx);\n",
    "H = zeros(grid.ny,grid.nx);\n",
    "# fill!(rho,3200.);\n",
    "# fill!(kThermal,3.0);\n",
    "# fill!(Cp,1000.);\n",
    "\n",
    "time = 0.0\n",
    "iout=0\n",
    "while time <= end_time\n",
    "    # Get density and viscosity from the markers.\n",
    "    tmp = marker_to_basic_node(markers,grid,[\"rho\",\"eta\"]);\n",
    "    rho_new = tmp[1,:,:];\n",
    "    eta_s_new = tmp[2,:,:];\n",
    "    \n",
    "    if time > 0.0\n",
    "        nanind = findall(isnan.(rho_new))\n",
    "        rho_new[nanind] = rho[nanind]\n",
    "        eta_s_new[nanind] = eta_s[nanind]     \n",
    "    end\n",
    "    \n",
    "    rho   = copy(rho_new)\n",
    "    eta_s = copy(eta_s_new) \n",
    "    \n",
    "    eta_n = viscosity_to_cell_centers(grid,eta_s_new)\n",
    "\n",
    "    # assemble and solve the stokes equations\n",
    "    L,R = form_stokes(grid,eta_s_new,eta_n,rho_new,bc,gx,gy)\n",
    "    solution = L\\R\n",
    "    vx,vy,P = unpack(solution,grid;ghost=true)\n",
    "    vxc,vyc = velocity_to_centers(grid,vx,vy)\n",
    "    dt = compute_timestep(grid,vxc,vyc;dtmax=dtmax)\n",
    "    \n",
    "    # get temperature at cell centers\n",
    "    tmp = marker_to_cell_center(markers,grid,[\"T\",])\n",
    "    Tlast = tmp[1,:,:]\n",
    "    Tlast = ghost_temperature(grid,Tlast);\n",
    "\n",
    "    # assemble and solve the energy equation\n",
    "    L,R = assemble_energy_equation_center(grid,rho,Cp,kThermal,H,Tlast,dt);\n",
    "    Tnew = L\\R;\n",
    "    Tnew = reshape(Tnew,grid.ny,grid.nx);\n",
    "    Tnew = ghost_temperature(grid,Tnew);\n",
    "    \n",
    "    dTemp = Tnew-Tlast\n",
    "    dT_subgrid_node = subgrid_temperature_relaxation!(markers,grid,Tlast,Cp[1,1],kThermal[1,1],dt)\n",
    "    dT_remaining = dTemp - dT_subgrid_node\n",
    "    cell_center_change_to_markers!(markers,grid,dT_remaining,\"T\")\n",
    "    \n",
    "    if time == 0.0 || time - last_plot >= plot_interval\n",
    "        last_plot = time \n",
    "        name = @sprintf(\"output_chapter11/viz.%04d.vtr\",iout)\n",
    "        eta_s = zeros(grid.ny,grid.nx)\n",
    "        vn = velocity_to_basic_nodes(grid,vxc,vyc)\n",
    "\n",
    "        visualization(grid,rho,eta_s,vn,P,Tnew,time/seconds_in_year;filename=name)\n",
    "        name = @sprintf(\"output_chapter11/markers.%04d.vtp\",iout)\n",
    "        visualization(markers,time/seconds_in_year;filename=name)\n",
    "        iout += 1\n",
    "    end\n",
    "    \n",
    "    move_markers_rk2!(markers,grid,vxc,vyc,dt)\n",
    "    time += dt\n",
    "end"
   ]
  },
  {
   "cell_type": "code",
   "execution_count": 9,
   "id": "434d7e78",
   "metadata": {},
   "outputs": [
    {
     "name": "stdout",
     "output_type": "stream",
     "text": [
      "Creating Markers...\n",
      "Initial condition...\n",
      "  0.000219 seconds\n",
      "10000"
     ]
    },
    {
     "data": {
      "application/vnd.vegalite.v4+json": {
       "data": {
        "values": [
         {
          "level": 0,
          "sf": "ip:0x0",
          "status": "Garbage collection",
          "x1": 1,
          "x2": 3403.9
         },
         {
          "level": 1,
          "sf": "(::IJulia.var\"#15#18\")() at task.jl:423",
          "status": "Default",
          "x1": 4,
          "x2": 155.9
         },
         {
          "level": 2,
          "sf": "eventloop(socket::ZMQ.Socket) at eventloop.jl:8",
          "status": "Default",
          "x1": 4,
          "x2": 155.9
         },
         {
          "level": 3,
          "sf": "invokelatest at essentials.jl:714 [inlined]",
          "status": "Default",
          "x1": 4,
          "x2": 155.9
         },
         {
          "level": 4,
          "sf": "#invokelatest#2 at essentials.jl:716 [inlined]",
          "status": "Runtime dispatch",
          "x1": 4,
          "x2": 155.9
         },
         {
          "level": 5,
          "sf": "execute_request(socket::ZMQ.Socket, msg::IJulia.Msg) at execute_request.jl:67",
          "status": "Runtime dispatch",
          "x1": 4,
          "x2": 155.9
         },
         {
          "level": 6,
          "sf": "softscope_include_string(m::Module, code::String, filename::String) at SoftGlobalScope.jl:65",
          "status": "Default",
          "x1": 4,
          "x2": 155.9
         },
         {
          "level": 7,
          "sf": "include_string(mapexpr::typeof(REPL.softscope), mod::Module, code::String, filename::String) at loading.jl:1196",
          "status": "Default",
          "x1": 4,
          "x2": 155.9
         },
         {
          "level": 8,
          "sf": "eval at boot.jl:373 [inlined]",
          "status": "Runtime dispatch",
          "x1": 4,
          "x2": 155.9
         },
         {
          "level": 9,
          "sf": "typeinf_ext_toplevel(mi::Core.MethodInstance, world::UInt64) at typeinfer.jl:938",
          "status": "Default",
          "x1": 4,
          "x2": 49.9
         },
         {
          "level": 10,
          "sf": "typeinf_ext_toplevel(interp::Core.Compiler.NativeInterpreter, linfo::Core.MethodInstance) at typeinfer.jl:942",
          "status": "Default",
          "x1": 4,
          "x2": 49.9
         },
         {
          "level": 11,
          "sf": "typeinf_ext(interp::Core.Compiler.NativeInterpreter, mi::Core.MethodInstance) at typeinfer.jl:909",
          "status": "Default",
          "x1": 4,
          "x2": 49.9
         },
         {
          "level": 12,
          "sf": "typeinf(interp::Core.Compiler.NativeInterpreter, frame::Core.Compiler.InferenceState) at typeinfer.jl:209",
          "status": "Default",
          "x1": 4,
          "x2": 49.9
         },
         {
          "level": 13,
          "sf": "_typeinf(interp::Core.Compiler.NativeInterpreter, frame::Core.Compiler.InferenceState) at typeinfer.jl:226",
          "status": "Default",
          "x1": 4,
          "x2": 46.9
         },
         {
          "level": 14,
          "sf": "typeinf_nocycle(interp::Core.Compiler.NativeInterpreter, frame::Core.Compiler.InferenceState) at abstractinterpretation.jl:2014",
          "status": "Default",
          "x1": 4,
          "x2": 46.9
         },
         {
          "level": 15,
          "sf": "typeinf_local(interp::Core.Compiler.NativeInterpreter, frame::Core.Compiler.InferenceState) at abstractinterpretation.jl:1900",
          "status": "Default",
          "x1": 4,
          "x2": 39.9
         },
         {
          "level": 16,
          "sf": "abstract_eval_statement(interp::Core.Compiler.NativeInterpreter, e::Any, vtypes::Vector{Any}, sv::Core.Compiler.InferenceState) at abstractinterpretation.jl:1534",
          "status": "Default",
          "x1": 4,
          "x2": 39.9
         },
         {
          "level": 17,
          "sf": "abstract_call(interp::Core.Compiler.NativeInterpreter, fargs::Vector{Any}, argtypes::Vector{Any}, sv::Core.Compiler.InferenceState) at abstractinterpretation.jl:1382",
          "status": "Default",
          "x1": 4,
          "x2": 39.9
         },
         {
          "level": 18,
          "sf": "abstract_call(interp::Core.Compiler.NativeInterpreter, fargs::Vector{Any}, argtypes::Vector{Any}, sv::Core.Compiler.InferenceState, max_methods::Int64) at abstractinterpretation.jl:1397",
          "status": "Default",
          "x1": 4,
          "x2": 39.9
         },
         {
          "level": 19,
          "sf": "abstract_call_known(interp::Core.Compiler.NativeInterpreter, f::Any, fargs::Vector{Any}, argtypes::Vector{Any}, sv::Core.Compiler.InferenceState, max_methods::Int64) at abstractinterpretation.jl:1342",
          "status": "Default",
          "x1": 4,
          "x2": 39.9
         },
         {
          "level": 20,
          "sf": "abstract_call_gf_by_type(interp::Core.Compiler.NativeInterpreter, f::Any, fargs::Vector{Any}, argtypes::Vector{Any}, atype::Any, sv::Core.Compiler.InferenceState, max_methods::Int64) at abstractinterpretation.jl:113",
          "status": "Default",
          "x1": 4,
          "x2": 39.9
         },
         {
          "level": 21,
          "sf": "abstract_call_method_with_const_args(interp::Core.Compiler.NativeInterpreter, result::Core.Compiler.MethodCallResult, f::Any, argtypes::Vector{Any}, match::Core.MethodMatch, sv::Core.Compiler.InferenceState, va_override::Bool) at abstractinterpretation.jl:557",
          "status": "Default",
          "x1": 4,
          "x2": 39.9
         },
         {
          "level": 22,
          "sf": "typeinf(interp::Core.Compiler.NativeInterpreter, frame::Core.Compiler.InferenceState) at typeinfer.jl:209",
          "status": "Default",
          "x1": 4,
          "x2": 39.9
         },
         {
          "level": 23,
          "sf": "_typeinf(interp::Core.Compiler.NativeInterpreter, frame::Core.Compiler.InferenceState) at typeinfer.jl:226",
          "status": "Default",
          "x1": 4,
          "x2": 36.9
         },
         {
          "level": 24,
          "sf": "typeinf_nocycle(interp::Core.Compiler.NativeInterpreter, frame::Core.Compiler.InferenceState) at abstractinterpretation.jl:2014",
          "status": "Default",
          "x1": 4,
          "x2": 36.9
         },
         {
          "level": 25,
          "sf": "typeinf_local(interp::Core.Compiler.NativeInterpreter, frame::Core.Compiler.InferenceState) at abstractinterpretation.jl:1900",
          "status": "Default",
          "x1": 4,
          "x2": 12.9
         },
         {
          "level": 26,
          "sf": "abstract_eval_statement(interp::Core.Compiler.NativeInterpreter, e::Any, vtypes::Vector{Any}, sv::Core.Compiler.InferenceState) at abstractinterpretation.jl:1534",
          "status": "Default",
          "x1": 4,
          "x2": 12.9
         },
         {
          "level": 27,
          "sf": "abstract_call(interp::Core.Compiler.NativeInterpreter, fargs::Vector{Any}, argtypes::Vector{Any}, sv::Core.Compiler.InferenceState) at abstractinterpretation.jl:1382",
          "status": "Default",
          "x1": 4,
          "x2": 12.9
         },
         {
          "level": 28,
          "sf": "abstract_call(interp::Core.Compiler.NativeInterpreter, fargs::Vector{Any}, argtypes::Vector{Any}, sv::Core.Compiler.InferenceState, max_methods::Int64) at abstractinterpretation.jl:1397",
          "status": "Default",
          "x1": 4,
          "x2": 12.9
         },
         {
          "level": 29,
          "sf": "abstract_call_known(interp::Core.Compiler.NativeInterpreter, f::Any, fargs::Vector{Any}, argtypes::Vector{Any}, sv::Core.Compiler.InferenceState, max_methods::Int64) at abstractinterpretation.jl:1249",
          "status": "Default",
          "x1": 4,
          "x2": 12.9
         },
         {
          "level": 30,
          "sf": "abstract_apply(interp::Core.Compiler.NativeInterpreter, argtypes::Vector{Any}, sv::Core.Compiler.InferenceState, max_methods::Int64) at abstractinterpretation.jl:987",
          "status": "Default",
          "x1": 4,
          "x2": 12.9
         },
         {
          "level": 31,
          "sf": "abstract_call(interp::Core.Compiler.NativeInterpreter, fargs::Nothing, argtypes::Vector{Any}, sv::Core.Compiler.InferenceState, max_methods::Int64) at abstractinterpretation.jl:1397",
          "status": "Default",
          "x1": 4,
          "x2": 12.9
         },
         {
          "level": 32,
          "sf": "abstract_call_known(interp::Core.Compiler.NativeInterpreter, f::Any, fargs::Nothing, argtypes::Vector{Any}, sv::Core.Compiler.InferenceState, max_methods::Int64) at abstractinterpretation.jl:1342",
          "status": "Default",
          "x1": 4,
          "x2": 12.9
         },
         {
          "level": 33,
          "sf": "abstract_call_gf_by_type(interp::Core.Compiler.NativeInterpreter, f::Any, fargs::Nothing, argtypes::Vector{Any}, atype::Any, sv::Core.Compiler.InferenceState, max_methods::Int64) at abstractinterpretation.jl:113",
          "status": "Default",
          "x1": 4,
          "x2": 12.9
         },
         {
          "level": 34,
          "sf": "abstract_call_method_with_const_args(interp::Core.Compiler.NativeInterpreter, result::Core.Compiler.MethodCallResult, f::Any, argtypes::Vector{Any}, match::Core.MethodMatch, sv::Core.Compiler.InferenceState, va_override::Bool) at abstractinterpretation.jl:557",
          "status": "Default",
          "x1": 4,
          "x2": 12.9
         },
         {
          "level": 35,
          "sf": "typeinf(interp::Core.Compiler.NativeInterpreter, frame::Core.Compiler.InferenceState) at typeinfer.jl:209",
          "status": "Default",
          "x1": 4,
          "x2": 12.9
         },
         {
          "level": 36,
          "sf": "_typeinf(interp::Core.Compiler.NativeInterpreter, frame::Core.Compiler.InferenceState) at typeinfer.jl:226",
          "status": "Default",
          "x1": 4,
          "x2": 10.9
         },
         {
          "level": 37,
          "sf": "typeinf_nocycle(interp::Core.Compiler.NativeInterpreter, frame::Core.Compiler.InferenceState) at abstractinterpretation.jl:2014",
          "status": "Default",
          "x1": 4,
          "x2": 10.9
         },
         {
          "level": 38,
          "sf": "typeinf_local(interp::Core.Compiler.NativeInterpreter, frame::Core.Compiler.InferenceState) at abstractinterpretation.jl:1900",
          "status": "Default",
          "x1": 4,
          "x2": 8.9
         },
         {
          "level": 39,
          "sf": "abstract_eval_statement(interp::Core.Compiler.NativeInterpreter, e::Any, vtypes::Vector{Any}, sv::Core.Compiler.InferenceState) at abstractinterpretation.jl:1534",
          "status": "Default",
          "x1": 4,
          "x2": 8.9
         },
         {
          "level": 40,
          "sf": "abstract_call(interp::Core.Compiler.NativeInterpreter, fargs::Vector{Any}, argtypes::Vector{Any}, sv::Core.Compiler.InferenceState) at abstractinterpretation.jl:1382",
          "status": "Default",
          "x1": 4,
          "x2": 8.9
         },
         {
          "level": 41,
          "sf": "abstract_call(interp::Core.Compiler.NativeInterpreter, fargs::Vector{Any}, argtypes::Vector{Any}, sv::Core.Compiler.InferenceState, max_methods::Int64) at abstractinterpretation.jl:1397",
          "status": "Default",
          "x1": 4,
          "x2": 8.9
         },
         {
          "level": 42,
          "sf": "abstract_call_known(interp::Core.Compiler.NativeInterpreter, f::Any, fargs::Vector{Any}, argtypes::Vector{Any}, sv::Core.Compiler.InferenceState, max_methods::Int64) at abstractinterpretation.jl:1342",
          "status": "Default",
          "x1": 4,
          "x2": 8.9
         },
         {
          "level": 43,
          "sf": "abstract_call_gf_by_type(interp::Core.Compiler.NativeInterpreter, f::Any, fargs::Vector{Any}, argtypes::Vector{Any}, atype::Any, sv::Core.Compiler.InferenceState, max_methods::Int64) at abstractinterpretation.jl:113",
          "status": "Default",
          "x1": 4,
          "x2": 8.9
         },
         {
          "level": 44,
          "sf": "abstract_call_method_with_const_args(interp::Core.Compiler.NativeInterpreter, result::Core.Compiler.MethodCallResult, f::Any, argtypes::Vector{Any}, match::Core.MethodMatch, sv::Core.Compiler.InferenceState, va_override::Bool) at abstractinterpretation.jl:557",
          "status": "Default",
          "x1": 4,
          "x2": 8.9
         },
         {
          "level": 45,
          "sf": "typeinf(interp::Core.Compiler.NativeInterpreter, frame::Core.Compiler.InferenceState) at typeinfer.jl:209",
          "status": "Default",
          "x1": 4,
          "x2": 8.9
         },
         {
          "level": 46,
          "sf": "_typeinf(interp::Core.Compiler.NativeInterpreter, frame::Core.Compiler.InferenceState) at typeinfer.jl:226",
          "status": "Default",
          "x1": 4,
          "x2": 7.9
         },
         {
          "level": 47,
          "sf": "typeinf_nocycle(interp::Core.Compiler.NativeInterpreter, frame::Core.Compiler.InferenceState) at abstractinterpretation.jl:2014",
          "status": "Default",
          "x1": 4,
          "x2": 7.9
         },
         {
          "level": 48,
          "sf": "typeinf_local(interp::Core.Compiler.NativeInterpreter, frame::Core.Compiler.InferenceState) at abstractinterpretation.jl:1900",
          "status": "Default",
          "x1": 4,
          "x2": 5.9
         },
         {
          "level": 49,
          "sf": "abstract_eval_statement(interp::Core.Compiler.NativeInterpreter, e::Any, vtypes::Vector{Any}, sv::Core.Compiler.InferenceState) at abstractinterpretation.jl:1534",
          "status": "Default",
          "x1": 4,
          "x2": 5.9
         },
         {
          "level": 50,
          "sf": "abstract_call(interp::Core.Compiler.NativeInterpreter, fargs::Vector{Any}, argtypes::Vector{Any}, sv::Core.Compiler.InferenceState) at abstractinterpretation.jl:1382",
          "status": "Default",
          "x1": 4,
          "x2": 5.9
         },
         {
          "level": 51,
          "sf": "abstract_call(interp::Core.Compiler.NativeInterpreter, fargs::Vector{Any}, argtypes::Vector{Any}, sv::Core.Compiler.InferenceState, max_methods::Int64) at abstractinterpretation.jl:1397",
          "status": "Default",
          "x1": 4,
          "x2": 5.9
         },
         {
          "level": 52,
          "sf": "abstract_call_known(interp::Core.Compiler.NativeInterpreter, f::Any, fargs::Vector{Any}, argtypes::Vector{Any}, sv::Core.Compiler.InferenceState, max_methods::Int64) at abstractinterpretation.jl:1342",
          "status": "Default",
          "x1": 4,
          "x2": 5.9
         },
         {
          "level": 53,
          "sf": "abstract_call_gf_by_type(interp::Core.Compiler.NativeInterpreter, f::Any, fargs::Vector{Any}, argtypes::Vector{Any}, atype::Any, sv::Core.Compiler.InferenceState, max_methods::Int64) at abstractinterpretation.jl:113",
          "status": "Default",
          "x1": 4,
          "x2": 5.9
         },
         {
          "level": 54,
          "sf": "abstract_call_method_with_const_args(interp::Core.Compiler.NativeInterpreter, result::Core.Compiler.MethodCallResult, f::Any, argtypes::Vector{Any}, match::Core.MethodMatch, sv::Core.Compiler.InferenceState, va_override::Bool) at abstractinterpretation.jl:557",
          "status": "Default",
          "x1": 4,
          "x2": 5.9
         },
         {
          "level": 55,
          "sf": "typeinf(interp::Core.Compiler.NativeInterpreter, frame::Core.Compiler.InferenceState) at typeinfer.jl:209",
          "status": "Default",
          "x1": 4,
          "x2": 5.9
         },
         {
          "level": 56,
          "sf": "_typeinf(interp::Core.Compiler.NativeInterpreter, frame::Core.Compiler.InferenceState) at typeinfer.jl:226",
          "status": "Default",
          "x1": 4,
          "x2": 5.9
         },
         {
          "level": 57,
          "sf": "typeinf_nocycle(interp::Core.Compiler.NativeInterpreter, frame::Core.Compiler.InferenceState) at abstractinterpretation.jl:2014",
          "status": "Default",
          "x1": 4,
          "x2": 5.9
         },
         {
          "level": 58,
          "sf": "typeinf_local(interp::Core.Compiler.NativeInterpreter, frame::Core.Compiler.InferenceState) at abstractinterpretation.jl:1918",
          "status": "Default",
          "x1": 4,
          "x2": 5.9
         },
         {
          "level": 59,
          "sf": "abstract_eval_statement(interp::Core.Compiler.NativeInterpreter, e::Any, vtypes::Vector{Any}, sv::Core.Compiler.InferenceState) at abstractinterpretation.jl:1534",
          "status": "Default",
          "x1": 4,
          "x2": 5.9
         },
         {
          "level": 60,
          "sf": "abstract_call(interp::Core.Compiler.NativeInterpreter, fargs::Vector{Any}, argtypes::Vector{Any}, sv::Core.Compiler.InferenceState) at abstractinterpretation.jl:1382",
          "status": "Default",
          "x1": 4,
          "x2": 5.9
         },
         {
          "level": 61,
          "sf": "abstract_call(interp::Core.Compiler.NativeInterpreter, fargs::Vector{Any}, argtypes::Vector{Any}, sv::Core.Compiler.InferenceState, max_methods::Int64) at abstractinterpretation.jl:1397",
          "status": "Default",
          "x1": 4,
          "x2": 5.9
         },
         {
          "level": 62,
          "sf": "abstract_call_known(interp::Core.Compiler.NativeInterpreter, f::Any, fargs::Vector{Any}, argtypes::Vector{Any}, sv::Core.Compiler.InferenceState, max_methods::Int64) at abstractinterpretation.jl:1249",
          "status": "Default",
          "x1": 4,
          "x2": 4.9
         },
         {
          "level": 63,
          "sf": "abstract_apply(interp::Core.Compiler.NativeInterpreter, argtypes::Vector{Any}, sv::Core.Compiler.InferenceState, max_methods::Int64) at abstractinterpretation.jl:987",
          "status": "Default",
          "x1": 4,
          "x2": 4.9
         },
         {
          "level": 64,
          "sf": "abstract_call(interp::Core.Compiler.NativeInterpreter, fargs::Nothing, argtypes::Vector{Any}, sv::Core.Compiler.InferenceState, max_methods::Int64) at abstractinterpretation.jl:1397",
          "status": "Default",
          "x1": 4,
          "x2": 4.9
         },
         {
          "level": 65,
          "sf": "abstract_call_known(interp::Core.Compiler.NativeInterpreter, f::Any, fargs::Nothing, argtypes::Vector{Any}, sv::Core.Compiler.InferenceState, max_methods::Int64) at abstractinterpretation.jl:1342",
          "status": "Default",
          "x1": 4,
          "x2": 4.9
         },
         {
          "level": 66,
          "sf": "abstract_call_gf_by_type(interp::Core.Compiler.NativeInterpreter, f::Any, fargs::Nothing, argtypes::Vector{Any}, atype::Any, sv::Core.Compiler.InferenceState, max_methods::Int64) at abstractinterpretation.jl:113",
          "status": "Default",
          "x1": 4,
          "x2": 4.9
         },
         {
          "level": 67,
          "sf": "abstract_call_method_with_const_args(interp::Core.Compiler.NativeInterpreter, result::Core.Compiler.MethodCallResult, f::Any, argtypes::Vector{Any}, match::Core.MethodMatch, sv::Core.Compiler.InferenceState, va_override::Bool) at abstractinterpretation.jl:553",
          "status": "Default",
          "x1": 4,
          "x2": 4.9
         },
         {
          "level": 68,
          "sf": "Core.Compiler.InferenceState(result::Core.Compiler.InferenceResult, cached::Bool, interp::Core.Compiler.NativeInterpreter) at inferencestate.jl:237",
          "status": "Default",
          "x1": 4,
          "x2": 4.9
         },
         {
          "level": 69,
          "sf": "Core.Compiler.InferenceState(result::Core.Compiler.InferenceResult, src::Core.CodeInfo, cached::Bool, interp::Core.Compiler.NativeInterpreter) at inferencestate.jl:84",
          "status": "Default",
          "x1": 4,
          "x2": 4.9
         },
         {
          "level": 70,
          "sf": "find_ssavalue_uses(body::Vector{Any}, nvals::Int64) at utilities.jl:266",
          "status": "Default",
          "x1": 4,
          "x2": 4.9
         },
         {
          "level": 71,
          "sf": "BitSet at bitset.jl:18 [inlined]",
          "status": "Default",
          "x1": 4,
          "x2": 4.9
         },
         {
          "level": 72,
          "sf": "sizehint! at array.jl:1204 [inlined]",
          "status": "Default",
          "x1": 4,
          "x2": 4.9
         },
         {
          "level": 62,
          "sf": "abstract_call_known(interp::Core.Compiler.NativeInterpreter, f::Any, fargs::Vector{Any}, argtypes::Vector{Any}, sv::Core.Compiler.InferenceState, max_methods::Int64) at abstractinterpretation.jl:1342",
          "status": "Default",
          "x1": 5,
          "x2": 5.9
         },
         {
          "level": 63,
          "sf": "abstract_call_gf_by_type(interp::Core.Compiler.NativeInterpreter, f::Any, fargs::Vector{Any}, argtypes::Vector{Any}, atype::Any, sv::Core.Compiler.InferenceState, max_methods::Int64) at abstractinterpretation.jl:113",
          "status": "Default",
          "x1": 5,
          "x2": 5.9
         },
         {
          "level": 64,
          "sf": "abstract_call_method_with_const_args(interp::Core.Compiler.NativeInterpreter, result::Core.Compiler.MethodCallResult, f::Any, argtypes::Vector{Any}, match::Core.MethodMatch, sv::Core.Compiler.InferenceState, va_override::Bool) at abstractinterpretation.jl:557",
          "status": "Default",
          "x1": 5,
          "x2": 5.9
         },
         {
          "level": 65,
          "sf": "typeinf(interp::Core.Compiler.NativeInterpreter, frame::Core.Compiler.InferenceState) at typeinfer.jl:209",
          "status": "Default",
          "x1": 5,
          "x2": 5.9
         },
         {
          "level": 66,
          "sf": "_typeinf(interp::Core.Compiler.NativeInterpreter, frame::Core.Compiler.InferenceState) at typeinfer.jl:226",
          "status": "Default",
          "x1": 5,
          "x2": 5.9
         },
         {
          "level": 67,
          "sf": "typeinf_nocycle(interp::Core.Compiler.NativeInterpreter, frame::Core.Compiler.InferenceState) at abstractinterpretation.jl:2014",
          "status": "Default",
          "x1": 5,
          "x2": 5.9
         },
         {
          "level": 68,
          "sf": "typeinf_local(interp::Core.Compiler.NativeInterpreter, frame::Core.Compiler.InferenceState) at abstractinterpretation.jl:1918",
          "status": "Default",
          "x1": 5,
          "x2": 5.9
         },
         {
          "level": 69,
          "sf": "abstract_eval_statement(interp::Core.Compiler.NativeInterpreter, e::Any, vtypes::Vector{Any}, sv::Core.Compiler.InferenceState) at abstractinterpretation.jl:1534",
          "status": "Default",
          "x1": 5,
          "x2": 5.9
         },
         {
          "level": 70,
          "sf": "abstract_call(interp::Core.Compiler.NativeInterpreter, fargs::Vector{Any}, argtypes::Vector{Any}, sv::Core.Compiler.InferenceState) at abstractinterpretation.jl:1382",
          "status": "Default",
          "x1": 5,
          "x2": 5.9
         },
         {
          "level": 71,
          "sf": "abstract_call(interp::Core.Compiler.NativeInterpreter, fargs::Vector{Any}, argtypes::Vector{Any}, sv::Core.Compiler.InferenceState, max_methods::Int64) at abstractinterpretation.jl:1397",
          "status": "Default",
          "x1": 5,
          "x2": 5.9
         },
         {
          "level": 72,
          "sf": "abstract_call_known(interp::Core.Compiler.NativeInterpreter, f::Any, fargs::Vector{Any}, argtypes::Vector{Any}, sv::Core.Compiler.InferenceState, max_methods::Int64) at abstractinterpretation.jl:1342",
          "status": "Default",
          "x1": 5,
          "x2": 5.9
         },
         {
          "level": 73,
          "sf": "abstract_call_gf_by_type(interp::Core.Compiler.NativeInterpreter, f::Any, fargs::Vector{Any}, argtypes::Vector{Any}, atype::Any, sv::Core.Compiler.InferenceState, max_methods::Int64) at abstractinterpretation.jl:113",
          "status": "Default",
          "x1": 5,
          "x2": 5.9
         },
         {
          "level": 74,
          "sf": "abstract_call_method_with_const_args(interp::Core.Compiler.NativeInterpreter, result::Core.Compiler.MethodCallResult, f::Any, argtypes::Vector{Any}, match::Core.MethodMatch, sv::Core.Compiler.InferenceState, va_override::Bool) at abstractinterpretation.jl:557",
          "status": "Default",
          "x1": 5,
          "x2": 5.9
         },
         {
          "level": 75,
          "sf": "typeinf(interp::Core.Compiler.NativeInterpreter, frame::Core.Compiler.InferenceState) at typeinfer.jl:209",
          "status": "Default",
          "x1": 5,
          "x2": 5.9
         },
         {
          "level": 76,
          "sf": "_typeinf(interp::Core.Compiler.NativeInterpreter, frame::Core.Compiler.InferenceState) at typeinfer.jl:261",
          "status": "Default",
          "x1": 5,
          "x2": 5.9
         },
         {
          "level": 77,
          "sf": "ir_to_codeinf! at optimize.jl:111 [inlined]",
          "status": "Default",
          "x1": 5,
          "x2": 5.9
         },
         {
          "level": 48,
          "sf": "typeinf_local(interp::Core.Compiler.NativeInterpreter, frame::Core.Compiler.InferenceState) at abstractinterpretation.jl:1918",
          "status": "Default",
          "x1": 6,
          "x2": 7.9
         },
         {
          "level": 49,
          "sf": "abstract_eval_statement(interp::Core.Compiler.NativeInterpreter, e::Any, vtypes::Vector{Any}, sv::Core.Compiler.InferenceState) at abstractinterpretation.jl:1534",
          "status": "Default",
          "x1": 6,
          "x2": 7.9
         },
         {
          "level": 50,
          "sf": "abstract_call(interp::Core.Compiler.NativeInterpreter, fargs::Vector{Any}, argtypes::Vector{Any}, sv::Core.Compiler.InferenceState) at abstractinterpretation.jl:1382",
          "status": "Default",
          "x1": 6,
          "x2": 7.9
         },
         {
          "level": 51,
          "sf": "abstract_call(interp::Core.Compiler.NativeInterpreter, fargs::Vector{Any}, argtypes::Vector{Any}, sv::Core.Compiler.InferenceState, max_methods::Int64) at abstractinterpretation.jl:1397",
          "status": "Default",
          "x1": 6,
          "x2": 7.9
         },
         {
          "level": 52,
          "sf": "abstract_call_known(interp::Core.Compiler.NativeInterpreter, f::Any, fargs::Vector{Any}, argtypes::Vector{Any}, sv::Core.Compiler.InferenceState, max_methods::Int64) at abstractinterpretation.jl:1342",
          "status": "Default",
          "x1": 6,
          "x2": 7.9
         },
         {
          "level": 53,
          "sf": "abstract_call_gf_by_type(interp::Core.Compiler.NativeInterpreter, f::Any, fargs::Vector{Any}, argtypes::Vector{Any}, atype::Any, sv::Core.Compiler.InferenceState, max_methods::Int64) at abstractinterpretation.jl:113",
          "status": "Default",
          "x1": 6,
          "x2": 7.9
         },
         {
          "level": 54,
          "sf": "abstract_call_method_with_const_args(interp::Core.Compiler.NativeInterpreter, result::Core.Compiler.MethodCallResult, f::Any, argtypes::Vector{Any}, match::Core.MethodMatch, sv::Core.Compiler.InferenceState, va_override::Bool) at abstractinterpretation.jl:557",
          "status": "Default",
          "x1": 6,
          "x2": 7.9
         },
         {
          "level": 55,
          "sf": "typeinf(interp::Core.Compiler.NativeInterpreter, frame::Core.Compiler.InferenceState) at typeinfer.jl:209",
          "status": "Default",
          "x1": 6,
          "x2": 7.9
         },
         {
          "level": 56,
          "sf": "_typeinf(interp::Core.Compiler.NativeInterpreter, frame::Core.Compiler.InferenceState) at typeinfer.jl:226",
          "status": "Default",
          "x1": 6,
          "x2": 7.9
         },
         {
          "level": 57,
          "sf": "typeinf_nocycle(interp::Core.Compiler.NativeInterpreter, frame::Core.Compiler.InferenceState) at abstractinterpretation.jl:2014",
          "status": "Default",
          "x1": 6,
          "x2": 7.9
         },
         {
          "level": 58,
          "sf": "typeinf_local(interp::Core.Compiler.NativeInterpreter, frame::Core.Compiler.InferenceState) at abstractinterpretation.jl:1918",
          "status": "Default",
          "x1": 6,
          "x2": 7.9
         },
         {
          "level": 59,
          "sf": "abstract_eval_statement(interp::Core.Compiler.NativeInterpreter, e::Any, vtypes::Vector{Any}, sv::Core.Compiler.InferenceState) at abstractinterpretation.jl:1534",
          "status": "Default",
          "x1": 6,
          "x2": 7.9
         },
         {
          "level": 60,
          "sf": "abstract_call(interp::Core.Compiler.NativeInterpreter, fargs::Vector{Any}, argtypes::Vector{Any}, sv::Core.Compiler.InferenceState) at abstractinterpretation.jl:1382",
          "status": "Default",
          "x1": 6,
          "x2": 7.9
         },
         {
          "level": 61,
          "sf": "abstract_call(interp::Core.Compiler.NativeInterpreter, fargs::Vector{Any}, argtypes::Vector{Any}, sv::Core.Compiler.InferenceState, max_methods::Int64) at abstractinterpretation.jl:1397",
          "status": "Default",
          "x1": 6,
          "x2": 7.9
         },
         {
          "level": 62,
          "sf": "abstract_call_known(interp::Core.Compiler.NativeInterpreter, f::Any, fargs::Vector{Any}, argtypes::Vector{Any}, sv::Core.Compiler.InferenceState, max_methods::Int64) at abstractinterpretation.jl:1342",
          "status": "Default",
          "x1": 6,
          "x2": 7.9
         },
         {
          "level": 63,
          "sf": "abstract_call_gf_by_type(interp::Core.Compiler.NativeInterpreter, f::Any, fargs::Vector{Any}, argtypes::Vector{Any}, atype::Any, sv::Core.Compiler.InferenceState, max_methods::Int64) at abstractinterpretation.jl:113",
          "status": "Default",
          "x1": 6,
          "x2": 7.9
         },
         {
          "level": 64,
          "sf": "abstract_call_method_with_const_args(interp::Core.Compiler.NativeInterpreter, result::Core.Compiler.MethodCallResult, f::Any, argtypes::Vector{Any}, match::Core.MethodMatch, sv::Core.Compiler.InferenceState, va_override::Bool) at abstractinterpretation.jl:557",
          "status": "Default",
          "x1": 6,
          "x2": 7.9
         },
         {
          "level": 65,
          "sf": "typeinf(interp::Core.Compiler.NativeInterpreter, frame::Core.Compiler.InferenceState) at typeinfer.jl:209",
          "status": "Default",
          "x1": 6,
          "x2": 7.9
         },
         {
          "level": 66,
          "sf": "_typeinf(interp::Core.Compiler.NativeInterpreter, frame::Core.Compiler.InferenceState) at typeinfer.jl:226",
          "status": "Default",
          "x1": 6,
          "x2": 6.9
         },
         {
          "level": 67,
          "sf": "typeinf_nocycle(interp::Core.Compiler.NativeInterpreter, frame::Core.Compiler.InferenceState) at abstractinterpretation.jl:2014",
          "status": "Default",
          "x1": 6,
          "x2": 6.9
         },
         {
          "level": 68,
          "sf": "typeinf_local(interp::Core.Compiler.NativeInterpreter, frame::Core.Compiler.InferenceState) at abstractinterpretation.jl:1918",
          "status": "Default",
          "x1": 6,
          "x2": 6.9
         },
         {
          "level": 69,
          "sf": "abstract_eval_statement(interp::Core.Compiler.NativeInterpreter, e::Any, vtypes::Vector{Any}, sv::Core.Compiler.InferenceState) at abstractinterpretation.jl:1534",
          "status": "Default",
          "x1": 6,
          "x2": 6.9
         },
         {
          "level": 70,
          "sf": "abstract_call(interp::Core.Compiler.NativeInterpreter, fargs::Vector{Any}, argtypes::Vector{Any}, sv::Core.Compiler.InferenceState) at abstractinterpretation.jl:1382",
          "status": "Default",
          "x1": 6,
          "x2": 6.9
         },
         {
          "level": 71,
          "sf": "abstract_call(interp::Core.Compiler.NativeInterpreter, fargs::Vector{Any}, argtypes::Vector{Any}, sv::Core.Compiler.InferenceState, max_methods::Int64) at abstractinterpretation.jl:1397",
          "status": "Default",
          "x1": 6,
          "x2": 6.9
         },
         {
          "level": 72,
          "sf": "abstract_call_known(interp::Core.Compiler.NativeInterpreter, f::Any, fargs::Vector{Any}, argtypes::Vector{Any}, sv::Core.Compiler.InferenceState, max_methods::Int64) at abstractinterpretation.jl:1342",
          "status": "Default",
          "x1": 6,
          "x2": 6.9
         },
         {
          "level": 73,
          "sf": "abstract_call_gf_by_type(interp::Core.Compiler.NativeInterpreter, f::Any, fargs::Vector{Any}, argtypes::Vector{Any}, atype::Any, sv::Core.Compiler.InferenceState, max_methods::Int64) at abstractinterpretation.jl:113",
          "status": "Default",
          "x1": 6,
          "x2": 6.9
         },
         {
          "level": 74,
          "sf": "abstract_call_method_with_const_args(interp::Core.Compiler.NativeInterpreter, result::Core.Compiler.MethodCallResult, f::Any, argtypes::Vector{Any}, match::Core.MethodMatch, sv::Core.Compiler.InferenceState, va_override::Bool) at abstractinterpretation.jl:557",
          "status": "Default",
          "x1": 6,
          "x2": 6.9
         },
         {
          "level": 75,
          "sf": "typeinf(interp::Core.Compiler.NativeInterpreter, frame::Core.Compiler.InferenceState) at typeinfer.jl:209",
          "status": "Default",
          "x1": 6,
          "x2": 6.9
         },
         {
          "level": 76,
          "sf": "_typeinf(interp::Core.Compiler.NativeInterpreter, frame::Core.Compiler.InferenceState) at typeinfer.jl:226",
          "status": "Default",
          "x1": 6,
          "x2": 6.9
         },
         {
          "level": 77,
          "sf": "typeinf_nocycle(interp::Core.Compiler.NativeInterpreter, frame::Core.Compiler.InferenceState) at abstractinterpretation.jl:2014",
          "status": "Default",
          "x1": 6,
          "x2": 6.9
         },
         {
          "level": 78,
          "sf": "typeinf_local(interp::Core.Compiler.NativeInterpreter, frame::Core.Compiler.InferenceState) at abstractinterpretation.jl:1918",
          "status": "Default",
          "x1": 6,
          "x2": 6.9
         },
         {
          "level": 79,
          "sf": "abstract_eval_statement(interp::Core.Compiler.NativeInterpreter, e::Any, vtypes::Vector{Any}, sv::Core.Compiler.InferenceState) at abstractinterpretation.jl:1534",
          "status": "Default",
          "x1": 6,
          "x2": 6.9
         },
         {
          "level": 80,
          "sf": "abstract_call(interp::Core.Compiler.NativeInterpreter, fargs::Vector{Any}, argtypes::Vector{Any}, sv::Core.Compiler.InferenceState) at abstractinterpretation.jl:1382",
          "status": "Default",
          "x1": 6,
          "x2": 6.9
         },
         {
          "level": 81,
          "sf": "abstract_call(interp::Core.Compiler.NativeInterpreter, fargs::Vector{Any}, argtypes::Vector{Any}, sv::Core.Compiler.InferenceState, max_methods::Int64) at abstractinterpretation.jl:1397",
          "status": "Default",
          "x1": 6,
          "x2": 6.9
         },
         {
          "level": 82,
          "sf": "abstract_call_known(interp::Core.Compiler.NativeInterpreter, f::Any, fargs::Vector{Any}, argtypes::Vector{Any}, sv::Core.Compiler.InferenceState, max_methods::Int64) at abstractinterpretation.jl:1249",
          "status": "Default",
          "x1": 6,
          "x2": 6.9
         },
         {
          "level": 83,
          "sf": "abstract_apply(interp::Core.Compiler.NativeInterpreter, argtypes::Vector{Any}, sv::Core.Compiler.InferenceState, max_methods::Int64) at abstractinterpretation.jl:967",
          "status": "Default",
          "x1": 6,
          "x2": 6.9
         },
         {
          "level": 84,
          "sf": "push! at array.jl:995 [inlined]",
          "status": "Default",
          "x1": 6,
          "x2": 6.9
         },
         {
          "level": 85,
          "sf": "_growend! at array.jl:948 [inlined]",
          "status": "Garbage collection",
          "x1": 6,
          "x2": 6.9
         },
         {
          "level": 66,
          "sf": "_typeinf(interp::Core.Compiler.NativeInterpreter, frame::Core.Compiler.InferenceState) at typeinfer.jl:255",
          "status": "Default",
          "x1": 7,
          "x2": 7.9
         },
         {
          "level": 67,
          "sf": "optimize at optimize.jl:296 [inlined]",
          "status": "Default",
          "x1": 7,
          "x2": 7.9
         },
         {
          "level": 68,
          "sf": "run_passes(ci::Core.CodeInfo, nargs::Int64, sv::Core.Compiler.OptimizationState) at optimize.jl:307",
          "status": "Runtime dispatch",
          "x1": 7,
          "x2": 7.9
         },
         {
          "level": 69,
          "sf": "ssa_inlining_pass!(ir::Core.Compiler.IRCode, linetable::Vector{Core.LineInfoNode}, state::Core.Compiler.InliningState{Core.Compiler.EdgeTracker, Core.Compiler.WorldView{Core.Compiler.InternalCodeCache}, typeof(Core.Compiler.default_inlining_policy)}, propagate_inbounds::Bool) at inlining.jl:80",
          "status": "Default",
          "x1": 7,
          "x2": 7.9
         },
         {
          "level": 70,
          "sf": "assemble_inline_todo!(ir::Core.Compiler.IRCode, state::Core.Compiler.InliningState{Core.Compiler.EdgeTracker, Core.Compiler.WorldView{Core.Compiler.InternalCodeCache}, typeof(Core.Compiler.default_inlining_policy)}) at inlining.jl:1358",
          "status": "Default",
          "x1": 7,
          "x2": 7.9
         },
         {
          "level": 71,
          "sf": "process_simple!(ir::Core.Compiler.IRCode, todo::Vector{Pair{Int64, Any}}, idx::Int64, state::Core.Compiler.InliningState{Core.Compiler.EdgeTracker, Core.Compiler.WorldView{Core.Compiler.InternalCodeCache}, typeof(Core.Compiler.default_inlining_policy)}) at inlining.jl:1155",
          "status": "Default",
          "x1": 7,
          "x2": 7.9
         },
         {
          "level": 72,
          "sf": "call_sig(ir::Core.Compiler.IRCode, stmt::Expr) at inlining.jl:984",
          "status": "Default",
          "x1": 7,
          "x2": 7.9
         },
         {
          "level": 73,
          "sf": "Array at boot.jl:457 [inlined]",
          "status": "Default",
          "x1": 7,
          "x2": 7.9
         },
         {
          "level": 46,
          "sf": "_typeinf(interp::Core.Compiler.NativeInterpreter, frame::Core.Compiler.InferenceState) at typeinfer.jl:255",
          "status": "Default",
          "x1": 8,
          "x2": 8.9
         },
         {
          "level": 47,
          "sf": "optimize at optimize.jl:296 [inlined]",
          "status": "Default",
          "x1": 8,
          "x2": 8.9
         },
         {
          "level": 48,
          "sf": "run_passes(ci::Core.CodeInfo, nargs::Int64, sv::Core.Compiler.OptimizationState) at optimize.jl:302",
          "status": "Default",
          "x1": 8,
          "x2": 8.9
         },
         {
          "level": 49,
          "sf": "copy_exprargs(x::Vector{Any}) at expr.jl:64",
          "status": "Default",
          "x1": 8,
          "x2": 8.9
         },
         {
          "level": 50,
          "sf": "copy_exprs(x::Any) at expr.jl:42",
          "status": "Default",
          "x1": 8,
          "x2": 8.9
         },
         {
          "level": 51,
          "sf": "copy(e::Expr) at expr.jl:37",
          "status": "Default",
          "x1": 8,
          "x2": 8.9
         },
         {
          "level": 52,
          "sf": "copy_exprargs(x::Vector{Any}) at expr.jl:64",
          "status": "Default",
          "x1": 8,
          "x2": 8.9
         },
         {
          "level": 53,
          "sf": "_array_for at array.jl:616 [inlined]",
          "status": "Default",
          "x1": 8,
          "x2": 8.9
         },
         {
          "level": 54,
          "sf": "_array_for at array.jl:613 [inlined]",
          "status": "Default",
          "x1": 8,
          "x2": 8.9
         },
         {
          "level": 55,
          "sf": "similar at abstractarray.jl:828 [inlined]",
          "status": "Default",
          "x1": 8,
          "x2": 8.9
         },
         {
          "level": 56,
          "sf": "similar at abstractarray.jl:829 [inlined]",
          "status": "Default",
          "x1": 8,
          "x2": 8.9
         },
         {
          "level": 57,
          "sf": "Array at boot.jl:466 [inlined]",
          "status": "Default",
          "x1": 8,
          "x2": 8.9
         },
         {
          "level": 58,
          "sf": "Array at boot.jl:457 [inlined]",
          "status": "Garbage collection",
          "x1": 8,
          "x2": 8.9
         },
         {
          "level": 38,
          "sf": "typeinf_local(interp::Core.Compiler.NativeInterpreter, frame::Core.Compiler.InferenceState) at abstractinterpretation.jl:1918",
          "status": "Default",
          "x1": 9,
          "x2": 10.9
         },
         {
          "level": 39,
          "sf": "abstract_eval_statement(interp::Core.Compiler.NativeInterpreter, e::Any, vtypes::Vector{Any}, sv::Core.Compiler.InferenceState) at abstractinterpretation.jl:1534",
          "status": "Default",
          "x1": 9,
          "x2": 10.9
         },
         {
          "level": 40,
          "sf": "abstract_call(interp::Core.Compiler.NativeInterpreter, fargs::Vector{Any}, argtypes::Vector{Any}, sv::Core.Compiler.InferenceState) at abstractinterpretation.jl:1382",
          "status": "Default",
          "x1": 9,
          "x2": 10.9
         },
         {
          "level": 41,
          "sf": "abstract_call(interp::Core.Compiler.NativeInterpreter, fargs::Vector{Any}, argtypes::Vector{Any}, sv::Core.Compiler.InferenceState, max_methods::Int64) at abstractinterpretation.jl:1397",
          "status": "Default",
          "x1": 9,
          "x2": 10.9
         },
         {
          "level": 42,
          "sf": "abstract_call_known(interp::Core.Compiler.NativeInterpreter, f::Any, fargs::Vector{Any}, argtypes::Vector{Any}, sv::Core.Compiler.InferenceState, max_methods::Int64) at abstractinterpretation.jl:1342",
          "status": "Default",
          "x1": 9,
          "x2": 10.9
         },
         {
          "level": 43,
          "sf": "abstract_call_gf_by_type(interp::Core.Compiler.NativeInterpreter, f::Any, fargs::Vector{Any}, argtypes::Vector{Any}, atype::Any, sv::Core.Compiler.InferenceState, max_methods::Int64) at abstractinterpretation.jl:53",
          "status": "Default",
          "x1": 9,
          "x2": 9.9
         },
         {
          "level": 44,
          "sf": "getindex at array.jl:411 [inlined]",
          "status": "Default",
          "x1": 9,
          "x2": 9.9
         },
         {
          "level": 45,
          "sf": "Array at boot.jl:476 [inlined]",
          "status": "Default",
          "x1": 9,
          "x2": 9.9
         },
         {
          "level": 46,
          "sf": "Array at boot.jl:457 [inlined]",
          "status": "Default",
          "x1": 9,
          "x2": 9.9
         },
         {
          "level": 43,
          "sf": "abstract_call_gf_by_type(interp::Core.Compiler.NativeInterpreter, f::Any, fargs::Vector{Any}, argtypes::Vector{Any}, atype::Any, sv::Core.Compiler.InferenceState, max_methods::Int64) at abstractinterpretation.jl:113",
          "status": "Default",
          "x1": 10,
          "x2": 10.9
         },
         {
          "level": 44,
          "sf": "abstract_call_method_with_const_args(interp::Core.Compiler.NativeInterpreter, result::Core.Compiler.MethodCallResult, f::Any, argtypes::Vector{Any}, match::Core.MethodMatch, sv::Core.Compiler.InferenceState, va_override::Bool) at abstractinterpretation.jl:557",
          "status": "Default",
          "x1": 10,
          "x2": 10.9
         },
         {
          "level": 45,
          "sf": "typeinf(interp::Core.Compiler.NativeInterpreter, frame::Core.Compiler.InferenceState) at typeinfer.jl:209",
          "status": "Default",
          "x1": 10,
          "x2": 10.9
         },
         {
          "level": 46,
          "sf": "_typeinf(interp::Core.Compiler.NativeInterpreter, frame::Core.Compiler.InferenceState) at typeinfer.jl:226",
          "status": "Default",
          "x1": 10,
          "x2": 10.9
         },
         {
          "level": 47,
          "sf": "typeinf_nocycle(interp::Core.Compiler.NativeInterpreter, frame::Core.Compiler.InferenceState) at abstractinterpretation.jl:2014",
          "status": "Default",
          "x1": 10,
          "x2": 10.9
         },
         {
          "level": 48,
          "sf": "typeinf_local(interp::Core.Compiler.NativeInterpreter, frame::Core.Compiler.InferenceState) at abstractinterpretation.jl:1918",
          "status": "Default",
          "x1": 10,
          "x2": 10.9
         },
         {
          "level": 49,
          "sf": "abstract_eval_statement(interp::Core.Compiler.NativeInterpreter, e::Any, vtypes::Vector{Any}, sv::Core.Compiler.InferenceState) at abstractinterpretation.jl:1534",
          "status": "Default",
          "x1": 10,
          "x2": 10.9
         },
         {
          "level": 50,
          "sf": "abstract_call(interp::Core.Compiler.NativeInterpreter, fargs::Vector{Any}, argtypes::Vector{Any}, sv::Core.Compiler.InferenceState) at abstractinterpretation.jl:1382",
          "status": "Default",
          "x1": 10,
          "x2": 10.9
         },
         {
          "level": 51,
          "sf": "abstract_call(interp::Core.Compiler.NativeInterpreter, fargs::Vector{Any}, argtypes::Vector{Any}, sv::Core.Compiler.InferenceState, max_methods::Int64) at abstractinterpretation.jl:1397",
          "status": "Default",
          "x1": 10,
          "x2": 10.9
         },
         {
          "level": 52,
          "sf": "abstract_call_known(interp::Core.Compiler.NativeInterpreter, f::Any, fargs::Vector{Any}, argtypes::Vector{Any}, sv::Core.Compiler.InferenceState, max_methods::Int64) at abstractinterpretation.jl:1342",
          "status": "Default",
          "x1": 10,
          "x2": 10.9
         },
         {
          "level": 53,
          "sf": "abstract_call_gf_by_type(interp::Core.Compiler.NativeInterpreter, f::Any, fargs::Vector{Any}, argtypes::Vector{Any}, atype::Any, sv::Core.Compiler.InferenceState, max_methods::Int64) at abstractinterpretation.jl:113",
          "status": "Default",
          "x1": 10,
          "x2": 10.9
         },
         {
          "level": 54,
          "sf": "abstract_call_method_with_const_args(interp::Core.Compiler.NativeInterpreter, result::Core.Compiler.MethodCallResult, f::Any, argtypes::Vector{Any}, match::Core.MethodMatch, sv::Core.Compiler.InferenceState, va_override::Bool) at abstractinterpretation.jl:557",
          "status": "Default",
          "x1": 10,
          "x2": 10.9
         },
         {
          "level": 55,
          "sf": "typeinf(interp::Core.Compiler.NativeInterpreter, frame::Core.Compiler.InferenceState) at typeinfer.jl:209",
          "status": "Default",
          "x1": 10,
          "x2": 10.9
         },
         {
          "level": 56,
          "sf": "_typeinf(interp::Core.Compiler.NativeInterpreter, frame::Core.Compiler.InferenceState) at typeinfer.jl:226",
          "status": "Default",
          "x1": 10,
          "x2": 10.9
         },
         {
          "level": 57,
          "sf": "typeinf_nocycle(interp::Core.Compiler.NativeInterpreter, frame::Core.Compiler.InferenceState) at abstractinterpretation.jl:2014",
          "status": "Default",
          "x1": 10,
          "x2": 10.9
         },
         {
          "level": 58,
          "sf": "typeinf_local(interp::Core.Compiler.NativeInterpreter, frame::Core.Compiler.InferenceState) at abstractinterpretation.jl:1918",
          "status": "Default",
          "x1": 10,
          "x2": 10.9
         },
         {
          "level": 59,
          "sf": "abstract_eval_statement(interp::Core.Compiler.NativeInterpreter, e::Any, vtypes::Vector{Any}, sv::Core.Compiler.InferenceState) at abstractinterpretation.jl:1534",
          "status": "Default",
          "x1": 10,
          "x2": 10.9
         },
         {
          "level": 60,
          "sf": "abstract_call(interp::Core.Compiler.NativeInterpreter, fargs::Vector{Any}, argtypes::Vector{Any}, sv::Core.Compiler.InferenceState) at abstractinterpretation.jl:1382",
          "status": "Default",
          "x1": 10,
          "x2": 10.9
         },
         {
          "level": 61,
          "sf": "abstract_call(interp::Core.Compiler.NativeInterpreter, fargs::Vector{Any}, argtypes::Vector{Any}, sv::Core.Compiler.InferenceState, max_methods::Int64) at abstractinterpretation.jl:1397",
          "status": "Default",
          "x1": 10,
          "x2": 10.9
         },
         {
          "level": 62,
          "sf": "abstract_call_known(interp::Core.Compiler.NativeInterpreter, f::Any, fargs::Vector{Any}, argtypes::Vector{Any}, sv::Core.Compiler.InferenceState, max_methods::Int64) at abstractinterpretation.jl:1342",
          "status": "Default",
          "x1": 10,
          "x2": 10.9
         },
         {
          "level": 63,
          "sf": "abstract_call_gf_by_type(interp::Core.Compiler.NativeInterpreter, f::Any, fargs::Vector{Any}, argtypes::Vector{Any}, atype::Any, sv::Core.Compiler.InferenceState, max_methods::Int64) at abstractinterpretation.jl:113",
          "status": "Default",
          "x1": 10,
          "x2": 10.9
         },
         {
          "level": 64,
          "sf": "abstract_call_method_with_const_args(interp::Core.Compiler.NativeInterpreter, result::Core.Compiler.MethodCallResult, f::Any, argtypes::Vector{Any}, match::Core.MethodMatch, sv::Core.Compiler.InferenceState, va_override::Bool) at abstractinterpretation.jl:557",
          "status": "Default",
          "x1": 10,
          "x2": 10.9
         },
         {
          "level": 65,
          "sf": "typeinf(interp::Core.Compiler.NativeInterpreter, frame::Core.Compiler.InferenceState) at typeinfer.jl:209",
          "status": "Default",
          "x1": 10,
          "x2": 10.9
         },
         {
          "level": 66,
          "sf": "_typeinf(interp::Core.Compiler.NativeInterpreter, frame::Core.Compiler.InferenceState) at typeinfer.jl:226",
          "status": "Default",
          "x1": 10,
          "x2": 10.9
         },
         {
          "level": 67,
          "sf": "typeinf_nocycle(interp::Core.Compiler.NativeInterpreter, frame::Core.Compiler.InferenceState) at abstractinterpretation.jl:2014",
          "status": "Default",
          "x1": 10,
          "x2": 10.9
         },
         {
          "level": 68,
          "sf": "typeinf_local(interp::Core.Compiler.NativeInterpreter, frame::Core.Compiler.InferenceState) at abstractinterpretation.jl:1918",
          "status": "Default",
          "x1": 10,
          "x2": 10.9
         },
         {
          "level": 69,
          "sf": "abstract_eval_statement(interp::Core.Compiler.NativeInterpreter, e::Any, vtypes::Vector{Any}, sv::Core.Compiler.InferenceState) at abstractinterpretation.jl:1534",
          "status": "Default",
          "x1": 10,
          "x2": 10.9
         },
         {
          "level": 70,
          "sf": "abstract_call(interp::Core.Compiler.NativeInterpreter, fargs::Vector{Any}, argtypes::Vector{Any}, sv::Core.Compiler.InferenceState) at abstractinterpretation.jl:1382",
          "status": "Default",
          "x1": 10,
          "x2": 10.9
         },
         {
          "level": 71,
          "sf": "abstract_call(interp::Core.Compiler.NativeInterpreter, fargs::Vector{Any}, argtypes::Vector{Any}, sv::Core.Compiler.InferenceState, max_methods::Int64) at abstractinterpretation.jl:1397",
          "status": "Default",
          "x1": 10,
          "x2": 10.9
         },
         {
          "level": 72,
          "sf": "abstract_call_known(interp::Core.Compiler.NativeInterpreter, f::Any, fargs::Vector{Any}, argtypes::Vector{Any}, sv::Core.Compiler.InferenceState, max_methods::Int64) at abstractinterpretation.jl:1342",
          "status": "Default",
          "x1": 10,
          "x2": 10.9
         },
         {
          "level": 73,
          "sf": "abstract_call_gf_by_type(interp::Core.Compiler.NativeInterpreter, f::Any, fargs::Vector{Any}, argtypes::Vector{Any}, atype::Any, sv::Core.Compiler.InferenceState, max_methods::Int64) at abstractinterpretation.jl:113",
          "status": "Default",
          "x1": 10,
          "x2": 10.9
         },
         {
          "level": 74,
          "sf": "abstract_call_method_with_const_args(interp::Core.Compiler.NativeInterpreter, result::Core.Compiler.MethodCallResult, f::Any, argtypes::Vector{Any}, match::Core.MethodMatch, sv::Core.Compiler.InferenceState, va_override::Bool) at abstractinterpretation.jl:557",
          "status": "Default",
          "x1": 10,
          "x2": 10.9
         },
         {
          "level": 75,
          "sf": "typeinf(interp::Core.Compiler.NativeInterpreter, frame::Core.Compiler.InferenceState) at typeinfer.jl:209",
          "status": "Default",
          "x1": 10,
          "x2": 10.9
         },
         {
          "level": 76,
          "sf": "_typeinf(interp::Core.Compiler.NativeInterpreter, frame::Core.Compiler.InferenceState) at typeinfer.jl:226",
          "status": "Default",
          "x1": 10,
          "x2": 10.9
         },
         {
          "level": 77,
          "sf": "typeinf_nocycle(interp::Core.Compiler.NativeInterpreter, frame::Core.Compiler.InferenceState) at abstractinterpretation.jl:2014",
          "status": "Default",
          "x1": 10,
          "x2": 10.9
         },
         {
          "level": 78,
          "sf": "typeinf_local(interp::Core.Compiler.NativeInterpreter, frame::Core.Compiler.InferenceState) at abstractinterpretation.jl:1918",
          "status": "Default",
          "x1": 10,
          "x2": 10.9
         },
         {
          "level": 79,
          "sf": "abstract_eval_statement(interp::Core.Compiler.NativeInterpreter, e::Any, vtypes::Vector{Any}, sv::Core.Compiler.InferenceState) at abstractinterpretation.jl:1534",
          "status": "Default",
          "x1": 10,
          "x2": 10.9
         },
         {
          "level": 80,
          "sf": "abstract_call(interp::Core.Compiler.NativeInterpreter, fargs::Vector{Any}, argtypes::Vector{Any}, sv::Core.Compiler.InferenceState) at abstractinterpretation.jl:1382",
          "status": "Default",
          "x1": 10,
          "x2": 10.9
         },
         {
          "level": 81,
          "sf": "abstract_call(interp::Core.Compiler.NativeInterpreter, fargs::Vector{Any}, argtypes::Vector{Any}, sv::Core.Compiler.InferenceState, max_methods::Int64) at abstractinterpretation.jl:1397",
          "status": "Default",
          "x1": 10,
          "x2": 10.9
         },
         {
          "level": 82,
          "sf": "abstract_call_known(interp::Core.Compiler.NativeInterpreter, f::Any, fargs::Vector{Any}, argtypes::Vector{Any}, sv::Core.Compiler.InferenceState, max_methods::Int64) at abstractinterpretation.jl:1342",
          "status": "Default",
          "x1": 10,
          "x2": 10.9
         },
         {
          "level": 83,
          "sf": "abstract_call_gf_by_type(interp::Core.Compiler.NativeInterpreter, f::Any, fargs::Vector{Any}, argtypes::Vector{Any}, atype::Any, sv::Core.Compiler.InferenceState, max_methods::Int64) at abstractinterpretation.jl:113",
          "status": "Default",
          "x1": 10,
          "x2": 10.9
         },
         {
          "level": 84,
          "sf": "abstract_call_method_with_const_args(interp::Core.Compiler.NativeInterpreter, result::Core.Compiler.MethodCallResult, f::Any, argtypes::Vector{Any}, match::Core.MethodMatch, sv::Core.Compiler.InferenceState, va_override::Bool) at abstractinterpretation.jl:557",
          "status": "Default",
          "x1": 10,
          "x2": 10.9
         },
         {
          "level": 85,
          "sf": "typeinf(interp::Core.Compiler.NativeInterpreter, frame::Core.Compiler.InferenceState) at typeinfer.jl:209",
          "status": "Default",
          "x1": 10,
          "x2": 10.9
         },
         {
          "level": 86,
          "sf": "_typeinf(interp::Core.Compiler.NativeInterpreter, frame::Core.Compiler.InferenceState) at typeinfer.jl:226",
          "status": "Default",
          "x1": 10,
          "x2": 10.9
         },
         {
          "level": 87,
          "sf": "typeinf_nocycle(interp::Core.Compiler.NativeInterpreter, frame::Core.Compiler.InferenceState) at abstractinterpretation.jl:2014",
          "status": "Default",
          "x1": 10,
          "x2": 10.9
         },
         {
          "level": 88,
          "sf": "typeinf_local(interp::Core.Compiler.NativeInterpreter, frame::Core.Compiler.InferenceState) at abstractinterpretation.jl:1918",
          "status": "Default",
          "x1": 10,
          "x2": 10.9
         },
         {
          "level": 89,
          "sf": "abstract_eval_statement(interp::Core.Compiler.NativeInterpreter, e::Any, vtypes::Vector{Any}, sv::Core.Compiler.InferenceState) at abstractinterpretation.jl:1534",
          "status": "Default",
          "x1": 10,
          "x2": 10.9
         },
         {
          "level": 90,
          "sf": "abstract_call(interp::Core.Compiler.NativeInterpreter, fargs::Vector{Any}, argtypes::Vector{Any}, sv::Core.Compiler.InferenceState) at abstractinterpretation.jl:1382",
          "status": "Default",
          "x1": 10,
          "x2": 10.9
         },
         {
          "level": 91,
          "sf": "abstract_call(interp::Core.Compiler.NativeInterpreter, fargs::Vector{Any}, argtypes::Vector{Any}, sv::Core.Compiler.InferenceState, max_methods::Int64) at abstractinterpretation.jl:1397",
          "status": "Default",
          "x1": 10,
          "x2": 10.9
         },
         {
          "level": 92,
          "sf": "abstract_call_known(interp::Core.Compiler.NativeInterpreter, f::Any, fargs::Vector{Any}, argtypes::Vector{Any}, sv::Core.Compiler.InferenceState, max_methods::Int64) at abstractinterpretation.jl:1342",
          "status": "Default",
          "x1": 10,
          "x2": 10.9
         },
         {
          "level": 93,
          "sf": "abstract_call_gf_by_type(interp::Core.Compiler.NativeInterpreter, f::Any, fargs::Vector{Any}, argtypes::Vector{Any}, atype::Any, sv::Core.Compiler.InferenceState, max_methods::Int64) at abstractinterpretation.jl:113",
          "status": "Default",
          "x1": 10,
          "x2": 10.9
         },
         {
          "level": 94,
          "sf": "abstract_call_method_with_const_args(interp::Core.Compiler.NativeInterpreter, result::Core.Compiler.MethodCallResult, f::Any, argtypes::Vector{Any}, match::Core.MethodMatch, sv::Core.Compiler.InferenceState, va_override::Bool) at abstractinterpretation.jl:557",
          "status": "Default",
          "x1": 10,
          "x2": 10.9
         },
         {
          "level": 95,
          "sf": "typeinf(interp::Core.Compiler.NativeInterpreter, frame::Core.Compiler.InferenceState) at typeinfer.jl:209",
          "status": "Default",
          "x1": 10,
          "x2": 10.9
         },
         {
          "level": 96,
          "sf": "_typeinf(interp::Core.Compiler.NativeInterpreter, frame::Core.Compiler.InferenceState) at typeinfer.jl:226",
          "status": "Default",
          "x1": 10,
          "x2": 10.9
         },
         {
          "level": 97,
          "sf": "typeinf_nocycle(interp::Core.Compiler.NativeInterpreter, frame::Core.Compiler.InferenceState) at abstractinterpretation.jl:2014",
          "status": "Default",
          "x1": 10,
          "x2": 10.9
         },
         {
          "level": 98,
          "sf": "typeinf_local(interp::Core.Compiler.NativeInterpreter, frame::Core.Compiler.InferenceState) at abstractinterpretation.jl:1918",
          "status": "Default",
          "x1": 10,
          "x2": 10.9
         },
         {
          "level": 99,
          "sf": "abstract_eval_statement(interp::Core.Compiler.NativeInterpreter, e::Any, vtypes::Vector{Any}, sv::Core.Compiler.InferenceState) at abstractinterpretation.jl:1534",
          "status": "Default",
          "x1": 10,
          "x2": 10.9
         },
         {
          "level": 100,
          "sf": "abstract_call(interp::Core.Compiler.NativeInterpreter, fargs::Vector{Any}, argtypes::Vector{Any}, sv::Core.Compiler.InferenceState) at abstractinterpretation.jl:1382",
          "status": "Default",
          "x1": 10,
          "x2": 10.9
         },
         {
          "level": 101,
          "sf": "abstract_call(interp::Core.Compiler.NativeInterpreter, fargs::Vector{Any}, argtypes::Vector{Any}, sv::Core.Compiler.InferenceState, max_methods::Int64) at abstractinterpretation.jl:1397",
          "status": "Default",
          "x1": 10,
          "x2": 10.9
         },
         {
          "level": 102,
          "sf": "abstract_call_known(interp::Core.Compiler.NativeInterpreter, f::Any, fargs::Vector{Any}, argtypes::Vector{Any}, sv::Core.Compiler.InferenceState, max_methods::Int64) at abstractinterpretation.jl:1342",
          "status": "Default",
          "x1": 10,
          "x2": 10.9
         },
         {
          "level": 103,
          "sf": "abstract_call_gf_by_type(interp::Core.Compiler.NativeInterpreter, f::Any, fargs::Vector{Any}, argtypes::Vector{Any}, atype::Any, sv::Core.Compiler.InferenceState, max_methods::Int64) at abstractinterpretation.jl:113",
          "status": "Default",
          "x1": 10,
          "x2": 10.9
         },
         {
          "level": 104,
          "sf": "abstract_call_method_with_const_args(interp::Core.Compiler.NativeInterpreter, result::Core.Compiler.MethodCallResult, f::Any, argtypes::Vector{Any}, match::Core.MethodMatch, sv::Core.Compiler.InferenceState, va_override::Bool) at abstractinterpretation.jl:557",
          "status": "Default",
          "x1": 10,
          "x2": 10.9
         },
         {
          "level": 105,
          "sf": "typeinf(interp::Core.Compiler.NativeInterpreter, frame::Core.Compiler.InferenceState) at typeinfer.jl:209",
          "status": "Default",
          "x1": 10,
          "x2": 10.9
         },
         {
          "level": 106,
          "sf": "_typeinf(interp::Core.Compiler.NativeInterpreter, frame::Core.Compiler.InferenceState) at typeinfer.jl:255",
          "status": "Default",
          "x1": 10,
          "x2": 10.9
         },
         {
          "level": 107,
          "sf": "optimize at optimize.jl:296 [inlined]",
          "status": "Default",
          "x1": 10,
          "x2": 10.9
         },
         {
          "level": 108,
          "sf": "run_passes(ci::Core.CodeInfo, nargs::Int64, sv::Core.Compiler.OptimizationState) at optimize.jl:303",
          "status": "Default",
          "x1": 10,
          "x2": 10.9
         },
         {
          "level": 109,
          "sf": "slot2reg at optimize.jl:419 [inlined]",
          "status": "Default",
          "x1": 10,
          "x2": 10.9
         },
         {
          "level": 110,
          "sf": "construct_ssa!(ci::Core.CodeInfo, ir::Core.Compiler.IRCode, domtree::Core.Compiler.DomTree, defuses::Vector{Core.Compiler.SlotInfo}, nargs::Int64, slottypes::Vector{Any}) at slot2ssa.jl:833",
          "status": "Default",
          "x1": 10,
          "x2": 10.9
         },
         {
          "level": 111,
          "sf": "iterate at ir.jl:1455 [inlined]",
          "status": "Default",
          "x1": 10,
          "x2": 10.9
         },
         {
          "level": 112,
          "sf": "getindex at array.jl:861 [inlined]",
          "status": "Default",
          "x1": 10,
          "x2": 10.9
         },
         {
          "level": 36,
          "sf": "_typeinf(interp::Core.Compiler.NativeInterpreter, frame::Core.Compiler.InferenceState) at typeinfer.jl:255",
          "status": "Default",
          "x1": 11,
          "x2": 12.9
         },
         {
          "level": 37,
          "sf": "optimize at optimize.jl:296 [inlined]",
          "status": "Default",
          "x1": 11,
          "x2": 12.9
         },
         {
          "level": 38,
          "sf": "run_passes(ci::Core.CodeInfo, nargs::Int64, sv::Core.Compiler.OptimizationState) at optimize.jl:303",
          "status": "Default",
          "x1": 11,
          "x2": 12.9
         },
         {
          "level": 39,
          "sf": "slot2reg at optimize.jl:419 [inlined]",
          "status": "Default",
          "x1": 11,
          "x2": 12.9
         },
         {
          "level": 40,
          "sf": "construct_ssa!(ci::Core.CodeInfo, ir::Core.Compiler.IRCode, domtree::Core.Compiler.DomTree, defuses::Vector{Core.Compiler.SlotInfo}, nargs::Int64, slottypes::Vector{Any}) at slot2ssa.jl:651",
          "status": "Default",
          "x1": 11,
          "x2": 11.9
         },
         {
          "level": 41,
          "sf": "idf(cfg::Core.Compiler.CFG, liveness::Core.Compiler.BlockLiveness, domtree::Core.Compiler.DomTree) at slot2ssa.jl:283",
          "status": "Default",
          "x1": 11,
          "x2": 11.9
         },
         {
          "level": 42,
          "sf": "pop! at array.jl:1254 [inlined]",
          "status": "Default",
          "x1": 11,
          "x2": 11.9
         },
         {
          "level": 43,
          "sf": "_deleteend! at array.jl:957 [inlined]",
          "status": "Default",
          "x1": 11,
          "x2": 11.9
         },
         {
          "level": 40,
          "sf": "construct_ssa!(ci::Core.CodeInfo, ir::Core.Compiler.IRCode, domtree::Core.Compiler.DomTree, defuses::Vector{Core.Compiler.SlotInfo}, nargs::Int64, slottypes::Vector{Any}) at slot2ssa.jl:702",
          "status": "Default",
          "x1": 12,
          "x2": 12.9
         },
         {
          "level": 41,
          "sf": "push! at array.jl:995 [inlined]",
          "status": "Default",
          "x1": 12,
          "x2": 12.9
         },
         {
          "level": 42,
          "sf": "_growend! at array.jl:948 [inlined]",
          "status": "Default",
          "x1": 12,
          "x2": 12.9
         },
         {
          "level": 25,
          "sf": "typeinf_local(interp::Core.Compiler.NativeInterpreter, frame::Core.Compiler.InferenceState) at abstractinterpretation.jl:1918",
          "status": "Default",
          "x1": 13,
          "x2": 36.9
         },
         {
          "level": 26,
          "sf": "abstract_eval_statement(interp::Core.Compiler.NativeInterpreter, e::Any, vtypes::Vector{Any}, sv::Core.Compiler.InferenceState) at abstractinterpretation.jl:1534",
          "status": "Default",
          "x1": 13,
          "x2": 36.9
         },
         {
          "level": 27,
          "sf": "abstract_call(interp::Core.Compiler.NativeInterpreter, fargs::Vector{Any}, argtypes::Vector{Any}, sv::Core.Compiler.InferenceState) at abstractinterpretation.jl:1382",
          "status": "Default",
          "x1": 13,
          "x2": 36.9
         },
         {
          "level": 28,
          "sf": "abstract_call(interp::Core.Compiler.NativeInterpreter, fargs::Vector{Any}, argtypes::Vector{Any}, sv::Core.Compiler.InferenceState, max_methods::Int64) at abstractinterpretation.jl:1397",
          "status": "Default",
          "x1": 13,
          "x2": 36.9
         },
         {
          "level": 29,
          "sf": "abstract_call_known(interp::Core.Compiler.NativeInterpreter, f::Any, fargs::Vector{Any}, argtypes::Vector{Any}, sv::Core.Compiler.InferenceState, max_methods::Int64) at abstractinterpretation.jl:1342",
          "status": "Default",
          "x1": 13,
          "x2": 36.9
         },
         {
          "level": 30,
          "sf": "abstract_call_gf_by_type(interp::Core.Compiler.NativeInterpreter, f::Any, fargs::Vector{Any}, argtypes::Vector{Any}, atype::Any, sv::Core.Compiler.InferenceState, max_methods::Int64) at abstractinterpretation.jl:45",
          "status": "Default",
          "x1": 13,
          "x2": 13.9
         },
         {
          "level": 30,
          "sf": "abstract_call_gf_by_type(interp::Core.Compiler.NativeInterpreter, f::Any, fargs::Vector{Any}, argtypes::Vector{Any}, atype::Any, sv::Core.Compiler.InferenceState, max_methods::Int64) at abstractinterpretation.jl:105",
          "status": "Default",
          "x1": 14,
          "x2": 14.9
         },
         {
          "level": 31,
          "sf": "abstract_call_method(interp::Core.Compiler.NativeInterpreter, method::Method, sig::Any, sparams::Core.SimpleVector, hardlimit::Bool, sv::Core.Compiler.InferenceState) at abstractinterpretation.jl:504",
          "status": "Default",
          "x1": 14,
          "x2": 14.9
         },
         {
          "level": 32,
          "sf": "typeinf_edge at typeinfer.jl:780 [inlined]",
          "status": "Default",
          "x1": 14,
          "x2": 14.9
         },
         {
          "level": 33,
          "sf": "specialize_method at utilities.jl:187 [inlined]",
          "status": "Default",
          "x1": 14,
          "x2": 14.9
         },
         {
          "level": 34,
          "sf": "specialize_method(method::Method, atypes::Any, sparams::Core.SimpleVector, preexisting::Bool, compilesig::Bool) at utilities.jl:200",
          "status": "Default",
          "x1": 14,
          "x2": 14.9
         },
         {
          "level": 30,
          "sf": "abstract_call_gf_by_type(interp::Core.Compiler.NativeInterpreter, f::Any, fargs::Vector{Any}, argtypes::Vector{Any}, atype::Any, sv::Core.Compiler.InferenceState, max_methods::Int64) at abstractinterpretation.jl:113",
          "status": "Default",
          "x1": 15,
          "x2": 36.9
         },
         {
          "level": 31,
          "sf": "abstract_call_method_with_const_args(interp::Core.Compiler.NativeInterpreter, result::Core.Compiler.MethodCallResult, f::Any, argtypes::Vector{Any}, match::Core.MethodMatch, sv::Core.Compiler.InferenceState, va_override::Bool) at abstractinterpretation.jl:553",
          "status": "Default",
          "x1": 15,
          "x2": 15.9
         },
         {
          "level": 32,
          "sf": "Core.Compiler.InferenceState(result::Core.Compiler.InferenceResult, cached::Bool, interp::Core.Compiler.NativeInterpreter) at inferencestate.jl:234",
          "status": "Default",
          "x1": 15,
          "x2": 15.9
         },
         {
          "level": 33,
          "sf": "retrieve_code_info at utilities.jl:128 [inlined]",
          "status": "Default",
          "x1": 15,
          "x2": 15.9
         },
         {
          "level": 31,
          "sf": "abstract_call_method_with_const_args(interp::Core.Compiler.NativeInterpreter, result::Core.Compiler.MethodCallResult, f::Any, argtypes::Vector{Any}, match::Core.MethodMatch, sv::Core.Compiler.InferenceState, va_override::Bool) at abstractinterpretation.jl:557",
          "status": "Default",
          "x1": 16,
          "x2": 36.9
         },
         {
          "level": 32,
          "sf": "typeinf(interp::Core.Compiler.NativeInterpreter, frame::Core.Compiler.InferenceState) at typeinfer.jl:209",
          "status": "Default",
          "x1": 16,
          "x2": 36.9
         },
         {
          "level": 33,
          "sf": "_typeinf(interp::Core.Compiler.NativeInterpreter, frame::Core.Compiler.InferenceState) at typeinfer.jl:226",
          "status": "Default",
          "x1": 16,
          "x2": 32.9
         },
         {
          "level": 34,
          "sf": "typeinf_nocycle(interp::Core.Compiler.NativeInterpreter, frame::Core.Compiler.InferenceState) at abstractinterpretation.jl:2014",
          "status": "Default",
          "x1": 16,
          "x2": 32.9
         },
         {
          "level": 35,
          "sf": "typeinf_local(interp::Core.Compiler.NativeInterpreter, frame::Core.Compiler.InferenceState) at abstractinterpretation.jl:1918",
          "status": "Default",
          "x1": 16,
          "x2": 32.9
         },
         {
          "level": 36,
          "sf": "abstract_eval_statement(interp::Core.Compiler.NativeInterpreter, e::Any, vtypes::Vector{Any}, sv::Core.Compiler.InferenceState) at abstractinterpretation.jl:1534",
          "status": "Default",
          "x1": 16,
          "x2": 32.9
         },
         {
          "level": 37,
          "sf": "abstract_call(interp::Core.Compiler.NativeInterpreter, fargs::Vector{Any}, argtypes::Vector{Any}, sv::Core.Compiler.InferenceState) at abstractinterpretation.jl:1382",
          "status": "Default",
          "x1": 16,
          "x2": 32.9
         },
         {
          "level": 38,
          "sf": "abstract_call(interp::Core.Compiler.NativeInterpreter, fargs::Vector{Any}, argtypes::Vector{Any}, sv::Core.Compiler.InferenceState, max_methods::Int64) at abstractinterpretation.jl:1397",
          "status": "Default",
          "x1": 16,
          "x2": 32.9
         },
         {
          "level": 39,
          "sf": "abstract_call_known(interp::Core.Compiler.NativeInterpreter, f::Any, fargs::Vector{Any}, argtypes::Vector{Any}, sv::Core.Compiler.InferenceState, max_methods::Int64) at abstractinterpretation.jl:1342",
          "status": "Default",
          "x1": 16,
          "x2": 32.9
         },
         {
          "level": 40,
          "sf": "abstract_call_gf_by_type(interp::Core.Compiler.NativeInterpreter, f::Any, fargs::Vector{Any}, argtypes::Vector{Any}, atype::Any, sv::Core.Compiler.InferenceState, max_methods::Int64) at abstractinterpretation.jl:39",
          "status": "Default",
          "x1": 16,
          "x2": 17.9
         },
         {
          "level": 41,
          "sf": "find_matching_methods(argtypes::Vector{Any}, atype::Any, method_table::Core.Compiler.CachedMethodTable{Core.Compiler.InternalMethodTable}, union_split::Int64, max_methods::Int64) at abstractinterpretation.jl:308",
          "status": "Runtime dispatch",
          "x1": 16,
          "x2": 17.9
         },
         {
          "level": 42,
          "sf": "(::Core.Compiler.var\"#findall##kw\")(::NamedTuple{(:limit,), Tuple{Int64}}, ::typeof(Core.Compiler.findall), sig::Type, table::Core.Compiler.CachedMethodTable{Core.Compiler.InternalMethodTable}) at methodtable.jl:95",
          "status": "Default",
          "x1": 16,
          "x2": 17.9
         },
         {
          "level": 43,
          "sf": "#findall#248 at methodtable.jl:96 [inlined]",
          "status": "Default",
          "x1": 16,
          "x2": 17.9
         },
         {
          "level": 44,
          "sf": "get! at iddict.jl:178 [inlined]",
          "status": "Default",
          "x1": 16,
          "x2": 17.9
         },
         {
          "level": 45,
          "sf": "(::Core.Compiler.var\"#249#250\"{Int64, Core.Compiler.CachedMethodTable{Core.Compiler.InternalMethodTable}, Core.Box})() at methodtable.jl:97",
          "status": "Runtime dispatch",
          "x1": 16,
          "x2": 17.9
         },
         {
          "level": 46,
          "sf": "(::Core.Compiler.var\"#findall##kw\")(::NamedTuple{(:limit,), Tuple{Int64}}, ::typeof(Core.Compiler.findall), sig::Type, table::Core.Compiler.InternalMethodTable) at methodtable.jl:65",
          "status": "Default",
          "x1": 16,
          "x2": 17.9
         },
         {
          "level": 47,
          "sf": "#findall#246 at methodtable.jl:68 [inlined]",
          "status": "Default",
          "x1": 16,
          "x2": 17.9
         },
         {
          "level": 48,
          "sf": "_methods_by_ftype at reflection.jl:908 [inlined]",
          "status": "Default",
          "x1": 16,
          "x2": 17.9
         },
         {
          "level": 40,
          "sf": "abstract_call_gf_by_type(interp::Core.Compiler.NativeInterpreter, f::Any, fargs::Vector{Any}, argtypes::Vector{Any}, atype::Any, sv::Core.Compiler.InferenceState, max_methods::Int64) at abstractinterpretation.jl:113",
          "status": "Default",
          "x1": 18,
          "x2": 32.9
         },
         {
          "level": 41,
          "sf": "abstract_call_method_with_const_args(interp::Core.Compiler.NativeInterpreter, result::Core.Compiler.MethodCallResult, f::Any, argtypes::Vector{Any}, match::Core.MethodMatch, sv::Core.Compiler.InferenceState, va_override::Bool) at abstractinterpretation.jl:557",
          "status": "Default",
          "x1": 18,
          "x2": 32.9
         },
         {
          "level": 42,
          "sf": "typeinf(interp::Core.Compiler.NativeInterpreter, frame::Core.Compiler.InferenceState) at typeinfer.jl:209",
          "status": "Default",
          "x1": 18,
          "x2": 32.9
         },
         {
          "level": 43,
          "sf": "_typeinf(interp::Core.Compiler.NativeInterpreter, frame::Core.Compiler.InferenceState) at typeinfer.jl:226",
          "status": "Default",
          "x1": 18,
          "x2": 31.9
         },
         {
          "level": 44,
          "sf": "typeinf_nocycle(interp::Core.Compiler.NativeInterpreter, frame::Core.Compiler.InferenceState) at abstractinterpretation.jl:2014",
          "status": "Default",
          "x1": 18,
          "x2": 31.9
         },
         {
          "level": 45,
          "sf": "typeinf_local(interp::Core.Compiler.NativeInterpreter, frame::Core.Compiler.InferenceState) at abstractinterpretation.jl:1918",
          "status": "Default",
          "x1": 18,
          "x2": 31.9
         },
         {
          "level": 46,
          "sf": "abstract_eval_statement(interp::Core.Compiler.NativeInterpreter, e::Any, vtypes::Vector{Any}, sv::Core.Compiler.InferenceState) at abstractinterpretation.jl:1534",
          "status": "Default",
          "x1": 18,
          "x2": 31.9
         },
         {
          "level": 47,
          "sf": "abstract_call(interp::Core.Compiler.NativeInterpreter, fargs::Vector{Any}, argtypes::Vector{Any}, sv::Core.Compiler.InferenceState) at abstractinterpretation.jl:1382",
          "status": "Default",
          "x1": 18,
          "x2": 31.9
         },
         {
          "level": 48,
          "sf": "abstract_call(interp::Core.Compiler.NativeInterpreter, fargs::Vector{Any}, argtypes::Vector{Any}, sv::Core.Compiler.InferenceState, max_methods::Int64) at abstractinterpretation.jl:1397",
          "status": "Default",
          "x1": 18,
          "x2": 31.9
         },
         {
          "level": 49,
          "sf": "abstract_call_known(interp::Core.Compiler.NativeInterpreter, f::Any, fargs::Vector{Any}, argtypes::Vector{Any}, sv::Core.Compiler.InferenceState, max_methods::Int64) at abstractinterpretation.jl:1342",
          "status": "Default",
          "x1": 18,
          "x2": 31.9
         },
         {
          "level": 50,
          "sf": "abstract_call_gf_by_type(interp::Core.Compiler.NativeInterpreter, f::Any, fargs::Vector{Any}, argtypes::Vector{Any}, atype::Any, sv::Core.Compiler.InferenceState, max_methods::Int64) at abstractinterpretation.jl:113",
          "status": "Default",
          "x1": 18,
          "x2": 31.9
         },
         {
          "level": 51,
          "sf": "abstract_call_method_with_const_args(interp::Core.Compiler.NativeInterpreter, result::Core.Compiler.MethodCallResult, f::Any, argtypes::Vector{Any}, match::Core.MethodMatch, sv::Core.Compiler.InferenceState, va_override::Bool) at abstractinterpretation.jl:553",
          "status": "Default",
          "x1": 18,
          "x2": 18.9
         },
         {
          "level": 52,
          "sf": "Core.Compiler.InferenceState(result::Core.Compiler.InferenceResult, cached::Bool, interp::Core.Compiler.NativeInterpreter) at inferencestate.jl:234",
          "status": "Default",
          "x1": 18,
          "x2": 18.9
         },
         {
          "level": 53,
          "sf": "retrieve_code_info at utilities.jl:128 [inlined]",
          "status": "Default",
          "x1": 18,
          "x2": 18.9
         },
         {
          "level": 51,
          "sf": "abstract_call_method_with_const_args(interp::Core.Compiler.NativeInterpreter, result::Core.Compiler.MethodCallResult, f::Any, argtypes::Vector{Any}, match::Core.MethodMatch, sv::Core.Compiler.InferenceState, va_override::Bool) at abstractinterpretation.jl:557",
          "status": "Default",
          "x1": 19,
          "x2": 31.9
         },
         {
          "level": 52,
          "sf": "typeinf(interp::Core.Compiler.NativeInterpreter, frame::Core.Compiler.InferenceState) at typeinfer.jl:209",
          "status": "Default",
          "x1": 19,
          "x2": 31.9
         },
         {
          "level": 53,
          "sf": "_typeinf(interp::Core.Compiler.NativeInterpreter, frame::Core.Compiler.InferenceState) at typeinfer.jl:226",
          "status": "Default",
          "x1": 19,
          "x2": 29.9
         },
         {
          "level": 54,
          "sf": "typeinf_nocycle(interp::Core.Compiler.NativeInterpreter, frame::Core.Compiler.InferenceState) at abstractinterpretation.jl:2014",
          "status": "Default",
          "x1": 19,
          "x2": 29.9
         },
         {
          "level": 55,
          "sf": "typeinf_local(interp::Core.Compiler.NativeInterpreter, frame::Core.Compiler.InferenceState) at abstractinterpretation.jl:1900",
          "status": "Default",
          "x1": 19,
          "x2": 20.9
         },
         {
          "level": 56,
          "sf": "abstract_eval_statement(interp::Core.Compiler.NativeInterpreter, e::Any, vtypes::Vector{Any}, sv::Core.Compiler.InferenceState) at abstractinterpretation.jl:1534",
          "status": "Default",
          "x1": 19,
          "x2": 20.9
         },
         {
          "level": 57,
          "sf": "abstract_call(interp::Core.Compiler.NativeInterpreter, fargs::Vector{Any}, argtypes::Vector{Any}, sv::Core.Compiler.InferenceState) at abstractinterpretation.jl:1382",
          "status": "Default",
          "x1": 19,
          "x2": 20.9
         },
         {
          "level": 58,
          "sf": "abstract_call(interp::Core.Compiler.NativeInterpreter, fargs::Vector{Any}, argtypes::Vector{Any}, sv::Core.Compiler.InferenceState, max_methods::Int64) at abstractinterpretation.jl:1397",
          "status": "Default",
          "x1": 19,
          "x2": 20.9
         },
         {
          "level": 59,
          "sf": "abstract_call_known(interp::Core.Compiler.NativeInterpreter, f::Any, fargs::Vector{Any}, argtypes::Vector{Any}, sv::Core.Compiler.InferenceState, max_methods::Int64) at abstractinterpretation.jl:1342",
          "status": "Default",
          "x1": 19,
          "x2": 20.9
         },
         {
          "level": 60,
          "sf": "abstract_call_gf_by_type(interp::Core.Compiler.NativeInterpreter, f::Any, fargs::Vector{Any}, argtypes::Vector{Any}, atype::Any, sv::Core.Compiler.InferenceState, max_methods::Int64) at abstractinterpretation.jl:113",
          "status": "Default",
          "x1": 19,
          "x2": 20.9
         },
         {
          "level": 61,
          "sf": "abstract_call_method_with_const_args(interp::Core.Compiler.NativeInterpreter, result::Core.Compiler.MethodCallResult, f::Any, argtypes::Vector{Any}, match::Core.MethodMatch, sv::Core.Compiler.InferenceState, va_override::Bool) at abstractinterpretation.jl:557",
          "status": "Default",
          "x1": 19,
          "x2": 20.9
         },
         {
          "level": 62,
          "sf": "typeinf(interp::Core.Compiler.NativeInterpreter, frame::Core.Compiler.InferenceState) at typeinfer.jl:209",
          "status": "Default",
          "x1": 19,
          "x2": 20.9
         },
         {
          "level": 63,
          "sf": "_typeinf(interp::Core.Compiler.NativeInterpreter, frame::Core.Compiler.InferenceState) at typeinfer.jl:226",
          "status": "Default",
          "x1": 19,
          "x2": 20.9
         },
         {
          "level": 64,
          "sf": "typeinf_nocycle(interp::Core.Compiler.NativeInterpreter, frame::Core.Compiler.InferenceState) at abstractinterpretation.jl:2014",
          "status": "Default",
          "x1": 19,
          "x2": 20.9
         },
         {
          "level": 65,
          "sf": "typeinf_local(interp::Core.Compiler.NativeInterpreter, frame::Core.Compiler.InferenceState) at abstractinterpretation.jl:1918",
          "status": "Default",
          "x1": 19,
          "x2": 20.9
         },
         {
          "level": 66,
          "sf": "abstract_eval_statement(interp::Core.Compiler.NativeInterpreter, e::Any, vtypes::Vector{Any}, sv::Core.Compiler.InferenceState) at abstractinterpretation.jl:1534",
          "status": "Default",
          "x1": 19,
          "x2": 20.9
         },
         {
          "level": 67,
          "sf": "abstract_call(interp::Core.Compiler.NativeInterpreter, fargs::Vector{Any}, argtypes::Vector{Any}, sv::Core.Compiler.InferenceState) at abstractinterpretation.jl:1382",
          "status": "Default",
          "x1": 19,
          "x2": 20.9
         },
         {
          "level": 68,
          "sf": "abstract_call(interp::Core.Compiler.NativeInterpreter, fargs::Vector{Any}, argtypes::Vector{Any}, sv::Core.Compiler.InferenceState, max_methods::Int64) at abstractinterpretation.jl:1397",
          "status": "Default",
          "x1": 19,
          "x2": 20.9
         },
         {
          "level": 69,
          "sf": "abstract_call_known(interp::Core.Compiler.NativeInterpreter, f::Any, fargs::Vector{Any}, argtypes::Vector{Any}, sv::Core.Compiler.InferenceState, max_methods::Int64) at abstractinterpretation.jl:1342",
          "status": "Default",
          "x1": 19,
          "x2": 20.9
         },
         {
          "level": 70,
          "sf": "abstract_call_gf_by_type(interp::Core.Compiler.NativeInterpreter, f::Any, fargs::Vector{Any}, argtypes::Vector{Any}, atype::Any, sv::Core.Compiler.InferenceState, max_methods::Int64) at abstractinterpretation.jl:113",
          "status": "Default",
          "x1": 19,
          "x2": 20.9
         },
         {
          "level": 71,
          "sf": "abstract_call_method_with_const_args(interp::Core.Compiler.NativeInterpreter, result::Core.Compiler.MethodCallResult, f::Any, argtypes::Vector{Any}, match::Core.MethodMatch, sv::Core.Compiler.InferenceState, va_override::Bool) at abstractinterpretation.jl:557",
          "status": "Default",
          "x1": 19,
          "x2": 20.9
         },
         {
          "level": 72,
          "sf": "typeinf(interp::Core.Compiler.NativeInterpreter, frame::Core.Compiler.InferenceState) at typeinfer.jl:209",
          "status": "Default",
          "x1": 19,
          "x2": 20.9
         },
         {
          "level": 73,
          "sf": "_typeinf(interp::Core.Compiler.NativeInterpreter, frame::Core.Compiler.InferenceState) at typeinfer.jl:226",
          "status": "Default",
          "x1": 19,
          "x2": 20.9
         },
         {
          "level": 74,
          "sf": "typeinf_nocycle(interp::Core.Compiler.NativeInterpreter, frame::Core.Compiler.InferenceState) at abstractinterpretation.jl:2014",
          "status": "Default",
          "x1": 19,
          "x2": 20.9
         },
         {
          "level": 75,
          "sf": "typeinf_local(interp::Core.Compiler.NativeInterpreter, frame::Core.Compiler.InferenceState) at abstractinterpretation.jl:1918",
          "status": "Default",
          "x1": 19,
          "x2": 20.9
         },
         {
          "level": 76,
          "sf": "abstract_eval_statement(interp::Core.Compiler.NativeInterpreter, e::Any, vtypes::Vector{Any}, sv::Core.Compiler.InferenceState) at abstractinterpretation.jl:1534",
          "status": "Default",
          "x1": 19,
          "x2": 20.9
         },
         {
          "level": 77,
          "sf": "abstract_call(interp::Core.Compiler.NativeInterpreter, fargs::Vector{Any}, argtypes::Vector{Any}, sv::Core.Compiler.InferenceState) at abstractinterpretation.jl:1382",
          "status": "Default",
          "x1": 19,
          "x2": 20.9
         },
         {
          "level": 78,
          "sf": "abstract_call(interp::Core.Compiler.NativeInterpreter, fargs::Vector{Any}, argtypes::Vector{Any}, sv::Core.Compiler.InferenceState, max_methods::Int64) at abstractinterpretation.jl:1397",
          "status": "Default",
          "x1": 19,
          "x2": 20.9
         },
         {
          "level": 79,
          "sf": "abstract_call_known(interp::Core.Compiler.NativeInterpreter, f::Any, fargs::Vector{Any}, argtypes::Vector{Any}, sv::Core.Compiler.InferenceState, max_methods::Int64) at abstractinterpretation.jl:1342",
          "status": "Default",
          "x1": 19,
          "x2": 20.9
         },
         {
          "level": 80,
          "sf": "abstract_call_gf_by_type(interp::Core.Compiler.NativeInterpreter, f::Any, fargs::Vector{Any}, argtypes::Vector{Any}, atype::Any, sv::Core.Compiler.InferenceState, max_methods::Int64) at abstractinterpretation.jl:113",
          "status": "Default",
          "x1": 19,
          "x2": 20.9
         },
         {
          "level": 81,
          "sf": "abstract_call_method_with_const_args(interp::Core.Compiler.NativeInterpreter, result::Core.Compiler.MethodCallResult, f::Any, argtypes::Vector{Any}, match::Core.MethodMatch, sv::Core.Compiler.InferenceState, va_override::Bool) at abstractinterpretation.jl:557",
          "status": "Default",
          "x1": 19,
          "x2": 20.9
         },
         {
          "level": 82,
          "sf": "typeinf(interp::Core.Compiler.NativeInterpreter, frame::Core.Compiler.InferenceState) at typeinfer.jl:209",
          "status": "Default",
          "x1": 19,
          "x2": 20.9
         },
         {
          "level": 83,
          "sf": "_typeinf(interp::Core.Compiler.NativeInterpreter, frame::Core.Compiler.InferenceState) at typeinfer.jl:255",
          "status": "Default",
          "x1": 19,
          "x2": 20.9
         },
         {
          "level": 84,
          "sf": "optimize at optimize.jl:296 [inlined]",
          "status": "Default",
          "x1": 19,
          "x2": 20.9
         },
         {
          "level": 85,
          "sf": "run_passes(ci::Core.CodeInfo, nargs::Int64, sv::Core.Compiler.OptimizationState) at optimize.jl:306",
          "status": "Default",
          "x1": 19,
          "x2": 19.9
         },
         {
          "level": 86,
          "sf": "compact! at ir.jl:1441 [inlined]",
          "status": "Default",
          "x1": 19,
          "x2": 19.9
         },
         {
          "level": 87,
          "sf": "compact!(code::Core.Compiler.IRCode, allow_cfg_transforms::Bool) at ir.jl:1443",
          "status": "Default",
          "x1": 19,
          "x2": 19.9
         },
         {
          "level": 88,
          "sf": "iterate(compact::Core.Compiler.IncrementalCompact, ::Tuple{Int64, Int64}) at ir.jl:1293",
          "status": "Default",
          "x1": 19,
          "x2": 19.9
         },
         {
          "level": 89,
          "sf": "setindex! at ir.jl:250 [inlined]",
          "status": "Default",
          "x1": 19,
          "x2": 19.9
         },
         {
          "level": 90,
          "sf": "getindex at ir.jl:238 [inlined]",
          "status": "Default",
          "x1": 19,
          "x2": 19.9
         },
         {
          "level": 91,
          "sf": "getindex at array.jl:861 [inlined]",
          "status": "Default",
          "x1": 19,
          "x2": 19.9
         },
         {
          "level": 85,
          "sf": "run_passes(ci::Core.CodeInfo, nargs::Int64, sv::Core.Compiler.OptimizationState) at optimize.jl:307",
          "status": "Runtime dispatch",
          "x1": 20,
          "x2": 20.9
         },
         {
          "level": 86,
          "sf": "ssa_inlining_pass!(ir::Core.Compiler.IRCode, linetable::Vector{Core.LineInfoNode}, state::Core.Compiler.InliningState{Core.Compiler.EdgeTracker, Core.Compiler.WorldView{Core.Compiler.InternalCodeCache}, typeof(Core.Compiler.default_inlining_policy)}, propagate_inbounds::Bool) at inlining.jl:83",
          "status": "Default",
          "x1": 20,
          "x2": 20.9
         },
         {
          "level": 87,
          "sf": "batch_inline!(todo::Vector{Pair{Int64, Any}}, ir::Core.Compiler.IRCode, linetable::Vector{Core.LineInfoNode}, propagate_inbounds::Bool) at inlining.jl:594",
          "status": "Default",
          "x1": 20,
          "x2": 20.9
         },
         {
          "level": 88,
          "sf": "ir_inline_item!(compact::Core.Compiler.IncrementalCompact, idx::Int64, argexprs::Vector{Any}, linetable::Vector{Core.LineInfoNode}, item::Core.Compiler.InliningTodo, boundscheck::Symbol, todo_bbs::Vector{Tuple{Int64, Int64}}) at inlining.jl:346",
          "status": "Runtime dispatch",
          "x1": 20,
          "x2": 20.9
         },
         {
          "level": 55,
          "sf": "typeinf_local(interp::Core.Compiler.NativeInterpreter, frame::Core.Compiler.InferenceState) at abstractinterpretation.jl:1918",
          "status": "Default",
          "x1": 21,
          "x2": 29.9
         },
         {
          "level": 56,
          "sf": "abstract_eval_statement(interp::Core.Compiler.NativeInterpreter, e::Any, vtypes::Vector{Any}, sv::Core.Compiler.InferenceState) at abstractinterpretation.jl:1534",
          "status": "Default",
          "x1": 21,
          "x2": 29.9
         },
         {
          "level": 57,
          "sf": "abstract_call(interp::Core.Compiler.NativeInterpreter, fargs::Vector{Any}, argtypes::Vector{Any}, sv::Core.Compiler.InferenceState) at abstractinterpretation.jl:1382",
          "status": "Default",
          "x1": 21,
          "x2": 29.9
         },
         {
          "level": 58,
          "sf": "abstract_call(interp::Core.Compiler.NativeInterpreter, fargs::Vector{Any}, argtypes::Vector{Any}, sv::Core.Compiler.InferenceState, max_methods::Int64) at abstractinterpretation.jl:1397",
          "status": "Default",
          "x1": 21,
          "x2": 29.9
         },
         {
          "level": 59,
          "sf": "abstract_call_known(interp::Core.Compiler.NativeInterpreter, f::Any, fargs::Vector{Any}, argtypes::Vector{Any}, sv::Core.Compiler.InferenceState, max_methods::Int64) at abstractinterpretation.jl:1341",
          "status": "Default",
          "x1": 21,
          "x2": 21.9
         },
         {
          "level": 60,
          "sf": "argtypes_to_type at typeutils.jl:53 [inlined]",
          "status": "Default",
          "x1": 21,
          "x2": 21.9
         },
         {
          "level": 61,
          "sf": "anymap(f::Core.Compiler.var\"#251#252\", a::Vector{Any}) at utilities.jl:39",
          "status": "Default",
          "x1": 21,
          "x2": 21.9
         },
         {
          "level": 62,
          "sf": "(::Core.Compiler.var\"#251#252\")(a::Any) at typeutils.jl:53",
          "status": "Runtime dispatch",
          "x1": 21,
          "x2": 21.9
         },
         {
          "level": 63,
          "sf": "widenconst(c::Core.Const) at typelattice.jl:286",
          "status": "Default",
          "x1": 21,
          "x2": 21.9
         },
         {
          "level": 59,
          "sf": "abstract_call_known(interp::Core.Compiler.NativeInterpreter, f::Any, fargs::Vector{Any}, argtypes::Vector{Any}, sv::Core.Compiler.InferenceState, max_methods::Int64) at abstractinterpretation.jl:1342",
          "status": "Default",
          "x1": 22,
          "x2": 29.9
         },
         {
          "level": 60,
          "sf": "abstract_call_gf_by_type(interp::Core.Compiler.NativeInterpreter, f::Any, fargs::Vector{Any}, argtypes::Vector{Any}, atype::Any, sv::Core.Compiler.InferenceState, max_methods::Int64) at abstractinterpretation.jl:113",
          "status": "Default",
          "x1": 22,
          "x2": 29.9
         },
         {
          "level": 61,
          "sf": "abstract_call_method_with_const_args(interp::Core.Compiler.NativeInterpreter, result::Core.Compiler.MethodCallResult, f::Any, argtypes::Vector{Any}, match::Core.MethodMatch, sv::Core.Compiler.InferenceState, va_override::Bool) at abstractinterpretation.jl:557",
          "status": "Default",
          "x1": 22,
          "x2": 29.9
         },
         {
          "level": 62,
          "sf": "typeinf(interp::Core.Compiler.NativeInterpreter, frame::Core.Compiler.InferenceState) at typeinfer.jl:209",
          "status": "Default",
          "x1": 22,
          "x2": 29.9
         },
         {
          "level": 63,
          "sf": "_typeinf(interp::Core.Compiler.NativeInterpreter, frame::Core.Compiler.InferenceState) at typeinfer.jl:226",
          "status": "Default",
          "x1": 22,
          "x2": 29.9
         },
         {
          "level": 64,
          "sf": "typeinf_nocycle(interp::Core.Compiler.NativeInterpreter, frame::Core.Compiler.InferenceState) at abstractinterpretation.jl:2014",
          "status": "Default",
          "x1": 22,
          "x2": 29.9
         },
         {
          "level": 65,
          "sf": "typeinf_local(interp::Core.Compiler.NativeInterpreter, frame::Core.Compiler.InferenceState) at abstractinterpretation.jl:1900",
          "status": "Default",
          "x1": 22,
          "x2": 24.9
         },
         {
          "level": 66,
          "sf": "abstract_eval_statement(interp::Core.Compiler.NativeInterpreter, e::Any, vtypes::Vector{Any}, sv::Core.Compiler.InferenceState) at abstractinterpretation.jl:1534",
          "status": "Default",
          "x1": 22,
          "x2": 24.9
         },
         {
          "level": 67,
          "sf": "abstract_call(interp::Core.Compiler.NativeInterpreter, fargs::Vector{Any}, argtypes::Vector{Any}, sv::Core.Compiler.InferenceState) at abstractinterpretation.jl:1382",
          "status": "Default",
          "x1": 22,
          "x2": 24.9
         },
         {
          "level": 68,
          "sf": "abstract_call(interp::Core.Compiler.NativeInterpreter, fargs::Vector{Any}, argtypes::Vector{Any}, sv::Core.Compiler.InferenceState, max_methods::Int64) at abstractinterpretation.jl:1397",
          "status": "Default",
          "x1": 22,
          "x2": 24.9
         },
         {
          "level": 69,
          "sf": "abstract_call_known(interp::Core.Compiler.NativeInterpreter, f::Any, fargs::Vector{Any}, argtypes::Vector{Any}, sv::Core.Compiler.InferenceState, max_methods::Int64) at abstractinterpretation.jl:1342",
          "status": "Default",
          "x1": 22,
          "x2": 24.9
         },
         {
          "level": 70,
          "sf": "abstract_call_gf_by_type(interp::Core.Compiler.NativeInterpreter, f::Any, fargs::Vector{Any}, argtypes::Vector{Any}, atype::Any, sv::Core.Compiler.InferenceState, max_methods::Int64) at abstractinterpretation.jl:113",
          "status": "Default",
          "x1": 22,
          "x2": 24.9
         },
         {
          "level": 71,
          "sf": "abstract_call_method_with_const_args(interp::Core.Compiler.NativeInterpreter, result::Core.Compiler.MethodCallResult, f::Any, argtypes::Vector{Any}, match::Core.MethodMatch, sv::Core.Compiler.InferenceState, va_override::Bool) at abstractinterpretation.jl:557",
          "status": "Default",
          "x1": 22,
          "x2": 24.9
         },
         {
          "level": 72,
          "sf": "typeinf(interp::Core.Compiler.NativeInterpreter, frame::Core.Compiler.InferenceState) at typeinfer.jl:209",
          "status": "Default",
          "x1": 22,
          "x2": 24.9
         },
         {
          "level": 73,
          "sf": "_typeinf(interp::Core.Compiler.NativeInterpreter, frame::Core.Compiler.InferenceState) at typeinfer.jl:226",
          "status": "Default",
          "x1": 22,
          "x2": 24.9
         },
         {
          "level": 74,
          "sf": "typeinf_nocycle(interp::Core.Compiler.NativeInterpreter, frame::Core.Compiler.InferenceState) at abstractinterpretation.jl:2014",
          "status": "Default",
          "x1": 22,
          "x2": 24.9
         },
         {
          "level": 75,
          "sf": "typeinf_local(interp::Core.Compiler.NativeInterpreter, frame::Core.Compiler.InferenceState) at abstractinterpretation.jl:1900",
          "status": "Default",
          "x1": 22,
          "x2": 24.9
         },
         {
          "level": 76,
          "sf": "abstract_eval_statement(interp::Core.Compiler.NativeInterpreter, e::Any, vtypes::Vector{Any}, sv::Core.Compiler.InferenceState) at abstractinterpretation.jl:1534",
          "status": "Default",
          "x1": 22,
          "x2": 24.9
         },
         {
          "level": 77,
          "sf": "abstract_call(interp::Core.Compiler.NativeInterpreter, fargs::Vector{Any}, argtypes::Vector{Any}, sv::Core.Compiler.InferenceState) at abstractinterpretation.jl:1382",
          "status": "Default",
          "x1": 22,
          "x2": 24.9
         },
         {
          "level": 78,
          "sf": "abstract_call(interp::Core.Compiler.NativeInterpreter, fargs::Vector{Any}, argtypes::Vector{Any}, sv::Core.Compiler.InferenceState, max_methods::Int64) at abstractinterpretation.jl:1397",
          "status": "Default",
          "x1": 22,
          "x2": 24.9
         },
         {
          "level": 79,
          "sf": "abstract_call_known(interp::Core.Compiler.NativeInterpreter, f::Any, fargs::Vector{Any}, argtypes::Vector{Any}, sv::Core.Compiler.InferenceState, max_methods::Int64) at abstractinterpretation.jl:1342",
          "status": "Default",
          "x1": 22,
          "x2": 24.9
         },
         {
          "level": 80,
          "sf": "abstract_call_gf_by_type(interp::Core.Compiler.NativeInterpreter, f::Any, fargs::Vector{Any}, argtypes::Vector{Any}, atype::Any, sv::Core.Compiler.InferenceState, max_methods::Int64) at abstractinterpretation.jl:113",
          "status": "Default",
          "x1": 22,
          "x2": 24.9
         },
         {
          "level": 81,
          "sf": "abstract_call_method_with_const_args(interp::Core.Compiler.NativeInterpreter, result::Core.Compiler.MethodCallResult, f::Any, argtypes::Vector{Any}, match::Core.MethodMatch, sv::Core.Compiler.InferenceState, va_override::Bool) at abstractinterpretation.jl:557",
          "status": "Default",
          "x1": 22,
          "x2": 24.9
         },
         {
          "level": 82,
          "sf": "typeinf(interp::Core.Compiler.NativeInterpreter, frame::Core.Compiler.InferenceState) at typeinfer.jl:209",
          "status": "Default",
          "x1": 22,
          "x2": 24.9
         },
         {
          "level": 83,
          "sf": "_typeinf(interp::Core.Compiler.NativeInterpreter, frame::Core.Compiler.InferenceState) at typeinfer.jl:226",
          "status": "Default",
          "x1": 22,
          "x2": 23.9
         },
         {
          "level": 84,
          "sf": "typeinf_nocycle(interp::Core.Compiler.NativeInterpreter, frame::Core.Compiler.InferenceState) at abstractinterpretation.jl:2014",
          "status": "Default",
          "x1": 22,
          "x2": 23.9
         },
         {
          "level": 85,
          "sf": "typeinf_local(interp::Core.Compiler.NativeInterpreter, frame::Core.Compiler.InferenceState) at abstractinterpretation.jl:1918",
          "status": "Default",
          "x1": 22,
          "x2": 23.9
         },
         {
          "level": 86,
          "sf": "abstract_eval_statement(interp::Core.Compiler.NativeInterpreter, e::Any, vtypes::Vector{Any}, sv::Core.Compiler.InferenceState) at abstractinterpretation.jl:1534",
          "status": "Default",
          "x1": 22,
          "x2": 23.9
         },
         {
          "level": 87,
          "sf": "abstract_call(interp::Core.Compiler.NativeInterpreter, fargs::Vector{Any}, argtypes::Vector{Any}, sv::Core.Compiler.InferenceState) at abstractinterpretation.jl:1382",
          "status": "Default",
          "x1": 22,
          "x2": 23.9
         },
         {
          "level": 88,
          "sf": "abstract_call(interp::Core.Compiler.NativeInterpreter, fargs::Vector{Any}, argtypes::Vector{Any}, sv::Core.Compiler.InferenceState, max_methods::Int64) at abstractinterpretation.jl:1397",
          "status": "Default",
          "x1": 22,
          "x2": 23.9
         },
         {
          "level": 89,
          "sf": "abstract_call_known(interp::Core.Compiler.NativeInterpreter, f::Any, fargs::Vector{Any}, argtypes::Vector{Any}, sv::Core.Compiler.InferenceState, max_methods::Int64) at abstractinterpretation.jl:1342",
          "status": "Default",
          "x1": 22,
          "x2": 23.9
         },
         {
          "level": 90,
          "sf": "abstract_call_gf_by_type(interp::Core.Compiler.NativeInterpreter, f::Any, fargs::Vector{Any}, argtypes::Vector{Any}, atype::Any, sv::Core.Compiler.InferenceState, max_methods::Int64) at abstractinterpretation.jl:113",
          "status": "Default",
          "x1": 22,
          "x2": 23.9
         },
         {
          "level": 91,
          "sf": "abstract_call_method_with_const_args(interp::Core.Compiler.NativeInterpreter, result::Core.Compiler.MethodCallResult, f::Any, argtypes::Vector{Any}, match::Core.MethodMatch, sv::Core.Compiler.InferenceState, va_override::Bool) at abstractinterpretation.jl:557",
          "status": "Default",
          "x1": 22,
          "x2": 23.9
         },
         {
          "level": 92,
          "sf": "typeinf(interp::Core.Compiler.NativeInterpreter, frame::Core.Compiler.InferenceState) at typeinfer.jl:209",
          "status": "Default",
          "x1": 22,
          "x2": 23.9
         },
         {
          "level": 93,
          "sf": "_typeinf(interp::Core.Compiler.NativeInterpreter, frame::Core.Compiler.InferenceState) at typeinfer.jl:226",
          "status": "Default",
          "x1": 22,
          "x2": 22.9
         },
         {
          "level": 94,
          "sf": "typeinf_nocycle(interp::Core.Compiler.NativeInterpreter, frame::Core.Compiler.InferenceState) at abstractinterpretation.jl:2014",
          "status": "Default",
          "x1": 22,
          "x2": 22.9
         },
         {
          "level": 95,
          "sf": "typeinf_local(interp::Core.Compiler.NativeInterpreter, frame::Core.Compiler.InferenceState) at abstractinterpretation.jl:1918",
          "status": "Default",
          "x1": 22,
          "x2": 22.9
         },
         {
          "level": 96,
          "sf": "abstract_eval_statement(interp::Core.Compiler.NativeInterpreter, e::Any, vtypes::Vector{Any}, sv::Core.Compiler.InferenceState) at abstractinterpretation.jl:1534",
          "status": "Default",
          "x1": 22,
          "x2": 22.9
         },
         {
          "level": 97,
          "sf": "abstract_call(interp::Core.Compiler.NativeInterpreter, fargs::Vector{Any}, argtypes::Vector{Any}, sv::Core.Compiler.InferenceState) at abstractinterpretation.jl:1382",
          "status": "Default",
          "x1": 22,
          "x2": 22.9
         },
         {
          "level": 98,
          "sf": "abstract_call(interp::Core.Compiler.NativeInterpreter, fargs::Vector{Any}, argtypes::Vector{Any}, sv::Core.Compiler.InferenceState, max_methods::Int64) at abstractinterpretation.jl:1397",
          "status": "Default",
          "x1": 22,
          "x2": 22.9
         },
         {
          "level": 99,
          "sf": "abstract_call_known(interp::Core.Compiler.NativeInterpreter, f::Any, fargs::Vector{Any}, argtypes::Vector{Any}, sv::Core.Compiler.InferenceState, max_methods::Int64) at abstractinterpretation.jl:1342",
          "status": "Default",
          "x1": 22,
          "x2": 22.9
         },
         {
          "level": 100,
          "sf": "abstract_call_gf_by_type(interp::Core.Compiler.NativeInterpreter, f::Any, fargs::Vector{Any}, argtypes::Vector{Any}, atype::Any, sv::Core.Compiler.InferenceState, max_methods::Int64) at abstractinterpretation.jl:113",
          "status": "Default",
          "x1": 22,
          "x2": 22.9
         },
         {
          "level": 101,
          "sf": "abstract_call_method_with_const_args(interp::Core.Compiler.NativeInterpreter, result::Core.Compiler.MethodCallResult, f::Any, argtypes::Vector{Any}, match::Core.MethodMatch, sv::Core.Compiler.InferenceState, va_override::Bool) at abstractinterpretation.jl:557",
          "status": "Default",
          "x1": 22,
          "x2": 22.9
         },
         {
          "level": 102,
          "sf": "typeinf(interp::Core.Compiler.NativeInterpreter, frame::Core.Compiler.InferenceState) at typeinfer.jl:209",
          "status": "Default",
          "x1": 22,
          "x2": 22.9
         },
         {
          "level": 103,
          "sf": "_typeinf(interp::Core.Compiler.NativeInterpreter, frame::Core.Compiler.InferenceState) at typeinfer.jl:226",
          "status": "Default",
          "x1": 22,
          "x2": 22.9
         },
         {
          "level": 104,
          "sf": "typeinf_nocycle(interp::Core.Compiler.NativeInterpreter, frame::Core.Compiler.InferenceState) at abstractinterpretation.jl:2014",
          "status": "Default",
          "x1": 22,
          "x2": 22.9
         },
         {
          "level": 105,
          "sf": "typeinf_local(interp::Core.Compiler.NativeInterpreter, frame::Core.Compiler.InferenceState) at abstractinterpretation.jl:1918",
          "status": "Default",
          "x1": 22,
          "x2": 22.9
         },
         {
          "level": 106,
          "sf": "abstract_eval_statement(interp::Core.Compiler.NativeInterpreter, e::Any, vtypes::Vector{Any}, sv::Core.Compiler.InferenceState) at abstractinterpretation.jl:1534",
          "status": "Default",
          "x1": 22,
          "x2": 22.9
         },
         {
          "level": 107,
          "sf": "abstract_call(interp::Core.Compiler.NativeInterpreter, fargs::Vector{Any}, argtypes::Vector{Any}, sv::Core.Compiler.InferenceState) at abstractinterpretation.jl:1382",
          "status": "Default",
          "x1": 22,
          "x2": 22.9
         },
         {
          "level": 108,
          "sf": "abstract_call(interp::Core.Compiler.NativeInterpreter, fargs::Vector{Any}, argtypes::Vector{Any}, sv::Core.Compiler.InferenceState, max_methods::Int64) at abstractinterpretation.jl:1397",
          "status": "Default",
          "x1": 22,
          "x2": 22.9
         },
         {
          "level": 109,
          "sf": "abstract_call_known(interp::Core.Compiler.NativeInterpreter, f::Any, fargs::Vector{Any}, argtypes::Vector{Any}, sv::Core.Compiler.InferenceState, max_methods::Int64) at abstractinterpretation.jl:1342",
          "status": "Default",
          "x1": 22,
          "x2": 22.9
         },
         {
          "level": 110,
          "sf": "abstract_call_gf_by_type(interp::Core.Compiler.NativeInterpreter, f::Any, fargs::Vector{Any}, argtypes::Vector{Any}, atype::Any, sv::Core.Compiler.InferenceState, max_methods::Int64) at abstractinterpretation.jl:113",
          "status": "Default",
          "x1": 22,
          "x2": 22.9
         },
         {
          "level": 111,
          "sf": "abstract_call_method_with_const_args(interp::Core.Compiler.NativeInterpreter, result::Core.Compiler.MethodCallResult, f::Any, argtypes::Vector{Any}, match::Core.MethodMatch, sv::Core.Compiler.InferenceState, va_override::Bool) at abstractinterpretation.jl:557",
          "status": "Default",
          "x1": 22,
          "x2": 22.9
         },
         {
          "level": 112,
          "sf": "typeinf(interp::Core.Compiler.NativeInterpreter, frame::Core.Compiler.InferenceState) at typeinfer.jl:209",
          "status": "Default",
          "x1": 22,
          "x2": 22.9
         },
         {
          "level": 113,
          "sf": "_typeinf(interp::Core.Compiler.NativeInterpreter, frame::Core.Compiler.InferenceState) at typeinfer.jl:226",
          "status": "Default",
          "x1": 22,
          "x2": 22.9
         },
         {
          "level": 114,
          "sf": "typeinf_nocycle(interp::Core.Compiler.NativeInterpreter, frame::Core.Compiler.InferenceState) at abstractinterpretation.jl:2014",
          "status": "Default",
          "x1": 22,
          "x2": 22.9
         },
         {
          "level": 115,
          "sf": "typeinf_local(interp::Core.Compiler.NativeInterpreter, frame::Core.Compiler.InferenceState) at abstractinterpretation.jl:1918",
          "status": "Default",
          "x1": 22,
          "x2": 22.9
         },
         {
          "level": 116,
          "sf": "abstract_eval_statement(interp::Core.Compiler.NativeInterpreter, e::Any, vtypes::Vector{Any}, sv::Core.Compiler.InferenceState) at abstractinterpretation.jl:1534",
          "status": "Default",
          "x1": 22,
          "x2": 22.9
         },
         {
          "level": 117,
          "sf": "abstract_call(interp::Core.Compiler.NativeInterpreter, fargs::Vector{Any}, argtypes::Vector{Any}, sv::Core.Compiler.InferenceState) at abstractinterpretation.jl:1382",
          "status": "Default",
          "x1": 22,
          "x2": 22.9
         },
         {
          "level": 118,
          "sf": "abstract_call(interp::Core.Compiler.NativeInterpreter, fargs::Vector{Any}, argtypes::Vector{Any}, sv::Core.Compiler.InferenceState, max_methods::Int64) at abstractinterpretation.jl:1397",
          "status": "Default",
          "x1": 22,
          "x2": 22.9
         },
         {
          "level": 119,
          "sf": "abstract_call_known(interp::Core.Compiler.NativeInterpreter, f::Any, fargs::Vector{Any}, argtypes::Vector{Any}, sv::Core.Compiler.InferenceState, max_methods::Int64) at abstractinterpretation.jl:1342",
          "status": "Default",
          "x1": 22,
          "x2": 22.9
         },
         {
          "level": 120,
          "sf": "abstract_call_gf_by_type(interp::Core.Compiler.NativeInterpreter, f::Any, fargs::Vector{Any}, argtypes::Vector{Any}, atype::Any, sv::Core.Compiler.InferenceState, max_methods::Int64) at abstractinterpretation.jl:113",
          "status": "Default",
          "x1": 22,
          "x2": 22.9
         },
         {
          "level": 121,
          "sf": "abstract_call_method_with_const_args(interp::Core.Compiler.NativeInterpreter, result::Core.Compiler.MethodCallResult, f::Any, argtypes::Vector{Any}, match::Core.MethodMatch, sv::Core.Compiler.InferenceState, va_override::Bool) at abstractinterpretation.jl:557",
          "status": "Default",
          "x1": 22,
          "x2": 22.9
         },
         {
          "level": 122,
          "sf": "typeinf(interp::Core.Compiler.NativeInterpreter, frame::Core.Compiler.InferenceState) at typeinfer.jl:209",
          "status": "Default",
          "x1": 22,
          "x2": 22.9
         },
         {
          "level": 123,
          "sf": "_typeinf(interp::Core.Compiler.NativeInterpreter, frame::Core.Compiler.InferenceState) at typeinfer.jl:226",
          "status": "Default",
          "x1": 22,
          "x2": 22.9
         },
         {
          "level": 124,
          "sf": "typeinf_nocycle(interp::Core.Compiler.NativeInterpreter, frame::Core.Compiler.InferenceState) at abstractinterpretation.jl:2014",
          "status": "Default",
          "x1": 22,
          "x2": 22.9
         },
         {
          "level": 125,
          "sf": "typeinf_local(interp::Core.Compiler.NativeInterpreter, frame::Core.Compiler.InferenceState) at abstractinterpretation.jl:1918",
          "status": "Default",
          "x1": 22,
          "x2": 22.9
         },
         {
          "level": 126,
          "sf": "abstract_eval_statement(interp::Core.Compiler.NativeInterpreter, e::Any, vtypes::Vector{Any}, sv::Core.Compiler.InferenceState) at abstractinterpretation.jl:1534",
          "status": "Default",
          "x1": 22,
          "x2": 22.9
         },
         {
          "level": 127,
          "sf": "abstract_call(interp::Core.Compiler.NativeInterpreter, fargs::Vector{Any}, argtypes::Vector{Any}, sv::Core.Compiler.InferenceState) at abstractinterpretation.jl:1382",
          "status": "Default",
          "x1": 22,
          "x2": 22.9
         },
         {
          "level": 128,
          "sf": "abstract_call(interp::Core.Compiler.NativeInterpreter, fargs::Vector{Any}, argtypes::Vector{Any}, sv::Core.Compiler.InferenceState, max_methods::Int64) at abstractinterpretation.jl:1397",
          "status": "Default",
          "x1": 22,
          "x2": 22.9
         },
         {
          "level": 129,
          "sf": "abstract_call_known(interp::Core.Compiler.NativeInterpreter, f::Any, fargs::Vector{Any}, argtypes::Vector{Any}, sv::Core.Compiler.InferenceState, max_methods::Int64) at abstractinterpretation.jl:1342",
          "status": "Default",
          "x1": 22,
          "x2": 22.9
         },
         {
          "level": 130,
          "sf": "abstract_call_gf_by_type(interp::Core.Compiler.NativeInterpreter, f::Any, fargs::Vector{Any}, argtypes::Vector{Any}, atype::Any, sv::Core.Compiler.InferenceState, max_methods::Int64) at abstractinterpretation.jl:113",
          "status": "Default",
          "x1": 22,
          "x2": 22.9
         },
         {
          "level": 131,
          "sf": "abstract_call_method_with_const_args(interp::Core.Compiler.NativeInterpreter, result::Core.Compiler.MethodCallResult, f::Any, argtypes::Vector{Any}, match::Core.MethodMatch, sv::Core.Compiler.InferenceState, va_override::Bool) at abstractinterpretation.jl:557",
          "status": "Default",
          "x1": 22,
          "x2": 22.9
         },
         {
          "level": 132,
          "sf": "typeinf(interp::Core.Compiler.NativeInterpreter, frame::Core.Compiler.InferenceState) at typeinfer.jl:209",
          "status": "Default",
          "x1": 22,
          "x2": 22.9
         },
         {
          "level": 133,
          "sf": "_typeinf(interp::Core.Compiler.NativeInterpreter, frame::Core.Compiler.InferenceState) at typeinfer.jl:226",
          "status": "Default",
          "x1": 22,
          "x2": 22.9
         },
         {
          "level": 134,
          "sf": "typeinf_nocycle(interp::Core.Compiler.NativeInterpreter, frame::Core.Compiler.InferenceState) at abstractinterpretation.jl:2014",
          "status": "Default",
          "x1": 22,
          "x2": 22.9
         },
         {
          "level": 135,
          "sf": "typeinf_local(interp::Core.Compiler.NativeInterpreter, frame::Core.Compiler.InferenceState) at abstractinterpretation.jl:1918",
          "status": "Default",
          "x1": 22,
          "x2": 22.9
         },
         {
          "level": 136,
          "sf": "abstract_eval_statement(interp::Core.Compiler.NativeInterpreter, e::Any, vtypes::Vector{Any}, sv::Core.Compiler.InferenceState) at abstractinterpretation.jl:1534",
          "status": "Default",
          "x1": 22,
          "x2": 22.9
         },
         {
          "level": 137,
          "sf": "abstract_call(interp::Core.Compiler.NativeInterpreter, fargs::Vector{Any}, argtypes::Vector{Any}, sv::Core.Compiler.InferenceState) at abstractinterpretation.jl:1382",
          "status": "Default",
          "x1": 22,
          "x2": 22.9
         },
         {
          "level": 138,
          "sf": "abstract_call(interp::Core.Compiler.NativeInterpreter, fargs::Vector{Any}, argtypes::Vector{Any}, sv::Core.Compiler.InferenceState, max_methods::Int64) at abstractinterpretation.jl:1397",
          "status": "Default",
          "x1": 22,
          "x2": 22.9
         },
         {
          "level": 139,
          "sf": "abstract_call_known(interp::Core.Compiler.NativeInterpreter, f::Any, fargs::Vector{Any}, argtypes::Vector{Any}, sv::Core.Compiler.InferenceState, max_methods::Int64) at abstractinterpretation.jl:1249",
          "status": "Default",
          "x1": 22,
          "x2": 22.9
         },
         {
          "level": 140,
          "sf": "abstract_apply(interp::Core.Compiler.NativeInterpreter, argtypes::Vector{Any}, sv::Core.Compiler.InferenceState, max_methods::Int64) at abstractinterpretation.jl:987",
          "status": "Default",
          "x1": 22,
          "x2": 22.9
         },
         {
          "level": 141,
          "sf": "abstract_call(interp::Core.Compiler.NativeInterpreter, fargs::Nothing, argtypes::Vector{Any}, sv::Core.Compiler.InferenceState, max_methods::Int64) at abstractinterpretation.jl:1397",
          "status": "Default",
          "x1": 22,
          "x2": 22.9
         },
         {
          "level": 142,
          "sf": "abstract_call_known(interp::Core.Compiler.NativeInterpreter, f::Any, fargs::Nothing, argtypes::Vector{Any}, sv::Core.Compiler.InferenceState, max_methods::Int64) at abstractinterpretation.jl:1342",
          "status": "Default",
          "x1": 22,
          "x2": 22.9
         },
         {
          "level": 143,
          "sf": "abstract_call_gf_by_type(interp::Core.Compiler.NativeInterpreter, f::Any, fargs::Nothing, argtypes::Vector{Any}, atype::Any, sv::Core.Compiler.InferenceState, max_methods::Int64) at abstractinterpretation.jl:105",
          "status": "Default",
          "x1": 22,
          "x2": 22.9
         },
         {
          "level": 144,
          "sf": "abstract_call_method(interp::Core.Compiler.NativeInterpreter, method::Method, sig::Any, sparams::Core.SimpleVector, hardlimit::Bool, sv::Core.Compiler.InferenceState) at abstractinterpretation.jl:504",
          "status": "Default",
          "x1": 22,
          "x2": 22.9
         },
         {
          "level": 145,
          "sf": "typeinf_edge at typeinfer.jl:781 [inlined]",
          "status": "Default",
          "x1": 22,
          "x2": 22.9
         },
         {
          "level": 146,
          "sf": "get at cicache.jl:56 [inlined]",
          "status": "Default",
          "x1": 22,
          "x2": 22.9
         },
         {
          "level": 93,
          "sf": "_typeinf(interp::Core.Compiler.NativeInterpreter, frame::Core.Compiler.InferenceState) at typeinfer.jl:255",
          "status": "Default",
          "x1": 23,
          "x2": 23.9
         },
         {
          "level": 94,
          "sf": "optimize at optimize.jl:296 [inlined]",
          "status": "Default",
          "x1": 23,
          "x2": 23.9
         },
         {
          "level": 95,
          "sf": "run_passes(ci::Core.CodeInfo, nargs::Int64, sv::Core.Compiler.OptimizationState) at optimize.jl:309",
          "status": "Default",
          "x1": 23,
          "x2": 23.9
         },
         {
          "level": 96,
          "sf": "compact! at ir.jl:1441 [inlined]",
          "status": "Default",
          "x1": 23,
          "x2": 23.9
         },
         {
          "level": 97,
          "sf": "compact!(code::Core.Compiler.IRCode, allow_cfg_transforms::Bool) at ir.jl:1441",
          "status": "Default",
          "x1": 23,
          "x2": 23.9
         },
         {
          "level": 98,
          "sf": "Core.Compiler.IncrementalCompact(code::Core.Compiler.IRCode, allow_cfg_transforms::Bool) at ir.jl:620",
          "status": "Default",
          "x1": 23,
          "x2": 23.9
         },
         {
          "level": 99,
          "sf": "NewNodeStream at ir.jl:269 [inlined]",
          "status": "Default",
          "x1": 23,
          "x2": 23.9
         },
         {
          "level": 100,
          "sf": "NewNodeStream at ir.jl:269 [inlined]",
          "status": "Default",
          "x1": 23,
          "x2": 23.9
         },
         {
          "level": 101,
          "sf": "Core.Compiler.InstructionStream(len::Int64) at ir.jl:192",
          "status": "Default",
          "x1": 23,
          "x2": 23.9
         },
         {
          "level": 102,
          "sf": "Array at boot.jl:471 [inlined]",
          "status": "Default",
          "x1": 23,
          "x2": 23.9
         },
         {
          "level": 103,
          "sf": "Array at boot.jl:457 [inlined]",
          "status": "Default",
          "x1": 23,
          "x2": 23.9
         },
         {
          "level": 83,
          "sf": "_typeinf(interp::Core.Compiler.NativeInterpreter, frame::Core.Compiler.InferenceState) at typeinfer.jl:255",
          "status": "Default",
          "x1": 24,
          "x2": 24.9
         },
         {
          "level": 84,
          "sf": "optimize at optimize.jl:296 [inlined]",
          "status": "Default",
          "x1": 24,
          "x2": 24.9
         },
         {
          "level": 85,
          "sf": "run_passes(ci::Core.CodeInfo, nargs::Int64, sv::Core.Compiler.OptimizationState) at optimize.jl:314",
          "status": "Default",
          "x1": 24,
          "x2": 24.9
         },
         {
          "level": 86,
          "sf": "adce_pass!(ir::Core.Compiler.IRCode) at passes.jl:898",
          "status": "Default",
          "x1": 24,
          "x2": 24.9
         },
         {
          "level": 87,
          "sf": "IncrementalCompact at ir.jl:575 [inlined]",
          "status": "Default",
          "x1": 24,
          "x2": 24.9
         },
         {
          "level": 88,
          "sf": "Core.Compiler.IncrementalCompact(code::Core.Compiler.IRCode, allow_cfg_transforms::Bool) at ir.jl:620",
          "status": "Default",
          "x1": 24,
          "x2": 24.9
         },
         {
          "level": 89,
          "sf": "NewNodeStream at ir.jl:269 [inlined]",
          "status": "Default",
          "x1": 24,
          "x2": 24.9
         },
         {
          "level": 90,
          "sf": "NewNodeStream at ir.jl:269 [inlined]",
          "status": "Default",
          "x1": 24,
          "x2": 24.9
         },
         {
          "level": 91,
          "sf": "Core.Compiler.InstructionStream(len::Int64) at ir.jl:193",
          "status": "Default",
          "x1": 24,
          "x2": 24.9
         },
         {
          "level": 92,
          "sf": "Array at boot.jl:471 [inlined]",
          "status": "Default",
          "x1": 24,
          "x2": 24.9
         },
         {
          "level": 93,
          "sf": "Array at boot.jl:457 [inlined]",
          "status": "Default",
          "x1": 24,
          "x2": 24.9
         },
         {
          "level": 65,
          "sf": "typeinf_local(interp::Core.Compiler.NativeInterpreter, frame::Core.Compiler.InferenceState) at abstractinterpretation.jl:1918",
          "status": "Default",
          "x1": 25,
          "x2": 29.9
         },
         {
          "level": 66,
          "sf": "abstract_eval_statement(interp::Core.Compiler.NativeInterpreter, e::Any, vtypes::Vector{Any}, sv::Core.Compiler.InferenceState) at abstractinterpretation.jl:1534",
          "status": "Default",
          "x1": 25,
          "x2": 28.9
         },
         {
          "level": 67,
          "sf": "abstract_call(interp::Core.Compiler.NativeInterpreter, fargs::Vector{Any}, argtypes::Vector{Any}, sv::Core.Compiler.InferenceState) at abstractinterpretation.jl:1382",
          "status": "Default",
          "x1": 25,
          "x2": 28.9
         },
         {
          "level": 68,
          "sf": "abstract_call(interp::Core.Compiler.NativeInterpreter, fargs::Vector{Any}, argtypes::Vector{Any}, sv::Core.Compiler.InferenceState, max_methods::Int64) at abstractinterpretation.jl:1397",
          "status": "Default",
          "x1": 25,
          "x2": 28.9
         },
         {
          "level": 69,
          "sf": "abstract_call_known(interp::Core.Compiler.NativeInterpreter, f::Any, fargs::Vector{Any}, argtypes::Vector{Any}, sv::Core.Compiler.InferenceState, max_methods::Int64) at abstractinterpretation.jl:1342",
          "status": "Default",
          "x1": 25,
          "x2": 28.9
         },
         {
          "level": 70,
          "sf": "abstract_call_gf_by_type(interp::Core.Compiler.NativeInterpreter, f::Any, fargs::Vector{Any}, argtypes::Vector{Any}, atype::Any, sv::Core.Compiler.InferenceState, max_methods::Int64) at abstractinterpretation.jl:113",
          "status": "Default",
          "x1": 25,
          "x2": 28.9
         },
         {
          "level": 71,
          "sf": "abstract_call_method_with_const_args(interp::Core.Compiler.NativeInterpreter, result::Core.Compiler.MethodCallResult, f::Any, argtypes::Vector{Any}, match::Core.MethodMatch, sv::Core.Compiler.InferenceState, va_override::Bool) at abstractinterpretation.jl:548",
          "status": "Default",
          "x1": 25,
          "x2": 25.9
         },
         {
          "level": 72,
          "sf": "InferenceResult at types.jl:33 [inlined]",
          "status": "Default",
          "x1": 25,
          "x2": 25.9
         },
         {
          "level": 73,
          "sf": "matching_cache_argtypes(linfo::Core.MethodInstance, given_argtypes::Vector{Any}, va_override::Bool) at inferenceresult.jl:37",
          "status": "Default",
          "x1": 25,
          "x2": 25.9
         },
         {
          "level": 74,
          "sf": "matching_cache_argtypes(linfo::Core.MethodInstance, #unused#::Nothing, va_override::Bool) at inferenceresult.jl:152",
          "status": "Runtime dispatch",
          "x1": 25,
          "x2": 25.9
         },
         {
          "level": 75,
          "sf": "most_general_argtypes(method::Method, specTypes::Any, isva::Bool) at inferenceresult.jl:52",
          "status": "Default",
          "x1": 25,
          "x2": 25.9
         },
         {
          "level": 76,
          "sf": "most_general_argtypes(method::Method, specTypes::Any, isva::Bool, withfirst::Bool) at inferenceresult.jl:53",
          "status": "Runtime dispatch",
          "x1": 25,
          "x2": 25.9
         },
         {
          "level": 71,
          "sf": "abstract_call_method_with_const_args(interp::Core.Compiler.NativeInterpreter, result::Core.Compiler.MethodCallResult, f::Any, argtypes::Vector{Any}, match::Core.MethodMatch, sv::Core.Compiler.InferenceState, va_override::Bool) at abstractinterpretation.jl:557",
          "status": "Default",
          "x1": 26,
          "x2": 28.9
         },
         {
          "level": 72,
          "sf": "typeinf(interp::Core.Compiler.NativeInterpreter, frame::Core.Compiler.InferenceState) at typeinfer.jl:209",
          "status": "Default",
          "x1": 26,
          "x2": 28.9
         },
         {
          "level": 73,
          "sf": "_typeinf(interp::Core.Compiler.NativeInterpreter, frame::Core.Compiler.InferenceState) at typeinfer.jl:226",
          "status": "Default",
          "x1": 26,
          "x2": 26.9
         },
         {
          "level": 74,
          "sf": "typeinf_nocycle(interp::Core.Compiler.NativeInterpreter, frame::Core.Compiler.InferenceState) at abstractinterpretation.jl:2014",
          "status": "Default",
          "x1": 26,
          "x2": 26.9
         },
         {
          "level": 75,
          "sf": "typeinf_local(interp::Core.Compiler.NativeInterpreter, frame::Core.Compiler.InferenceState) at abstractinterpretation.jl:1918",
          "status": "Default",
          "x1": 26,
          "x2": 26.9
         },
         {
          "level": 76,
          "sf": "abstract_eval_statement(interp::Core.Compiler.NativeInterpreter, e::Any, vtypes::Vector{Any}, sv::Core.Compiler.InferenceState) at abstractinterpretation.jl:1534",
          "status": "Default",
          "x1": 26,
          "x2": 26.9
         },
         {
          "level": 77,
          "sf": "abstract_call(interp::Core.Compiler.NativeInterpreter, fargs::Vector{Any}, argtypes::Vector{Any}, sv::Core.Compiler.InferenceState) at abstractinterpretation.jl:1382",
          "status": "Default",
          "x1": 26,
          "x2": 26.9
         },
         {
          "level": 78,
          "sf": "abstract_call(interp::Core.Compiler.NativeInterpreter, fargs::Vector{Any}, argtypes::Vector{Any}, sv::Core.Compiler.InferenceState, max_methods::Int64) at abstractinterpretation.jl:1397",
          "status": "Default",
          "x1": 26,
          "x2": 26.9
         },
         {
          "level": 79,
          "sf": "abstract_call_known(interp::Core.Compiler.NativeInterpreter, f::Any, fargs::Vector{Any}, argtypes::Vector{Any}, sv::Core.Compiler.InferenceState, max_methods::Int64) at abstractinterpretation.jl:1342",
          "status": "Default",
          "x1": 26,
          "x2": 26.9
         },
         {
          "level": 80,
          "sf": "abstract_call_gf_by_type(interp::Core.Compiler.NativeInterpreter, f::Any, fargs::Vector{Any}, argtypes::Vector{Any}, atype::Any, sv::Core.Compiler.InferenceState, max_methods::Int64) at abstractinterpretation.jl:113",
          "status": "Default",
          "x1": 26,
          "x2": 26.9
         },
         {
          "level": 81,
          "sf": "abstract_call_method_with_const_args(interp::Core.Compiler.NativeInterpreter, result::Core.Compiler.MethodCallResult, f::Any, argtypes::Vector{Any}, match::Core.MethodMatch, sv::Core.Compiler.InferenceState, va_override::Bool) at abstractinterpretation.jl:557",
          "status": "Default",
          "x1": 26,
          "x2": 26.9
         },
         {
          "level": 82,
          "sf": "typeinf(interp::Core.Compiler.NativeInterpreter, frame::Core.Compiler.InferenceState) at typeinfer.jl:209",
          "status": "Default",
          "x1": 26,
          "x2": 26.9
         },
         {
          "level": 83,
          "sf": "_typeinf(interp::Core.Compiler.NativeInterpreter, frame::Core.Compiler.InferenceState) at typeinfer.jl:255",
          "status": "Default",
          "x1": 26,
          "x2": 26.9
         },
         {
          "level": 84,
          "sf": "optimize at optimize.jl:296 [inlined]",
          "status": "Default",
          "x1": 26,
          "x2": 26.9
         },
         {
          "level": 85,
          "sf": "run_passes(ci::Core.CodeInfo, nargs::Int64, sv::Core.Compiler.OptimizationState) at optimize.jl:303",
          "status": "Default",
          "x1": 26,
          "x2": 26.9
         },
         {
          "level": 86,
          "sf": "slot2reg at optimize.jl:419 [inlined]",
          "status": "Default",
          "x1": 26,
          "x2": 26.9
         },
         {
          "level": 87,
          "sf": "construct_ssa!(ci::Core.CodeInfo, ir::Core.Compiler.IRCode, domtree::Core.Compiler.DomTree, defuses::Vector{Core.Compiler.SlotInfo}, nargs::Int64, slottypes::Vector{Any}) at slot2ssa.jl:651",
          "status": "Default",
          "x1": 26,
          "x2": 26.9
         },
         {
          "level": 88,
          "sf": "idf(cfg::Core.Compiler.CFG, liveness::Core.Compiler.BlockLiveness, domtree::Core.Compiler.DomTree) at slot2ssa.jl:269",
          "status": "Default",
          "x1": 26,
          "x2": 26.9
         },
         {
          "level": 89,
          "sf": "_array_for at array.jl:616 [inlined]",
          "status": "Default",
          "x1": 26,
          "x2": 26.9
         },
         {
          "level": 90,
          "sf": "_array_for at array.jl:613 [inlined]",
          "status": "Default",
          "x1": 26,
          "x2": 26.9
         },
         {
          "level": 91,
          "sf": "similar at abstractarray.jl:828 [inlined]",
          "status": "Default",
          "x1": 26,
          "x2": 26.9
         },
         {
          "level": 92,
          "sf": "similar at abstractarray.jl:829 [inlined]",
          "status": "Default",
          "x1": 26,
          "x2": 26.9
         },
         {
          "level": 93,
          "sf": "Array at boot.jl:466 [inlined]",
          "status": "Default",
          "x1": 26,
          "x2": 26.9
         },
         {
          "level": 94,
          "sf": "Array at boot.jl:457 [inlined]",
          "status": "Garbage collection",
          "x1": 26,
          "x2": 26.9
         },
         {
          "level": 73,
          "sf": "_typeinf(interp::Core.Compiler.NativeInterpreter, frame::Core.Compiler.InferenceState) at typeinfer.jl:255",
          "status": "Default",
          "x1": 27,
          "x2": 28.9
         },
         {
          "level": 74,
          "sf": "optimize at optimize.jl:296 [inlined]",
          "status": "Default",
          "x1": 27,
          "x2": 28.9
         },
         {
          "level": 75,
          "sf": "run_passes(ci::Core.CodeInfo, nargs::Int64, sv::Core.Compiler.OptimizationState) at optimize.jl:303",
          "status": "Default",
          "x1": 27,
          "x2": 27.9
         },
         {
          "level": 76,
          "sf": "slot2reg at optimize.jl:419 [inlined]",
          "status": "Default",
          "x1": 27,
          "x2": 27.9
         },
         {
          "level": 77,
          "sf": "construct_ssa!(ci::Core.CodeInfo, ir::Core.Compiler.IRCode, domtree::Core.Compiler.DomTree, defuses::Vector{Core.Compiler.SlotInfo}, nargs::Int64, slottypes::Vector{Any}) at slot2ssa.jl:582",
          "status": "Default",
          "x1": 27,
          "x2": 27.9
         },
         {
          "level": 78,
          "sf": "getindex at array.jl:411 [inlined]",
          "status": "Default",
          "x1": 27,
          "x2": 27.9
         },
         {
          "level": 79,
          "sf": "Array at boot.jl:476 [inlined]",
          "status": "Default",
          "x1": 27,
          "x2": 27.9
         },
         {
          "level": 80,
          "sf": "Array at boot.jl:457 [inlined]",
          "status": "Garbage collection",
          "x1": 27,
          "x2": 27.9
         },
         {
          "level": 75,
          "sf": "run_passes(ci::Core.CodeInfo, nargs::Int64, sv::Core.Compiler.OptimizationState) at optimize.jl:317",
          "status": "Default",
          "x1": 28,
          "x2": 28.9
         },
         {
          "level": 76,
          "sf": "compact! at ir.jl:1441 [inlined]",
          "status": "Default",
          "x1": 28,
          "x2": 28.9
         },
         {
          "level": 77,
          "sf": "compact!(code::Core.Compiler.IRCode, allow_cfg_transforms::Bool) at ir.jl:1444",
          "status": "Default",
          "x1": 28,
          "x2": 28.9
         },
         {
          "level": 78,
          "sf": "finish(compact::Core.Compiler.IncrementalCompact) at ir.jl:1429",
          "status": "Default",
          "x1": 28,
          "x2": 28.9
         },
         {
          "level": 79,
          "sf": "non_dce_finish! at ir.jl:1419 [inlined]",
          "status": "Default",
          "x1": 28,
          "x2": 28.9
         },
         {
          "level": 66,
          "sf": "abstract_eval_statement(interp::Core.Compiler.NativeInterpreter, e::Any, vtypes::Vector{Any}, sv::Core.Compiler.InferenceState) at abstractinterpretation.jl:1539",
          "status": "Default",
          "x1": 29,
          "x2": 29.9
         },
         {
          "level": 67,
          "sf": "instanceof_tfunc(t::Any) at tfuncs.jl:68",
          "status": "Default",
          "x1": 29,
          "x2": 29.9
         },
         {
          "level": 53,
          "sf": "_typeinf(interp::Core.Compiler.NativeInterpreter, frame::Core.Compiler.InferenceState) at typeinfer.jl:255",
          "status": "Default",
          "x1": 30,
          "x2": 31.9
         },
         {
          "level": 54,
          "sf": "optimize at optimize.jl:296 [inlined]",
          "status": "Default",
          "x1": 30,
          "x2": 31.9
         },
         {
          "level": 55,
          "sf": "run_passes(ci::Core.CodeInfo, nargs::Int64, sv::Core.Compiler.OptimizationState) at optimize.jl:307",
          "status": "Runtime dispatch",
          "x1": 30,
          "x2": 31.9
         },
         {
          "level": 56,
          "sf": "ssa_inlining_pass!(ir::Core.Compiler.IRCode, linetable::Vector{Core.LineInfoNode}, state::Core.Compiler.InliningState{Core.Compiler.EdgeTracker, Core.Compiler.WorldView{Core.Compiler.InternalCodeCache}, typeof(Core.Compiler.default_inlining_policy)}, propagate_inbounds::Bool) at inlining.jl:80",
          "status": "Default",
          "x1": 30,
          "x2": 30.9
         },
         {
          "level": 57,
          "sf": "assemble_inline_todo!(ir::Core.Compiler.IRCode, state::Core.Compiler.InliningState{Core.Compiler.EdgeTracker, Core.Compiler.WorldView{Core.Compiler.InternalCodeCache}, typeof(Core.Compiler.default_inlining_policy)}) at inlining.jl:1419",
          "status": "Default",
          "x1": 30,
          "x2": 30.9
         },
         {
          "level": 58,
          "sf": "analyze_single_call!(ir::Core.Compiler.IRCode, todo::Vector{Pair{Int64, Any}}, idx::Int64, stmt::Any, ::Core.Compiler.Signature, infos::Vector{Core.Compiler.MethodMatchInfo}, state::Core.Compiler.InliningState{Core.Compiler.EdgeTracker, Core.Compiler.WorldView{Core.Compiler.InternalCodeCache}, typeof(Core.Compiler.default_inlining_policy)}) at inlining.jl:1238",
          "status": "Default",
          "x1": 30,
          "x2": 30.9
         },
         {
          "level": 59,
          "sf": "analyze_method!(match::Core.MethodMatch, atypes::Vector{Any}, state::Core.Compiler.InliningState{Core.Compiler.EdgeTracker, Core.Compiler.WorldView{Core.Compiler.InternalCodeCache}, typeof(Core.Compiler.default_inlining_policy)}) at inlining.jl:851",
          "status": "Default",
          "x1": 30,
          "x2": 30.9
         },
         {
          "level": 60,
          "sf": "resolve_todo(todo::Core.Compiler.InliningTodo, state::Core.Compiler.InliningState{Core.Compiler.EdgeTracker, Core.Compiler.WorldView{Core.Compiler.InternalCodeCache}, typeof(Core.Compiler.default_inlining_policy)}) at inlining.jl:795",
          "status": "Runtime dispatch",
          "x1": 30,
          "x2": 30.9
         },
         {
          "level": 61,
          "sf": "Core.Compiler.InliningTodo(mi::Core.MethodInstance, src::Vector{UInt8}) at inlining.jl:864",
          "status": "Default",
          "x1": 30,
          "x2": 30.9
         },
         {
          "level": 62,
          "sf": "inflate_ir(ci::Core.CodeInfo, linfo::Core.MethodInstance) at legacy.jl:4",
          "status": "Default",
          "x1": 30,
          "x2": 30.9
         },
         {
          "level": 63,
          "sf": "sptypes_from_meth_instance(linfo::Core.MethodInstance) at inferencestate.jl:241",
          "status": "Default",
          "x1": 30,
          "x2": 30.9
         },
         {
          "level": 56,
          "sf": "ssa_inlining_pass!(ir::Core.Compiler.IRCode, linetable::Vector{Core.LineInfoNode}, state::Core.Compiler.InliningState{Core.Compiler.EdgeTracker, Core.Compiler.WorldView{Core.Compiler.InternalCodeCache}, typeof(Core.Compiler.default_inlining_policy)}, propagate_inbounds::Bool) at inlining.jl:83",
          "status": "Default",
          "x1": 31,
          "x2": 31.9
         },
         {
          "level": 57,
          "sf": "batch_inline!(todo::Vector{Pair{Int64, Any}}, ir::Core.Compiler.IRCode, linetable::Vector{Core.LineInfoNode}, propagate_inbounds::Bool) at inlining.jl:594",
          "status": "Default",
          "x1": 31,
          "x2": 31.9
         },
         {
          "level": 58,
          "sf": "ir_inline_item!(compact::Core.Compiler.IncrementalCompact, idx::Int64, argexprs::Vector{Any}, linetable::Vector{Core.LineInfoNode}, item::Core.Compiler.InliningTodo, boundscheck::Symbol, todo_bbs::Vector{Tuple{Int64, Int64}}) at inlining.jl:400",
          "status": "Default",
          "x1": 31,
          "x2": 31.9
         },
         {
          "level": 59,
          "sf": "ssa_substitute! at inlining.jl:1528 [inlined]",
          "status": "Default",
          "x1": 31,
          "x2": 31.9
         },
         {
          "level": 60,
          "sf": "ssa_substitute_op!(val::Any, arg_replacements::Vector{Any}, spsig::Any, spvals::Core.SimpleVector, boundscheck::Symbol) at inlining.jl:1573",
          "status": "Default",
          "x1": 31,
          "x2": 31.9
         },
         {
          "level": 61,
          "sf": "ssa_substitute_op!(val::Any, arg_replacements::Vector{Any}, spsig::Any, spvals::Core.SimpleVector, boundscheck::Symbol) at inlining.jl:1571",
          "status": "Default",
          "x1": 31,
          "x2": 31.9
         },
         {
          "level": 62,
          "sf": "userefs at ir.jl:461 [inlined]",
          "status": "Default",
          "x1": 31,
          "x2": 31.9
         },
         {
          "level": 63,
          "sf": "UseRefIterator at ir.jl:344 [inlined]",
          "status": "Default",
          "x1": 31,
          "x2": 31.9
         },
         {
          "level": 64,
          "sf": "UseRef at ir.jl:338 [inlined]",
          "status": "Default",
          "x1": 31,
          "x2": 31.9
         },
         {
          "level": 43,
          "sf": "_typeinf(interp::Core.Compiler.NativeInterpreter, frame::Core.Compiler.InferenceState) at typeinfer.jl:255",
          "status": "Default",
          "x1": 32,
          "x2": 32.9
         },
         {
          "level": 44,
          "sf": "optimize at optimize.jl:296 [inlined]",
          "status": "Default",
          "x1": 32,
          "x2": 32.9
         },
         {
          "level": 45,
          "sf": "run_passes(ci::Core.CodeInfo, nargs::Int64, sv::Core.Compiler.OptimizationState) at optimize.jl:311",
          "status": "Default",
          "x1": 32,
          "x2": 32.9
         },
         {
          "level": 46,
          "sf": "getfield_elim_pass!(ir::Core.Compiler.IRCode) at passes.jl:547",
          "status": "Default",
          "x1": 32,
          "x2": 32.9
         },
         {
          "level": 47,
          "sf": "is_known_call(e::Expr, func::Any, src::Core.Compiler.IncrementalCompact) at queries.jl:101",
          "status": "Default",
          "x1": 32,
          "x2": 32.9
         },
         {
          "level": 48,
          "sf": "compact_exprtype at queries.jl:91 [inlined]",
          "status": "Default",
          "x1": 32,
          "x2": 32.9
         },
         {
          "level": 49,
          "sf": "argextype at utilities.jl:229 [inlined]",
          "status": "Default",
          "x1": 32,
          "x2": 32.9
         },
         {
          "level": 50,
          "sf": "argextype(x::Any, src::Core.Compiler.IRCode, sptypes::Vector{Any}, slottypes::Vector{Any}) at utilities.jl:251",
          "status": "Default",
          "x1": 32,
          "x2": 32.9
         },
         {
          "level": 51,
          "sf": "abstract_eval_global at abstractinterpretation.jl:1676 [inlined]",
          "status": "Default",
          "x1": 32,
          "x2": 32.9
         },
         {
          "level": 33,
          "sf": "_typeinf(interp::Core.Compiler.NativeInterpreter, frame::Core.Compiler.InferenceState) at typeinfer.jl:255",
          "status": "Default",
          "x1": 33,
          "x2": 36.9
         },
         {
          "level": 34,
          "sf": "optimize at optimize.jl:296 [inlined]",
          "status": "Default",
          "x1": 33,
          "x2": 36.9
         },
         {
          "level": 35,
          "sf": "run_passes(ci::Core.CodeInfo, nargs::Int64, sv::Core.Compiler.OptimizationState) at optimize.jl:303",
          "status": "Default",
          "x1": 33,
          "x2": 33.9
         },
         {
          "level": 36,
          "sf": "slot2reg at optimize.jl:417 [inlined]",
          "status": "Default",
          "x1": 33,
          "x2": 33.9
         },
         {
          "level": 37,
          "sf": "construct_domtree(blocks::Vector{Core.Compiler.BasicBlock}) at domtree.jl:204",
          "status": "Default",
          "x1": 33,
          "x2": 33.9
         },
         {
          "level": 38,
          "sf": "update_domtree! at domtree.jl:218 [inlined]",
          "status": "Default",
          "x1": 33,
          "x2": 33.9
         },
         {
          "level": 39,
          "sf": "compute_domtree_nodes!(domtree::Core.Compiler.DomTree) at domtree.jl:224",
          "status": "Default",
          "x1": 33,
          "x2": 33.9
         },
         {
          "level": 40,
          "sf": "copy!(dst::Vector{Core.Compiler.DomTreeNode}, src::Vector{Core.Compiler.DomTreeNode}) at abstractarray.jl:871",
          "status": "Default",
          "x1": 33,
          "x2": 33.9
         },
         {
          "level": 41,
          "sf": "resize! at array.jl:1173 [inlined]",
          "status": "Default",
          "x1": 33,
          "x2": 33.9
         },
         {
          "level": 42,
          "sf": "_growend! at array.jl:948 [inlined]",
          "status": "Default",
          "x1": 33,
          "x2": 33.9
         },
         {
          "level": 35,
          "sf": "run_passes(ci::Core.CodeInfo, nargs::Int64, sv::Core.Compiler.OptimizationState) at optimize.jl:307",
          "status": "Runtime dispatch",
          "x1": 34,
          "x2": 35.9
         },
         {
          "level": 36,
          "sf": "ssa_inlining_pass!(ir::Core.Compiler.IRCode, linetable::Vector{Core.LineInfoNode}, state::Core.Compiler.InliningState{Core.Compiler.EdgeTracker, Core.Compiler.WorldView{Core.Compiler.InternalCodeCache}, typeof(Core.Compiler.default_inlining_policy)}, propagate_inbounds::Bool) at inlining.jl:83",
          "status": "Default",
          "x1": 34,
          "x2": 35.9
         },
         {
          "level": 37,
          "sf": "batch_inline!(todo::Vector{Pair{Int64, Any}}, ir::Core.Compiler.IRCode, linetable::Vector{Core.LineInfoNode}, propagate_inbounds::Bool) at inlining.jl:587",
          "status": "Runtime dispatch",
          "x1": 34,
          "x2": 34.9
         },
         {
          "level": 37,
          "sf": "batch_inline!(todo::Vector{Pair{Int64, Any}}, ir::Core.Compiler.IRCode, linetable::Vector{Core.LineInfoNode}, propagate_inbounds::Bool) at inlining.jl:594",
          "status": "Default",
          "x1": 35,
          "x2": 35.9
         },
         {
          "level": 38,
          "sf": "ir_inline_item!(compact::Core.Compiler.IncrementalCompact, idx::Int64, argexprs::Vector{Any}, linetable::Vector{Core.LineInfoNode}, item::Core.Compiler.InliningTodo, boundscheck::Symbol, todo_bbs::Vector{Tuple{Int64, Int64}}) at inlining.jl:431",
          "status": "Default",
          "x1": 35,
          "x2": 35.9
         },
         {
          "level": 39,
          "sf": "iterate(compact::Core.Compiler.IncrementalCompact, ::Tuple{Int64, Int64}) at ir.jl:1294",
          "status": "Default",
          "x1": 35,
          "x2": 35.9
         },
         {
          "level": 40,
          "sf": "process_node!(compact::Core.Compiler.IncrementalCompact, result_idx::Int64, inst::Core.Compiler.Instruction, idx::Int64, processed_idx::Int64, active_bb::Int64, do_rename_ssa::Bool) at ir.jl:1021",
          "status": "Default",
          "x1": 35,
          "x2": 35.9
         },
         {
          "level": 41,
          "sf": "renumber_ssa2!(stmt::Any, ssanums::Vector{Any}, used_ssas::Vector{Int64}, late_fixup::Vector{Int64}, result_idx::Int64, do_rename_ssa::Bool) at ir.jl:912",
          "status": "Default",
          "x1": 35,
          "x2": 35.9
         },
         {
          "level": 42,
          "sf": "setindex!(x::Core.Compiler.UseRef, v::Any) at ir.jl:415",
          "status": "Default",
          "x1": 35,
          "x2": 35.9
         },
         {
          "level": 35,
          "sf": "run_passes(ci::Core.CodeInfo, nargs::Int64, sv::Core.Compiler.OptimizationState) at optimize.jl:317",
          "status": "Default",
          "x1": 36,
          "x2": 36.9
         },
         {
          "level": 36,
          "sf": "compact! at ir.jl:1441 [inlined]",
          "status": "Default",
          "x1": 36,
          "x2": 36.9
         },
         {
          "level": 37,
          "sf": "compact!(code::Core.Compiler.IRCode, allow_cfg_transforms::Bool) at ir.jl:1441",
          "status": "Default",
          "x1": 36,
          "x2": 36.9
         },
         {
          "level": 38,
          "sf": "Core.Compiler.IncrementalCompact(code::Core.Compiler.IRCode, allow_cfg_transforms::Bool) at ir.jl:614",
          "status": "Default",
          "x1": 36,
          "x2": 36.9
         },
         {
          "level": 39,
          "sf": "Array at boot.jl:476 [inlined]",
          "status": "Default",
          "x1": 36,
          "x2": 36.9
         },
         {
          "level": 40,
          "sf": "Array at boot.jl:457 [inlined]",
          "status": "Default",
          "x1": 36,
          "x2": 36.9
         },
         {
          "level": 23,
          "sf": "_typeinf(interp::Core.Compiler.NativeInterpreter, frame::Core.Compiler.InferenceState) at typeinfer.jl:255",
          "status": "Default",
          "x1": 37,
          "x2": 39.9
         },
         {
          "level": 24,
          "sf": "optimize at optimize.jl:296 [inlined]",
          "status": "Default",
          "x1": 37,
          "x2": 39.9
         },
         {
          "level": 25,
          "sf": "run_passes(ci::Core.CodeInfo, nargs::Int64, sv::Core.Compiler.OptimizationState) at optimize.jl:307",
          "status": "Runtime dispatch",
          "x1": 37,
          "x2": 38.9
         },
         {
          "level": 26,
          "sf": "ssa_inlining_pass!(ir::Core.Compiler.IRCode, linetable::Vector{Core.LineInfoNode}, state::Core.Compiler.InliningState{Core.Compiler.EdgeTracker, Core.Compiler.WorldView{Core.Compiler.InternalCodeCache}, typeof(Core.Compiler.default_inlining_policy)}, propagate_inbounds::Bool) at inlining.jl:80",
          "status": "Default",
          "x1": 37,
          "x2": 38.9
         },
         {
          "level": 27,
          "sf": "assemble_inline_todo!(ir::Core.Compiler.IRCode, state::Core.Compiler.InliningState{Core.Compiler.EdgeTracker, Core.Compiler.WorldView{Core.Compiler.InternalCodeCache}, typeof(Core.Compiler.default_inlining_policy)}) at inlining.jl:1389",
          "status": "Default",
          "x1": 37,
          "x2": 37.9
         },
         {
          "level": 28,
          "sf": "maybe_handle_const_call!(ir::Core.Compiler.IRCode, idx::Int64, stmt::Expr, ::Core.Compiler.ConstCallInfo, ::Core.Compiler.Signature, state::Core.Compiler.InliningState{Core.Compiler.EdgeTracker, Core.Compiler.WorldView{Core.Compiler.InternalCodeCache}, typeof(Core.Compiler.default_inlining_policy)}, isinvoke::Bool, todo::Vector{Pair{Int64, Any}}) at inlining.jl:1305",
          "status": "Default",
          "x1": 37,
          "x2": 37.9
         },
         {
          "level": 29,
          "sf": "resolve_todo(todo::Core.Compiler.InliningTodo, state::Core.Compiler.InliningState{Core.Compiler.EdgeTracker, Core.Compiler.WorldView{Core.Compiler.InternalCodeCache}, typeof(Core.Compiler.default_inlining_policy)}) at inlining.jl:795",
          "status": "Runtime dispatch",
          "x1": 37,
          "x2": 37.9
         },
         {
          "level": 30,
          "sf": "Core.Compiler.InliningTodo(mi::Core.MethodInstance, src::Core.CodeInfo) at inlining.jl:864",
          "status": "Default",
          "x1": 37,
          "x2": 37.9
         },
         {
          "level": 31,
          "sf": "inflate_ir(ci::Core.CodeInfo, linfo::Core.MethodInstance) at legacy.jl:10",
          "status": "Default",
          "x1": 37,
          "x2": 37.9
         },
         {
          "level": 32,
          "sf": "inflate_ir(ci::Core.CodeInfo, sptypes::Vector{Any}, argtypes::Vector{Any}) at legacy.jl:15",
          "status": "Default",
          "x1": 37,
          "x2": 37.9
         },
         {
          "level": 33,
          "sf": "compute_basic_blocks(stmts::Vector{Any}) at ir.jl:91",
          "status": "Default",
          "x1": 37,
          "x2": 37.9
         },
         {
          "level": 34,
          "sf": "BasicBlock at basicblock.jl:25 [inlined]",
          "status": "Default",
          "x1": 37,
          "x2": 37.9
         },
         {
          "level": 35,
          "sf": "getindex at array.jl:411 [inlined]",
          "status": "Default",
          "x1": 37,
          "x2": 37.9
         },
         {
          "level": 36,
          "sf": "Array at boot.jl:476 [inlined]",
          "status": "Default",
          "x1": 37,
          "x2": 37.9
         },
         {
          "level": 37,
          "sf": "Array at boot.jl:457 [inlined]",
          "status": "Garbage collection",
          "x1": 37,
          "x2": 37.9
         },
         {
          "level": 27,
          "sf": "assemble_inline_todo!(ir::Core.Compiler.IRCode, state::Core.Compiler.InliningState{Core.Compiler.EdgeTracker, Core.Compiler.WorldView{Core.Compiler.InternalCodeCache}, typeof(Core.Compiler.default_inlining_policy)}) at inlining.jl:1419",
          "status": "Default",
          "x1": 38,
          "x2": 38.9
         },
         {
          "level": 28,
          "sf": "analyze_single_call!(ir::Core.Compiler.IRCode, todo::Vector{Pair{Int64, Any}}, idx::Int64, stmt::Any, ::Core.Compiler.Signature, infos::Vector{Core.Compiler.MethodMatchInfo}, state::Core.Compiler.InliningState{Core.Compiler.EdgeTracker, Core.Compiler.WorldView{Core.Compiler.InternalCodeCache}, typeof(Core.Compiler.default_inlining_policy)}) at inlining.jl:1238",
          "status": "Default",
          "x1": 38,
          "x2": 38.9
         },
         {
          "level": 29,
          "sf": "analyze_method!(match::Core.MethodMatch, atypes::Vector{Any}, state::Core.Compiler.InliningState{Core.Compiler.EdgeTracker, Core.Compiler.WorldView{Core.Compiler.InternalCodeCache}, typeof(Core.Compiler.default_inlining_policy)}) at inlining.jl:842",
          "status": "Default",
          "x1": 38,
          "x2": 38.9
         },
         {
          "level": 30,
          "sf": "specialize_method at utilities.jl:204 [inlined]",
          "status": "Default",
          "x1": 38,
          "x2": 38.9
         },
         {
          "level": 31,
          "sf": "specialize_method at utilities.jl:204 [inlined]",
          "status": "Default",
          "x1": 38,
          "x2": 38.9
         },
         {
          "level": 32,
          "sf": "specialize_method(method::Method, atypes::Any, sparams::Core.SimpleVector, preexisting::Bool, compilesig::Bool) at utilities.jl:198",
          "status": "Default",
          "x1": 38,
          "x2": 38.9
         },
         {
          "level": 25,
          "sf": "run_passes(ci::Core.CodeInfo, nargs::Int64, sv::Core.Compiler.OptimizationState) at optimize.jl:311",
          "status": "Default",
          "x1": 39,
          "x2": 39.9
         },
         {
          "level": 26,
          "sf": "getfield_elim_pass!(ir::Core.Compiler.IRCode) at passes.jl:683",
          "status": "Default",
          "x1": 39,
          "x2": 39.9
         },
         {
          "level": 27,
          "sf": "walk_to_defs(compact::Core.Compiler.IncrementalCompact, defssa::Any, typeconstraint::Any, visited_phinodes::Vector{Any}) at passes.jl:149",
          "status": "Default",
          "x1": 39,
          "x2": 39.9
         },
         {
          "level": 28,
          "sf": "getindex at array.jl:417 [inlined]",
          "status": "Default",
          "x1": 39,
          "x2": 39.9
         },
         {
          "level": 29,
          "sf": "Array at boot.jl:457 [inlined]",
          "status": "Garbage collection",
          "x1": 39,
          "x2": 39.9
         },
         {
          "level": 15,
          "sf": "typeinf_local(interp::Core.Compiler.NativeInterpreter, frame::Core.Compiler.InferenceState) at abstractinterpretation.jl:1918",
          "status": "Default",
          "x1": 40,
          "x2": 46.9
         },
         {
          "level": 16,
          "sf": "abstract_eval_statement(interp::Core.Compiler.NativeInterpreter, e::Any, vtypes::Vector{Any}, sv::Core.Compiler.InferenceState) at abstractinterpretation.jl:1534",
          "status": "Default",
          "x1": 40,
          "x2": 46.9
         },
         {
          "level": 17,
          "sf": "abstract_call(interp::Core.Compiler.NativeInterpreter, fargs::Vector{Any}, argtypes::Vector{Any}, sv::Core.Compiler.InferenceState) at abstractinterpretation.jl:1382",
          "status": "Default",
          "x1": 40,
          "x2": 46.9
         },
         {
          "level": 18,
          "sf": "abstract_call(interp::Core.Compiler.NativeInterpreter, fargs::Vector{Any}, argtypes::Vector{Any}, sv::Core.Compiler.InferenceState, max_methods::Int64) at abstractinterpretation.jl:1397",
          "status": "Default",
          "x1": 40,
          "x2": 46.9
         },
         {
          "level": 19,
          "sf": "abstract_call_known(interp::Core.Compiler.NativeInterpreter, f::Any, fargs::Vector{Any}, argtypes::Vector{Any}, sv::Core.Compiler.InferenceState, max_methods::Int64) at abstractinterpretation.jl:1341",
          "status": "Default",
          "x1": 40,
          "x2": 40.9
         },
         {
          "level": 20,
          "sf": "argtypes_to_type at typeutils.jl:53 [inlined]",
          "status": "Default",
          "x1": 40,
          "x2": 40.9
         },
         {
          "level": 19,
          "sf": "abstract_call_known(interp::Core.Compiler.NativeInterpreter, f::Any, fargs::Vector{Any}, argtypes::Vector{Any}, sv::Core.Compiler.InferenceState, max_methods::Int64) at abstractinterpretation.jl:1342",
          "status": "Default",
          "x1": 41,
          "x2": 46.9
         },
         {
          "level": 20,
          "sf": "abstract_call_gf_by_type(interp::Core.Compiler.NativeInterpreter, f::Any, fargs::Vector{Any}, argtypes::Vector{Any}, atype::Any, sv::Core.Compiler.InferenceState, max_methods::Int64) at abstractinterpretation.jl:39",
          "status": "Default",
          "x1": 41,
          "x2": 42.9
         },
         {
          "level": 21,
          "sf": "find_matching_methods(argtypes::Vector{Any}, atype::Any, method_table::Core.Compiler.CachedMethodTable{Core.Compiler.InternalMethodTable}, union_split::Int64, max_methods::Int64) at abstractinterpretation.jl:308",
          "status": "Runtime dispatch",
          "x1": 41,
          "x2": 42.9
         },
         {
          "level": 22,
          "sf": "(::Core.Compiler.var\"#findall##kw\")(::NamedTuple{(:limit,), Tuple{Int64}}, ::typeof(Core.Compiler.findall), sig::Type, table::Core.Compiler.CachedMethodTable{Core.Compiler.InternalMethodTable}) at methodtable.jl:95",
          "status": "Default",
          "x1": 41,
          "x2": 42.9
         },
         {
          "level": 23,
          "sf": "#findall#248 at methodtable.jl:96 [inlined]",
          "status": "Default",
          "x1": 41,
          "x2": 42.9
         },
         {
          "level": 24,
          "sf": "get! at iddict.jl:178 [inlined]",
          "status": "Default",
          "x1": 41,
          "x2": 42.9
         },
         {
          "level": 25,
          "sf": "(::Core.Compiler.var\"#249#250\"{Int64, Core.Compiler.CachedMethodTable{Core.Compiler.InternalMethodTable}, Core.Box})() at methodtable.jl:97",
          "status": "Runtime dispatch",
          "x1": 41,
          "x2": 42.9
         },
         {
          "level": 26,
          "sf": "(::Core.Compiler.var\"#findall##kw\")(::NamedTuple{(:limit,), Tuple{Int64}}, ::typeof(Core.Compiler.findall), sig::Type, table::Core.Compiler.InternalMethodTable) at methodtable.jl:65",
          "status": "Default",
          "x1": 41,
          "x2": 42.9
         },
         {
          "level": 27,
          "sf": "#findall#246 at methodtable.jl:68 [inlined]",
          "status": "Default",
          "x1": 41,
          "x2": 42.9
         },
         {
          "level": 28,
          "sf": "_methods_by_ftype at reflection.jl:908 [inlined]",
          "status": "Default",
          "x1": 41,
          "x2": 42.9
         },
         {
          "level": 20,
          "sf": "abstract_call_gf_by_type(interp::Core.Compiler.NativeInterpreter, f::Any, fargs::Vector{Any}, argtypes::Vector{Any}, atype::Any, sv::Core.Compiler.InferenceState, max_methods::Int64) at abstractinterpretation.jl:113",
          "status": "Default",
          "x1": 43,
          "x2": 46.9
         },
         {
          "level": 21,
          "sf": "abstract_call_method_with_const_args(interp::Core.Compiler.NativeInterpreter, result::Core.Compiler.MethodCallResult, f::Any, argtypes::Vector{Any}, match::Core.MethodMatch, sv::Core.Compiler.InferenceState, va_override::Bool) at abstractinterpretation.jl:557",
          "status": "Default",
          "x1": 43,
          "x2": 46.9
         },
         {
          "level": 22,
          "sf": "typeinf(interp::Core.Compiler.NativeInterpreter, frame::Core.Compiler.InferenceState) at typeinfer.jl:209",
          "status": "Default",
          "x1": 43,
          "x2": 46.9
         },
         {
          "level": 23,
          "sf": "_typeinf(interp::Core.Compiler.NativeInterpreter, frame::Core.Compiler.InferenceState) at typeinfer.jl:226",
          "status": "Default",
          "x1": 43,
          "x2": 46.9
         },
         {
          "level": 24,
          "sf": "typeinf_nocycle(interp::Core.Compiler.NativeInterpreter, frame::Core.Compiler.InferenceState) at abstractinterpretation.jl:2014",
          "status": "Default",
          "x1": 43,
          "x2": 46.9
         },
         {
          "level": 25,
          "sf": "typeinf_local(interp::Core.Compiler.NativeInterpreter, frame::Core.Compiler.InferenceState) at abstractinterpretation.jl:1900",
          "status": "Default",
          "x1": 43,
          "x2": 43.9
         },
         {
          "level": 26,
          "sf": "abstract_eval_statement(interp::Core.Compiler.NativeInterpreter, e::Any, vtypes::Vector{Any}, sv::Core.Compiler.InferenceState) at abstractinterpretation.jl:1534",
          "status": "Default",
          "x1": 43,
          "x2": 43.9
         },
         {
          "level": 27,
          "sf": "abstract_call(interp::Core.Compiler.NativeInterpreter, fargs::Vector{Any}, argtypes::Vector{Any}, sv::Core.Compiler.InferenceState) at abstractinterpretation.jl:1382",
          "status": "Default",
          "x1": 43,
          "x2": 43.9
         },
         {
          "level": 28,
          "sf": "abstract_call(interp::Core.Compiler.NativeInterpreter, fargs::Vector{Any}, argtypes::Vector{Any}, sv::Core.Compiler.InferenceState, max_methods::Int64) at abstractinterpretation.jl:1397",
          "status": "Default",
          "x1": 43,
          "x2": 43.9
         },
         {
          "level": 29,
          "sf": "abstract_call_known(interp::Core.Compiler.NativeInterpreter, f::Any, fargs::Vector{Any}, argtypes::Vector{Any}, sv::Core.Compiler.InferenceState, max_methods::Int64) at abstractinterpretation.jl:1342",
          "status": "Default",
          "x1": 43,
          "x2": 43.9
         },
         {
          "level": 30,
          "sf": "abstract_call_gf_by_type(interp::Core.Compiler.NativeInterpreter, f::Any, fargs::Vector{Any}, argtypes::Vector{Any}, atype::Any, sv::Core.Compiler.InferenceState, max_methods::Int64) at abstractinterpretation.jl:113",
          "status": "Default",
          "x1": 43,
          "x2": 43.9
         },
         {
          "level": 31,
          "sf": "abstract_call_method_with_const_args(interp::Core.Compiler.NativeInterpreter, result::Core.Compiler.MethodCallResult, f::Any, argtypes::Vector{Any}, match::Core.MethodMatch, sv::Core.Compiler.InferenceState, va_override::Bool) at abstractinterpretation.jl:557",
          "status": "Default",
          "x1": 43,
          "x2": 43.9
         },
         {
          "level": 32,
          "sf": "typeinf(interp::Core.Compiler.NativeInterpreter, frame::Core.Compiler.InferenceState) at typeinfer.jl:209",
          "status": "Default",
          "x1": 43,
          "x2": 43.9
         },
         {
          "level": 33,
          "sf": "_typeinf(interp::Core.Compiler.NativeInterpreter, frame::Core.Compiler.InferenceState) at typeinfer.jl:255",
          "status": "Default",
          "x1": 43,
          "x2": 43.9
         },
         {
          "level": 34,
          "sf": "optimize at optimize.jl:296 [inlined]",
          "status": "Default",
          "x1": 43,
          "x2": 43.9
         },
         {
          "level": 35,
          "sf": "run_passes(ci::Core.CodeInfo, nargs::Int64, sv::Core.Compiler.OptimizationState) at optimize.jl:309",
          "status": "Default",
          "x1": 43,
          "x2": 43.9
         },
         {
          "level": 36,
          "sf": "compact! at ir.jl:1441 [inlined]",
          "status": "Default",
          "x1": 43,
          "x2": 43.9
         },
         {
          "level": 37,
          "sf": "compact!(code::Core.Compiler.IRCode, allow_cfg_transforms::Bool) at ir.jl:1441",
          "status": "Default",
          "x1": 43,
          "x2": 43.9
         },
         {
          "level": 38,
          "sf": "Core.Compiler.IncrementalCompact(code::Core.Compiler.IRCode, allow_cfg_transforms::Bool) at ir.jl:576",
          "status": "Default",
          "x1": 43,
          "x2": 43.9
         },
         {
          "level": 39,
          "sf": "my_sortperm(v::Vector{Int64}) at ir.jl:538",
          "status": "Default",
          "x1": 43,
          "x2": 43.9
         },
         {
          "level": 40,
          "sf": "Array at boot.jl:457 [inlined]",
          "status": "Garbage collection",
          "x1": 43,
          "x2": 43.9
         },
         {
          "level": 25,
          "sf": "typeinf_local(interp::Core.Compiler.NativeInterpreter, frame::Core.Compiler.InferenceState) at abstractinterpretation.jl:1918",
          "status": "Default",
          "x1": 44,
          "x2": 46.9
         },
         {
          "level": 26,
          "sf": "abstract_eval_statement(interp::Core.Compiler.NativeInterpreter, e::Any, vtypes::Vector{Any}, sv::Core.Compiler.InferenceState) at abstractinterpretation.jl:1534",
          "status": "Default",
          "x1": 44,
          "x2": 46.9
         },
         {
          "level": 27,
          "sf": "abstract_call(interp::Core.Compiler.NativeInterpreter, fargs::Vector{Any}, argtypes::Vector{Any}, sv::Core.Compiler.InferenceState) at abstractinterpretation.jl:1382",
          "status": "Default",
          "x1": 44,
          "x2": 46.9
         },
         {
          "level": 28,
          "sf": "abstract_call(interp::Core.Compiler.NativeInterpreter, fargs::Vector{Any}, argtypes::Vector{Any}, sv::Core.Compiler.InferenceState, max_methods::Int64) at abstractinterpretation.jl:1397",
          "status": "Default",
          "x1": 44,
          "x2": 46.9
         },
         {
          "level": 29,
          "sf": "abstract_call_known(interp::Core.Compiler.NativeInterpreter, f::Any, fargs::Vector{Any}, argtypes::Vector{Any}, sv::Core.Compiler.InferenceState, max_methods::Int64) at abstractinterpretation.jl:1249",
          "status": "Default",
          "x1": 44,
          "x2": 44.9
         },
         {
          "level": 30,
          "sf": "abstract_apply(interp::Core.Compiler.NativeInterpreter, argtypes::Vector{Any}, sv::Core.Compiler.InferenceState, max_methods::Int64) at abstractinterpretation.jl:987",
          "status": "Default",
          "x1": 44,
          "x2": 44.9
         },
         {
          "level": 31,
          "sf": "abstract_call(interp::Core.Compiler.NativeInterpreter, fargs::Nothing, argtypes::Vector{Any}, sv::Core.Compiler.InferenceState, max_methods::Int64) at abstractinterpretation.jl:1397",
          "status": "Default",
          "x1": 44,
          "x2": 44.9
         },
         {
          "level": 32,
          "sf": "abstract_call_known(interp::Core.Compiler.NativeInterpreter, f::Any, fargs::Nothing, argtypes::Vector{Any}, sv::Core.Compiler.InferenceState, max_methods::Int64) at abstractinterpretation.jl:1342",
          "status": "Default",
          "x1": 44,
          "x2": 44.9
         },
         {
          "level": 33,
          "sf": "abstract_call_gf_by_type(interp::Core.Compiler.NativeInterpreter, f::Any, fargs::Nothing, argtypes::Vector{Any}, atype::Any, sv::Core.Compiler.InferenceState, max_methods::Int64) at abstractinterpretation.jl:113",
          "status": "Default",
          "x1": 44,
          "x2": 44.9
         },
         {
          "level": 34,
          "sf": "abstract_call_method_with_const_args(interp::Core.Compiler.NativeInterpreter, result::Core.Compiler.MethodCallResult, f::Any, argtypes::Vector{Any}, match::Core.MethodMatch, sv::Core.Compiler.InferenceState, va_override::Bool) at abstractinterpretation.jl:557",
          "status": "Default",
          "x1": 44,
          "x2": 44.9
         },
         {
          "level": 35,
          "sf": "typeinf(interp::Core.Compiler.NativeInterpreter, frame::Core.Compiler.InferenceState) at typeinfer.jl:209",
          "status": "Default",
          "x1": 44,
          "x2": 44.9
         },
         {
          "level": 36,
          "sf": "_typeinf(interp::Core.Compiler.NativeInterpreter, frame::Core.Compiler.InferenceState) at typeinfer.jl:226",
          "status": "Default",
          "x1": 44,
          "x2": 44.9
         },
         {
          "level": 37,
          "sf": "typeinf_nocycle(interp::Core.Compiler.NativeInterpreter, frame::Core.Compiler.InferenceState) at abstractinterpretation.jl:2014",
          "status": "Default",
          "x1": 44,
          "x2": 44.9
         },
         {
          "level": 38,
          "sf": "typeinf_local(interp::Core.Compiler.NativeInterpreter, frame::Core.Compiler.InferenceState) at abstractinterpretation.jl:1918",
          "status": "Default",
          "x1": 44,
          "x2": 44.9
         },
         {
          "level": 39,
          "sf": "abstract_eval_statement(interp::Core.Compiler.NativeInterpreter, e::Any, vtypes::Vector{Any}, sv::Core.Compiler.InferenceState) at abstractinterpretation.jl:1534",
          "status": "Default",
          "x1": 44,
          "x2": 44.9
         },
         {
          "level": 40,
          "sf": "abstract_call(interp::Core.Compiler.NativeInterpreter, fargs::Vector{Any}, argtypes::Vector{Any}, sv::Core.Compiler.InferenceState) at abstractinterpretation.jl:1382",
          "status": "Default",
          "x1": 44,
          "x2": 44.9
         },
         {
          "level": 41,
          "sf": "abstract_call(interp::Core.Compiler.NativeInterpreter, fargs::Vector{Any}, argtypes::Vector{Any}, sv::Core.Compiler.InferenceState, max_methods::Int64) at abstractinterpretation.jl:1397",
          "status": "Default",
          "x1": 44,
          "x2": 44.9
         },
         {
          "level": 42,
          "sf": "abstract_call_known(interp::Core.Compiler.NativeInterpreter, f::Any, fargs::Vector{Any}, argtypes::Vector{Any}, sv::Core.Compiler.InferenceState, max_methods::Int64) at abstractinterpretation.jl:1342",
          "status": "Default",
          "x1": 44,
          "x2": 44.9
         },
         {
          "level": 43,
          "sf": "abstract_call_gf_by_type(interp::Core.Compiler.NativeInterpreter, f::Any, fargs::Vector{Any}, argtypes::Vector{Any}, atype::Any, sv::Core.Compiler.InferenceState, max_methods::Int64) at abstractinterpretation.jl:113",
          "status": "Default",
          "x1": 44,
          "x2": 44.9
         },
         {
          "level": 44,
          "sf": "abstract_call_method_with_const_args(interp::Core.Compiler.NativeInterpreter, result::Core.Compiler.MethodCallResult, f::Any, argtypes::Vector{Any}, match::Core.MethodMatch, sv::Core.Compiler.InferenceState, va_override::Bool) at abstractinterpretation.jl:557",
          "status": "Default",
          "x1": 44,
          "x2": 44.9
         },
         {
          "level": 45,
          "sf": "typeinf(interp::Core.Compiler.NativeInterpreter, frame::Core.Compiler.InferenceState) at typeinfer.jl:209",
          "status": "Default",
          "x1": 44,
          "x2": 44.9
         },
         {
          "level": 46,
          "sf": "_typeinf(interp::Core.Compiler.NativeInterpreter, frame::Core.Compiler.InferenceState) at typeinfer.jl:255",
          "status": "Default",
          "x1": 44,
          "x2": 44.9
         },
         {
          "level": 47,
          "sf": "optimize at optimize.jl:296 [inlined]",
          "status": "Default",
          "x1": 44,
          "x2": 44.9
         },
         {
          "level": 48,
          "sf": "run_passes(ci::Core.CodeInfo, nargs::Int64, sv::Core.Compiler.OptimizationState) at optimize.jl:307",
          "status": "Runtime dispatch",
          "x1": 44,
          "x2": 44.9
         },
         {
          "level": 49,
          "sf": "ssa_inlining_pass!(ir::Core.Compiler.IRCode, linetable::Vector{Core.LineInfoNode}, state::Core.Compiler.InliningState{Core.Compiler.EdgeTracker, Core.Compiler.WorldView{Core.Compiler.InternalCodeCache}, typeof(Core.Compiler.default_inlining_policy)}, propagate_inbounds::Bool) at inlining.jl:80",
          "status": "Default",
          "x1": 44,
          "x2": 44.9
         },
         {
          "level": 50,
          "sf": "assemble_inline_todo!(ir::Core.Compiler.IRCode, state::Core.Compiler.InliningState{Core.Compiler.EdgeTracker, Core.Compiler.WorldView{Core.Compiler.InternalCodeCache}, typeof(Core.Compiler.default_inlining_policy)}) at inlining.jl:1358",
          "status": "Default",
          "x1": 44,
          "x2": 44.9
         },
         {
          "level": 51,
          "sf": "process_simple!(ir::Core.Compiler.IRCode, todo::Vector{Pair{Int64, Any}}, idx::Int64, state::Core.Compiler.InliningState{Core.Compiler.EdgeTracker, Core.Compiler.WorldView{Core.Compiler.InternalCodeCache}, typeof(Core.Compiler.default_inlining_policy)}) at inlining.jl:1192",
          "status": "Default",
          "x1": 44,
          "x2": 44.9
         },
         {
          "level": 52,
          "sf": "with_atype at inlining.jl:20 [inlined]",
          "status": "Default",
          "x1": 44,
          "x2": 44.9
         },
         {
          "level": 53,
          "sf": "argtypes_to_type at typeutils.jl:53 [inlined]",
          "status": "Default",
          "x1": 44,
          "x2": 44.9
         },
         {
          "level": 54,
          "sf": "anymap(f::Core.Compiler.var\"#251#252\", a::Vector{Any}) at utilities.jl:39",
          "status": "Default",
          "x1": 44,
          "x2": 44.9
         },
         {
          "level": 55,
          "sf": "(::Core.Compiler.var\"#251#252\")(a::Any) at typeutils.jl:53",
          "status": "Runtime dispatch",
          "x1": 44,
          "x2": 44.9
         },
         {
          "level": 56,
          "sf": "widenconst(c::Core.Const) at typelattice.jl:286",
          "status": "Default",
          "x1": 44,
          "x2": 44.9
         },
         {
          "level": 29,
          "sf": "abstract_call_known(interp::Core.Compiler.NativeInterpreter, f::Any, fargs::Vector{Any}, argtypes::Vector{Any}, sv::Core.Compiler.InferenceState, max_methods::Int64) at abstractinterpretation.jl:1255",
          "status": "Default",
          "x1": 45,
          "x2": 45.9
         },
         {
          "level": 30,
          "sf": "abstract_call_builtin(interp::Core.Compiler.NativeInterpreter, f::Core.Builtin, fargs::Vector{Any}, argtypes::Vector{Any}, sv::Core.Compiler.InferenceState, max_methods::Int64) at abstractinterpretation.jl:1078",
          "status": "Default",
          "x1": 45,
          "x2": 45.9
         },
         {
          "level": 31,
          "sf": "builtin_tfunction(interp::Core.Compiler.AbstractInterpreter, f::Any, argtypes::Vector{Any}, sv::Union{Nothing, Core.Compiler.InferenceState}) at tfuncs.jl:1600",
          "status": "Default",
          "x1": 45,
          "x2": 45.9
         },
         {
          "level": 32,
          "sf": "tuple_tfunc(atypes::Vector{Any}) at tfuncs.jl:1464",
          "status": "Runtime dispatch",
          "x1": 45,
          "x2": 45.9
         },
         {
          "level": 29,
          "sf": "abstract_call_known(interp::Core.Compiler.NativeInterpreter, f::Any, fargs::Vector{Any}, argtypes::Vector{Any}, sv::Core.Compiler.InferenceState, max_methods::Int64) at abstractinterpretation.jl:1342",
          "status": "Default",
          "x1": 46,
          "x2": 46.9
         },
         {
          "level": 30,
          "sf": "abstract_call_gf_by_type(interp::Core.Compiler.NativeInterpreter, f::Any, fargs::Vector{Any}, argtypes::Vector{Any}, atype::Any, sv::Core.Compiler.InferenceState, max_methods::Int64) at abstractinterpretation.jl:113",
          "status": "Default",
          "x1": 46,
          "x2": 46.9
         },
         {
          "level": 31,
          "sf": "abstract_call_method_with_const_args(interp::Core.Compiler.NativeInterpreter, result::Core.Compiler.MethodCallResult, f::Any, argtypes::Vector{Any}, match::Core.MethodMatch, sv::Core.Compiler.InferenceState, va_override::Bool) at abstractinterpretation.jl:553",
          "status": "Default",
          "x1": 46,
          "x2": 46.9
         },
         {
          "level": 32,
          "sf": "Core.Compiler.InferenceState(result::Core.Compiler.InferenceResult, cached::Bool, interp::Core.Compiler.NativeInterpreter) at inferencestate.jl:234",
          "status": "Default",
          "x1": 46,
          "x2": 46.9
         },
         {
          "level": 33,
          "sf": "retrieve_code_info at utilities.jl:128 [inlined]",
          "status": "Default",
          "x1": 46,
          "x2": 46.9
         },
         {
          "level": 13,
          "sf": "_typeinf(interp::Core.Compiler.NativeInterpreter, frame::Core.Compiler.InferenceState) at typeinfer.jl:255",
          "status": "Default",
          "x1": 47,
          "x2": 49.9
         },
         {
          "level": 14,
          "sf": "optimize at optimize.jl:296 [inlined]",
          "status": "Default",
          "x1": 47,
          "x2": 49.9
         },
         {
          "level": 15,
          "sf": "run_passes(ci::Core.CodeInfo, nargs::Int64, sv::Core.Compiler.OptimizationState) at optimize.jl:307",
          "status": "Runtime dispatch",
          "x1": 47,
          "x2": 48.9
         },
         {
          "level": 16,
          "sf": "ssa_inlining_pass!(ir::Core.Compiler.IRCode, linetable::Vector{Core.LineInfoNode}, state::Core.Compiler.InliningState{Core.Compiler.EdgeTracker, Core.Compiler.WorldView{Core.Compiler.InternalCodeCache}, typeof(Core.Compiler.default_inlining_policy)}, propagate_inbounds::Bool) at inlining.jl:80",
          "status": "Default",
          "x1": 47,
          "x2": 47.9
         },
         {
          "level": 17,
          "sf": "assemble_inline_todo!(ir::Core.Compiler.IRCode, state::Core.Compiler.InliningState{Core.Compiler.EdgeTracker, Core.Compiler.WorldView{Core.Compiler.InternalCodeCache}, typeof(Core.Compiler.default_inlining_policy)}) at inlining.jl:1419",
          "status": "Default",
          "x1": 47,
          "x2": 47.9
         },
         {
          "level": 18,
          "sf": "analyze_single_call!(ir::Core.Compiler.IRCode, todo::Vector{Pair{Int64, Any}}, idx::Int64, stmt::Any, ::Core.Compiler.Signature, infos::Vector{Core.Compiler.MethodMatchInfo}, state::Core.Compiler.InliningState{Core.Compiler.EdgeTracker, Core.Compiler.WorldView{Core.Compiler.InternalCodeCache}, typeof(Core.Compiler.default_inlining_policy)}) at inlining.jl:1238",
          "status": "Default",
          "x1": 47,
          "x2": 47.9
         },
         {
          "level": 19,
          "sf": "analyze_method!(match::Core.MethodMatch, atypes::Vector{Any}, state::Core.Compiler.InliningState{Core.Compiler.EdgeTracker, Core.Compiler.WorldView{Core.Compiler.InternalCodeCache}, typeof(Core.Compiler.default_inlining_policy)}) at inlining.jl:851",
          "status": "Default",
          "x1": 47,
          "x2": 47.9
         },
         {
          "level": 20,
          "sf": "resolve_todo(todo::Core.Compiler.InliningTodo, state::Core.Compiler.InliningState{Core.Compiler.EdgeTracker, Core.Compiler.WorldView{Core.Compiler.InternalCodeCache}, typeof(Core.Compiler.default_inlining_policy)}) at inlining.jl:795",
          "status": "Runtime dispatch",
          "x1": 47,
          "x2": 47.9
         },
         {
          "level": 21,
          "sf": "Core.Compiler.InliningTodo(mi::Core.MethodInstance, src::Vector{UInt8}) at inlining.jl:860",
          "status": "Default",
          "x1": 47,
          "x2": 47.9
         },
         {
          "level": 16,
          "sf": "ssa_inlining_pass!(ir::Core.Compiler.IRCode, linetable::Vector{Core.LineInfoNode}, state::Core.Compiler.InliningState{Core.Compiler.EdgeTracker, Core.Compiler.WorldView{Core.Compiler.InternalCodeCache}, typeof(Core.Compiler.default_inlining_policy)}, propagate_inbounds::Bool) at inlining.jl:83",
          "status": "Default",
          "x1": 48,
          "x2": 48.9
         },
         {
          "level": 17,
          "sf": "batch_inline!(todo::Vector{Pair{Int64, Any}}, ir::Core.Compiler.IRCode, linetable::Vector{Core.LineInfoNode}, propagate_inbounds::Bool) at inlining.jl:594",
          "status": "Default",
          "x1": 48,
          "x2": 48.9
         },
         {
          "level": 18,
          "sf": "ir_inline_item!(compact::Core.Compiler.IncrementalCompact, idx::Int64, argexprs::Vector{Any}, linetable::Vector{Core.LineInfoNode}, item::Core.Compiler.InliningTodo, boundscheck::Symbol, todo_bbs::Vector{Tuple{Int64, Int64}}) at inlining.jl:400",
          "status": "Default",
          "x1": 48,
          "x2": 48.9
         },
         {
          "level": 19,
          "sf": "ssa_substitute! at inlining.jl:1528 [inlined]",
          "status": "Default",
          "x1": 48,
          "x2": 48.9
         },
         {
          "level": 20,
          "sf": "ssa_substitute_op!(val::Any, arg_replacements::Vector{Any}, spsig::Any, spvals::Core.SimpleVector, boundscheck::Symbol) at inlining.jl:1573",
          "status": "Default",
          "x1": 48,
          "x2": 48.9
         },
         {
          "level": 21,
          "sf": "ssa_substitute_op!(val::Any, arg_replacements::Vector{Any}, spsig::Any, spvals::Core.SimpleVector, boundscheck::Symbol) at inlining.jl:1531",
          "status": "Default",
          "x1": 48,
          "x2": 48.9
         },
         {
          "level": 15,
          "sf": "run_passes(ci::Core.CodeInfo, nargs::Int64, sv::Core.Compiler.OptimizationState) at optimize.jl:311",
          "status": "Default",
          "x1": 49,
          "x2": 49.9
         },
         {
          "level": 16,
          "sf": "getfield_elim_pass!(ir::Core.Compiler.IRCode) at passes.jl:727",
          "status": "Default",
          "x1": 49,
          "x2": 49.9
         },
         {
          "level": 17,
          "sf": "iterate(compact::Core.Compiler.IncrementalCompact, ::Tuple{Int64, Int64}) at ir.jl:1294",
          "status": "Default",
          "x1": 49,
          "x2": 49.9
         },
         {
          "level": 18,
          "sf": "process_node!(compact::Core.Compiler.IncrementalCompact, result_idx::Int64, inst::Core.Compiler.Instruction, idx::Int64, processed_idx::Int64, active_bb::Int64, do_rename_ssa::Bool) at ir.jl:1021",
          "status": "Default",
          "x1": 49,
          "x2": 49.9
         },
         {
          "level": 19,
          "sf": "renumber_ssa2!(stmt::Any, ssanums::Vector{Any}, used_ssas::Vector{Int64}, late_fixup::Vector{Int64}, result_idx::Int64, do_rename_ssa::Bool) at ir.jl:900",
          "status": "Default",
          "x1": 49,
          "x2": 49.9
         },
         {
          "level": 20,
          "sf": "userefs at ir.jl:461 [inlined]",
          "status": "Default",
          "x1": 49,
          "x2": 49.9
         },
         {
          "level": 21,
          "sf": "UseRefIterator at ir.jl:344 [inlined]",
          "status": "Default",
          "x1": 49,
          "x2": 49.9
         },
         {
          "level": 22,
          "sf": "UseRef at ir.jl:338 [inlined]",
          "status": "Default",
          "x1": 49,
          "x2": 49.9
         },
         {
          "level": 9,
          "sf": "single_timestep(ny::Int64, nx::Int64) at In[9]:27",
          "status": "Default",
          "x1": 100,
          "x2": 115.9
         },
         {
          "level": 10,
          "sf": "marker_to_basic_node(m::Markers, grid::CartesianGrid, fieldnames::Vector{String}) at Markers.jl:238",
          "status": "Runtime dispatch",
          "x1": 100,
          "x2": 100.9
         },
         {
          "level": 10,
          "sf": "marker_to_basic_node(m::Markers, grid::CartesianGrid, fieldnames::Vector{String}) at Markers.jl:240",
          "status": "Runtime dispatch",
          "x1": 101,
          "x2": 101.9
         },
         {
          "level": 10,
          "sf": "marker_to_basic_node(m::Markers, grid::CartesianGrid, fieldnames::Vector{String}) at Markers.jl:249",
          "status": "Runtime dispatch",
          "x1": 102,
          "x2": 102.9
         },
         {
          "level": 10,
          "sf": "marker_to_basic_node(m::Markers, grid::CartesianGrid, fieldnames::Vector{String}) at Markers.jl:250",
          "status": "Default",
          "x1": 103,
          "x2": 104.9
         },
         {
          "level": 11,
          "sf": "setindex! at array.jl:905 [inlined]",
          "status": "Runtime dispatch",
          "x1": 103,
          "x2": 103.9
         },
         {
          "level": 10,
          "sf": "marker_to_basic_node(m::Markers, grid::CartesianGrid, fieldnames::Vector{String}) at Markers.jl:251",
          "status": "Runtime dispatch",
          "x1": 105,
          "x2": 108.9
         },
         {
          "level": 11,
          "sf": "setindex! at array.jl:905 [inlined]",
          "status": "Runtime dispatch",
          "x1": 105,
          "x2": 105.9
         },
         {
          "level": 10,
          "sf": "marker_to_basic_node(m::Markers, grid::CartesianGrid, fieldnames::Vector{String}) at Markers.jl:252",
          "status": "Default",
          "x1": 109,
          "x2": 109.9
         },
         {
          "level": 11,
          "sf": "setindex! at array.jl:905 [inlined]",
          "status": "Runtime dispatch",
          "x1": 109,
          "x2": 109.9
         },
         {
          "level": 10,
          "sf": "marker_to_basic_node(m::Markers, grid::CartesianGrid, fieldnames::Vector{String}) at Markers.jl:253",
          "status": "Runtime dispatch",
          "x1": 110,
          "x2": 114.9
         },
         {
          "level": 11,
          "sf": "getindex at array.jl:862 [inlined]",
          "status": "Default",
          "x1": 110,
          "x2": 110.9
         },
         {
          "level": 11,
          "sf": "setindex! at array.jl:905 [inlined]",
          "status": "Runtime dispatch",
          "x1": 111,
          "x2": 112.9
         },
         {
          "level": 10,
          "sf": "marker_to_basic_node(m::Markers, grid::CartesianGrid, fieldnames::Vector{String}) at Markers.jl:257",
          "status": "Runtime dispatch",
          "x1": 115,
          "x2": 115.9
         },
         {
          "level": 9,
          "sf": "single_timestep(ny::Int64, nx::Int64) at In[9]:43",
          "status": "Default",
          "x1": 116,
          "x2": 116.9
         },
         {
          "level": 10,
          "sf": "form_stokes(grid::CartesianGrid, eta_s::Matrix{Float64}, eta_n::Matrix{Float64}, rho::Matrix{Float64}, bc::BoundaryConditions, gx::Float64, gy::Float64) at Stokes.jl:242",
          "status": "Runtime dispatch",
          "x1": 116,
          "x2": 116.9
         },
         {
          "level": 9,
          "sf": "single_timestep(ny::Int64, nx::Int64) at In[9]:44",
          "status": "Default",
          "x1": 117,
          "x2": 119.9
         },
         {
          "level": 10,
          "sf": "\\(A::SparseMatrixCSC{Float64, Int64}, B::Matrix{Float64}) at linalg.jl:1554",
          "status": "Default",
          "x1": 117,
          "x2": 119.9
         },
         {
          "level": 11,
          "sf": "lu at umfpack.jl:196 [inlined]",
          "status": "Default",
          "x1": 117,
          "x2": 119.9
         },
         {
          "level": 12,
          "sf": "lu(S::SparseMatrixCSC{Float64, Int64}; check::Bool) at umfpack.jl:202",
          "status": "Default",
          "x1": 117,
          "x2": 119.9
         },
         {
          "level": 13,
          "sf": "umfpack_numeric! at umfpack.jl:385 [inlined]",
          "status": "Default",
          "x1": 117,
          "x2": 119.9
         },
         {
          "level": 14,
          "sf": "umfpack_numeric!(U::SuiteSparse.UMFPACK.UmfpackLU{Float64, Int64}; reuse_numeric::Bool) at umfpack.jl:386",
          "status": "Default",
          "x1": 117,
          "x2": 117.9
         },
         {
          "level": 15,
          "sf": "umfpack_symbolic!(U::SuiteSparse.UMFPACK.UmfpackLU{Float64, Int64}) at umfpack.jl:365",
          "status": "Default",
          "x1": 117,
          "x2": 117.9
         },
         {
          "level": 14,
          "sf": "umfpack_numeric!(U::SuiteSparse.UMFPACK.UmfpackLU{Float64, Int64}; reuse_numeric::Bool) at umfpack.jl:388",
          "status": "Default",
          "x1": 118,
          "x2": 119.9
         },
         {
          "level": 9,
          "sf": "single_timestep(ny::Int64, nx::Int64) at In[9]:50",
          "status": "Default",
          "x1": 120,
          "x2": 132.9
         },
         {
          "level": 10,
          "sf": "marker_to_cell_center(m::Markers, grid::CartesianGrid, fieldnames::Vector{String}) at Markers.jl:155",
          "status": "Runtime dispatch",
          "x1": 120,
          "x2": 121.9
         },
         {
          "level": 10,
          "sf": "marker_to_cell_center(m::Markers, grid::CartesianGrid, fieldnames::Vector{String}) at Markers.jl:158",
          "status": "Runtime dispatch",
          "x1": 122,
          "x2": 122.9
         },
         {
          "level": 10,
          "sf": "marker_to_cell_center(m::Markers, grid::CartesianGrid, fieldnames::Vector{String}) at Markers.jl:160",
          "status": "Runtime dispatch",
          "x1": 123,
          "x2": 123.9
         },
         {
          "level": 10,
          "sf": "marker_to_cell_center(m::Markers, grid::CartesianGrid, fieldnames::Vector{String}) at Markers.jl:167",
          "status": "Default",
          "x1": 124,
          "x2": 124.9
         },
         {
          "level": 10,
          "sf": "marker_to_cell_center(m::Markers, grid::CartesianGrid, fieldnames::Vector{String}) at Markers.jl:168",
          "status": "Runtime dispatch",
          "x1": 125,
          "x2": 127.9
         },
         {
          "level": 11,
          "sf": "setindex! at array.jl:905 [inlined]",
          "status": "Runtime dispatch",
          "x1": 125,
          "x2": 125.9
         },
         {
          "level": 10,
          "sf": "marker_to_cell_center(m::Markers, grid::CartesianGrid, fieldnames::Vector{String}) at Markers.jl:169",
          "status": "Runtime dispatch",
          "x1": 128,
          "x2": 128.9
         },
         {
          "level": 10,
          "sf": "marker_to_cell_center(m::Markers, grid::CartesianGrid, fieldnames::Vector{String}) at Markers.jl:170",
          "status": "Default",
          "x1": 129,
          "x2": 129.9
         },
         {
          "level": 11,
          "sf": "setindex! at array.jl:905 [inlined]",
          "status": "Runtime dispatch",
          "x1": 129,
          "x2": 129.9
         },
         {
          "level": 10,
          "sf": "marker_to_cell_center(m::Markers, grid::CartesianGrid, fieldnames::Vector{String}) at Markers.jl:173",
          "status": "Default",
          "x1": 130,
          "x2": 131.9
         },
         {
          "level": 11,
          "sf": "setindex! at array.jl:905 [inlined]",
          "status": "Runtime dispatch",
          "x1": 130,
          "x2": 131.9
         },
         {
          "level": 10,
          "sf": "marker_to_cell_center(m::Markers, grid::CartesianGrid, fieldnames::Vector{String}) at Markers.jl:174",
          "status": "Default",
          "x1": 132,
          "x2": 132.9
         },
         {
          "level": 11,
          "sf": "setindex! at array.jl:905 [inlined]",
          "status": "Runtime dispatch",
          "x1": 132,
          "x2": 132.9
         },
         {
          "level": 9,
          "sf": "single_timestep(ny::Int64, nx::Int64) at In[9]:56",
          "status": "Default",
          "x1": 133,
          "x2": 133.9
         },
         {
          "level": 10,
          "sf": "\\(A::SparseMatrixCSC{Float64, Int64}, B::Matrix{Float64}) at linalg.jl:1554",
          "status": "Default",
          "x1": 133,
          "x2": 133.9
         },
         {
          "level": 11,
          "sf": "lu at umfpack.jl:196 [inlined]",
          "status": "Default",
          "x1": 133,
          "x2": 133.9
         },
         {
          "level": 12,
          "sf": "lu(S::SparseMatrixCSC{Float64, Int64}; check::Bool) at umfpack.jl:202",
          "status": "Default",
          "x1": 133,
          "x2": 133.9
         },
         {
          "level": 13,
          "sf": "umfpack_numeric! at umfpack.jl:385 [inlined]",
          "status": "Default",
          "x1": 133,
          "x2": 133.9
         },
         {
          "level": 14,
          "sf": "umfpack_numeric!(U::SuiteSparse.UMFPACK.UmfpackLU{Float64, Int64}; reuse_numeric::Bool) at umfpack.jl:386",
          "status": "Default",
          "x1": 133,
          "x2": 133.9
         },
         {
          "level": 15,
          "sf": "umfpack_symbolic!(U::SuiteSparse.UMFPACK.UmfpackLU{Float64, Int64}) at umfpack.jl:365",
          "status": "Default",
          "x1": 133,
          "x2": 133.9
         },
         {
          "level": 9,
          "sf": "single_timestep(ny::Int64, nx::Int64) at In[9]:61",
          "status": "Default",
          "x1": 134,
          "x2": 146.9
         },
         {
          "level": 10,
          "sf": "subgrid_temperature_relaxation!(markers::Markers, grid::CartesianGrid, Tlast::Matrix{Float64}, Cp::Float64, kThermal::Float64, dt::Float64) at In[7]:150",
          "status": "Default",
          "x1": 134,
          "x2": 134.9
         },
         {
          "level": 11,
          "sf": "macro expansion at threadingconstructs.jl:97 [inlined]",
          "status": "Default",
          "x1": 134,
          "x2": 134.9
         },
         {
          "level": 12,
          "sf": "threading_run(func::Function) at threadingconstructs.jl:38",
          "status": "Default",
          "x1": 134,
          "x2": 134.9
         },
         {
          "level": 13,
          "sf": "wait at task.jl:332 [inlined]",
          "status": "Default",
          "x1": 134,
          "x2": 134.9
         },
         {
          "level": 14,
          "sf": "_wait(t::Task) at task.jl:293",
          "status": "Runtime dispatch",
          "x1": 134,
          "x2": 134.9
         },
         {
          "level": 15,
          "sf": "wait(c::Base.GenericCondition{Base.Threads.SpinLock}) at condition.jl:123",
          "status": "Default",
          "x1": 134,
          "x2": 134.9
         },
         {
          "level": 16,
          "sf": "wait() at task.jl:836",
          "status": "Default",
          "x1": 134,
          "x2": 134.9
         },
         {
          "level": 17,
          "sf": "poptask(W::Base.InvasiveLinkedListSynchronized{Task}) at task.jl:827",
          "status": "Default",
          "x1": 134,
          "x2": 134.9
         },
         {
          "level": 10,
          "sf": "subgrid_temperature_relaxation!(markers::Markers, grid::CartesianGrid, Tlast::Matrix{Float64}, Cp::Float64, kThermal::Float64, dt::Float64) at In[7]:159",
          "status": "Default",
          "x1": 135,
          "x2": 146.9
         },
         {
          "level": 11,
          "sf": "marker_to_cell_center(m::Markers, grid::CartesianGrid, markerfield::Vector{Float64}) at Markers.jl:197",
          "status": "Default",
          "x1": 135,
          "x2": 135.9
         },
         {
          "level": 11,
          "sf": "marker_to_cell_center(m::Markers, grid::CartesianGrid, markerfield::Vector{Float64}) at Markers.jl:206",
          "status": "Runtime dispatch",
          "x1": 136,
          "x2": 136.9
         },
         {
          "level": 11,
          "sf": "marker_to_cell_center(m::Markers, grid::CartesianGrid, markerfield::Vector{Float64}) at Markers.jl:208",
          "status": "Default",
          "x1": 137,
          "x2": 137.9
         },
         {
          "level": 12,
          "sf": "setindex! at array.jl:905 [inlined]",
          "status": "Runtime dispatch",
          "x1": 137,
          "x2": 137.9
         },
         {
          "level": 11,
          "sf": "marker_to_cell_center(m::Markers, grid::CartesianGrid, markerfield::Vector{Float64}) at Markers.jl:209",
          "status": "Default",
          "x1": 138,
          "x2": 139.9
         },
         {
          "level": 12,
          "sf": "setindex! at array.jl:905 [inlined]",
          "status": "Runtime dispatch",
          "x1": 138,
          "x2": 138.9
         },
         {
          "level": 11,
          "sf": "marker_to_cell_center(m::Markers, grid::CartesianGrid, markerfield::Vector{Float64}) at Markers.jl:210",
          "status": "Runtime dispatch",
          "x1": 140,
          "x2": 141.9
         },
         {
          "level": 12,
          "sf": "setindex! at array.jl:905 [inlined]",
          "status": "Runtime dispatch",
          "x1": 140,
          "x2": 140.9
         },
         {
          "level": 11,
          "sf": "marker_to_cell_center(m::Markers, grid::CartesianGrid, markerfield::Vector{Float64}) at Markers.jl:213",
          "status": "Default",
          "x1": 142,
          "x2": 142.9
         },
         {
          "level": 12,
          "sf": "getindex at array.jl:862 [inlined]",
          "status": "Default",
          "x1": 142,
          "x2": 142.9
         },
         {
          "level": 11,
          "sf": "marker_to_cell_center(m::Markers, grid::CartesianGrid, markerfield::Vector{Float64}) at Markers.jl:214",
          "status": "Default",
          "x1": 143,
          "x2": 143.9
         },
         {
          "level": 12,
          "sf": "setindex! at array.jl:905 [inlined]",
          "status": "Runtime dispatch",
          "x1": 143,
          "x2": 143.9
         },
         {
          "level": 11,
          "sf": "marker_to_cell_center(m::Markers, grid::CartesianGrid, markerfield::Vector{Float64}) at Markers.jl:215",
          "status": "Runtime dispatch",
          "x1": 144,
          "x2": 145.9
         },
         {
          "level": 12,
          "sf": "setindex! at array.jl:905 [inlined]",
          "status": "Runtime dispatch",
          "x1": 144,
          "x2": 144.9
         },
         {
          "level": 11,
          "sf": "marker_to_cell_center(m::Markers, grid::CartesianGrid, markerfield::Vector{Float64}) at Markers.jl:216",
          "status": "Default",
          "x1": 146,
          "x2": 146.9
         },
         {
          "level": 12,
          "sf": "setindex! at array.jl:905 [inlined]",
          "status": "Runtime dispatch",
          "x1": 146,
          "x2": 146.9
         },
         {
          "level": 9,
          "sf": "single_timestep(ny::Int64, nx::Int64) at In[9]:63",
          "status": "Default",
          "x1": 147,
          "x2": 147.9
         },
         {
          "level": 10,
          "sf": "cell_center_change_to_markers!(m::Markers, grid::CartesianGrid, field::Matrix{Float64}, mfield::String) at Markers.jl:340",
          "status": "Default",
          "x1": 147,
          "x2": 147.9
         },
         {
          "level": 11,
          "sf": "macro expansion at threadingconstructs.jl:97 [inlined]",
          "status": "Default",
          "x1": 147,
          "x2": 147.9
         },
         {
          "level": 12,
          "sf": "threading_run(func::Function) at threadingconstructs.jl:38",
          "status": "Default",
          "x1": 147,
          "x2": 147.9
         },
         {
          "level": 13,
          "sf": "wait at task.jl:332 [inlined]",
          "status": "Default",
          "x1": 147,
          "x2": 147.9
         },
         {
          "level": 14,
          "sf": "_wait(t::Task) at task.jl:293",
          "status": "Runtime dispatch",
          "x1": 147,
          "x2": 147.9
         },
         {
          "level": 15,
          "sf": "wait(c::Base.GenericCondition{Base.Threads.SpinLock}) at condition.jl:123",
          "status": "Default",
          "x1": 147,
          "x2": 147.9
         },
         {
          "level": 16,
          "sf": "wait() at task.jl:836",
          "status": "Default",
          "x1": 147,
          "x2": 147.9
         },
         {
          "level": 17,
          "sf": "poptask(W::Base.InvasiveLinkedListSynchronized{Task}) at task.jl:827",
          "status": "Default",
          "x1": 147,
          "x2": 147.9
         },
         {
          "level": 9,
          "sf": "single_timestep(ny::Int64, nx::Int64) at In[9]:73",
          "status": "Default",
          "x1": 148,
          "x2": 153.9
         },
         {
          "level": 10,
          "sf": "visualization at In[7]:196 [inlined]",
          "status": "Default",
          "x1": 148,
          "x2": 153.9
         },
         {
          "level": 11,
          "sf": "visualization(markers::Markers, time::Float64; filename::String) at In[7]:201",
          "status": "Default",
          "x1": 148,
          "x2": 153.9
         },
         {
          "level": 12,
          "sf": "vtk_grid at WriteVTK.jl:163 [inlined]",
          "status": "Default",
          "x1": 148,
          "x2": 153.9
         },
         {
          "level": 13,
          "sf": "vtk_grid(::var\"#91#93\"{Markers, Float64}, ::String, ::Vararg{Any}; kwargs::Base.Pairs{Symbol, Union{}, Tuple{}, NamedTuple{(), Tuple{}}}) at WriteVTK.jl:163",
          "status": "Runtime dispatch",
          "x1": 148,
          "x2": 152.9
         },
         {
          "level": 14,
          "sf": "vtk_grid(::String, ::Matrix{Float64}, ::Vector{MeshCell{WriteVTK.PolyData.Polys, UnitRange{Int64}}}) at unstructured.jl:216",
          "status": "Default",
          "x1": 148,
          "x2": 152.9
         },
         {
          "level": 15,
          "sf": "vtk_grid(::String, ::Matrix{Float64}, ::Vector{MeshCell{WriteVTK.PolyData.Polys, UnitRange{Int64}}}; kwargs::Base.Pairs{Symbol, Union{}, Tuple{}, NamedTuple{(), Tuple{}}}) at unstructured.jl:220",
          "status": "Default",
          "x1": 148,
          "x2": 152.9
         },
         {
          "level": 16,
          "sf": "vtk_grid at polydata.jl:63 [inlined]",
          "status": "Default",
          "x1": 148,
          "x2": 152.9
         },
         {
          "level": 17,
          "sf": "vtk_grid(dtype::WriteVTK.VTKPolyData, filename::String, points::Matrix{Float64}, cells::Vector{MeshCell{WriteVTK.PolyData.Polys, UnitRange{Int64}}}; kwargs::Base.Pairs{Symbol, Union{}, Tuple{}, NamedTuple{(), Tuple{}}}) at polydata.jl:81",
          "status": "Default",
          "x1": 148,
          "x2": 149.9
         },
         {
          "level": 18,
          "sf": "data_to_xml at write_data.jl:198 [inlined]",
          "status": "Default",
          "x1": 148,
          "x2": 149.9
         },
         {
          "level": 19,
          "sf": "data_to_xml(vtk::WriteVTK.DatasetFile, xParent::LightXML.XMLElement, data::Matrix{Float64}, name::String, Nc::Int64; component_names::Nothing) at write_data.jl:212",
          "status": "Default",
          "x1": 148,
          "x2": 149.9
         },
         {
          "level": 20,
          "sf": "data_to_xml_appended(vtk::WriteVTK.DatasetFile, xDA::LightXML.XMLElement, data::Matrix{Float64}) at write_data.jl:269",
          "status": "Default",
          "x1": 148,
          "x2": 149.9
         },
         {
          "level": 21,
          "sf": "write_array at write_data.jl:136 [inlined]",
          "status": "Default",
          "x1": 148,
          "x2": 149.9
         },
         {
          "level": 22,
          "sf": "write at io.jl:671 [inlined]",
          "status": "Default",
          "x1": 148,
          "x2": 149.9
         },
         {
          "level": 23,
          "sf": "unsafe_write at io.jl:648 [inlined]",
          "status": "Default",
          "x1": 148,
          "x2": 149.9
         },
         {
          "level": 24,
          "sf": "unsafe_write(stream::TranscodingStreams.TranscodingStream{CodecZlib.ZlibCompressor, IOBuffer}, input::Ptr{UInt8}, nbytes::UInt64) at stream.jl:458",
          "status": "Default",
          "x1": 148,
          "x2": 149.9
         },
         {
          "level": 25,
          "sf": "flushbuffer at stream.jl:584 [inlined]",
          "status": "Default",
          "x1": 148,
          "x2": 149.9
         },
         {
          "level": 26,
          "sf": "flushbuffer(stream::TranscodingStreams.TranscodingStream{CodecZlib.ZlibCompressor, IOBuffer}, all::Bool) at stream.jl:594",
          "status": "Default",
          "x1": 148,
          "x2": 149.9
         },
         {
          "level": 27,
          "sf": "callprocess(stream::TranscodingStreams.TranscodingStream{CodecZlib.ZlibCompressor, IOBuffer}, inbuf::TranscodingStreams.Buffer, outbuf::TranscodingStreams.Buffer) at stream.jl:637",
          "status": "Default",
          "x1": 148,
          "x2": 149.9
         },
         {
          "level": 28,
          "sf": "process(codec::CodecZlib.ZlibCompressor, input::TranscodingStreams.Memory, output::TranscodingStreams.Memory, error::TranscodingStreams.Error) at compression.jl:175",
          "status": "Default",
          "x1": 148,
          "x2": 149.9
         },
         {
          "level": 29,
          "sf": "deflate! at libz.jl:77 [inlined]",
          "status": "Default",
          "x1": 148,
          "x2": 149.9
         },
         {
          "level": 17,
          "sf": "vtk_grid(dtype::WriteVTK.VTKPolyData, filename::String, points::Matrix{Float64}, cells::Vector{MeshCell{WriteVTK.PolyData.Polys, UnitRange{Int64}}}; kwargs::Base.Pairs{Symbol, Union{}, Tuple{}, NamedTuple{(), Tuple{}}}) at polydata.jl:83",
          "status": "Default",
          "x1": 150,
          "x2": 152.9
         },
         {
          "level": 18,
          "sf": "add_poly_cells! at polydata.jl:53 [inlined]",
          "status": "Default",
          "x1": 150,
          "x2": 152.9
         },
         {
          "level": 19,
          "sf": "add_cells! at unstructured.jl:67 [inlined]",
          "status": "Default",
          "x1": 150,
          "x2": 152.9
         },
         {
          "level": 20,
          "sf": "add_cells!(vtk::WriteVTK.DatasetFile, xml_piece::LightXML.XMLElement, number_attr::String, xml_name::String, cells::Vector{MeshCell{WriteVTK.PolyData.Polys, UnitRange{Int64}}}; with_types::Val{false}) at unstructured.jl:109",
          "status": "Default",
          "x1": 150,
          "x2": 151.9
         },
         {
          "level": 21,
          "sf": "data_to_xml at write_data.jl:198 [inlined]",
          "status": "Default",
          "x1": 150,
          "x2": 151.9
         },
         {
          "level": 22,
          "sf": "data_to_xml at write_data.jl:198 [inlined]",
          "status": "Default",
          "x1": 150,
          "x2": 151.9
         },
         {
          "level": 23,
          "sf": "data_to_xml(vtk::WriteVTK.DatasetFile, xParent::LightXML.XMLElement, data::Vector{Int32}, name::String, Nc::Int64; component_names::Nothing) at write_data.jl:212",
          "status": "Default",
          "x1": 150,
          "x2": 151.9
         },
         {
          "level": 24,
          "sf": "data_to_xml_appended(vtk::WriteVTK.DatasetFile, xDA::LightXML.XMLElement, data::Vector{Int32}) at write_data.jl:269",
          "status": "Default",
          "x1": 150,
          "x2": 150.9
         },
         {
          "level": 25,
          "sf": "write_array at write_data.jl:136 [inlined]",
          "status": "Default",
          "x1": 150,
          "x2": 150.9
         },
         {
          "level": 26,
          "sf": "write at io.jl:671 [inlined]",
          "status": "Default",
          "x1": 150,
          "x2": 150.9
         },
         {
          "level": 27,
          "sf": "unsafe_write at io.jl:648 [inlined]",
          "status": "Default",
          "x1": 150,
          "x2": 150.9
         },
         {
          "level": 28,
          "sf": "unsafe_write(stream::TranscodingStreams.TranscodingStream{CodecZlib.ZlibCompressor, IOBuffer}, input::Ptr{UInt8}, nbytes::UInt64) at stream.jl:458",
          "status": "Default",
          "x1": 150,
          "x2": 150.9
         },
         {
          "level": 29,
          "sf": "flushbuffer at stream.jl:584 [inlined]",
          "status": "Default",
          "x1": 150,
          "x2": 150.9
         },
         {
          "level": 30,
          "sf": "flushbuffer(stream::TranscodingStreams.TranscodingStream{CodecZlib.ZlibCompressor, IOBuffer}, all::Bool) at stream.jl:594",
          "status": "Default",
          "x1": 150,
          "x2": 150.9
         },
         {
          "level": 31,
          "sf": "callprocess(stream::TranscodingStreams.TranscodingStream{CodecZlib.ZlibCompressor, IOBuffer}, inbuf::TranscodingStreams.Buffer, outbuf::TranscodingStreams.Buffer) at stream.jl:637",
          "status": "Default",
          "x1": 150,
          "x2": 150.9
         },
         {
          "level": 32,
          "sf": "process(codec::CodecZlib.ZlibCompressor, input::TranscodingStreams.Memory, output::TranscodingStreams.Memory, error::TranscodingStreams.Error) at compression.jl:175",
          "status": "Default",
          "x1": 150,
          "x2": 150.9
         },
         {
          "level": 33,
          "sf": "deflate! at libz.jl:77 [inlined]",
          "status": "Default",
          "x1": 150,
          "x2": 150.9
         },
         {
          "level": 24,
          "sf": "data_to_xml_appended(vtk::WriteVTK.DatasetFile, xDA::LightXML.XMLElement, data::Vector{Int32}) at write_data.jl:270",
          "status": "Default",
          "x1": 151,
          "x2": 151.9
         },
         {
          "level": 25,
          "sf": "write at stream.jl:484 [inlined]",
          "status": "Default",
          "x1": 151,
          "x2": 151.9
         },
         {
          "level": 26,
          "sf": "flushbufferall at stream.jl:601 [inlined]",
          "status": "Default",
          "x1": 151,
          "x2": 151.9
         },
         {
          "level": 27,
          "sf": "flushbuffer(stream::TranscodingStreams.TranscodingStream{CodecZlib.ZlibCompressor, IOBuffer}, all::Bool) at stream.jl:594",
          "status": "Default",
          "x1": 151,
          "x2": 151.9
         },
         {
          "level": 28,
          "sf": "callprocess(stream::TranscodingStreams.TranscodingStream{CodecZlib.ZlibCompressor, IOBuffer}, inbuf::TranscodingStreams.Buffer, outbuf::TranscodingStreams.Buffer) at stream.jl:637",
          "status": "Default",
          "x1": 151,
          "x2": 151.9
         },
         {
          "level": 29,
          "sf": "process(codec::CodecZlib.ZlibCompressor, input::TranscodingStreams.Memory, output::TranscodingStreams.Memory, error::TranscodingStreams.Error) at compression.jl:175",
          "status": "Default",
          "x1": 151,
          "x2": 151.9
         },
         {
          "level": 30,
          "sf": "deflate! at libz.jl:77 [inlined]",
          "status": "Default",
          "x1": 151,
          "x2": 151.9
         },
         {
          "level": 20,
          "sf": "add_cells!(vtk::WriteVTK.DatasetFile, xml_piece::LightXML.XMLElement, number_attr::String, xml_name::String, cells::Vector{MeshCell{WriteVTK.PolyData.Polys, UnitRange{Int64}}}; with_types::Val{false}) at unstructured.jl:110",
          "status": "Default",
          "x1": 152,
          "x2": 152.9
         },
         {
          "level": 21,
          "sf": "data_to_xml at write_data.jl:198 [inlined]",
          "status": "Default",
          "x1": 152,
          "x2": 152.9
         },
         {
          "level": 22,
          "sf": "data_to_xml at write_data.jl:198 [inlined]",
          "status": "Default",
          "x1": 152,
          "x2": 152.9
         },
         {
          "level": 23,
          "sf": "data_to_xml(vtk::WriteVTK.DatasetFile, xParent::LightXML.XMLElement, data::Vector{Int32}, name::String, Nc::Int64; component_names::Nothing) at write_data.jl:212",
          "status": "Default",
          "x1": 152,
          "x2": 152.9
         },
         {
          "level": 24,
          "sf": "data_to_xml_appended(vtk::WriteVTK.DatasetFile, xDA::LightXML.XMLElement, data::Vector{Int32}) at write_data.jl:269",
          "status": "Default",
          "x1": 152,
          "x2": 152.9
         },
         {
          "level": 25,
          "sf": "write_array at write_data.jl:136 [inlined]",
          "status": "Default",
          "x1": 152,
          "x2": 152.9
         },
         {
          "level": 26,
          "sf": "write at io.jl:671 [inlined]",
          "status": "Default",
          "x1": 152,
          "x2": 152.9
         },
         {
          "level": 27,
          "sf": "unsafe_write at io.jl:648 [inlined]",
          "status": "Default",
          "x1": 152,
          "x2": 152.9
         },
         {
          "level": 28,
          "sf": "unsafe_write(stream::TranscodingStreams.TranscodingStream{CodecZlib.ZlibCompressor, IOBuffer}, input::Ptr{UInt8}, nbytes::UInt64) at stream.jl:458",
          "status": "Default",
          "x1": 152,
          "x2": 152.9
         },
         {
          "level": 29,
          "sf": "flushbuffer at stream.jl:584 [inlined]",
          "status": "Default",
          "x1": 152,
          "x2": 152.9
         },
         {
          "level": 30,
          "sf": "flushbuffer(stream::TranscodingStreams.TranscodingStream{CodecZlib.ZlibCompressor, IOBuffer}, all::Bool) at stream.jl:594",
          "status": "Default",
          "x1": 152,
          "x2": 152.9
         },
         {
          "level": 31,
          "sf": "callprocess(stream::TranscodingStreams.TranscodingStream{CodecZlib.ZlibCompressor, IOBuffer}, inbuf::TranscodingStreams.Buffer, outbuf::TranscodingStreams.Buffer) at stream.jl:637",
          "status": "Default",
          "x1": 152,
          "x2": 152.9
         },
         {
          "level": 32,
          "sf": "process(codec::CodecZlib.ZlibCompressor, input::TranscodingStreams.Memory, output::TranscodingStreams.Memory, error::TranscodingStreams.Error) at compression.jl:175",
          "status": "Default",
          "x1": 152,
          "x2": 152.9
         },
         {
          "level": 33,
          "sf": "deflate! at libz.jl:77 [inlined]",
          "status": "Default",
          "x1": 152,
          "x2": 152.9
         },
         {
          "level": 13,
          "sf": "vtk_grid(::var\"#91#93\"{Markers, Float64}, ::String, ::Vararg{Any}; kwargs::Base.Pairs{Symbol, Union{}, Tuple{}, NamedTuple{(), Tuple{}}}) at WriteVTK.jl:166",
          "status": "Runtime dispatch",
          "x1": 153,
          "x2": 153.9
         },
         {
          "level": 14,
          "sf": "(::var\"#91#93\"{Markers, Float64})(vtk::WriteVTK.DatasetFile) at In[7]:203",
          "status": "Runtime dispatch",
          "x1": 153,
          "x2": 153.9
         },
         {
          "level": 15,
          "sf": "setindex!(vtk::WriteVTK.DatasetFile, data::Vector{Float64}, name::String) at write_data.jl:425",
          "status": "Default",
          "x1": 153,
          "x2": 153.9
         },
         {
          "level": 16,
          "sf": "setindex!(vtk::WriteVTK.DatasetFile, data::Vector{Float64}, name::String; kwargs::Base.Pairs{Symbol, Union{}, Tuple{}, NamedTuple{(), Tuple{}}}) at write_data.jl:426",
          "status": "Default",
          "x1": 153,
          "x2": 153.9
         },
         {
          "level": 17,
          "sf": "setindex! at write_data.jl:422 [inlined]",
          "status": "Default",
          "x1": 153,
          "x2": 153.9
         },
         {
          "level": 18,
          "sf": "#setindex!#15 at write_data.jl:422 [inlined]",
          "status": "Default",
          "x1": 153,
          "x2": 153.9
         },
         {
          "level": 19,
          "sf": "add_field_data at write_data.jl:366 [inlined]",
          "status": "Default",
          "x1": 153,
          "x2": 153.9
         },
         {
          "level": 20,
          "sf": "add_field_data(vtk::WriteVTK.DatasetFile, data::Vector{Float64}, name::String, loc::VTKPointData; component_names::Nothing) at write_data.jl:381",
          "status": "Default",
          "x1": 153,
          "x2": 153.9
         },
         {
          "level": 21,
          "sf": "data_to_xml at write_data.jl:198 [inlined]",
          "status": "Default",
          "x1": 153,
          "x2": 153.9
         },
         {
          "level": 22,
          "sf": "data_to_xml(vtk::WriteVTK.DatasetFile, xParent::LightXML.XMLElement, data::Vector{Float64}, name::String, Nc::VTKPointData; component_names::Nothing) at write_data.jl:212",
          "status": "Default",
          "x1": 153,
          "x2": 153.9
         },
         {
          "level": 23,
          "sf": "data_to_xml_appended(vtk::WriteVTK.DatasetFile, xDA::LightXML.XMLElement, data::Vector{Float64}) at write_data.jl:269",
          "status": "Default",
          "x1": 153,
          "x2": 153.9
         },
         {
          "level": 24,
          "sf": "write_array at write_data.jl:136 [inlined]",
          "status": "Default",
          "x1": 153,
          "x2": 153.9
         },
         {
          "level": 25,
          "sf": "write at io.jl:671 [inlined]",
          "status": "Default",
          "x1": 153,
          "x2": 153.9
         },
         {
          "level": 26,
          "sf": "unsafe_write at io.jl:648 [inlined]",
          "status": "Default",
          "x1": 153,
          "x2": 153.9
         },
         {
          "level": 27,
          "sf": "unsafe_write(stream::TranscodingStreams.TranscodingStream{CodecZlib.ZlibCompressor, IOBuffer}, input::Ptr{UInt8}, nbytes::UInt64) at stream.jl:458",
          "status": "Default",
          "x1": 153,
          "x2": 153.9
         },
         {
          "level": 28,
          "sf": "flushbuffer at stream.jl:584 [inlined]",
          "status": "Default",
          "x1": 153,
          "x2": 153.9
         },
         {
          "level": 29,
          "sf": "flushbuffer(stream::TranscodingStreams.TranscodingStream{CodecZlib.ZlibCompressor, IOBuffer}, all::Bool) at stream.jl:594",
          "status": "Default",
          "x1": 153,
          "x2": 153.9
         },
         {
          "level": 30,
          "sf": "callprocess(stream::TranscodingStreams.TranscodingStream{CodecZlib.ZlibCompressor, IOBuffer}, inbuf::TranscodingStreams.Buffer, outbuf::TranscodingStreams.Buffer) at stream.jl:637",
          "status": "Default",
          "x1": 153,
          "x2": 153.9
         },
         {
          "level": 31,
          "sf": "process(codec::CodecZlib.ZlibCompressor, input::TranscodingStreams.Memory, output::TranscodingStreams.Memory, error::TranscodingStreams.Error) at compression.jl:175",
          "status": "Default",
          "x1": 153,
          "x2": 153.9
         },
         {
          "level": 32,
          "sf": "deflate! at libz.jl:77 [inlined]",
          "status": "Default",
          "x1": 153,
          "x2": 153.9
         },
         {
          "level": 9,
          "sf": "single_timestep(ny::Int64, nx::Int64) at In[9]:77",
          "status": "Default",
          "x1": 154,
          "x2": 155.9
         },
         {
          "level": 10,
          "sf": "move_markers_rk2!(markers::Markers, grid::CartesianGrid, vxc::Matrix{Float64}, vyc::Matrix{Float64}, dt::Float64) at Markers.jl:507",
          "status": "Default",
          "x1": 154,
          "x2": 154.9
         },
         {
          "level": 11,
          "sf": "macro expansion at threadingconstructs.jl:97 [inlined]",
          "status": "Default",
          "x1": 154,
          "x2": 154.9
         },
         {
          "level": 12,
          "sf": "threading_run(func::Function) at threadingconstructs.jl:38",
          "status": "Default",
          "x1": 154,
          "x2": 154.9
         },
         {
          "level": 13,
          "sf": "wait at task.jl:332 [inlined]",
          "status": "Default",
          "x1": 154,
          "x2": 154.9
         },
         {
          "level": 14,
          "sf": "_wait(t::Task) at task.jl:293",
          "status": "Runtime dispatch",
          "x1": 154,
          "x2": 154.9
         },
         {
          "level": 15,
          "sf": "wait(c::Base.GenericCondition{Base.Threads.SpinLock}) at condition.jl:123",
          "status": "Default",
          "x1": 154,
          "x2": 154.9
         },
         {
          "level": 16,
          "sf": "wait() at task.jl:836",
          "status": "Default",
          "x1": 154,
          "x2": 154.9
         },
         {
          "level": 17,
          "sf": "poptask(W::Base.InvasiveLinkedListSynchronized{Task}) at task.jl:827",
          "status": "Default",
          "x1": 154,
          "x2": 154.9
         },
         {
          "level": 10,
          "sf": "move_markers_rk2!(markers::Markers, grid::CartesianGrid, vxc::Matrix{Float64}, vyc::Matrix{Float64}, dt::Float64) at Markers.jl:520",
          "status": "Default",
          "x1": 155,
          "x2": 155.9
         },
         {
          "level": 11,
          "sf": "macro expansion at threadingconstructs.jl:97 [inlined]",
          "status": "Default",
          "x1": 155,
          "x2": 155.9
         },
         {
          "level": 12,
          "sf": "threading_run(func::Function) at threadingconstructs.jl:38",
          "status": "Default",
          "x1": 155,
          "x2": 155.9
         },
         {
          "level": 13,
          "sf": "wait at task.jl:332 [inlined]",
          "status": "Default",
          "x1": 155,
          "x2": 155.9
         },
         {
          "level": 14,
          "sf": "_wait(t::Task) at task.jl:293",
          "status": "Runtime dispatch",
          "x1": 155,
          "x2": 155.9
         },
         {
          "level": 15,
          "sf": "wait(c::Base.GenericCondition{Base.Threads.SpinLock}) at condition.jl:123",
          "status": "Default",
          "x1": 155,
          "x2": 155.9
         },
         {
          "level": 16,
          "sf": "wait() at task.jl:836",
          "status": "Default",
          "x1": 155,
          "x2": 155.9
         },
         {
          "level": 17,
          "sf": "poptask(W::Base.InvasiveLinkedListSynchronized{Task}) at task.jl:827",
          "status": "Default",
          "x1": 155,
          "x2": 155.9
         },
         {
          "level": 1,
          "sf": "(::var\"#465#threadsfor_fun#74\"{Markers, CartesianGrid, Matrix{Float64}, Vector{Float64}, UnitRange{Int64}})() at threadingconstructs.jl:52",
          "status": "Default",
          "x1": 156,
          "x2": 159.9
         },
         {
          "level": 2,
          "sf": "(::var\"#465#threadsfor_fun#74\"{Markers, CartesianGrid, Matrix{Float64}, Vector{Float64}, UnitRange{Int64}})(onethread::Bool) at threadingconstructs.jl:85",
          "status": "Default",
          "x1": 156,
          "x2": 159.9
         },
         {
          "level": 3,
          "sf": "macro expansion at Markers.jl:316 [inlined]",
          "status": "Runtime dispatch",
          "x1": 156,
          "x2": 156.9
         },
         {
          "level": 3,
          "sf": "macro expansion at Markers.jl:318 [inlined]",
          "status": "Runtime dispatch",
          "x1": 157,
          "x2": 158.9
         },
         {
          "level": 3,
          "sf": "macro expansion at Markers.jl:319 [inlined]",
          "status": "Default",
          "x1": 159,
          "x2": 159.9
         },
         {
          "level": 1,
          "sf": "(::var\"#482#threadsfor_fun#75\"{Markers, CartesianGrid, Matrix{Float64}, Int64, UnitRange{Int64}})() at threadingconstructs.jl:52",
          "status": "Default",
          "x1": 160,
          "x2": 168.9
         },
         {
          "level": 2,
          "sf": "(::var\"#482#threadsfor_fun#75\"{Markers, CartesianGrid, Matrix{Float64}, Int64, UnitRange{Int64}})(onethread::Bool) at threadingconstructs.jl:85",
          "status": "Default",
          "x1": 160,
          "x2": 168.9
         },
         {
          "level": 3,
          "sf": "macro expansion at Markers.jl:344 [inlined]",
          "status": "Default",
          "x1": 160,
          "x2": 160.9
         },
         {
          "level": 3,
          "sf": "macro expansion at Markers.jl:346 [inlined]",
          "status": "Default",
          "x1": 161,
          "x2": 161.9
         },
         {
          "level": 3,
          "sf": "macro expansion at Markers.jl:348 [inlined]",
          "status": "Runtime dispatch",
          "x1": 162,
          "x2": 163.9
         },
         {
          "level": 4,
          "sf": "-(x::Float64, y::Float64) at float.jl:402",
          "status": "Default",
          "x1": 163,
          "x2": 163.9
         },
         {
          "level": 3,
          "sf": "macro expansion at Markers.jl:349 [inlined]",
          "status": "Garbage collection",
          "x1": 164,
          "x2": 168.9
         },
         {
          "level": 4,
          "sf": "getindex at array.jl:862 [inlined]",
          "status": "Default",
          "x1": 164,
          "x2": 164.9
         },
         {
          "level": 1,
          "sf": "(::var\"#514#threadsfor_fun#78\"{Matrix{Float64}, Matrix{Int64}, CartesianGrid, Matrix{Float64}, Matrix{Float64}, Vector{Float64}, Vector{Float64}, UnitRange{Int64}})() at threadingconstructs.jl:52",
          "status": "Default",
          "x1": 169,
          "x2": 180.9
         },
         {
          "level": 2,
          "sf": "(::var\"#514#threadsfor_fun#78\"{Matrix{Float64}, Matrix{Int64}, CartesianGrid, Matrix{Float64}, Matrix{Float64}, Vector{Float64}, Vector{Float64}, UnitRange{Int64}})(onethread::Bool) at threadingconstructs.jl:85",
          "status": "Default",
          "x1": 169,
          "x2": 180.9
         },
         {
          "level": 3,
          "sf": "macro expansion at Markers.jl:463 [inlined]",
          "status": "Runtime dispatch",
          "x1": 169,
          "x2": 170.9
         },
         {
          "level": 3,
          "sf": "macro expansion at Markers.jl:464 [inlined]",
          "status": "Garbage collection",
          "x1": 171,
          "x2": 172.9
         },
         {
          "level": 3,
          "sf": "macro expansion at Markers.jl:465 [inlined]",
          "status": "Runtime dispatch",
          "x1": 173,
          "x2": 177.9
         },
         {
          "level": 3,
          "sf": "macro expansion at Markers.jl:466 [inlined]",
          "status": "Runtime dispatch",
          "x1": 178,
          "x2": 180.9
         },
         {
          "level": 1,
          "sf": "(::var\"#545#threadsfor_fun#80\"{Markers, Float64, Matrix{Float64}, UnitRange{Int64}})() at threadingconstructs.jl:52",
          "status": "Default",
          "x1": 181,
          "x2": 185.9
         },
         {
          "level": 2,
          "sf": "(::var\"#545#threadsfor_fun#80\"{Markers, Float64, Matrix{Float64}, UnitRange{Int64}})(onethread::Bool) at threadingconstructs.jl:85",
          "status": "Default",
          "x1": 181,
          "x2": 185.9
         },
         {
          "level": 3,
          "sf": "macro expansion at Markers.jl:508 [inlined]",
          "status": "Runtime dispatch",
          "x1": 181,
          "x2": 183.9
         },
         {
          "level": 4,
          "sf": "getindex at array.jl:862 [inlined]",
          "status": "Default",
          "x1": 181,
          "x2": 181.9
         },
         {
          "level": 3,
          "sf": "macro expansion at Markers.jl:509 [inlined]",
          "status": "Runtime dispatch",
          "x1": 184,
          "x2": 185.9
         },
         {
          "level": 1,
          "sf": "(::var\"#575#threadsfor_fun#82\"{Markers, Float64, UnitRange{Int64}})() at threadingconstructs.jl:52",
          "status": "Default",
          "x1": 186,
          "x2": 191.9
         },
         {
          "level": 2,
          "sf": "(::var\"#575#threadsfor_fun#82\"{Markers, Float64, UnitRange{Int64}})(onethread::Bool) at threadingconstructs.jl:85",
          "status": "Default",
          "x1": 186,
          "x2": 191.9
         },
         {
          "level": 3,
          "sf": "macro expansion at Markers.jl:521 [inlined]",
          "status": "Garbage collection",
          "x1": 186,
          "x2": 188.9
         },
         {
          "level": 4,
          "sf": "setindex! at array.jl:905 [inlined]",
          "status": "Runtime dispatch",
          "x1": 186,
          "x2": 187.9
         },
         {
          "level": 3,
          "sf": "macro expansion at Markers.jl:522 [inlined]",
          "status": "Default",
          "x1": 189,
          "x2": 191.9
         },
         {
          "level": 4,
          "sf": "getproperty at Base.jl:42 [inlined]",
          "status": "Default",
          "x1": 189,
          "x2": 189.9
         },
         {
          "level": 4,
          "sf": "setindex! at array.jl:905 [inlined]",
          "status": "Runtime dispatch",
          "x1": 190,
          "x2": 190.9
         },
         {
          "level": 1,
          "sf": "(::var\"#602#threadsfor_fun#85\"{Markers, CartesianGrid, Float64, Float64, Float64, Int64, Int64, Vector{Float64}, Float64, UnitRange{Int64}})() at threadingconstructs.jl:52",
          "status": "Default",
          "x1": 192,
          "x2": 192.9
         },
         {
          "level": 2,
          "sf": "(::var\"#602#threadsfor_fun#85\"{Markers, CartesianGrid, Float64, Float64, Float64, Int64, Int64, Vector{Float64}, Float64, UnitRange{Int64}})(onethread::Bool) at threadingconstructs.jl:85",
          "status": "Default",
          "x1": 192,
          "x2": 192.9
         },
         {
          "level": 3,
          "sf": "macro expansion at In[7]:152 [inlined]",
          "status": "Runtime dispatch",
          "x1": 192,
          "x2": 192.9
         },
         {
          "level": 1,
          "sf": "task_done_hook(t::Task) at task.jl:544",
          "status": "Default",
          "x1": 193,
          "x2": 3385.9
         },
         {
          "level": 2,
          "sf": "wait() at task.jl:836",
          "status": "Default",
          "x1": 193,
          "x2": 3385.9
         },
         {
          "level": 3,
          "sf": "poptask(W::Base.InvasiveLinkedListSynchronized{Task}) at task.jl:827",
          "status": "Default",
          "x1": 193,
          "x2": 3385.9
         }
        ]
       },
       "encoding": {
        "color": {
         "field": "status",
         "legend": {
          "orient": "bottom",
          "title": null
         },
         "type": "nominal"
        },
        "fillOpacity": {
         "condition": [
          {
           "selection": "highlight",
           "value": 0.6
          },
          {
           "selection": "select",
           "value": 0.5
          }
         ],
         "value": 1
        },
        "strokeWidth": {
         "condition": [
          {
           "selection": "highlight",
           "value": 0.5
          },
          {
           "selection": "select",
           "value": 0.5
          }
         ],
         "value": 0
        },
        "tooltip": {
         "field": "sf",
         "type": "nominal"
        },
        "x": {
         "axis": null,
         "field": "x1",
         "type": "quantitative"
        },
        "x2": {
         "field": "x2",
         "type": "quantitative"
        },
        "y": {
         "axis": null,
         "field": "level",
         "type": "quantitative"
        },
        "y2": {
         "field": "level2",
         "type": "quantitative"
        }
       },
       "height": 400,
       "mark": {
        "stroke": "#505050",
        "type": "rect"
       },
       "selection": {
        "grid": {
         "bind": "scales",
         "type": "interval"
        },
        "highlight": {
         "empty": "none",
         "on": "mouseover",
         "type": "single"
        },
        "select": {
         "empty": "none",
         "type": "multi"
        }
       },
       "title": "Profile Results",
       "transform": [
        {
         "as": "level2",
         "calculate": "datum.level+0.9"
        }
       ],
       "width": 800
      },
      "image/png": "[encoded data removed]",
      "image/svg+xml": [
       "<?xml version=\"1.0\" encoding=\"utf-8\"?>\n",
       "<!DOCTYPE svg PUBLIC \"-//W3C//DTD SVG 1.1//EN\" \"http://www.w3.org/Graphics/SVG/1.1/DTD/svg11.dtd\">\n",
       "<svg xmlns=\"http://www.w3.org/2000/svg\" xmlns:xlink=\"http://www.w3.org/1999/xlink\" version=\"1.1\" class=\"marks\" width=\"810\" height=\"458\" viewBox=\"0 0 810 458\"><rect width=\"810\" height=\"458\" fill=\"white\"/><g fill=\"none\" stroke-miterlimit=\"10\" transform=\"translate(5,22)\"><g class=\"mark-group role-frame root\" role=\"graphics-object\" aria-roledescription=\"group mark container\"><g transform=\"translate(0,0)\"><path class=\"background\" aria-hidden=\"true\" d=\"M0.5,0.5h800v400h-800Z\" stroke=\"#ddd\"/><g><g class=\"mark-rect role-mark marks\" clip-path=\"url(#clip1)\" role=\"graphics-object\" aria-roledescription=\"rect mark container\"><path aria-label=\"x1: 1; x2: 3403.9; level: 0; level2: 0.9; status: Garbage collection; sf: ip:0x0\" role=\"graphics-symbol\" aria-roledescription=\"rect mark\" d=\"M0.2285714285714286,397.75h777.8057142857143v2.25h-777.8057142857143Z\" fill=\"#f58518\" fill-opacity=\"1\" stroke=\"#505050\" stroke-width=\"0\"/><path aria-label=\"x1: 4; x2: 155.9; level: 1; level2: 1.9; status: Default; sf: (::IJulia.var&quot;#15#18&quot;)() at task.jl:423\" role=\"graphics-symbol\" aria-roledescription=\"rect mark\" d=\"M0.9142857142857144,395.25h34.720000000000006v2.25h-34.720000000000006Z\" fill=\"#4c78a8\" fill-opacity=\"1\" stroke=\"#505050\" stroke-width=\"0\"/><path aria-label=\"x1: 4; x2: 155.9; level: 2; level2: 2.9; status: Default; sf: eventloop(socket::ZMQ.Socket) at eventloop.jl:8\" role=\"graphics-symbol\" aria-roledescription=\"rect mark\" d=\"M0.9142857142857144,392.75h34.720000000000006v2.25h-34.720000000000006Z\" fill=\"#4c78a8\" fill-opacity=\"1\" stroke=\"#505050\" stroke-width=\"0\"/><path aria-label=\"x1: 4; x2: 155.9; level: 3; level2: 3.9; status: Default; sf: invokelatest at essentials.jl:714 [inlined]\" role=\"graphics-symbol\" aria-roledescription=\"rect mark\" d=\"M0.9142857142857144,390.25h34.720000000000006v2.25h-34.720000000000006Z\" fill=\"#4c78a8\" fill-opacity=\"1\" stroke=\"#505050\" stroke-width=\"0\"/><path aria-label=\"x1: 4; x2: 155.9; level: 4; level2: 4.9; status: Runtime dispatch; sf: #invokelatest#2 at essentials.jl:716 [inlined]\" role=\"graphics-symbol\" aria-roledescription=\"rect mark\" d=\"M0.9142857142857144,387.75h34.720000000000006v2.25h-34.720000000000006Z\" fill=\"#e45756\" fill-opacity=\"1\" stroke=\"#505050\" stroke-width=\"0\"/><path aria-label=\"x1: 4; x2: 155.9; level: 5; level2: 5.9; status: Runtime dispatch; sf: execute_request(socket::ZMQ.Socket, msg::IJulia.Msg) at execute_request.jl:67\" role=\"graphics-symbol\" aria-roledescription=\"rect mark\" d=\"M0.9142857142857144,385.25h34.720000000000006v2.25h-34.720000000000006Z\" fill=\"#e45756\" fill-opacity=\"1\" stroke=\"#505050\" stroke-width=\"0\"/><path aria-label=\"x1: 4; x2: 155.9; level: 6; level2: 6.9; status: Default; sf: softscope_include_string(m::Module, code::String, filename::String) at SoftGlobalScope.jl:65\" role=\"graphics-symbol\" aria-roledescription=\"rect mark\" d=\"M0.9142857142857144,382.75h34.720000000000006v2.25h-34.720000000000006Z\" fill=\"#4c78a8\" fill-opacity=\"1\" stroke=\"#505050\" stroke-width=\"0\"/><path aria-label=\"x1: 4; x2: 155.9; level: 7; level2: 7.9; status: Default; sf: include_string(mapexpr::typeof(REPL.softscope), mod::Module, code::String, filename::String) at loading.jl:1196\" role=\"graphics-symbol\" aria-roledescription=\"rect mark\" d=\"M0.9142857142857144,380.25h34.720000000000006v2.25h-34.720000000000006Z\" fill=\"#4c78a8\" fill-opacity=\"1\" stroke=\"#505050\" stroke-width=\"0\"/><path aria-label=\"x1: 4; x2: 155.9; level: 8; level2: 8.9; status: Runtime dispatch; sf: eval at boot.jl:373 [inlined]\" role=\"graphics-symbol\" aria-roledescription=\"rect mark\" d=\"M0.9142857142857144,377.75h34.720000000000006v2.25h-34.720000000000006Z\" fill=\"#e45756\" fill-opacity=\"1\" stroke=\"#505050\" stroke-width=\"0\"/><path aria-label=\"x1: 4; x2: 49.9; level: 9; level2: 9.9; status: Default; sf: typeinf_ext_toplevel(mi::Core.MethodInstance, world::UInt64) at typeinfer.jl:938\" role=\"graphics-symbol\" aria-roledescription=\"rect mark\" d=\"M0.9142857142857144,375.25h10.491428571428571v2.25h-10.491428571428571Z\" fill=\"#4c78a8\" fill-opacity=\"1\" stroke=\"#505050\" stroke-width=\"0\"/><path aria-label=\"x1: 4; x2: 49.9; level: 10; level2: 10.9; status: Default; sf: typeinf_ext_toplevel(interp::Core.Compiler.NativeInterpreter, linfo::Core.MethodInstance) at typeinfer.jl:942\" role=\"graphics-symbol\" aria-roledescription=\"rect mark\" d=\"M0.9142857142857144,372.75h10.491428571428571v2.25h-10.491428571428571Z\" fill=\"#4c78a8\" fill-opacity=\"1\" stroke=\"#505050\" stroke-width=\"0\"/><path aria-label=\"x1: 4; x2: 49.9; level: 11; level2: 11.9; status: Default; sf: typeinf_ext(interp::Core.Compiler.NativeInterpreter, mi::Core.MethodInstance) at typeinfer.jl:909\" role=\"graphics-symbol\" aria-roledescription=\"rect mark\" d=\"M0.9142857142857144,370.25h10.491428571428571v2.25h-10.491428571428571Z\" fill=\"#4c78a8\" fill-opacity=\"1\" stroke=\"#505050\" stroke-width=\"0\"/><path aria-label=\"x1: 4; x2: 49.9; level: 12; level2: 12.9; status: Default; sf: typeinf(interp::Core.Compiler.NativeInterpreter, frame::Core.Compiler.InferenceState) at typeinfer.jl:209\" role=\"graphics-symbol\" aria-roledescription=\"rect mark\" d=\"M0.9142857142857144,367.75h10.491428571428571v2.25h-10.491428571428571Z\" fill=\"#4c78a8\" fill-opacity=\"1\" stroke=\"#505050\" stroke-width=\"0\"/><path aria-label=\"x1: 4; x2: 46.9; level: 13; level2: 13.9; status: Default; sf: _typeinf(interp::Core.Compiler.NativeInterpreter, frame::Core.Compiler.InferenceState) at typeinfer.jl:226\" role=\"graphics-symbol\" aria-roledescription=\"rect mark\" d=\"M0.9142857142857144,365.25h9.805714285714286v2.25h-9.805714285714286Z\" fill=\"#4c78a8\" fill-opacity=\"1\" stroke=\"#505050\" stroke-width=\"0\"/><path aria-label=\"x1: 4; x2: 46.9; level: 14; level2: 14.9; status: Default; sf: typeinf_nocycle(interp::Core.Compiler.NativeInterpreter, frame::Core.Compiler.InferenceState) at abstractinterpretation.jl:2014\" role=\"graphics-symbol\" aria-roledescription=\"rect mark\" d=\"M0.9142857142857144,362.75h9.805714285714286v2.25h-9.805714285714286Z\" fill=\"#4c78a8\" fill-opacity=\"1\" stroke=\"#505050\" stroke-width=\"0\"/><path aria-label=\"x1: 4; x2: 39.9; level: 15; level2: 15.9; status: Default; sf: typeinf_local(interp::Core.Compiler.NativeInterpreter, frame::Core.Compiler.InferenceState) at abstractinterpretation.jl:1900\" role=\"graphics-symbol\" aria-roledescription=\"rect mark\" d=\"M0.9142857142857144,360.25h8.205714285714286v2.25h-8.205714285714286Z\" fill=\"#4c78a8\" fill-opacity=\"1\" stroke=\"#505050\" stroke-width=\"0\"/><path aria-label=\"x1: 4; x2: 39.9; level: 16; level2: 16.9; status: Default; sf: abstract_eval_statement(interp::Core.Compiler.NativeInterpreter, e::Any, vtypes::Vector{Any}, sv::Core.Compiler.InferenceState) at abstractinterpretation.jl:1534\" role=\"graphics-symbol\" aria-roledescription=\"rect mark\" d=\"M0.9142857142857144,357.75h8.205714285714286v2.25h-8.205714285714286Z\" fill=\"#4c78a8\" fill-opacity=\"1\" stroke=\"#505050\" stroke-width=\"0\"/><path aria-label=\"x1: 4; x2: 39.9; level: 17; level2: 17.9; status: Default; sf: abstract_call(interp::Core.Compiler.NativeInterpreter, fargs::Vector{Any}, argtypes::Vector{Any}, sv::Core.Compiler.InferenceState) at abstractinterpretation.jl:1382\" role=\"graphics-symbol\" aria-roledescription=\"rect mark\" d=\"M0.9142857142857144,355.25h8.205714285714286v2.25h-8.205714285714286Z\" fill=\"#4c78a8\" fill-opacity=\"1\" stroke=\"#505050\" stroke-width=\"0\"/><path aria-label=\"x1: 4; x2: 39.9; level: 18; level2: 18.9; status: Default; sf: abstract_call(interp::Core.Compiler.NativeInterpreter, fargs::Vector{Any}, argtypes::Vector{Any}, sv::Core.Compiler.InferenceState, max_methods::Int64) at abstractinterpretation.jl:1397\" role=\"graphics-symbol\" aria-roledescription=\"rect mark\" d=\"M0.9142857142857144,352.75h8.205714285714286v2.25h-8.205714285714286Z\" fill=\"#4c78a8\" fill-opacity=\"1\" stroke=\"#505050\" stroke-width=\"0\"/><path aria-label=\"x1: 4; x2: 39.9; level: 19; level2: 19.9; status: Default; sf: abstract_call_known(interp::Core.Compiler.NativeInterpreter, f::Any, fargs::Vector{Any}, argtypes::Vector{Any}, sv::Core.Compiler.InferenceState, max_methods::Int64) at abstractinterpretation.jl:1342\" role=\"graphics-symbol\" aria-roledescription=\"rect mark\" d=\"M0.9142857142857144,350.25h8.205714285714286v2.25h-8.205714285714286Z\" fill=\"#4c78a8\" fill-opacity=\"1\" stroke=\"#505050\" stroke-width=\"0\"/><path aria-label=\"x1: 4; x2: 39.9; level: 20; level2: 20.9; status: Default; sf: abstract_call_gf_by_type(interp::Core.Compiler.NativeInterpreter, f::Any, fargs::Vector{Any}, argtypes::Vector{Any}, atype::Any, sv::Core.Compiler.InferenceState, max_methods::Int64) at abstractinterpretation.jl:113\" role=\"graphics-symbol\" aria-roledescription=\"rect mark\" d=\"M0.9142857142857144,347.75h8.205714285714286v2.25h-8.205714285714286Z\" fill=\"#4c78a8\" fill-opacity=\"1\" stroke=\"#505050\" stroke-width=\"0\"/><path aria-label=\"x1: 4; x2: 39.9; level: 21; level2: 21.9; status: Default; sf: abstract_call_method_with_const_args(interp::Core.Compiler.NativeInterpreter, result::Core.Compiler.MethodCallResult, f::Any, argtypes::Vector{Any}, match::Core.MethodMatch, sv::Core.Compiler.InferenceState, va_override::Bool) at abstractinterpretation.jl:557\" role=\"graphics-symbol\" aria-roledescription=\"rect mark\" d=\"M0.9142857142857144,345.25h8.205714285714286v2.25h-8.205714285714286Z\" fill=\"#4c78a8\" fill-opacity=\"1\" stroke=\"#505050\" stroke-width=\"0\"/><path aria-label=\"x1: 4; x2: 39.9; level: 22; level2: 22.9; status: Default; sf: typeinf(interp::Core.Compiler.NativeInterpreter, frame::Core.Compiler.InferenceState) at typeinfer.jl:209\" role=\"graphics-symbol\" aria-roledescription=\"rect mark\" d=\"M0.9142857142857144,342.75h8.205714285714286v2.25h-8.205714285714286Z\" fill=\"#4c78a8\" fill-opacity=\"1\" stroke=\"#505050\" stroke-width=\"0\"/><path aria-label=\"x1: 4; x2: 36.9; level: 23; level2: 23.9; status: Default; sf: _typeinf(interp::Core.Compiler.NativeInterpreter, frame::Core.Compiler.InferenceState) at typeinfer.jl:226\" role=\"graphics-symbol\" aria-roledescription=\"rect mark\" d=\"M0.9142857142857144,340.25h7.52v2.25h-7.52Z\" fill=\"#4c78a8\" fill-opacity=\"1\" stroke=\"#505050\" stroke-width=\"0\"/><path aria-label=\"x1: 4; x2: 36.9; level: 24; level2: 24.9; status: Default; sf: typeinf_nocycle(interp::Core.Compiler.NativeInterpreter, frame::Core.Compiler.InferenceState) at abstractinterpretation.jl:2014\" role=\"graphics-symbol\" aria-roledescription=\"rect mark\" d=\"M0.9142857142857144,337.75h7.52v2.25h-7.52Z\" fill=\"#4c78a8\" fill-opacity=\"1\" stroke=\"#505050\" stroke-width=\"0\"/><path aria-label=\"x1: 4; x2: 12.9; level: 25; level2: 25.9; status: Default; sf: typeinf_local(interp::Core.Compiler.NativeInterpreter, frame::Core.Compiler.InferenceState) at abstractinterpretation.jl:1900\" role=\"graphics-symbol\" aria-roledescription=\"rect mark\" d=\"M0.9142857142857144,335.25h2.034285714285714v2.25h-2.034285714285714Z\" fill=\"#4c78a8\" fill-opacity=\"1\" stroke=\"#505050\" stroke-width=\"0\"/><path aria-label=\"x1: 4; x2: 12.9; level: 26; level2: 26.9; status: Default; sf: abstract_eval_statement(interp::Core.Compiler.NativeInterpreter, e::Any, vtypes::Vector{Any}, sv::Core.Compiler.InferenceState) at abstractinterpretation.jl:1534\" role=\"graphics-symbol\" aria-roledescription=\"rect mark\" d=\"M0.9142857142857144,332.75h2.034285714285714v2.25h-2.034285714285714Z\" fill=\"#4c78a8\" fill-opacity=\"1\" stroke=\"#505050\" stroke-width=\"0\"/><path aria-label=\"x1: 4; x2: 12.9; level: 27; level2: 27.9; status: Default; sf: abstract_call(interp::Core.Compiler.NativeInterpreter, fargs::Vector{Any}, argtypes::Vector{Any}, sv::Core.Compiler.InferenceState) at abstractinterpretation.jl:1382\" role=\"graphics-symbol\" aria-roledescription=\"rect mark\" d=\"M0.9142857142857144,330.25h2.034285714285714v2.25h-2.034285714285714Z\" fill=\"#4c78a8\" fill-opacity=\"1\" stroke=\"#505050\" stroke-width=\"0\"/><path aria-label=\"x1: 4; x2: 12.9; level: 28; level2: 28.9; status: Default; sf: abstract_call(interp::Core.Compiler.NativeInterpreter, fargs::Vector{Any}, argtypes::Vector{Any}, sv::Core.Compiler.InferenceState, max_methods::Int64) at abstractinterpretation.jl:1397\" role=\"graphics-symbol\" aria-roledescription=\"rect mark\" d=\"M0.9142857142857144,327.75h2.034285714285714v2.25h-2.034285714285714Z\" fill=\"#4c78a8\" fill-opacity=\"1\" stroke=\"#505050\" stroke-width=\"0\"/><path aria-label=\"x1: 4; x2: 12.9; level: 29; level2: 29.9; status: Default; sf: abstract_call_known(interp::Core.Compiler.NativeInterpreter, f::Any, fargs::Vector{Any}, argtypes::Vector{Any}, sv::Core.Compiler.InferenceState, max_methods::Int64) at abstractinterpretation.jl:1249\" role=\"graphics-symbol\" aria-roledescription=\"rect mark\" d=\"M0.9142857142857144,325.25h2.034285714285714v2.25h-2.034285714285714Z\" fill=\"#4c78a8\" fill-opacity=\"1\" stroke=\"#505050\" stroke-width=\"0\"/><path aria-label=\"x1: 4; x2: 12.9; level: 30; level2: 30.9; status: Default; sf: abstract_apply(interp::Core.Compiler.NativeInterpreter, argtypes::Vector{Any}, sv::Core.Compiler.InferenceState, max_methods::Int64) at abstractinterpretation.jl:987\" role=\"graphics-symbol\" aria-roledescription=\"rect mark\" d=\"M0.9142857142857144,322.75h2.034285714285714v2.25h-2.034285714285714Z\" fill=\"#4c78a8\" fill-opacity=\"1\" stroke=\"#505050\" stroke-width=\"0\"/><path aria-label=\"x1: 4; x2: 12.9; level: 31; level2: 31.9; status: Default; sf: abstract_call(interp::Core.Compiler.NativeInterpreter, fargs::Nothing, argtypes::Vector{Any}, sv::Core.Compiler.InferenceState, max_methods::Int64) at abstractinterpretation.jl:1397\" role=\"graphics-symbol\" aria-roledescription=\"rect mark\" d=\"M0.9142857142857144,320.25h2.034285714285714v2.25h-2.034285714285714Z\" fill=\"#4c78a8\" fill-opacity=\"1\" stroke=\"#505050\" stroke-width=\"0\"/><path aria-label=\"x1: 4; x2: 12.9; level: 32; level2: 32.9; status: Default; sf: abstract_call_known(interp::Core.Compiler.NativeInterpreter, f::Any, fargs::Nothing, argtypes::Vector{Any}, sv::Core.Compiler.InferenceState, max_methods::Int64) at abstractinterpretation.jl:1342\" role=\"graphics-symbol\" aria-roledescription=\"rect mark\" d=\"M0.9142857142857144,317.75h2.034285714285714v2.25h-2.034285714285714Z\" fill=\"#4c78a8\" fill-opacity=\"1\" stroke=\"#505050\" stroke-width=\"0\"/><path aria-label=\"x1: 4; x2: 12.9; level: 33; level2: 33.9; status: Default; sf: abstract_call_gf_by_type(interp::Core.Compiler.NativeInterpreter, f::Any, fargs::Nothing, argtypes::Vector{Any}, atype::Any, sv::Core.Compiler.InferenceState, max_methods::Int64) at abstractinterpretation.jl:113\" role=\"graphics-symbol\" aria-roledescription=\"rect mark\" d=\"M0.9142857142857144,315.25h2.034285714285714v2.25h-2.034285714285714Z\" fill=\"#4c78a8\" fill-opacity=\"1\" stroke=\"#505050\" stroke-width=\"0\"/><path aria-label=\"x1: 4; x2: 12.9; level: 34; level2: 34.9; status: Default; sf: abstract_call_method_with_const_args(interp::Core.Compiler.NativeInterpreter, result::Core.Compiler.MethodCallResult, f::Any, argtypes::Vector{Any}, match::Core.MethodMatch, sv::Core.Compiler.InferenceState, va_override::Bool) at abstractinterpretation.jl:557\" role=\"graphics-symbol\" aria-roledescription=\"rect mark\" d=\"M0.9142857142857144,312.75h2.034285714285714v2.25h-2.034285714285714Z\" fill=\"#4c78a8\" fill-opacity=\"1\" stroke=\"#505050\" stroke-width=\"0\"/><path aria-label=\"x1: 4; x2: 12.9; level: 35; level2: 35.9; status: Default; sf: typeinf(interp::Core.Compiler.NativeInterpreter, frame::Core.Compiler.InferenceState) at typeinfer.jl:209\" role=\"graphics-symbol\" aria-roledescription=\"rect mark\" d=\"M0.9142857142857144,310.25h2.034285714285714v2.25h-2.034285714285714Z\" fill=\"#4c78a8\" fill-opacity=\"1\" stroke=\"#505050\" stroke-width=\"0\"/><path aria-label=\"x1: 4; x2: 10.9; level: 36; level2: 36.9; status: Default; sf: _typeinf(interp::Core.Compiler.NativeInterpreter, frame::Core.Compiler.InferenceState) at typeinfer.jl:226\" role=\"graphics-symbol\" aria-roledescription=\"rect mark\" d=\"M0.9142857142857144,307.75h1.5771428571428572v2.25h-1.5771428571428572Z\" fill=\"#4c78a8\" fill-opacity=\"1\" stroke=\"#505050\" stroke-width=\"0\"/><path aria-label=\"x1: 4; x2: 10.9; level: 37; level2: 37.9; status: Default; sf: typeinf_nocycle(interp::Core.Compiler.NativeInterpreter, frame::Core.Compiler.InferenceState) at abstractinterpretation.jl:2014\" role=\"graphics-symbol\" aria-roledescription=\"rect mark\" d=\"M0.9142857142857144,305.25h1.5771428571428572v2.25h-1.5771428571428572Z\" fill=\"#4c78a8\" fill-opacity=\"1\" stroke=\"#505050\" stroke-width=\"0\"/><path aria-label=\"x1: 4; x2: 8.9; level: 38; level2: 38.9; status: Default; sf: typeinf_local(interp::Core.Compiler.NativeInterpreter, frame::Core.Compiler.InferenceState) at abstractinterpretation.jl:1900\" role=\"graphics-symbol\" aria-roledescription=\"rect mark\" d=\"M0.9142857142857144,302.75h1.1200000000000003v2.25h-1.1200000000000003Z\" fill=\"#4c78a8\" fill-opacity=\"1\" stroke=\"#505050\" stroke-width=\"0\"/><path aria-label=\"x1: 4; x2: 8.9; level: 39; level2: 39.9; status: Default; sf: abstract_eval_statement(interp::Core.Compiler.NativeInterpreter, e::Any, vtypes::Vector{Any}, sv::Core.Compiler.InferenceState) at abstractinterpretation.jl:1534\" role=\"graphics-symbol\" aria-roledescription=\"rect mark\" d=\"M0.9142857142857144,300.25h1.1200000000000003v2.25h-1.1200000000000003Z\" fill=\"#4c78a8\" fill-opacity=\"1\" stroke=\"#505050\" stroke-width=\"0\"/><path aria-label=\"x1: 4; x2: 8.9; level: 40; level2: 40.9; status: Default; sf: abstract_call(interp::Core.Compiler.NativeInterpreter, fargs::Vector{Any}, argtypes::Vector{Any}, sv::Core.Compiler.InferenceState) at abstractinterpretation.jl:1382\" role=\"graphics-symbol\" aria-roledescription=\"rect mark\" d=\"M0.9142857142857144,297.75h1.1200000000000003v2.25h-1.1200000000000003Z\" fill=\"#4c78a8\" fill-opacity=\"1\" stroke=\"#505050\" stroke-width=\"0\"/><path aria-label=\"x1: 4; x2: 8.9; level: 41; level2: 41.9; status: Default; sf: abstract_call(interp::Core.Compiler.NativeInterpreter, fargs::Vector{Any}, argtypes::Vector{Any}, sv::Core.Compiler.InferenceState, max_methods::Int64) at abstractinterpretation.jl:1397\" role=\"graphics-symbol\" aria-roledescription=\"rect mark\" d=\"M0.9142857142857144,295.25h1.1200000000000003v2.25h-1.1200000000000003Z\" fill=\"#4c78a8\" fill-opacity=\"1\" stroke=\"#505050\" stroke-width=\"0\"/><path aria-label=\"x1: 4; x2: 8.9; level: 42; level2: 42.9; status: Default; sf: abstract_call_known(interp::Core.Compiler.NativeInterpreter, f::Any, fargs::Vector{Any}, argtypes::Vector{Any}, sv::Core.Compiler.InferenceState, max_methods::Int64) at abstractinterpretation.jl:1342\" role=\"graphics-symbol\" aria-roledescription=\"rect mark\" d=\"M0.9142857142857144,292.75h1.1200000000000003v2.25h-1.1200000000000003Z\" fill=\"#4c78a8\" fill-opacity=\"1\" stroke=\"#505050\" stroke-width=\"0\"/><path aria-label=\"x1: 4; x2: 8.9; level: 43; level2: 43.9; status: Default; sf: abstract_call_gf_by_type(interp::Core.Compiler.NativeInterpreter, f::Any, fargs::Vector{Any}, argtypes::Vector{Any}, atype::Any, sv::Core.Compiler.InferenceState, max_methods::Int64) at abstractinterpretation.jl:113\" role=\"graphics-symbol\" aria-roledescription=\"rect mark\" d=\"M0.9142857142857144,290.25h1.1200000000000003v2.25h-1.1200000000000003Z\" fill=\"#4c78a8\" fill-opacity=\"1\" stroke=\"#505050\" stroke-width=\"0\"/><path aria-label=\"x1: 4; x2: 8.9; level: 44; level2: 44.9; status: Default; sf: abstract_call_method_with_const_args(interp::Core.Compiler.NativeInterpreter, result::Core.Compiler.MethodCallResult, f::Any, argtypes::Vector{Any}, match::Core.MethodMatch, sv::Core.Compiler.InferenceState, va_override::Bool) at abstractinterpretation.jl:557\" role=\"graphics-symbol\" aria-roledescription=\"rect mark\" d=\"M0.9142857142857144,287.75h1.1200000000000003v2.25h-1.1200000000000003Z\" fill=\"#4c78a8\" fill-opacity=\"1\" stroke=\"#505050\" stroke-width=\"0\"/><path aria-label=\"x1: 4; x2: 8.9; level: 45; level2: 45.9; status: Default; sf: typeinf(interp::Core.Compiler.NativeInterpreter, frame::Core.Compiler.InferenceState) at typeinfer.jl:209\" role=\"graphics-symbol\" aria-roledescription=\"rect mark\" d=\"M0.9142857142857144,285.25h1.1200000000000003v2.25h-1.1200000000000003Z\" fill=\"#4c78a8\" fill-opacity=\"1\" stroke=\"#505050\" stroke-width=\"0\"/><path aria-label=\"x1: 4; x2: 7.9; level: 46; level2: 46.9; status: Default; sf: _typeinf(interp::Core.Compiler.NativeInterpreter, frame::Core.Compiler.InferenceState) at typeinfer.jl:226\" role=\"graphics-symbol\" aria-roledescription=\"rect mark\" d=\"M0.9142857142857144,282.75h0.8914285714285715v2.25h-0.8914285714285715Z\" fill=\"#4c78a8\" fill-opacity=\"1\" stroke=\"#505050\" stroke-width=\"0\"/><path aria-label=\"x1: 4; x2: 7.9; level: 47; level2: 47.9; status: Default; sf: typeinf_nocycle(interp::Core.Compiler.NativeInterpreter, frame::Core.Compiler.InferenceState) at abstractinterpretation.jl:2014\" role=\"graphics-symbol\" aria-roledescription=\"rect mark\" d=\"M0.9142857142857144,280.25h0.8914285714285715v2.25h-0.8914285714285715Z\" fill=\"#4c78a8\" fill-opacity=\"1\" stroke=\"#505050\" stroke-width=\"0\"/><path aria-label=\"x1: 4; x2: 5.9; level: 48; level2: 48.9; status: Default; sf: typeinf_local(interp::Core.Compiler.NativeInterpreter, frame::Core.Compiler.InferenceState) at abstractinterpretation.jl:1900\" role=\"graphics-symbol\" aria-roledescription=\"rect mark\" d=\"M0.9142857142857144,277.75h0.4342857142857144v2.25h-0.4342857142857144Z\" fill=\"#4c78a8\" fill-opacity=\"1\" stroke=\"#505050\" stroke-width=\"0\"/><path aria-label=\"x1: 4; x2: 5.9; level: 49; level2: 49.9; status: Default; sf: abstract_eval_statement(interp::Core.Compiler.NativeInterpreter, e::Any, vtypes::Vector{Any}, sv::Core.Compiler.InferenceState) at abstractinterpretation.jl:1534\" role=\"graphics-symbol\" aria-roledescription=\"rect mark\" d=\"M0.9142857142857144,275.25h0.4342857142857144v2.25h-0.4342857142857144Z\" fill=\"#4c78a8\" fill-opacity=\"1\" stroke=\"#505050\" stroke-width=\"0\"/><path aria-label=\"x1: 4; x2: 5.9; level: 50; level2: 50.9; status: Default; sf: abstract_call(interp::Core.Compiler.NativeInterpreter, fargs::Vector{Any}, argtypes::Vector{Any}, sv::Core.Compiler.InferenceState) at abstractinterpretation.jl:1382\" role=\"graphics-symbol\" aria-roledescription=\"rect mark\" d=\"M0.9142857142857144,272.75h0.4342857142857144v2.25h-0.4342857142857144Z\" fill=\"#4c78a8\" fill-opacity=\"1\" stroke=\"#505050\" stroke-width=\"0\"/><path aria-label=\"x1: 4; x2: 5.9; level: 51; level2: 51.9; status: Default; sf: abstract_call(interp::Core.Compiler.NativeInterpreter, fargs::Vector{Any}, argtypes::Vector{Any}, sv::Core.Compiler.InferenceState, max_methods::Int64) at abstractinterpretation.jl:1397\" role=\"graphics-symbol\" aria-roledescription=\"rect mark\" d=\"M0.9142857142857144,270.25h0.4342857142857144v2.25h-0.4342857142857144Z\" fill=\"#4c78a8\" fill-opacity=\"1\" stroke=\"#505050\" stroke-width=\"0\"/><path aria-label=\"x1: 4; x2: 5.9; level: 52; level2: 52.9; status: Default; sf: abstract_call_known(interp::Core.Compiler.NativeInterpreter, f::Any, fargs::Vector{Any}, argtypes::Vector{Any}, sv::Core.Compiler.InferenceState, max_methods::Int64) at abstractinterpretation.jl:1342\" role=\"graphics-symbol\" aria-roledescription=\"rect mark\" d=\"M0.9142857142857144,267.75h0.4342857142857144v2.25h-0.4342857142857144Z\" fill=\"#4c78a8\" fill-opacity=\"1\" stroke=\"#505050\" stroke-width=\"0\"/><path aria-label=\"x1: 4; x2: 5.9; level: 53; level2: 53.9; status: Default; sf: abstract_call_gf_by_type(interp::Core.Compiler.NativeInterpreter, f::Any, fargs::Vector{Any}, argtypes::Vector{Any}, atype::Any, sv::Core.Compiler.InferenceState, max_methods::Int64) at abstractinterpretation.jl:113\" role=\"graphics-symbol\" aria-roledescription=\"rect mark\" d=\"M0.9142857142857144,265.25h0.4342857142857144v2.25h-0.4342857142857144Z\" fill=\"#4c78a8\" fill-opacity=\"1\" stroke=\"#505050\" stroke-width=\"0\"/><path aria-label=\"x1: 4; x2: 5.9; level: 54; level2: 54.9; status: Default; sf: abstract_call_method_with_const_args(interp::Core.Compiler.NativeInterpreter, result::Core.Compiler.MethodCallResult, f::Any, argtypes::Vector{Any}, match::Core.MethodMatch, sv::Core.Compiler.InferenceState, va_override::Bool) at abstractinterpretation.jl:557\" role=\"graphics-symbol\" aria-roledescription=\"rect mark\" d=\"M0.9142857142857144,262.75h0.4342857142857144v2.25h-0.4342857142857144Z\" fill=\"#4c78a8\" fill-opacity=\"1\" stroke=\"#505050\" stroke-width=\"0\"/><path aria-label=\"x1: 4; x2: 5.9; level: 55; level2: 55.9; status: Default; sf: typeinf(interp::Core.Compiler.NativeInterpreter, frame::Core.Compiler.InferenceState) at typeinfer.jl:209\" role=\"graphics-symbol\" aria-roledescription=\"rect mark\" d=\"M0.9142857142857144,260.25h0.4342857142857144v2.25h-0.4342857142857144Z\" fill=\"#4c78a8\" fill-opacity=\"1\" stroke=\"#505050\" stroke-width=\"0\"/><path aria-label=\"x1: 4; x2: 5.9; level: 56; level2: 56.9; status: Default; sf: _typeinf(interp::Core.Compiler.NativeInterpreter, frame::Core.Compiler.InferenceState) at typeinfer.jl:226\" role=\"graphics-symbol\" aria-roledescription=\"rect mark\" d=\"M0.9142857142857144,257.75h0.4342857142857144v2.25h-0.4342857142857144Z\" fill=\"#4c78a8\" fill-opacity=\"1\" stroke=\"#505050\" stroke-width=\"0\"/><path aria-label=\"x1: 4; x2: 5.9; level: 57; level2: 57.9; status: Default; sf: typeinf_nocycle(interp::Core.Compiler.NativeInterpreter, frame::Core.Compiler.InferenceState) at abstractinterpretation.jl:2014\" role=\"graphics-symbol\" aria-roledescription=\"rect mark\" d=\"M0.9142857142857144,255.25000000000003h0.4342857142857144v2.2499999999999716h-0.4342857142857144Z\" fill=\"#4c78a8\" fill-opacity=\"1\" stroke=\"#505050\" stroke-width=\"0\"/><path aria-label=\"x1: 4; x2: 5.9; level: 58; level2: 58.9; status: Default; sf: typeinf_local(interp::Core.Compiler.NativeInterpreter, frame::Core.Compiler.InferenceState) at abstractinterpretation.jl:1918\" role=\"graphics-symbol\" aria-roledescription=\"rect mark\" d=\"M0.9142857142857144,252.75h0.4342857142857144v2.2499999999999716h-0.4342857142857144Z\" fill=\"#4c78a8\" fill-opacity=\"1\" stroke=\"#505050\" stroke-width=\"0\"/><path aria-label=\"x1: 4; x2: 5.9; level: 59; level2: 59.9; status: Default; sf: abstract_eval_statement(interp::Core.Compiler.NativeInterpreter, e::Any, vtypes::Vector{Any}, sv::Core.Compiler.InferenceState) at abstractinterpretation.jl:1534\" role=\"graphics-symbol\" aria-roledescription=\"rect mark\" d=\"M0.9142857142857144,250.25h0.4342857142857144v2.25h-0.4342857142857144Z\" fill=\"#4c78a8\" fill-opacity=\"1\" stroke=\"#505050\" stroke-width=\"0\"/><path aria-label=\"x1: 4; x2: 5.9; level: 60; level2: 60.9; status: Default; sf: abstract_call(interp::Core.Compiler.NativeInterpreter, fargs::Vector{Any}, argtypes::Vector{Any}, sv::Core.Compiler.InferenceState) at abstractinterpretation.jl:1382\" role=\"graphics-symbol\" aria-roledescription=\"rect mark\" d=\"M0.9142857142857144,247.75h0.4342857142857144v2.25h-0.4342857142857144Z\" fill=\"#4c78a8\" fill-opacity=\"1\" stroke=\"#505050\" stroke-width=\"0\"/><path aria-label=\"x1: 4; x2: 5.9; level: 61; level2: 61.9; status: Default; sf: abstract_call(interp::Core.Compiler.NativeInterpreter, fargs::Vector{Any}, argtypes::Vector{Any}, sv::Core.Compiler.InferenceState, max_methods::Int64) at abstractinterpretation.jl:1397\" role=\"graphics-symbol\" aria-roledescription=\"rect mark\" d=\"M0.9142857142857144,245.25h0.4342857142857144v2.25h-0.4342857142857144Z\" fill=\"#4c78a8\" fill-opacity=\"1\" stroke=\"#505050\" stroke-width=\"0\"/><path aria-label=\"x1: 4; x2: 4.9; level: 62; level2: 62.9; status: Default; sf: abstract_call_known(interp::Core.Compiler.NativeInterpreter, f::Any, fargs::Vector{Any}, argtypes::Vector{Any}, sv::Core.Compiler.InferenceState, max_methods::Int64) at abstractinterpretation.jl:1249\" role=\"graphics-symbol\" aria-roledescription=\"rect mark\" d=\"M0.9142857142857144,242.75000000000003h0.20571428571428574v2.25h-0.20571428571428574Z\" fill=\"#4c78a8\" fill-opacity=\"1\" stroke=\"#505050\" stroke-width=\"0\"/><path aria-label=\"x1: 4; x2: 4.9; level: 63; level2: 63.9; status: Default; sf: abstract_apply(interp::Core.Compiler.NativeInterpreter, argtypes::Vector{Any}, sv::Core.Compiler.InferenceState, max_methods::Int64) at abstractinterpretation.jl:987\" role=\"graphics-symbol\" aria-roledescription=\"rect mark\" d=\"M0.9142857142857144,240.25h0.20571428571428574v2.2499999999999716h-0.20571428571428574Z\" fill=\"#4c78a8\" fill-opacity=\"1\" stroke=\"#505050\" stroke-width=\"0\"/><path aria-label=\"x1: 4; x2: 4.9; level: 64; level2: 64.9; status: Default; sf: abstract_call(interp::Core.Compiler.NativeInterpreter, fargs::Nothing, argtypes::Vector{Any}, sv::Core.Compiler.InferenceState, max_methods::Int64) at abstractinterpretation.jl:1397\" role=\"graphics-symbol\" aria-roledescription=\"rect mark\" d=\"M0.9142857142857144,237.75h0.20571428571428574v2.25h-0.20571428571428574Z\" fill=\"#4c78a8\" fill-opacity=\"1\" stroke=\"#505050\" stroke-width=\"0\"/><path aria-label=\"x1: 4; x2: 4.9; level: 65; level2: 65.9; status: Default; sf: abstract_call_known(interp::Core.Compiler.NativeInterpreter, f::Any, fargs::Nothing, argtypes::Vector{Any}, sv::Core.Compiler.InferenceState, max_methods::Int64) at abstractinterpretation.jl:1342\" role=\"graphics-symbol\" aria-roledescription=\"rect mark\" d=\"M0.9142857142857144,235.25h0.20571428571428574v2.25h-0.20571428571428574Z\" fill=\"#4c78a8\" fill-opacity=\"1\" stroke=\"#505050\" stroke-width=\"0\"/><path aria-label=\"x1: 4; x2: 4.9; level: 66; level2: 66.9; status: Default; sf: abstract_call_gf_by_type(interp::Core.Compiler.NativeInterpreter, f::Any, fargs::Nothing, argtypes::Vector{Any}, atype::Any, sv::Core.Compiler.InferenceState, max_methods::Int64) at abstractinterpretation.jl:113\" role=\"graphics-symbol\" aria-roledescription=\"rect mark\" d=\"M0.9142857142857144,232.74999999999997h0.20571428571428574v2.2500000000000284h-0.20571428571428574Z\" fill=\"#4c78a8\" fill-opacity=\"1\" stroke=\"#505050\" stroke-width=\"0\"/><path aria-label=\"x1: 4; x2: 4.9; level: 67; level2: 67.9; status: Default; sf: abstract_call_method_with_const_args(interp::Core.Compiler.NativeInterpreter, result::Core.Compiler.MethodCallResult, f::Any, argtypes::Vector{Any}, match::Core.MethodMatch, sv::Core.Compiler.InferenceState, va_override::Bool) at abstractinterpretation.jl:553\" role=\"graphics-symbol\" aria-roledescription=\"rect mark\" d=\"M0.9142857142857144,230.24999999999997h0.20571428571428574v2.250000000000057h-0.20571428571428574Z\" fill=\"#4c78a8\" fill-opacity=\"1\" stroke=\"#505050\" stroke-width=\"0\"/><path aria-label=\"x1: 4; x2: 4.9; level: 68; level2: 68.9; status: Default; sf: Core.Compiler.InferenceState(result::Core.Compiler.InferenceResult, cached::Bool, interp::Core.Compiler.NativeInterpreter) at inferencestate.jl:237\" role=\"graphics-symbol\" aria-roledescription=\"rect mark\" d=\"M0.9142857142857144,227.75h0.20571428571428574v2.2499999999999716h-0.20571428571428574Z\" fill=\"#4c78a8\" fill-opacity=\"1\" stroke=\"#505050\" stroke-width=\"0\"/><path aria-label=\"x1: 4; x2: 4.9; level: 69; level2: 69.9; status: Default; sf: Core.Compiler.InferenceState(result::Core.Compiler.InferenceResult, src::Core.CodeInfo, cached::Bool, interp::Core.Compiler.NativeInterpreter) at inferencestate.jl:84\" role=\"graphics-symbol\" aria-roledescription=\"rect mark\" d=\"M0.9142857142857144,225.25h0.20571428571428574v2.25h-0.20571428571428574Z\" fill=\"#4c78a8\" fill-opacity=\"1\" stroke=\"#505050\" stroke-width=\"0\"/><path aria-label=\"x1: 4; x2: 4.9; level: 70; level2: 70.9; status: Default; sf: find_ssavalue_uses(body::Vector{Any}, nvals::Int64) at utilities.jl:266\" role=\"graphics-symbol\" aria-roledescription=\"rect mark\" d=\"M0.9142857142857144,222.75h0.20571428571428574v2.25h-0.20571428571428574Z\" fill=\"#4c78a8\" fill-opacity=\"1\" stroke=\"#505050\" stroke-width=\"0\"/><path aria-label=\"x1: 4; x2: 4.9; level: 71; level2: 71.9; status: Default; sf: BitSet at bitset.jl:18 [inlined]\" role=\"graphics-symbol\" aria-roledescription=\"rect mark\" d=\"M0.9142857142857144,220.24999999999997h0.20571428571428574v2.2500000000000284h-0.20571428571428574Z\" fill=\"#4c78a8\" fill-opacity=\"1\" stroke=\"#505050\" stroke-width=\"0\"/><path aria-label=\"x1: 4; x2: 4.9; level: 72; level2: 72.9; status: Default; sf: sizehint! at array.jl:1204 [inlined]\" role=\"graphics-symbol\" aria-roledescription=\"rect mark\" d=\"M0.9142857142857144,217.74999999999997h0.20571428571428574v2.250000000000057h-0.20571428571428574Z\" fill=\"#4c78a8\" fill-opacity=\"1\" stroke=\"#505050\" stroke-width=\"0\"/><path aria-label=\"x1: 5; x2: 5.9; level: 62; level2: 62.9; status: Default; sf: abstract_call_known(interp::Core.Compiler.NativeInterpreter, f::Any, fargs::Vector{Any}, argtypes::Vector{Any}, sv::Core.Compiler.InferenceState, max_methods::Int64) at abstractinterpretation.jl:1342\" role=\"graphics-symbol\" aria-roledescription=\"rect mark\" d=\"M1.1428571428571428,242.75000000000003h0.20571428571428596v2.25h-0.20571428571428596Z\" fill=\"#4c78a8\" fill-opacity=\"1\" stroke=\"#505050\" stroke-width=\"0\"/><path aria-label=\"x1: 5; x2: 5.9; level: 63; level2: 63.9; status: Default; sf: abstract_call_gf_by_type(interp::Core.Compiler.NativeInterpreter, f::Any, fargs::Vector{Any}, argtypes::Vector{Any}, atype::Any, sv::Core.Compiler.InferenceState, max_methods::Int64) at abstractinterpretation.jl:113\" role=\"graphics-symbol\" aria-roledescription=\"rect mark\" d=\"M1.1428571428571428,240.25h0.20571428571428596v2.2499999999999716h-0.20571428571428596Z\" fill=\"#4c78a8\" fill-opacity=\"1\" stroke=\"#505050\" stroke-width=\"0\"/><path aria-label=\"x1: 5; x2: 5.9; level: 64; level2: 64.9; status: Default; sf: abstract_call_method_with_const_args(interp::Core.Compiler.NativeInterpreter, result::Core.Compiler.MethodCallResult, f::Any, argtypes::Vector{Any}, match::Core.MethodMatch, sv::Core.Compiler.InferenceState, va_override::Bool) at abstractinterpretation.jl:557\" role=\"graphics-symbol\" aria-roledescription=\"rect mark\" d=\"M1.1428571428571428,237.75h0.20571428571428596v2.25h-0.20571428571428596Z\" fill=\"#4c78a8\" fill-opacity=\"1\" stroke=\"#505050\" stroke-width=\"0\"/><path aria-label=\"x1: 5; x2: 5.9; level: 65; level2: 65.9; status: Default; sf: typeinf(interp::Core.Compiler.NativeInterpreter, frame::Core.Compiler.InferenceState) at typeinfer.jl:209\" role=\"graphics-symbol\" aria-roledescription=\"rect mark\" d=\"M1.1428571428571428,235.25h0.20571428571428596v2.25h-0.20571428571428596Z\" fill=\"#4c78a8\" fill-opacity=\"1\" stroke=\"#505050\" stroke-width=\"0\"/><path aria-label=\"x1: 5; x2: 5.9; level: 66; level2: 66.9; status: Default; sf: _typeinf(interp::Core.Compiler.NativeInterpreter, frame::Core.Compiler.InferenceState) at typeinfer.jl:226\" role=\"graphics-symbol\" aria-roledescription=\"rect mark\" d=\"M1.1428571428571428,232.74999999999997h0.20571428571428596v2.2500000000000284h-0.20571428571428596Z\" fill=\"#4c78a8\" fill-opacity=\"1\" stroke=\"#505050\" stroke-width=\"0\"/><path aria-label=\"x1: 5; x2: 5.9; level: 67; level2: 67.9; status: Default; sf: typeinf_nocycle(interp::Core.Compiler.NativeInterpreter, frame::Core.Compiler.InferenceState) at abstractinterpretation.jl:2014\" role=\"graphics-symbol\" aria-roledescription=\"rect mark\" d=\"M1.1428571428571428,230.24999999999997h0.20571428571428596v2.250000000000057h-0.20571428571428596Z\" fill=\"#4c78a8\" fill-opacity=\"1\" stroke=\"#505050\" stroke-width=\"0\"/><path aria-label=\"x1: 5; x2: 5.9; level: 68; level2: 68.9; status: Default; sf: typeinf_local(interp::Core.Compiler.NativeInterpreter, frame::Core.Compiler.InferenceState) at abstractinterpretation.jl:1918\" role=\"graphics-symbol\" aria-roledescription=\"rect mark\" d=\"M1.1428571428571428,227.75h0.20571428571428596v2.2499999999999716h-0.20571428571428596Z\" fill=\"#4c78a8\" fill-opacity=\"1\" stroke=\"#505050\" stroke-width=\"0\"/><path aria-label=\"x1: 5; x2: 5.9; level: 69; level2: 69.9; status: Default; sf: abstract_eval_statement(interp::Core.Compiler.NativeInterpreter, e::Any, vtypes::Vector{Any}, sv::Core.Compiler.InferenceState) at abstractinterpretation.jl:1534\" role=\"graphics-symbol\" aria-roledescription=\"rect mark\" d=\"M1.1428571428571428,225.25h0.20571428571428596v2.25h-0.20571428571428596Z\" fill=\"#4c78a8\" fill-opacity=\"1\" stroke=\"#505050\" stroke-width=\"0\"/><path aria-label=\"x1: 5; x2: 5.9; level: 70; level2: 70.9; status: Default; sf: abstract_call(interp::Core.Compiler.NativeInterpreter, fargs::Vector{Any}, argtypes::Vector{Any}, sv::Core.Compiler.InferenceState) at abstractinterpretation.jl:1382\" role=\"graphics-symbol\" aria-roledescription=\"rect mark\" d=\"M1.1428571428571428,222.75h0.20571428571428596v2.25h-0.20571428571428596Z\" fill=\"#4c78a8\" fill-opacity=\"1\" stroke=\"#505050\" stroke-width=\"0\"/><path aria-label=\"x1: 5; x2: 5.9; level: 71; level2: 71.9; status: Default; sf: abstract_call(interp::Core.Compiler.NativeInterpreter, fargs::Vector{Any}, argtypes::Vector{Any}, sv::Core.Compiler.InferenceState, max_methods::Int64) at abstractinterpretation.jl:1397\" role=\"graphics-symbol\" aria-roledescription=\"rect mark\" d=\"M1.1428571428571428,220.24999999999997h0.20571428571428596v2.2500000000000284h-0.20571428571428596Z\" fill=\"#4c78a8\" fill-opacity=\"1\" stroke=\"#505050\" stroke-width=\"0\"/><path aria-label=\"x1: 5; x2: 5.9; level: 72; level2: 72.9; status: Default; sf: abstract_call_known(interp::Core.Compiler.NativeInterpreter, f::Any, fargs::Vector{Any}, argtypes::Vector{Any}, sv::Core.Compiler.InferenceState, max_methods::Int64) at abstractinterpretation.jl:1342\" role=\"graphics-symbol\" aria-roledescription=\"rect mark\" d=\"M1.1428571428571428,217.74999999999997h0.20571428571428596v2.250000000000057h-0.20571428571428596Z\" fill=\"#4c78a8\" fill-opacity=\"1\" stroke=\"#505050\" stroke-width=\"0\"/><path aria-label=\"x1: 5; x2: 5.9; level: 73; level2: 73.9; status: Default; sf: abstract_call_gf_by_type(interp::Core.Compiler.NativeInterpreter, f::Any, fargs::Vector{Any}, argtypes::Vector{Any}, atype::Any, sv::Core.Compiler.InferenceState, max_methods::Int64) at abstractinterpretation.jl:113\" role=\"graphics-symbol\" aria-roledescription=\"rect mark\" d=\"M1.1428571428571428,215.25h0.20571428571428596v2.2499999999999716h-0.20571428571428596Z\" fill=\"#4c78a8\" fill-opacity=\"1\" stroke=\"#505050\" stroke-width=\"0\"/><path aria-label=\"x1: 5; x2: 5.9; level: 74; level2: 74.9; status: Default; sf: abstract_call_method_with_const_args(interp::Core.Compiler.NativeInterpreter, result::Core.Compiler.MethodCallResult, f::Any, argtypes::Vector{Any}, match::Core.MethodMatch, sv::Core.Compiler.InferenceState, va_override::Bool) at abstractinterpretation.jl:557\" role=\"graphics-symbol\" aria-roledescription=\"rect mark\" d=\"M1.1428571428571428,212.75h0.20571428571428596v2.25h-0.20571428571428596Z\" fill=\"#4c78a8\" fill-opacity=\"1\" stroke=\"#505050\" stroke-width=\"0\"/><path aria-label=\"x1: 5; x2: 5.9; level: 75; level2: 75.9; status: Default; sf: typeinf(interp::Core.Compiler.NativeInterpreter, frame::Core.Compiler.InferenceState) at typeinfer.jl:209\" role=\"graphics-symbol\" aria-roledescription=\"rect mark\" d=\"M1.1428571428571428,210.25h0.20571428571428596v2.25h-0.20571428571428596Z\" fill=\"#4c78a8\" fill-opacity=\"1\" stroke=\"#505050\" stroke-width=\"0\"/><path aria-label=\"x1: 5; x2: 5.9; level: 76; level2: 76.9; status: Default; sf: _typeinf(interp::Core.Compiler.NativeInterpreter, frame::Core.Compiler.InferenceState) at typeinfer.jl:261\" role=\"graphics-symbol\" aria-roledescription=\"rect mark\" d=\"M1.1428571428571428,207.74999999999997h0.20571428571428596v2.2500000000000284h-0.20571428571428596Z\" fill=\"#4c78a8\" fill-opacity=\"1\" stroke=\"#505050\" stroke-width=\"0\"/><path aria-label=\"x1: 5; x2: 5.9; level: 77; level2: 77.9; status: Default; sf: ir_to_codeinf! at optimize.jl:111 [inlined]\" role=\"graphics-symbol\" aria-roledescription=\"rect mark\" d=\"M1.1428571428571428,205.24999999999997h0.20571428571428596v2.250000000000057h-0.20571428571428596Z\" fill=\"#4c78a8\" fill-opacity=\"1\" stroke=\"#505050\" stroke-width=\"0\"/><path aria-label=\"x1: 6; x2: 7.9; level: 48; level2: 48.9; status: Default; sf: typeinf_local(interp::Core.Compiler.NativeInterpreter, frame::Core.Compiler.InferenceState) at abstractinterpretation.jl:1918\" role=\"graphics-symbol\" aria-roledescription=\"rect mark\" d=\"M1.3714285714285714,277.75h0.4342857142857144v2.25h-0.4342857142857144Z\" fill=\"#4c78a8\" fill-opacity=\"1\" stroke=\"#505050\" stroke-width=\"0\"/><path aria-label=\"x1: 6; x2: 7.9; level: 49; level2: 49.9; status: Default; sf: abstract_eval_statement(interp::Core.Compiler.NativeInterpreter, e::Any, vtypes::Vector{Any}, sv::Core.Compiler.InferenceState) at abstractinterpretation.jl:1534\" role=\"graphics-symbol\" aria-roledescription=\"rect mark\" d=\"M1.3714285714285714,275.25h0.4342857142857144v2.25h-0.4342857142857144Z\" fill=\"#4c78a8\" fill-opacity=\"1\" stroke=\"#505050\" stroke-width=\"0\"/><path aria-label=\"x1: 6; x2: 7.9; level: 50; level2: 50.9; status: Default; sf: abstract_call(interp::Core.Compiler.NativeInterpreter, fargs::Vector{Any}, argtypes::Vector{Any}, sv::Core.Compiler.InferenceState) at abstractinterpretation.jl:1382\" role=\"graphics-symbol\" aria-roledescription=\"rect mark\" d=\"M1.3714285714285714,272.75h0.4342857142857144v2.25h-0.4342857142857144Z\" fill=\"#4c78a8\" fill-opacity=\"1\" stroke=\"#505050\" stroke-width=\"0\"/><path aria-label=\"x1: 6; x2: 7.9; level: 51; level2: 51.9; status: Default; sf: abstract_call(interp::Core.Compiler.NativeInterpreter, fargs::Vector{Any}, argtypes::Vector{Any}, sv::Core.Compiler.InferenceState, max_methods::Int64) at abstractinterpretation.jl:1397\" role=\"graphics-symbol\" aria-roledescription=\"rect mark\" d=\"M1.3714285714285714,270.25h0.4342857142857144v2.25h-0.4342857142857144Z\" fill=\"#4c78a8\" fill-opacity=\"1\" stroke=\"#505050\" stroke-width=\"0\"/><path aria-label=\"x1: 6; x2: 7.9; level: 52; level2: 52.9; status: Default; sf: abstract_call_known(interp::Core.Compiler.NativeInterpreter, f::Any, fargs::Vector{Any}, argtypes::Vector{Any}, sv::Core.Compiler.InferenceState, max_methods::Int64) at abstractinterpretation.jl:1342\" role=\"graphics-symbol\" aria-roledescription=\"rect mark\" d=\"M1.3714285714285714,267.75h0.4342857142857144v2.25h-0.4342857142857144Z\" fill=\"#4c78a8\" fill-opacity=\"1\" stroke=\"#505050\" stroke-width=\"0\"/><path aria-label=\"x1: 6; x2: 7.9; level: 53; level2: 53.9; status: Default; sf: abstract_call_gf_by_type(interp::Core.Compiler.NativeInterpreter, f::Any, fargs::Vector{Any}, argtypes::Vector{Any}, atype::Any, sv::Core.Compiler.InferenceState, max_methods::Int64) at abstractinterpretation.jl:113\" role=\"graphics-symbol\" aria-roledescription=\"rect mark\" d=\"M1.3714285714285714,265.25h0.4342857142857144v2.25h-0.4342857142857144Z\" fill=\"#4c78a8\" fill-opacity=\"1\" stroke=\"#505050\" stroke-width=\"0\"/><path aria-label=\"x1: 6; x2: 7.9; level: 54; level2: 54.9; status: Default; sf: abstract_call_method_with_const_args(interp::Core.Compiler.NativeInterpreter, result::Core.Compiler.MethodCallResult, f::Any, argtypes::Vector{Any}, match::Core.MethodMatch, sv::Core.Compiler.InferenceState, va_override::Bool) at abstractinterpretation.jl:557\" role=\"graphics-symbol\" aria-roledescription=\"rect mark\" d=\"M1.3714285714285714,262.75h0.4342857142857144v2.25h-0.4342857142857144Z\" fill=\"#4c78a8\" fill-opacity=\"1\" stroke=\"#505050\" stroke-width=\"0\"/><path aria-label=\"x1: 6; x2: 7.9; level: 55; level2: 55.9; status: Default; sf: typeinf(interp::Core.Compiler.NativeInterpreter, frame::Core.Compiler.InferenceState) at typeinfer.jl:209\" role=\"graphics-symbol\" aria-roledescription=\"rect mark\" d=\"M1.3714285714285714,260.25h0.4342857142857144v2.25h-0.4342857142857144Z\" fill=\"#4c78a8\" fill-opacity=\"1\" stroke=\"#505050\" stroke-width=\"0\"/><path aria-label=\"x1: 6; x2: 7.9; level: 56; level2: 56.9; status: Default; sf: _typeinf(interp::Core.Compiler.NativeInterpreter, frame::Core.Compiler.InferenceState) at typeinfer.jl:226\" role=\"graphics-symbol\" aria-roledescription=\"rect mark\" d=\"M1.3714285714285714,257.75h0.4342857142857144v2.25h-0.4342857142857144Z\" fill=\"#4c78a8\" fill-opacity=\"1\" stroke=\"#505050\" stroke-width=\"0\"/><path aria-label=\"x1: 6; x2: 7.9; level: 57; level2: 57.9; status: Default; sf: typeinf_nocycle(interp::Core.Compiler.NativeInterpreter, frame::Core.Compiler.InferenceState) at abstractinterpretation.jl:2014\" role=\"graphics-symbol\" aria-roledescription=\"rect mark\" d=\"M1.3714285714285714,255.25000000000003h0.4342857142857144v2.2499999999999716h-0.4342857142857144Z\" fill=\"#4c78a8\" fill-opacity=\"1\" stroke=\"#505050\" stroke-width=\"0\"/><path aria-label=\"x1: 6; x2: 7.9; level: 58; level2: 58.9; status: Default; sf: typeinf_local(interp::Core.Compiler.NativeInterpreter, frame::Core.Compiler.InferenceState) at abstractinterpretation.jl:1918\" role=\"graphics-symbol\" aria-roledescription=\"rect mark\" d=\"M1.3714285714285714,252.75h0.4342857142857144v2.2499999999999716h-0.4342857142857144Z\" fill=\"#4c78a8\" fill-opacity=\"1\" stroke=\"#505050\" stroke-width=\"0\"/><path aria-label=\"x1: 6; x2: 7.9; level: 59; level2: 59.9; status: Default; sf: abstract_eval_statement(interp::Core.Compiler.NativeInterpreter, e::Any, vtypes::Vector{Any}, sv::Core.Compiler.InferenceState) at abstractinterpretation.jl:1534\" role=\"graphics-symbol\" aria-roledescription=\"rect mark\" d=\"M1.3714285714285714,250.25h0.4342857142857144v2.25h-0.4342857142857144Z\" fill=\"#4c78a8\" fill-opacity=\"1\" stroke=\"#505050\" stroke-width=\"0\"/><path aria-label=\"x1: 6; x2: 7.9; level: 60; level2: 60.9; status: Default; sf: abstract_call(interp::Core.Compiler.NativeInterpreter, fargs::Vector{Any}, argtypes::Vector{Any}, sv::Core.Compiler.InferenceState) at abstractinterpretation.jl:1382\" role=\"graphics-symbol\" aria-roledescription=\"rect mark\" d=\"M1.3714285714285714,247.75h0.4342857142857144v2.25h-0.4342857142857144Z\" fill=\"#4c78a8\" fill-opacity=\"1\" stroke=\"#505050\" stroke-width=\"0\"/><path aria-label=\"x1: 6; x2: 7.9; level: 61; level2: 61.9; status: Default; sf: abstract_call(interp::Core.Compiler.NativeInterpreter, fargs::Vector{Any}, argtypes::Vector{Any}, sv::Core.Compiler.InferenceState, max_methods::Int64) at abstractinterpretation.jl:1397\" role=\"graphics-symbol\" aria-roledescription=\"rect mark\" d=\"M1.3714285714285714,245.25h0.4342857142857144v2.25h-0.4342857142857144Z\" fill=\"#4c78a8\" fill-opacity=\"1\" stroke=\"#505050\" stroke-width=\"0\"/><path aria-label=\"x1: 6; x2: 7.9; level: 62; level2: 62.9; status: Default; sf: abstract_call_known(interp::Core.Compiler.NativeInterpreter, f::Any, fargs::Vector{Any}, argtypes::Vector{Any}, sv::Core.Compiler.InferenceState, max_methods::Int64) at abstractinterpretation.jl:1342\" role=\"graphics-symbol\" aria-roledescription=\"rect mark\" d=\"M1.3714285714285714,242.75000000000003h0.4342857142857144v2.25h-0.4342857142857144Z\" fill=\"#4c78a8\" fill-opacity=\"1\" stroke=\"#505050\" stroke-width=\"0\"/><path aria-label=\"x1: 6; x2: 7.9; level: 63; level2: 63.9; status: Default; sf: abstract_call_gf_by_type(interp::Core.Compiler.NativeInterpreter, f::Any, fargs::Vector{Any}, argtypes::Vector{Any}, atype::Any, sv::Core.Compiler.InferenceState, max_methods::Int64) at abstractinterpretation.jl:113\" role=\"graphics-symbol\" aria-roledescription=\"rect mark\" d=\"M1.3714285714285714,240.25h0.4342857142857144v2.2499999999999716h-0.4342857142857144Z\" fill=\"#4c78a8\" fill-opacity=\"1\" stroke=\"#505050\" stroke-width=\"0\"/><path aria-label=\"x1: 6; x2: 7.9; level: 64; level2: 64.9; status: Default; sf: abstract_call_method_with_const_args(interp::Core.Compiler.NativeInterpreter, result::Core.Compiler.MethodCallResult, f::Any, argtypes::Vector{Any}, match::Core.MethodMatch, sv::Core.Compiler.InferenceState, va_override::Bool) at abstractinterpretation.jl:557\" role=\"graphics-symbol\" aria-roledescription=\"rect mark\" d=\"M1.3714285714285714,237.75h0.4342857142857144v2.25h-0.4342857142857144Z\" fill=\"#4c78a8\" fill-opacity=\"1\" stroke=\"#505050\" stroke-width=\"0\"/><path aria-label=\"x1: 6; x2: 7.9; level: 65; level2: 65.9; status: Default; sf: typeinf(interp::Core.Compiler.NativeInterpreter, frame::Core.Compiler.InferenceState) at typeinfer.jl:209\" role=\"graphics-symbol\" aria-roledescription=\"rect mark\" d=\"M1.3714285714285714,235.25h0.4342857142857144v2.25h-0.4342857142857144Z\" fill=\"#4c78a8\" fill-opacity=\"1\" stroke=\"#505050\" stroke-width=\"0\"/><path aria-label=\"x1: 6; x2: 6.9; level: 66; level2: 66.9; status: Default; sf: _typeinf(interp::Core.Compiler.NativeInterpreter, frame::Core.Compiler.InferenceState) at typeinfer.jl:226\" role=\"graphics-symbol\" aria-roledescription=\"rect mark\" d=\"M1.3714285714285714,232.74999999999997h0.20571428571428574v2.2500000000000284h-0.20571428571428574Z\" fill=\"#4c78a8\" fill-opacity=\"1\" stroke=\"#505050\" stroke-width=\"0\"/><path aria-label=\"x1: 6; x2: 6.9; level: 67; level2: 67.9; status: Default; sf: typeinf_nocycle(interp::Core.Compiler.NativeInterpreter, frame::Core.Compiler.InferenceState) at abstractinterpretation.jl:2014\" role=\"graphics-symbol\" aria-roledescription=\"rect mark\" d=\"M1.3714285714285714,230.24999999999997h0.20571428571428574v2.250000000000057h-0.20571428571428574Z\" fill=\"#4c78a8\" fill-opacity=\"1\" stroke=\"#505050\" stroke-width=\"0\"/><path aria-label=\"x1: 6; x2: 6.9; level: 68; level2: 68.9; status: Default; sf: typeinf_local(interp::Core.Compiler.NativeInterpreter, frame::Core.Compiler.InferenceState) at abstractinterpretation.jl:1918\" role=\"graphics-symbol\" aria-roledescription=\"rect mark\" d=\"M1.3714285714285714,227.75h0.20571428571428574v2.2499999999999716h-0.20571428571428574Z\" fill=\"#4c78a8\" fill-opacity=\"1\" stroke=\"#505050\" stroke-width=\"0\"/><path aria-label=\"x1: 6; x2: 6.9; level: 69; level2: 69.9; status: Default; sf: abstract_eval_statement(interp::Core.Compiler.NativeInterpreter, e::Any, vtypes::Vector{Any}, sv::Core.Compiler.InferenceState) at abstractinterpretation.jl:1534\" role=\"graphics-symbol\" aria-roledescription=\"rect mark\" d=\"M1.3714285714285714,225.25h0.20571428571428574v2.25h-0.20571428571428574Z\" fill=\"#4c78a8\" fill-opacity=\"1\" stroke=\"#505050\" stroke-width=\"0\"/><path aria-label=\"x1: 6; x2: 6.9; level: 70; level2: 70.9; status: Default; sf: abstract_call(interp::Core.Compiler.NativeInterpreter, fargs::Vector{Any}, argtypes::Vector{Any}, sv::Core.Compiler.InferenceState) at abstractinterpretation.jl:1382\" role=\"graphics-symbol\" aria-roledescription=\"rect mark\" d=\"M1.3714285714285714,222.75h0.20571428571428574v2.25h-0.20571428571428574Z\" fill=\"#4c78a8\" fill-opacity=\"1\" stroke=\"#505050\" stroke-width=\"0\"/><path aria-label=\"x1: 6; x2: 6.9; level: 71; level2: 71.9; status: Default; sf: abstract_call(interp::Core.Compiler.NativeInterpreter, fargs::Vector{Any}, argtypes::Vector{Any}, sv::Core.Compiler.InferenceState, max_methods::Int64) at abstractinterpretation.jl:1397\" role=\"graphics-symbol\" aria-roledescription=\"rect mark\" d=\"M1.3714285714285714,220.24999999999997h0.20571428571428574v2.2500000000000284h-0.20571428571428574Z\" fill=\"#4c78a8\" fill-opacity=\"1\" stroke=\"#505050\" stroke-width=\"0\"/><path aria-label=\"x1: 6; x2: 6.9; level: 72; level2: 72.9; status: Default; sf: abstract_call_known(interp::Core.Compiler.NativeInterpreter, f::Any, fargs::Vector{Any}, argtypes::Vector{Any}, sv::Core.Compiler.InferenceState, max_methods::Int64) at abstractinterpretation.jl:1342\" role=\"graphics-symbol\" aria-roledescription=\"rect mark\" d=\"M1.3714285714285714,217.74999999999997h0.20571428571428574v2.250000000000057h-0.20571428571428574Z\" fill=\"#4c78a8\" fill-opacity=\"1\" stroke=\"#505050\" stroke-width=\"0\"/><path aria-label=\"x1: 6; x2: 6.9; level: 73; level2: 73.9; status: Default; sf: abstract_call_gf_by_type(interp::Core.Compiler.NativeInterpreter, f::Any, fargs::Vector{Any}, argtypes::Vector{Any}, atype::Any, sv::Core.Compiler.InferenceState, max_methods::Int64) at abstractinterpretation.jl:113\" role=\"graphics-symbol\" aria-roledescription=\"rect mark\" d=\"M1.3714285714285714,215.25h0.20571428571428574v2.2499999999999716h-0.20571428571428574Z\" fill=\"#4c78a8\" fill-opacity=\"1\" stroke=\"#505050\" stroke-width=\"0\"/><path aria-label=\"x1: 6; x2: 6.9; level: 74; level2: 74.9; status: Default; sf: abstract_call_method_with_const_args(interp::Core.Compiler.NativeInterpreter, result::Core.Compiler.MethodCallResult, f::Any, argtypes::Vector{Any}, match::Core.MethodMatch, sv::Core.Compiler.InferenceState, va_override::Bool) at abstractinterpretation.jl:557\" role=\"graphics-symbol\" aria-roledescription=\"rect mark\" d=\"M1.3714285714285714,212.75h0.20571428571428574v2.25h-0.20571428571428574Z\" fill=\"#4c78a8\" fill-opacity=\"1\" stroke=\"#505050\" stroke-width=\"0\"/><path aria-label=\"x1: 6; x2: 6.9; level: 75; level2: 75.9; status: Default; sf: typeinf(interp::Core.Compiler.NativeInterpreter, frame::Core.Compiler.InferenceState) at typeinfer.jl:209\" role=\"graphics-symbol\" aria-roledescription=\"rect mark\" d=\"M1.3714285714285714,210.25h0.20571428571428574v2.25h-0.20571428571428574Z\" fill=\"#4c78a8\" fill-opacity=\"1\" stroke=\"#505050\" stroke-width=\"0\"/><path aria-label=\"x1: 6; x2: 6.9; level: 76; level2: 76.9; status: Default; sf: _typeinf(interp::Core.Compiler.NativeInterpreter, frame::Core.Compiler.InferenceState) at typeinfer.jl:226\" role=\"graphics-symbol\" aria-roledescription=\"rect mark\" d=\"M1.3714285714285714,207.74999999999997h0.20571428571428574v2.2500000000000284h-0.20571428571428574Z\" fill=\"#4c78a8\" fill-opacity=\"1\" stroke=\"#505050\" stroke-width=\"0\"/><path aria-label=\"x1: 6; x2: 6.9; level: 77; level2: 77.9; status: Default; sf: typeinf_nocycle(interp::Core.Compiler.NativeInterpreter, frame::Core.Compiler.InferenceState) at abstractinterpretation.jl:2014\" role=\"graphics-symbol\" aria-roledescription=\"rect mark\" d=\"M1.3714285714285714,205.24999999999997h0.20571428571428574v2.250000000000057h-0.20571428571428574Z\" fill=\"#4c78a8\" fill-opacity=\"1\" stroke=\"#505050\" stroke-width=\"0\"/><path aria-label=\"x1: 6; x2: 6.9; level: 78; level2: 78.9; status: Default; sf: typeinf_local(interp::Core.Compiler.NativeInterpreter, frame::Core.Compiler.InferenceState) at abstractinterpretation.jl:1918\" role=\"graphics-symbol\" aria-roledescription=\"rect mark\" d=\"M1.3714285714285714,202.75h0.20571428571428574v2.2499999999999716h-0.20571428571428574Z\" fill=\"#4c78a8\" fill-opacity=\"1\" stroke=\"#505050\" stroke-width=\"0\"/><path aria-label=\"x1: 6; x2: 6.9; level: 79; level2: 79.9; status: Default; sf: abstract_eval_statement(interp::Core.Compiler.NativeInterpreter, e::Any, vtypes::Vector{Any}, sv::Core.Compiler.InferenceState) at abstractinterpretation.jl:1534\" role=\"graphics-symbol\" aria-roledescription=\"rect mark\" d=\"M1.3714285714285714,200.25h0.20571428571428574v2.25h-0.20571428571428574Z\" fill=\"#4c78a8\" fill-opacity=\"1\" stroke=\"#505050\" stroke-width=\"0\"/><path aria-label=\"x1: 6; x2: 6.9; level: 80; level2: 80.9; status: Default; sf: abstract_call(interp::Core.Compiler.NativeInterpreter, fargs::Vector{Any}, argtypes::Vector{Any}, sv::Core.Compiler.InferenceState) at abstractinterpretation.jl:1382\" role=\"graphics-symbol\" aria-roledescription=\"rect mark\" d=\"M1.3714285714285714,197.75h0.20571428571428574v2.25h-0.20571428571428574Z\" fill=\"#4c78a8\" fill-opacity=\"1\" stroke=\"#505050\" stroke-width=\"0\"/><path aria-label=\"x1: 6; x2: 6.9; level: 81; level2: 81.9; status: Default; sf: abstract_call(interp::Core.Compiler.NativeInterpreter, fargs::Vector{Any}, argtypes::Vector{Any}, sv::Core.Compiler.InferenceState, max_methods::Int64) at abstractinterpretation.jl:1397\" role=\"graphics-symbol\" aria-roledescription=\"rect mark\" d=\"M1.3714285714285714,195.24999999999997h0.20571428571428574v2.2500000000000284h-0.20571428571428574Z\" fill=\"#4c78a8\" fill-opacity=\"1\" stroke=\"#505050\" stroke-width=\"0\"/><path aria-label=\"x1: 6; x2: 6.9; level: 82; level2: 82.9; status: Default; sf: abstract_call_known(interp::Core.Compiler.NativeInterpreter, f::Any, fargs::Vector{Any}, argtypes::Vector{Any}, sv::Core.Compiler.InferenceState, max_methods::Int64) at abstractinterpretation.jl:1249\" role=\"graphics-symbol\" aria-roledescription=\"rect mark\" d=\"M1.3714285714285714,192.74999999999997h0.20571428571428574v2.250000000000057h-0.20571428571428574Z\" fill=\"#4c78a8\" fill-opacity=\"1\" stroke=\"#505050\" stroke-width=\"0\"/><path aria-label=\"x1: 6; x2: 6.9; level: 83; level2: 83.9; status: Default; sf: abstract_apply(interp::Core.Compiler.NativeInterpreter, argtypes::Vector{Any}, sv::Core.Compiler.InferenceState, max_methods::Int64) at abstractinterpretation.jl:967\" role=\"graphics-symbol\" aria-roledescription=\"rect mark\" d=\"M1.3714285714285714,190.25h0.20571428571428574v2.2499999999999716h-0.20571428571428574Z\" fill=\"#4c78a8\" fill-opacity=\"1\" stroke=\"#505050\" stroke-width=\"0\"/><path aria-label=\"x1: 6; x2: 6.9; level: 84; level2: 84.9; status: Default; sf: push! at array.jl:995 [inlined]\" role=\"graphics-symbol\" aria-roledescription=\"rect mark\" d=\"M1.3714285714285714,187.75h0.20571428571428574v2.25h-0.20571428571428574Z\" fill=\"#4c78a8\" fill-opacity=\"1\" stroke=\"#505050\" stroke-width=\"0\"/><path aria-label=\"x1: 6; x2: 6.9; level: 85; level2: 85.9; status: Garbage collection; sf: _growend! at array.jl:948 [inlined]\" role=\"graphics-symbol\" aria-roledescription=\"rect mark\" d=\"M1.3714285714285714,185.25h0.20571428571428574v2.25h-0.20571428571428574Z\" fill=\"#f58518\" fill-opacity=\"1\" stroke=\"#505050\" stroke-width=\"0\"/><path aria-label=\"x1: 7; x2: 7.9; level: 66; level2: 66.9; status: Default; sf: _typeinf(interp::Core.Compiler.NativeInterpreter, frame::Core.Compiler.InferenceState) at typeinfer.jl:255\" role=\"graphics-symbol\" aria-roledescription=\"rect mark\" d=\"M1.6,232.74999999999997h0.20571428571428574v2.2500000000000284h-0.20571428571428574Z\" fill=\"#4c78a8\" fill-opacity=\"1\" stroke=\"#505050\" stroke-width=\"0\"/><path aria-label=\"x1: 7; x2: 7.9; level: 67; level2: 67.9; status: Default; sf: optimize at optimize.jl:296 [inlined]\" role=\"graphics-symbol\" aria-roledescription=\"rect mark\" d=\"M1.6,230.24999999999997h0.20571428571428574v2.250000000000057h-0.20571428571428574Z\" fill=\"#4c78a8\" fill-opacity=\"1\" stroke=\"#505050\" stroke-width=\"0\"/><path aria-label=\"x1: 7; x2: 7.9; level: 68; level2: 68.9; status: Runtime dispatch; sf: run_passes(ci::Core.CodeInfo, nargs::Int64, sv::Core.Compiler.OptimizationState) at optimize.jl:307\" role=\"graphics-symbol\" aria-roledescription=\"rect mark\" d=\"M1.6,227.75h0.20571428571428574v2.2499999999999716h-0.20571428571428574Z\" fill=\"#e45756\" fill-opacity=\"1\" stroke=\"#505050\" stroke-width=\"0\"/><path aria-label=\"x1: 7; x2: 7.9; level: 69; level2: 69.9; status: Default; sf: ssa_inlining_pass!(ir::Core.Compiler.IRCode, linetable::Vector{Core.LineInfoNode}, state::Core.Compiler.InliningState{Core.Compiler.EdgeTracker, Core.Compiler.WorldView{Core.Compiler.InternalCodeCache}, typeof(Core.Compiler.default_inlining_policy)}, propagate_inbounds::Bool) at inlining.jl:80\" role=\"graphics-symbol\" aria-roledescription=\"rect mark\" d=\"M1.6,225.25h0.20571428571428574v2.25h-0.20571428571428574Z\" fill=\"#4c78a8\" fill-opacity=\"1\" stroke=\"#505050\" stroke-width=\"0\"/><path aria-label=\"x1: 7; x2: 7.9; level: 70; level2: 70.9; status: Default; sf: assemble_inline_todo!(ir::Core.Compiler.IRCode, state::Core.Compiler.InliningState{Core.Compiler.EdgeTracker, Core.Compiler.WorldView{Core.Compiler.InternalCodeCache}, typeof(Core.Compiler.default_inlining_policy)}) at inlining.jl:1358\" role=\"graphics-symbol\" aria-roledescription=\"rect mark\" d=\"M1.6,222.75h0.20571428571428574v2.25h-0.20571428571428574Z\" fill=\"#4c78a8\" fill-opacity=\"1\" stroke=\"#505050\" stroke-width=\"0\"/><path aria-label=\"x1: 7; x2: 7.9; level: 71; level2: 71.9; status: Default; sf: process_simple!(ir::Core.Compiler.IRCode, todo::Vector{Pair{Int64, Any}}, idx::Int64, state::Core.Compiler.InliningState{Core.Compiler.EdgeTracker, Core.Compiler.WorldView{Core.Compiler.InternalCodeCache}, typeof(Core.Compiler.default_inlining_policy)}) at inlining.jl:1155\" role=\"graphics-symbol\" aria-roledescription=\"rect mark\" d=\"M1.6,220.24999999999997h0.20571428571428574v2.2500000000000284h-0.20571428571428574Z\" fill=\"#4c78a8\" fill-opacity=\"1\" stroke=\"#505050\" stroke-width=\"0\"/><path aria-label=\"x1: 7; x2: 7.9; level: 72; level2: 72.9; status: Default; sf: call_sig(ir::Core.Compiler.IRCode, stmt::Expr) at inlining.jl:984\" role=\"graphics-symbol\" aria-roledescription=\"rect mark\" d=\"M1.6,217.74999999999997h0.20571428571428574v2.250000000000057h-0.20571428571428574Z\" fill=\"#4c78a8\" fill-opacity=\"1\" stroke=\"#505050\" stroke-width=\"0\"/><path aria-label=\"x1: 7; x2: 7.9; level: 73; level2: 73.9; status: Default; sf: Array at boot.jl:457 [inlined]\" role=\"graphics-symbol\" aria-roledescription=\"rect mark\" d=\"M1.6,215.25h0.20571428571428574v2.2499999999999716h-0.20571428571428574Z\" fill=\"#4c78a8\" fill-opacity=\"1\" stroke=\"#505050\" stroke-width=\"0\"/><path aria-label=\"x1: 8; x2: 8.9; level: 46; level2: 46.9; status: Default; sf: _typeinf(interp::Core.Compiler.NativeInterpreter, frame::Core.Compiler.InferenceState) at typeinfer.jl:255\" role=\"graphics-symbol\" aria-roledescription=\"rect mark\" d=\"M1.8285714285714287,282.75h0.20571428571428596v2.25h-0.20571428571428596Z\" fill=\"#4c78a8\" fill-opacity=\"1\" stroke=\"#505050\" stroke-width=\"0\"/><path aria-label=\"x1: 8; x2: 8.9; level: 47; level2: 47.9; status: Default; sf: optimize at optimize.jl:296 [inlined]\" role=\"graphics-symbol\" aria-roledescription=\"rect mark\" d=\"M1.8285714285714287,280.25h0.20571428571428596v2.25h-0.20571428571428596Z\" fill=\"#4c78a8\" fill-opacity=\"1\" stroke=\"#505050\" stroke-width=\"0\"/><path aria-label=\"x1: 8; x2: 8.9; level: 48; level2: 48.9; status: Default; sf: run_passes(ci::Core.CodeInfo, nargs::Int64, sv::Core.Compiler.OptimizationState) at optimize.jl:302\" role=\"graphics-symbol\" aria-roledescription=\"rect mark\" d=\"M1.8285714285714287,277.75h0.20571428571428596v2.25h-0.20571428571428596Z\" fill=\"#4c78a8\" fill-opacity=\"1\" stroke=\"#505050\" stroke-width=\"0\"/><path aria-label=\"x1: 8; x2: 8.9; level: 49; level2: 49.9; status: Default; sf: copy_exprargs(x::Vector{Any}) at expr.jl:64\" role=\"graphics-symbol\" aria-roledescription=\"rect mark\" d=\"M1.8285714285714287,275.25h0.20571428571428596v2.25h-0.20571428571428596Z\" fill=\"#4c78a8\" fill-opacity=\"1\" stroke=\"#505050\" stroke-width=\"0\"/><path aria-label=\"x1: 8; x2: 8.9; level: 50; level2: 50.9; status: Default; sf: copy_exprs(x::Any) at expr.jl:42\" role=\"graphics-symbol\" aria-roledescription=\"rect mark\" d=\"M1.8285714285714287,272.75h0.20571428571428596v2.25h-0.20571428571428596Z\" fill=\"#4c78a8\" fill-opacity=\"1\" stroke=\"#505050\" stroke-width=\"0\"/><path aria-label=\"x1: 8; x2: 8.9; level: 51; level2: 51.9; status: Default; sf: copy(e::Expr) at expr.jl:37\" role=\"graphics-symbol\" aria-roledescription=\"rect mark\" d=\"M1.8285714285714287,270.25h0.20571428571428596v2.25h-0.20571428571428596Z\" fill=\"#4c78a8\" fill-opacity=\"1\" stroke=\"#505050\" stroke-width=\"0\"/><path aria-label=\"x1: 8; x2: 8.9; level: 52; level2: 52.9; status: Default; sf: copy_exprargs(x::Vector{Any}) at expr.jl:64\" role=\"graphics-symbol\" aria-roledescription=\"rect mark\" d=\"M1.8285714285714287,267.75h0.20571428571428596v2.25h-0.20571428571428596Z\" fill=\"#4c78a8\" fill-opacity=\"1\" stroke=\"#505050\" stroke-width=\"0\"/><path aria-label=\"x1: 8; x2: 8.9; level: 53; level2: 53.9; status: Default; sf: _array_for at array.jl:616 [inlined]\" role=\"graphics-symbol\" aria-roledescription=\"rect mark\" d=\"M1.8285714285714287,265.25h0.20571428571428596v2.25h-0.20571428571428596Z\" fill=\"#4c78a8\" fill-opacity=\"1\" stroke=\"#505050\" stroke-width=\"0\"/><path aria-label=\"x1: 8; x2: 8.9; level: 54; level2: 54.9; status: Default; sf: _array_for at array.jl:613 [inlined]\" role=\"graphics-symbol\" aria-roledescription=\"rect mark\" d=\"M1.8285714285714287,262.75h0.20571428571428596v2.25h-0.20571428571428596Z\" fill=\"#4c78a8\" fill-opacity=\"1\" stroke=\"#505050\" stroke-width=\"0\"/><path aria-label=\"x1: 8; x2: 8.9; level: 55; level2: 55.9; status: Default; sf: similar at abstractarray.jl:828 [inlined]\" role=\"graphics-symbol\" aria-roledescription=\"rect mark\" d=\"M1.8285714285714287,260.25h0.20571428571428596v2.25h-0.20571428571428596Z\" fill=\"#4c78a8\" fill-opacity=\"1\" stroke=\"#505050\" stroke-width=\"0\"/><path aria-label=\"x1: 8; x2: 8.9; level: 56; level2: 56.9; status: Default; sf: similar at abstractarray.jl:829 [inlined]\" role=\"graphics-symbol\" aria-roledescription=\"rect mark\" d=\"M1.8285714285714287,257.75h0.20571428571428596v2.25h-0.20571428571428596Z\" fill=\"#4c78a8\" fill-opacity=\"1\" stroke=\"#505050\" stroke-width=\"0\"/><path aria-label=\"x1: 8; x2: 8.9; level: 57; level2: 57.9; status: Default; sf: Array at boot.jl:466 [inlined]\" role=\"graphics-symbol\" aria-roledescription=\"rect mark\" d=\"M1.8285714285714287,255.25000000000003h0.20571428571428596v2.2499999999999716h-0.20571428571428596Z\" fill=\"#4c78a8\" fill-opacity=\"1\" stroke=\"#505050\" stroke-width=\"0\"/><path aria-label=\"x1: 8; x2: 8.9; level: 58; level2: 58.9; status: Garbage collection; sf: Array at boot.jl:457 [inlined]\" role=\"graphics-symbol\" aria-roledescription=\"rect mark\" d=\"M1.8285714285714287,252.75h0.20571428571428596v2.2499999999999716h-0.20571428571428596Z\" fill=\"#f58518\" fill-opacity=\"1\" stroke=\"#505050\" stroke-width=\"0\"/><path aria-label=\"x1: 9; x2: 10.9; level: 38; level2: 38.9; status: Default; sf: typeinf_local(interp::Core.Compiler.NativeInterpreter, frame::Core.Compiler.InferenceState) at abstractinterpretation.jl:1918\" role=\"graphics-symbol\" aria-roledescription=\"rect mark\" d=\"M2.057142857142857,302.75h0.4342857142857146v2.25h-0.4342857142857146Z\" fill=\"#4c78a8\" fill-opacity=\"1\" stroke=\"#505050\" stroke-width=\"0\"/><path aria-label=\"x1: 9; x2: 10.9; level: 39; level2: 39.9; status: Default; sf: abstract_eval_statement(interp::Core.Compiler.NativeInterpreter, e::Any, vtypes::Vector{Any}, sv::Core.Compiler.InferenceState) at abstractinterpretation.jl:1534\" role=\"graphics-symbol\" aria-roledescription=\"rect mark\" d=\"M2.057142857142857,300.25h0.4342857142857146v2.25h-0.4342857142857146Z\" fill=\"#4c78a8\" fill-opacity=\"1\" stroke=\"#505050\" stroke-width=\"0\"/><path aria-label=\"x1: 9; x2: 10.9; level: 40; level2: 40.9; status: Default; sf: abstract_call(interp::Core.Compiler.NativeInterpreter, fargs::Vector{Any}, argtypes::Vector{Any}, sv::Core.Compiler.InferenceState) at abstractinterpretation.jl:1382\" role=\"graphics-symbol\" aria-roledescription=\"rect mark\" d=\"M2.057142857142857,297.75h0.4342857142857146v2.25h-0.4342857142857146Z\" fill=\"#4c78a8\" fill-opacity=\"1\" stroke=\"#505050\" stroke-width=\"0\"/><path aria-label=\"x1: 9; x2: 10.9; level: 41; level2: 41.9; status: Default; sf: abstract_call(interp::Core.Compiler.NativeInterpreter, fargs::Vector{Any}, argtypes::Vector{Any}, sv::Core.Compiler.InferenceState, max_methods::Int64) at abstractinterpretation.jl:1397\" role=\"graphics-symbol\" aria-roledescription=\"rect mark\" d=\"M2.057142857142857,295.25h0.4342857142857146v2.25h-0.4342857142857146Z\" fill=\"#4c78a8\" fill-opacity=\"1\" stroke=\"#505050\" stroke-width=\"0\"/><path aria-label=\"x1: 9; x2: 10.9; level: 42; level2: 42.9; status: Default; sf: abstract_call_known(interp::Core.Compiler.NativeInterpreter, f::Any, fargs::Vector{Any}, argtypes::Vector{Any}, sv::Core.Compiler.InferenceState, max_methods::Int64) at abstractinterpretation.jl:1342\" role=\"graphics-symbol\" aria-roledescription=\"rect mark\" d=\"M2.057142857142857,292.75h0.4342857142857146v2.25h-0.4342857142857146Z\" fill=\"#4c78a8\" fill-opacity=\"1\" stroke=\"#505050\" stroke-width=\"0\"/><path aria-label=\"x1: 9; x2: 9.9; level: 43; level2: 43.9; status: Default; sf: abstract_call_gf_by_type(interp::Core.Compiler.NativeInterpreter, f::Any, fargs::Vector{Any}, argtypes::Vector{Any}, atype::Any, sv::Core.Compiler.InferenceState, max_methods::Int64) at abstractinterpretation.jl:53\" role=\"graphics-symbol\" aria-roledescription=\"rect mark\" d=\"M2.057142857142857,290.25h0.20571428571428596v2.25h-0.20571428571428596Z\" fill=\"#4c78a8\" fill-opacity=\"1\" stroke=\"#505050\" stroke-width=\"0\"/><path aria-label=\"x1: 9; x2: 9.9; level: 44; level2: 44.9; status: Default; sf: getindex at array.jl:411 [inlined]\" role=\"graphics-symbol\" aria-roledescription=\"rect mark\" d=\"M2.057142857142857,287.75h0.20571428571428596v2.25h-0.20571428571428596Z\" fill=\"#4c78a8\" fill-opacity=\"1\" stroke=\"#505050\" stroke-width=\"0\"/><path aria-label=\"x1: 9; x2: 9.9; level: 45; level2: 45.9; status: Default; sf: Array at boot.jl:476 [inlined]\" role=\"graphics-symbol\" aria-roledescription=\"rect mark\" d=\"M2.057142857142857,285.25h0.20571428571428596v2.25h-0.20571428571428596Z\" fill=\"#4c78a8\" fill-opacity=\"1\" stroke=\"#505050\" stroke-width=\"0\"/><path aria-label=\"x1: 9; x2: 9.9; level: 46; level2: 46.9; status: Default; sf: Array at boot.jl:457 [inlined]\" role=\"graphics-symbol\" aria-roledescription=\"rect mark\" d=\"M2.057142857142857,282.75h0.20571428571428596v2.25h-0.20571428571428596Z\" fill=\"#4c78a8\" fill-opacity=\"1\" stroke=\"#505050\" stroke-width=\"0\"/><path aria-label=\"x1: 10; x2: 10.9; level: 43; level2: 43.9; status: Default; sf: abstract_call_gf_by_type(interp::Core.Compiler.NativeInterpreter, f::Any, fargs::Vector{Any}, argtypes::Vector{Any}, atype::Any, sv::Core.Compiler.InferenceState, max_methods::Int64) at abstractinterpretation.jl:113\" role=\"graphics-symbol\" aria-roledescription=\"rect mark\" d=\"M2.2857142857142856,290.25h0.20571428571428596v2.25h-0.20571428571428596Z\" fill=\"#4c78a8\" fill-opacity=\"1\" stroke=\"#505050\" stroke-width=\"0\"/><path aria-label=\"x1: 10; x2: 10.9; level: 44; level2: 44.9; status: Default; sf: abstract_call_method_with_const_args(interp::Core.Compiler.NativeInterpreter, result::Core.Compiler.MethodCallResult, f::Any, argtypes::Vector{Any}, match::Core.MethodMatch, sv::Core.Compiler.InferenceState, va_override::Bool) at abstractinterpretation.jl:557\" role=\"graphics-symbol\" aria-roledescription=\"rect mark\" d=\"M2.2857142857142856,287.75h0.20571428571428596v2.25h-0.20571428571428596Z\" fill=\"#4c78a8\" fill-opacity=\"1\" stroke=\"#505050\" stroke-width=\"0\"/><path aria-label=\"x1: 10; x2: 10.9; level: 45; level2: 45.9; status: Default; sf: typeinf(interp::Core.Compiler.NativeInterpreter, frame::Core.Compiler.InferenceState) at typeinfer.jl:209\" role=\"graphics-symbol\" aria-roledescription=\"rect mark\" d=\"M2.2857142857142856,285.25h0.20571428571428596v2.25h-0.20571428571428596Z\" fill=\"#4c78a8\" fill-opacity=\"1\" stroke=\"#505050\" stroke-width=\"0\"/><path aria-label=\"x1: 10; x2: 10.9; level: 46; level2: 46.9; status: Default; sf: _typeinf(interp::Core.Compiler.NativeInterpreter, frame::Core.Compiler.InferenceState) at typeinfer.jl:226\" role=\"graphics-symbol\" aria-roledescription=\"rect mark\" d=\"M2.2857142857142856,282.75h0.20571428571428596v2.25h-0.20571428571428596Z\" fill=\"#4c78a8\" fill-opacity=\"1\" stroke=\"#505050\" stroke-width=\"0\"/><path aria-label=\"x1: 10; x2: 10.9; level: 47; level2: 47.9; status: Default; sf: typeinf_nocycle(interp::Core.Compiler.NativeInterpreter, frame::Core.Compiler.InferenceState) at abstractinterpretation.jl:2014\" role=\"graphics-symbol\" aria-roledescription=\"rect mark\" d=\"M2.2857142857142856,280.25h0.20571428571428596v2.25h-0.20571428571428596Z\" fill=\"#4c78a8\" fill-opacity=\"1\" stroke=\"#505050\" stroke-width=\"0\"/><path aria-label=\"x1: 10; x2: 10.9; level: 48; level2: 48.9; status: Default; sf: typeinf_local(interp::Core.Compiler.NativeInterpreter, frame::Core.Compiler.InferenceState) at abstractinterpretation.jl:1918\" role=\"graphics-symbol\" aria-roledescription=\"rect mark\" d=\"M2.2857142857142856,277.75h0.20571428571428596v2.25h-0.20571428571428596Z\" fill=\"#4c78a8\" fill-opacity=\"1\" stroke=\"#505050\" stroke-width=\"0\"/><path aria-label=\"x1: 10; x2: 10.9; level: 49; level2: 49.9; status: Default; sf: abstract_eval_statement(interp::Core.Compiler.NativeInterpreter, e::Any, vtypes::Vector{Any}, sv::Core.Compiler.InferenceState) at abstractinterpretation.jl:1534\" role=\"graphics-symbol\" aria-roledescription=\"rect mark\" d=\"M2.2857142857142856,275.25h0.20571428571428596v2.25h-0.20571428571428596Z\" fill=\"#4c78a8\" fill-opacity=\"1\" stroke=\"#505050\" stroke-width=\"0\"/><path aria-label=\"x1: 10; x2: 10.9; level: 50; level2: 50.9; status: Default; sf: abstract_call(interp::Core.Compiler.NativeInterpreter, fargs::Vector{Any}, argtypes::Vector{Any}, sv::Core.Compiler.InferenceState) at abstractinterpretation.jl:1382\" role=\"graphics-symbol\" aria-roledescription=\"rect mark\" d=\"M2.2857142857142856,272.75h0.20571428571428596v2.25h-0.20571428571428596Z\" fill=\"#4c78a8\" fill-opacity=\"1\" stroke=\"#505050\" stroke-width=\"0\"/><path aria-label=\"x1: 10; x2: 10.9; level: 51; level2: 51.9; status: Default; sf: abstract_call(interp::Core.Compiler.NativeInterpreter, fargs::Vector{Any}, argtypes::Vector{Any}, sv::Core.Compiler.InferenceState, max_methods::Int64) at abstractinterpretation.jl:1397\" role=\"graphics-symbol\" aria-roledescription=\"rect mark\" d=\"M2.2857142857142856,270.25h0.20571428571428596v2.25h-0.20571428571428596Z\" fill=\"#4c78a8\" fill-opacity=\"1\" stroke=\"#505050\" stroke-width=\"0\"/><path aria-label=\"x1: 10; x2: 10.9; level: 52; level2: 52.9; status: Default; sf: abstract_call_known(interp::Core.Compiler.NativeInterpreter, f::Any, fargs::Vector{Any}, argtypes::Vector{Any}, sv::Core.Compiler.InferenceState, max_methods::Int64) at abstractinterpretation.jl:1342\" role=\"graphics-symbol\" aria-roledescription=\"rect mark\" d=\"M2.2857142857142856,267.75h0.20571428571428596v2.25h-0.20571428571428596Z\" fill=\"#4c78a8\" fill-opacity=\"1\" stroke=\"#505050\" stroke-width=\"0\"/><path aria-label=\"x1: 10; x2: 10.9; level: 53; level2: 53.9; status: Default; sf: abstract_call_gf_by_type(interp::Core.Compiler.NativeInterpreter, f::Any, fargs::Vector{Any}, argtypes::Vector{Any}, atype::Any, sv::Core.Compiler.InferenceState, max_methods::Int64) at abstractinterpretation.jl:113\" role=\"graphics-symbol\" aria-roledescription=\"rect mark\" d=\"M2.2857142857142856,265.25h0.20571428571428596v2.25h-0.20571428571428596Z\" fill=\"#4c78a8\" fill-opacity=\"1\" stroke=\"#505050\" stroke-width=\"0\"/><path aria-label=\"x1: 10; x2: 10.9; level: 54; level2: 54.9; status: Default; sf: abstract_call_method_with_const_args(interp::Core.Compiler.NativeInterpreter, result::Core.Compiler.MethodCallResult, f::Any, argtypes::Vector{Any}, match::Core.MethodMatch, sv::Core.Compiler.InferenceState, va_override::Bool) at abstractinterpretation.jl:557\" role=\"graphics-symbol\" aria-roledescription=\"rect mark\" d=\"M2.2857142857142856,262.75h0.20571428571428596v2.25h-0.20571428571428596Z\" fill=\"#4c78a8\" fill-opacity=\"1\" stroke=\"#505050\" stroke-width=\"0\"/><path aria-label=\"x1: 10; x2: 10.9; level: 55; level2: 55.9; status: Default; sf: typeinf(interp::Core.Compiler.NativeInterpreter, frame::Core.Compiler.InferenceState) at typeinfer.jl:209\" role=\"graphics-symbol\" aria-roledescription=\"rect mark\" d=\"M2.2857142857142856,260.25h0.20571428571428596v2.25h-0.20571428571428596Z\" fill=\"#4c78a8\" fill-opacity=\"1\" stroke=\"#505050\" stroke-width=\"0\"/><path aria-label=\"x1: 10; x2: 10.9; level: 56; level2: 56.9; status: Default; sf: _typeinf(interp::Core.Compiler.NativeInterpreter, frame::Core.Compiler.InferenceState) at typeinfer.jl:226\" role=\"graphics-symbol\" aria-roledescription=\"rect mark\" d=\"M2.2857142857142856,257.75h0.20571428571428596v2.25h-0.20571428571428596Z\" fill=\"#4c78a8\" fill-opacity=\"1\" stroke=\"#505050\" stroke-width=\"0\"/><path aria-label=\"x1: 10; x2: 10.9; level: 57; level2: 57.9; status: Default; sf: typeinf_nocycle(interp::Core.Compiler.NativeInterpreter, frame::Core.Compiler.InferenceState) at abstractinterpretation.jl:2014\" role=\"graphics-symbol\" aria-roledescription=\"rect mark\" d=\"M2.2857142857142856,255.25000000000003h0.20571428571428596v2.2499999999999716h-0.20571428571428596Z\" fill=\"#4c78a8\" fill-opacity=\"1\" stroke=\"#505050\" stroke-width=\"0\"/><path aria-label=\"x1: 10; x2: 10.9; level: 58; level2: 58.9; status: Default; sf: typeinf_local(interp::Core.Compiler.NativeInterpreter, frame::Core.Compiler.InferenceState) at abstractinterpretation.jl:1918\" role=\"graphics-symbol\" aria-roledescription=\"rect mark\" d=\"M2.2857142857142856,252.75h0.20571428571428596v2.2499999999999716h-0.20571428571428596Z\" fill=\"#4c78a8\" fill-opacity=\"1\" stroke=\"#505050\" stroke-width=\"0\"/><path aria-label=\"x1: 10; x2: 10.9; level: 59; level2: 59.9; status: Default; sf: abstract_eval_statement(interp::Core.Compiler.NativeInterpreter, e::Any, vtypes::Vector{Any}, sv::Core.Compiler.InferenceState) at abstractinterpretation.jl:1534\" role=\"graphics-symbol\" aria-roledescription=\"rect mark\" d=\"M2.2857142857142856,250.25h0.20571428571428596v2.25h-0.20571428571428596Z\" fill=\"#4c78a8\" fill-opacity=\"1\" stroke=\"#505050\" stroke-width=\"0\"/><path aria-label=\"x1: 10; x2: 10.9; level: 60; level2: 60.9; status: Default; sf: abstract_call(interp::Core.Compiler.NativeInterpreter, fargs::Vector{Any}, argtypes::Vector{Any}, sv::Core.Compiler.InferenceState) at abstractinterpretation.jl:1382\" role=\"graphics-symbol\" aria-roledescription=\"rect mark\" d=\"M2.2857142857142856,247.75h0.20571428571428596v2.25h-0.20571428571428596Z\" fill=\"#4c78a8\" fill-opacity=\"1\" stroke=\"#505050\" stroke-width=\"0\"/><path aria-label=\"x1: 10; x2: 10.9; level: 61; level2: 61.9; status: Default; sf: abstract_call(interp::Core.Compiler.NativeInterpreter, fargs::Vector{Any}, argtypes::Vector{Any}, sv::Core.Compiler.InferenceState, max_methods::Int64) at abstractinterpretation.jl:1397\" role=\"graphics-symbol\" aria-roledescription=\"rect mark\" d=\"M2.2857142857142856,245.25h0.20571428571428596v2.25h-0.20571428571428596Z\" fill=\"#4c78a8\" fill-opacity=\"1\" stroke=\"#505050\" stroke-width=\"0\"/><path aria-label=\"x1: 10; x2: 10.9; level: 62; level2: 62.9; status: Default; sf: abstract_call_known(interp::Core.Compiler.NativeInterpreter, f::Any, fargs::Vector{Any}, argtypes::Vector{Any}, sv::Core.Compiler.InferenceState, max_methods::Int64) at abstractinterpretation.jl:1342\" role=\"graphics-symbol\" aria-roledescription=\"rect mark\" d=\"M2.2857142857142856,242.75000000000003h0.20571428571428596v2.25h-0.20571428571428596Z\" fill=\"#4c78a8\" fill-opacity=\"1\" stroke=\"#505050\" stroke-width=\"0\"/><path aria-label=\"x1: 10; x2: 10.9; level: 63; level2: 63.9; status: Default; sf: abstract_call_gf_by_type(interp::Core.Compiler.NativeInterpreter, f::Any, fargs::Vector{Any}, argtypes::Vector{Any}, atype::Any, sv::Core.Compiler.InferenceState, max_methods::Int64) at abstractinterpretation.jl:113\" role=\"graphics-symbol\" aria-roledescription=\"rect mark\" d=\"M2.2857142857142856,240.25h0.20571428571428596v2.2499999999999716h-0.20571428571428596Z\" fill=\"#4c78a8\" fill-opacity=\"1\" stroke=\"#505050\" stroke-width=\"0\"/><path aria-label=\"x1: 10; x2: 10.9; level: 64; level2: 64.9; status: Default; sf: abstract_call_method_with_const_args(interp::Core.Compiler.NativeInterpreter, result::Core.Compiler.MethodCallResult, f::Any, argtypes::Vector{Any}, match::Core.MethodMatch, sv::Core.Compiler.InferenceState, va_override::Bool) at abstractinterpretation.jl:557\" role=\"graphics-symbol\" aria-roledescription=\"rect mark\" d=\"M2.2857142857142856,237.75h0.20571428571428596v2.25h-0.20571428571428596Z\" fill=\"#4c78a8\" fill-opacity=\"1\" stroke=\"#505050\" stroke-width=\"0\"/><path aria-label=\"x1: 10; x2: 10.9; level: 65; level2: 65.9; status: Default; sf: typeinf(interp::Core.Compiler.NativeInterpreter, frame::Core.Compiler.InferenceState) at typeinfer.jl:209\" role=\"graphics-symbol\" aria-roledescription=\"rect mark\" d=\"M2.2857142857142856,235.25h0.20571428571428596v2.25h-0.20571428571428596Z\" fill=\"#4c78a8\" fill-opacity=\"1\" stroke=\"#505050\" stroke-width=\"0\"/><path aria-label=\"x1: 10; x2: 10.9; level: 66; level2: 66.9; status: Default; sf: _typeinf(interp::Core.Compiler.NativeInterpreter, frame::Core.Compiler.InferenceState) at typeinfer.jl:226\" role=\"graphics-symbol\" aria-roledescription=\"rect mark\" d=\"M2.2857142857142856,232.74999999999997h0.20571428571428596v2.2500000000000284h-0.20571428571428596Z\" fill=\"#4c78a8\" fill-opacity=\"1\" stroke=\"#505050\" stroke-width=\"0\"/><path aria-label=\"x1: 10; x2: 10.9; level: 67; level2: 67.9; status: Default; sf: typeinf_nocycle(interp::Core.Compiler.NativeInterpreter, frame::Core.Compiler.InferenceState) at abstractinterpretation.jl:2014\" role=\"graphics-symbol\" aria-roledescription=\"rect mark\" d=\"M2.2857142857142856,230.24999999999997h0.20571428571428596v2.250000000000057h-0.20571428571428596Z\" fill=\"#4c78a8\" fill-opacity=\"1\" stroke=\"#505050\" stroke-width=\"0\"/><path aria-label=\"x1: 10; x2: 10.9; level: 68; level2: 68.9; status: Default; sf: typeinf_local(interp::Core.Compiler.NativeInterpreter, frame::Core.Compiler.InferenceState) at abstractinterpretation.jl:1918\" role=\"graphics-symbol\" aria-roledescription=\"rect mark\" d=\"M2.2857142857142856,227.75h0.20571428571428596v2.2499999999999716h-0.20571428571428596Z\" fill=\"#4c78a8\" fill-opacity=\"1\" stroke=\"#505050\" stroke-width=\"0\"/><path aria-label=\"x1: 10; x2: 10.9; level: 69; level2: 69.9; status: Default; sf: abstract_eval_statement(interp::Core.Compiler.NativeInterpreter, e::Any, vtypes::Vector{Any}, sv::Core.Compiler.InferenceState) at abstractinterpretation.jl:1534\" role=\"graphics-symbol\" aria-roledescription=\"rect mark\" d=\"M2.2857142857142856,225.25h0.20571428571428596v2.25h-0.20571428571428596Z\" fill=\"#4c78a8\" fill-opacity=\"1\" stroke=\"#505050\" stroke-width=\"0\"/><path aria-label=\"x1: 10; x2: 10.9; level: 70; level2: 70.9; status: Default; sf: abstract_call(interp::Core.Compiler.NativeInterpreter, fargs::Vector{Any}, argtypes::Vector{Any}, sv::Core.Compiler.InferenceState) at abstractinterpretation.jl:1382\" role=\"graphics-symbol\" aria-roledescription=\"rect mark\" d=\"M2.2857142857142856,222.75h0.20571428571428596v2.25h-0.20571428571428596Z\" fill=\"#4c78a8\" fill-opacity=\"1\" stroke=\"#505050\" stroke-width=\"0\"/><path aria-label=\"x1: 10; x2: 10.9; level: 71; level2: 71.9; status: Default; sf: abstract_call(interp::Core.Compiler.NativeInterpreter, fargs::Vector{Any}, argtypes::Vector{Any}, sv::Core.Compiler.InferenceState, max_methods::Int64) at abstractinterpretation.jl:1397\" role=\"graphics-symbol\" aria-roledescription=\"rect mark\" d=\"M2.2857142857142856,220.24999999999997h0.20571428571428596v2.2500000000000284h-0.20571428571428596Z\" fill=\"#4c78a8\" fill-opacity=\"1\" stroke=\"#505050\" stroke-width=\"0\"/><path aria-label=\"x1: 10; x2: 10.9; level: 72; level2: 72.9; status: Default; sf: abstract_call_known(interp::Core.Compiler.NativeInterpreter, f::Any, fargs::Vector{Any}, argtypes::Vector{Any}, sv::Core.Compiler.InferenceState, max_methods::Int64) at abstractinterpretation.jl:1342\" role=\"graphics-symbol\" aria-roledescription=\"rect mark\" d=\"M2.2857142857142856,217.74999999999997h0.20571428571428596v2.250000000000057h-0.20571428571428596Z\" fill=\"#4c78a8\" fill-opacity=\"1\" stroke=\"#505050\" stroke-width=\"0\"/><path aria-label=\"x1: 10; x2: 10.9; level: 73; level2: 73.9; status: Default; sf: abstract_call_gf_by_type(interp::Core.Compiler.NativeInterpreter, f::Any, fargs::Vector{Any}, argtypes::Vector{Any}, atype::Any, sv::Core.Compiler.InferenceState, max_methods::Int64) at abstractinterpretation.jl:113\" role=\"graphics-symbol\" aria-roledescription=\"rect mark\" d=\"M2.2857142857142856,215.25h0.20571428571428596v2.2499999999999716h-0.20571428571428596Z\" fill=\"#4c78a8\" fill-opacity=\"1\" stroke=\"#505050\" stroke-width=\"0\"/><path aria-label=\"x1: 10; x2: 10.9; level: 74; level2: 74.9; status: Default; sf: abstract_call_method_with_const_args(interp::Core.Compiler.NativeInterpreter, result::Core.Compiler.MethodCallResult, f::Any, argtypes::Vector{Any}, match::Core.MethodMatch, sv::Core.Compiler.InferenceState, va_override::Bool) at abstractinterpretation.jl:557\" role=\"graphics-symbol\" aria-roledescription=\"rect mark\" d=\"M2.2857142857142856,212.75h0.20571428571428596v2.25h-0.20571428571428596Z\" fill=\"#4c78a8\" fill-opacity=\"1\" stroke=\"#505050\" stroke-width=\"0\"/><path aria-label=\"x1: 10; x2: 10.9; level: 75; level2: 75.9; status: Default; sf: typeinf(interp::Core.Compiler.NativeInterpreter, frame::Core.Compiler.InferenceState) at typeinfer.jl:209\" role=\"graphics-symbol\" aria-roledescription=\"rect mark\" d=\"M2.2857142857142856,210.25h0.20571428571428596v2.25h-0.20571428571428596Z\" fill=\"#4c78a8\" fill-opacity=\"1\" stroke=\"#505050\" stroke-width=\"0\"/><path aria-label=\"x1: 10; x2: 10.9; level: 76; level2: 76.9; status: Default; sf: _typeinf(interp::Core.Compiler.NativeInterpreter, frame::Core.Compiler.InferenceState) at typeinfer.jl:226\" role=\"graphics-symbol\" aria-roledescription=\"rect mark\" d=\"M2.2857142857142856,207.74999999999997h0.20571428571428596v2.2500000000000284h-0.20571428571428596Z\" fill=\"#4c78a8\" fill-opacity=\"1\" stroke=\"#505050\" stroke-width=\"0\"/><path aria-label=\"x1: 10; x2: 10.9; level: 77; level2: 77.9; status: Default; sf: typeinf_nocycle(interp::Core.Compiler.NativeInterpreter, frame::Core.Compiler.InferenceState) at abstractinterpretation.jl:2014\" role=\"graphics-symbol\" aria-roledescription=\"rect mark\" d=\"M2.2857142857142856,205.24999999999997h0.20571428571428596v2.250000000000057h-0.20571428571428596Z\" fill=\"#4c78a8\" fill-opacity=\"1\" stroke=\"#505050\" stroke-width=\"0\"/><path aria-label=\"x1: 10; x2: 10.9; level: 78; level2: 78.9; status: Default; sf: typeinf_local(interp::Core.Compiler.NativeInterpreter, frame::Core.Compiler.InferenceState) at abstractinterpretation.jl:1918\" role=\"graphics-symbol\" aria-roledescription=\"rect mark\" d=\"M2.2857142857142856,202.75h0.20571428571428596v2.2499999999999716h-0.20571428571428596Z\" fill=\"#4c78a8\" fill-opacity=\"1\" stroke=\"#505050\" stroke-width=\"0\"/><path aria-label=\"x1: 10; x2: 10.9; level: 79; level2: 79.9; status: Default; sf: abstract_eval_statement(interp::Core.Compiler.NativeInterpreter, e::Any, vtypes::Vector{Any}, sv::Core.Compiler.InferenceState) at abstractinterpretation.jl:1534\" role=\"graphics-symbol\" aria-roledescription=\"rect mark\" d=\"M2.2857142857142856,200.25h0.20571428571428596v2.25h-0.20571428571428596Z\" fill=\"#4c78a8\" fill-opacity=\"1\" stroke=\"#505050\" stroke-width=\"0\"/><path aria-label=\"x1: 10; x2: 10.9; level: 80; level2: 80.9; status: Default; sf: abstract_call(interp::Core.Compiler.NativeInterpreter, fargs::Vector{Any}, argtypes::Vector{Any}, sv::Core.Compiler.InferenceState) at abstractinterpretation.jl:1382\" role=\"graphics-symbol\" aria-roledescription=\"rect mark\" d=\"M2.2857142857142856,197.75h0.20571428571428596v2.25h-0.20571428571428596Z\" fill=\"#4c78a8\" fill-opacity=\"1\" stroke=\"#505050\" stroke-width=\"0\"/><path aria-label=\"x1: 10; x2: 10.9; level: 81; level2: 81.9; status: Default; sf: abstract_call(interp::Core.Compiler.NativeInterpreter, fargs::Vector{Any}, argtypes::Vector{Any}, sv::Core.Compiler.InferenceState, max_methods::Int64) at abstractinterpretation.jl:1397\" role=\"graphics-symbol\" aria-roledescription=\"rect mark\" d=\"M2.2857142857142856,195.24999999999997h0.20571428571428596v2.2500000000000284h-0.20571428571428596Z\" fill=\"#4c78a8\" fill-opacity=\"1\" stroke=\"#505050\" stroke-width=\"0\"/><path aria-label=\"x1: 10; x2: 10.9; level: 82; level2: 82.9; status: Default; sf: abstract_call_known(interp::Core.Compiler.NativeInterpreter, f::Any, fargs::Vector{Any}, argtypes::Vector{Any}, sv::Core.Compiler.InferenceState, max_methods::Int64) at abstractinterpretation.jl:1342\" role=\"graphics-symbol\" aria-roledescription=\"rect mark\" d=\"M2.2857142857142856,192.74999999999997h0.20571428571428596v2.250000000000057h-0.20571428571428596Z\" fill=\"#4c78a8\" fill-opacity=\"1\" stroke=\"#505050\" stroke-width=\"0\"/><path aria-label=\"x1: 10; x2: 10.9; level: 83; level2: 83.9; status: Default; sf: abstract_call_gf_by_type(interp::Core.Compiler.NativeInterpreter, f::Any, fargs::Vector{Any}, argtypes::Vector{Any}, atype::Any, sv::Core.Compiler.InferenceState, max_methods::Int64) at abstractinterpretation.jl:113\" role=\"graphics-symbol\" aria-roledescription=\"rect mark\" d=\"M2.2857142857142856,190.25h0.20571428571428596v2.2499999999999716h-0.20571428571428596Z\" fill=\"#4c78a8\" fill-opacity=\"1\" stroke=\"#505050\" stroke-width=\"0\"/><path aria-label=\"x1: 10; x2: 10.9; level: 84; level2: 84.9; status: Default; sf: abstract_call_method_with_const_args(interp::Core.Compiler.NativeInterpreter, result::Core.Compiler.MethodCallResult, f::Any, argtypes::Vector{Any}, match::Core.MethodMatch, sv::Core.Compiler.InferenceState, va_override::Bool) at abstractinterpretation.jl:557\" role=\"graphics-symbol\" aria-roledescription=\"rect mark\" d=\"M2.2857142857142856,187.75h0.20571428571428596v2.25h-0.20571428571428596Z\" fill=\"#4c78a8\" fill-opacity=\"1\" stroke=\"#505050\" stroke-width=\"0\"/><path aria-label=\"x1: 10; x2: 10.9; level: 85; level2: 85.9; status: Default; sf: typeinf(interp::Core.Compiler.NativeInterpreter, frame::Core.Compiler.InferenceState) at typeinfer.jl:209\" role=\"graphics-symbol\" aria-roledescription=\"rect mark\" d=\"M2.2857142857142856,185.25h0.20571428571428596v2.25h-0.20571428571428596Z\" fill=\"#4c78a8\" fill-opacity=\"1\" stroke=\"#505050\" stroke-width=\"0\"/><path aria-label=\"x1: 10; x2: 10.9; level: 86; level2: 86.9; status: Default; sf: _typeinf(interp::Core.Compiler.NativeInterpreter, frame::Core.Compiler.InferenceState) at typeinfer.jl:226\" role=\"graphics-symbol\" aria-roledescription=\"rect mark\" d=\"M2.2857142857142856,182.74999999999997h0.20571428571428596v2.2500000000000284h-0.20571428571428596Z\" fill=\"#4c78a8\" fill-opacity=\"1\" stroke=\"#505050\" stroke-width=\"0\"/><path aria-label=\"x1: 10; x2: 10.9; level: 87; level2: 87.9; status: Default; sf: typeinf_nocycle(interp::Core.Compiler.NativeInterpreter, frame::Core.Compiler.InferenceState) at abstractinterpretation.jl:2014\" role=\"graphics-symbol\" aria-roledescription=\"rect mark\" d=\"M2.2857142857142856,180.24999999999997h0.20571428571428596v2.250000000000057h-0.20571428571428596Z\" fill=\"#4c78a8\" fill-opacity=\"1\" stroke=\"#505050\" stroke-width=\"0\"/><path aria-label=\"x1: 10; x2: 10.9; level: 88; level2: 88.9; status: Default; sf: typeinf_local(interp::Core.Compiler.NativeInterpreter, frame::Core.Compiler.InferenceState) at abstractinterpretation.jl:1918\" role=\"graphics-symbol\" aria-roledescription=\"rect mark\" d=\"M2.2857142857142856,177.75h0.20571428571428596v2.2499999999999716h-0.20571428571428596Z\" fill=\"#4c78a8\" fill-opacity=\"1\" stroke=\"#505050\" stroke-width=\"0\"/><path aria-label=\"x1: 10; x2: 10.9; level: 89; level2: 89.9; status: Default; sf: abstract_eval_statement(interp::Core.Compiler.NativeInterpreter, e::Any, vtypes::Vector{Any}, sv::Core.Compiler.InferenceState) at abstractinterpretation.jl:1534\" role=\"graphics-symbol\" aria-roledescription=\"rect mark\" d=\"M2.2857142857142856,175.25h0.20571428571428596v2.25h-0.20571428571428596Z\" fill=\"#4c78a8\" fill-opacity=\"1\" stroke=\"#505050\" stroke-width=\"0\"/><path aria-label=\"x1: 10; x2: 10.9; level: 90; level2: 90.9; status: Default; sf: abstract_call(interp::Core.Compiler.NativeInterpreter, fargs::Vector{Any}, argtypes::Vector{Any}, sv::Core.Compiler.InferenceState) at abstractinterpretation.jl:1382\" role=\"graphics-symbol\" aria-roledescription=\"rect mark\" d=\"M2.2857142857142856,172.75h0.20571428571428596v2.25h-0.20571428571428596Z\" fill=\"#4c78a8\" fill-opacity=\"1\" stroke=\"#505050\" stroke-width=\"0\"/><path aria-label=\"x1: 10; x2: 10.9; level: 91; level2: 91.9; status: Default; sf: abstract_call(interp::Core.Compiler.NativeInterpreter, fargs::Vector{Any}, argtypes::Vector{Any}, sv::Core.Compiler.InferenceState, max_methods::Int64) at abstractinterpretation.jl:1397\" role=\"graphics-symbol\" aria-roledescription=\"rect mark\" d=\"M2.2857142857142856,170.24999999999997h0.20571428571428596v2.2500000000000284h-0.20571428571428596Z\" fill=\"#4c78a8\" fill-opacity=\"1\" stroke=\"#505050\" stroke-width=\"0\"/><path aria-label=\"x1: 10; x2: 10.9; level: 92; level2: 92.9; status: Default; sf: abstract_call_known(interp::Core.Compiler.NativeInterpreter, f::Any, fargs::Vector{Any}, argtypes::Vector{Any}, sv::Core.Compiler.InferenceState, max_methods::Int64) at abstractinterpretation.jl:1342\" role=\"graphics-symbol\" aria-roledescription=\"rect mark\" d=\"M2.2857142857142856,167.74999999999997h0.20571428571428596v2.250000000000057h-0.20571428571428596Z\" fill=\"#4c78a8\" fill-opacity=\"1\" stroke=\"#505050\" stroke-width=\"0\"/><path aria-label=\"x1: 10; x2: 10.9; level: 93; level2: 93.9; status: Default; sf: abstract_call_gf_by_type(interp::Core.Compiler.NativeInterpreter, f::Any, fargs::Vector{Any}, argtypes::Vector{Any}, atype::Any, sv::Core.Compiler.InferenceState, max_methods::Int64) at abstractinterpretation.jl:113\" role=\"graphics-symbol\" aria-roledescription=\"rect mark\" d=\"M2.2857142857142856,165.25h0.20571428571428596v2.2499999999999716h-0.20571428571428596Z\" fill=\"#4c78a8\" fill-opacity=\"1\" stroke=\"#505050\" stroke-width=\"0\"/><path aria-label=\"x1: 10; x2: 10.9; level: 94; level2: 94.9; status: Default; sf: abstract_call_method_with_const_args(interp::Core.Compiler.NativeInterpreter, result::Core.Compiler.MethodCallResult, f::Any, argtypes::Vector{Any}, match::Core.MethodMatch, sv::Core.Compiler.InferenceState, va_override::Bool) at abstractinterpretation.jl:557\" role=\"graphics-symbol\" aria-roledescription=\"rect mark\" d=\"M2.2857142857142856,162.75h0.20571428571428596v2.25h-0.20571428571428596Z\" fill=\"#4c78a8\" fill-opacity=\"1\" stroke=\"#505050\" stroke-width=\"0\"/><path aria-label=\"x1: 10; x2: 10.9; level: 95; level2: 95.9; status: Default; sf: typeinf(interp::Core.Compiler.NativeInterpreter, frame::Core.Compiler.InferenceState) at typeinfer.jl:209\" role=\"graphics-symbol\" aria-roledescription=\"rect mark\" d=\"M2.2857142857142856,160.25h0.20571428571428596v2.25h-0.20571428571428596Z\" fill=\"#4c78a8\" fill-opacity=\"1\" stroke=\"#505050\" stroke-width=\"0\"/><path aria-label=\"x1: 10; x2: 10.9; level: 96; level2: 96.9; status: Default; sf: _typeinf(interp::Core.Compiler.NativeInterpreter, frame::Core.Compiler.InferenceState) at typeinfer.jl:226\" role=\"graphics-symbol\" aria-roledescription=\"rect mark\" d=\"M2.2857142857142856,157.74999999999997h0.20571428571428596v2.2500000000000284h-0.20571428571428596Z\" fill=\"#4c78a8\" fill-opacity=\"1\" stroke=\"#505050\" stroke-width=\"0\"/><path aria-label=\"x1: 10; x2: 10.9; level: 97; level2: 97.9; status: Default; sf: typeinf_nocycle(interp::Core.Compiler.NativeInterpreter, frame::Core.Compiler.InferenceState) at abstractinterpretation.jl:2014\" role=\"graphics-symbol\" aria-roledescription=\"rect mark\" d=\"M2.2857142857142856,155.24999999999997h0.20571428571428596v2.250000000000057h-0.20571428571428596Z\" fill=\"#4c78a8\" fill-opacity=\"1\" stroke=\"#505050\" stroke-width=\"0\"/><path aria-label=\"x1: 10; x2: 10.9; level: 98; level2: 98.9; status: Default; sf: typeinf_local(interp::Core.Compiler.NativeInterpreter, frame::Core.Compiler.InferenceState) at abstractinterpretation.jl:1918\" role=\"graphics-symbol\" aria-roledescription=\"rect mark\" d=\"M2.2857142857142856,152.75h0.20571428571428596v2.2499999999999716h-0.20571428571428596Z\" fill=\"#4c78a8\" fill-opacity=\"1\" stroke=\"#505050\" stroke-width=\"0\"/><path aria-label=\"x1: 10; x2: 10.9; level: 99; level2: 99.9; status: Default; sf: abstract_eval_statement(interp::Core.Compiler.NativeInterpreter, e::Any, vtypes::Vector{Any}, sv::Core.Compiler.InferenceState) at abstractinterpretation.jl:1534\" role=\"graphics-symbol\" aria-roledescription=\"rect mark\" d=\"M2.2857142857142856,150.25h0.20571428571428596v2.25h-0.20571428571428596Z\" fill=\"#4c78a8\" fill-opacity=\"1\" stroke=\"#505050\" stroke-width=\"0\"/><path aria-label=\"x1: 10; x2: 10.9; level: 100; level2: 100.9; status: Default; sf: abstract_call(interp::Core.Compiler.NativeInterpreter, fargs::Vector{Any}, argtypes::Vector{Any}, sv::Core.Compiler.InferenceState) at abstractinterpretation.jl:1382\" role=\"graphics-symbol\" aria-roledescription=\"rect mark\" d=\"M2.2857142857142856,147.75h0.20571428571428596v2.25h-0.20571428571428596Z\" fill=\"#4c78a8\" fill-opacity=\"1\" stroke=\"#505050\" stroke-width=\"0\"/><path aria-label=\"x1: 10; x2: 10.9; level: 101; level2: 101.9; status: Default; sf: abstract_call(interp::Core.Compiler.NativeInterpreter, fargs::Vector{Any}, argtypes::Vector{Any}, sv::Core.Compiler.InferenceState, max_methods::Int64) at abstractinterpretation.jl:1397\" role=\"graphics-symbol\" aria-roledescription=\"rect mark\" d=\"M2.2857142857142856,145.24999999999997h0.20571428571428596v2.2500000000000284h-0.20571428571428596Z\" fill=\"#4c78a8\" fill-opacity=\"1\" stroke=\"#505050\" stroke-width=\"0\"/><path aria-label=\"x1: 10; x2: 10.9; level: 102; level2: 102.9; status: Default; sf: abstract_call_known(interp::Core.Compiler.NativeInterpreter, f::Any, fargs::Vector{Any}, argtypes::Vector{Any}, sv::Core.Compiler.InferenceState, max_methods::Int64) at abstractinterpretation.jl:1342\" role=\"graphics-symbol\" aria-roledescription=\"rect mark\" d=\"M2.2857142857142856,142.74999999999997h0.20571428571428596v2.250000000000057h-0.20571428571428596Z\" fill=\"#4c78a8\" fill-opacity=\"1\" stroke=\"#505050\" stroke-width=\"0\"/><path aria-label=\"x1: 10; x2: 10.9; level: 103; level2: 103.9; status: Default; sf: abstract_call_gf_by_type(interp::Core.Compiler.NativeInterpreter, f::Any, fargs::Vector{Any}, argtypes::Vector{Any}, atype::Any, sv::Core.Compiler.InferenceState, max_methods::Int64) at abstractinterpretation.jl:113\" role=\"graphics-symbol\" aria-roledescription=\"rect mark\" d=\"M2.2857142857142856,140.25h0.20571428571428596v2.2499999999999716h-0.20571428571428596Z\" fill=\"#4c78a8\" fill-opacity=\"1\" stroke=\"#505050\" stroke-width=\"0\"/><path aria-label=\"x1: 10; x2: 10.9; level: 104; level2: 104.9; status: Default; sf: abstract_call_method_with_const_args(interp::Core.Compiler.NativeInterpreter, result::Core.Compiler.MethodCallResult, f::Any, argtypes::Vector{Any}, match::Core.MethodMatch, sv::Core.Compiler.InferenceState, va_override::Bool) at abstractinterpretation.jl:557\" role=\"graphics-symbol\" aria-roledescription=\"rect mark\" d=\"M2.2857142857142856,137.75h0.20571428571428596v2.25h-0.20571428571428596Z\" fill=\"#4c78a8\" fill-opacity=\"1\" stroke=\"#505050\" stroke-width=\"0\"/><path aria-label=\"x1: 10; x2: 10.9; level: 105; level2: 105.9; status: Default; sf: typeinf(interp::Core.Compiler.NativeInterpreter, frame::Core.Compiler.InferenceState) at typeinfer.jl:209\" role=\"graphics-symbol\" aria-roledescription=\"rect mark\" d=\"M2.2857142857142856,135.25h0.20571428571428596v2.25h-0.20571428571428596Z\" fill=\"#4c78a8\" fill-opacity=\"1\" stroke=\"#505050\" stroke-width=\"0\"/><path aria-label=\"x1: 10; x2: 10.9; level: 106; level2: 106.9; status: Default; sf: _typeinf(interp::Core.Compiler.NativeInterpreter, frame::Core.Compiler.InferenceState) at typeinfer.jl:255\" role=\"graphics-symbol\" aria-roledescription=\"rect mark\" d=\"M2.2857142857142856,132.74999999999997h0.20571428571428596v2.2500000000000284h-0.20571428571428596Z\" fill=\"#4c78a8\" fill-opacity=\"1\" stroke=\"#505050\" stroke-width=\"0\"/><path aria-label=\"x1: 10; x2: 10.9; level: 107; level2: 107.9; status: Default; sf: optimize at optimize.jl:296 [inlined]\" role=\"graphics-symbol\" aria-roledescription=\"rect mark\" d=\"M2.2857142857142856,130.24999999999997h0.20571428571428596v2.250000000000057h-0.20571428571428596Z\" fill=\"#4c78a8\" fill-opacity=\"1\" stroke=\"#505050\" stroke-width=\"0\"/><path aria-label=\"x1: 10; x2: 10.9; level: 108; level2: 108.9; status: Default; sf: run_passes(ci::Core.CodeInfo, nargs::Int64, sv::Core.Compiler.OptimizationState) at optimize.jl:303\" role=\"graphics-symbol\" aria-roledescription=\"rect mark\" d=\"M2.2857142857142856,127.74999999999999h0.20571428571428596v2.249999999999986h-0.20571428571428596Z\" fill=\"#4c78a8\" fill-opacity=\"1\" stroke=\"#505050\" stroke-width=\"0\"/><path aria-label=\"x1: 10; x2: 10.9; level: 109; level2: 109.9; status: Default; sf: slot2reg at optimize.jl:419 [inlined]\" role=\"graphics-symbol\" aria-roledescription=\"rect mark\" d=\"M2.2857142857142856,125.25h0.20571428571428596v2.249999999999986h-0.20571428571428596Z\" fill=\"#4c78a8\" fill-opacity=\"1\" stroke=\"#505050\" stroke-width=\"0\"/><path aria-label=\"x1: 10; x2: 10.9; level: 110; level2: 110.9; status: Default; sf: construct_ssa!(ci::Core.CodeInfo, ir::Core.Compiler.IRCode, domtree::Core.Compiler.DomTree, defuses::Vector{Core.Compiler.SlotInfo}, nargs::Int64, slottypes::Vector{Any}) at slot2ssa.jl:833\" role=\"graphics-symbol\" aria-roledescription=\"rect mark\" d=\"M2.2857142857142856,122.75h0.20571428571428596v2.25h-0.20571428571428596Z\" fill=\"#4c78a8\" fill-opacity=\"1\" stroke=\"#505050\" stroke-width=\"0\"/><path aria-label=\"x1: 10; x2: 10.9; level: 111; level2: 111.9; status: Default; sf: iterate at ir.jl:1455 [inlined]\" role=\"graphics-symbol\" aria-roledescription=\"rect mark\" d=\"M2.2857142857142856,120.24999999999997h0.20571428571428596v2.2500000000000426h-0.20571428571428596Z\" fill=\"#4c78a8\" fill-opacity=\"1\" stroke=\"#505050\" stroke-width=\"0\"/><path aria-label=\"x1: 10; x2: 10.9; level: 112; level2: 112.9; status: Default; sf: getindex at array.jl:861 [inlined]\" role=\"graphics-symbol\" aria-roledescription=\"rect mark\" d=\"M2.2857142857142856,117.74999999999997h0.20571428571428596v2.2500000000000426h-0.20571428571428596Z\" fill=\"#4c78a8\" fill-opacity=\"1\" stroke=\"#505050\" stroke-width=\"0\"/><path aria-label=\"x1: 11; x2: 12.9; level: 36; level2: 36.9; status: Default; sf: _typeinf(interp::Core.Compiler.NativeInterpreter, frame::Core.Compiler.InferenceState) at typeinfer.jl:255\" role=\"graphics-symbol\" aria-roledescription=\"rect mark\" d=\"M2.5142857142857142,307.75h0.43428571428571416v2.25h-0.43428571428571416Z\" fill=\"#4c78a8\" fill-opacity=\"1\" stroke=\"#505050\" stroke-width=\"0\"/><path aria-label=\"x1: 11; x2: 12.9; level: 37; level2: 37.9; status: Default; sf: optimize at optimize.jl:296 [inlined]\" role=\"graphics-symbol\" aria-roledescription=\"rect mark\" d=\"M2.5142857142857142,305.25h0.43428571428571416v2.25h-0.43428571428571416Z\" fill=\"#4c78a8\" fill-opacity=\"1\" stroke=\"#505050\" stroke-width=\"0\"/><path aria-label=\"x1: 11; x2: 12.9; level: 38; level2: 38.9; status: Default; sf: run_passes(ci::Core.CodeInfo, nargs::Int64, sv::Core.Compiler.OptimizationState) at optimize.jl:303\" role=\"graphics-symbol\" aria-roledescription=\"rect mark\" d=\"M2.5142857142857142,302.75h0.43428571428571416v2.25h-0.43428571428571416Z\" fill=\"#4c78a8\" fill-opacity=\"1\" stroke=\"#505050\" stroke-width=\"0\"/><path aria-label=\"x1: 11; x2: 12.9; level: 39; level2: 39.9; status: Default; sf: slot2reg at optimize.jl:419 [inlined]\" role=\"graphics-symbol\" aria-roledescription=\"rect mark\" d=\"M2.5142857142857142,300.25h0.43428571428571416v2.25h-0.43428571428571416Z\" fill=\"#4c78a8\" fill-opacity=\"1\" stroke=\"#505050\" stroke-width=\"0\"/><path aria-label=\"x1: 11; x2: 11.9; level: 40; level2: 40.9; status: Default; sf: construct_ssa!(ci::Core.CodeInfo, ir::Core.Compiler.IRCode, domtree::Core.Compiler.DomTree, defuses::Vector{Core.Compiler.SlotInfo}, nargs::Int64, slottypes::Vector{Any}) at slot2ssa.jl:651\" role=\"graphics-symbol\" aria-roledescription=\"rect mark\" d=\"M2.5142857142857142,297.75h0.20571428571428596v2.25h-0.20571428571428596Z\" fill=\"#4c78a8\" fill-opacity=\"1\" stroke=\"#505050\" stroke-width=\"0\"/><path aria-label=\"x1: 11; x2: 11.9; level: 41; level2: 41.9; status: Default; sf: idf(cfg::Core.Compiler.CFG, liveness::Core.Compiler.BlockLiveness, domtree::Core.Compiler.DomTree) at slot2ssa.jl:283\" role=\"graphics-symbol\" aria-roledescription=\"rect mark\" d=\"M2.5142857142857142,295.25h0.20571428571428596v2.25h-0.20571428571428596Z\" fill=\"#4c78a8\" fill-opacity=\"1\" stroke=\"#505050\" stroke-width=\"0\"/><path aria-label=\"x1: 11; x2: 11.9; level: 42; level2: 42.9; status: Default; sf: pop! at array.jl:1254 [inlined]\" role=\"graphics-symbol\" aria-roledescription=\"rect mark\" d=\"M2.5142857142857142,292.75h0.20571428571428596v2.25h-0.20571428571428596Z\" fill=\"#4c78a8\" fill-opacity=\"1\" stroke=\"#505050\" stroke-width=\"0\"/><path aria-label=\"x1: 11; x2: 11.9; level: 43; level2: 43.9; status: Default; sf: _deleteend! at array.jl:957 [inlined]\" role=\"graphics-symbol\" aria-roledescription=\"rect mark\" d=\"M2.5142857142857142,290.25h0.20571428571428596v2.25h-0.20571428571428596Z\" fill=\"#4c78a8\" fill-opacity=\"1\" stroke=\"#505050\" stroke-width=\"0\"/><path aria-label=\"x1: 12; x2: 12.9; level: 40; level2: 40.9; status: Default; sf: construct_ssa!(ci::Core.CodeInfo, ir::Core.Compiler.IRCode, domtree::Core.Compiler.DomTree, defuses::Vector{Core.Compiler.SlotInfo}, nargs::Int64, slottypes::Vector{Any}) at slot2ssa.jl:702\" role=\"graphics-symbol\" aria-roledescription=\"rect mark\" d=\"M2.742857142857143,297.75h0.20571428571428552v2.25h-0.20571428571428552Z\" fill=\"#4c78a8\" fill-opacity=\"1\" stroke=\"#505050\" stroke-width=\"0\"/><path aria-label=\"x1: 12; x2: 12.9; level: 41; level2: 41.9; status: Default; sf: push! at array.jl:995 [inlined]\" role=\"graphics-symbol\" aria-roledescription=\"rect mark\" d=\"M2.742857142857143,295.25h0.20571428571428552v2.25h-0.20571428571428552Z\" fill=\"#4c78a8\" fill-opacity=\"1\" stroke=\"#505050\" stroke-width=\"0\"/><path aria-label=\"x1: 12; x2: 12.9; level: 42; level2: 42.9; status: Default; sf: _growend! at array.jl:948 [inlined]\" role=\"graphics-symbol\" aria-roledescription=\"rect mark\" d=\"M2.742857142857143,292.75h0.20571428571428552v2.25h-0.20571428571428552Z\" fill=\"#4c78a8\" fill-opacity=\"1\" stroke=\"#505050\" stroke-width=\"0\"/><path aria-label=\"x1: 13; x2: 36.9; level: 25; level2: 25.9; status: Default; sf: typeinf_local(interp::Core.Compiler.NativeInterpreter, frame::Core.Compiler.InferenceState) at abstractinterpretation.jl:1918\" role=\"graphics-symbol\" aria-roledescription=\"rect mark\" d=\"M2.9714285714285715,335.25h5.462857142857143v2.25h-5.462857142857143Z\" fill=\"#4c78a8\" fill-opacity=\"1\" stroke=\"#505050\" stroke-width=\"0\"/><path aria-label=\"x1: 13; x2: 36.9; level: 26; level2: 26.9; status: Default; sf: abstract_eval_statement(interp::Core.Compiler.NativeInterpreter, e::Any, vtypes::Vector{Any}, sv::Core.Compiler.InferenceState) at abstractinterpretation.jl:1534\" role=\"graphics-symbol\" aria-roledescription=\"rect mark\" d=\"M2.9714285714285715,332.75h5.462857142857143v2.25h-5.462857142857143Z\" fill=\"#4c78a8\" fill-opacity=\"1\" stroke=\"#505050\" stroke-width=\"0\"/><path aria-label=\"x1: 13; x2: 36.9; level: 27; level2: 27.9; status: Default; sf: abstract_call(interp::Core.Compiler.NativeInterpreter, fargs::Vector{Any}, argtypes::Vector{Any}, sv::Core.Compiler.InferenceState) at abstractinterpretation.jl:1382\" role=\"graphics-symbol\" aria-roledescription=\"rect mark\" d=\"M2.9714285714285715,330.25h5.462857142857143v2.25h-5.462857142857143Z\" fill=\"#4c78a8\" fill-opacity=\"1\" stroke=\"#505050\" stroke-width=\"0\"/><path aria-label=\"x1: 13; x2: 36.9; level: 28; level2: 28.9; status: Default; sf: abstract_call(interp::Core.Compiler.NativeInterpreter, fargs::Vector{Any}, argtypes::Vector{Any}, sv::Core.Compiler.InferenceState, max_methods::Int64) at abstractinterpretation.jl:1397\" role=\"graphics-symbol\" aria-roledescription=\"rect mark\" d=\"M2.9714285714285715,327.75h5.462857142857143v2.25h-5.462857142857143Z\" fill=\"#4c78a8\" fill-opacity=\"1\" stroke=\"#505050\" stroke-width=\"0\"/><path aria-label=\"x1: 13; x2: 36.9; level: 29; level2: 29.9; status: Default; sf: abstract_call_known(interp::Core.Compiler.NativeInterpreter, f::Any, fargs::Vector{Any}, argtypes::Vector{Any}, sv::Core.Compiler.InferenceState, max_methods::Int64) at abstractinterpretation.jl:1342\" role=\"graphics-symbol\" aria-roledescription=\"rect mark\" d=\"M2.9714285714285715,325.25h5.462857142857143v2.25h-5.462857142857143Z\" fill=\"#4c78a8\" fill-opacity=\"1\" stroke=\"#505050\" stroke-width=\"0\"/><path aria-label=\"x1: 13; x2: 13.9; level: 30; level2: 30.9; status: Default; sf: abstract_call_gf_by_type(interp::Core.Compiler.NativeInterpreter, f::Any, fargs::Vector{Any}, argtypes::Vector{Any}, atype::Any, sv::Core.Compiler.InferenceState, max_methods::Int64) at abstractinterpretation.jl:45\" role=\"graphics-symbol\" aria-roledescription=\"rect mark\" d=\"M2.9714285714285715,322.75h0.20571428571428596v2.25h-0.20571428571428596Z\" fill=\"#4c78a8\" fill-opacity=\"1\" stroke=\"#505050\" stroke-width=\"0\"/><path aria-label=\"x1: 14; x2: 14.9; level: 30; level2: 30.9; status: Default; sf: abstract_call_gf_by_type(interp::Core.Compiler.NativeInterpreter, f::Any, fargs::Vector{Any}, argtypes::Vector{Any}, atype::Any, sv::Core.Compiler.InferenceState, max_methods::Int64) at abstractinterpretation.jl:105\" role=\"graphics-symbol\" aria-roledescription=\"rect mark\" d=\"M3.2,322.75h0.20571428571428552v2.25h-0.20571428571428552Z\" fill=\"#4c78a8\" fill-opacity=\"1\" stroke=\"#505050\" stroke-width=\"0\"/><path aria-label=\"x1: 14; x2: 14.9; level: 31; level2: 31.9; status: Default; sf: abstract_call_method(interp::Core.Compiler.NativeInterpreter, method::Method, sig::Any, sparams::Core.SimpleVector, hardlimit::Bool, sv::Core.Compiler.InferenceState) at abstractinterpretation.jl:504\" role=\"graphics-symbol\" aria-roledescription=\"rect mark\" d=\"M3.2,320.25h0.20571428571428552v2.25h-0.20571428571428552Z\" fill=\"#4c78a8\" fill-opacity=\"1\" stroke=\"#505050\" stroke-width=\"0\"/><path aria-label=\"x1: 14; x2: 14.9; level: 32; level2: 32.9; status: Default; sf: typeinf_edge at typeinfer.jl:780 [inlined]\" role=\"graphics-symbol\" aria-roledescription=\"rect mark\" d=\"M3.2,317.75h0.20571428571428552v2.25h-0.20571428571428552Z\" fill=\"#4c78a8\" fill-opacity=\"1\" stroke=\"#505050\" stroke-width=\"0\"/><path aria-label=\"x1: 14; x2: 14.9; level: 33; level2: 33.9; status: Default; sf: specialize_method at utilities.jl:187 [inlined]\" role=\"graphics-symbol\" aria-roledescription=\"rect mark\" d=\"M3.2,315.25h0.20571428571428552v2.25h-0.20571428571428552Z\" fill=\"#4c78a8\" fill-opacity=\"1\" stroke=\"#505050\" stroke-width=\"0\"/><path aria-label=\"x1: 14; x2: 14.9; level: 34; level2: 34.9; status: Default; sf: specialize_method(method::Method, atypes::Any, sparams::Core.SimpleVector, preexisting::Bool, compilesig::Bool) at utilities.jl:200\" role=\"graphics-symbol\" aria-roledescription=\"rect mark\" d=\"M3.2,312.75h0.20571428571428552v2.25h-0.20571428571428552Z\" fill=\"#4c78a8\" fill-opacity=\"1\" stroke=\"#505050\" stroke-width=\"0\"/><path aria-label=\"x1: 15; x2: 36.9; level: 30; level2: 30.9; status: Default; sf: abstract_call_gf_by_type(interp::Core.Compiler.NativeInterpreter, f::Any, fargs::Vector{Any}, argtypes::Vector{Any}, atype::Any, sv::Core.Compiler.InferenceState, max_methods::Int64) at abstractinterpretation.jl:113\" role=\"graphics-symbol\" aria-roledescription=\"rect mark\" d=\"M3.428571428571429,322.75h5.005714285714285v2.25h-5.005714285714285Z\" fill=\"#4c78a8\" fill-opacity=\"1\" stroke=\"#505050\" stroke-width=\"0\"/><path aria-label=\"x1: 15; x2: 15.9; level: 31; level2: 31.9; status: Default; sf: abstract_call_method_with_const_args(interp::Core.Compiler.NativeInterpreter, result::Core.Compiler.MethodCallResult, f::Any, argtypes::Vector{Any}, match::Core.MethodMatch, sv::Core.Compiler.InferenceState, va_override::Bool) at abstractinterpretation.jl:553\" role=\"graphics-symbol\" aria-roledescription=\"rect mark\" d=\"M3.428571428571429,320.25h0.20571428571428552v2.25h-0.20571428571428552Z\" fill=\"#4c78a8\" fill-opacity=\"1\" stroke=\"#505050\" stroke-width=\"0\"/><path aria-label=\"x1: 15; x2: 15.9; level: 32; level2: 32.9; status: Default; sf: Core.Compiler.InferenceState(result::Core.Compiler.InferenceResult, cached::Bool, interp::Core.Compiler.NativeInterpreter) at inferencestate.jl:234\" role=\"graphics-symbol\" aria-roledescription=\"rect mark\" d=\"M3.428571428571429,317.75h0.20571428571428552v2.25h-0.20571428571428552Z\" fill=\"#4c78a8\" fill-opacity=\"1\" stroke=\"#505050\" stroke-width=\"0\"/><path aria-label=\"x1: 15; x2: 15.9; level: 33; level2: 33.9; status: Default; sf: retrieve_code_info at utilities.jl:128 [inlined]\" role=\"graphics-symbol\" aria-roledescription=\"rect mark\" d=\"M3.428571428571429,315.25h0.20571428571428552v2.25h-0.20571428571428552Z\" fill=\"#4c78a8\" fill-opacity=\"1\" stroke=\"#505050\" stroke-width=\"0\"/><path aria-label=\"x1: 16; x2: 36.9; level: 31; level2: 31.9; status: Default; sf: abstract_call_method_with_const_args(interp::Core.Compiler.NativeInterpreter, result::Core.Compiler.MethodCallResult, f::Any, argtypes::Vector{Any}, match::Core.MethodMatch, sv::Core.Compiler.InferenceState, va_override::Bool) at abstractinterpretation.jl:557\" role=\"graphics-symbol\" aria-roledescription=\"rect mark\" d=\"M3.6571428571428575,320.25h4.777142857142857v2.25h-4.777142857142857Z\" fill=\"#4c78a8\" fill-opacity=\"1\" stroke=\"#505050\" stroke-width=\"0\"/><path aria-label=\"x1: 16; x2: 36.9; level: 32; level2: 32.9; status: Default; sf: typeinf(interp::Core.Compiler.NativeInterpreter, frame::Core.Compiler.InferenceState) at typeinfer.jl:209\" role=\"graphics-symbol\" aria-roledescription=\"rect mark\" d=\"M3.6571428571428575,317.75h4.777142857142857v2.25h-4.777142857142857Z\" fill=\"#4c78a8\" fill-opacity=\"1\" stroke=\"#505050\" stroke-width=\"0\"/><path aria-label=\"x1: 16; x2: 32.9; level: 33; level2: 33.9; status: Default; sf: _typeinf(interp::Core.Compiler.NativeInterpreter, frame::Core.Compiler.InferenceState) at typeinfer.jl:226\" role=\"graphics-symbol\" aria-roledescription=\"rect mark\" d=\"M3.6571428571428575,315.25h3.862857142857143v2.25h-3.862857142857143Z\" fill=\"#4c78a8\" fill-opacity=\"1\" stroke=\"#505050\" stroke-width=\"0\"/><path aria-label=\"x1: 16; x2: 32.9; level: 34; level2: 34.9; status: Default; sf: typeinf_nocycle(interp::Core.Compiler.NativeInterpreter, frame::Core.Compiler.InferenceState) at abstractinterpretation.jl:2014\" role=\"graphics-symbol\" aria-roledescription=\"rect mark\" d=\"M3.6571428571428575,312.75h3.862857142857143v2.25h-3.862857142857143Z\" fill=\"#4c78a8\" fill-opacity=\"1\" stroke=\"#505050\" stroke-width=\"0\"/><path aria-label=\"x1: 16; x2: 32.9; level: 35; level2: 35.9; status: Default; sf: typeinf_local(interp::Core.Compiler.NativeInterpreter, frame::Core.Compiler.InferenceState) at abstractinterpretation.jl:1918\" role=\"graphics-symbol\" aria-roledescription=\"rect mark\" d=\"M3.6571428571428575,310.25h3.862857142857143v2.25h-3.862857142857143Z\" fill=\"#4c78a8\" fill-opacity=\"1\" stroke=\"#505050\" stroke-width=\"0\"/><path aria-label=\"x1: 16; x2: 32.9; level: 36; level2: 36.9; status: Default; sf: abstract_eval_statement(interp::Core.Compiler.NativeInterpreter, e::Any, vtypes::Vector{Any}, sv::Core.Compiler.InferenceState) at abstractinterpretation.jl:1534\" role=\"graphics-symbol\" aria-roledescription=\"rect mark\" d=\"M3.6571428571428575,307.75h3.862857142857143v2.25h-3.862857142857143Z\" fill=\"#4c78a8\" fill-opacity=\"1\" stroke=\"#505050\" stroke-width=\"0\"/><path aria-label=\"x1: 16; x2: 32.9; level: 37; level2: 37.9; status: Default; sf: abstract_call(interp::Core.Compiler.NativeInterpreter, fargs::Vector{Any}, argtypes::Vector{Any}, sv::Core.Compiler.InferenceState) at abstractinterpretation.jl:1382\" role=\"graphics-symbol\" aria-roledescription=\"rect mark\" d=\"M3.6571428571428575,305.25h3.862857142857143v2.25h-3.862857142857143Z\" fill=\"#4c78a8\" fill-opacity=\"1\" stroke=\"#505050\" stroke-width=\"0\"/><path aria-label=\"x1: 16; x2: 32.9; level: 38; level2: 38.9; status: Default; sf: abstract_call(interp::Core.Compiler.NativeInterpreter, fargs::Vector{Any}, argtypes::Vector{Any}, sv::Core.Compiler.InferenceState, max_methods::Int64) at abstractinterpretation.jl:1397\" role=\"graphics-symbol\" aria-roledescription=\"rect mark\" d=\"M3.6571428571428575,302.75h3.862857142857143v2.25h-3.862857142857143Z\" fill=\"#4c78a8\" fill-opacity=\"1\" stroke=\"#505050\" stroke-width=\"0\"/><path aria-label=\"x1: 16; x2: 32.9; level: 39; level2: 39.9; status: Default; sf: abstract_call_known(interp::Core.Compiler.NativeInterpreter, f::Any, fargs::Vector{Any}, argtypes::Vector{Any}, sv::Core.Compiler.InferenceState, max_methods::Int64) at abstractinterpretation.jl:1342\" role=\"graphics-symbol\" aria-roledescription=\"rect mark\" d=\"M3.6571428571428575,300.25h3.862857142857143v2.25h-3.862857142857143Z\" fill=\"#4c78a8\" fill-opacity=\"1\" stroke=\"#505050\" stroke-width=\"0\"/><path aria-label=\"x1: 16; x2: 17.9; level: 40; level2: 40.9; status: Default; sf: abstract_call_gf_by_type(interp::Core.Compiler.NativeInterpreter, f::Any, fargs::Vector{Any}, argtypes::Vector{Any}, atype::Any, sv::Core.Compiler.InferenceState, max_methods::Int64) at abstractinterpretation.jl:39\" role=\"graphics-symbol\" aria-roledescription=\"rect mark\" d=\"M3.6571428571428575,297.75h0.4342857142857133v2.25h-0.4342857142857133Z\" fill=\"#4c78a8\" fill-opacity=\"1\" stroke=\"#505050\" stroke-width=\"0\"/><path aria-label=\"x1: 16; x2: 17.9; level: 41; level2: 41.9; status: Runtime dispatch; sf: find_matching_methods(argtypes::Vector{Any}, atype::Any, method_table::Core.Compiler.CachedMethodTable{Core.Compiler.InternalMethodTable}, union_split::Int64, max_methods::Int64) at abstractinterpretation.jl:308\" role=\"graphics-symbol\" aria-roledescription=\"rect mark\" d=\"M3.6571428571428575,295.25h0.4342857142857133v2.25h-0.4342857142857133Z\" fill=\"#e45756\" fill-opacity=\"1\" stroke=\"#505050\" stroke-width=\"0\"/><path aria-label=\"x1: 16; x2: 17.9; level: 42; level2: 42.9; status: Default; sf: (::Core.Compiler.var&quot;#findall##kw&quot;)(::NamedTuple{(:limit,), Tuple{Int64}}, ::typeof(Core.Compiler.findall), sig::Type, table::Core.Compiler.CachedMethodTable{Core.Compiler.InternalMethodTable}) at methodtable.jl:95\" role=\"graphics-symbol\" aria-roledescription=\"rect mark\" d=\"M3.6571428571428575,292.75h0.4342857142857133v2.25h-0.4342857142857133Z\" fill=\"#4c78a8\" fill-opacity=\"1\" stroke=\"#505050\" stroke-width=\"0\"/><path aria-label=\"x1: 16; x2: 17.9; level: 43; level2: 43.9; status: Default; sf: #findall#248 at methodtable.jl:96 [inlined]\" role=\"graphics-symbol\" aria-roledescription=\"rect mark\" d=\"M3.6571428571428575,290.25h0.4342857142857133v2.25h-0.4342857142857133Z\" fill=\"#4c78a8\" fill-opacity=\"1\" stroke=\"#505050\" stroke-width=\"0\"/><path aria-label=\"x1: 16; x2: 17.9; level: 44; level2: 44.9; status: Default; sf: get! at iddict.jl:178 [inlined]\" role=\"graphics-symbol\" aria-roledescription=\"rect mark\" d=\"M3.6571428571428575,287.75h0.4342857142857133v2.25h-0.4342857142857133Z\" fill=\"#4c78a8\" fill-opacity=\"1\" stroke=\"#505050\" stroke-width=\"0\"/><path aria-label=\"x1: 16; x2: 17.9; level: 45; level2: 45.9; status: Runtime dispatch; sf: (::Core.Compiler.var&quot;#249#250&quot;{Int64, Core.Compiler.CachedMethodTable{Core.Compiler.InternalMethodTable}, Core.Box})() at methodtable.jl:97\" role=\"graphics-symbol\" aria-roledescription=\"rect mark\" d=\"M3.6571428571428575,285.25h0.4342857142857133v2.25h-0.4342857142857133Z\" fill=\"#e45756\" fill-opacity=\"1\" stroke=\"#505050\" stroke-width=\"0\"/><path aria-label=\"x1: 16; x2: 17.9; level: 46; level2: 46.9; status: Default; sf: (::Core.Compiler.var&quot;#findall##kw&quot;)(::NamedTuple{(:limit,), Tuple{Int64}}, ::typeof(Core.Compiler.findall), sig::Type, table::Core.Compiler.InternalMethodTable) at methodtable.jl:65\" role=\"graphics-symbol\" aria-roledescription=\"rect mark\" d=\"M3.6571428571428575,282.75h0.4342857142857133v2.25h-0.4342857142857133Z\" fill=\"#4c78a8\" fill-opacity=\"1\" stroke=\"#505050\" stroke-width=\"0\"/><path aria-label=\"x1: 16; x2: 17.9; level: 47; level2: 47.9; status: Default; sf: #findall#246 at methodtable.jl:68 [inlined]\" role=\"graphics-symbol\" aria-roledescription=\"rect mark\" d=\"M3.6571428571428575,280.25h0.4342857142857133v2.25h-0.4342857142857133Z\" fill=\"#4c78a8\" fill-opacity=\"1\" stroke=\"#505050\" stroke-width=\"0\"/><path aria-label=\"x1: 16; x2: 17.9; level: 48; level2: 48.9; status: Default; sf: _methods_by_ftype at reflection.jl:908 [inlined]\" role=\"graphics-symbol\" aria-roledescription=\"rect mark\" d=\"M3.6571428571428575,277.75h0.4342857142857133v2.25h-0.4342857142857133Z\" fill=\"#4c78a8\" fill-opacity=\"1\" stroke=\"#505050\" stroke-width=\"0\"/><path aria-label=\"x1: 18; x2: 32.9; level: 40; level2: 40.9; status: Default; sf: abstract_call_gf_by_type(interp::Core.Compiler.NativeInterpreter, f::Any, fargs::Vector{Any}, argtypes::Vector{Any}, atype::Any, sv::Core.Compiler.InferenceState, max_methods::Int64) at abstractinterpretation.jl:113\" role=\"graphics-symbol\" aria-roledescription=\"rect mark\" d=\"M4.114285714285714,297.75h3.4057142857142866v2.25h-3.4057142857142866Z\" fill=\"#4c78a8\" fill-opacity=\"1\" stroke=\"#505050\" stroke-width=\"0\"/><path aria-label=\"x1: 18; x2: 32.9; level: 41; level2: 41.9; status: Default; sf: abstract_call_method_with_const_args(interp::Core.Compiler.NativeInterpreter, result::Core.Compiler.MethodCallResult, f::Any, argtypes::Vector{Any}, match::Core.MethodMatch, sv::Core.Compiler.InferenceState, va_override::Bool) at abstractinterpretation.jl:557\" role=\"graphics-symbol\" aria-roledescription=\"rect mark\" d=\"M4.114285714285714,295.25h3.4057142857142866v2.25h-3.4057142857142866Z\" fill=\"#4c78a8\" fill-opacity=\"1\" stroke=\"#505050\" stroke-width=\"0\"/><path aria-label=\"x1: 18; x2: 32.9; level: 42; level2: 42.9; status: Default; sf: typeinf(interp::Core.Compiler.NativeInterpreter, frame::Core.Compiler.InferenceState) at typeinfer.jl:209\" role=\"graphics-symbol\" aria-roledescription=\"rect mark\" d=\"M4.114285714285714,292.75h3.4057142857142866v2.25h-3.4057142857142866Z\" fill=\"#4c78a8\" fill-opacity=\"1\" stroke=\"#505050\" stroke-width=\"0\"/><path aria-label=\"x1: 18; x2: 31.9; level: 43; level2: 43.9; status: Default; sf: _typeinf(interp::Core.Compiler.NativeInterpreter, frame::Core.Compiler.InferenceState) at typeinfer.jl:226\" role=\"graphics-symbol\" aria-roledescription=\"rect mark\" d=\"M4.114285714285714,290.25h3.177142857142857v2.25h-3.177142857142857Z\" fill=\"#4c78a8\" fill-opacity=\"1\" stroke=\"#505050\" stroke-width=\"0\"/><path aria-label=\"x1: 18; x2: 31.9; level: 44; level2: 44.9; status: Default; sf: typeinf_nocycle(interp::Core.Compiler.NativeInterpreter, frame::Core.Compiler.InferenceState) at abstractinterpretation.jl:2014\" role=\"graphics-symbol\" aria-roledescription=\"rect mark\" d=\"M4.114285714285714,287.75h3.177142857142857v2.25h-3.177142857142857Z\" fill=\"#4c78a8\" fill-opacity=\"1\" stroke=\"#505050\" stroke-width=\"0\"/><path aria-label=\"x1: 18; x2: 31.9; level: 45; level2: 45.9; status: Default; sf: typeinf_local(interp::Core.Compiler.NativeInterpreter, frame::Core.Compiler.InferenceState) at abstractinterpretation.jl:1918\" role=\"graphics-symbol\" aria-roledescription=\"rect mark\" d=\"M4.114285714285714,285.25h3.177142857142857v2.25h-3.177142857142857Z\" fill=\"#4c78a8\" fill-opacity=\"1\" stroke=\"#505050\" stroke-width=\"0\"/><path aria-label=\"x1: 18; x2: 31.9; level: 46; level2: 46.9; status: Default; sf: abstract_eval_statement(interp::Core.Compiler.NativeInterpreter, e::Any, vtypes::Vector{Any}, sv::Core.Compiler.InferenceState) at abstractinterpretation.jl:1534\" role=\"graphics-symbol\" aria-roledescription=\"rect mark\" d=\"M4.114285714285714,282.75h3.177142857142857v2.25h-3.177142857142857Z\" fill=\"#4c78a8\" fill-opacity=\"1\" stroke=\"#505050\" stroke-width=\"0\"/><path aria-label=\"x1: 18; x2: 31.9; level: 47; level2: 47.9; status: Default; sf: abstract_call(interp::Core.Compiler.NativeInterpreter, fargs::Vector{Any}, argtypes::Vector{Any}, sv::Core.Compiler.InferenceState) at abstractinterpretation.jl:1382\" role=\"graphics-symbol\" aria-roledescription=\"rect mark\" d=\"M4.114285714285714,280.25h3.177142857142857v2.25h-3.177142857142857Z\" fill=\"#4c78a8\" fill-opacity=\"1\" stroke=\"#505050\" stroke-width=\"0\"/><path aria-label=\"x1: 18; x2: 31.9; level: 48; level2: 48.9; status: Default; sf: abstract_call(interp::Core.Compiler.NativeInterpreter, fargs::Vector{Any}, argtypes::Vector{Any}, sv::Core.Compiler.InferenceState, max_methods::Int64) at abstractinterpretation.jl:1397\" role=\"graphics-symbol\" aria-roledescription=\"rect mark\" d=\"M4.114285714285714,277.75h3.177142857142857v2.25h-3.177142857142857Z\" fill=\"#4c78a8\" fill-opacity=\"1\" stroke=\"#505050\" stroke-width=\"0\"/><path aria-label=\"x1: 18; x2: 31.9; level: 49; level2: 49.9; status: Default; sf: abstract_call_known(interp::Core.Compiler.NativeInterpreter, f::Any, fargs::Vector{Any}, argtypes::Vector{Any}, sv::Core.Compiler.InferenceState, max_methods::Int64) at abstractinterpretation.jl:1342\" role=\"graphics-symbol\" aria-roledescription=\"rect mark\" d=\"M4.114285714285714,275.25h3.177142857142857v2.25h-3.177142857142857Z\" fill=\"#4c78a8\" fill-opacity=\"1\" stroke=\"#505050\" stroke-width=\"0\"/><path aria-label=\"x1: 18; x2: 31.9; level: 50; level2: 50.9; status: Default; sf: abstract_call_gf_by_type(interp::Core.Compiler.NativeInterpreter, f::Any, fargs::Vector{Any}, argtypes::Vector{Any}, atype::Any, sv::Core.Compiler.InferenceState, max_methods::Int64) at abstractinterpretation.jl:113\" role=\"graphics-symbol\" aria-roledescription=\"rect mark\" d=\"M4.114285714285714,272.75h3.177142857142857v2.25h-3.177142857142857Z\" fill=\"#4c78a8\" fill-opacity=\"1\" stroke=\"#505050\" stroke-width=\"0\"/><path aria-label=\"x1: 18; x2: 18.9; level: 51; level2: 51.9; status: Default; sf: abstract_call_method_with_const_args(interp::Core.Compiler.NativeInterpreter, result::Core.Compiler.MethodCallResult, f::Any, argtypes::Vector{Any}, match::Core.MethodMatch, sv::Core.Compiler.InferenceState, va_override::Bool) at abstractinterpretation.jl:553\" role=\"graphics-symbol\" aria-roledescription=\"rect mark\" d=\"M4.114285714285714,270.25h0.20571428571428552v2.25h-0.20571428571428552Z\" fill=\"#4c78a8\" fill-opacity=\"1\" stroke=\"#505050\" stroke-width=\"0\"/><path aria-label=\"x1: 18; x2: 18.9; level: 52; level2: 52.9; status: Default; sf: Core.Compiler.InferenceState(result::Core.Compiler.InferenceResult, cached::Bool, interp::Core.Compiler.NativeInterpreter) at inferencestate.jl:234\" role=\"graphics-symbol\" aria-roledescription=\"rect mark\" d=\"M4.114285714285714,267.75h0.20571428571428552v2.25h-0.20571428571428552Z\" fill=\"#4c78a8\" fill-opacity=\"1\" stroke=\"#505050\" stroke-width=\"0\"/><path aria-label=\"x1: 18; x2: 18.9; level: 53; level2: 53.9; status: Default; sf: retrieve_code_info at utilities.jl:128 [inlined]\" role=\"graphics-symbol\" aria-roledescription=\"rect mark\" d=\"M4.114285714285714,265.25h0.20571428571428552v2.25h-0.20571428571428552Z\" fill=\"#4c78a8\" fill-opacity=\"1\" stroke=\"#505050\" stroke-width=\"0\"/><path aria-label=\"x1: 19; x2: 31.9; level: 51; level2: 51.9; status: Default; sf: abstract_call_method_with_const_args(interp::Core.Compiler.NativeInterpreter, result::Core.Compiler.MethodCallResult, f::Any, argtypes::Vector{Any}, match::Core.MethodMatch, sv::Core.Compiler.InferenceState, va_override::Bool) at abstractinterpretation.jl:557\" role=\"graphics-symbol\" aria-roledescription=\"rect mark\" d=\"M4.3428571428571425,270.25h2.9485714285714284v2.25h-2.9485714285714284Z\" fill=\"#4c78a8\" fill-opacity=\"1\" stroke=\"#505050\" stroke-width=\"0\"/><path aria-label=\"x1: 19; x2: 31.9; level: 52; level2: 52.9; status: Default; sf: typeinf(interp::Core.Compiler.NativeInterpreter, frame::Core.Compiler.InferenceState) at typeinfer.jl:209\" role=\"graphics-symbol\" aria-roledescription=\"rect mark\" d=\"M4.3428571428571425,267.75h2.9485714285714284v2.25h-2.9485714285714284Z\" fill=\"#4c78a8\" fill-opacity=\"1\" stroke=\"#505050\" stroke-width=\"0\"/><path aria-label=\"x1: 19; x2: 29.9; level: 53; level2: 53.9; status: Default; sf: _typeinf(interp::Core.Compiler.NativeInterpreter, frame::Core.Compiler.InferenceState) at typeinfer.jl:226\" role=\"graphics-symbol\" aria-roledescription=\"rect mark\" d=\"M4.3428571428571425,265.25h2.491428571428571v2.25h-2.491428571428571Z\" fill=\"#4c78a8\" fill-opacity=\"1\" stroke=\"#505050\" stroke-width=\"0\"/><path aria-label=\"x1: 19; x2: 29.9; level: 54; level2: 54.9; status: Default; sf: typeinf_nocycle(interp::Core.Compiler.NativeInterpreter, frame::Core.Compiler.InferenceState) at abstractinterpretation.jl:2014\" role=\"graphics-symbol\" aria-roledescription=\"rect mark\" d=\"M4.3428571428571425,262.75h2.491428571428571v2.25h-2.491428571428571Z\" fill=\"#4c78a8\" fill-opacity=\"1\" stroke=\"#505050\" stroke-width=\"0\"/><path aria-label=\"x1: 19; x2: 20.9; level: 55; level2: 55.9; status: Default; sf: typeinf_local(interp::Core.Compiler.NativeInterpreter, frame::Core.Compiler.InferenceState) at abstractinterpretation.jl:1900\" role=\"graphics-symbol\" aria-roledescription=\"rect mark\" d=\"M4.3428571428571425,260.25h0.43428571428571416v2.25h-0.43428571428571416Z\" fill=\"#4c78a8\" fill-opacity=\"1\" stroke=\"#505050\" stroke-width=\"0\"/><path aria-label=\"x1: 19; x2: 20.9; level: 56; level2: 56.9; status: Default; sf: abstract_eval_statement(interp::Core.Compiler.NativeInterpreter, e::Any, vtypes::Vector{Any}, sv::Core.Compiler.InferenceState) at abstractinterpretation.jl:1534\" role=\"graphics-symbol\" aria-roledescription=\"rect mark\" d=\"M4.3428571428571425,257.75h0.43428571428571416v2.25h-0.43428571428571416Z\" fill=\"#4c78a8\" fill-opacity=\"1\" stroke=\"#505050\" stroke-width=\"0\"/><path aria-label=\"x1: 19; x2: 20.9; level: 57; level2: 57.9; status: Default; sf: abstract_call(interp::Core.Compiler.NativeInterpreter, fargs::Vector{Any}, argtypes::Vector{Any}, sv::Core.Compiler.InferenceState) at abstractinterpretation.jl:1382\" role=\"graphics-symbol\" aria-roledescription=\"rect mark\" d=\"M4.3428571428571425,255.25000000000003h0.43428571428571416v2.2499999999999716h-0.43428571428571416Z\" fill=\"#4c78a8\" fill-opacity=\"1\" stroke=\"#505050\" stroke-width=\"0\"/><path aria-label=\"x1: 19; x2: 20.9; level: 58; level2: 58.9; status: Default; sf: abstract_call(interp::Core.Compiler.NativeInterpreter, fargs::Vector{Any}, argtypes::Vector{Any}, sv::Core.Compiler.InferenceState, max_methods::Int64) at abstractinterpretation.jl:1397\" role=\"graphics-symbol\" aria-roledescription=\"rect mark\" d=\"M4.3428571428571425,252.75h0.43428571428571416v2.2499999999999716h-0.43428571428571416Z\" fill=\"#4c78a8\" fill-opacity=\"1\" stroke=\"#505050\" stroke-width=\"0\"/><path aria-label=\"x1: 19; x2: 20.9; level: 59; level2: 59.9; status: Default; sf: abstract_call_known(interp::Core.Compiler.NativeInterpreter, f::Any, fargs::Vector{Any}, argtypes::Vector{Any}, sv::Core.Compiler.InferenceState, max_methods::Int64) at abstractinterpretation.jl:1342\" role=\"graphics-symbol\" aria-roledescription=\"rect mark\" d=\"M4.3428571428571425,250.25h0.43428571428571416v2.25h-0.43428571428571416Z\" fill=\"#4c78a8\" fill-opacity=\"1\" stroke=\"#505050\" stroke-width=\"0\"/><path aria-label=\"x1: 19; x2: 20.9; level: 60; level2: 60.9; status: Default; sf: abstract_call_gf_by_type(interp::Core.Compiler.NativeInterpreter, f::Any, fargs::Vector{Any}, argtypes::Vector{Any}, atype::Any, sv::Core.Compiler.InferenceState, max_methods::Int64) at abstractinterpretation.jl:113\" role=\"graphics-symbol\" aria-roledescription=\"rect mark\" d=\"M4.3428571428571425,247.75h0.43428571428571416v2.25h-0.43428571428571416Z\" fill=\"#4c78a8\" fill-opacity=\"1\" stroke=\"#505050\" stroke-width=\"0\"/><path aria-label=\"x1: 19; x2: 20.9; level: 61; level2: 61.9; status: Default; sf: abstract_call_method_with_const_args(interp::Core.Compiler.NativeInterpreter, result::Core.Compiler.MethodCallResult, f::Any, argtypes::Vector{Any}, match::Core.MethodMatch, sv::Core.Compiler.InferenceState, va_override::Bool) at abstractinterpretation.jl:557\" role=\"graphics-symbol\" aria-roledescription=\"rect mark\" d=\"M4.3428571428571425,245.25h0.43428571428571416v2.25h-0.43428571428571416Z\" fill=\"#4c78a8\" fill-opacity=\"1\" stroke=\"#505050\" stroke-width=\"0\"/><path aria-label=\"x1: 19; x2: 20.9; level: 62; level2: 62.9; status: Default; sf: typeinf(interp::Core.Compiler.NativeInterpreter, frame::Core.Compiler.InferenceState) at typeinfer.jl:209\" role=\"graphics-symbol\" aria-roledescription=\"rect mark\" d=\"M4.3428571428571425,242.75000000000003h0.43428571428571416v2.25h-0.43428571428571416Z\" fill=\"#4c78a8\" fill-opacity=\"1\" stroke=\"#505050\" stroke-width=\"0\"/><path aria-label=\"x1: 19; x2: 20.9; level: 63; level2: 63.9; status: Default; sf: _typeinf(interp::Core.Compiler.NativeInterpreter, frame::Core.Compiler.InferenceState) at typeinfer.jl:226\" role=\"graphics-symbol\" aria-roledescription=\"rect mark\" d=\"M4.3428571428571425,240.25h0.43428571428571416v2.2499999999999716h-0.43428571428571416Z\" fill=\"#4c78a8\" fill-opacity=\"1\" stroke=\"#505050\" stroke-width=\"0\"/><path aria-label=\"x1: 19; x2: 20.9; level: 64; level2: 64.9; status: Default; sf: typeinf_nocycle(interp::Core.Compiler.NativeInterpreter, frame::Core.Compiler.InferenceState) at abstractinterpretation.jl:2014\" role=\"graphics-symbol\" aria-roledescription=\"rect mark\" d=\"M4.3428571428571425,237.75h0.43428571428571416v2.25h-0.43428571428571416Z\" fill=\"#4c78a8\" fill-opacity=\"1\" stroke=\"#505050\" stroke-width=\"0\"/><path aria-label=\"x1: 19; x2: 20.9; level: 65; level2: 65.9; status: Default; sf: typeinf_local(interp::Core.Compiler.NativeInterpreter, frame::Core.Compiler.InferenceState) at abstractinterpretation.jl:1918\" role=\"graphics-symbol\" aria-roledescription=\"rect mark\" d=\"M4.3428571428571425,235.25h0.43428571428571416v2.25h-0.43428571428571416Z\" fill=\"#4c78a8\" fill-opacity=\"1\" stroke=\"#505050\" stroke-width=\"0\"/><path aria-label=\"x1: 19; x2: 20.9; level: 66; level2: 66.9; status: Default; sf: abstract_eval_statement(interp::Core.Compiler.NativeInterpreter, e::Any, vtypes::Vector{Any}, sv::Core.Compiler.InferenceState) at abstractinterpretation.jl:1534\" role=\"graphics-symbol\" aria-roledescription=\"rect mark\" d=\"M4.3428571428571425,232.74999999999997h0.43428571428571416v2.2500000000000284h-0.43428571428571416Z\" fill=\"#4c78a8\" fill-opacity=\"1\" stroke=\"#505050\" stroke-width=\"0\"/><path aria-label=\"x1: 19; x2: 20.9; level: 67; level2: 67.9; status: Default; sf: abstract_call(interp::Core.Compiler.NativeInterpreter, fargs::Vector{Any}, argtypes::Vector{Any}, sv::Core.Compiler.InferenceState) at abstractinterpretation.jl:1382\" role=\"graphics-symbol\" aria-roledescription=\"rect mark\" d=\"M4.3428571428571425,230.24999999999997h0.43428571428571416v2.250000000000057h-0.43428571428571416Z\" fill=\"#4c78a8\" fill-opacity=\"1\" stroke=\"#505050\" stroke-width=\"0\"/><path aria-label=\"x1: 19; x2: 20.9; level: 68; level2: 68.9; status: Default; sf: abstract_call(interp::Core.Compiler.NativeInterpreter, fargs::Vector{Any}, argtypes::Vector{Any}, sv::Core.Compiler.InferenceState, max_methods::Int64) at abstractinterpretation.jl:1397\" role=\"graphics-symbol\" aria-roledescription=\"rect mark\" d=\"M4.3428571428571425,227.75h0.43428571428571416v2.2499999999999716h-0.43428571428571416Z\" fill=\"#4c78a8\" fill-opacity=\"1\" stroke=\"#505050\" stroke-width=\"0\"/><path aria-label=\"x1: 19; x2: 20.9; level: 69; level2: 69.9; status: Default; sf: abstract_call_known(interp::Core.Compiler.NativeInterpreter, f::Any, fargs::Vector{Any}, argtypes::Vector{Any}, sv::Core.Compiler.InferenceState, max_methods::Int64) at abstractinterpretation.jl:1342\" role=\"graphics-symbol\" aria-roledescription=\"rect mark\" d=\"M4.3428571428571425,225.25h0.43428571428571416v2.25h-0.43428571428571416Z\" fill=\"#4c78a8\" fill-opacity=\"1\" stroke=\"#505050\" stroke-width=\"0\"/><path aria-label=\"x1: 19; x2: 20.9; level: 70; level2: 70.9; status: Default; sf: abstract_call_gf_by_type(interp::Core.Compiler.NativeInterpreter, f::Any, fargs::Vector{Any}, argtypes::Vector{Any}, atype::Any, sv::Core.Compiler.InferenceState, max_methods::Int64) at abstractinterpretation.jl:113\" role=\"graphics-symbol\" aria-roledescription=\"rect mark\" d=\"M4.3428571428571425,222.75h0.43428571428571416v2.25h-0.43428571428571416Z\" fill=\"#4c78a8\" fill-opacity=\"1\" stroke=\"#505050\" stroke-width=\"0\"/><path aria-label=\"x1: 19; x2: 20.9; level: 71; level2: 71.9; status: Default; sf: abstract_call_method_with_const_args(interp::Core.Compiler.NativeInterpreter, result::Core.Compiler.MethodCallResult, f::Any, argtypes::Vector{Any}, match::Core.MethodMatch, sv::Core.Compiler.InferenceState, va_override::Bool) at abstractinterpretation.jl:557\" role=\"graphics-symbol\" aria-roledescription=\"rect mark\" d=\"M4.3428571428571425,220.24999999999997h0.43428571428571416v2.2500000000000284h-0.43428571428571416Z\" fill=\"#4c78a8\" fill-opacity=\"1\" stroke=\"#505050\" stroke-width=\"0\"/><path aria-label=\"x1: 19; x2: 20.9; level: 72; level2: 72.9; status: Default; sf: typeinf(interp::Core.Compiler.NativeInterpreter, frame::Core.Compiler.InferenceState) at typeinfer.jl:209\" role=\"graphics-symbol\" aria-roledescription=\"rect mark\" d=\"M4.3428571428571425,217.74999999999997h0.43428571428571416v2.250000000000057h-0.43428571428571416Z\" fill=\"#4c78a8\" fill-opacity=\"1\" stroke=\"#505050\" stroke-width=\"0\"/><path aria-label=\"x1: 19; x2: 20.9; level: 73; level2: 73.9; status: Default; sf: _typeinf(interp::Core.Compiler.NativeInterpreter, frame::Core.Compiler.InferenceState) at typeinfer.jl:226\" role=\"graphics-symbol\" aria-roledescription=\"rect mark\" d=\"M4.3428571428571425,215.25h0.43428571428571416v2.2499999999999716h-0.43428571428571416Z\" fill=\"#4c78a8\" fill-opacity=\"1\" stroke=\"#505050\" stroke-width=\"0\"/><path aria-label=\"x1: 19; x2: 20.9; level: 74; level2: 74.9; status: Default; sf: typeinf_nocycle(interp::Core.Compiler.NativeInterpreter, frame::Core.Compiler.InferenceState) at abstractinterpretation.jl:2014\" role=\"graphics-symbol\" aria-roledescription=\"rect mark\" d=\"M4.3428571428571425,212.75h0.43428571428571416v2.25h-0.43428571428571416Z\" fill=\"#4c78a8\" fill-opacity=\"1\" stroke=\"#505050\" stroke-width=\"0\"/><path aria-label=\"x1: 19; x2: 20.9; level: 75; level2: 75.9; status: Default; sf: typeinf_local(interp::Core.Compiler.NativeInterpreter, frame::Core.Compiler.InferenceState) at abstractinterpretation.jl:1918\" role=\"graphics-symbol\" aria-roledescription=\"rect mark\" d=\"M4.3428571428571425,210.25h0.43428571428571416v2.25h-0.43428571428571416Z\" fill=\"#4c78a8\" fill-opacity=\"1\" stroke=\"#505050\" stroke-width=\"0\"/><path aria-label=\"x1: 19; x2: 20.9; level: 76; level2: 76.9; status: Default; sf: abstract_eval_statement(interp::Core.Compiler.NativeInterpreter, e::Any, vtypes::Vector{Any}, sv::Core.Compiler.InferenceState) at abstractinterpretation.jl:1534\" role=\"graphics-symbol\" aria-roledescription=\"rect mark\" d=\"M4.3428571428571425,207.74999999999997h0.43428571428571416v2.2500000000000284h-0.43428571428571416Z\" fill=\"#4c78a8\" fill-opacity=\"1\" stroke=\"#505050\" stroke-width=\"0\"/><path aria-label=\"x1: 19; x2: 20.9; level: 77; level2: 77.9; status: Default; sf: abstract_call(interp::Core.Compiler.NativeInterpreter, fargs::Vector{Any}, argtypes::Vector{Any}, sv::Core.Compiler.InferenceState) at abstractinterpretation.jl:1382\" role=\"graphics-symbol\" aria-roledescription=\"rect mark\" d=\"M4.3428571428571425,205.24999999999997h0.43428571428571416v2.250000000000057h-0.43428571428571416Z\" fill=\"#4c78a8\" fill-opacity=\"1\" stroke=\"#505050\" stroke-width=\"0\"/><path aria-label=\"x1: 19; x2: 20.9; level: 78; level2: 78.9; status: Default; sf: abstract_call(interp::Core.Compiler.NativeInterpreter, fargs::Vector{Any}, argtypes::Vector{Any}, sv::Core.Compiler.InferenceState, max_methods::Int64) at abstractinterpretation.jl:1397\" role=\"graphics-symbol\" aria-roledescription=\"rect mark\" d=\"M4.3428571428571425,202.75h0.43428571428571416v2.2499999999999716h-0.43428571428571416Z\" fill=\"#4c78a8\" fill-opacity=\"1\" stroke=\"#505050\" stroke-width=\"0\"/><path aria-label=\"x1: 19; x2: 20.9; level: 79; level2: 79.9; status: Default; sf: abstract_call_known(interp::Core.Compiler.NativeInterpreter, f::Any, fargs::Vector{Any}, argtypes::Vector{Any}, sv::Core.Compiler.InferenceState, max_methods::Int64) at abstractinterpretation.jl:1342\" role=\"graphics-symbol\" aria-roledescription=\"rect mark\" d=\"M4.3428571428571425,200.25h0.43428571428571416v2.25h-0.43428571428571416Z\" fill=\"#4c78a8\" fill-opacity=\"1\" stroke=\"#505050\" stroke-width=\"0\"/><path aria-label=\"x1: 19; x2: 20.9; level: 80; level2: 80.9; status: Default; sf: abstract_call_gf_by_type(interp::Core.Compiler.NativeInterpreter, f::Any, fargs::Vector{Any}, argtypes::Vector{Any}, atype::Any, sv::Core.Compiler.InferenceState, max_methods::Int64) at abstractinterpretation.jl:113\" role=\"graphics-symbol\" aria-roledescription=\"rect mark\" d=\"M4.3428571428571425,197.75h0.43428571428571416v2.25h-0.43428571428571416Z\" fill=\"#4c78a8\" fill-opacity=\"1\" stroke=\"#505050\" stroke-width=\"0\"/><path aria-label=\"x1: 19; x2: 20.9; level: 81; level2: 81.9; status: Default; sf: abstract_call_method_with_const_args(interp::Core.Compiler.NativeInterpreter, result::Core.Compiler.MethodCallResult, f::Any, argtypes::Vector{Any}, match::Core.MethodMatch, sv::Core.Compiler.InferenceState, va_override::Bool) at abstractinterpretation.jl:557\" role=\"graphics-symbol\" aria-roledescription=\"rect mark\" d=\"M4.3428571428571425,195.24999999999997h0.43428571428571416v2.2500000000000284h-0.43428571428571416Z\" fill=\"#4c78a8\" fill-opacity=\"1\" stroke=\"#505050\" stroke-width=\"0\"/><path aria-label=\"x1: 19; x2: 20.9; level: 82; level2: 82.9; status: Default; sf: typeinf(interp::Core.Compiler.NativeInterpreter, frame::Core.Compiler.InferenceState) at typeinfer.jl:209\" role=\"graphics-symbol\" aria-roledescription=\"rect mark\" d=\"M4.3428571428571425,192.74999999999997h0.43428571428571416v2.250000000000057h-0.43428571428571416Z\" fill=\"#4c78a8\" fill-opacity=\"1\" stroke=\"#505050\" stroke-width=\"0\"/><path aria-label=\"x1: 19; x2: 20.9; level: 83; level2: 83.9; status: Default; sf: _typeinf(interp::Core.Compiler.NativeInterpreter, frame::Core.Compiler.InferenceState) at typeinfer.jl:255\" role=\"graphics-symbol\" aria-roledescription=\"rect mark\" d=\"M4.3428571428571425,190.25h0.43428571428571416v2.2499999999999716h-0.43428571428571416Z\" fill=\"#4c78a8\" fill-opacity=\"1\" stroke=\"#505050\" stroke-width=\"0\"/><path aria-label=\"x1: 19; x2: 20.9; level: 84; level2: 84.9; status: Default; sf: optimize at optimize.jl:296 [inlined]\" role=\"graphics-symbol\" aria-roledescription=\"rect mark\" d=\"M4.3428571428571425,187.75h0.43428571428571416v2.25h-0.43428571428571416Z\" fill=\"#4c78a8\" fill-opacity=\"1\" stroke=\"#505050\" stroke-width=\"0\"/><path aria-label=\"x1: 19; x2: 19.9; level: 85; level2: 85.9; status: Default; sf: run_passes(ci::Core.CodeInfo, nargs::Int64, sv::Core.Compiler.OptimizationState) at optimize.jl:306\" role=\"graphics-symbol\" aria-roledescription=\"rect mark\" d=\"M4.3428571428571425,185.25h0.20571428571428552v2.25h-0.20571428571428552Z\" fill=\"#4c78a8\" fill-opacity=\"1\" stroke=\"#505050\" stroke-width=\"0\"/><path aria-label=\"x1: 19; x2: 19.9; level: 86; level2: 86.9; status: Default; sf: compact! at ir.jl:1441 [inlined]\" role=\"graphics-symbol\" aria-roledescription=\"rect mark\" d=\"M4.3428571428571425,182.74999999999997h0.20571428571428552v2.2500000000000284h-0.20571428571428552Z\" fill=\"#4c78a8\" fill-opacity=\"1\" stroke=\"#505050\" stroke-width=\"0\"/><path aria-label=\"x1: 19; x2: 19.9; level: 87; level2: 87.9; status: Default; sf: compact!(code::Core.Compiler.IRCode, allow_cfg_transforms::Bool) at ir.jl:1443\" role=\"graphics-symbol\" aria-roledescription=\"rect mark\" d=\"M4.3428571428571425,180.24999999999997h0.20571428571428552v2.250000000000057h-0.20571428571428552Z\" fill=\"#4c78a8\" fill-opacity=\"1\" stroke=\"#505050\" stroke-width=\"0\"/><path aria-label=\"x1: 19; x2: 19.9; level: 88; level2: 88.9; status: Default; sf: iterate(compact::Core.Compiler.IncrementalCompact, ::Tuple{Int64, Int64}) at ir.jl:1293\" role=\"graphics-symbol\" aria-roledescription=\"rect mark\" d=\"M4.3428571428571425,177.75h0.20571428571428552v2.2499999999999716h-0.20571428571428552Z\" fill=\"#4c78a8\" fill-opacity=\"1\" stroke=\"#505050\" stroke-width=\"0\"/><path aria-label=\"x1: 19; x2: 19.9; level: 89; level2: 89.9; status: Default; sf: setindex! at ir.jl:250 [inlined]\" role=\"graphics-symbol\" aria-roledescription=\"rect mark\" d=\"M4.3428571428571425,175.25h0.20571428571428552v2.25h-0.20571428571428552Z\" fill=\"#4c78a8\" fill-opacity=\"1\" stroke=\"#505050\" stroke-width=\"0\"/><path aria-label=\"x1: 19; x2: 19.9; level: 90; level2: 90.9; status: Default; sf: getindex at ir.jl:238 [inlined]\" role=\"graphics-symbol\" aria-roledescription=\"rect mark\" d=\"M4.3428571428571425,172.75h0.20571428571428552v2.25h-0.20571428571428552Z\" fill=\"#4c78a8\" fill-opacity=\"1\" stroke=\"#505050\" stroke-width=\"0\"/><path aria-label=\"x1: 19; x2: 19.9; level: 91; level2: 91.9; status: Default; sf: getindex at array.jl:861 [inlined]\" role=\"graphics-symbol\" aria-roledescription=\"rect mark\" d=\"M4.3428571428571425,170.24999999999997h0.20571428571428552v2.2500000000000284h-0.20571428571428552Z\" fill=\"#4c78a8\" fill-opacity=\"1\" stroke=\"#505050\" stroke-width=\"0\"/><path aria-label=\"x1: 20; x2: 20.9; level: 85; level2: 85.9; status: Runtime dispatch; sf: run_passes(ci::Core.CodeInfo, nargs::Int64, sv::Core.Compiler.OptimizationState) at optimize.jl:307\" role=\"graphics-symbol\" aria-roledescription=\"rect mark\" d=\"M4.571428571428571,185.25h0.20571428571428552v2.25h-0.20571428571428552Z\" fill=\"#e45756\" fill-opacity=\"1\" stroke=\"#505050\" stroke-width=\"0\"/><path aria-label=\"x1: 20; x2: 20.9; level: 86; level2: 86.9; status: Default; sf: ssa_inlining_pass!(ir::Core.Compiler.IRCode, linetable::Vector{Core.LineInfoNode}, state::Core.Compiler.InliningState{Core.Compiler.EdgeTracker, Core.Compiler.WorldView{Core.Compiler.InternalCodeCache}, typeof(Core.Compiler.default_inlining_policy)}, propagate_inbounds::Bool) at inlining.jl:83\" role=\"graphics-symbol\" aria-roledescription=\"rect mark\" d=\"M4.571428571428571,182.74999999999997h0.20571428571428552v2.2500000000000284h-0.20571428571428552Z\" fill=\"#4c78a8\" fill-opacity=\"1\" stroke=\"#505050\" stroke-width=\"0\"/><path aria-label=\"x1: 20; x2: 20.9; level: 87; level2: 87.9; status: Default; sf: batch_inline!(todo::Vector{Pair{Int64, Any}}, ir::Core.Compiler.IRCode, linetable::Vector{Core.LineInfoNode}, propagate_inbounds::Bool) at inlining.jl:594\" role=\"graphics-symbol\" aria-roledescription=\"rect mark\" d=\"M4.571428571428571,180.24999999999997h0.20571428571428552v2.250000000000057h-0.20571428571428552Z\" fill=\"#4c78a8\" fill-opacity=\"1\" stroke=\"#505050\" stroke-width=\"0\"/><path aria-label=\"x1: 20; x2: 20.9; level: 88; level2: 88.9; status: Runtime dispatch; sf: ir_inline_item!(compact::Core.Compiler.IncrementalCompact, idx::Int64, argexprs::Vector{Any}, linetable::Vector{Core.LineInfoNode}, item::Core.Compiler.InliningTodo, boundscheck::Symbol, todo_bbs::Vector{Tuple{Int64, Int64}}) at inlining.jl:346\" role=\"graphics-symbol\" aria-roledescription=\"rect mark\" d=\"M4.571428571428571,177.75h0.20571428571428552v2.2499999999999716h-0.20571428571428552Z\" fill=\"#e45756\" fill-opacity=\"1\" stroke=\"#505050\" stroke-width=\"0\"/><path aria-label=\"x1: 21; x2: 29.9; level: 55; level2: 55.9; status: Default; sf: typeinf_local(interp::Core.Compiler.NativeInterpreter, frame::Core.Compiler.InferenceState) at abstractinterpretation.jl:1918\" role=\"graphics-symbol\" aria-roledescription=\"rect mark\" d=\"M4.8,260.25h2.034285714285714v2.25h-2.034285714285714Z\" fill=\"#4c78a8\" fill-opacity=\"1\" stroke=\"#505050\" stroke-width=\"0\"/><path aria-label=\"x1: 21; x2: 29.9; level: 56; level2: 56.9; status: Default; sf: abstract_eval_statement(interp::Core.Compiler.NativeInterpreter, e::Any, vtypes::Vector{Any}, sv::Core.Compiler.InferenceState) at abstractinterpretation.jl:1534\" role=\"graphics-symbol\" aria-roledescription=\"rect mark\" d=\"M4.8,257.75h2.034285714285714v2.25h-2.034285714285714Z\" fill=\"#4c78a8\" fill-opacity=\"1\" stroke=\"#505050\" stroke-width=\"0\"/><path aria-label=\"x1: 21; x2: 29.9; level: 57; level2: 57.9; status: Default; sf: abstract_call(interp::Core.Compiler.NativeInterpreter, fargs::Vector{Any}, argtypes::Vector{Any}, sv::Core.Compiler.InferenceState) at abstractinterpretation.jl:1382\" role=\"graphics-symbol\" aria-roledescription=\"rect mark\" d=\"M4.8,255.25000000000003h2.034285714285714v2.2499999999999716h-2.034285714285714Z\" fill=\"#4c78a8\" fill-opacity=\"1\" stroke=\"#505050\" stroke-width=\"0\"/><path aria-label=\"x1: 21; x2: 29.9; level: 58; level2: 58.9; status: Default; sf: abstract_call(interp::Core.Compiler.NativeInterpreter, fargs::Vector{Any}, argtypes::Vector{Any}, sv::Core.Compiler.InferenceState, max_methods::Int64) at abstractinterpretation.jl:1397\" role=\"graphics-symbol\" aria-roledescription=\"rect mark\" d=\"M4.8,252.75h2.034285714285714v2.2499999999999716h-2.034285714285714Z\" fill=\"#4c78a8\" fill-opacity=\"1\" stroke=\"#505050\" stroke-width=\"0\"/><path aria-label=\"x1: 21; x2: 21.9; level: 59; level2: 59.9; status: Default; sf: abstract_call_known(interp::Core.Compiler.NativeInterpreter, f::Any, fargs::Vector{Any}, argtypes::Vector{Any}, sv::Core.Compiler.InferenceState, max_methods::Int64) at abstractinterpretation.jl:1341\" role=\"graphics-symbol\" aria-roledescription=\"rect mark\" d=\"M4.8,250.25h0.20571428571428552v2.25h-0.20571428571428552Z\" fill=\"#4c78a8\" fill-opacity=\"1\" stroke=\"#505050\" stroke-width=\"0\"/><path aria-label=\"x1: 21; x2: 21.9; level: 60; level2: 60.9; status: Default; sf: argtypes_to_type at typeutils.jl:53 [inlined]\" role=\"graphics-symbol\" aria-roledescription=\"rect mark\" d=\"M4.8,247.75h0.20571428571428552v2.25h-0.20571428571428552Z\" fill=\"#4c78a8\" fill-opacity=\"1\" stroke=\"#505050\" stroke-width=\"0\"/><path aria-label=\"x1: 21; x2: 21.9; level: 61; level2: 61.9; status: Default; sf: anymap(f::Core.Compiler.var&quot;#251#252&quot;, a::Vector{Any}) at utilities.jl:39\" role=\"graphics-symbol\" aria-roledescription=\"rect mark\" d=\"M4.8,245.25h0.20571428571428552v2.25h-0.20571428571428552Z\" fill=\"#4c78a8\" fill-opacity=\"1\" stroke=\"#505050\" stroke-width=\"0\"/><path aria-label=\"x1: 21; x2: 21.9; level: 62; level2: 62.9; status: Runtime dispatch; sf: (::Core.Compiler.var&quot;#251#252&quot;)(a::Any) at typeutils.jl:53\" role=\"graphics-symbol\" aria-roledescription=\"rect mark\" d=\"M4.8,242.75000000000003h0.20571428571428552v2.25h-0.20571428571428552Z\" fill=\"#e45756\" fill-opacity=\"1\" stroke=\"#505050\" stroke-width=\"0\"/><path aria-label=\"x1: 21; x2: 21.9; level: 63; level2: 63.9; status: Default; sf: widenconst(c::Core.Const) at typelattice.jl:286\" role=\"graphics-symbol\" aria-roledescription=\"rect mark\" d=\"M4.8,240.25h0.20571428571428552v2.2499999999999716h-0.20571428571428552Z\" fill=\"#4c78a8\" fill-opacity=\"1\" stroke=\"#505050\" stroke-width=\"0\"/><path aria-label=\"x1: 22; x2: 29.9; level: 59; level2: 59.9; status: Default; sf: abstract_call_known(interp::Core.Compiler.NativeInterpreter, f::Any, fargs::Vector{Any}, argtypes::Vector{Any}, sv::Core.Compiler.InferenceState, max_methods::Int64) at abstractinterpretation.jl:1342\" role=\"graphics-symbol\" aria-roledescription=\"rect mark\" d=\"M5.0285714285714285,250.25h1.8057142857142852v2.25h-1.8057142857142852Z\" fill=\"#4c78a8\" fill-opacity=\"1\" stroke=\"#505050\" stroke-width=\"0\"/><path aria-label=\"x1: 22; x2: 29.9; level: 60; level2: 60.9; status: Default; sf: abstract_call_gf_by_type(interp::Core.Compiler.NativeInterpreter, f::Any, fargs::Vector{Any}, argtypes::Vector{Any}, atype::Any, sv::Core.Compiler.InferenceState, max_methods::Int64) at abstractinterpretation.jl:113\" role=\"graphics-symbol\" aria-roledescription=\"rect mark\" d=\"M5.0285714285714285,247.75h1.8057142857142852v2.25h-1.8057142857142852Z\" fill=\"#4c78a8\" fill-opacity=\"1\" stroke=\"#505050\" stroke-width=\"0\"/><path aria-label=\"x1: 22; x2: 29.9; level: 61; level2: 61.9; status: Default; sf: abstract_call_method_with_const_args(interp::Core.Compiler.NativeInterpreter, result::Core.Compiler.MethodCallResult, f::Any, argtypes::Vector{Any}, match::Core.MethodMatch, sv::Core.Compiler.InferenceState, va_override::Bool) at abstractinterpretation.jl:557\" role=\"graphics-symbol\" aria-roledescription=\"rect mark\" d=\"M5.0285714285714285,245.25h1.8057142857142852v2.25h-1.8057142857142852Z\" fill=\"#4c78a8\" fill-opacity=\"1\" stroke=\"#505050\" stroke-width=\"0\"/><path aria-label=\"x1: 22; x2: 29.9; level: 62; level2: 62.9; status: Default; sf: typeinf(interp::Core.Compiler.NativeInterpreter, frame::Core.Compiler.InferenceState) at typeinfer.jl:209\" role=\"graphics-symbol\" aria-roledescription=\"rect mark\" d=\"M5.0285714285714285,242.75000000000003h1.8057142857142852v2.25h-1.8057142857142852Z\" fill=\"#4c78a8\" fill-opacity=\"1\" stroke=\"#505050\" stroke-width=\"0\"/><path aria-label=\"x1: 22; x2: 29.9; level: 63; level2: 63.9; status: Default; sf: _typeinf(interp::Core.Compiler.NativeInterpreter, frame::Core.Compiler.InferenceState) at typeinfer.jl:226\" role=\"graphics-symbol\" aria-roledescription=\"rect mark\" d=\"M5.0285714285714285,240.25h1.8057142857142852v2.2499999999999716h-1.8057142857142852Z\" fill=\"#4c78a8\" fill-opacity=\"1\" stroke=\"#505050\" stroke-width=\"0\"/><path aria-label=\"x1: 22; x2: 29.9; level: 64; level2: 64.9; status: Default; sf: typeinf_nocycle(interp::Core.Compiler.NativeInterpreter, frame::Core.Compiler.InferenceState) at abstractinterpretation.jl:2014\" role=\"graphics-symbol\" aria-roledescription=\"rect mark\" d=\"M5.0285714285714285,237.75h1.8057142857142852v2.25h-1.8057142857142852Z\" fill=\"#4c78a8\" fill-opacity=\"1\" stroke=\"#505050\" stroke-width=\"0\"/><path aria-label=\"x1: 22; x2: 24.9; level: 65; level2: 65.9; status: Default; sf: typeinf_local(interp::Core.Compiler.NativeInterpreter, frame::Core.Compiler.InferenceState) at abstractinterpretation.jl:1900\" role=\"graphics-symbol\" aria-roledescription=\"rect mark\" d=\"M5.0285714285714285,235.25h0.6628571428571428v2.25h-0.6628571428571428Z\" fill=\"#4c78a8\" fill-opacity=\"1\" stroke=\"#505050\" stroke-width=\"0\"/><path aria-label=\"x1: 22; x2: 24.9; level: 66; level2: 66.9; status: Default; sf: abstract_eval_statement(interp::Core.Compiler.NativeInterpreter, e::Any, vtypes::Vector{Any}, sv::Core.Compiler.InferenceState) at abstractinterpretation.jl:1534\" role=\"graphics-symbol\" aria-roledescription=\"rect mark\" d=\"M5.0285714285714285,232.74999999999997h0.6628571428571428v2.2500000000000284h-0.6628571428571428Z\" fill=\"#4c78a8\" fill-opacity=\"1\" stroke=\"#505050\" stroke-width=\"0\"/><path aria-label=\"x1: 22; x2: 24.9; level: 67; level2: 67.9; status: Default; sf: abstract_call(interp::Core.Compiler.NativeInterpreter, fargs::Vector{Any}, argtypes::Vector{Any}, sv::Core.Compiler.InferenceState) at abstractinterpretation.jl:1382\" role=\"graphics-symbol\" aria-roledescription=\"rect mark\" d=\"M5.0285714285714285,230.24999999999997h0.6628571428571428v2.250000000000057h-0.6628571428571428Z\" fill=\"#4c78a8\" fill-opacity=\"1\" stroke=\"#505050\" stroke-width=\"0\"/><path aria-label=\"x1: 22; x2: 24.9; level: 68; level2: 68.9; status: Default; sf: abstract_call(interp::Core.Compiler.NativeInterpreter, fargs::Vector{Any}, argtypes::Vector{Any}, sv::Core.Compiler.InferenceState, max_methods::Int64) at abstractinterpretation.jl:1397\" role=\"graphics-symbol\" aria-roledescription=\"rect mark\" d=\"M5.0285714285714285,227.75h0.6628571428571428v2.2499999999999716h-0.6628571428571428Z\" fill=\"#4c78a8\" fill-opacity=\"1\" stroke=\"#505050\" stroke-width=\"0\"/><path aria-label=\"x1: 22; x2: 24.9; level: 69; level2: 69.9; status: Default; sf: abstract_call_known(interp::Core.Compiler.NativeInterpreter, f::Any, fargs::Vector{Any}, argtypes::Vector{Any}, sv::Core.Compiler.InferenceState, max_methods::Int64) at abstractinterpretation.jl:1342\" role=\"graphics-symbol\" aria-roledescription=\"rect mark\" d=\"M5.0285714285714285,225.25h0.6628571428571428v2.25h-0.6628571428571428Z\" fill=\"#4c78a8\" fill-opacity=\"1\" stroke=\"#505050\" stroke-width=\"0\"/><path aria-label=\"x1: 22; x2: 24.9; level: 70; level2: 70.9; status: Default; sf: abstract_call_gf_by_type(interp::Core.Compiler.NativeInterpreter, f::Any, fargs::Vector{Any}, argtypes::Vector{Any}, atype::Any, sv::Core.Compiler.InferenceState, max_methods::Int64) at abstractinterpretation.jl:113\" role=\"graphics-symbol\" aria-roledescription=\"rect mark\" d=\"M5.0285714285714285,222.75h0.6628571428571428v2.25h-0.6628571428571428Z\" fill=\"#4c78a8\" fill-opacity=\"1\" stroke=\"#505050\" stroke-width=\"0\"/><path aria-label=\"x1: 22; x2: 24.9; level: 71; level2: 71.9; status: Default; sf: abstract_call_method_with_const_args(interp::Core.Compiler.NativeInterpreter, result::Core.Compiler.MethodCallResult, f::Any, argtypes::Vector{Any}, match::Core.MethodMatch, sv::Core.Compiler.InferenceState, va_override::Bool) at abstractinterpretation.jl:557\" role=\"graphics-symbol\" aria-roledescription=\"rect mark\" d=\"M5.0285714285714285,220.24999999999997h0.6628571428571428v2.2500000000000284h-0.6628571428571428Z\" fill=\"#4c78a8\" fill-opacity=\"1\" stroke=\"#505050\" stroke-width=\"0\"/><path aria-label=\"x1: 22; x2: 24.9; level: 72; level2: 72.9; status: Default; sf: typeinf(interp::Core.Compiler.NativeInterpreter, frame::Core.Compiler.InferenceState) at typeinfer.jl:209\" role=\"graphics-symbol\" aria-roledescription=\"rect mark\" d=\"M5.0285714285714285,217.74999999999997h0.6628571428571428v2.250000000000057h-0.6628571428571428Z\" fill=\"#4c78a8\" fill-opacity=\"1\" stroke=\"#505050\" stroke-width=\"0\"/><path aria-label=\"x1: 22; x2: 24.9; level: 73; level2: 73.9; status: Default; sf: _typeinf(interp::Core.Compiler.NativeInterpreter, frame::Core.Compiler.InferenceState) at typeinfer.jl:226\" role=\"graphics-symbol\" aria-roledescription=\"rect mark\" d=\"M5.0285714285714285,215.25h0.6628571428571428v2.2499999999999716h-0.6628571428571428Z\" fill=\"#4c78a8\" fill-opacity=\"1\" stroke=\"#505050\" stroke-width=\"0\"/><path aria-label=\"x1: 22; x2: 24.9; level: 74; level2: 74.9; status: Default; sf: typeinf_nocycle(interp::Core.Compiler.NativeInterpreter, frame::Core.Compiler.InferenceState) at abstractinterpretation.jl:2014\" role=\"graphics-symbol\" aria-roledescription=\"rect mark\" d=\"M5.0285714285714285,212.75h0.6628571428571428v2.25h-0.6628571428571428Z\" fill=\"#4c78a8\" fill-opacity=\"1\" stroke=\"#505050\" stroke-width=\"0\"/><path aria-label=\"x1: 22; x2: 24.9; level: 75; level2: 75.9; status: Default; sf: typeinf_local(interp::Core.Compiler.NativeInterpreter, frame::Core.Compiler.InferenceState) at abstractinterpretation.jl:1900\" role=\"graphics-symbol\" aria-roledescription=\"rect mark\" d=\"M5.0285714285714285,210.25h0.6628571428571428v2.25h-0.6628571428571428Z\" fill=\"#4c78a8\" fill-opacity=\"1\" stroke=\"#505050\" stroke-width=\"0\"/><path aria-label=\"x1: 22; x2: 24.9; level: 76; level2: 76.9; status: Default; sf: abstract_eval_statement(interp::Core.Compiler.NativeInterpreter, e::Any, vtypes::Vector{Any}, sv::Core.Compiler.InferenceState) at abstractinterpretation.jl:1534\" role=\"graphics-symbol\" aria-roledescription=\"rect mark\" d=\"M5.0285714285714285,207.74999999999997h0.6628571428571428v2.2500000000000284h-0.6628571428571428Z\" fill=\"#4c78a8\" fill-opacity=\"1\" stroke=\"#505050\" stroke-width=\"0\"/><path aria-label=\"x1: 22; x2: 24.9; level: 77; level2: 77.9; status: Default; sf: abstract_call(interp::Core.Compiler.NativeInterpreter, fargs::Vector{Any}, argtypes::Vector{Any}, sv::Core.Compiler.InferenceState) at abstractinterpretation.jl:1382\" role=\"graphics-symbol\" aria-roledescription=\"rect mark\" d=\"M5.0285714285714285,205.24999999999997h0.6628571428571428v2.250000000000057h-0.6628571428571428Z\" fill=\"#4c78a8\" fill-opacity=\"1\" stroke=\"#505050\" stroke-width=\"0\"/><path aria-label=\"x1: 22; x2: 24.9; level: 78; level2: 78.9; status: Default; sf: abstract_call(interp::Core.Compiler.NativeInterpreter, fargs::Vector{Any}, argtypes::Vector{Any}, sv::Core.Compiler.InferenceState, max_methods::Int64) at abstractinterpretation.jl:1397\" role=\"graphics-symbol\" aria-roledescription=\"rect mark\" d=\"M5.0285714285714285,202.75h0.6628571428571428v2.2499999999999716h-0.6628571428571428Z\" fill=\"#4c78a8\" fill-opacity=\"1\" stroke=\"#505050\" stroke-width=\"0\"/><path aria-label=\"x1: 22; x2: 24.9; level: 79; level2: 79.9; status: Default; sf: abstract_call_known(interp::Core.Compiler.NativeInterpreter, f::Any, fargs::Vector{Any}, argtypes::Vector{Any}, sv::Core.Compiler.InferenceState, max_methods::Int64) at abstractinterpretation.jl:1342\" role=\"graphics-symbol\" aria-roledescription=\"rect mark\" d=\"M5.0285714285714285,200.25h0.6628571428571428v2.25h-0.6628571428571428Z\" fill=\"#4c78a8\" fill-opacity=\"1\" stroke=\"#505050\" stroke-width=\"0\"/><path aria-label=\"x1: 22; x2: 24.9; level: 80; level2: 80.9; status: Default; sf: abstract_call_gf_by_type(interp::Core.Compiler.NativeInterpreter, f::Any, fargs::Vector{Any}, argtypes::Vector{Any}, atype::Any, sv::Core.Compiler.InferenceState, max_methods::Int64) at abstractinterpretation.jl:113\" role=\"graphics-symbol\" aria-roledescription=\"rect mark\" d=\"M5.0285714285714285,197.75h0.6628571428571428v2.25h-0.6628571428571428Z\" fill=\"#4c78a8\" fill-opacity=\"1\" stroke=\"#505050\" stroke-width=\"0\"/><path aria-label=\"x1: 22; x2: 24.9; level: 81; level2: 81.9; status: Default; sf: abstract_call_method_with_const_args(interp::Core.Compiler.NativeInterpreter, result::Core.Compiler.MethodCallResult, f::Any, argtypes::Vector{Any}, match::Core.MethodMatch, sv::Core.Compiler.InferenceState, va_override::Bool) at abstractinterpretation.jl:557\" role=\"graphics-symbol\" aria-roledescription=\"rect mark\" d=\"M5.0285714285714285,195.24999999999997h0.6628571428571428v2.2500000000000284h-0.6628571428571428Z\" fill=\"#4c78a8\" fill-opacity=\"1\" stroke=\"#505050\" stroke-width=\"0\"/><path aria-label=\"x1: 22; x2: 24.9; level: 82; level2: 82.9; status: Default; sf: typeinf(interp::Core.Compiler.NativeInterpreter, frame::Core.Compiler.InferenceState) at typeinfer.jl:209\" role=\"graphics-symbol\" aria-roledescription=\"rect mark\" d=\"M5.0285714285714285,192.74999999999997h0.6628571428571428v2.250000000000057h-0.6628571428571428Z\" fill=\"#4c78a8\" fill-opacity=\"1\" stroke=\"#505050\" stroke-width=\"0\"/><path aria-label=\"x1: 22; x2: 23.9; level: 83; level2: 83.9; status: Default; sf: _typeinf(interp::Core.Compiler.NativeInterpreter, frame::Core.Compiler.InferenceState) at typeinfer.jl:226\" role=\"graphics-symbol\" aria-roledescription=\"rect mark\" d=\"M5.0285714285714285,190.25h0.43428571428571416v2.2499999999999716h-0.43428571428571416Z\" fill=\"#4c78a8\" fill-opacity=\"1\" stroke=\"#505050\" stroke-width=\"0\"/><path aria-label=\"x1: 22; x2: 23.9; level: 84; level2: 84.9; status: Default; sf: typeinf_nocycle(interp::Core.Compiler.NativeInterpreter, frame::Core.Compiler.InferenceState) at abstractinterpretation.jl:2014\" role=\"graphics-symbol\" aria-roledescription=\"rect mark\" d=\"M5.0285714285714285,187.75h0.43428571428571416v2.25h-0.43428571428571416Z\" fill=\"#4c78a8\" fill-opacity=\"1\" stroke=\"#505050\" stroke-width=\"0\"/><path aria-label=\"x1: 22; x2: 23.9; level: 85; level2: 85.9; status: Default; sf: typeinf_local(interp::Core.Compiler.NativeInterpreter, frame::Core.Compiler.InferenceState) at abstractinterpretation.jl:1918\" role=\"graphics-symbol\" aria-roledescription=\"rect mark\" d=\"M5.0285714285714285,185.25h0.43428571428571416v2.25h-0.43428571428571416Z\" fill=\"#4c78a8\" fill-opacity=\"1\" stroke=\"#505050\" stroke-width=\"0\"/><path aria-label=\"x1: 22; x2: 23.9; level: 86; level2: 86.9; status: Default; sf: abstract_eval_statement(interp::Core.Compiler.NativeInterpreter, e::Any, vtypes::Vector{Any}, sv::Core.Compiler.InferenceState) at abstractinterpretation.jl:1534\" role=\"graphics-symbol\" aria-roledescription=\"rect mark\" d=\"M5.0285714285714285,182.74999999999997h0.43428571428571416v2.2500000000000284h-0.43428571428571416Z\" fill=\"#4c78a8\" fill-opacity=\"1\" stroke=\"#505050\" stroke-width=\"0\"/><path aria-label=\"x1: 22; x2: 23.9; level: 87; level2: 87.9; status: Default; sf: abstract_call(interp::Core.Compiler.NativeInterpreter, fargs::Vector{Any}, argtypes::Vector{Any}, sv::Core.Compiler.InferenceState) at abstractinterpretation.jl:1382\" role=\"graphics-symbol\" aria-roledescription=\"rect mark\" d=\"M5.0285714285714285,180.24999999999997h0.43428571428571416v2.250000000000057h-0.43428571428571416Z\" fill=\"#4c78a8\" fill-opacity=\"1\" stroke=\"#505050\" stroke-width=\"0\"/><path aria-label=\"x1: 22; x2: 23.9; level: 88; level2: 88.9; status: Default; sf: abstract_call(interp::Core.Compiler.NativeInterpreter, fargs::Vector{Any}, argtypes::Vector{Any}, sv::Core.Compiler.InferenceState, max_methods::Int64) at abstractinterpretation.jl:1397\" role=\"graphics-symbol\" aria-roledescription=\"rect mark\" d=\"M5.0285714285714285,177.75h0.43428571428571416v2.2499999999999716h-0.43428571428571416Z\" fill=\"#4c78a8\" fill-opacity=\"1\" stroke=\"#505050\" stroke-width=\"0\"/><path aria-label=\"x1: 22; x2: 23.9; level: 89; level2: 89.9; status: Default; sf: abstract_call_known(interp::Core.Compiler.NativeInterpreter, f::Any, fargs::Vector{Any}, argtypes::Vector{Any}, sv::Core.Compiler.InferenceState, max_methods::Int64) at abstractinterpretation.jl:1342\" role=\"graphics-symbol\" aria-roledescription=\"rect mark\" d=\"M5.0285714285714285,175.25h0.43428571428571416v2.25h-0.43428571428571416Z\" fill=\"#4c78a8\" fill-opacity=\"1\" stroke=\"#505050\" stroke-width=\"0\"/><path aria-label=\"x1: 22; x2: 23.9; level: 90; level2: 90.9; status: Default; sf: abstract_call_gf_by_type(interp::Core.Compiler.NativeInterpreter, f::Any, fargs::Vector{Any}, argtypes::Vector{Any}, atype::Any, sv::Core.Compiler.InferenceState, max_methods::Int64) at abstractinterpretation.jl:113\" role=\"graphics-symbol\" aria-roledescription=\"rect mark\" d=\"M5.0285714285714285,172.75h0.43428571428571416v2.25h-0.43428571428571416Z\" fill=\"#4c78a8\" fill-opacity=\"1\" stroke=\"#505050\" stroke-width=\"0\"/><path aria-label=\"x1: 22; x2: 23.9; level: 91; level2: 91.9; status: Default; sf: abstract_call_method_with_const_args(interp::Core.Compiler.NativeInterpreter, result::Core.Compiler.MethodCallResult, f::Any, argtypes::Vector{Any}, match::Core.MethodMatch, sv::Core.Compiler.InferenceState, va_override::Bool) at abstractinterpretation.jl:557\" role=\"graphics-symbol\" aria-roledescription=\"rect mark\" d=\"M5.0285714285714285,170.24999999999997h0.43428571428571416v2.2500000000000284h-0.43428571428571416Z\" fill=\"#4c78a8\" fill-opacity=\"1\" stroke=\"#505050\" stroke-width=\"0\"/><path aria-label=\"x1: 22; x2: 23.9; level: 92; level2: 92.9; status: Default; sf: typeinf(interp::Core.Compiler.NativeInterpreter, frame::Core.Compiler.InferenceState) at typeinfer.jl:209\" role=\"graphics-symbol\" aria-roledescription=\"rect mark\" d=\"M5.0285714285714285,167.74999999999997h0.43428571428571416v2.250000000000057h-0.43428571428571416Z\" fill=\"#4c78a8\" fill-opacity=\"1\" stroke=\"#505050\" stroke-width=\"0\"/><path aria-label=\"x1: 22; x2: 22.9; level: 93; level2: 93.9; status: Default; sf: _typeinf(interp::Core.Compiler.NativeInterpreter, frame::Core.Compiler.InferenceState) at typeinfer.jl:226\" role=\"graphics-symbol\" aria-roledescription=\"rect mark\" d=\"M5.0285714285714285,165.25h0.20571428571428552v2.2499999999999716h-0.20571428571428552Z\" fill=\"#4c78a8\" fill-opacity=\"1\" stroke=\"#505050\" stroke-width=\"0\"/><path aria-label=\"x1: 22; x2: 22.9; level: 94; level2: 94.9; status: Default; sf: typeinf_nocycle(interp::Core.Compiler.NativeInterpreter, frame::Core.Compiler.InferenceState) at abstractinterpretation.jl:2014\" role=\"graphics-symbol\" aria-roledescription=\"rect mark\" d=\"M5.0285714285714285,162.75h0.20571428571428552v2.25h-0.20571428571428552Z\" fill=\"#4c78a8\" fill-opacity=\"1\" stroke=\"#505050\" stroke-width=\"0\"/><path aria-label=\"x1: 22; x2: 22.9; level: 95; level2: 95.9; status: Default; sf: typeinf_local(interp::Core.Compiler.NativeInterpreter, frame::Core.Compiler.InferenceState) at abstractinterpretation.jl:1918\" role=\"graphics-symbol\" aria-roledescription=\"rect mark\" d=\"M5.0285714285714285,160.25h0.20571428571428552v2.25h-0.20571428571428552Z\" fill=\"#4c78a8\" fill-opacity=\"1\" stroke=\"#505050\" stroke-width=\"0\"/><path aria-label=\"x1: 22; x2: 22.9; level: 96; level2: 96.9; status: Default; sf: abstract_eval_statement(interp::Core.Compiler.NativeInterpreter, e::Any, vtypes::Vector{Any}, sv::Core.Compiler.InferenceState) at abstractinterpretation.jl:1534\" role=\"graphics-symbol\" aria-roledescription=\"rect mark\" d=\"M5.0285714285714285,157.74999999999997h0.20571428571428552v2.2500000000000284h-0.20571428571428552Z\" fill=\"#4c78a8\" fill-opacity=\"1\" stroke=\"#505050\" stroke-width=\"0\"/><path aria-label=\"x1: 22; x2: 22.9; level: 97; level2: 97.9; status: Default; sf: abstract_call(interp::Core.Compiler.NativeInterpreter, fargs::Vector{Any}, argtypes::Vector{Any}, sv::Core.Compiler.InferenceState) at abstractinterpretation.jl:1382\" role=\"graphics-symbol\" aria-roledescription=\"rect mark\" d=\"M5.0285714285714285,155.24999999999997h0.20571428571428552v2.250000000000057h-0.20571428571428552Z\" fill=\"#4c78a8\" fill-opacity=\"1\" stroke=\"#505050\" stroke-width=\"0\"/><path aria-label=\"x1: 22; x2: 22.9; level: 98; level2: 98.9; status: Default; sf: abstract_call(interp::Core.Compiler.NativeInterpreter, fargs::Vector{Any}, argtypes::Vector{Any}, sv::Core.Compiler.InferenceState, max_methods::Int64) at abstractinterpretation.jl:1397\" role=\"graphics-symbol\" aria-roledescription=\"rect mark\" d=\"M5.0285714285714285,152.75h0.20571428571428552v2.2499999999999716h-0.20571428571428552Z\" fill=\"#4c78a8\" fill-opacity=\"1\" stroke=\"#505050\" stroke-width=\"0\"/><path aria-label=\"x1: 22; x2: 22.9; level: 99; level2: 99.9; status: Default; sf: abstract_call_known(interp::Core.Compiler.NativeInterpreter, f::Any, fargs::Vector{Any}, argtypes::Vector{Any}, sv::Core.Compiler.InferenceState, max_methods::Int64) at abstractinterpretation.jl:1342\" role=\"graphics-symbol\" aria-roledescription=\"rect mark\" d=\"M5.0285714285714285,150.25h0.20571428571428552v2.25h-0.20571428571428552Z\" fill=\"#4c78a8\" fill-opacity=\"1\" stroke=\"#505050\" stroke-width=\"0\"/><path aria-label=\"x1: 22; x2: 22.9; level: 100; level2: 100.9; status: Default; sf: abstract_call_gf_by_type(interp::Core.Compiler.NativeInterpreter, f::Any, fargs::Vector{Any}, argtypes::Vector{Any}, atype::Any, sv::Core.Compiler.InferenceState, max_methods::Int64) at abstractinterpretation.jl:113\" role=\"graphics-symbol\" aria-roledescription=\"rect mark\" d=\"M5.0285714285714285,147.75h0.20571428571428552v2.25h-0.20571428571428552Z\" fill=\"#4c78a8\" fill-opacity=\"1\" stroke=\"#505050\" stroke-width=\"0\"/><path aria-label=\"x1: 22; x2: 22.9; level: 101; level2: 101.9; status: Default; sf: abstract_call_method_with_const_args(interp::Core.Compiler.NativeInterpreter, result::Core.Compiler.MethodCallResult, f::Any, argtypes::Vector{Any}, match::Core.MethodMatch, sv::Core.Compiler.InferenceState, va_override::Bool) at abstractinterpretation.jl:557\" role=\"graphics-symbol\" aria-roledescription=\"rect mark\" d=\"M5.0285714285714285,145.24999999999997h0.20571428571428552v2.2500000000000284h-0.20571428571428552Z\" fill=\"#4c78a8\" fill-opacity=\"1\" stroke=\"#505050\" stroke-width=\"0\"/><path aria-label=\"x1: 22; x2: 22.9; level: 102; level2: 102.9; status: Default; sf: typeinf(interp::Core.Compiler.NativeInterpreter, frame::Core.Compiler.InferenceState) at typeinfer.jl:209\" role=\"graphics-symbol\" aria-roledescription=\"rect mark\" d=\"M5.0285714285714285,142.74999999999997h0.20571428571428552v2.250000000000057h-0.20571428571428552Z\" fill=\"#4c78a8\" fill-opacity=\"1\" stroke=\"#505050\" stroke-width=\"0\"/><path aria-label=\"x1: 22; x2: 22.9; level: 103; level2: 103.9; status: Default; sf: _typeinf(interp::Core.Compiler.NativeInterpreter, frame::Core.Compiler.InferenceState) at typeinfer.jl:226\" role=\"graphics-symbol\" aria-roledescription=\"rect mark\" d=\"M5.0285714285714285,140.25h0.20571428571428552v2.2499999999999716h-0.20571428571428552Z\" fill=\"#4c78a8\" fill-opacity=\"1\" stroke=\"#505050\" stroke-width=\"0\"/><path aria-label=\"x1: 22; x2: 22.9; level: 104; level2: 104.9; status: Default; sf: typeinf_nocycle(interp::Core.Compiler.NativeInterpreter, frame::Core.Compiler.InferenceState) at abstractinterpretation.jl:2014\" role=\"graphics-symbol\" aria-roledescription=\"rect mark\" d=\"M5.0285714285714285,137.75h0.20571428571428552v2.25h-0.20571428571428552Z\" fill=\"#4c78a8\" fill-opacity=\"1\" stroke=\"#505050\" stroke-width=\"0\"/><path aria-label=\"x1: 22; x2: 22.9; level: 105; level2: 105.9; status: Default; sf: typeinf_local(interp::Core.Compiler.NativeInterpreter, frame::Core.Compiler.InferenceState) at abstractinterpretation.jl:1918\" role=\"graphics-symbol\" aria-roledescription=\"rect mark\" d=\"M5.0285714285714285,135.25h0.20571428571428552v2.25h-0.20571428571428552Z\" fill=\"#4c78a8\" fill-opacity=\"1\" stroke=\"#505050\" stroke-width=\"0\"/><path aria-label=\"x1: 22; x2: 22.9; level: 106; level2: 106.9; status: Default; sf: abstract_eval_statement(interp::Core.Compiler.NativeInterpreter, e::Any, vtypes::Vector{Any}, sv::Core.Compiler.InferenceState) at abstractinterpretation.jl:1534\" role=\"graphics-symbol\" aria-roledescription=\"rect mark\" d=\"M5.0285714285714285,132.74999999999997h0.20571428571428552v2.2500000000000284h-0.20571428571428552Z\" fill=\"#4c78a8\" fill-opacity=\"1\" stroke=\"#505050\" stroke-width=\"0\"/><path aria-label=\"x1: 22; x2: 22.9; level: 107; level2: 107.9; status: Default; sf: abstract_call(interp::Core.Compiler.NativeInterpreter, fargs::Vector{Any}, argtypes::Vector{Any}, sv::Core.Compiler.InferenceState) at abstractinterpretation.jl:1382\" role=\"graphics-symbol\" aria-roledescription=\"rect mark\" d=\"M5.0285714285714285,130.24999999999997h0.20571428571428552v2.250000000000057h-0.20571428571428552Z\" fill=\"#4c78a8\" fill-opacity=\"1\" stroke=\"#505050\" stroke-width=\"0\"/><path aria-label=\"x1: 22; x2: 22.9; level: 108; level2: 108.9; status: Default; sf: abstract_call(interp::Core.Compiler.NativeInterpreter, fargs::Vector{Any}, argtypes::Vector{Any}, sv::Core.Compiler.InferenceState, max_methods::Int64) at abstractinterpretation.jl:1397\" role=\"graphics-symbol\" aria-roledescription=\"rect mark\" d=\"M5.0285714285714285,127.74999999999999h0.20571428571428552v2.249999999999986h-0.20571428571428552Z\" fill=\"#4c78a8\" fill-opacity=\"1\" stroke=\"#505050\" stroke-width=\"0\"/><path aria-label=\"x1: 22; x2: 22.9; level: 109; level2: 109.9; status: Default; sf: abstract_call_known(interp::Core.Compiler.NativeInterpreter, f::Any, fargs::Vector{Any}, argtypes::Vector{Any}, sv::Core.Compiler.InferenceState, max_methods::Int64) at abstractinterpretation.jl:1342\" role=\"graphics-symbol\" aria-roledescription=\"rect mark\" d=\"M5.0285714285714285,125.25h0.20571428571428552v2.249999999999986h-0.20571428571428552Z\" fill=\"#4c78a8\" fill-opacity=\"1\" stroke=\"#505050\" stroke-width=\"0\"/><path aria-label=\"x1: 22; x2: 22.9; level: 110; level2: 110.9; status: Default; sf: abstract_call_gf_by_type(interp::Core.Compiler.NativeInterpreter, f::Any, fargs::Vector{Any}, argtypes::Vector{Any}, atype::Any, sv::Core.Compiler.InferenceState, max_methods::Int64) at abstractinterpretation.jl:113\" role=\"graphics-symbol\" aria-roledescription=\"rect mark\" d=\"M5.0285714285714285,122.75h0.20571428571428552v2.25h-0.20571428571428552Z\" fill=\"#4c78a8\" fill-opacity=\"1\" stroke=\"#505050\" stroke-width=\"0\"/><path aria-label=\"x1: 22; x2: 22.9; level: 111; level2: 111.9; status: Default; sf: abstract_call_method_with_const_args(interp::Core.Compiler.NativeInterpreter, result::Core.Compiler.MethodCallResult, f::Any, argtypes::Vector{Any}, match::Core.MethodMatch, sv::Core.Compiler.InferenceState, va_override::Bool) at abstractinterpretation.jl:557\" role=\"graphics-symbol\" aria-roledescription=\"rect mark\" d=\"M5.0285714285714285,120.24999999999997h0.20571428571428552v2.2500000000000426h-0.20571428571428552Z\" fill=\"#4c78a8\" fill-opacity=\"1\" stroke=\"#505050\" stroke-width=\"0\"/><path aria-label=\"x1: 22; x2: 22.9; level: 112; level2: 112.9; status: Default; sf: typeinf(interp::Core.Compiler.NativeInterpreter, frame::Core.Compiler.InferenceState) at typeinfer.jl:209\" role=\"graphics-symbol\" aria-roledescription=\"rect mark\" d=\"M5.0285714285714285,117.74999999999997h0.20571428571428552v2.2500000000000426h-0.20571428571428552Z\" fill=\"#4c78a8\" fill-opacity=\"1\" stroke=\"#505050\" stroke-width=\"0\"/><path aria-label=\"x1: 22; x2: 22.9; level: 113; level2: 113.9; status: Default; sf: _typeinf(interp::Core.Compiler.NativeInterpreter, frame::Core.Compiler.InferenceState) at typeinfer.jl:226\" role=\"graphics-symbol\" aria-roledescription=\"rect mark\" d=\"M5.0285714285714285,115.24999999999999h0.20571428571428552v2.25h-0.20571428571428552Z\" fill=\"#4c78a8\" fill-opacity=\"1\" stroke=\"#505050\" stroke-width=\"0\"/><path aria-label=\"x1: 22; x2: 22.9; level: 114; level2: 114.9; status: Default; sf: typeinf_nocycle(interp::Core.Compiler.NativeInterpreter, frame::Core.Compiler.InferenceState) at abstractinterpretation.jl:2014\" role=\"graphics-symbol\" aria-roledescription=\"rect mark\" d=\"M5.0285714285714285,112.75h0.20571428571428552v2.249999999999986h-0.20571428571428552Z\" fill=\"#4c78a8\" fill-opacity=\"1\" stroke=\"#505050\" stroke-width=\"0\"/><path aria-label=\"x1: 22; x2: 22.9; level: 115; level2: 115.9; status: Default; sf: typeinf_local(interp::Core.Compiler.NativeInterpreter, frame::Core.Compiler.InferenceState) at abstractinterpretation.jl:1918\" role=\"graphics-symbol\" aria-roledescription=\"rect mark\" d=\"M5.0285714285714285,110.25h0.20571428571428552v2.25h-0.20571428571428552Z\" fill=\"#4c78a8\" fill-opacity=\"1\" stroke=\"#505050\" stroke-width=\"0\"/><path aria-label=\"x1: 22; x2: 22.9; level: 116; level2: 116.9; status: Default; sf: abstract_eval_statement(interp::Core.Compiler.NativeInterpreter, e::Any, vtypes::Vector{Any}, sv::Core.Compiler.InferenceState) at abstractinterpretation.jl:1534\" role=\"graphics-symbol\" aria-roledescription=\"rect mark\" d=\"M5.0285714285714285,107.74999999999997h0.20571428571428552v2.2500000000000426h-0.20571428571428552Z\" fill=\"#4c78a8\" fill-opacity=\"1\" stroke=\"#505050\" stroke-width=\"0\"/><path aria-label=\"x1: 22; x2: 22.9; level: 117; level2: 117.9; status: Default; sf: abstract_call(interp::Core.Compiler.NativeInterpreter, fargs::Vector{Any}, argtypes::Vector{Any}, sv::Core.Compiler.InferenceState) at abstractinterpretation.jl:1382\" role=\"graphics-symbol\" aria-roledescription=\"rect mark\" d=\"M5.0285714285714285,105.24999999999997h0.20571428571428552v2.2500000000000426h-0.20571428571428552Z\" fill=\"#4c78a8\" fill-opacity=\"1\" stroke=\"#505050\" stroke-width=\"0\"/><path aria-label=\"x1: 22; x2: 22.9; level: 118; level2: 118.9; status: Default; sf: abstract_call(interp::Core.Compiler.NativeInterpreter, fargs::Vector{Any}, argtypes::Vector{Any}, sv::Core.Compiler.InferenceState, max_methods::Int64) at abstractinterpretation.jl:1397\" role=\"graphics-symbol\" aria-roledescription=\"rect mark\" d=\"M5.0285714285714285,102.74999999999999h0.20571428571428552v2.25h-0.20571428571428552Z\" fill=\"#4c78a8\" fill-opacity=\"1\" stroke=\"#505050\" stroke-width=\"0\"/><path aria-label=\"x1: 22; x2: 22.9; level: 119; level2: 119.9; status: Default; sf: abstract_call_known(interp::Core.Compiler.NativeInterpreter, f::Any, fargs::Vector{Any}, argtypes::Vector{Any}, sv::Core.Compiler.InferenceState, max_methods::Int64) at abstractinterpretation.jl:1342\" role=\"graphics-symbol\" aria-roledescription=\"rect mark\" d=\"M5.0285714285714285,100.25h0.20571428571428552v2.249999999999986h-0.20571428571428552Z\" fill=\"#4c78a8\" fill-opacity=\"1\" stroke=\"#505050\" stroke-width=\"0\"/><path aria-label=\"x1: 22; x2: 22.9; level: 120; level2: 120.9; status: Default; sf: abstract_call_gf_by_type(interp::Core.Compiler.NativeInterpreter, f::Any, fargs::Vector{Any}, argtypes::Vector{Any}, atype::Any, sv::Core.Compiler.InferenceState, max_methods::Int64) at abstractinterpretation.jl:113\" role=\"graphics-symbol\" aria-roledescription=\"rect mark\" d=\"M5.0285714285714285,97.75h0.20571428571428552v2.25h-0.20571428571428552Z\" fill=\"#4c78a8\" fill-opacity=\"1\" stroke=\"#505050\" stroke-width=\"0\"/><path aria-label=\"x1: 22; x2: 22.9; level: 121; level2: 121.9; status: Default; sf: abstract_call_method_with_const_args(interp::Core.Compiler.NativeInterpreter, result::Core.Compiler.MethodCallResult, f::Any, argtypes::Vector{Any}, match::Core.MethodMatch, sv::Core.Compiler.InferenceState, va_override::Bool) at abstractinterpretation.jl:557\" role=\"graphics-symbol\" aria-roledescription=\"rect mark\" d=\"M5.0285714285714285,95.24999999999997h0.20571428571428552v2.2500000000000426h-0.20571428571428552Z\" fill=\"#4c78a8\" fill-opacity=\"1\" stroke=\"#505050\" stroke-width=\"0\"/><path aria-label=\"x1: 22; x2: 22.9; level: 122; level2: 122.9; status: Default; sf: typeinf(interp::Core.Compiler.NativeInterpreter, frame::Core.Compiler.InferenceState) at typeinfer.jl:209\" role=\"graphics-symbol\" aria-roledescription=\"rect mark\" d=\"M5.0285714285714285,92.74999999999997h0.20571428571428552v2.2500000000000426h-0.20571428571428552Z\" fill=\"#4c78a8\" fill-opacity=\"1\" stroke=\"#505050\" stroke-width=\"0\"/><path aria-label=\"x1: 22; x2: 22.9; level: 123; level2: 123.9; status: Default; sf: _typeinf(interp::Core.Compiler.NativeInterpreter, frame::Core.Compiler.InferenceState) at typeinfer.jl:226\" role=\"graphics-symbol\" aria-roledescription=\"rect mark\" d=\"M5.0285714285714285,90.24999999999999h0.20571428571428552v2.25h-0.20571428571428552Z\" fill=\"#4c78a8\" fill-opacity=\"1\" stroke=\"#505050\" stroke-width=\"0\"/><path aria-label=\"x1: 22; x2: 22.9; level: 124; level2: 124.9; status: Default; sf: typeinf_nocycle(interp::Core.Compiler.NativeInterpreter, frame::Core.Compiler.InferenceState) at abstractinterpretation.jl:2014\" role=\"graphics-symbol\" aria-roledescription=\"rect mark\" d=\"M5.0285714285714285,87.75h0.20571428571428552v2.249999999999986h-0.20571428571428552Z\" fill=\"#4c78a8\" fill-opacity=\"1\" stroke=\"#505050\" stroke-width=\"0\"/><path aria-label=\"x1: 22; x2: 22.9; level: 125; level2: 125.9; status: Default; sf: typeinf_local(interp::Core.Compiler.NativeInterpreter, frame::Core.Compiler.InferenceState) at abstractinterpretation.jl:1918\" role=\"graphics-symbol\" aria-roledescription=\"rect mark\" d=\"M5.0285714285714285,85.25h0.20571428571428552v2.25h-0.20571428571428552Z\" fill=\"#4c78a8\" fill-opacity=\"1\" stroke=\"#505050\" stroke-width=\"0\"/><path aria-label=\"x1: 22; x2: 22.9; level: 126; level2: 126.9; status: Default; sf: abstract_eval_statement(interp::Core.Compiler.NativeInterpreter, e::Any, vtypes::Vector{Any}, sv::Core.Compiler.InferenceState) at abstractinterpretation.jl:1534\" role=\"graphics-symbol\" aria-roledescription=\"rect mark\" d=\"M5.0285714285714285,82.74999999999997h0.20571428571428552v2.2500000000000426h-0.20571428571428552Z\" fill=\"#4c78a8\" fill-opacity=\"1\" stroke=\"#505050\" stroke-width=\"0\"/><path aria-label=\"x1: 22; x2: 22.9; level: 127; level2: 127.9; status: Default; sf: abstract_call(interp::Core.Compiler.NativeInterpreter, fargs::Vector{Any}, argtypes::Vector{Any}, sv::Core.Compiler.InferenceState) at abstractinterpretation.jl:1382\" role=\"graphics-symbol\" aria-roledescription=\"rect mark\" d=\"M5.0285714285714285,80.24999999999997h0.20571428571428552v2.2500000000000426h-0.20571428571428552Z\" fill=\"#4c78a8\" fill-opacity=\"1\" stroke=\"#505050\" stroke-width=\"0\"/><path aria-label=\"x1: 22; x2: 22.9; level: 128; level2: 128.9; status: Default; sf: abstract_call(interp::Core.Compiler.NativeInterpreter, fargs::Vector{Any}, argtypes::Vector{Any}, sv::Core.Compiler.InferenceState, max_methods::Int64) at abstractinterpretation.jl:1397\" role=\"graphics-symbol\" aria-roledescription=\"rect mark\" d=\"M5.0285714285714285,77.74999999999999h0.20571428571428552v2.25h-0.20571428571428552Z\" fill=\"#4c78a8\" fill-opacity=\"1\" stroke=\"#505050\" stroke-width=\"0\"/><path aria-label=\"x1: 22; x2: 22.9; level: 129; level2: 129.9; status: Default; sf: abstract_call_known(interp::Core.Compiler.NativeInterpreter, f::Any, fargs::Vector{Any}, argtypes::Vector{Any}, sv::Core.Compiler.InferenceState, max_methods::Int64) at abstractinterpretation.jl:1342\" role=\"graphics-symbol\" aria-roledescription=\"rect mark\" d=\"M5.0285714285714285,75.25h0.20571428571428552v2.249999999999986h-0.20571428571428552Z\" fill=\"#4c78a8\" fill-opacity=\"1\" stroke=\"#505050\" stroke-width=\"0\"/><path aria-label=\"x1: 22; x2: 22.9; level: 130; level2: 130.9; status: Default; sf: abstract_call_gf_by_type(interp::Core.Compiler.NativeInterpreter, f::Any, fargs::Vector{Any}, argtypes::Vector{Any}, atype::Any, sv::Core.Compiler.InferenceState, max_methods::Int64) at abstractinterpretation.jl:113\" role=\"graphics-symbol\" aria-roledescription=\"rect mark\" d=\"M5.0285714285714285,72.75h0.20571428571428552v2.25h-0.20571428571428552Z\" fill=\"#4c78a8\" fill-opacity=\"1\" stroke=\"#505050\" stroke-width=\"0\"/><path aria-label=\"x1: 22; x2: 22.9; level: 131; level2: 131.9; status: Default; sf: abstract_call_method_with_const_args(interp::Core.Compiler.NativeInterpreter, result::Core.Compiler.MethodCallResult, f::Any, argtypes::Vector{Any}, match::Core.MethodMatch, sv::Core.Compiler.InferenceState, va_override::Bool) at abstractinterpretation.jl:557\" role=\"graphics-symbol\" aria-roledescription=\"rect mark\" d=\"M5.0285714285714285,70.24999999999997h0.20571428571428552v2.2500000000000426h-0.20571428571428552Z\" fill=\"#4c78a8\" fill-opacity=\"1\" stroke=\"#505050\" stroke-width=\"0\"/><path aria-label=\"x1: 22; x2: 22.9; level: 132; level2: 132.9; status: Default; sf: typeinf(interp::Core.Compiler.NativeInterpreter, frame::Core.Compiler.InferenceState) at typeinfer.jl:209\" role=\"graphics-symbol\" aria-roledescription=\"rect mark\" d=\"M5.0285714285714285,67.74999999999997h0.20571428571428552v2.2500000000000426h-0.20571428571428552Z\" fill=\"#4c78a8\" fill-opacity=\"1\" stroke=\"#505050\" stroke-width=\"0\"/><path aria-label=\"x1: 22; x2: 22.9; level: 133; level2: 133.9; status: Default; sf: _typeinf(interp::Core.Compiler.NativeInterpreter, frame::Core.Compiler.InferenceState) at typeinfer.jl:226\" role=\"graphics-symbol\" aria-roledescription=\"rect mark\" d=\"M5.0285714285714285,65.24999999999999h0.20571428571428552v2.25h-0.20571428571428552Z\" fill=\"#4c78a8\" fill-opacity=\"1\" stroke=\"#505050\" stroke-width=\"0\"/><path aria-label=\"x1: 22; x2: 22.9; level: 134; level2: 134.9; status: Default; sf: typeinf_nocycle(interp::Core.Compiler.NativeInterpreter, frame::Core.Compiler.InferenceState) at abstractinterpretation.jl:2014\" role=\"graphics-symbol\" aria-roledescription=\"rect mark\" d=\"M5.0285714285714285,62.74999999999999h0.20571428571428552v2.249999999999993h-0.20571428571428552Z\" fill=\"#4c78a8\" fill-opacity=\"1\" stroke=\"#505050\" stroke-width=\"0\"/><path aria-label=\"x1: 22; x2: 22.9; level: 135; level2: 135.9; status: Default; sf: typeinf_local(interp::Core.Compiler.NativeInterpreter, frame::Core.Compiler.InferenceState) at abstractinterpretation.jl:1918\" role=\"graphics-symbol\" aria-roledescription=\"rect mark\" d=\"M5.0285714285714285,60.25h0.20571428571428552v2.25h-0.20571428571428552Z\" fill=\"#4c78a8\" fill-opacity=\"1\" stroke=\"#505050\" stroke-width=\"0\"/><path aria-label=\"x1: 22; x2: 22.9; level: 136; level2: 136.9; status: Default; sf: abstract_eval_statement(interp::Core.Compiler.NativeInterpreter, e::Any, vtypes::Vector{Any}, sv::Core.Compiler.InferenceState) at abstractinterpretation.jl:1534\" role=\"graphics-symbol\" aria-roledescription=\"rect mark\" d=\"M5.0285714285714285,57.74999999999997h0.20571428571428552v2.2500000000000355h-0.20571428571428552Z\" fill=\"#4c78a8\" fill-opacity=\"1\" stroke=\"#505050\" stroke-width=\"0\"/><path aria-label=\"x1: 22; x2: 22.9; level: 137; level2: 137.9; status: Default; sf: abstract_call(interp::Core.Compiler.NativeInterpreter, fargs::Vector{Any}, argtypes::Vector{Any}, sv::Core.Compiler.InferenceState) at abstractinterpretation.jl:1382\" role=\"graphics-symbol\" aria-roledescription=\"rect mark\" d=\"M5.0285714285714285,55.24999999999998h0.20571428571428552v2.2500000000000355h-0.20571428571428552Z\" fill=\"#4c78a8\" fill-opacity=\"1\" stroke=\"#505050\" stroke-width=\"0\"/><path aria-label=\"x1: 22; x2: 22.9; level: 138; level2: 138.9; status: Default; sf: abstract_call(interp::Core.Compiler.NativeInterpreter, fargs::Vector{Any}, argtypes::Vector{Any}, sv::Core.Compiler.InferenceState, max_methods::Int64) at abstractinterpretation.jl:1397\" role=\"graphics-symbol\" aria-roledescription=\"rect mark\" d=\"M5.0285714285714285,52.749999999999986h0.20571428571428552v2.25h-0.20571428571428552Z\" fill=\"#4c78a8\" fill-opacity=\"1\" stroke=\"#505050\" stroke-width=\"0\"/><path aria-label=\"x1: 22; x2: 22.9; level: 139; level2: 139.9; status: Default; sf: abstract_call_known(interp::Core.Compiler.NativeInterpreter, f::Any, fargs::Vector{Any}, argtypes::Vector{Any}, sv::Core.Compiler.InferenceState, max_methods::Int64) at abstractinterpretation.jl:1249\" role=\"graphics-symbol\" aria-roledescription=\"rect mark\" d=\"M5.0285714285714285,50.24999999999999h0.20571428571428552v2.25h-0.20571428571428552Z\" fill=\"#4c78a8\" fill-opacity=\"1\" stroke=\"#505050\" stroke-width=\"0\"/><path aria-label=\"x1: 22; x2: 22.9; level: 140; level2: 140.9; status: Default; sf: abstract_apply(interp::Core.Compiler.NativeInterpreter, argtypes::Vector{Any}, sv::Core.Compiler.InferenceState, max_methods::Int64) at abstractinterpretation.jl:987\" role=\"graphics-symbol\" aria-roledescription=\"rect mark\" d=\"M5.0285714285714285,47.75h0.20571428571428552v2.25h-0.20571428571428552Z\" fill=\"#4c78a8\" fill-opacity=\"1\" stroke=\"#505050\" stroke-width=\"0\"/><path aria-label=\"x1: 22; x2: 22.9; level: 141; level2: 141.9; status: Default; sf: abstract_call(interp::Core.Compiler.NativeInterpreter, fargs::Nothing, argtypes::Vector{Any}, sv::Core.Compiler.InferenceState, max_methods::Int64) at abstractinterpretation.jl:1397\" role=\"graphics-symbol\" aria-roledescription=\"rect mark\" d=\"M5.0285714285714285,45.24999999999997h0.20571428571428552v2.2500000000000355h-0.20571428571428552Z\" fill=\"#4c78a8\" fill-opacity=\"1\" stroke=\"#505050\" stroke-width=\"0\"/><path aria-label=\"x1: 22; x2: 22.9; level: 142; level2: 142.9; status: Default; sf: abstract_call_known(interp::Core.Compiler.NativeInterpreter, f::Any, fargs::Nothing, argtypes::Vector{Any}, sv::Core.Compiler.InferenceState, max_methods::Int64) at abstractinterpretation.jl:1342\" role=\"graphics-symbol\" aria-roledescription=\"rect mark\" d=\"M5.0285714285714285,42.74999999999998h0.20571428571428552v2.2500000000000355h-0.20571428571428552Z\" fill=\"#4c78a8\" fill-opacity=\"1\" stroke=\"#505050\" stroke-width=\"0\"/><path aria-label=\"x1: 22; x2: 22.9; level: 143; level2: 143.9; status: Default; sf: abstract_call_gf_by_type(interp::Core.Compiler.NativeInterpreter, f::Any, fargs::Nothing, argtypes::Vector{Any}, atype::Any, sv::Core.Compiler.InferenceState, max_methods::Int64) at abstractinterpretation.jl:105\" role=\"graphics-symbol\" aria-roledescription=\"rect mark\" d=\"M5.0285714285714285,40.249999999999986h0.20571428571428552v2.25h-0.20571428571428552Z\" fill=\"#4c78a8\" fill-opacity=\"1\" stroke=\"#505050\" stroke-width=\"0\"/><path aria-label=\"x1: 22; x2: 22.9; level: 144; level2: 144.9; status: Default; sf: abstract_call_method(interp::Core.Compiler.NativeInterpreter, method::Method, sig::Any, sparams::Core.SimpleVector, hardlimit::Bool, sv::Core.Compiler.InferenceState) at abstractinterpretation.jl:504\" role=\"graphics-symbol\" aria-roledescription=\"rect mark\" d=\"M5.0285714285714285,37.74999999999999h0.20571428571428552v2.25h-0.20571428571428552Z\" fill=\"#4c78a8\" fill-opacity=\"1\" stroke=\"#505050\" stroke-width=\"0\"/><path aria-label=\"x1: 22; x2: 22.9; level: 145; level2: 145.9; status: Default; sf: typeinf_edge at typeinfer.jl:781 [inlined]\" role=\"graphics-symbol\" aria-roledescription=\"rect mark\" d=\"M5.0285714285714285,35.25h0.20571428571428552v2.25h-0.20571428571428552Z\" fill=\"#4c78a8\" fill-opacity=\"1\" stroke=\"#505050\" stroke-width=\"0\"/><path aria-label=\"x1: 22; x2: 22.9; level: 146; level2: 146.9; status: Default; sf: get at cicache.jl:56 [inlined]\" role=\"graphics-symbol\" aria-roledescription=\"rect mark\" d=\"M5.0285714285714285,32.74999999999997h0.20571428571428552v2.2500000000000355h-0.20571428571428552Z\" fill=\"#4c78a8\" fill-opacity=\"1\" stroke=\"#505050\" stroke-width=\"0\"/><path aria-label=\"x1: 23; x2: 23.9; level: 93; level2: 93.9; status: Default; sf: _typeinf(interp::Core.Compiler.NativeInterpreter, frame::Core.Compiler.InferenceState) at typeinfer.jl:255\" role=\"graphics-symbol\" aria-roledescription=\"rect mark\" d=\"M5.257142857142857,165.25h0.20571428571428552v2.2499999999999716h-0.20571428571428552Z\" fill=\"#4c78a8\" fill-opacity=\"1\" stroke=\"#505050\" stroke-width=\"0\"/><path aria-label=\"x1: 23; x2: 23.9; level: 94; level2: 94.9; status: Default; sf: optimize at optimize.jl:296 [inlined]\" role=\"graphics-symbol\" aria-roledescription=\"rect mark\" d=\"M5.257142857142857,162.75h0.20571428571428552v2.25h-0.20571428571428552Z\" fill=\"#4c78a8\" fill-opacity=\"1\" stroke=\"#505050\" stroke-width=\"0\"/><path aria-label=\"x1: 23; x2: 23.9; level: 95; level2: 95.9; status: Default; sf: run_passes(ci::Core.CodeInfo, nargs::Int64, sv::Core.Compiler.OptimizationState) at optimize.jl:309\" role=\"graphics-symbol\" aria-roledescription=\"rect mark\" d=\"M5.257142857142857,160.25h0.20571428571428552v2.25h-0.20571428571428552Z\" fill=\"#4c78a8\" fill-opacity=\"1\" stroke=\"#505050\" stroke-width=\"0\"/><path aria-label=\"x1: 23; x2: 23.9; level: 96; level2: 96.9; status: Default; sf: compact! at ir.jl:1441 [inlined]\" role=\"graphics-symbol\" aria-roledescription=\"rect mark\" d=\"M5.257142857142857,157.74999999999997h0.20571428571428552v2.2500000000000284h-0.20571428571428552Z\" fill=\"#4c78a8\" fill-opacity=\"1\" stroke=\"#505050\" stroke-width=\"0\"/><path aria-label=\"x1: 23; x2: 23.9; level: 97; level2: 97.9; status: Default; sf: compact!(code::Core.Compiler.IRCode, allow_cfg_transforms::Bool) at ir.jl:1441\" role=\"graphics-symbol\" aria-roledescription=\"rect mark\" d=\"M5.257142857142857,155.24999999999997h0.20571428571428552v2.250000000000057h-0.20571428571428552Z\" fill=\"#4c78a8\" fill-opacity=\"1\" stroke=\"#505050\" stroke-width=\"0\"/><path aria-label=\"x1: 23; x2: 23.9; level: 98; level2: 98.9; status: Default; sf: Core.Compiler.IncrementalCompact(code::Core.Compiler.IRCode, allow_cfg_transforms::Bool) at ir.jl:620\" role=\"graphics-symbol\" aria-roledescription=\"rect mark\" d=\"M5.257142857142857,152.75h0.20571428571428552v2.2499999999999716h-0.20571428571428552Z\" fill=\"#4c78a8\" fill-opacity=\"1\" stroke=\"#505050\" stroke-width=\"0\"/><path aria-label=\"x1: 23; x2: 23.9; level: 99; level2: 99.9; status: Default; sf: NewNodeStream at ir.jl:269 [inlined]\" role=\"graphics-symbol\" aria-roledescription=\"rect mark\" d=\"M5.257142857142857,150.25h0.20571428571428552v2.25h-0.20571428571428552Z\" fill=\"#4c78a8\" fill-opacity=\"1\" stroke=\"#505050\" stroke-width=\"0\"/><path aria-label=\"x1: 23; x2: 23.9; level: 100; level2: 100.9; status: Default; sf: NewNodeStream at ir.jl:269 [inlined]\" role=\"graphics-symbol\" aria-roledescription=\"rect mark\" d=\"M5.257142857142857,147.75h0.20571428571428552v2.25h-0.20571428571428552Z\" fill=\"#4c78a8\" fill-opacity=\"1\" stroke=\"#505050\" stroke-width=\"0\"/><path aria-label=\"x1: 23; x2: 23.9; level: 101; level2: 101.9; status: Default; sf: Core.Compiler.InstructionStream(len::Int64) at ir.jl:192\" role=\"graphics-symbol\" aria-roledescription=\"rect mark\" d=\"M5.257142857142857,145.24999999999997h0.20571428571428552v2.2500000000000284h-0.20571428571428552Z\" fill=\"#4c78a8\" fill-opacity=\"1\" stroke=\"#505050\" stroke-width=\"0\"/><path aria-label=\"x1: 23; x2: 23.9; level: 102; level2: 102.9; status: Default; sf: Array at boot.jl:471 [inlined]\" role=\"graphics-symbol\" aria-roledescription=\"rect mark\" d=\"M5.257142857142857,142.74999999999997h0.20571428571428552v2.250000000000057h-0.20571428571428552Z\" fill=\"#4c78a8\" fill-opacity=\"1\" stroke=\"#505050\" stroke-width=\"0\"/><path aria-label=\"x1: 23; x2: 23.9; level: 103; level2: 103.9; status: Default; sf: Array at boot.jl:457 [inlined]\" role=\"graphics-symbol\" aria-roledescription=\"rect mark\" d=\"M5.257142857142857,140.25h0.20571428571428552v2.2499999999999716h-0.20571428571428552Z\" fill=\"#4c78a8\" fill-opacity=\"1\" stroke=\"#505050\" stroke-width=\"0\"/><path aria-label=\"x1: 24; x2: 24.9; level: 83; level2: 83.9; status: Default; sf: _typeinf(interp::Core.Compiler.NativeInterpreter, frame::Core.Compiler.InferenceState) at typeinfer.jl:255\" role=\"graphics-symbol\" aria-roledescription=\"rect mark\" d=\"M5.485714285714286,190.25h0.20571428571428552v2.2499999999999716h-0.20571428571428552Z\" fill=\"#4c78a8\" fill-opacity=\"1\" stroke=\"#505050\" stroke-width=\"0\"/><path aria-label=\"x1: 24; x2: 24.9; level: 84; level2: 84.9; status: Default; sf: optimize at optimize.jl:296 [inlined]\" role=\"graphics-symbol\" aria-roledescription=\"rect mark\" d=\"M5.485714285714286,187.75h0.20571428571428552v2.25h-0.20571428571428552Z\" fill=\"#4c78a8\" fill-opacity=\"1\" stroke=\"#505050\" stroke-width=\"0\"/><path aria-label=\"x1: 24; x2: 24.9; level: 85; level2: 85.9; status: Default; sf: run_passes(ci::Core.CodeInfo, nargs::Int64, sv::Core.Compiler.OptimizationState) at optimize.jl:314\" role=\"graphics-symbol\" aria-roledescription=\"rect mark\" d=\"M5.485714285714286,185.25h0.20571428571428552v2.25h-0.20571428571428552Z\" fill=\"#4c78a8\" fill-opacity=\"1\" stroke=\"#505050\" stroke-width=\"0\"/><path aria-label=\"x1: 24; x2: 24.9; level: 86; level2: 86.9; status: Default; sf: adce_pass!(ir::Core.Compiler.IRCode) at passes.jl:898\" role=\"graphics-symbol\" aria-roledescription=\"rect mark\" d=\"M5.485714285714286,182.74999999999997h0.20571428571428552v2.2500000000000284h-0.20571428571428552Z\" fill=\"#4c78a8\" fill-opacity=\"1\" stroke=\"#505050\" stroke-width=\"0\"/><path aria-label=\"x1: 24; x2: 24.9; level: 87; level2: 87.9; status: Default; sf: IncrementalCompact at ir.jl:575 [inlined]\" role=\"graphics-symbol\" aria-roledescription=\"rect mark\" d=\"M5.485714285714286,180.24999999999997h0.20571428571428552v2.250000000000057h-0.20571428571428552Z\" fill=\"#4c78a8\" fill-opacity=\"1\" stroke=\"#505050\" stroke-width=\"0\"/><path aria-label=\"x1: 24; x2: 24.9; level: 88; level2: 88.9; status: Default; sf: Core.Compiler.IncrementalCompact(code::Core.Compiler.IRCode, allow_cfg_transforms::Bool) at ir.jl:620\" role=\"graphics-symbol\" aria-roledescription=\"rect mark\" d=\"M5.485714285714286,177.75h0.20571428571428552v2.2499999999999716h-0.20571428571428552Z\" fill=\"#4c78a8\" fill-opacity=\"1\" stroke=\"#505050\" stroke-width=\"0\"/><path aria-label=\"x1: 24; x2: 24.9; level: 89; level2: 89.9; status: Default; sf: NewNodeStream at ir.jl:269 [inlined]\" role=\"graphics-symbol\" aria-roledescription=\"rect mark\" d=\"M5.485714285714286,175.25h0.20571428571428552v2.25h-0.20571428571428552Z\" fill=\"#4c78a8\" fill-opacity=\"1\" stroke=\"#505050\" stroke-width=\"0\"/><path aria-label=\"x1: 24; x2: 24.9; level: 90; level2: 90.9; status: Default; sf: NewNodeStream at ir.jl:269 [inlined]\" role=\"graphics-symbol\" aria-roledescription=\"rect mark\" d=\"M5.485714285714286,172.75h0.20571428571428552v2.25h-0.20571428571428552Z\" fill=\"#4c78a8\" fill-opacity=\"1\" stroke=\"#505050\" stroke-width=\"0\"/><path aria-label=\"x1: 24; x2: 24.9; level: 91; level2: 91.9; status: Default; sf: Core.Compiler.InstructionStream(len::Int64) at ir.jl:193\" role=\"graphics-symbol\" aria-roledescription=\"rect mark\" d=\"M5.485714285714286,170.24999999999997h0.20571428571428552v2.2500000000000284h-0.20571428571428552Z\" fill=\"#4c78a8\" fill-opacity=\"1\" stroke=\"#505050\" stroke-width=\"0\"/><path aria-label=\"x1: 24; x2: 24.9; level: 92; level2: 92.9; status: Default; sf: Array at boot.jl:471 [inlined]\" role=\"graphics-symbol\" aria-roledescription=\"rect mark\" d=\"M5.485714285714286,167.74999999999997h0.20571428571428552v2.250000000000057h-0.20571428571428552Z\" fill=\"#4c78a8\" fill-opacity=\"1\" stroke=\"#505050\" stroke-width=\"0\"/><path aria-label=\"x1: 24; x2: 24.9; level: 93; level2: 93.9; status: Default; sf: Array at boot.jl:457 [inlined]\" role=\"graphics-symbol\" aria-roledescription=\"rect mark\" d=\"M5.485714285714286,165.25h0.20571428571428552v2.2499999999999716h-0.20571428571428552Z\" fill=\"#4c78a8\" fill-opacity=\"1\" stroke=\"#505050\" stroke-width=\"0\"/><path aria-label=\"x1: 25; x2: 29.9; level: 65; level2: 65.9; status: Default; sf: typeinf_local(interp::Core.Compiler.NativeInterpreter, frame::Core.Compiler.InferenceState) at abstractinterpretation.jl:1918\" role=\"graphics-symbol\" aria-roledescription=\"rect mark\" d=\"M5.714285714285714,235.25h1.1199999999999992v2.25h-1.1199999999999992Z\" fill=\"#4c78a8\" fill-opacity=\"1\" stroke=\"#505050\" stroke-width=\"0\"/><path aria-label=\"x1: 25; x2: 28.9; level: 66; level2: 66.9; status: Default; sf: abstract_eval_statement(interp::Core.Compiler.NativeInterpreter, e::Any, vtypes::Vector{Any}, sv::Core.Compiler.InferenceState) at abstractinterpretation.jl:1534\" role=\"graphics-symbol\" aria-roledescription=\"rect mark\" d=\"M5.714285714285714,232.74999999999997h0.8914285714285715v2.2500000000000284h-0.8914285714285715Z\" fill=\"#4c78a8\" fill-opacity=\"1\" stroke=\"#505050\" stroke-width=\"0\"/><path aria-label=\"x1: 25; x2: 28.9; level: 67; level2: 67.9; status: Default; sf: abstract_call(interp::Core.Compiler.NativeInterpreter, fargs::Vector{Any}, argtypes::Vector{Any}, sv::Core.Compiler.InferenceState) at abstractinterpretation.jl:1382\" role=\"graphics-symbol\" aria-roledescription=\"rect mark\" d=\"M5.714285714285714,230.24999999999997h0.8914285714285715v2.250000000000057h-0.8914285714285715Z\" fill=\"#4c78a8\" fill-opacity=\"1\" stroke=\"#505050\" stroke-width=\"0\"/><path aria-label=\"x1: 25; x2: 28.9; level: 68; level2: 68.9; status: Default; sf: abstract_call(interp::Core.Compiler.NativeInterpreter, fargs::Vector{Any}, argtypes::Vector{Any}, sv::Core.Compiler.InferenceState, max_methods::Int64) at abstractinterpretation.jl:1397\" role=\"graphics-symbol\" aria-roledescription=\"rect mark\" d=\"M5.714285714285714,227.75h0.8914285714285715v2.2499999999999716h-0.8914285714285715Z\" fill=\"#4c78a8\" fill-opacity=\"1\" stroke=\"#505050\" stroke-width=\"0\"/><path aria-label=\"x1: 25; x2: 28.9; level: 69; level2: 69.9; status: Default; sf: abstract_call_known(interp::Core.Compiler.NativeInterpreter, f::Any, fargs::Vector{Any}, argtypes::Vector{Any}, sv::Core.Compiler.InferenceState, max_methods::Int64) at abstractinterpretation.jl:1342\" role=\"graphics-symbol\" aria-roledescription=\"rect mark\" d=\"M5.714285714285714,225.25h0.8914285714285715v2.25h-0.8914285714285715Z\" fill=\"#4c78a8\" fill-opacity=\"1\" stroke=\"#505050\" stroke-width=\"0\"/><path aria-label=\"x1: 25; x2: 28.9; level: 70; level2: 70.9; status: Default; sf: abstract_call_gf_by_type(interp::Core.Compiler.NativeInterpreter, f::Any, fargs::Vector{Any}, argtypes::Vector{Any}, atype::Any, sv::Core.Compiler.InferenceState, max_methods::Int64) at abstractinterpretation.jl:113\" role=\"graphics-symbol\" aria-roledescription=\"rect mark\" d=\"M5.714285714285714,222.75h0.8914285714285715v2.25h-0.8914285714285715Z\" fill=\"#4c78a8\" fill-opacity=\"1\" stroke=\"#505050\" stroke-width=\"0\"/><path aria-label=\"x1: 25; x2: 25.9; level: 71; level2: 71.9; status: Default; sf: abstract_call_method_with_const_args(interp::Core.Compiler.NativeInterpreter, result::Core.Compiler.MethodCallResult, f::Any, argtypes::Vector{Any}, match::Core.MethodMatch, sv::Core.Compiler.InferenceState, va_override::Bool) at abstractinterpretation.jl:548\" role=\"graphics-symbol\" aria-roledescription=\"rect mark\" d=\"M5.714285714285714,220.24999999999997h0.20571428571428552v2.2500000000000284h-0.20571428571428552Z\" fill=\"#4c78a8\" fill-opacity=\"1\" stroke=\"#505050\" stroke-width=\"0\"/><path aria-label=\"x1: 25; x2: 25.9; level: 72; level2: 72.9; status: Default; sf: InferenceResult at types.jl:33 [inlined]\" role=\"graphics-symbol\" aria-roledescription=\"rect mark\" d=\"M5.714285714285714,217.74999999999997h0.20571428571428552v2.250000000000057h-0.20571428571428552Z\" fill=\"#4c78a8\" fill-opacity=\"1\" stroke=\"#505050\" stroke-width=\"0\"/><path aria-label=\"x1: 25; x2: 25.9; level: 73; level2: 73.9; status: Default; sf: matching_cache_argtypes(linfo::Core.MethodInstance, given_argtypes::Vector{Any}, va_override::Bool) at inferenceresult.jl:37\" role=\"graphics-symbol\" aria-roledescription=\"rect mark\" d=\"M5.714285714285714,215.25h0.20571428571428552v2.2499999999999716h-0.20571428571428552Z\" fill=\"#4c78a8\" fill-opacity=\"1\" stroke=\"#505050\" stroke-width=\"0\"/><path aria-label=\"x1: 25; x2: 25.9; level: 74; level2: 74.9; status: Runtime dispatch; sf: matching_cache_argtypes(linfo::Core.MethodInstance, #unused#::Nothing, va_override::Bool) at inferenceresult.jl:152\" role=\"graphics-symbol\" aria-roledescription=\"rect mark\" d=\"M5.714285714285714,212.75h0.20571428571428552v2.25h-0.20571428571428552Z\" fill=\"#e45756\" fill-opacity=\"1\" stroke=\"#505050\" stroke-width=\"0\"/><path aria-label=\"x1: 25; x2: 25.9; level: 75; level2: 75.9; status: Default; sf: most_general_argtypes(method::Method, specTypes::Any, isva::Bool) at inferenceresult.jl:52\" role=\"graphics-symbol\" aria-roledescription=\"rect mark\" d=\"M5.714285714285714,210.25h0.20571428571428552v2.25h-0.20571428571428552Z\" fill=\"#4c78a8\" fill-opacity=\"1\" stroke=\"#505050\" stroke-width=\"0\"/><path aria-label=\"x1: 25; x2: 25.9; level: 76; level2: 76.9; status: Runtime dispatch; sf: most_general_argtypes(method::Method, specTypes::Any, isva::Bool, withfirst::Bool) at inferenceresult.jl:53\" role=\"graphics-symbol\" aria-roledescription=\"rect mark\" d=\"M5.714285714285714,207.74999999999997h0.20571428571428552v2.2500000000000284h-0.20571428571428552Z\" fill=\"#e45756\" fill-opacity=\"1\" stroke=\"#505050\" stroke-width=\"0\"/><path aria-label=\"x1: 26; x2: 28.9; level: 71; level2: 71.9; status: Default; sf: abstract_call_method_with_const_args(interp::Core.Compiler.NativeInterpreter, result::Core.Compiler.MethodCallResult, f::Any, argtypes::Vector{Any}, match::Core.MethodMatch, sv::Core.Compiler.InferenceState, va_override::Bool) at abstractinterpretation.jl:557\" role=\"graphics-symbol\" aria-roledescription=\"rect mark\" d=\"M5.942857142857143,220.24999999999997h0.6628571428571428v2.2500000000000284h-0.6628571428571428Z\" fill=\"#4c78a8\" fill-opacity=\"1\" stroke=\"#505050\" stroke-width=\"0\"/><path aria-label=\"x1: 26; x2: 28.9; level: 72; level2: 72.9; status: Default; sf: typeinf(interp::Core.Compiler.NativeInterpreter, frame::Core.Compiler.InferenceState) at typeinfer.jl:209\" role=\"graphics-symbol\" aria-roledescription=\"rect mark\" d=\"M5.942857142857143,217.74999999999997h0.6628571428571428v2.250000000000057h-0.6628571428571428Z\" fill=\"#4c78a8\" fill-opacity=\"1\" stroke=\"#505050\" stroke-width=\"0\"/><path aria-label=\"x1: 26; x2: 26.9; level: 73; level2: 73.9; status: Default; sf: _typeinf(interp::Core.Compiler.NativeInterpreter, frame::Core.Compiler.InferenceState) at typeinfer.jl:226\" role=\"graphics-symbol\" aria-roledescription=\"rect mark\" d=\"M5.942857142857143,215.25h0.20571428571428552v2.2499999999999716h-0.20571428571428552Z\" fill=\"#4c78a8\" fill-opacity=\"1\" stroke=\"#505050\" stroke-width=\"0\"/><path aria-label=\"x1: 26; x2: 26.9; level: 74; level2: 74.9; status: Default; sf: typeinf_nocycle(interp::Core.Compiler.NativeInterpreter, frame::Core.Compiler.InferenceState) at abstractinterpretation.jl:2014\" role=\"graphics-symbol\" aria-roledescription=\"rect mark\" d=\"M5.942857142857143,212.75h0.20571428571428552v2.25h-0.20571428571428552Z\" fill=\"#4c78a8\" fill-opacity=\"1\" stroke=\"#505050\" stroke-width=\"0\"/><path aria-label=\"x1: 26; x2: 26.9; level: 75; level2: 75.9; status: Default; sf: typeinf_local(interp::Core.Compiler.NativeInterpreter, frame::Core.Compiler.InferenceState) at abstractinterpretation.jl:1918\" role=\"graphics-symbol\" aria-roledescription=\"rect mark\" d=\"M5.942857142857143,210.25h0.20571428571428552v2.25h-0.20571428571428552Z\" fill=\"#4c78a8\" fill-opacity=\"1\" stroke=\"#505050\" stroke-width=\"0\"/><path aria-label=\"x1: 26; x2: 26.9; level: 76; level2: 76.9; status: Default; sf: abstract_eval_statement(interp::Core.Compiler.NativeInterpreter, e::Any, vtypes::Vector{Any}, sv::Core.Compiler.InferenceState) at abstractinterpretation.jl:1534\" role=\"graphics-symbol\" aria-roledescription=\"rect mark\" d=\"M5.942857142857143,207.74999999999997h0.20571428571428552v2.2500000000000284h-0.20571428571428552Z\" fill=\"#4c78a8\" fill-opacity=\"1\" stroke=\"#505050\" stroke-width=\"0\"/><path aria-label=\"x1: 26; x2: 26.9; level: 77; level2: 77.9; status: Default; sf: abstract_call(interp::Core.Compiler.NativeInterpreter, fargs::Vector{Any}, argtypes::Vector{Any}, sv::Core.Compiler.InferenceState) at abstractinterpretation.jl:1382\" role=\"graphics-symbol\" aria-roledescription=\"rect mark\" d=\"M5.942857142857143,205.24999999999997h0.20571428571428552v2.250000000000057h-0.20571428571428552Z\" fill=\"#4c78a8\" fill-opacity=\"1\" stroke=\"#505050\" stroke-width=\"0\"/><path aria-label=\"x1: 26; x2: 26.9; level: 78; level2: 78.9; status: Default; sf: abstract_call(interp::Core.Compiler.NativeInterpreter, fargs::Vector{Any}, argtypes::Vector{Any}, sv::Core.Compiler.InferenceState, max_methods::Int64) at abstractinterpretation.jl:1397\" role=\"graphics-symbol\" aria-roledescription=\"rect mark\" d=\"M5.942857142857143,202.75h0.20571428571428552v2.2499999999999716h-0.20571428571428552Z\" fill=\"#4c78a8\" fill-opacity=\"1\" stroke=\"#505050\" stroke-width=\"0\"/><path aria-label=\"x1: 26; x2: 26.9; level: 79; level2: 79.9; status: Default; sf: abstract_call_known(interp::Core.Compiler.NativeInterpreter, f::Any, fargs::Vector{Any}, argtypes::Vector{Any}, sv::Core.Compiler.InferenceState, max_methods::Int64) at abstractinterpretation.jl:1342\" role=\"graphics-symbol\" aria-roledescription=\"rect mark\" d=\"M5.942857142857143,200.25h0.20571428571428552v2.25h-0.20571428571428552Z\" fill=\"#4c78a8\" fill-opacity=\"1\" stroke=\"#505050\" stroke-width=\"0\"/><path aria-label=\"x1: 26; x2: 26.9; level: 80; level2: 80.9; status: Default; sf: abstract_call_gf_by_type(interp::Core.Compiler.NativeInterpreter, f::Any, fargs::Vector{Any}, argtypes::Vector{Any}, atype::Any, sv::Core.Compiler.InferenceState, max_methods::Int64) at abstractinterpretation.jl:113\" role=\"graphics-symbol\" aria-roledescription=\"rect mark\" d=\"M5.942857142857143,197.75h0.20571428571428552v2.25h-0.20571428571428552Z\" fill=\"#4c78a8\" fill-opacity=\"1\" stroke=\"#505050\" stroke-width=\"0\"/><path aria-label=\"x1: 26; x2: 26.9; level: 81; level2: 81.9; status: Default; sf: abstract_call_method_with_const_args(interp::Core.Compiler.NativeInterpreter, result::Core.Compiler.MethodCallResult, f::Any, argtypes::Vector{Any}, match::Core.MethodMatch, sv::Core.Compiler.InferenceState, va_override::Bool) at abstractinterpretation.jl:557\" role=\"graphics-symbol\" aria-roledescription=\"rect mark\" d=\"M5.942857142857143,195.24999999999997h0.20571428571428552v2.2500000000000284h-0.20571428571428552Z\" fill=\"#4c78a8\" fill-opacity=\"1\" stroke=\"#505050\" stroke-width=\"0\"/><path aria-label=\"x1: 26; x2: 26.9; level: 82; level2: 82.9; status: Default; sf: typeinf(interp::Core.Compiler.NativeInterpreter, frame::Core.Compiler.InferenceState) at typeinfer.jl:209\" role=\"graphics-symbol\" aria-roledescription=\"rect mark\" d=\"M5.942857142857143,192.74999999999997h0.20571428571428552v2.250000000000057h-0.20571428571428552Z\" fill=\"#4c78a8\" fill-opacity=\"1\" stroke=\"#505050\" stroke-width=\"0\"/><path aria-label=\"x1: 26; x2: 26.9; level: 83; level2: 83.9; status: Default; sf: _typeinf(interp::Core.Compiler.NativeInterpreter, frame::Core.Compiler.InferenceState) at typeinfer.jl:255\" role=\"graphics-symbol\" aria-roledescription=\"rect mark\" d=\"M5.942857142857143,190.25h0.20571428571428552v2.2499999999999716h-0.20571428571428552Z\" fill=\"#4c78a8\" fill-opacity=\"1\" stroke=\"#505050\" stroke-width=\"0\"/><path aria-label=\"x1: 26; x2: 26.9; level: 84; level2: 84.9; status: Default; sf: optimize at optimize.jl:296 [inlined]\" role=\"graphics-symbol\" aria-roledescription=\"rect mark\" d=\"M5.942857142857143,187.75h0.20571428571428552v2.25h-0.20571428571428552Z\" fill=\"#4c78a8\" fill-opacity=\"1\" stroke=\"#505050\" stroke-width=\"0\"/><path aria-label=\"x1: 26; x2: 26.9; level: 85; level2: 85.9; status: Default; sf: run_passes(ci::Core.CodeInfo, nargs::Int64, sv::Core.Compiler.OptimizationState) at optimize.jl:303\" role=\"graphics-symbol\" aria-roledescription=\"rect mark\" d=\"M5.942857142857143,185.25h0.20571428571428552v2.25h-0.20571428571428552Z\" fill=\"#4c78a8\" fill-opacity=\"1\" stroke=\"#505050\" stroke-width=\"0\"/><path aria-label=\"x1: 26; x2: 26.9; level: 86; level2: 86.9; status: Default; sf: slot2reg at optimize.jl:419 [inlined]\" role=\"graphics-symbol\" aria-roledescription=\"rect mark\" d=\"M5.942857142857143,182.74999999999997h0.20571428571428552v2.2500000000000284h-0.20571428571428552Z\" fill=\"#4c78a8\" fill-opacity=\"1\" stroke=\"#505050\" stroke-width=\"0\"/><path aria-label=\"x1: 26; x2: 26.9; level: 87; level2: 87.9; status: Default; sf: construct_ssa!(ci::Core.CodeInfo, ir::Core.Compiler.IRCode, domtree::Core.Compiler.DomTree, defuses::Vector{Core.Compiler.SlotInfo}, nargs::Int64, slottypes::Vector{Any}) at slot2ssa.jl:651\" role=\"graphics-symbol\" aria-roledescription=\"rect mark\" d=\"M5.942857142857143,180.24999999999997h0.20571428571428552v2.250000000000057h-0.20571428571428552Z\" fill=\"#4c78a8\" fill-opacity=\"1\" stroke=\"#505050\" stroke-width=\"0\"/><path aria-label=\"x1: 26; x2: 26.9; level: 88; level2: 88.9; status: Default; sf: idf(cfg::Core.Compiler.CFG, liveness::Core.Compiler.BlockLiveness, domtree::Core.Compiler.DomTree) at slot2ssa.jl:269\" role=\"graphics-symbol\" aria-roledescription=\"rect mark\" d=\"M5.942857142857143,177.75h0.20571428571428552v2.2499999999999716h-0.20571428571428552Z\" fill=\"#4c78a8\" fill-opacity=\"1\" stroke=\"#505050\" stroke-width=\"0\"/><path aria-label=\"x1: 26; x2: 26.9; level: 89; level2: 89.9; status: Default; sf: _array_for at array.jl:616 [inlined]\" role=\"graphics-symbol\" aria-roledescription=\"rect mark\" d=\"M5.942857142857143,175.25h0.20571428571428552v2.25h-0.20571428571428552Z\" fill=\"#4c78a8\" fill-opacity=\"1\" stroke=\"#505050\" stroke-width=\"0\"/><path aria-label=\"x1: 26; x2: 26.9; level: 90; level2: 90.9; status: Default; sf: _array_for at array.jl:613 [inlined]\" role=\"graphics-symbol\" aria-roledescription=\"rect mark\" d=\"M5.942857142857143,172.75h0.20571428571428552v2.25h-0.20571428571428552Z\" fill=\"#4c78a8\" fill-opacity=\"1\" stroke=\"#505050\" stroke-width=\"0\"/><path aria-label=\"x1: 26; x2: 26.9; level: 91; level2: 91.9; status: Default; sf: similar at abstractarray.jl:828 [inlined]\" role=\"graphics-symbol\" aria-roledescription=\"rect mark\" d=\"M5.942857142857143,170.24999999999997h0.20571428571428552v2.2500000000000284h-0.20571428571428552Z\" fill=\"#4c78a8\" fill-opacity=\"1\" stroke=\"#505050\" stroke-width=\"0\"/><path aria-label=\"x1: 26; x2: 26.9; level: 92; level2: 92.9; status: Default; sf: similar at abstractarray.jl:829 [inlined]\" role=\"graphics-symbol\" aria-roledescription=\"rect mark\" d=\"M5.942857142857143,167.74999999999997h0.20571428571428552v2.250000000000057h-0.20571428571428552Z\" fill=\"#4c78a8\" fill-opacity=\"1\" stroke=\"#505050\" stroke-width=\"0\"/><path aria-label=\"x1: 26; x2: 26.9; level: 93; level2: 93.9; status: Default; sf: Array at boot.jl:466 [inlined]\" role=\"graphics-symbol\" aria-roledescription=\"rect mark\" d=\"M5.942857142857143,165.25h0.20571428571428552v2.2499999999999716h-0.20571428571428552Z\" fill=\"#4c78a8\" fill-opacity=\"1\" stroke=\"#505050\" stroke-width=\"0\"/><path aria-label=\"x1: 26; x2: 26.9; level: 94; level2: 94.9; status: Garbage collection; sf: Array at boot.jl:457 [inlined]\" role=\"graphics-symbol\" aria-roledescription=\"rect mark\" d=\"M5.942857142857143,162.75h0.20571428571428552v2.25h-0.20571428571428552Z\" fill=\"#f58518\" fill-opacity=\"1\" stroke=\"#505050\" stroke-width=\"0\"/><path aria-label=\"x1: 27; x2: 28.9; level: 73; level2: 73.9; status: Default; sf: _typeinf(interp::Core.Compiler.NativeInterpreter, frame::Core.Compiler.InferenceState) at typeinfer.jl:255\" role=\"graphics-symbol\" aria-roledescription=\"rect mark\" d=\"M6.171428571428572,215.25h0.43428571428571416v2.2499999999999716h-0.43428571428571416Z\" fill=\"#4c78a8\" fill-opacity=\"1\" stroke=\"#505050\" stroke-width=\"0\"/><path aria-label=\"x1: 27; x2: 28.9; level: 74; level2: 74.9; status: Default; sf: optimize at optimize.jl:296 [inlined]\" role=\"graphics-symbol\" aria-roledescription=\"rect mark\" d=\"M6.171428571428572,212.75h0.43428571428571416v2.25h-0.43428571428571416Z\" fill=\"#4c78a8\" fill-opacity=\"1\" stroke=\"#505050\" stroke-width=\"0\"/><path aria-label=\"x1: 27; x2: 27.9; level: 75; level2: 75.9; status: Default; sf: run_passes(ci::Core.CodeInfo, nargs::Int64, sv::Core.Compiler.OptimizationState) at optimize.jl:303\" role=\"graphics-symbol\" aria-roledescription=\"rect mark\" d=\"M6.171428571428572,210.25h0.20571428571428463v2.25h-0.20571428571428463Z\" fill=\"#4c78a8\" fill-opacity=\"1\" stroke=\"#505050\" stroke-width=\"0\"/><path aria-label=\"x1: 27; x2: 27.9; level: 76; level2: 76.9; status: Default; sf: slot2reg at optimize.jl:419 [inlined]\" role=\"graphics-symbol\" aria-roledescription=\"rect mark\" d=\"M6.171428571428572,207.74999999999997h0.20571428571428463v2.2500000000000284h-0.20571428571428463Z\" fill=\"#4c78a8\" fill-opacity=\"1\" stroke=\"#505050\" stroke-width=\"0\"/><path aria-label=\"x1: 27; x2: 27.9; level: 77; level2: 77.9; status: Default; sf: construct_ssa!(ci::Core.CodeInfo, ir::Core.Compiler.IRCode, domtree::Core.Compiler.DomTree, defuses::Vector{Core.Compiler.SlotInfo}, nargs::Int64, slottypes::Vector{Any}) at slot2ssa.jl:582\" role=\"graphics-symbol\" aria-roledescription=\"rect mark\" d=\"M6.171428571428572,205.24999999999997h0.20571428571428463v2.250000000000057h-0.20571428571428463Z\" fill=\"#4c78a8\" fill-opacity=\"1\" stroke=\"#505050\" stroke-width=\"0\"/><path aria-label=\"x1: 27; x2: 27.9; level: 78; level2: 78.9; status: Default; sf: getindex at array.jl:411 [inlined]\" role=\"graphics-symbol\" aria-roledescription=\"rect mark\" d=\"M6.171428571428572,202.75h0.20571428571428463v2.2499999999999716h-0.20571428571428463Z\" fill=\"#4c78a8\" fill-opacity=\"1\" stroke=\"#505050\" stroke-width=\"0\"/><path aria-label=\"x1: 27; x2: 27.9; level: 79; level2: 79.9; status: Default; sf: Array at boot.jl:476 [inlined]\" role=\"graphics-symbol\" aria-roledescription=\"rect mark\" d=\"M6.171428571428572,200.25h0.20571428571428463v2.25h-0.20571428571428463Z\" fill=\"#4c78a8\" fill-opacity=\"1\" stroke=\"#505050\" stroke-width=\"0\"/><path aria-label=\"x1: 27; x2: 27.9; level: 80; level2: 80.9; status: Garbage collection; sf: Array at boot.jl:457 [inlined]\" role=\"graphics-symbol\" aria-roledescription=\"rect mark\" d=\"M6.171428571428572,197.75h0.20571428571428463v2.25h-0.20571428571428463Z\" fill=\"#f58518\" fill-opacity=\"1\" stroke=\"#505050\" stroke-width=\"0\"/><path aria-label=\"x1: 28; x2: 28.9; level: 75; level2: 75.9; status: Default; sf: run_passes(ci::Core.CodeInfo, nargs::Int64, sv::Core.Compiler.OptimizationState) at optimize.jl:317\" role=\"graphics-symbol\" aria-roledescription=\"rect mark\" d=\"M6.4,210.25h0.20571428571428552v2.25h-0.20571428571428552Z\" fill=\"#4c78a8\" fill-opacity=\"1\" stroke=\"#505050\" stroke-width=\"0\"/><path aria-label=\"x1: 28; x2: 28.9; level: 76; level2: 76.9; status: Default; sf: compact! at ir.jl:1441 [inlined]\" role=\"graphics-symbol\" aria-roledescription=\"rect mark\" d=\"M6.4,207.74999999999997h0.20571428571428552v2.2500000000000284h-0.20571428571428552Z\" fill=\"#4c78a8\" fill-opacity=\"1\" stroke=\"#505050\" stroke-width=\"0\"/><path aria-label=\"x1: 28; x2: 28.9; level: 77; level2: 77.9; status: Default; sf: compact!(code::Core.Compiler.IRCode, allow_cfg_transforms::Bool) at ir.jl:1444\" role=\"graphics-symbol\" aria-roledescription=\"rect mark\" d=\"M6.4,205.24999999999997h0.20571428571428552v2.250000000000057h-0.20571428571428552Z\" fill=\"#4c78a8\" fill-opacity=\"1\" stroke=\"#505050\" stroke-width=\"0\"/><path aria-label=\"x1: 28; x2: 28.9; level: 78; level2: 78.9; status: Default; sf: finish(compact::Core.Compiler.IncrementalCompact) at ir.jl:1429\" role=\"graphics-symbol\" aria-roledescription=\"rect mark\" d=\"M6.4,202.75h0.20571428571428552v2.2499999999999716h-0.20571428571428552Z\" fill=\"#4c78a8\" fill-opacity=\"1\" stroke=\"#505050\" stroke-width=\"0\"/><path aria-label=\"x1: 28; x2: 28.9; level: 79; level2: 79.9; status: Default; sf: non_dce_finish! at ir.jl:1419 [inlined]\" role=\"graphics-symbol\" aria-roledescription=\"rect mark\" d=\"M6.4,200.25h0.20571428571428552v2.25h-0.20571428571428552Z\" fill=\"#4c78a8\" fill-opacity=\"1\" stroke=\"#505050\" stroke-width=\"0\"/><path aria-label=\"x1: 29; x2: 29.9; level: 66; level2: 66.9; status: Default; sf: abstract_eval_statement(interp::Core.Compiler.NativeInterpreter, e::Any, vtypes::Vector{Any}, sv::Core.Compiler.InferenceState) at abstractinterpretation.jl:1539\" role=\"graphics-symbol\" aria-roledescription=\"rect mark\" d=\"M6.628571428571428,232.74999999999997h0.20571428571428552v2.2500000000000284h-0.20571428571428552Z\" fill=\"#4c78a8\" fill-opacity=\"1\" stroke=\"#505050\" stroke-width=\"0\"/><path aria-label=\"x1: 29; x2: 29.9; level: 67; level2: 67.9; status: Default; sf: instanceof_tfunc(t::Any) at tfuncs.jl:68\" role=\"graphics-symbol\" aria-roledescription=\"rect mark\" d=\"M6.628571428571428,230.24999999999997h0.20571428571428552v2.250000000000057h-0.20571428571428552Z\" fill=\"#4c78a8\" fill-opacity=\"1\" stroke=\"#505050\" stroke-width=\"0\"/><path aria-label=\"x1: 30; x2: 31.9; level: 53; level2: 53.9; status: Default; sf: _typeinf(interp::Core.Compiler.NativeInterpreter, frame::Core.Compiler.InferenceState) at typeinfer.jl:255\" role=\"graphics-symbol\" aria-roledescription=\"rect mark\" d=\"M6.857142857142858,265.25h0.4342857142857133v2.25h-0.4342857142857133Z\" fill=\"#4c78a8\" fill-opacity=\"1\" stroke=\"#505050\" stroke-width=\"0\"/><path aria-label=\"x1: 30; x2: 31.9; level: 54; level2: 54.9; status: Default; sf: optimize at optimize.jl:296 [inlined]\" role=\"graphics-symbol\" aria-roledescription=\"rect mark\" d=\"M6.857142857142858,262.75h0.4342857142857133v2.25h-0.4342857142857133Z\" fill=\"#4c78a8\" fill-opacity=\"1\" stroke=\"#505050\" stroke-width=\"0\"/><path aria-label=\"x1: 30; x2: 31.9; level: 55; level2: 55.9; status: Runtime dispatch; sf: run_passes(ci::Core.CodeInfo, nargs::Int64, sv::Core.Compiler.OptimizationState) at optimize.jl:307\" role=\"graphics-symbol\" aria-roledescription=\"rect mark\" d=\"M6.857142857142858,260.25h0.4342857142857133v2.25h-0.4342857142857133Z\" fill=\"#e45756\" fill-opacity=\"1\" stroke=\"#505050\" stroke-width=\"0\"/><path aria-label=\"x1: 30; x2: 30.9; level: 56; level2: 56.9; status: Default; sf: ssa_inlining_pass!(ir::Core.Compiler.IRCode, linetable::Vector{Core.LineInfoNode}, state::Core.Compiler.InliningState{Core.Compiler.EdgeTracker, Core.Compiler.WorldView{Core.Compiler.InternalCodeCache}, typeof(Core.Compiler.default_inlining_policy)}, propagate_inbounds::Bool) at inlining.jl:80\" role=\"graphics-symbol\" aria-roledescription=\"rect mark\" d=\"M6.857142857142858,257.75h0.20571428571428552v2.25h-0.20571428571428552Z\" fill=\"#4c78a8\" fill-opacity=\"1\" stroke=\"#505050\" stroke-width=\"0\"/><path aria-label=\"x1: 30; x2: 30.9; level: 57; level2: 57.9; status: Default; sf: assemble_inline_todo!(ir::Core.Compiler.IRCode, state::Core.Compiler.InliningState{Core.Compiler.EdgeTracker, Core.Compiler.WorldView{Core.Compiler.InternalCodeCache}, typeof(Core.Compiler.default_inlining_policy)}) at inlining.jl:1419\" role=\"graphics-symbol\" aria-roledescription=\"rect mark\" d=\"M6.857142857142858,255.25000000000003h0.20571428571428552v2.2499999999999716h-0.20571428571428552Z\" fill=\"#4c78a8\" fill-opacity=\"1\" stroke=\"#505050\" stroke-width=\"0\"/><path aria-label=\"x1: 30; x2: 30.9; level: 58; level2: 58.9; status: Default; sf: analyze_single_call!(ir::Core.Compiler.IRCode, todo::Vector{Pair{Int64, Any}}, idx::Int64, stmt::Any, ::Core.Compiler.Signature, infos::Vector{Core.Compiler.MethodMatchInfo}, state::Core.Compiler.InliningState{Core.Compiler.EdgeTracker, Core.Compiler.WorldView{Core.Compiler.InternalCodeCache}, typeof(Core.Compiler.default_inlining_policy)}) at inlining.jl:1238\" role=\"graphics-symbol\" aria-roledescription=\"rect mark\" d=\"M6.857142857142858,252.75h0.20571428571428552v2.2499999999999716h-0.20571428571428552Z\" fill=\"#4c78a8\" fill-opacity=\"1\" stroke=\"#505050\" stroke-width=\"0\"/><path aria-label=\"x1: 30; x2: 30.9; level: 59; level2: 59.9; status: Default; sf: analyze_method!(match::Core.MethodMatch, atypes::Vector{Any}, state::Core.Compiler.InliningState{Core.Compiler.EdgeTracker, Core.Compiler.WorldView{Core.Compiler.InternalCodeCache}, typeof(Core.Compiler.default_inlining_policy)}) at inlining.jl:851\" role=\"graphics-symbol\" aria-roledescription=\"rect mark\" d=\"M6.857142857142858,250.25h0.20571428571428552v2.25h-0.20571428571428552Z\" fill=\"#4c78a8\" fill-opacity=\"1\" stroke=\"#505050\" stroke-width=\"0\"/><path aria-label=\"x1: 30; x2: 30.9; level: 60; level2: 60.9; status: Runtime dispatch; sf: resolve_todo(todo::Core.Compiler.InliningTodo, state::Core.Compiler.InliningState{Core.Compiler.EdgeTracker, Core.Compiler.WorldView{Core.Compiler.InternalCodeCache}, typeof(Core.Compiler.default_inlining_policy)}) at inlining.jl:795\" role=\"graphics-symbol\" aria-roledescription=\"rect mark\" d=\"M6.857142857142858,247.75h0.20571428571428552v2.25h-0.20571428571428552Z\" fill=\"#e45756\" fill-opacity=\"1\" stroke=\"#505050\" stroke-width=\"0\"/><path aria-label=\"x1: 30; x2: 30.9; level: 61; level2: 61.9; status: Default; sf: Core.Compiler.InliningTodo(mi::Core.MethodInstance, src::Vector{UInt8}) at inlining.jl:864\" role=\"graphics-symbol\" aria-roledescription=\"rect mark\" d=\"M6.857142857142858,245.25h0.20571428571428552v2.25h-0.20571428571428552Z\" fill=\"#4c78a8\" fill-opacity=\"1\" stroke=\"#505050\" stroke-width=\"0\"/><path aria-label=\"x1: 30; x2: 30.9; level: 62; level2: 62.9; status: Default; sf: inflate_ir(ci::Core.CodeInfo, linfo::Core.MethodInstance) at legacy.jl:4\" role=\"graphics-symbol\" aria-roledescription=\"rect mark\" d=\"M6.857142857142858,242.75000000000003h0.20571428571428552v2.25h-0.20571428571428552Z\" fill=\"#4c78a8\" fill-opacity=\"1\" stroke=\"#505050\" stroke-width=\"0\"/><path aria-label=\"x1: 30; x2: 30.9; level: 63; level2: 63.9; status: Default; sf: sptypes_from_meth_instance(linfo::Core.MethodInstance) at inferencestate.jl:241\" role=\"graphics-symbol\" aria-roledescription=\"rect mark\" d=\"M6.857142857142858,240.25h0.20571428571428552v2.2499999999999716h-0.20571428571428552Z\" fill=\"#4c78a8\" fill-opacity=\"1\" stroke=\"#505050\" stroke-width=\"0\"/><path aria-label=\"x1: 31; x2: 31.9; level: 56; level2: 56.9; status: Default; sf: ssa_inlining_pass!(ir::Core.Compiler.IRCode, linetable::Vector{Core.LineInfoNode}, state::Core.Compiler.InliningState{Core.Compiler.EdgeTracker, Core.Compiler.WorldView{Core.Compiler.InternalCodeCache}, typeof(Core.Compiler.default_inlining_policy)}, propagate_inbounds::Bool) at inlining.jl:83\" role=\"graphics-symbol\" aria-roledescription=\"rect mark\" d=\"M7.085714285714285,257.75h0.20571428571428552v2.25h-0.20571428571428552Z\" fill=\"#4c78a8\" fill-opacity=\"1\" stroke=\"#505050\" stroke-width=\"0\"/><path aria-label=\"x1: 31; x2: 31.9; level: 57; level2: 57.9; status: Default; sf: batch_inline!(todo::Vector{Pair{Int64, Any}}, ir::Core.Compiler.IRCode, linetable::Vector{Core.LineInfoNode}, propagate_inbounds::Bool) at inlining.jl:594\" role=\"graphics-symbol\" aria-roledescription=\"rect mark\" d=\"M7.085714285714285,255.25000000000003h0.20571428571428552v2.2499999999999716h-0.20571428571428552Z\" fill=\"#4c78a8\" fill-opacity=\"1\" stroke=\"#505050\" stroke-width=\"0\"/><path aria-label=\"x1: 31; x2: 31.9; level: 58; level2: 58.9; status: Default; sf: ir_inline_item!(compact::Core.Compiler.IncrementalCompact, idx::Int64, argexprs::Vector{Any}, linetable::Vector{Core.LineInfoNode}, item::Core.Compiler.InliningTodo, boundscheck::Symbol, todo_bbs::Vector{Tuple{Int64, Int64}}) at inlining.jl:400\" role=\"graphics-symbol\" aria-roledescription=\"rect mark\" d=\"M7.085714285714285,252.75h0.20571428571428552v2.2499999999999716h-0.20571428571428552Z\" fill=\"#4c78a8\" fill-opacity=\"1\" stroke=\"#505050\" stroke-width=\"0\"/><path aria-label=\"x1: 31; x2: 31.9; level: 59; level2: 59.9; status: Default; sf: ssa_substitute! at inlining.jl:1528 [inlined]\" role=\"graphics-symbol\" aria-roledescription=\"rect mark\" d=\"M7.085714285714285,250.25h0.20571428571428552v2.25h-0.20571428571428552Z\" fill=\"#4c78a8\" fill-opacity=\"1\" stroke=\"#505050\" stroke-width=\"0\"/><path aria-label=\"x1: 31; x2: 31.9; level: 60; level2: 60.9; status: Default; sf: ssa_substitute_op!(val::Any, arg_replacements::Vector{Any}, spsig::Any, spvals::Core.SimpleVector, boundscheck::Symbol) at inlining.jl:1573\" role=\"graphics-symbol\" aria-roledescription=\"rect mark\" d=\"M7.085714285714285,247.75h0.20571428571428552v2.25h-0.20571428571428552Z\" fill=\"#4c78a8\" fill-opacity=\"1\" stroke=\"#505050\" stroke-width=\"0\"/><path aria-label=\"x1: 31; x2: 31.9; level: 61; level2: 61.9; status: Default; sf: ssa_substitute_op!(val::Any, arg_replacements::Vector{Any}, spsig::Any, spvals::Core.SimpleVector, boundscheck::Symbol) at inlining.jl:1571\" role=\"graphics-symbol\" aria-roledescription=\"rect mark\" d=\"M7.085714285714285,245.25h0.20571428571428552v2.25h-0.20571428571428552Z\" fill=\"#4c78a8\" fill-opacity=\"1\" stroke=\"#505050\" stroke-width=\"0\"/><path aria-label=\"x1: 31; x2: 31.9; level: 62; level2: 62.9; status: Default; sf: userefs at ir.jl:461 [inlined]\" role=\"graphics-symbol\" aria-roledescription=\"rect mark\" d=\"M7.085714285714285,242.75000000000003h0.20571428571428552v2.25h-0.20571428571428552Z\" fill=\"#4c78a8\" fill-opacity=\"1\" stroke=\"#505050\" stroke-width=\"0\"/><path aria-label=\"x1: 31; x2: 31.9; level: 63; level2: 63.9; status: Default; sf: UseRefIterator at ir.jl:344 [inlined]\" role=\"graphics-symbol\" aria-roledescription=\"rect mark\" d=\"M7.085714285714285,240.25h0.20571428571428552v2.2499999999999716h-0.20571428571428552Z\" fill=\"#4c78a8\" fill-opacity=\"1\" stroke=\"#505050\" stroke-width=\"0\"/><path aria-label=\"x1: 31; x2: 31.9; level: 64; level2: 64.9; status: Default; sf: UseRef at ir.jl:338 [inlined]\" role=\"graphics-symbol\" aria-roledescription=\"rect mark\" d=\"M7.085714285714285,237.75h0.20571428571428552v2.25h-0.20571428571428552Z\" fill=\"#4c78a8\" fill-opacity=\"1\" stroke=\"#505050\" stroke-width=\"0\"/><path aria-label=\"x1: 32; x2: 32.9; level: 43; level2: 43.9; status: Default; sf: _typeinf(interp::Core.Compiler.NativeInterpreter, frame::Core.Compiler.InferenceState) at typeinfer.jl:255\" role=\"graphics-symbol\" aria-roledescription=\"rect mark\" d=\"M7.314285714285715,290.25h0.20571428571428552v2.25h-0.20571428571428552Z\" fill=\"#4c78a8\" fill-opacity=\"1\" stroke=\"#505050\" stroke-width=\"0\"/><path aria-label=\"x1: 32; x2: 32.9; level: 44; level2: 44.9; status: Default; sf: optimize at optimize.jl:296 [inlined]\" role=\"graphics-symbol\" aria-roledescription=\"rect mark\" d=\"M7.314285714285715,287.75h0.20571428571428552v2.25h-0.20571428571428552Z\" fill=\"#4c78a8\" fill-opacity=\"1\" stroke=\"#505050\" stroke-width=\"0\"/><path aria-label=\"x1: 32; x2: 32.9; level: 45; level2: 45.9; status: Default; sf: run_passes(ci::Core.CodeInfo, nargs::Int64, sv::Core.Compiler.OptimizationState) at optimize.jl:311\" role=\"graphics-symbol\" aria-roledescription=\"rect mark\" d=\"M7.314285714285715,285.25h0.20571428571428552v2.25h-0.20571428571428552Z\" fill=\"#4c78a8\" fill-opacity=\"1\" stroke=\"#505050\" stroke-width=\"0\"/><path aria-label=\"x1: 32; x2: 32.9; level: 46; level2: 46.9; status: Default; sf: getfield_elim_pass!(ir::Core.Compiler.IRCode) at passes.jl:547\" role=\"graphics-symbol\" aria-roledescription=\"rect mark\" d=\"M7.314285714285715,282.75h0.20571428571428552v2.25h-0.20571428571428552Z\" fill=\"#4c78a8\" fill-opacity=\"1\" stroke=\"#505050\" stroke-width=\"0\"/><path aria-label=\"x1: 32; x2: 32.9; level: 47; level2: 47.9; status: Default; sf: is_known_call(e::Expr, func::Any, src::Core.Compiler.IncrementalCompact) at queries.jl:101\" role=\"graphics-symbol\" aria-roledescription=\"rect mark\" d=\"M7.314285714285715,280.25h0.20571428571428552v2.25h-0.20571428571428552Z\" fill=\"#4c78a8\" fill-opacity=\"1\" stroke=\"#505050\" stroke-width=\"0\"/><path aria-label=\"x1: 32; x2: 32.9; level: 48; level2: 48.9; status: Default; sf: compact_exprtype at queries.jl:91 [inlined]\" role=\"graphics-symbol\" aria-roledescription=\"rect mark\" d=\"M7.314285714285715,277.75h0.20571428571428552v2.25h-0.20571428571428552Z\" fill=\"#4c78a8\" fill-opacity=\"1\" stroke=\"#505050\" stroke-width=\"0\"/><path aria-label=\"x1: 32; x2: 32.9; level: 49; level2: 49.9; status: Default; sf: argextype at utilities.jl:229 [inlined]\" role=\"graphics-symbol\" aria-roledescription=\"rect mark\" d=\"M7.314285714285715,275.25h0.20571428571428552v2.25h-0.20571428571428552Z\" fill=\"#4c78a8\" fill-opacity=\"1\" stroke=\"#505050\" stroke-width=\"0\"/><path aria-label=\"x1: 32; x2: 32.9; level: 50; level2: 50.9; status: Default; sf: argextype(x::Any, src::Core.Compiler.IRCode, sptypes::Vector{Any}, slottypes::Vector{Any}) at utilities.jl:251\" role=\"graphics-symbol\" aria-roledescription=\"rect mark\" d=\"M7.314285714285715,272.75h0.20571428571428552v2.25h-0.20571428571428552Z\" fill=\"#4c78a8\" fill-opacity=\"1\" stroke=\"#505050\" stroke-width=\"0\"/><path aria-label=\"x1: 32; x2: 32.9; level: 51; level2: 51.9; status: Default; sf: abstract_eval_global at abstractinterpretation.jl:1676 [inlined]\" role=\"graphics-symbol\" aria-roledescription=\"rect mark\" d=\"M7.314285714285715,270.25h0.20571428571428552v2.25h-0.20571428571428552Z\" fill=\"#4c78a8\" fill-opacity=\"1\" stroke=\"#505050\" stroke-width=\"0\"/><path aria-label=\"x1: 33; x2: 36.9; level: 33; level2: 33.9; status: Default; sf: _typeinf(interp::Core.Compiler.NativeInterpreter, frame::Core.Compiler.InferenceState) at typeinfer.jl:255\" role=\"graphics-symbol\" aria-roledescription=\"rect mark\" d=\"M7.542857142857143,315.25h0.8914285714285715v2.25h-0.8914285714285715Z\" fill=\"#4c78a8\" fill-opacity=\"1\" stroke=\"#505050\" stroke-width=\"0\"/><path aria-label=\"x1: 33; x2: 36.9; level: 34; level2: 34.9; status: Default; sf: optimize at optimize.jl:296 [inlined]\" role=\"graphics-symbol\" aria-roledescription=\"rect mark\" d=\"M7.542857142857143,312.75h0.8914285714285715v2.25h-0.8914285714285715Z\" fill=\"#4c78a8\" fill-opacity=\"1\" stroke=\"#505050\" stroke-width=\"0\"/><path aria-label=\"x1: 33; x2: 33.9; level: 35; level2: 35.9; status: Default; sf: run_passes(ci::Core.CodeInfo, nargs::Int64, sv::Core.Compiler.OptimizationState) at optimize.jl:303\" role=\"graphics-symbol\" aria-roledescription=\"rect mark\" d=\"M7.542857142857143,310.25h0.20571428571428552v2.25h-0.20571428571428552Z\" fill=\"#4c78a8\" fill-opacity=\"1\" stroke=\"#505050\" stroke-width=\"0\"/><path aria-label=\"x1: 33; x2: 33.9; level: 36; level2: 36.9; status: Default; sf: slot2reg at optimize.jl:417 [inlined]\" role=\"graphics-symbol\" aria-roledescription=\"rect mark\" d=\"M7.542857142857143,307.75h0.20571428571428552v2.25h-0.20571428571428552Z\" fill=\"#4c78a8\" fill-opacity=\"1\" stroke=\"#505050\" stroke-width=\"0\"/><path aria-label=\"x1: 33; x2: 33.9; level: 37; level2: 37.9; status: Default; sf: construct_domtree(blocks::Vector{Core.Compiler.BasicBlock}) at domtree.jl:204\" role=\"graphics-symbol\" aria-roledescription=\"rect mark\" d=\"M7.542857142857143,305.25h0.20571428571428552v2.25h-0.20571428571428552Z\" fill=\"#4c78a8\" fill-opacity=\"1\" stroke=\"#505050\" stroke-width=\"0\"/><path aria-label=\"x1: 33; x2: 33.9; level: 38; level2: 38.9; status: Default; sf: update_domtree! at domtree.jl:218 [inlined]\" role=\"graphics-symbol\" aria-roledescription=\"rect mark\" d=\"M7.542857142857143,302.75h0.20571428571428552v2.25h-0.20571428571428552Z\" fill=\"#4c78a8\" fill-opacity=\"1\" stroke=\"#505050\" stroke-width=\"0\"/><path aria-label=\"x1: 33; x2: 33.9; level: 39; level2: 39.9; status: Default; sf: compute_domtree_nodes!(domtree::Core.Compiler.DomTree) at domtree.jl:224\" role=\"graphics-symbol\" aria-roledescription=\"rect mark\" d=\"M7.542857142857143,300.25h0.20571428571428552v2.25h-0.20571428571428552Z\" fill=\"#4c78a8\" fill-opacity=\"1\" stroke=\"#505050\" stroke-width=\"0\"/><path aria-label=\"x1: 33; x2: 33.9; level: 40; level2: 40.9; status: Default; sf: copy!(dst::Vector{Core.Compiler.DomTreeNode}, src::Vector{Core.Compiler.DomTreeNode}) at abstractarray.jl:871\" role=\"graphics-symbol\" aria-roledescription=\"rect mark\" d=\"M7.542857142857143,297.75h0.20571428571428552v2.25h-0.20571428571428552Z\" fill=\"#4c78a8\" fill-opacity=\"1\" stroke=\"#505050\" stroke-width=\"0\"/><path aria-label=\"x1: 33; x2: 33.9; level: 41; level2: 41.9; status: Default; sf: resize! at array.jl:1173 [inlined]\" role=\"graphics-symbol\" aria-roledescription=\"rect mark\" d=\"M7.542857142857143,295.25h0.20571428571428552v2.25h-0.20571428571428552Z\" fill=\"#4c78a8\" fill-opacity=\"1\" stroke=\"#505050\" stroke-width=\"0\"/><path aria-label=\"x1: 33; x2: 33.9; level: 42; level2: 42.9; status: Default; sf: _growend! at array.jl:948 [inlined]\" role=\"graphics-symbol\" aria-roledescription=\"rect mark\" d=\"M7.542857142857143,292.75h0.20571428571428552v2.25h-0.20571428571428552Z\" fill=\"#4c78a8\" fill-opacity=\"1\" stroke=\"#505050\" stroke-width=\"0\"/><path aria-label=\"x1: 34; x2: 35.9; level: 35; level2: 35.9; status: Runtime dispatch; sf: run_passes(ci::Core.CodeInfo, nargs::Int64, sv::Core.Compiler.OptimizationState) at optimize.jl:307\" role=\"graphics-symbol\" aria-roledescription=\"rect mark\" d=\"M7.7714285714285705,310.25h0.43428571428571594v2.25h-0.43428571428571594Z\" fill=\"#e45756\" fill-opacity=\"1\" stroke=\"#505050\" stroke-width=\"0\"/><path aria-label=\"x1: 34; x2: 35.9; level: 36; level2: 36.9; status: Default; sf: ssa_inlining_pass!(ir::Core.Compiler.IRCode, linetable::Vector{Core.LineInfoNode}, state::Core.Compiler.InliningState{Core.Compiler.EdgeTracker, Core.Compiler.WorldView{Core.Compiler.InternalCodeCache}, typeof(Core.Compiler.default_inlining_policy)}, propagate_inbounds::Bool) at inlining.jl:83\" role=\"graphics-symbol\" aria-roledescription=\"rect mark\" d=\"M7.7714285714285705,307.75h0.43428571428571594v2.25h-0.43428571428571594Z\" fill=\"#4c78a8\" fill-opacity=\"1\" stroke=\"#505050\" stroke-width=\"0\"/><path aria-label=\"x1: 34; x2: 34.9; level: 37; level2: 37.9; status: Runtime dispatch; sf: batch_inline!(todo::Vector{Pair{Int64, Any}}, ir::Core.Compiler.IRCode, linetable::Vector{Core.LineInfoNode}, propagate_inbounds::Bool) at inlining.jl:587\" role=\"graphics-symbol\" aria-roledescription=\"rect mark\" d=\"M7.7714285714285705,305.25h0.20571428571428552v2.25h-0.20571428571428552Z\" fill=\"#e45756\" fill-opacity=\"1\" stroke=\"#505050\" stroke-width=\"0\"/><path aria-label=\"x1: 35; x2: 35.9; level: 37; level2: 37.9; status: Default; sf: batch_inline!(todo::Vector{Pair{Int64, Any}}, ir::Core.Compiler.IRCode, linetable::Vector{Core.LineInfoNode}, propagate_inbounds::Bool) at inlining.jl:594\" role=\"graphics-symbol\" aria-roledescription=\"rect mark\" d=\"M8,305.25h0.2057142857142864v2.25h-0.2057142857142864Z\" fill=\"#4c78a8\" fill-opacity=\"1\" stroke=\"#505050\" stroke-width=\"0\"/><path aria-label=\"x1: 35; x2: 35.9; level: 38; level2: 38.9; status: Default; sf: ir_inline_item!(compact::Core.Compiler.IncrementalCompact, idx::Int64, argexprs::Vector{Any}, linetable::Vector{Core.LineInfoNode}, item::Core.Compiler.InliningTodo, boundscheck::Symbol, todo_bbs::Vector{Tuple{Int64, Int64}}) at inlining.jl:431\" role=\"graphics-symbol\" aria-roledescription=\"rect mark\" d=\"M8,302.75h0.2057142857142864v2.25h-0.2057142857142864Z\" fill=\"#4c78a8\" fill-opacity=\"1\" stroke=\"#505050\" stroke-width=\"0\"/><path aria-label=\"x1: 35; x2: 35.9; level: 39; level2: 39.9; status: Default; sf: iterate(compact::Core.Compiler.IncrementalCompact, ::Tuple{Int64, Int64}) at ir.jl:1294\" role=\"graphics-symbol\" aria-roledescription=\"rect mark\" d=\"M8,300.25h0.2057142857142864v2.25h-0.2057142857142864Z\" fill=\"#4c78a8\" fill-opacity=\"1\" stroke=\"#505050\" stroke-width=\"0\"/><path aria-label=\"x1: 35; x2: 35.9; level: 40; level2: 40.9; status: Default; sf: process_node!(compact::Core.Compiler.IncrementalCompact, result_idx::Int64, inst::Core.Compiler.Instruction, idx::Int64, processed_idx::Int64, active_bb::Int64, do_rename_ssa::Bool) at ir.jl:1021\" role=\"graphics-symbol\" aria-roledescription=\"rect mark\" d=\"M8,297.75h0.2057142857142864v2.25h-0.2057142857142864Z\" fill=\"#4c78a8\" fill-opacity=\"1\" stroke=\"#505050\" stroke-width=\"0\"/><path aria-label=\"x1: 35; x2: 35.9; level: 41; level2: 41.9; status: Default; sf: renumber_ssa2!(stmt::Any, ssanums::Vector{Any}, used_ssas::Vector{Int64}, late_fixup::Vector{Int64}, result_idx::Int64, do_rename_ssa::Bool) at ir.jl:912\" role=\"graphics-symbol\" aria-roledescription=\"rect mark\" d=\"M8,295.25h0.2057142857142864v2.25h-0.2057142857142864Z\" fill=\"#4c78a8\" fill-opacity=\"1\" stroke=\"#505050\" stroke-width=\"0\"/><path aria-label=\"x1: 35; x2: 35.9; level: 42; level2: 42.9; status: Default; sf: setindex!(x::Core.Compiler.UseRef, v::Any) at ir.jl:415\" role=\"graphics-symbol\" aria-roledescription=\"rect mark\" d=\"M8,292.75h0.2057142857142864v2.25h-0.2057142857142864Z\" fill=\"#4c78a8\" fill-opacity=\"1\" stroke=\"#505050\" stroke-width=\"0\"/><path aria-label=\"x1: 36; x2: 36.9; level: 35; level2: 35.9; status: Default; sf: run_passes(ci::Core.CodeInfo, nargs::Int64, sv::Core.Compiler.OptimizationState) at optimize.jl:317\" role=\"graphics-symbol\" aria-roledescription=\"rect mark\" d=\"M8.228571428571428,310.25h0.2057142857142864v2.25h-0.2057142857142864Z\" fill=\"#4c78a8\" fill-opacity=\"1\" stroke=\"#505050\" stroke-width=\"0\"/><path aria-label=\"x1: 36; x2: 36.9; level: 36; level2: 36.9; status: Default; sf: compact! at ir.jl:1441 [inlined]\" role=\"graphics-symbol\" aria-roledescription=\"rect mark\" d=\"M8.228571428571428,307.75h0.2057142857142864v2.25h-0.2057142857142864Z\" fill=\"#4c78a8\" fill-opacity=\"1\" stroke=\"#505050\" stroke-width=\"0\"/><path aria-label=\"x1: 36; x2: 36.9; level: 37; level2: 37.9; status: Default; sf: compact!(code::Core.Compiler.IRCode, allow_cfg_transforms::Bool) at ir.jl:1441\" role=\"graphics-symbol\" aria-roledescription=\"rect mark\" d=\"M8.228571428571428,305.25h0.2057142857142864v2.25h-0.2057142857142864Z\" fill=\"#4c78a8\" fill-opacity=\"1\" stroke=\"#505050\" stroke-width=\"0\"/><path aria-label=\"x1: 36; x2: 36.9; level: 38; level2: 38.9; status: Default; sf: Core.Compiler.IncrementalCompact(code::Core.Compiler.IRCode, allow_cfg_transforms::Bool) at ir.jl:614\" role=\"graphics-symbol\" aria-roledescription=\"rect mark\" d=\"M8.228571428571428,302.75h0.2057142857142864v2.25h-0.2057142857142864Z\" fill=\"#4c78a8\" fill-opacity=\"1\" stroke=\"#505050\" stroke-width=\"0\"/><path aria-label=\"x1: 36; x2: 36.9; level: 39; level2: 39.9; status: Default; sf: Array at boot.jl:476 [inlined]\" role=\"graphics-symbol\" aria-roledescription=\"rect mark\" d=\"M8.228571428571428,300.25h0.2057142857142864v2.25h-0.2057142857142864Z\" fill=\"#4c78a8\" fill-opacity=\"1\" stroke=\"#505050\" stroke-width=\"0\"/><path aria-label=\"x1: 36; x2: 36.9; level: 40; level2: 40.9; status: Default; sf: Array at boot.jl:457 [inlined]\" role=\"graphics-symbol\" aria-roledescription=\"rect mark\" d=\"M8.228571428571428,297.75h0.2057142857142864v2.25h-0.2057142857142864Z\" fill=\"#4c78a8\" fill-opacity=\"1\" stroke=\"#505050\" stroke-width=\"0\"/><path aria-label=\"x1: 37; x2: 39.9; level: 23; level2: 23.9; status: Default; sf: _typeinf(interp::Core.Compiler.NativeInterpreter, frame::Core.Compiler.InferenceState) at typeinfer.jl:255\" role=\"graphics-symbol\" aria-roledescription=\"rect mark\" d=\"M8.457142857142857,340.25h0.6628571428571437v2.25h-0.6628571428571437Z\" fill=\"#4c78a8\" fill-opacity=\"1\" stroke=\"#505050\" stroke-width=\"0\"/><path aria-label=\"x1: 37; x2: 39.9; level: 24; level2: 24.9; status: Default; sf: optimize at optimize.jl:296 [inlined]\" role=\"graphics-symbol\" aria-roledescription=\"rect mark\" d=\"M8.457142857142857,337.75h0.6628571428571437v2.25h-0.6628571428571437Z\" fill=\"#4c78a8\" fill-opacity=\"1\" stroke=\"#505050\" stroke-width=\"0\"/><path aria-label=\"x1: 37; x2: 38.9; level: 25; level2: 25.9; status: Runtime dispatch; sf: run_passes(ci::Core.CodeInfo, nargs::Int64, sv::Core.Compiler.OptimizationState) at optimize.jl:307\" role=\"graphics-symbol\" aria-roledescription=\"rect mark\" d=\"M8.457142857142857,335.25h0.43428571428571416v2.25h-0.43428571428571416Z\" fill=\"#e45756\" fill-opacity=\"1\" stroke=\"#505050\" stroke-width=\"0\"/><path aria-label=\"x1: 37; x2: 38.9; level: 26; level2: 26.9; status: Default; sf: ssa_inlining_pass!(ir::Core.Compiler.IRCode, linetable::Vector{Core.LineInfoNode}, state::Core.Compiler.InliningState{Core.Compiler.EdgeTracker, Core.Compiler.WorldView{Core.Compiler.InternalCodeCache}, typeof(Core.Compiler.default_inlining_policy)}, propagate_inbounds::Bool) at inlining.jl:80\" role=\"graphics-symbol\" aria-roledescription=\"rect mark\" d=\"M8.457142857142857,332.75h0.43428571428571416v2.25h-0.43428571428571416Z\" fill=\"#4c78a8\" fill-opacity=\"1\" stroke=\"#505050\" stroke-width=\"0\"/><path aria-label=\"x1: 37; x2: 37.9; level: 27; level2: 27.9; status: Default; sf: assemble_inline_todo!(ir::Core.Compiler.IRCode, state::Core.Compiler.InliningState{Core.Compiler.EdgeTracker, Core.Compiler.WorldView{Core.Compiler.InternalCodeCache}, typeof(Core.Compiler.default_inlining_policy)}) at inlining.jl:1389\" role=\"graphics-symbol\" aria-roledescription=\"rect mark\" d=\"M8.457142857142857,330.25h0.2057142857142864v2.25h-0.2057142857142864Z\" fill=\"#4c78a8\" fill-opacity=\"1\" stroke=\"#505050\" stroke-width=\"0\"/><path aria-label=\"x1: 37; x2: 37.9; level: 28; level2: 28.9; status: Default; sf: maybe_handle_const_call!(ir::Core.Compiler.IRCode, idx::Int64, stmt::Expr, ::Core.Compiler.ConstCallInfo, ::Core.Compiler.Signature, state::Core.Compiler.InliningState{Core.Compiler.EdgeTracker, Core.Compiler.WorldView{Core.Compiler.InternalCodeCache}, typeof(Core.Compiler.default_inlining_policy)}, isinvoke::Bool, todo::Vector{Pair{Int64, Any}}) at inlining.jl:1305\" role=\"graphics-symbol\" aria-roledescription=\"rect mark\" d=\"M8.457142857142857,327.75h0.2057142857142864v2.25h-0.2057142857142864Z\" fill=\"#4c78a8\" fill-opacity=\"1\" stroke=\"#505050\" stroke-width=\"0\"/><path aria-label=\"x1: 37; x2: 37.9; level: 29; level2: 29.9; status: Runtime dispatch; sf: resolve_todo(todo::Core.Compiler.InliningTodo, state::Core.Compiler.InliningState{Core.Compiler.EdgeTracker, Core.Compiler.WorldView{Core.Compiler.InternalCodeCache}, typeof(Core.Compiler.default_inlining_policy)}) at inlining.jl:795\" role=\"graphics-symbol\" aria-roledescription=\"rect mark\" d=\"M8.457142857142857,325.25h0.2057142857142864v2.25h-0.2057142857142864Z\" fill=\"#e45756\" fill-opacity=\"1\" stroke=\"#505050\" stroke-width=\"0\"/><path aria-label=\"x1: 37; x2: 37.9; level: 30; level2: 30.9; status: Default; sf: Core.Compiler.InliningTodo(mi::Core.MethodInstance, src::Core.CodeInfo) at inlining.jl:864\" role=\"graphics-symbol\" aria-roledescription=\"rect mark\" d=\"M8.457142857142857,322.75h0.2057142857142864v2.25h-0.2057142857142864Z\" fill=\"#4c78a8\" fill-opacity=\"1\" stroke=\"#505050\" stroke-width=\"0\"/><path aria-label=\"x1: 37; x2: 37.9; level: 31; level2: 31.9; status: Default; sf: inflate_ir(ci::Core.CodeInfo, linfo::Core.MethodInstance) at legacy.jl:10\" role=\"graphics-symbol\" aria-roledescription=\"rect mark\" d=\"M8.457142857142857,320.25h0.2057142857142864v2.25h-0.2057142857142864Z\" fill=\"#4c78a8\" fill-opacity=\"1\" stroke=\"#505050\" stroke-width=\"0\"/><path aria-label=\"x1: 37; x2: 37.9; level: 32; level2: 32.9; status: Default; sf: inflate_ir(ci::Core.CodeInfo, sptypes::Vector{Any}, argtypes::Vector{Any}) at legacy.jl:15\" role=\"graphics-symbol\" aria-roledescription=\"rect mark\" d=\"M8.457142857142857,317.75h0.2057142857142864v2.25h-0.2057142857142864Z\" fill=\"#4c78a8\" fill-opacity=\"1\" stroke=\"#505050\" stroke-width=\"0\"/><path aria-label=\"x1: 37; x2: 37.9; level: 33; level2: 33.9; status: Default; sf: compute_basic_blocks(stmts::Vector{Any}) at ir.jl:91\" role=\"graphics-symbol\" aria-roledescription=\"rect mark\" d=\"M8.457142857142857,315.25h0.2057142857142864v2.25h-0.2057142857142864Z\" fill=\"#4c78a8\" fill-opacity=\"1\" stroke=\"#505050\" stroke-width=\"0\"/><path aria-label=\"x1: 37; x2: 37.9; level: 34; level2: 34.9; status: Default; sf: BasicBlock at basicblock.jl:25 [inlined]\" role=\"graphics-symbol\" aria-roledescription=\"rect mark\" d=\"M8.457142857142857,312.75h0.2057142857142864v2.25h-0.2057142857142864Z\" fill=\"#4c78a8\" fill-opacity=\"1\" stroke=\"#505050\" stroke-width=\"0\"/><path aria-label=\"x1: 37; x2: 37.9; level: 35; level2: 35.9; status: Default; sf: getindex at array.jl:411 [inlined]\" role=\"graphics-symbol\" aria-roledescription=\"rect mark\" d=\"M8.457142857142857,310.25h0.2057142857142864v2.25h-0.2057142857142864Z\" fill=\"#4c78a8\" fill-opacity=\"1\" stroke=\"#505050\" stroke-width=\"0\"/><path aria-label=\"x1: 37; x2: 37.9; level: 36; level2: 36.9; status: Default; sf: Array at boot.jl:476 [inlined]\" role=\"graphics-symbol\" aria-roledescription=\"rect mark\" d=\"M8.457142857142857,307.75h0.2057142857142864v2.25h-0.2057142857142864Z\" fill=\"#4c78a8\" fill-opacity=\"1\" stroke=\"#505050\" stroke-width=\"0\"/><path aria-label=\"x1: 37; x2: 37.9; level: 37; level2: 37.9; status: Garbage collection; sf: Array at boot.jl:457 [inlined]\" role=\"graphics-symbol\" aria-roledescription=\"rect mark\" d=\"M8.457142857142857,305.25h0.2057142857142864v2.25h-0.2057142857142864Z\" fill=\"#f58518\" fill-opacity=\"1\" stroke=\"#505050\" stroke-width=\"0\"/><path aria-label=\"x1: 38; x2: 38.9; level: 27; level2: 27.9; status: Default; sf: assemble_inline_todo!(ir::Core.Compiler.IRCode, state::Core.Compiler.InliningState{Core.Compiler.EdgeTracker, Core.Compiler.WorldView{Core.Compiler.InternalCodeCache}, typeof(Core.Compiler.default_inlining_policy)}) at inlining.jl:1419\" role=\"graphics-symbol\" aria-roledescription=\"rect mark\" d=\"M8.685714285714285,330.25h0.2057142857142864v2.25h-0.2057142857142864Z\" fill=\"#4c78a8\" fill-opacity=\"1\" stroke=\"#505050\" stroke-width=\"0\"/><path aria-label=\"x1: 38; x2: 38.9; level: 28; level2: 28.9; status: Default; sf: analyze_single_call!(ir::Core.Compiler.IRCode, todo::Vector{Pair{Int64, Any}}, idx::Int64, stmt::Any, ::Core.Compiler.Signature, infos::Vector{Core.Compiler.MethodMatchInfo}, state::Core.Compiler.InliningState{Core.Compiler.EdgeTracker, Core.Compiler.WorldView{Core.Compiler.InternalCodeCache}, typeof(Core.Compiler.default_inlining_policy)}) at inlining.jl:1238\" role=\"graphics-symbol\" aria-roledescription=\"rect mark\" d=\"M8.685714285714285,327.75h0.2057142857142864v2.25h-0.2057142857142864Z\" fill=\"#4c78a8\" fill-opacity=\"1\" stroke=\"#505050\" stroke-width=\"0\"/><path aria-label=\"x1: 38; x2: 38.9; level: 29; level2: 29.9; status: Default; sf: analyze_method!(match::Core.MethodMatch, atypes::Vector{Any}, state::Core.Compiler.InliningState{Core.Compiler.EdgeTracker, Core.Compiler.WorldView{Core.Compiler.InternalCodeCache}, typeof(Core.Compiler.default_inlining_policy)}) at inlining.jl:842\" role=\"graphics-symbol\" aria-roledescription=\"rect mark\" d=\"M8.685714285714285,325.25h0.2057142857142864v2.25h-0.2057142857142864Z\" fill=\"#4c78a8\" fill-opacity=\"1\" stroke=\"#505050\" stroke-width=\"0\"/><path aria-label=\"x1: 38; x2: 38.9; level: 30; level2: 30.9; status: Default; sf: specialize_method at utilities.jl:204 [inlined]\" role=\"graphics-symbol\" aria-roledescription=\"rect mark\" d=\"M8.685714285714285,322.75h0.2057142857142864v2.25h-0.2057142857142864Z\" fill=\"#4c78a8\" fill-opacity=\"1\" stroke=\"#505050\" stroke-width=\"0\"/><path aria-label=\"x1: 38; x2: 38.9; level: 31; level2: 31.9; status: Default; sf: specialize_method at utilities.jl:204 [inlined]\" role=\"graphics-symbol\" aria-roledescription=\"rect mark\" d=\"M8.685714285714285,320.25h0.2057142857142864v2.25h-0.2057142857142864Z\" fill=\"#4c78a8\" fill-opacity=\"1\" stroke=\"#505050\" stroke-width=\"0\"/><path aria-label=\"x1: 38; x2: 38.9; level: 32; level2: 32.9; status: Default; sf: specialize_method(method::Method, atypes::Any, sparams::Core.SimpleVector, preexisting::Bool, compilesig::Bool) at utilities.jl:198\" role=\"graphics-symbol\" aria-roledescription=\"rect mark\" d=\"M8.685714285714285,317.75h0.2057142857142864v2.25h-0.2057142857142864Z\" fill=\"#4c78a8\" fill-opacity=\"1\" stroke=\"#505050\" stroke-width=\"0\"/><path aria-label=\"x1: 39; x2: 39.9; level: 25; level2: 25.9; status: Default; sf: run_passes(ci::Core.CodeInfo, nargs::Int64, sv::Core.Compiler.OptimizationState) at optimize.jl:311\" role=\"graphics-symbol\" aria-roledescription=\"rect mark\" d=\"M8.914285714285715,335.25h0.2057142857142864v2.25h-0.2057142857142864Z\" fill=\"#4c78a8\" fill-opacity=\"1\" stroke=\"#505050\" stroke-width=\"0\"/><path aria-label=\"x1: 39; x2: 39.9; level: 26; level2: 26.9; status: Default; sf: getfield_elim_pass!(ir::Core.Compiler.IRCode) at passes.jl:683\" role=\"graphics-symbol\" aria-roledescription=\"rect mark\" d=\"M8.914285714285715,332.75h0.2057142857142864v2.25h-0.2057142857142864Z\" fill=\"#4c78a8\" fill-opacity=\"1\" stroke=\"#505050\" stroke-width=\"0\"/><path aria-label=\"x1: 39; x2: 39.9; level: 27; level2: 27.9; status: Default; sf: walk_to_defs(compact::Core.Compiler.IncrementalCompact, defssa::Any, typeconstraint::Any, visited_phinodes::Vector{Any}) at passes.jl:149\" role=\"graphics-symbol\" aria-roledescription=\"rect mark\" d=\"M8.914285714285715,330.25h0.2057142857142864v2.25h-0.2057142857142864Z\" fill=\"#4c78a8\" fill-opacity=\"1\" stroke=\"#505050\" stroke-width=\"0\"/><path aria-label=\"x1: 39; x2: 39.9; level: 28; level2: 28.9; status: Default; sf: getindex at array.jl:417 [inlined]\" role=\"graphics-symbol\" aria-roledescription=\"rect mark\" d=\"M8.914285714285715,327.75h0.2057142857142864v2.25h-0.2057142857142864Z\" fill=\"#4c78a8\" fill-opacity=\"1\" stroke=\"#505050\" stroke-width=\"0\"/><path aria-label=\"x1: 39; x2: 39.9; level: 29; level2: 29.9; status: Garbage collection; sf: Array at boot.jl:457 [inlined]\" role=\"graphics-symbol\" aria-roledescription=\"rect mark\" d=\"M8.914285714285715,325.25h0.2057142857142864v2.25h-0.2057142857142864Z\" fill=\"#f58518\" fill-opacity=\"1\" stroke=\"#505050\" stroke-width=\"0\"/><path aria-label=\"x1: 40; x2: 46.9; level: 15; level2: 15.9; status: Default; sf: typeinf_local(interp::Core.Compiler.NativeInterpreter, frame::Core.Compiler.InferenceState) at abstractinterpretation.jl:1918\" role=\"graphics-symbol\" aria-roledescription=\"rect mark\" d=\"M9.142857142857142,360.25h1.5771428571428583v2.25h-1.5771428571428583Z\" fill=\"#4c78a8\" fill-opacity=\"1\" stroke=\"#505050\" stroke-width=\"0\"/><path aria-label=\"x1: 40; x2: 46.9; level: 16; level2: 16.9; status: Default; sf: abstract_eval_statement(interp::Core.Compiler.NativeInterpreter, e::Any, vtypes::Vector{Any}, sv::Core.Compiler.InferenceState) at abstractinterpretation.jl:1534\" role=\"graphics-symbol\" aria-roledescription=\"rect mark\" d=\"M9.142857142857142,357.75h1.5771428571428583v2.25h-1.5771428571428583Z\" fill=\"#4c78a8\" fill-opacity=\"1\" stroke=\"#505050\" stroke-width=\"0\"/><path aria-label=\"x1: 40; x2: 46.9; level: 17; level2: 17.9; status: Default; sf: abstract_call(interp::Core.Compiler.NativeInterpreter, fargs::Vector{Any}, argtypes::Vector{Any}, sv::Core.Compiler.InferenceState) at abstractinterpretation.jl:1382\" role=\"graphics-symbol\" aria-roledescription=\"rect mark\" d=\"M9.142857142857142,355.25h1.5771428571428583v2.25h-1.5771428571428583Z\" fill=\"#4c78a8\" fill-opacity=\"1\" stroke=\"#505050\" stroke-width=\"0\"/><path aria-label=\"x1: 40; x2: 46.9; level: 18; level2: 18.9; status: Default; sf: abstract_call(interp::Core.Compiler.NativeInterpreter, fargs::Vector{Any}, argtypes::Vector{Any}, sv::Core.Compiler.InferenceState, max_methods::Int64) at abstractinterpretation.jl:1397\" role=\"graphics-symbol\" aria-roledescription=\"rect mark\" d=\"M9.142857142857142,352.75h1.5771428571428583v2.25h-1.5771428571428583Z\" fill=\"#4c78a8\" fill-opacity=\"1\" stroke=\"#505050\" stroke-width=\"0\"/><path aria-label=\"x1: 40; x2: 40.9; level: 19; level2: 19.9; status: Default; sf: abstract_call_known(interp::Core.Compiler.NativeInterpreter, f::Any, fargs::Vector{Any}, argtypes::Vector{Any}, sv::Core.Compiler.InferenceState, max_methods::Int64) at abstractinterpretation.jl:1341\" role=\"graphics-symbol\" aria-roledescription=\"rect mark\" d=\"M9.142857142857142,350.25h0.2057142857142864v2.25h-0.2057142857142864Z\" fill=\"#4c78a8\" fill-opacity=\"1\" stroke=\"#505050\" stroke-width=\"0\"/><path aria-label=\"x1: 40; x2: 40.9; level: 20; level2: 20.9; status: Default; sf: argtypes_to_type at typeutils.jl:53 [inlined]\" role=\"graphics-symbol\" aria-roledescription=\"rect mark\" d=\"M9.142857142857142,347.75h0.2057142857142864v2.25h-0.2057142857142864Z\" fill=\"#4c78a8\" fill-opacity=\"1\" stroke=\"#505050\" stroke-width=\"0\"/><path aria-label=\"x1: 41; x2: 46.9; level: 19; level2: 19.9; status: Default; sf: abstract_call_known(interp::Core.Compiler.NativeInterpreter, f::Any, fargs::Vector{Any}, argtypes::Vector{Any}, sv::Core.Compiler.InferenceState, max_methods::Int64) at abstractinterpretation.jl:1342\" role=\"graphics-symbol\" aria-roledescription=\"rect mark\" d=\"M9.37142857142857,350.25h1.3485714285714305v2.25h-1.3485714285714305Z\" fill=\"#4c78a8\" fill-opacity=\"1\" stroke=\"#505050\" stroke-width=\"0\"/><path aria-label=\"x1: 41; x2: 42.9; level: 20; level2: 20.9; status: Default; sf: abstract_call_gf_by_type(interp::Core.Compiler.NativeInterpreter, f::Any, fargs::Vector{Any}, argtypes::Vector{Any}, atype::Any, sv::Core.Compiler.InferenceState, max_methods::Int64) at abstractinterpretation.jl:39\" role=\"graphics-symbol\" aria-roledescription=\"rect mark\" d=\"M9.37142857142857,347.75h0.43428571428571594v2.25h-0.43428571428571594Z\" fill=\"#4c78a8\" fill-opacity=\"1\" stroke=\"#505050\" stroke-width=\"0\"/><path aria-label=\"x1: 41; x2: 42.9; level: 21; level2: 21.9; status: Runtime dispatch; sf: find_matching_methods(argtypes::Vector{Any}, atype::Any, method_table::Core.Compiler.CachedMethodTable{Core.Compiler.InternalMethodTable}, union_split::Int64, max_methods::Int64) at abstractinterpretation.jl:308\" role=\"graphics-symbol\" aria-roledescription=\"rect mark\" d=\"M9.37142857142857,345.25h0.43428571428571594v2.25h-0.43428571428571594Z\" fill=\"#e45756\" fill-opacity=\"1\" stroke=\"#505050\" stroke-width=\"0\"/><path aria-label=\"x1: 41; x2: 42.9; level: 22; level2: 22.9; status: Default; sf: (::Core.Compiler.var&quot;#findall##kw&quot;)(::NamedTuple{(:limit,), Tuple{Int64}}, ::typeof(Core.Compiler.findall), sig::Type, table::Core.Compiler.CachedMethodTable{Core.Compiler.InternalMethodTable}) at methodtable.jl:95\" role=\"graphics-symbol\" aria-roledescription=\"rect mark\" d=\"M9.37142857142857,342.75h0.43428571428571594v2.25h-0.43428571428571594Z\" fill=\"#4c78a8\" fill-opacity=\"1\" stroke=\"#505050\" stroke-width=\"0\"/><path aria-label=\"x1: 41; x2: 42.9; level: 23; level2: 23.9; status: Default; sf: #findall#248 at methodtable.jl:96 [inlined]\" role=\"graphics-symbol\" aria-roledescription=\"rect mark\" d=\"M9.37142857142857,340.25h0.43428571428571594v2.25h-0.43428571428571594Z\" fill=\"#4c78a8\" fill-opacity=\"1\" stroke=\"#505050\" stroke-width=\"0\"/><path aria-label=\"x1: 41; x2: 42.9; level: 24; level2: 24.9; status: Default; sf: get! at iddict.jl:178 [inlined]\" role=\"graphics-symbol\" aria-roledescription=\"rect mark\" d=\"M9.37142857142857,337.75h0.43428571428571594v2.25h-0.43428571428571594Z\" fill=\"#4c78a8\" fill-opacity=\"1\" stroke=\"#505050\" stroke-width=\"0\"/><path aria-label=\"x1: 41; x2: 42.9; level: 25; level2: 25.9; status: Runtime dispatch; sf: (::Core.Compiler.var&quot;#249#250&quot;{Int64, Core.Compiler.CachedMethodTable{Core.Compiler.InternalMethodTable}, Core.Box})() at methodtable.jl:97\" role=\"graphics-symbol\" aria-roledescription=\"rect mark\" d=\"M9.37142857142857,335.25h0.43428571428571594v2.25h-0.43428571428571594Z\" fill=\"#e45756\" fill-opacity=\"1\" stroke=\"#505050\" stroke-width=\"0\"/><path aria-label=\"x1: 41; x2: 42.9; level: 26; level2: 26.9; status: Default; sf: (::Core.Compiler.var&quot;#findall##kw&quot;)(::NamedTuple{(:limit,), Tuple{Int64}}, ::typeof(Core.Compiler.findall), sig::Type, table::Core.Compiler.InternalMethodTable) at methodtable.jl:65\" role=\"graphics-symbol\" aria-roledescription=\"rect mark\" d=\"M9.37142857142857,332.75h0.43428571428571594v2.25h-0.43428571428571594Z\" fill=\"#4c78a8\" fill-opacity=\"1\" stroke=\"#505050\" stroke-width=\"0\"/><path aria-label=\"x1: 41; x2: 42.9; level: 27; level2: 27.9; status: Default; sf: #findall#246 at methodtable.jl:68 [inlined]\" role=\"graphics-symbol\" aria-roledescription=\"rect mark\" d=\"M9.37142857142857,330.25h0.43428571428571594v2.25h-0.43428571428571594Z\" fill=\"#4c78a8\" fill-opacity=\"1\" stroke=\"#505050\" stroke-width=\"0\"/><path aria-label=\"x1: 41; x2: 42.9; level: 28; level2: 28.9; status: Default; sf: _methods_by_ftype at reflection.jl:908 [inlined]\" role=\"graphics-symbol\" aria-roledescription=\"rect mark\" d=\"M9.37142857142857,327.75h0.43428571428571594v2.25h-0.43428571428571594Z\" fill=\"#4c78a8\" fill-opacity=\"1\" stroke=\"#505050\" stroke-width=\"0\"/><path aria-label=\"x1: 43; x2: 46.9; level: 20; level2: 20.9; status: Default; sf: abstract_call_gf_by_type(interp::Core.Compiler.NativeInterpreter, f::Any, fargs::Vector{Any}, argtypes::Vector{Any}, atype::Any, sv::Core.Compiler.InferenceState, max_methods::Int64) at abstractinterpretation.jl:113\" role=\"graphics-symbol\" aria-roledescription=\"rect mark\" d=\"M9.828571428571427,347.75h0.8914285714285732v2.25h-0.8914285714285732Z\" fill=\"#4c78a8\" fill-opacity=\"1\" stroke=\"#505050\" stroke-width=\"0\"/><path aria-label=\"x1: 43; x2: 46.9; level: 21; level2: 21.9; status: Default; sf: abstract_call_method_with_const_args(interp::Core.Compiler.NativeInterpreter, result::Core.Compiler.MethodCallResult, f::Any, argtypes::Vector{Any}, match::Core.MethodMatch, sv::Core.Compiler.InferenceState, va_override::Bool) at abstractinterpretation.jl:557\" role=\"graphics-symbol\" aria-roledescription=\"rect mark\" d=\"M9.828571428571427,345.25h0.8914285714285732v2.25h-0.8914285714285732Z\" fill=\"#4c78a8\" fill-opacity=\"1\" stroke=\"#505050\" stroke-width=\"0\"/><path aria-label=\"x1: 43; x2: 46.9; level: 22; level2: 22.9; status: Default; sf: typeinf(interp::Core.Compiler.NativeInterpreter, frame::Core.Compiler.InferenceState) at typeinfer.jl:209\" role=\"graphics-symbol\" aria-roledescription=\"rect mark\" d=\"M9.828571428571427,342.75h0.8914285714285732v2.25h-0.8914285714285732Z\" fill=\"#4c78a8\" fill-opacity=\"1\" stroke=\"#505050\" stroke-width=\"0\"/><path aria-label=\"x1: 43; x2: 46.9; level: 23; level2: 23.9; status: Default; sf: _typeinf(interp::Core.Compiler.NativeInterpreter, frame::Core.Compiler.InferenceState) at typeinfer.jl:226\" role=\"graphics-symbol\" aria-roledescription=\"rect mark\" d=\"M9.828571428571427,340.25h0.8914285714285732v2.25h-0.8914285714285732Z\" fill=\"#4c78a8\" fill-opacity=\"1\" stroke=\"#505050\" stroke-width=\"0\"/><path aria-label=\"x1: 43; x2: 46.9; level: 24; level2: 24.9; status: Default; sf: typeinf_nocycle(interp::Core.Compiler.NativeInterpreter, frame::Core.Compiler.InferenceState) at abstractinterpretation.jl:2014\" role=\"graphics-symbol\" aria-roledescription=\"rect mark\" d=\"M9.828571428571427,337.75h0.8914285714285732v2.25h-0.8914285714285732Z\" fill=\"#4c78a8\" fill-opacity=\"1\" stroke=\"#505050\" stroke-width=\"0\"/><path aria-label=\"x1: 43; x2: 43.9; level: 25; level2: 25.9; status: Default; sf: typeinf_local(interp::Core.Compiler.NativeInterpreter, frame::Core.Compiler.InferenceState) at abstractinterpretation.jl:1900\" role=\"graphics-symbol\" aria-roledescription=\"rect mark\" d=\"M9.828571428571427,335.25h0.2057142857142864v2.25h-0.2057142857142864Z\" fill=\"#4c78a8\" fill-opacity=\"1\" stroke=\"#505050\" stroke-width=\"0\"/><path aria-label=\"x1: 43; x2: 43.9; level: 26; level2: 26.9; status: Default; sf: abstract_eval_statement(interp::Core.Compiler.NativeInterpreter, e::Any, vtypes::Vector{Any}, sv::Core.Compiler.InferenceState) at abstractinterpretation.jl:1534\" role=\"graphics-symbol\" aria-roledescription=\"rect mark\" d=\"M9.828571428571427,332.75h0.2057142857142864v2.25h-0.2057142857142864Z\" fill=\"#4c78a8\" fill-opacity=\"1\" stroke=\"#505050\" stroke-width=\"0\"/><path aria-label=\"x1: 43; x2: 43.9; level: 27; level2: 27.9; status: Default; sf: abstract_call(interp::Core.Compiler.NativeInterpreter, fargs::Vector{Any}, argtypes::Vector{Any}, sv::Core.Compiler.InferenceState) at abstractinterpretation.jl:1382\" role=\"graphics-symbol\" aria-roledescription=\"rect mark\" d=\"M9.828571428571427,330.25h0.2057142857142864v2.25h-0.2057142857142864Z\" fill=\"#4c78a8\" fill-opacity=\"1\" stroke=\"#505050\" stroke-width=\"0\"/><path aria-label=\"x1: 43; x2: 43.9; level: 28; level2: 28.9; status: Default; sf: abstract_call(interp::Core.Compiler.NativeInterpreter, fargs::Vector{Any}, argtypes::Vector{Any}, sv::Core.Compiler.InferenceState, max_methods::Int64) at abstractinterpretation.jl:1397\" role=\"graphics-symbol\" aria-roledescription=\"rect mark\" d=\"M9.828571428571427,327.75h0.2057142857142864v2.25h-0.2057142857142864Z\" fill=\"#4c78a8\" fill-opacity=\"1\" stroke=\"#505050\" stroke-width=\"0\"/><path aria-label=\"x1: 43; x2: 43.9; level: 29; level2: 29.9; status: Default; sf: abstract_call_known(interp::Core.Compiler.NativeInterpreter, f::Any, fargs::Vector{Any}, argtypes::Vector{Any}, sv::Core.Compiler.InferenceState, max_methods::Int64) at abstractinterpretation.jl:1342\" role=\"graphics-symbol\" aria-roledescription=\"rect mark\" d=\"M9.828571428571427,325.25h0.2057142857142864v2.25h-0.2057142857142864Z\" fill=\"#4c78a8\" fill-opacity=\"1\" stroke=\"#505050\" stroke-width=\"0\"/><path aria-label=\"x1: 43; x2: 43.9; level: 30; level2: 30.9; status: Default; sf: abstract_call_gf_by_type(interp::Core.Compiler.NativeInterpreter, f::Any, fargs::Vector{Any}, argtypes::Vector{Any}, atype::Any, sv::Core.Compiler.InferenceState, max_methods::Int64) at abstractinterpretation.jl:113\" role=\"graphics-symbol\" aria-roledescription=\"rect mark\" d=\"M9.828571428571427,322.75h0.2057142857142864v2.25h-0.2057142857142864Z\" fill=\"#4c78a8\" fill-opacity=\"1\" stroke=\"#505050\" stroke-width=\"0\"/><path aria-label=\"x1: 43; x2: 43.9; level: 31; level2: 31.9; status: Default; sf: abstract_call_method_with_const_args(interp::Core.Compiler.NativeInterpreter, result::Core.Compiler.MethodCallResult, f::Any, argtypes::Vector{Any}, match::Core.MethodMatch, sv::Core.Compiler.InferenceState, va_override::Bool) at abstractinterpretation.jl:557\" role=\"graphics-symbol\" aria-roledescription=\"rect mark\" d=\"M9.828571428571427,320.25h0.2057142857142864v2.25h-0.2057142857142864Z\" fill=\"#4c78a8\" fill-opacity=\"1\" stroke=\"#505050\" stroke-width=\"0\"/><path aria-label=\"x1: 43; x2: 43.9; level: 32; level2: 32.9; status: Default; sf: typeinf(interp::Core.Compiler.NativeInterpreter, frame::Core.Compiler.InferenceState) at typeinfer.jl:209\" role=\"graphics-symbol\" aria-roledescription=\"rect mark\" d=\"M9.828571428571427,317.75h0.2057142857142864v2.25h-0.2057142857142864Z\" fill=\"#4c78a8\" fill-opacity=\"1\" stroke=\"#505050\" stroke-width=\"0\"/><path aria-label=\"x1: 43; x2: 43.9; level: 33; level2: 33.9; status: Default; sf: _typeinf(interp::Core.Compiler.NativeInterpreter, frame::Core.Compiler.InferenceState) at typeinfer.jl:255\" role=\"graphics-symbol\" aria-roledescription=\"rect mark\" d=\"M9.828571428571427,315.25h0.2057142857142864v2.25h-0.2057142857142864Z\" fill=\"#4c78a8\" fill-opacity=\"1\" stroke=\"#505050\" stroke-width=\"0\"/><path aria-label=\"x1: 43; x2: 43.9; level: 34; level2: 34.9; status: Default; sf: optimize at optimize.jl:296 [inlined]\" role=\"graphics-symbol\" aria-roledescription=\"rect mark\" d=\"M9.828571428571427,312.75h0.2057142857142864v2.25h-0.2057142857142864Z\" fill=\"#4c78a8\" fill-opacity=\"1\" stroke=\"#505050\" stroke-width=\"0\"/><path aria-label=\"x1: 43; x2: 43.9; level: 35; level2: 35.9; status: Default; sf: run_passes(ci::Core.CodeInfo, nargs::Int64, sv::Core.Compiler.OptimizationState) at optimize.jl:309\" role=\"graphics-symbol\" aria-roledescription=\"rect mark\" d=\"M9.828571428571427,310.25h0.2057142857142864v2.25h-0.2057142857142864Z\" fill=\"#4c78a8\" fill-opacity=\"1\" stroke=\"#505050\" stroke-width=\"0\"/><path aria-label=\"x1: 43; x2: 43.9; level: 36; level2: 36.9; status: Default; sf: compact! at ir.jl:1441 [inlined]\" role=\"graphics-symbol\" aria-roledescription=\"rect mark\" d=\"M9.828571428571427,307.75h0.2057142857142864v2.25h-0.2057142857142864Z\" fill=\"#4c78a8\" fill-opacity=\"1\" stroke=\"#505050\" stroke-width=\"0\"/><path aria-label=\"x1: 43; x2: 43.9; level: 37; level2: 37.9; status: Default; sf: compact!(code::Core.Compiler.IRCode, allow_cfg_transforms::Bool) at ir.jl:1441\" role=\"graphics-symbol\" aria-roledescription=\"rect mark\" d=\"M9.828571428571427,305.25h0.2057142857142864v2.25h-0.2057142857142864Z\" fill=\"#4c78a8\" fill-opacity=\"1\" stroke=\"#505050\" stroke-width=\"0\"/><path aria-label=\"x1: 43; x2: 43.9; level: 38; level2: 38.9; status: Default; sf: Core.Compiler.IncrementalCompact(code::Core.Compiler.IRCode, allow_cfg_transforms::Bool) at ir.jl:576\" role=\"graphics-symbol\" aria-roledescription=\"rect mark\" d=\"M9.828571428571427,302.75h0.2057142857142864v2.25h-0.2057142857142864Z\" fill=\"#4c78a8\" fill-opacity=\"1\" stroke=\"#505050\" stroke-width=\"0\"/><path aria-label=\"x1: 43; x2: 43.9; level: 39; level2: 39.9; status: Default; sf: my_sortperm(v::Vector{Int64}) at ir.jl:538\" role=\"graphics-symbol\" aria-roledescription=\"rect mark\" d=\"M9.828571428571427,300.25h0.2057142857142864v2.25h-0.2057142857142864Z\" fill=\"#4c78a8\" fill-opacity=\"1\" stroke=\"#505050\" stroke-width=\"0\"/><path aria-label=\"x1: 43; x2: 43.9; level: 40; level2: 40.9; status: Garbage collection; sf: Array at boot.jl:457 [inlined]\" role=\"graphics-symbol\" aria-roledescription=\"rect mark\" d=\"M9.828571428571427,297.75h0.2057142857142864v2.25h-0.2057142857142864Z\" fill=\"#f58518\" fill-opacity=\"1\" stroke=\"#505050\" stroke-width=\"0\"/><path aria-label=\"x1: 44; x2: 46.9; level: 25; level2: 25.9; status: Default; sf: typeinf_local(interp::Core.Compiler.NativeInterpreter, frame::Core.Compiler.InferenceState) at abstractinterpretation.jl:1918\" role=\"graphics-symbol\" aria-roledescription=\"rect mark\" d=\"M10.057142857142857,335.25h0.6628571428571437v2.25h-0.6628571428571437Z\" fill=\"#4c78a8\" fill-opacity=\"1\" stroke=\"#505050\" stroke-width=\"0\"/><path aria-label=\"x1: 44; x2: 46.9; level: 26; level2: 26.9; status: Default; sf: abstract_eval_statement(interp::Core.Compiler.NativeInterpreter, e::Any, vtypes::Vector{Any}, sv::Core.Compiler.InferenceState) at abstractinterpretation.jl:1534\" role=\"graphics-symbol\" aria-roledescription=\"rect mark\" d=\"M10.057142857142857,332.75h0.6628571428571437v2.25h-0.6628571428571437Z\" fill=\"#4c78a8\" fill-opacity=\"1\" stroke=\"#505050\" stroke-width=\"0\"/><path aria-label=\"x1: 44; x2: 46.9; level: 27; level2: 27.9; status: Default; sf: abstract_call(interp::Core.Compiler.NativeInterpreter, fargs::Vector{Any}, argtypes::Vector{Any}, sv::Core.Compiler.InferenceState) at abstractinterpretation.jl:1382\" role=\"graphics-symbol\" aria-roledescription=\"rect mark\" d=\"M10.057142857142857,330.25h0.6628571428571437v2.25h-0.6628571428571437Z\" fill=\"#4c78a8\" fill-opacity=\"1\" stroke=\"#505050\" stroke-width=\"0\"/><path aria-label=\"x1: 44; x2: 46.9; level: 28; level2: 28.9; status: Default; sf: abstract_call(interp::Core.Compiler.NativeInterpreter, fargs::Vector{Any}, argtypes::Vector{Any}, sv::Core.Compiler.InferenceState, max_methods::Int64) at abstractinterpretation.jl:1397\" role=\"graphics-symbol\" aria-roledescription=\"rect mark\" d=\"M10.057142857142857,327.75h0.6628571428571437v2.25h-0.6628571428571437Z\" fill=\"#4c78a8\" fill-opacity=\"1\" stroke=\"#505050\" stroke-width=\"0\"/><path aria-label=\"x1: 44; x2: 44.9; level: 29; level2: 29.9; status: Default; sf: abstract_call_known(interp::Core.Compiler.NativeInterpreter, f::Any, fargs::Vector{Any}, argtypes::Vector{Any}, sv::Core.Compiler.InferenceState, max_methods::Int64) at abstractinterpretation.jl:1249\" role=\"graphics-symbol\" aria-roledescription=\"rect mark\" d=\"M10.057142857142857,325.25h0.2057142857142864v2.25h-0.2057142857142864Z\" fill=\"#4c78a8\" fill-opacity=\"1\" stroke=\"#505050\" stroke-width=\"0\"/><path aria-label=\"x1: 44; x2: 44.9; level: 30; level2: 30.9; status: Default; sf: abstract_apply(interp::Core.Compiler.NativeInterpreter, argtypes::Vector{Any}, sv::Core.Compiler.InferenceState, max_methods::Int64) at abstractinterpretation.jl:987\" role=\"graphics-symbol\" aria-roledescription=\"rect mark\" d=\"M10.057142857142857,322.75h0.2057142857142864v2.25h-0.2057142857142864Z\" fill=\"#4c78a8\" fill-opacity=\"1\" stroke=\"#505050\" stroke-width=\"0\"/><path aria-label=\"x1: 44; x2: 44.9; level: 31; level2: 31.9; status: Default; sf: abstract_call(interp::Core.Compiler.NativeInterpreter, fargs::Nothing, argtypes::Vector{Any}, sv::Core.Compiler.InferenceState, max_methods::Int64) at abstractinterpretation.jl:1397\" role=\"graphics-symbol\" aria-roledescription=\"rect mark\" d=\"M10.057142857142857,320.25h0.2057142857142864v2.25h-0.2057142857142864Z\" fill=\"#4c78a8\" fill-opacity=\"1\" stroke=\"#505050\" stroke-width=\"0\"/><path aria-label=\"x1: 44; x2: 44.9; level: 32; level2: 32.9; status: Default; sf: abstract_call_known(interp::Core.Compiler.NativeInterpreter, f::Any, fargs::Nothing, argtypes::Vector{Any}, sv::Core.Compiler.InferenceState, max_methods::Int64) at abstractinterpretation.jl:1342\" role=\"graphics-symbol\" aria-roledescription=\"rect mark\" d=\"M10.057142857142857,317.75h0.2057142857142864v2.25h-0.2057142857142864Z\" fill=\"#4c78a8\" fill-opacity=\"1\" stroke=\"#505050\" stroke-width=\"0\"/><path aria-label=\"x1: 44; x2: 44.9; level: 33; level2: 33.9; status: Default; sf: abstract_call_gf_by_type(interp::Core.Compiler.NativeInterpreter, f::Any, fargs::Nothing, argtypes::Vector{Any}, atype::Any, sv::Core.Compiler.InferenceState, max_methods::Int64) at abstractinterpretation.jl:113\" role=\"graphics-symbol\" aria-roledescription=\"rect mark\" d=\"M10.057142857142857,315.25h0.2057142857142864v2.25h-0.2057142857142864Z\" fill=\"#4c78a8\" fill-opacity=\"1\" stroke=\"#505050\" stroke-width=\"0\"/><path aria-label=\"x1: 44; x2: 44.9; level: 34; level2: 34.9; status: Default; sf: abstract_call_method_with_const_args(interp::Core.Compiler.NativeInterpreter, result::Core.Compiler.MethodCallResult, f::Any, argtypes::Vector{Any}, match::Core.MethodMatch, sv::Core.Compiler.InferenceState, va_override::Bool) at abstractinterpretation.jl:557\" role=\"graphics-symbol\" aria-roledescription=\"rect mark\" d=\"M10.057142857142857,312.75h0.2057142857142864v2.25h-0.2057142857142864Z\" fill=\"#4c78a8\" fill-opacity=\"1\" stroke=\"#505050\" stroke-width=\"0\"/><path aria-label=\"x1: 44; x2: 44.9; level: 35; level2: 35.9; status: Default; sf: typeinf(interp::Core.Compiler.NativeInterpreter, frame::Core.Compiler.InferenceState) at typeinfer.jl:209\" role=\"graphics-symbol\" aria-roledescription=\"rect mark\" d=\"M10.057142857142857,310.25h0.2057142857142864v2.25h-0.2057142857142864Z\" fill=\"#4c78a8\" fill-opacity=\"1\" stroke=\"#505050\" stroke-width=\"0\"/><path aria-label=\"x1: 44; x2: 44.9; level: 36; level2: 36.9; status: Default; sf: _typeinf(interp::Core.Compiler.NativeInterpreter, frame::Core.Compiler.InferenceState) at typeinfer.jl:226\" role=\"graphics-symbol\" aria-roledescription=\"rect mark\" d=\"M10.057142857142857,307.75h0.2057142857142864v2.25h-0.2057142857142864Z\" fill=\"#4c78a8\" fill-opacity=\"1\" stroke=\"#505050\" stroke-width=\"0\"/><path aria-label=\"x1: 44; x2: 44.9; level: 37; level2: 37.9; status: Default; sf: typeinf_nocycle(interp::Core.Compiler.NativeInterpreter, frame::Core.Compiler.InferenceState) at abstractinterpretation.jl:2014\" role=\"graphics-symbol\" aria-roledescription=\"rect mark\" d=\"M10.057142857142857,305.25h0.2057142857142864v2.25h-0.2057142857142864Z\" fill=\"#4c78a8\" fill-opacity=\"1\" stroke=\"#505050\" stroke-width=\"0\"/><path aria-label=\"x1: 44; x2: 44.9; level: 38; level2: 38.9; status: Default; sf: typeinf_local(interp::Core.Compiler.NativeInterpreter, frame::Core.Compiler.InferenceState) at abstractinterpretation.jl:1918\" role=\"graphics-symbol\" aria-roledescription=\"rect mark\" d=\"M10.057142857142857,302.75h0.2057142857142864v2.25h-0.2057142857142864Z\" fill=\"#4c78a8\" fill-opacity=\"1\" stroke=\"#505050\" stroke-width=\"0\"/><path aria-label=\"x1: 44; x2: 44.9; level: 39; level2: 39.9; status: Default; sf: abstract_eval_statement(interp::Core.Compiler.NativeInterpreter, e::Any, vtypes::Vector{Any}, sv::Core.Compiler.InferenceState) at abstractinterpretation.jl:1534\" role=\"graphics-symbol\" aria-roledescription=\"rect mark\" d=\"M10.057142857142857,300.25h0.2057142857142864v2.25h-0.2057142857142864Z\" fill=\"#4c78a8\" fill-opacity=\"1\" stroke=\"#505050\" stroke-width=\"0\"/><path aria-label=\"x1: 44; x2: 44.9; level: 40; level2: 40.9; status: Default; sf: abstract_call(interp::Core.Compiler.NativeInterpreter, fargs::Vector{Any}, argtypes::Vector{Any}, sv::Core.Compiler.InferenceState) at abstractinterpretation.jl:1382\" role=\"graphics-symbol\" aria-roledescription=\"rect mark\" d=\"M10.057142857142857,297.75h0.2057142857142864v2.25h-0.2057142857142864Z\" fill=\"#4c78a8\" fill-opacity=\"1\" stroke=\"#505050\" stroke-width=\"0\"/><path aria-label=\"x1: 44; x2: 44.9; level: 41; level2: 41.9; status: Default; sf: abstract_call(interp::Core.Compiler.NativeInterpreter, fargs::Vector{Any}, argtypes::Vector{Any}, sv::Core.Compiler.InferenceState, max_methods::Int64) at abstractinterpretation.jl:1397\" role=\"graphics-symbol\" aria-roledescription=\"rect mark\" d=\"M10.057142857142857,295.25h0.2057142857142864v2.25h-0.2057142857142864Z\" fill=\"#4c78a8\" fill-opacity=\"1\" stroke=\"#505050\" stroke-width=\"0\"/><path aria-label=\"x1: 44; x2: 44.9; level: 42; level2: 42.9; status: Default; sf: abstract_call_known(interp::Core.Compiler.NativeInterpreter, f::Any, fargs::Vector{Any}, argtypes::Vector{Any}, sv::Core.Compiler.InferenceState, max_methods::Int64) at abstractinterpretation.jl:1342\" role=\"graphics-symbol\" aria-roledescription=\"rect mark\" d=\"M10.057142857142857,292.75h0.2057142857142864v2.25h-0.2057142857142864Z\" fill=\"#4c78a8\" fill-opacity=\"1\" stroke=\"#505050\" stroke-width=\"0\"/><path aria-label=\"x1: 44; x2: 44.9; level: 43; level2: 43.9; status: Default; sf: abstract_call_gf_by_type(interp::Core.Compiler.NativeInterpreter, f::Any, fargs::Vector{Any}, argtypes::Vector{Any}, atype::Any, sv::Core.Compiler.InferenceState, max_methods::Int64) at abstractinterpretation.jl:113\" role=\"graphics-symbol\" aria-roledescription=\"rect mark\" d=\"M10.057142857142857,290.25h0.2057142857142864v2.25h-0.2057142857142864Z\" fill=\"#4c78a8\" fill-opacity=\"1\" stroke=\"#505050\" stroke-width=\"0\"/><path aria-label=\"x1: 44; x2: 44.9; level: 44; level2: 44.9; status: Default; sf: abstract_call_method_with_const_args(interp::Core.Compiler.NativeInterpreter, result::Core.Compiler.MethodCallResult, f::Any, argtypes::Vector{Any}, match::Core.MethodMatch, sv::Core.Compiler.InferenceState, va_override::Bool) at abstractinterpretation.jl:557\" role=\"graphics-symbol\" aria-roledescription=\"rect mark\" d=\"M10.057142857142857,287.75h0.2057142857142864v2.25h-0.2057142857142864Z\" fill=\"#4c78a8\" fill-opacity=\"1\" stroke=\"#505050\" stroke-width=\"0\"/><path aria-label=\"x1: 44; x2: 44.9; level: 45; level2: 45.9; status: Default; sf: typeinf(interp::Core.Compiler.NativeInterpreter, frame::Core.Compiler.InferenceState) at typeinfer.jl:209\" role=\"graphics-symbol\" aria-roledescription=\"rect mark\" d=\"M10.057142857142857,285.25h0.2057142857142864v2.25h-0.2057142857142864Z\" fill=\"#4c78a8\" fill-opacity=\"1\" stroke=\"#505050\" stroke-width=\"0\"/><path aria-label=\"x1: 44; x2: 44.9; level: 46; level2: 46.9; status: Default; sf: _typeinf(interp::Core.Compiler.NativeInterpreter, frame::Core.Compiler.InferenceState) at typeinfer.jl:255\" role=\"graphics-symbol\" aria-roledescription=\"rect mark\" d=\"M10.057142857142857,282.75h0.2057142857142864v2.25h-0.2057142857142864Z\" fill=\"#4c78a8\" fill-opacity=\"1\" stroke=\"#505050\" stroke-width=\"0\"/><path aria-label=\"x1: 44; x2: 44.9; level: 47; level2: 47.9; status: Default; sf: optimize at optimize.jl:296 [inlined]\" role=\"graphics-symbol\" aria-roledescription=\"rect mark\" d=\"M10.057142857142857,280.25h0.2057142857142864v2.25h-0.2057142857142864Z\" fill=\"#4c78a8\" fill-opacity=\"1\" stroke=\"#505050\" stroke-width=\"0\"/><path aria-label=\"x1: 44; x2: 44.9; level: 48; level2: 48.9; status: Runtime dispatch; sf: run_passes(ci::Core.CodeInfo, nargs::Int64, sv::Core.Compiler.OptimizationState) at optimize.jl:307\" role=\"graphics-symbol\" aria-roledescription=\"rect mark\" d=\"M10.057142857142857,277.75h0.2057142857142864v2.25h-0.2057142857142864Z\" fill=\"#e45756\" fill-opacity=\"1\" stroke=\"#505050\" stroke-width=\"0\"/><path aria-label=\"x1: 44; x2: 44.9; level: 49; level2: 49.9; status: Default; sf: ssa_inlining_pass!(ir::Core.Compiler.IRCode, linetable::Vector{Core.LineInfoNode}, state::Core.Compiler.InliningState{Core.Compiler.EdgeTracker, Core.Compiler.WorldView{Core.Compiler.InternalCodeCache}, typeof(Core.Compiler.default_inlining_policy)}, propagate_inbounds::Bool) at inlining.jl:80\" role=\"graphics-symbol\" aria-roledescription=\"rect mark\" d=\"M10.057142857142857,275.25h0.2057142857142864v2.25h-0.2057142857142864Z\" fill=\"#4c78a8\" fill-opacity=\"1\" stroke=\"#505050\" stroke-width=\"0\"/><path aria-label=\"x1: 44; x2: 44.9; level: 50; level2: 50.9; status: Default; sf: assemble_inline_todo!(ir::Core.Compiler.IRCode, state::Core.Compiler.InliningState{Core.Compiler.EdgeTracker, Core.Compiler.WorldView{Core.Compiler.InternalCodeCache}, typeof(Core.Compiler.default_inlining_policy)}) at inlining.jl:1358\" role=\"graphics-symbol\" aria-roledescription=\"rect mark\" d=\"M10.057142857142857,272.75h0.2057142857142864v2.25h-0.2057142857142864Z\" fill=\"#4c78a8\" fill-opacity=\"1\" stroke=\"#505050\" stroke-width=\"0\"/><path aria-label=\"x1: 44; x2: 44.9; level: 51; level2: 51.9; status: Default; sf: process_simple!(ir::Core.Compiler.IRCode, todo::Vector{Pair{Int64, Any}}, idx::Int64, state::Core.Compiler.InliningState{Core.Compiler.EdgeTracker, Core.Compiler.WorldView{Core.Compiler.InternalCodeCache}, typeof(Core.Compiler.default_inlining_policy)}) at inlining.jl:1192\" role=\"graphics-symbol\" aria-roledescription=\"rect mark\" d=\"M10.057142857142857,270.25h0.2057142857142864v2.25h-0.2057142857142864Z\" fill=\"#4c78a8\" fill-opacity=\"1\" stroke=\"#505050\" stroke-width=\"0\"/><path aria-label=\"x1: 44; x2: 44.9; level: 52; level2: 52.9; status: Default; sf: with_atype at inlining.jl:20 [inlined]\" role=\"graphics-symbol\" aria-roledescription=\"rect mark\" d=\"M10.057142857142857,267.75h0.2057142857142864v2.25h-0.2057142857142864Z\" fill=\"#4c78a8\" fill-opacity=\"1\" stroke=\"#505050\" stroke-width=\"0\"/><path aria-label=\"x1: 44; x2: 44.9; level: 53; level2: 53.9; status: Default; sf: argtypes_to_type at typeutils.jl:53 [inlined]\" role=\"graphics-symbol\" aria-roledescription=\"rect mark\" d=\"M10.057142857142857,265.25h0.2057142857142864v2.25h-0.2057142857142864Z\" fill=\"#4c78a8\" fill-opacity=\"1\" stroke=\"#505050\" stroke-width=\"0\"/><path aria-label=\"x1: 44; x2: 44.9; level: 54; level2: 54.9; status: Default; sf: anymap(f::Core.Compiler.var&quot;#251#252&quot;, a::Vector{Any}) at utilities.jl:39\" role=\"graphics-symbol\" aria-roledescription=\"rect mark\" d=\"M10.057142857142857,262.75h0.2057142857142864v2.25h-0.2057142857142864Z\" fill=\"#4c78a8\" fill-opacity=\"1\" stroke=\"#505050\" stroke-width=\"0\"/><path aria-label=\"x1: 44; x2: 44.9; level: 55; level2: 55.9; status: Runtime dispatch; sf: (::Core.Compiler.var&quot;#251#252&quot;)(a::Any) at typeutils.jl:53\" role=\"graphics-symbol\" aria-roledescription=\"rect mark\" d=\"M10.057142857142857,260.25h0.2057142857142864v2.25h-0.2057142857142864Z\" fill=\"#e45756\" fill-opacity=\"1\" stroke=\"#505050\" stroke-width=\"0\"/><path aria-label=\"x1: 44; x2: 44.9; level: 56; level2: 56.9; status: Default; sf: widenconst(c::Core.Const) at typelattice.jl:286\" role=\"graphics-symbol\" aria-roledescription=\"rect mark\" d=\"M10.057142857142857,257.75h0.2057142857142864v2.25h-0.2057142857142864Z\" fill=\"#4c78a8\" fill-opacity=\"1\" stroke=\"#505050\" stroke-width=\"0\"/><path aria-label=\"x1: 45; x2: 45.9; level: 29; level2: 29.9; status: Default; sf: abstract_call_known(interp::Core.Compiler.NativeInterpreter, f::Any, fargs::Vector{Any}, argtypes::Vector{Any}, sv::Core.Compiler.InferenceState, max_methods::Int64) at abstractinterpretation.jl:1255\" role=\"graphics-symbol\" aria-roledescription=\"rect mark\" d=\"M10.285714285714285,325.25h0.2057142857142864v2.25h-0.2057142857142864Z\" fill=\"#4c78a8\" fill-opacity=\"1\" stroke=\"#505050\" stroke-width=\"0\"/><path aria-label=\"x1: 45; x2: 45.9; level: 30; level2: 30.9; status: Default; sf: abstract_call_builtin(interp::Core.Compiler.NativeInterpreter, f::Core.Builtin, fargs::Vector{Any}, argtypes::Vector{Any}, sv::Core.Compiler.InferenceState, max_methods::Int64) at abstractinterpretation.jl:1078\" role=\"graphics-symbol\" aria-roledescription=\"rect mark\" d=\"M10.285714285714285,322.75h0.2057142857142864v2.25h-0.2057142857142864Z\" fill=\"#4c78a8\" fill-opacity=\"1\" stroke=\"#505050\" stroke-width=\"0\"/><path aria-label=\"x1: 45; x2: 45.9; level: 31; level2: 31.9; status: Default; sf: builtin_tfunction(interp::Core.Compiler.AbstractInterpreter, f::Any, argtypes::Vector{Any}, sv::Union{Nothing, Core.Compiler.InferenceState}) at tfuncs.jl:1600\" role=\"graphics-symbol\" aria-roledescription=\"rect mark\" d=\"M10.285714285714285,320.25h0.2057142857142864v2.25h-0.2057142857142864Z\" fill=\"#4c78a8\" fill-opacity=\"1\" stroke=\"#505050\" stroke-width=\"0\"/><path aria-label=\"x1: 45; x2: 45.9; level: 32; level2: 32.9; status: Runtime dispatch; sf: tuple_tfunc(atypes::Vector{Any}) at tfuncs.jl:1464\" role=\"graphics-symbol\" aria-roledescription=\"rect mark\" d=\"M10.285714285714285,317.75h0.2057142857142864v2.25h-0.2057142857142864Z\" fill=\"#e45756\" fill-opacity=\"1\" stroke=\"#505050\" stroke-width=\"0\"/><path aria-label=\"x1: 46; x2: 46.9; level: 29; level2: 29.9; status: Default; sf: abstract_call_known(interp::Core.Compiler.NativeInterpreter, f::Any, fargs::Vector{Any}, argtypes::Vector{Any}, sv::Core.Compiler.InferenceState, max_methods::Int64) at abstractinterpretation.jl:1342\" role=\"graphics-symbol\" aria-roledescription=\"rect mark\" d=\"M10.514285714285714,325.25h0.2057142857142864v2.25h-0.2057142857142864Z\" fill=\"#4c78a8\" fill-opacity=\"1\" stroke=\"#505050\" stroke-width=\"0\"/><path aria-label=\"x1: 46; x2: 46.9; level: 30; level2: 30.9; status: Default; sf: abstract_call_gf_by_type(interp::Core.Compiler.NativeInterpreter, f::Any, fargs::Vector{Any}, argtypes::Vector{Any}, atype::Any, sv::Core.Compiler.InferenceState, max_methods::Int64) at abstractinterpretation.jl:113\" role=\"graphics-symbol\" aria-roledescription=\"rect mark\" d=\"M10.514285714285714,322.75h0.2057142857142864v2.25h-0.2057142857142864Z\" fill=\"#4c78a8\" fill-opacity=\"1\" stroke=\"#505050\" stroke-width=\"0\"/><path aria-label=\"x1: 46; x2: 46.9; level: 31; level2: 31.9; status: Default; sf: abstract_call_method_with_const_args(interp::Core.Compiler.NativeInterpreter, result::Core.Compiler.MethodCallResult, f::Any, argtypes::Vector{Any}, match::Core.MethodMatch, sv::Core.Compiler.InferenceState, va_override::Bool) at abstractinterpretation.jl:553\" role=\"graphics-symbol\" aria-roledescription=\"rect mark\" d=\"M10.514285714285714,320.25h0.2057142857142864v2.25h-0.2057142857142864Z\" fill=\"#4c78a8\" fill-opacity=\"1\" stroke=\"#505050\" stroke-width=\"0\"/><path aria-label=\"x1: 46; x2: 46.9; level: 32; level2: 32.9; status: Default; sf: Core.Compiler.InferenceState(result::Core.Compiler.InferenceResult, cached::Bool, interp::Core.Compiler.NativeInterpreter) at inferencestate.jl:234\" role=\"graphics-symbol\" aria-roledescription=\"rect mark\" d=\"M10.514285714285714,317.75h0.2057142857142864v2.25h-0.2057142857142864Z\" fill=\"#4c78a8\" fill-opacity=\"1\" stroke=\"#505050\" stroke-width=\"0\"/><path aria-label=\"x1: 46; x2: 46.9; level: 33; level2: 33.9; status: Default; sf: retrieve_code_info at utilities.jl:128 [inlined]\" role=\"graphics-symbol\" aria-roledescription=\"rect mark\" d=\"M10.514285714285714,315.25h0.2057142857142864v2.25h-0.2057142857142864Z\" fill=\"#4c78a8\" fill-opacity=\"1\" stroke=\"#505050\" stroke-width=\"0\"/><path aria-label=\"x1: 47; x2: 49.9; level: 13; level2: 13.9; status: Default; sf: _typeinf(interp::Core.Compiler.NativeInterpreter, frame::Core.Compiler.InferenceState) at typeinfer.jl:255\" role=\"graphics-symbol\" aria-roledescription=\"rect mark\" d=\"M10.742857142857144,365.25h0.6628571428571419v2.25h-0.6628571428571419Z\" fill=\"#4c78a8\" fill-opacity=\"1\" stroke=\"#505050\" stroke-width=\"0\"/><path aria-label=\"x1: 47; x2: 49.9; level: 14; level2: 14.9; status: Default; sf: optimize at optimize.jl:296 [inlined]\" role=\"graphics-symbol\" aria-roledescription=\"rect mark\" d=\"M10.742857142857144,362.75h0.6628571428571419v2.25h-0.6628571428571419Z\" fill=\"#4c78a8\" fill-opacity=\"1\" stroke=\"#505050\" stroke-width=\"0\"/><path aria-label=\"x1: 47; x2: 48.9; level: 15; level2: 15.9; status: Runtime dispatch; sf: run_passes(ci::Core.CodeInfo, nargs::Int64, sv::Core.Compiler.OptimizationState) at optimize.jl:307\" role=\"graphics-symbol\" aria-roledescription=\"rect mark\" d=\"M10.742857142857144,360.25h0.4342857142857124v2.25h-0.4342857142857124Z\" fill=\"#e45756\" fill-opacity=\"1\" stroke=\"#505050\" stroke-width=\"0\"/><path aria-label=\"x1: 47; x2: 47.9; level: 16; level2: 16.9; status: Default; sf: ssa_inlining_pass!(ir::Core.Compiler.IRCode, linetable::Vector{Core.LineInfoNode}, state::Core.Compiler.InliningState{Core.Compiler.EdgeTracker, Core.Compiler.WorldView{Core.Compiler.InternalCodeCache}, typeof(Core.Compiler.default_inlining_policy)}, propagate_inbounds::Bool) at inlining.jl:80\" role=\"graphics-symbol\" aria-roledescription=\"rect mark\" d=\"M10.742857142857144,357.75h0.20571428571428463v2.25h-0.20571428571428463Z\" fill=\"#4c78a8\" fill-opacity=\"1\" stroke=\"#505050\" stroke-width=\"0\"/><path aria-label=\"x1: 47; x2: 47.9; level: 17; level2: 17.9; status: Default; sf: assemble_inline_todo!(ir::Core.Compiler.IRCode, state::Core.Compiler.InliningState{Core.Compiler.EdgeTracker, Core.Compiler.WorldView{Core.Compiler.InternalCodeCache}, typeof(Core.Compiler.default_inlining_policy)}) at inlining.jl:1419\" role=\"graphics-symbol\" aria-roledescription=\"rect mark\" d=\"M10.742857142857144,355.25h0.20571428571428463v2.25h-0.20571428571428463Z\" fill=\"#4c78a8\" fill-opacity=\"1\" stroke=\"#505050\" stroke-width=\"0\"/><path aria-label=\"x1: 47; x2: 47.9; level: 18; level2: 18.9; status: Default; sf: analyze_single_call!(ir::Core.Compiler.IRCode, todo::Vector{Pair{Int64, Any}}, idx::Int64, stmt::Any, ::Core.Compiler.Signature, infos::Vector{Core.Compiler.MethodMatchInfo}, state::Core.Compiler.InliningState{Core.Compiler.EdgeTracker, Core.Compiler.WorldView{Core.Compiler.InternalCodeCache}, typeof(Core.Compiler.default_inlining_policy)}) at inlining.jl:1238\" role=\"graphics-symbol\" aria-roledescription=\"rect mark\" d=\"M10.742857142857144,352.75h0.20571428571428463v2.25h-0.20571428571428463Z\" fill=\"#4c78a8\" fill-opacity=\"1\" stroke=\"#505050\" stroke-width=\"0\"/><path aria-label=\"x1: 47; x2: 47.9; level: 19; level2: 19.9; status: Default; sf: analyze_method!(match::Core.MethodMatch, atypes::Vector{Any}, state::Core.Compiler.InliningState{Core.Compiler.EdgeTracker, Core.Compiler.WorldView{Core.Compiler.InternalCodeCache}, typeof(Core.Compiler.default_inlining_policy)}) at inlining.jl:851\" role=\"graphics-symbol\" aria-roledescription=\"rect mark\" d=\"M10.742857142857144,350.25h0.20571428571428463v2.25h-0.20571428571428463Z\" fill=\"#4c78a8\" fill-opacity=\"1\" stroke=\"#505050\" stroke-width=\"0\"/><path aria-label=\"x1: 47; x2: 47.9; level: 20; level2: 20.9; status: Runtime dispatch; sf: resolve_todo(todo::Core.Compiler.InliningTodo, state::Core.Compiler.InliningState{Core.Compiler.EdgeTracker, Core.Compiler.WorldView{Core.Compiler.InternalCodeCache}, typeof(Core.Compiler.default_inlining_policy)}) at inlining.jl:795\" role=\"graphics-symbol\" aria-roledescription=\"rect mark\" d=\"M10.742857142857144,347.75h0.20571428571428463v2.25h-0.20571428571428463Z\" fill=\"#e45756\" fill-opacity=\"1\" stroke=\"#505050\" stroke-width=\"0\"/><path aria-label=\"x1: 47; x2: 47.9; level: 21; level2: 21.9; status: Default; sf: Core.Compiler.InliningTodo(mi::Core.MethodInstance, src::Vector{UInt8}) at inlining.jl:860\" role=\"graphics-symbol\" aria-roledescription=\"rect mark\" d=\"M10.742857142857144,345.25h0.20571428571428463v2.25h-0.20571428571428463Z\" fill=\"#4c78a8\" fill-opacity=\"1\" stroke=\"#505050\" stroke-width=\"0\"/><path aria-label=\"x1: 48; x2: 48.9; level: 16; level2: 16.9; status: Default; sf: ssa_inlining_pass!(ir::Core.Compiler.IRCode, linetable::Vector{Core.LineInfoNode}, state::Core.Compiler.InliningState{Core.Compiler.EdgeTracker, Core.Compiler.WorldView{Core.Compiler.InternalCodeCache}, typeof(Core.Compiler.default_inlining_policy)}, propagate_inbounds::Bool) at inlining.jl:83\" role=\"graphics-symbol\" aria-roledescription=\"rect mark\" d=\"M10.971428571428572,357.75h0.20571428571428463v2.25h-0.20571428571428463Z\" fill=\"#4c78a8\" fill-opacity=\"1\" stroke=\"#505050\" stroke-width=\"0\"/><path aria-label=\"x1: 48; x2: 48.9; level: 17; level2: 17.9; status: Default; sf: batch_inline!(todo::Vector{Pair{Int64, Any}}, ir::Core.Compiler.IRCode, linetable::Vector{Core.LineInfoNode}, propagate_inbounds::Bool) at inlining.jl:594\" role=\"graphics-symbol\" aria-roledescription=\"rect mark\" d=\"M10.971428571428572,355.25h0.20571428571428463v2.25h-0.20571428571428463Z\" fill=\"#4c78a8\" fill-opacity=\"1\" stroke=\"#505050\" stroke-width=\"0\"/><path aria-label=\"x1: 48; x2: 48.9; level: 18; level2: 18.9; status: Default; sf: ir_inline_item!(compact::Core.Compiler.IncrementalCompact, idx::Int64, argexprs::Vector{Any}, linetable::Vector{Core.LineInfoNode}, item::Core.Compiler.InliningTodo, boundscheck::Symbol, todo_bbs::Vector{Tuple{Int64, Int64}}) at inlining.jl:400\" role=\"graphics-symbol\" aria-roledescription=\"rect mark\" d=\"M10.971428571428572,352.75h0.20571428571428463v2.25h-0.20571428571428463Z\" fill=\"#4c78a8\" fill-opacity=\"1\" stroke=\"#505050\" stroke-width=\"0\"/><path aria-label=\"x1: 48; x2: 48.9; level: 19; level2: 19.9; status: Default; sf: ssa_substitute! at inlining.jl:1528 [inlined]\" role=\"graphics-symbol\" aria-roledescription=\"rect mark\" d=\"M10.971428571428572,350.25h0.20571428571428463v2.25h-0.20571428571428463Z\" fill=\"#4c78a8\" fill-opacity=\"1\" stroke=\"#505050\" stroke-width=\"0\"/><path aria-label=\"x1: 48; x2: 48.9; level: 20; level2: 20.9; status: Default; sf: ssa_substitute_op!(val::Any, arg_replacements::Vector{Any}, spsig::Any, spvals::Core.SimpleVector, boundscheck::Symbol) at inlining.jl:1573\" role=\"graphics-symbol\" aria-roledescription=\"rect mark\" d=\"M10.971428571428572,347.75h0.20571428571428463v2.25h-0.20571428571428463Z\" fill=\"#4c78a8\" fill-opacity=\"1\" stroke=\"#505050\" stroke-width=\"0\"/><path aria-label=\"x1: 48; x2: 48.9; level: 21; level2: 21.9; status: Default; sf: ssa_substitute_op!(val::Any, arg_replacements::Vector{Any}, spsig::Any, spvals::Core.SimpleVector, boundscheck::Symbol) at inlining.jl:1531\" role=\"graphics-symbol\" aria-roledescription=\"rect mark\" d=\"M10.971428571428572,345.25h0.20571428571428463v2.25h-0.20571428571428463Z\" fill=\"#4c78a8\" fill-opacity=\"1\" stroke=\"#505050\" stroke-width=\"0\"/><path aria-label=\"x1: 49; x2: 49.9; level: 15; level2: 15.9; status: Default; sf: run_passes(ci::Core.CodeInfo, nargs::Int64, sv::Core.Compiler.OptimizationState) at optimize.jl:311\" role=\"graphics-symbol\" aria-roledescription=\"rect mark\" d=\"M11.200000000000001,360.25h0.20571428571428463v2.25h-0.20571428571428463Z\" fill=\"#4c78a8\" fill-opacity=\"1\" stroke=\"#505050\" stroke-width=\"0\"/><path aria-label=\"x1: 49; x2: 49.9; level: 16; level2: 16.9; status: Default; sf: getfield_elim_pass!(ir::Core.Compiler.IRCode) at passes.jl:727\" role=\"graphics-symbol\" aria-roledescription=\"rect mark\" d=\"M11.200000000000001,357.75h0.20571428571428463v2.25h-0.20571428571428463Z\" fill=\"#4c78a8\" fill-opacity=\"1\" stroke=\"#505050\" stroke-width=\"0\"/><path aria-label=\"x1: 49; x2: 49.9; level: 17; level2: 17.9; status: Default; sf: iterate(compact::Core.Compiler.IncrementalCompact, ::Tuple{Int64, Int64}) at ir.jl:1294\" role=\"graphics-symbol\" aria-roledescription=\"rect mark\" d=\"M11.200000000000001,355.25h0.20571428571428463v2.25h-0.20571428571428463Z\" fill=\"#4c78a8\" fill-opacity=\"1\" stroke=\"#505050\" stroke-width=\"0\"/><path aria-label=\"x1: 49; x2: 49.9; level: 18; level2: 18.9; status: Default; sf: process_node!(compact::Core.Compiler.IncrementalCompact, result_idx::Int64, inst::Core.Compiler.Instruction, idx::Int64, processed_idx::Int64, active_bb::Int64, do_rename_ssa::Bool) at ir.jl:1021\" role=\"graphics-symbol\" aria-roledescription=\"rect mark\" d=\"M11.200000000000001,352.75h0.20571428571428463v2.25h-0.20571428571428463Z\" fill=\"#4c78a8\" fill-opacity=\"1\" stroke=\"#505050\" stroke-width=\"0\"/><path aria-label=\"x1: 49; x2: 49.9; level: 19; level2: 19.9; status: Default; sf: renumber_ssa2!(stmt::Any, ssanums::Vector{Any}, used_ssas::Vector{Int64}, late_fixup::Vector{Int64}, result_idx::Int64, do_rename_ssa::Bool) at ir.jl:900\" role=\"graphics-symbol\" aria-roledescription=\"rect mark\" d=\"M11.200000000000001,350.25h0.20571428571428463v2.25h-0.20571428571428463Z\" fill=\"#4c78a8\" fill-opacity=\"1\" stroke=\"#505050\" stroke-width=\"0\"/><path aria-label=\"x1: 49; x2: 49.9; level: 20; level2: 20.9; status: Default; sf: userefs at ir.jl:461 [inlined]\" role=\"graphics-symbol\" aria-roledescription=\"rect mark\" d=\"M11.200000000000001,347.75h0.20571428571428463v2.25h-0.20571428571428463Z\" fill=\"#4c78a8\" fill-opacity=\"1\" stroke=\"#505050\" stroke-width=\"0\"/><path aria-label=\"x1: 49; x2: 49.9; level: 21; level2: 21.9; status: Default; sf: UseRefIterator at ir.jl:344 [inlined]\" role=\"graphics-symbol\" aria-roledescription=\"rect mark\" d=\"M11.200000000000001,345.25h0.20571428571428463v2.25h-0.20571428571428463Z\" fill=\"#4c78a8\" fill-opacity=\"1\" stroke=\"#505050\" stroke-width=\"0\"/><path aria-label=\"x1: 49; x2: 49.9; level: 22; level2: 22.9; status: Default; sf: UseRef at ir.jl:338 [inlined]\" role=\"graphics-symbol\" aria-roledescription=\"rect mark\" d=\"M11.200000000000001,342.75h0.20571428571428463v2.25h-0.20571428571428463Z\" fill=\"#4c78a8\" fill-opacity=\"1\" stroke=\"#505050\" stroke-width=\"0\"/><path aria-label=\"x1: 100; x2: 115.9; level: 9; level2: 9.9; status: Default; sf: single_timestep(ny::Int64, nx::Int64) at In[9]:27\" role=\"graphics-symbol\" aria-roledescription=\"rect mark\" d=\"M22.857142857142858,375.25h3.6342857142857135v2.25h-3.6342857142857135Z\" fill=\"#4c78a8\" fill-opacity=\"1\" stroke=\"#505050\" stroke-width=\"0\"/><path aria-label=\"x1: 100; x2: 100.9; level: 10; level2: 10.9; status: Runtime dispatch; sf: marker_to_basic_node(m::Markers, grid::CartesianGrid, fieldnames::Vector{String}) at Markers.jl:238\" role=\"graphics-symbol\" aria-roledescription=\"rect mark\" d=\"M22.857142857142858,372.75h0.2057142857142864v2.25h-0.2057142857142864Z\" fill=\"#e45756\" fill-opacity=\"1\" stroke=\"#505050\" stroke-width=\"0\"/><path aria-label=\"x1: 101; x2: 101.9; level: 10; level2: 10.9; status: Runtime dispatch; sf: marker_to_basic_node(m::Markers, grid::CartesianGrid, fieldnames::Vector{String}) at Markers.jl:240\" role=\"graphics-symbol\" aria-roledescription=\"rect mark\" d=\"M23.085714285714285,372.75h0.20571428571428996v2.25h-0.20571428571428996Z\" fill=\"#e45756\" fill-opacity=\"1\" stroke=\"#505050\" stroke-width=\"0\"/><path aria-label=\"x1: 102; x2: 102.9; level: 10; level2: 10.9; status: Runtime dispatch; sf: marker_to_basic_node(m::Markers, grid::CartesianGrid, fieldnames::Vector{String}) at Markers.jl:249\" role=\"graphics-symbol\" aria-roledescription=\"rect mark\" d=\"M23.314285714285717,372.75h0.2057142857142864v2.25h-0.2057142857142864Z\" fill=\"#e45756\" fill-opacity=\"1\" stroke=\"#505050\" stroke-width=\"0\"/><path aria-label=\"x1: 103; x2: 104.9; level: 10; level2: 10.9; status: Default; sf: marker_to_basic_node(m::Markers, grid::CartesianGrid, fieldnames::Vector{String}) at Markers.jl:250\" role=\"graphics-symbol\" aria-roledescription=\"rect mark\" d=\"M23.542857142857144,372.75h0.43428571428571416v2.25h-0.43428571428571416Z\" fill=\"#4c78a8\" fill-opacity=\"1\" stroke=\"#505050\" stroke-width=\"0\"/><path aria-label=\"x1: 103; x2: 103.9; level: 11; level2: 11.9; status: Runtime dispatch; sf: setindex! at array.jl:905 [inlined]\" role=\"graphics-symbol\" aria-roledescription=\"rect mark\" d=\"M23.542857142857144,370.25h0.2057142857142864v2.25h-0.2057142857142864Z\" fill=\"#e45756\" fill-opacity=\"1\" stroke=\"#505050\" stroke-width=\"0\"/><path aria-label=\"x1: 105; x2: 108.9; level: 10; level2: 10.9; status: Runtime dispatch; sf: marker_to_basic_node(m::Markers, grid::CartesianGrid, fieldnames::Vector{String}) at Markers.jl:251\" role=\"graphics-symbol\" aria-roledescription=\"rect mark\" d=\"M24,372.75h0.8914285714285732v2.25h-0.8914285714285732Z\" fill=\"#e45756\" fill-opacity=\"1\" stroke=\"#505050\" stroke-width=\"0\"/><path aria-label=\"x1: 105; x2: 105.9; level: 11; level2: 11.9; status: Runtime dispatch; sf: setindex! at array.jl:905 [inlined]\" role=\"graphics-symbol\" aria-roledescription=\"rect mark\" d=\"M24,370.25h0.2057142857142864v2.25h-0.2057142857142864Z\" fill=\"#e45756\" fill-opacity=\"1\" stroke=\"#505050\" stroke-width=\"0\"/><path aria-label=\"x1: 109; x2: 109.9; level: 10; level2: 10.9; status: Default; sf: marker_to_basic_node(m::Markers, grid::CartesianGrid, fieldnames::Vector{String}) at Markers.jl:252\" role=\"graphics-symbol\" aria-roledescription=\"rect mark\" d=\"M24.914285714285715,372.75h0.20571428571428996v2.25h-0.20571428571428996Z\" fill=\"#4c78a8\" fill-opacity=\"1\" stroke=\"#505050\" stroke-width=\"0\"/><path aria-label=\"x1: 109; x2: 109.9; level: 11; level2: 11.9; status: Runtime dispatch; sf: setindex! at array.jl:905 [inlined]\" role=\"graphics-symbol\" aria-roledescription=\"rect mark\" d=\"M24.914285714285715,370.25h0.20571428571428996v2.25h-0.20571428571428996Z\" fill=\"#e45756\" fill-opacity=\"1\" stroke=\"#505050\" stroke-width=\"0\"/><path aria-label=\"x1: 110; x2: 114.9; level: 10; level2: 10.9; status: Runtime dispatch; sf: marker_to_basic_node(m::Markers, grid::CartesianGrid, fieldnames::Vector{String}) at Markers.jl:253\" role=\"graphics-symbol\" aria-roledescription=\"rect mark\" d=\"M25.142857142857146,372.75h1.1199999999999974v2.25h-1.1199999999999974Z\" fill=\"#e45756\" fill-opacity=\"1\" stroke=\"#505050\" stroke-width=\"0\"/><path aria-label=\"x1: 110; x2: 110.9; level: 11; level2: 11.9; status: Default; sf: getindex at array.jl:862 [inlined]\" role=\"graphics-symbol\" aria-roledescription=\"rect mark\" d=\"M25.142857142857146,370.25h0.2057142857142864v2.25h-0.2057142857142864Z\" fill=\"#4c78a8\" fill-opacity=\"1\" stroke=\"#505050\" stroke-width=\"0\"/><path aria-label=\"x1: 111; x2: 112.9; level: 11; level2: 11.9; status: Runtime dispatch; sf: setindex! at array.jl:905 [inlined]\" role=\"graphics-symbol\" aria-roledescription=\"rect mark\" d=\"M25.371428571428574,370.25h0.43428571428571416v2.25h-0.43428571428571416Z\" fill=\"#e45756\" fill-opacity=\"1\" stroke=\"#505050\" stroke-width=\"0\"/><path aria-label=\"x1: 115; x2: 115.9; level: 10; level2: 10.9; status: Runtime dispatch; sf: marker_to_basic_node(m::Markers, grid::CartesianGrid, fieldnames::Vector{String}) at Markers.jl:257\" role=\"graphics-symbol\" aria-roledescription=\"rect mark\" d=\"M26.285714285714285,372.75h0.2057142857142864v2.25h-0.2057142857142864Z\" fill=\"#e45756\" fill-opacity=\"1\" stroke=\"#505050\" stroke-width=\"0\"/><path aria-label=\"x1: 116; x2: 116.9; level: 9; level2: 9.9; status: Default; sf: single_timestep(ny::Int64, nx::Int64) at In[9]:43\" role=\"graphics-symbol\" aria-roledescription=\"rect mark\" d=\"M26.514285714285712,375.25h0.2057142857142864v2.25h-0.2057142857142864Z\" fill=\"#4c78a8\" fill-opacity=\"1\" stroke=\"#505050\" stroke-width=\"0\"/><path aria-label=\"x1: 116; x2: 116.9; level: 10; level2: 10.9; status: Runtime dispatch; sf: form_stokes(grid::CartesianGrid, eta_s::Matrix{Float64}, eta_n::Matrix{Float64}, rho::Matrix{Float64}, bc::BoundaryConditions, gx::Float64, gy::Float64) at Stokes.jl:242\" role=\"graphics-symbol\" aria-roledescription=\"rect mark\" d=\"M26.514285714285712,372.75h0.2057142857142864v2.25h-0.2057142857142864Z\" fill=\"#e45756\" fill-opacity=\"1\" stroke=\"#505050\" stroke-width=\"0\"/><path aria-label=\"x1: 117; x2: 119.9; level: 9; level2: 9.9; status: Default; sf: single_timestep(ny::Int64, nx::Int64) at In[9]:44\" role=\"graphics-symbol\" aria-roledescription=\"rect mark\" d=\"M26.74285714285714,375.25h0.662857142857149v2.25h-0.662857142857149Z\" fill=\"#4c78a8\" fill-opacity=\"1\" stroke=\"#505050\" stroke-width=\"0\"/><path aria-label=\"x1: 117; x2: 119.9; level: 10; level2: 10.9; status: Default; sf: \\(A::SparseMatrixCSC{Float64, Int64}, B::Matrix{Float64}) at linalg.jl:1554\" role=\"graphics-symbol\" aria-roledescription=\"rect mark\" d=\"M26.74285714285714,372.75h0.662857142857149v2.25h-0.662857142857149Z\" fill=\"#4c78a8\" fill-opacity=\"1\" stroke=\"#505050\" stroke-width=\"0\"/><path aria-label=\"x1: 117; x2: 119.9; level: 11; level2: 11.9; status: Default; sf: lu at umfpack.jl:196 [inlined]\" role=\"graphics-symbol\" aria-roledescription=\"rect mark\" d=\"M26.74285714285714,370.25h0.662857142857149v2.25h-0.662857142857149Z\" fill=\"#4c78a8\" fill-opacity=\"1\" stroke=\"#505050\" stroke-width=\"0\"/><path aria-label=\"x1: 117; x2: 119.9; level: 12; level2: 12.9; status: Default; sf: lu(S::SparseMatrixCSC{Float64, Int64}; check::Bool) at umfpack.jl:202\" role=\"graphics-symbol\" aria-roledescription=\"rect mark\" d=\"M26.74285714285714,367.75h0.662857142857149v2.25h-0.662857142857149Z\" fill=\"#4c78a8\" fill-opacity=\"1\" stroke=\"#505050\" stroke-width=\"0\"/><path aria-label=\"x1: 117; x2: 119.9; level: 13; level2: 13.9; status: Default; sf: umfpack_numeric! at umfpack.jl:385 [inlined]\" role=\"graphics-symbol\" aria-roledescription=\"rect mark\" d=\"M26.74285714285714,365.25h0.662857142857149v2.25h-0.662857142857149Z\" fill=\"#4c78a8\" fill-opacity=\"1\" stroke=\"#505050\" stroke-width=\"0\"/><path aria-label=\"x1: 117; x2: 117.9; level: 14; level2: 14.9; status: Default; sf: umfpack_numeric!(U::SuiteSparse.UMFPACK.UmfpackLU{Float64, Int64}; reuse_numeric::Bool) at umfpack.jl:386\" role=\"graphics-symbol\" aria-roledescription=\"rect mark\" d=\"M26.74285714285714,362.75h0.2057142857142864v2.25h-0.2057142857142864Z\" fill=\"#4c78a8\" fill-opacity=\"1\" stroke=\"#505050\" stroke-width=\"0\"/><path aria-label=\"x1: 117; x2: 117.9; level: 15; level2: 15.9; status: Default; sf: umfpack_symbolic!(U::SuiteSparse.UMFPACK.UmfpackLU{Float64, Int64}) at umfpack.jl:365\" role=\"graphics-symbol\" aria-roledescription=\"rect mark\" d=\"M26.74285714285714,360.25h0.2057142857142864v2.25h-0.2057142857142864Z\" fill=\"#4c78a8\" fill-opacity=\"1\" stroke=\"#505050\" stroke-width=\"0\"/><path aria-label=\"x1: 118; x2: 119.9; level: 14; level2: 14.9; status: Default; sf: umfpack_numeric!(U::SuiteSparse.UMFPACK.UmfpackLU{Float64, Int64}; reuse_numeric::Bool) at umfpack.jl:388\" role=\"graphics-symbol\" aria-roledescription=\"rect mark\" d=\"M26.971428571428575,362.75h0.43428571428571416v2.25h-0.43428571428571416Z\" fill=\"#4c78a8\" fill-opacity=\"1\" stroke=\"#505050\" stroke-width=\"0\"/><path aria-label=\"x1: 120; x2: 132.9; level: 9; level2: 9.9; status: Default; sf: single_timestep(ny::Int64, nx::Int64) at In[9]:50\" role=\"graphics-symbol\" aria-roledescription=\"rect mark\" d=\"M27.42857142857143,375.25h2.9485714285714266v2.25h-2.9485714285714266Z\" fill=\"#4c78a8\" fill-opacity=\"1\" stroke=\"#505050\" stroke-width=\"0\"/><path aria-label=\"x1: 120; x2: 121.9; level: 10; level2: 10.9; status: Runtime dispatch; sf: marker_to_cell_center(m::Markers, grid::CartesianGrid, fieldnames::Vector{String}) at Markers.jl:155\" role=\"graphics-symbol\" aria-roledescription=\"rect mark\" d=\"M27.42857142857143,372.75h0.43428571428571416v2.25h-0.43428571428571416Z\" fill=\"#e45756\" fill-opacity=\"1\" stroke=\"#505050\" stroke-width=\"0\"/><path aria-label=\"x1: 122; x2: 122.9; level: 10; level2: 10.9; status: Runtime dispatch; sf: marker_to_cell_center(m::Markers, grid::CartesianGrid, fieldnames::Vector{String}) at Markers.jl:158\" role=\"graphics-symbol\" aria-roledescription=\"rect mark\" d=\"M27.885714285714286,372.75h0.2057142857142864v2.25h-0.2057142857142864Z\" fill=\"#e45756\" fill-opacity=\"1\" stroke=\"#505050\" stroke-width=\"0\"/><path aria-label=\"x1: 123; x2: 123.9; level: 10; level2: 10.9; status: Runtime dispatch; sf: marker_to_cell_center(m::Markers, grid::CartesianGrid, fieldnames::Vector{String}) at Markers.jl:160\" role=\"graphics-symbol\" aria-roledescription=\"rect mark\" d=\"M28.114285714285714,372.75h0.2057142857142864v2.25h-0.2057142857142864Z\" fill=\"#e45756\" fill-opacity=\"1\" stroke=\"#505050\" stroke-width=\"0\"/><path aria-label=\"x1: 124; x2: 124.9; level: 10; level2: 10.9; status: Default; sf: marker_to_cell_center(m::Markers, grid::CartesianGrid, fieldnames::Vector{String}) at Markers.jl:167\" role=\"graphics-symbol\" aria-roledescription=\"rect mark\" d=\"M28.34285714285714,372.75h0.2057142857142864v2.25h-0.2057142857142864Z\" fill=\"#4c78a8\" fill-opacity=\"1\" stroke=\"#505050\" stroke-width=\"0\"/><path aria-label=\"x1: 125; x2: 127.9; level: 10; level2: 10.9; status: Runtime dispatch; sf: marker_to_cell_center(m::Markers, grid::CartesianGrid, fieldnames::Vector{String}) at Markers.jl:168\" role=\"graphics-symbol\" aria-roledescription=\"rect mark\" d=\"M28.57142857142857,372.75h0.662857142857149v2.25h-0.662857142857149Z\" fill=\"#e45756\" fill-opacity=\"1\" stroke=\"#505050\" stroke-width=\"0\"/><path aria-label=\"x1: 125; x2: 125.9; level: 11; level2: 11.9; status: Runtime dispatch; sf: setindex! at array.jl:905 [inlined]\" role=\"graphics-symbol\" aria-roledescription=\"rect mark\" d=\"M28.57142857142857,370.25h0.2057142857142864v2.25h-0.2057142857142864Z\" fill=\"#e45756\" fill-opacity=\"1\" stroke=\"#505050\" stroke-width=\"0\"/><path aria-label=\"x1: 128; x2: 128.9; level: 10; level2: 10.9; status: Runtime dispatch; sf: marker_to_cell_center(m::Markers, grid::CartesianGrid, fieldnames::Vector{String}) at Markers.jl:169\" role=\"graphics-symbol\" aria-roledescription=\"rect mark\" d=\"M29.25714285714286,372.75h0.2057142857142864v2.25h-0.2057142857142864Z\" fill=\"#e45756\" fill-opacity=\"1\" stroke=\"#505050\" stroke-width=\"0\"/><path aria-label=\"x1: 129; x2: 129.9; level: 10; level2: 10.9; status: Default; sf: marker_to_cell_center(m::Markers, grid::CartesianGrid, fieldnames::Vector{String}) at Markers.jl:170\" role=\"graphics-symbol\" aria-roledescription=\"rect mark\" d=\"M29.485714285714288,372.75h0.2057142857142864v2.25h-0.2057142857142864Z\" fill=\"#4c78a8\" fill-opacity=\"1\" stroke=\"#505050\" stroke-width=\"0\"/><path aria-label=\"x1: 129; x2: 129.9; level: 11; level2: 11.9; status: Runtime dispatch; sf: setindex! at array.jl:905 [inlined]\" role=\"graphics-symbol\" aria-roledescription=\"rect mark\" d=\"M29.485714285714288,370.25h0.2057142857142864v2.25h-0.2057142857142864Z\" fill=\"#e45756\" fill-opacity=\"1\" stroke=\"#505050\" stroke-width=\"0\"/><path aria-label=\"x1: 130; x2: 131.9; level: 10; level2: 10.9; status: Default; sf: marker_to_cell_center(m::Markers, grid::CartesianGrid, fieldnames::Vector{String}) at Markers.jl:173\" role=\"graphics-symbol\" aria-roledescription=\"rect mark\" d=\"M29.714285714285715,372.75h0.43428571428571416v2.25h-0.43428571428571416Z\" fill=\"#4c78a8\" fill-opacity=\"1\" stroke=\"#505050\" stroke-width=\"0\"/><path aria-label=\"x1: 130; x2: 131.9; level: 11; level2: 11.9; status: Runtime dispatch; sf: setindex! at array.jl:905 [inlined]\" role=\"graphics-symbol\" aria-roledescription=\"rect mark\" d=\"M29.714285714285715,370.25h0.43428571428571416v2.25h-0.43428571428571416Z\" fill=\"#e45756\" fill-opacity=\"1\" stroke=\"#505050\" stroke-width=\"0\"/><path aria-label=\"x1: 132; x2: 132.9; level: 10; level2: 10.9; status: Default; sf: marker_to_cell_center(m::Markers, grid::CartesianGrid, fieldnames::Vector{String}) at Markers.jl:174\" role=\"graphics-symbol\" aria-roledescription=\"rect mark\" d=\"M30.17142857142857,372.75h0.2057142857142864v2.25h-0.2057142857142864Z\" fill=\"#4c78a8\" fill-opacity=\"1\" stroke=\"#505050\" stroke-width=\"0\"/><path aria-label=\"x1: 132; x2: 132.9; level: 11; level2: 11.9; status: Runtime dispatch; sf: setindex! at array.jl:905 [inlined]\" role=\"graphics-symbol\" aria-roledescription=\"rect mark\" d=\"M30.17142857142857,370.25h0.2057142857142864v2.25h-0.2057142857142864Z\" fill=\"#e45756\" fill-opacity=\"1\" stroke=\"#505050\" stroke-width=\"0\"/><path aria-label=\"x1: 133; x2: 133.9; level: 9; level2: 9.9; status: Default; sf: single_timestep(ny::Int64, nx::Int64) at In[9]:56\" role=\"graphics-symbol\" aria-roledescription=\"rect mark\" d=\"M30.4,375.25h0.2057142857142864v2.25h-0.2057142857142864Z\" fill=\"#4c78a8\" fill-opacity=\"1\" stroke=\"#505050\" stroke-width=\"0\"/><path aria-label=\"x1: 133; x2: 133.9; level: 10; level2: 10.9; status: Default; sf: \\(A::SparseMatrixCSC{Float64, Int64}, B::Matrix{Float64}) at linalg.jl:1554\" role=\"graphics-symbol\" aria-roledescription=\"rect mark\" d=\"M30.4,372.75h0.2057142857142864v2.25h-0.2057142857142864Z\" fill=\"#4c78a8\" fill-opacity=\"1\" stroke=\"#505050\" stroke-width=\"0\"/><path aria-label=\"x1: 133; x2: 133.9; level: 11; level2: 11.9; status: Default; sf: lu at umfpack.jl:196 [inlined]\" role=\"graphics-symbol\" aria-roledescription=\"rect mark\" d=\"M30.4,370.25h0.2057142857142864v2.25h-0.2057142857142864Z\" fill=\"#4c78a8\" fill-opacity=\"1\" stroke=\"#505050\" stroke-width=\"0\"/><path aria-label=\"x1: 133; x2: 133.9; level: 12; level2: 12.9; status: Default; sf: lu(S::SparseMatrixCSC{Float64, Int64}; check::Bool) at umfpack.jl:202\" role=\"graphics-symbol\" aria-roledescription=\"rect mark\" d=\"M30.4,367.75h0.2057142857142864v2.25h-0.2057142857142864Z\" fill=\"#4c78a8\" fill-opacity=\"1\" stroke=\"#505050\" stroke-width=\"0\"/><path aria-label=\"x1: 133; x2: 133.9; level: 13; level2: 13.9; status: Default; sf: umfpack_numeric! at umfpack.jl:385 [inlined]\" role=\"graphics-symbol\" aria-roledescription=\"rect mark\" d=\"M30.4,365.25h0.2057142857142864v2.25h-0.2057142857142864Z\" fill=\"#4c78a8\" fill-opacity=\"1\" stroke=\"#505050\" stroke-width=\"0\"/><path aria-label=\"x1: 133; x2: 133.9; level: 14; level2: 14.9; status: Default; sf: umfpack_numeric!(U::SuiteSparse.UMFPACK.UmfpackLU{Float64, Int64}; reuse_numeric::Bool) at umfpack.jl:386\" role=\"graphics-symbol\" aria-roledescription=\"rect mark\" d=\"M30.4,362.75h0.2057142857142864v2.25h-0.2057142857142864Z\" fill=\"#4c78a8\" fill-opacity=\"1\" stroke=\"#505050\" stroke-width=\"0\"/><path aria-label=\"x1: 133; x2: 133.9; level: 15; level2: 15.9; status: Default; sf: umfpack_symbolic!(U::SuiteSparse.UMFPACK.UmfpackLU{Float64, Int64}) at umfpack.jl:365\" role=\"graphics-symbol\" aria-roledescription=\"rect mark\" d=\"M30.4,360.25h0.2057142857142864v2.25h-0.2057142857142864Z\" fill=\"#4c78a8\" fill-opacity=\"1\" stroke=\"#505050\" stroke-width=\"0\"/><path aria-label=\"x1: 134; x2: 146.9; level: 9; level2: 9.9; status: Default; sf: single_timestep(ny::Int64, nx::Int64) at In[9]:61\" role=\"graphics-symbol\" aria-roledescription=\"rect mark\" d=\"M30.628571428571426,375.25h2.9485714285714337v2.25h-2.9485714285714337Z\" fill=\"#4c78a8\" fill-opacity=\"1\" stroke=\"#505050\" stroke-width=\"0\"/><path aria-label=\"x1: 134; x2: 134.9; level: 10; level2: 10.9; status: Default; sf: subgrid_temperature_relaxation!(markers::Markers, grid::CartesianGrid, Tlast::Matrix{Float64}, Cp::Float64, kThermal::Float64, dt::Float64) at In[7]:150\" role=\"graphics-symbol\" aria-roledescription=\"rect mark\" d=\"M30.628571428571426,372.75h0.2057142857142864v2.25h-0.2057142857142864Z\" fill=\"#4c78a8\" fill-opacity=\"1\" stroke=\"#505050\" stroke-width=\"0\"/><path aria-label=\"x1: 134; x2: 134.9; level: 11; level2: 11.9; status: Default; sf: macro expansion at threadingconstructs.jl:97 [inlined]\" role=\"graphics-symbol\" aria-roledescription=\"rect mark\" d=\"M30.628571428571426,370.25h0.2057142857142864v2.25h-0.2057142857142864Z\" fill=\"#4c78a8\" fill-opacity=\"1\" stroke=\"#505050\" stroke-width=\"0\"/><path aria-label=\"x1: 134; x2: 134.9; level: 12; level2: 12.9; status: Default; sf: threading_run(func::Function) at threadingconstructs.jl:38\" role=\"graphics-symbol\" aria-roledescription=\"rect mark\" d=\"M30.628571428571426,367.75h0.2057142857142864v2.25h-0.2057142857142864Z\" fill=\"#4c78a8\" fill-opacity=\"1\" stroke=\"#505050\" stroke-width=\"0\"/><path aria-label=\"x1: 134; x2: 134.9; level: 13; level2: 13.9; status: Default; sf: wait at task.jl:332 [inlined]\" role=\"graphics-symbol\" aria-roledescription=\"rect mark\" d=\"M30.628571428571426,365.25h0.2057142857142864v2.25h-0.2057142857142864Z\" fill=\"#4c78a8\" fill-opacity=\"1\" stroke=\"#505050\" stroke-width=\"0\"/><path aria-label=\"x1: 134; x2: 134.9; level: 14; level2: 14.9; status: Runtime dispatch; sf: _wait(t::Task) at task.jl:293\" role=\"graphics-symbol\" aria-roledescription=\"rect mark\" d=\"M30.628571428571426,362.75h0.2057142857142864v2.25h-0.2057142857142864Z\" fill=\"#e45756\" fill-opacity=\"1\" stroke=\"#505050\" stroke-width=\"0\"/><path aria-label=\"x1: 134; x2: 134.9; level: 15; level2: 15.9; status: Default; sf: wait(c::Base.GenericCondition{Base.Threads.SpinLock}) at condition.jl:123\" role=\"graphics-symbol\" aria-roledescription=\"rect mark\" d=\"M30.628571428571426,360.25h0.2057142857142864v2.25h-0.2057142857142864Z\" fill=\"#4c78a8\" fill-opacity=\"1\" stroke=\"#505050\" stroke-width=\"0\"/><path aria-label=\"x1: 134; x2: 134.9; level: 16; level2: 16.9; status: Default; sf: wait() at task.jl:836\" role=\"graphics-symbol\" aria-roledescription=\"rect mark\" d=\"M30.628571428571426,357.75h0.2057142857142864v2.25h-0.2057142857142864Z\" fill=\"#4c78a8\" fill-opacity=\"1\" stroke=\"#505050\" stroke-width=\"0\"/><path aria-label=\"x1: 134; x2: 134.9; level: 17; level2: 17.9; status: Default; sf: poptask(W::Base.InvasiveLinkedListSynchronized{Task}) at task.jl:827\" role=\"graphics-symbol\" aria-roledescription=\"rect mark\" d=\"M30.628571428571426,355.25h0.2057142857142864v2.25h-0.2057142857142864Z\" fill=\"#4c78a8\" fill-opacity=\"1\" stroke=\"#505050\" stroke-width=\"0\"/><path aria-label=\"x1: 135; x2: 146.9; level: 10; level2: 10.9; status: Default; sf: subgrid_temperature_relaxation!(markers::Markers, grid::CartesianGrid, Tlast::Matrix{Float64}, Cp::Float64, kThermal::Float64, dt::Float64) at In[7]:159\" role=\"graphics-symbol\" aria-roledescription=\"rect mark\" d=\"M30.857142857142854,372.75h2.720000000000006v2.25h-2.720000000000006Z\" fill=\"#4c78a8\" fill-opacity=\"1\" stroke=\"#505050\" stroke-width=\"0\"/><path aria-label=\"x1: 135; x2: 135.9; level: 11; level2: 11.9; status: Default; sf: marker_to_cell_center(m::Markers, grid::CartesianGrid, markerfield::Vector{Float64}) at Markers.jl:197\" role=\"graphics-symbol\" aria-roledescription=\"rect mark\" d=\"M30.857142857142854,370.25h0.2057142857142864v2.25h-0.2057142857142864Z\" fill=\"#4c78a8\" fill-opacity=\"1\" stroke=\"#505050\" stroke-width=\"0\"/><path aria-label=\"x1: 136; x2: 136.9; level: 11; level2: 11.9; status: Runtime dispatch; sf: marker_to_cell_center(m::Markers, grid::CartesianGrid, markerfield::Vector{Float64}) at Markers.jl:206\" role=\"graphics-symbol\" aria-roledescription=\"rect mark\" d=\"M31.085714285714282,370.25h0.2057142857142864v2.25h-0.2057142857142864Z\" fill=\"#e45756\" fill-opacity=\"1\" stroke=\"#505050\" stroke-width=\"0\"/><path aria-label=\"x1: 137; x2: 137.9; level: 11; level2: 11.9; status: Default; sf: marker_to_cell_center(m::Markers, grid::CartesianGrid, markerfield::Vector{Float64}) at Markers.jl:208\" role=\"graphics-symbol\" aria-roledescription=\"rect mark\" d=\"M31.314285714285717,370.25h0.2057142857142864v2.25h-0.2057142857142864Z\" fill=\"#4c78a8\" fill-opacity=\"1\" stroke=\"#505050\" stroke-width=\"0\"/><path aria-label=\"x1: 137; x2: 137.9; level: 12; level2: 12.9; status: Runtime dispatch; sf: setindex! at array.jl:905 [inlined]\" role=\"graphics-symbol\" aria-roledescription=\"rect mark\" d=\"M31.314285714285717,367.75h0.2057142857142864v2.25h-0.2057142857142864Z\" fill=\"#e45756\" fill-opacity=\"1\" stroke=\"#505050\" stroke-width=\"0\"/><path aria-label=\"x1: 138; x2: 139.9; level: 11; level2: 11.9; status: Default; sf: marker_to_cell_center(m::Markers, grid::CartesianGrid, markerfield::Vector{Float64}) at Markers.jl:209\" role=\"graphics-symbol\" aria-roledescription=\"rect mark\" d=\"M31.542857142857144,370.25h0.43428571428571416v2.25h-0.43428571428571416Z\" fill=\"#4c78a8\" fill-opacity=\"1\" stroke=\"#505050\" stroke-width=\"0\"/><path aria-label=\"x1: 138; x2: 138.9; level: 12; level2: 12.9; status: Runtime dispatch; sf: setindex! at array.jl:905 [inlined]\" role=\"graphics-symbol\" aria-roledescription=\"rect mark\" d=\"M31.542857142857144,367.75h0.2057142857142864v2.25h-0.2057142857142864Z\" fill=\"#e45756\" fill-opacity=\"1\" stroke=\"#505050\" stroke-width=\"0\"/><path aria-label=\"x1: 140; x2: 141.9; level: 11; level2: 11.9; status: Runtime dispatch; sf: marker_to_cell_center(m::Markers, grid::CartesianGrid, markerfield::Vector{Float64}) at Markers.jl:210\" role=\"graphics-symbol\" aria-roledescription=\"rect mark\" d=\"M32,370.25h0.43428571428571416v2.25h-0.43428571428571416Z\" fill=\"#e45756\" fill-opacity=\"1\" stroke=\"#505050\" stroke-width=\"0\"/><path aria-label=\"x1: 140; x2: 140.9; level: 12; level2: 12.9; status: Runtime dispatch; sf: setindex! at array.jl:905 [inlined]\" role=\"graphics-symbol\" aria-roledescription=\"rect mark\" d=\"M32,367.75h0.2057142857142864v2.25h-0.2057142857142864Z\" fill=\"#e45756\" fill-opacity=\"1\" stroke=\"#505050\" stroke-width=\"0\"/><path aria-label=\"x1: 142; x2: 142.9; level: 11; level2: 11.9; status: Default; sf: marker_to_cell_center(m::Markers, grid::CartesianGrid, markerfield::Vector{Float64}) at Markers.jl:213\" role=\"graphics-symbol\" aria-roledescription=\"rect mark\" d=\"M32.457142857142856,370.25h0.2057142857142864v2.25h-0.2057142857142864Z\" fill=\"#4c78a8\" fill-opacity=\"1\" stroke=\"#505050\" stroke-width=\"0\"/><path aria-label=\"x1: 142; x2: 142.9; level: 12; level2: 12.9; status: Default; sf: getindex at array.jl:862 [inlined]\" role=\"graphics-symbol\" aria-roledescription=\"rect mark\" d=\"M32.457142857142856,367.75h0.2057142857142864v2.25h-0.2057142857142864Z\" fill=\"#4c78a8\" fill-opacity=\"1\" stroke=\"#505050\" stroke-width=\"0\"/><path aria-label=\"x1: 143; x2: 143.9; level: 11; level2: 11.9; status: Default; sf: marker_to_cell_center(m::Markers, grid::CartesianGrid, markerfield::Vector{Float64}) at Markers.jl:214\" role=\"graphics-symbol\" aria-roledescription=\"rect mark\" d=\"M32.68571428571428,370.25h0.2057142857142864v2.25h-0.2057142857142864Z\" fill=\"#4c78a8\" fill-opacity=\"1\" stroke=\"#505050\" stroke-width=\"0\"/><path aria-label=\"x1: 143; x2: 143.9; level: 12; level2: 12.9; status: Runtime dispatch; sf: setindex! at array.jl:905 [inlined]\" role=\"graphics-symbol\" aria-roledescription=\"rect mark\" d=\"M32.68571428571428,367.75h0.2057142857142864v2.25h-0.2057142857142864Z\" fill=\"#e45756\" fill-opacity=\"1\" stroke=\"#505050\" stroke-width=\"0\"/><path aria-label=\"x1: 144; x2: 145.9; level: 11; level2: 11.9; status: Runtime dispatch; sf: marker_to_cell_center(m::Markers, grid::CartesianGrid, markerfield::Vector{Float64}) at Markers.jl:215\" role=\"graphics-symbol\" aria-roledescription=\"rect mark\" d=\"M32.91428571428571,370.25h0.43428571428571416v2.25h-0.43428571428571416Z\" fill=\"#e45756\" fill-opacity=\"1\" stroke=\"#505050\" stroke-width=\"0\"/><path aria-label=\"x1: 144; x2: 144.9; level: 12; level2: 12.9; status: Runtime dispatch; sf: setindex! at array.jl:905 [inlined]\" role=\"graphics-symbol\" aria-roledescription=\"rect mark\" d=\"M32.91428571428571,367.75h0.2057142857142864v2.25h-0.2057142857142864Z\" fill=\"#e45756\" fill-opacity=\"1\" stroke=\"#505050\" stroke-width=\"0\"/><path aria-label=\"x1: 146; x2: 146.9; level: 11; level2: 11.9; status: Default; sf: marker_to_cell_center(m::Markers, grid::CartesianGrid, markerfield::Vector{Float64}) at Markers.jl:216\" role=\"graphics-symbol\" aria-roledescription=\"rect mark\" d=\"M33.371428571428574,370.25h0.2057142857142864v2.25h-0.2057142857142864Z\" fill=\"#4c78a8\" fill-opacity=\"1\" stroke=\"#505050\" stroke-width=\"0\"/><path aria-label=\"x1: 146; x2: 146.9; level: 12; level2: 12.9; status: Runtime dispatch; sf: setindex! at array.jl:905 [inlined]\" role=\"graphics-symbol\" aria-roledescription=\"rect mark\" d=\"M33.371428571428574,367.75h0.2057142857142864v2.25h-0.2057142857142864Z\" fill=\"#e45756\" fill-opacity=\"1\" stroke=\"#505050\" stroke-width=\"0\"/><path aria-label=\"x1: 147; x2: 147.9; level: 9; level2: 9.9; status: Default; sf: single_timestep(ny::Int64, nx::Int64) at In[9]:63\" role=\"graphics-symbol\" aria-roledescription=\"rect mark\" d=\"M33.6,375.25h0.2057142857142864v2.25h-0.2057142857142864Z\" fill=\"#4c78a8\" fill-opacity=\"1\" stroke=\"#505050\" stroke-width=\"0\"/><path aria-label=\"x1: 147; x2: 147.9; level: 10; level2: 10.9; status: Default; sf: cell_center_change_to_markers!(m::Markers, grid::CartesianGrid, field::Matrix{Float64}, mfield::String) at Markers.jl:340\" role=\"graphics-symbol\" aria-roledescription=\"rect mark\" d=\"M33.6,372.75h0.2057142857142864v2.25h-0.2057142857142864Z\" fill=\"#4c78a8\" fill-opacity=\"1\" stroke=\"#505050\" stroke-width=\"0\"/><path aria-label=\"x1: 147; x2: 147.9; level: 11; level2: 11.9; status: Default; sf: macro expansion at threadingconstructs.jl:97 [inlined]\" role=\"graphics-symbol\" aria-roledescription=\"rect mark\" d=\"M33.6,370.25h0.2057142857142864v2.25h-0.2057142857142864Z\" fill=\"#4c78a8\" fill-opacity=\"1\" stroke=\"#505050\" stroke-width=\"0\"/><path aria-label=\"x1: 147; x2: 147.9; level: 12; level2: 12.9; status: Default; sf: threading_run(func::Function) at threadingconstructs.jl:38\" role=\"graphics-symbol\" aria-roledescription=\"rect mark\" d=\"M33.6,367.75h0.2057142857142864v2.25h-0.2057142857142864Z\" fill=\"#4c78a8\" fill-opacity=\"1\" stroke=\"#505050\" stroke-width=\"0\"/><path aria-label=\"x1: 147; x2: 147.9; level: 13; level2: 13.9; status: Default; sf: wait at task.jl:332 [inlined]\" role=\"graphics-symbol\" aria-roledescription=\"rect mark\" d=\"M33.6,365.25h0.2057142857142864v2.25h-0.2057142857142864Z\" fill=\"#4c78a8\" fill-opacity=\"1\" stroke=\"#505050\" stroke-width=\"0\"/><path aria-label=\"x1: 147; x2: 147.9; level: 14; level2: 14.9; status: Runtime dispatch; sf: _wait(t::Task) at task.jl:293\" role=\"graphics-symbol\" aria-roledescription=\"rect mark\" d=\"M33.6,362.75h0.2057142857142864v2.25h-0.2057142857142864Z\" fill=\"#e45756\" fill-opacity=\"1\" stroke=\"#505050\" stroke-width=\"0\"/><path aria-label=\"x1: 147; x2: 147.9; level: 15; level2: 15.9; status: Default; sf: wait(c::Base.GenericCondition{Base.Threads.SpinLock}) at condition.jl:123\" role=\"graphics-symbol\" aria-roledescription=\"rect mark\" d=\"M33.6,360.25h0.2057142857142864v2.25h-0.2057142857142864Z\" fill=\"#4c78a8\" fill-opacity=\"1\" stroke=\"#505050\" stroke-width=\"0\"/><path aria-label=\"x1: 147; x2: 147.9; level: 16; level2: 16.9; status: Default; sf: wait() at task.jl:836\" role=\"graphics-symbol\" aria-roledescription=\"rect mark\" d=\"M33.6,357.75h0.2057142857142864v2.25h-0.2057142857142864Z\" fill=\"#4c78a8\" fill-opacity=\"1\" stroke=\"#505050\" stroke-width=\"0\"/><path aria-label=\"x1: 147; x2: 147.9; level: 17; level2: 17.9; status: Default; sf: poptask(W::Base.InvasiveLinkedListSynchronized{Task}) at task.jl:827\" role=\"graphics-symbol\" aria-roledescription=\"rect mark\" d=\"M33.6,355.25h0.2057142857142864v2.25h-0.2057142857142864Z\" fill=\"#4c78a8\" fill-opacity=\"1\" stroke=\"#505050\" stroke-width=\"0\"/><path aria-label=\"x1: 148; x2: 153.9; level: 9; level2: 9.9; status: Default; sf: single_timestep(ny::Int64, nx::Int64) at In[9]:73\" role=\"graphics-symbol\" aria-roledescription=\"rect mark\" d=\"M33.82857142857143,375.25h1.3485714285714252v2.25h-1.3485714285714252Z\" fill=\"#4c78a8\" fill-opacity=\"1\" stroke=\"#505050\" stroke-width=\"0\"/><path aria-label=\"x1: 148; x2: 153.9; level: 10; level2: 10.9; status: Default; sf: visualization at In[7]:196 [inlined]\" role=\"graphics-symbol\" aria-roledescription=\"rect mark\" d=\"M33.82857142857143,372.75h1.3485714285714252v2.25h-1.3485714285714252Z\" fill=\"#4c78a8\" fill-opacity=\"1\" stroke=\"#505050\" stroke-width=\"0\"/><path aria-label=\"x1: 148; x2: 153.9; level: 11; level2: 11.9; status: Default; sf: visualization(markers::Markers, time::Float64; filename::String) at In[7]:201\" role=\"graphics-symbol\" aria-roledescription=\"rect mark\" d=\"M33.82857142857143,370.25h1.3485714285714252v2.25h-1.3485714285714252Z\" fill=\"#4c78a8\" fill-opacity=\"1\" stroke=\"#505050\" stroke-width=\"0\"/><path aria-label=\"x1: 148; x2: 153.9; level: 12; level2: 12.9; status: Default; sf: vtk_grid at WriteVTK.jl:163 [inlined]\" role=\"graphics-symbol\" aria-roledescription=\"rect mark\" d=\"M33.82857142857143,367.75h1.3485714285714252v2.25h-1.3485714285714252Z\" fill=\"#4c78a8\" fill-opacity=\"1\" stroke=\"#505050\" stroke-width=\"0\"/><path aria-label=\"x1: 148; x2: 152.9; level: 13; level2: 13.9; status: Runtime dispatch; sf: vtk_grid(::var&quot;#91#93&quot;{Markers, Float64}, ::String, ::Vararg{Any}; kwargs::Base.Pairs{Symbol, Union{}, Tuple{}, NamedTuple{(), Tuple{}}}) at WriteVTK.jl:163\" role=\"graphics-symbol\" aria-roledescription=\"rect mark\" d=\"M33.82857142857143,365.25h1.1199999999999974v2.25h-1.1199999999999974Z\" fill=\"#e45756\" fill-opacity=\"1\" stroke=\"#505050\" stroke-width=\"0\"/><path aria-label=\"x1: 148; x2: 152.9; level: 14; level2: 14.9; status: Default; sf: vtk_grid(::String, ::Matrix{Float64}, ::Vector{MeshCell{WriteVTK.PolyData.Polys, UnitRange{Int64}}}) at unstructured.jl:216\" role=\"graphics-symbol\" aria-roledescription=\"rect mark\" d=\"M33.82857142857143,362.75h1.1199999999999974v2.25h-1.1199999999999974Z\" fill=\"#4c78a8\" fill-opacity=\"1\" stroke=\"#505050\" stroke-width=\"0\"/><path aria-label=\"x1: 148; x2: 152.9; level: 15; level2: 15.9; status: Default; sf: vtk_grid(::String, ::Matrix{Float64}, ::Vector{MeshCell{WriteVTK.PolyData.Polys, UnitRange{Int64}}}; kwargs::Base.Pairs{Symbol, Union{}, Tuple{}, NamedTuple{(), Tuple{}}}) at unstructured.jl:220\" role=\"graphics-symbol\" aria-roledescription=\"rect mark\" d=\"M33.82857142857143,360.25h1.1199999999999974v2.25h-1.1199999999999974Z\" fill=\"#4c78a8\" fill-opacity=\"1\" stroke=\"#505050\" stroke-width=\"0\"/><path aria-label=\"x1: 148; x2: 152.9; level: 16; level2: 16.9; status: Default; sf: vtk_grid at polydata.jl:63 [inlined]\" role=\"graphics-symbol\" aria-roledescription=\"rect mark\" d=\"M33.82857142857143,357.75h1.1199999999999974v2.25h-1.1199999999999974Z\" fill=\"#4c78a8\" fill-opacity=\"1\" stroke=\"#505050\" stroke-width=\"0\"/><path aria-label=\"x1: 148; x2: 149.9; level: 17; level2: 17.9; status: Default; sf: vtk_grid(dtype::WriteVTK.VTKPolyData, filename::String, points::Matrix{Float64}, cells::Vector{MeshCell{WriteVTK.PolyData.Polys, UnitRange{Int64}}}; kwargs::Base.Pairs{Symbol, Union{}, Tuple{}, NamedTuple{(), Tuple{}}}) at polydata.jl:81\" role=\"graphics-symbol\" aria-roledescription=\"rect mark\" d=\"M33.82857142857143,355.25h0.43428571428571416v2.25h-0.43428571428571416Z\" fill=\"#4c78a8\" fill-opacity=\"1\" stroke=\"#505050\" stroke-width=\"0\"/><path aria-label=\"x1: 148; x2: 149.9; level: 18; level2: 18.9; status: Default; sf: data_to_xml at write_data.jl:198 [inlined]\" role=\"graphics-symbol\" aria-roledescription=\"rect mark\" d=\"M33.82857142857143,352.75h0.43428571428571416v2.25h-0.43428571428571416Z\" fill=\"#4c78a8\" fill-opacity=\"1\" stroke=\"#505050\" stroke-width=\"0\"/><path aria-label=\"x1: 148; x2: 149.9; level: 19; level2: 19.9; status: Default; sf: data_to_xml(vtk::WriteVTK.DatasetFile, xParent::LightXML.XMLElement, data::Matrix{Float64}, name::String, Nc::Int64; component_names::Nothing) at write_data.jl:212\" role=\"graphics-symbol\" aria-roledescription=\"rect mark\" d=\"M33.82857142857143,350.25h0.43428571428571416v2.25h-0.43428571428571416Z\" fill=\"#4c78a8\" fill-opacity=\"1\" stroke=\"#505050\" stroke-width=\"0\"/><path aria-label=\"x1: 148; x2: 149.9; level: 20; level2: 20.9; status: Default; sf: data_to_xml_appended(vtk::WriteVTK.DatasetFile, xDA::LightXML.XMLElement, data::Matrix{Float64}) at write_data.jl:269\" role=\"graphics-symbol\" aria-roledescription=\"rect mark\" d=\"M33.82857142857143,347.75h0.43428571428571416v2.25h-0.43428571428571416Z\" fill=\"#4c78a8\" fill-opacity=\"1\" stroke=\"#505050\" stroke-width=\"0\"/><path aria-label=\"x1: 148; x2: 149.9; level: 21; level2: 21.9; status: Default; sf: write_array at write_data.jl:136 [inlined]\" role=\"graphics-symbol\" aria-roledescription=\"rect mark\" d=\"M33.82857142857143,345.25h0.43428571428571416v2.25h-0.43428571428571416Z\" fill=\"#4c78a8\" fill-opacity=\"1\" stroke=\"#505050\" stroke-width=\"0\"/><path aria-label=\"x1: 148; x2: 149.9; level: 22; level2: 22.9; status: Default; sf: write at io.jl:671 [inlined]\" role=\"graphics-symbol\" aria-roledescription=\"rect mark\" d=\"M33.82857142857143,342.75h0.43428571428571416v2.25h-0.43428571428571416Z\" fill=\"#4c78a8\" fill-opacity=\"1\" stroke=\"#505050\" stroke-width=\"0\"/><path aria-label=\"x1: 148; x2: 149.9; level: 23; level2: 23.9; status: Default; sf: unsafe_write at io.jl:648 [inlined]\" role=\"graphics-symbol\" aria-roledescription=\"rect mark\" d=\"M33.82857142857143,340.25h0.43428571428571416v2.25h-0.43428571428571416Z\" fill=\"#4c78a8\" fill-opacity=\"1\" stroke=\"#505050\" stroke-width=\"0\"/><path aria-label=\"x1: 148; x2: 149.9; level: 24; level2: 24.9; status: Default; sf: unsafe_write(stream::TranscodingStreams.TranscodingStream{CodecZlib.ZlibCompressor, IOBuffer}, input::Ptr{UInt8}, nbytes::UInt64) at stream.jl:458\" role=\"graphics-symbol\" aria-roledescription=\"rect mark\" d=\"M33.82857142857143,337.75h0.43428571428571416v2.25h-0.43428571428571416Z\" fill=\"#4c78a8\" fill-opacity=\"1\" stroke=\"#505050\" stroke-width=\"0\"/><path aria-label=\"x1: 148; x2: 149.9; level: 25; level2: 25.9; status: Default; sf: flushbuffer at stream.jl:584 [inlined]\" role=\"graphics-symbol\" aria-roledescription=\"rect mark\" d=\"M33.82857142857143,335.25h0.43428571428571416v2.25h-0.43428571428571416Z\" fill=\"#4c78a8\" fill-opacity=\"1\" stroke=\"#505050\" stroke-width=\"0\"/><path aria-label=\"x1: 148; x2: 149.9; level: 26; level2: 26.9; status: Default; sf: flushbuffer(stream::TranscodingStreams.TranscodingStream{CodecZlib.ZlibCompressor, IOBuffer}, all::Bool) at stream.jl:594\" role=\"graphics-symbol\" aria-roledescription=\"rect mark\" d=\"M33.82857142857143,332.75h0.43428571428571416v2.25h-0.43428571428571416Z\" fill=\"#4c78a8\" fill-opacity=\"1\" stroke=\"#505050\" stroke-width=\"0\"/><path aria-label=\"x1: 148; x2: 149.9; level: 27; level2: 27.9; status: Default; sf: callprocess(stream::TranscodingStreams.TranscodingStream{CodecZlib.ZlibCompressor, IOBuffer}, inbuf::TranscodingStreams.Buffer, outbuf::TranscodingStreams.Buffer) at stream.jl:637\" role=\"graphics-symbol\" aria-roledescription=\"rect mark\" d=\"M33.82857142857143,330.25h0.43428571428571416v2.25h-0.43428571428571416Z\" fill=\"#4c78a8\" fill-opacity=\"1\" stroke=\"#505050\" stroke-width=\"0\"/><path aria-label=\"x1: 148; x2: 149.9; level: 28; level2: 28.9; status: Default; sf: process(codec::CodecZlib.ZlibCompressor, input::TranscodingStreams.Memory, output::TranscodingStreams.Memory, error::TranscodingStreams.Error) at compression.jl:175\" role=\"graphics-symbol\" aria-roledescription=\"rect mark\" d=\"M33.82857142857143,327.75h0.43428571428571416v2.25h-0.43428571428571416Z\" fill=\"#4c78a8\" fill-opacity=\"1\" stroke=\"#505050\" stroke-width=\"0\"/><path aria-label=\"x1: 148; x2: 149.9; level: 29; level2: 29.9; status: Default; sf: deflate! at libz.jl:77 [inlined]\" role=\"graphics-symbol\" aria-roledescription=\"rect mark\" d=\"M33.82857142857143,325.25h0.43428571428571416v2.25h-0.43428571428571416Z\" fill=\"#4c78a8\" fill-opacity=\"1\" stroke=\"#505050\" stroke-width=\"0\"/><path aria-label=\"x1: 150; x2: 152.9; level: 17; level2: 17.9; status: Default; sf: vtk_grid(dtype::WriteVTK.VTKPolyData, filename::String, points::Matrix{Float64}, cells::Vector{MeshCell{WriteVTK.PolyData.Polys, UnitRange{Int64}}}; kwargs::Base.Pairs{Symbol, Union{}, Tuple{}, NamedTuple{(), Tuple{}}}) at polydata.jl:83\" role=\"graphics-symbol\" aria-roledescription=\"rect mark\" d=\"M34.285714285714285,355.25h0.6628571428571419v2.25h-0.6628571428571419Z\" fill=\"#4c78a8\" fill-opacity=\"1\" stroke=\"#505050\" stroke-width=\"0\"/><path aria-label=\"x1: 150; x2: 152.9; level: 18; level2: 18.9; status: Default; sf: add_poly_cells! at polydata.jl:53 [inlined]\" role=\"graphics-symbol\" aria-roledescription=\"rect mark\" d=\"M34.285714285714285,352.75h0.6628571428571419v2.25h-0.6628571428571419Z\" fill=\"#4c78a8\" fill-opacity=\"1\" stroke=\"#505050\" stroke-width=\"0\"/><path aria-label=\"x1: 150; x2: 152.9; level: 19; level2: 19.9; status: Default; sf: add_cells! at unstructured.jl:67 [inlined]\" role=\"graphics-symbol\" aria-roledescription=\"rect mark\" d=\"M34.285714285714285,350.25h0.6628571428571419v2.25h-0.6628571428571419Z\" fill=\"#4c78a8\" fill-opacity=\"1\" stroke=\"#505050\" stroke-width=\"0\"/><path aria-label=\"x1: 150; x2: 151.9; level: 20; level2: 20.9; status: Default; sf: add_cells!(vtk::WriteVTK.DatasetFile, xml_piece::LightXML.XMLElement, number_attr::String, xml_name::String, cells::Vector{MeshCell{WriteVTK.PolyData.Polys, UnitRange{Int64}}}; with_types::Val{false}) at unstructured.jl:109\" role=\"graphics-symbol\" aria-roledescription=\"rect mark\" d=\"M34.285714285714285,347.75h0.43428571428571416v2.25h-0.43428571428571416Z\" fill=\"#4c78a8\" fill-opacity=\"1\" stroke=\"#505050\" stroke-width=\"0\"/><path aria-label=\"x1: 150; x2: 151.9; level: 21; level2: 21.9; status: Default; sf: data_to_xml at write_data.jl:198 [inlined]\" role=\"graphics-symbol\" aria-roledescription=\"rect mark\" d=\"M34.285714285714285,345.25h0.43428571428571416v2.25h-0.43428571428571416Z\" fill=\"#4c78a8\" fill-opacity=\"1\" stroke=\"#505050\" stroke-width=\"0\"/><path aria-label=\"x1: 150; x2: 151.9; level: 22; level2: 22.9; status: Default; sf: data_to_xml at write_data.jl:198 [inlined]\" role=\"graphics-symbol\" aria-roledescription=\"rect mark\" d=\"M34.285714285714285,342.75h0.43428571428571416v2.25h-0.43428571428571416Z\" fill=\"#4c78a8\" fill-opacity=\"1\" stroke=\"#505050\" stroke-width=\"0\"/><path aria-label=\"x1: 150; x2: 151.9; level: 23; level2: 23.9; status: Default; sf: data_to_xml(vtk::WriteVTK.DatasetFile, xParent::LightXML.XMLElement, data::Vector{Int32}, name::String, Nc::Int64; component_names::Nothing) at write_data.jl:212\" role=\"graphics-symbol\" aria-roledescription=\"rect mark\" d=\"M34.285714285714285,340.25h0.43428571428571416v2.25h-0.43428571428571416Z\" fill=\"#4c78a8\" fill-opacity=\"1\" stroke=\"#505050\" stroke-width=\"0\"/><path aria-label=\"x1: 150; x2: 150.9; level: 24; level2: 24.9; status: Default; sf: data_to_xml_appended(vtk::WriteVTK.DatasetFile, xDA::LightXML.XMLElement, data::Vector{Int32}) at write_data.jl:269\" role=\"graphics-symbol\" aria-roledescription=\"rect mark\" d=\"M34.285714285714285,337.75h0.2057142857142864v2.25h-0.2057142857142864Z\" fill=\"#4c78a8\" fill-opacity=\"1\" stroke=\"#505050\" stroke-width=\"0\"/><path aria-label=\"x1: 150; x2: 150.9; level: 25; level2: 25.9; status: Default; sf: write_array at write_data.jl:136 [inlined]\" role=\"graphics-symbol\" aria-roledescription=\"rect mark\" d=\"M34.285714285714285,335.25h0.2057142857142864v2.25h-0.2057142857142864Z\" fill=\"#4c78a8\" fill-opacity=\"1\" stroke=\"#505050\" stroke-width=\"0\"/><path aria-label=\"x1: 150; x2: 150.9; level: 26; level2: 26.9; status: Default; sf: write at io.jl:671 [inlined]\" role=\"graphics-symbol\" aria-roledescription=\"rect mark\" d=\"M34.285714285714285,332.75h0.2057142857142864v2.25h-0.2057142857142864Z\" fill=\"#4c78a8\" fill-opacity=\"1\" stroke=\"#505050\" stroke-width=\"0\"/><path aria-label=\"x1: 150; x2: 150.9; level: 27; level2: 27.9; status: Default; sf: unsafe_write at io.jl:648 [inlined]\" role=\"graphics-symbol\" aria-roledescription=\"rect mark\" d=\"M34.285714285714285,330.25h0.2057142857142864v2.25h-0.2057142857142864Z\" fill=\"#4c78a8\" fill-opacity=\"1\" stroke=\"#505050\" stroke-width=\"0\"/><path aria-label=\"x1: 150; x2: 150.9; level: 28; level2: 28.9; status: Default; sf: unsafe_write(stream::TranscodingStreams.TranscodingStream{CodecZlib.ZlibCompressor, IOBuffer}, input::Ptr{UInt8}, nbytes::UInt64) at stream.jl:458\" role=\"graphics-symbol\" aria-roledescription=\"rect mark\" d=\"M34.285714285714285,327.75h0.2057142857142864v2.25h-0.2057142857142864Z\" fill=\"#4c78a8\" fill-opacity=\"1\" stroke=\"#505050\" stroke-width=\"0\"/><path aria-label=\"x1: 150; x2: 150.9; level: 29; level2: 29.9; status: Default; sf: flushbuffer at stream.jl:584 [inlined]\" role=\"graphics-symbol\" aria-roledescription=\"rect mark\" d=\"M34.285714285714285,325.25h0.2057142857142864v2.25h-0.2057142857142864Z\" fill=\"#4c78a8\" fill-opacity=\"1\" stroke=\"#505050\" stroke-width=\"0\"/><path aria-label=\"x1: 150; x2: 150.9; level: 30; level2: 30.9; status: Default; sf: flushbuffer(stream::TranscodingStreams.TranscodingStream{CodecZlib.ZlibCompressor, IOBuffer}, all::Bool) at stream.jl:594\" role=\"graphics-symbol\" aria-roledescription=\"rect mark\" d=\"M34.285714285714285,322.75h0.2057142857142864v2.25h-0.2057142857142864Z\" fill=\"#4c78a8\" fill-opacity=\"1\" stroke=\"#505050\" stroke-width=\"0\"/><path aria-label=\"x1: 150; x2: 150.9; level: 31; level2: 31.9; status: Default; sf: callprocess(stream::TranscodingStreams.TranscodingStream{CodecZlib.ZlibCompressor, IOBuffer}, inbuf::TranscodingStreams.Buffer, outbuf::TranscodingStreams.Buffer) at stream.jl:637\" role=\"graphics-symbol\" aria-roledescription=\"rect mark\" d=\"M34.285714285714285,320.25h0.2057142857142864v2.25h-0.2057142857142864Z\" fill=\"#4c78a8\" fill-opacity=\"1\" stroke=\"#505050\" stroke-width=\"0\"/><path aria-label=\"x1: 150; x2: 150.9; level: 32; level2: 32.9; status: Default; sf: process(codec::CodecZlib.ZlibCompressor, input::TranscodingStreams.Memory, output::TranscodingStreams.Memory, error::TranscodingStreams.Error) at compression.jl:175\" role=\"graphics-symbol\" aria-roledescription=\"rect mark\" d=\"M34.285714285714285,317.75h0.2057142857142864v2.25h-0.2057142857142864Z\" fill=\"#4c78a8\" fill-opacity=\"1\" stroke=\"#505050\" stroke-width=\"0\"/><path aria-label=\"x1: 150; x2: 150.9; level: 33; level2: 33.9; status: Default; sf: deflate! at libz.jl:77 [inlined]\" role=\"graphics-symbol\" aria-roledescription=\"rect mark\" d=\"M34.285714285714285,315.25h0.2057142857142864v2.25h-0.2057142857142864Z\" fill=\"#4c78a8\" fill-opacity=\"1\" stroke=\"#505050\" stroke-width=\"0\"/><path aria-label=\"x1: 151; x2: 151.9; level: 24; level2: 24.9; status: Default; sf: data_to_xml_appended(vtk::WriteVTK.DatasetFile, xDA::LightXML.XMLElement, data::Vector{Int32}) at write_data.jl:270\" role=\"graphics-symbol\" aria-roledescription=\"rect mark\" d=\"M34.51428571428571,337.75h0.2057142857142864v2.25h-0.2057142857142864Z\" fill=\"#4c78a8\" fill-opacity=\"1\" stroke=\"#505050\" stroke-width=\"0\"/><path aria-label=\"x1: 151; x2: 151.9; level: 25; level2: 25.9; status: Default; sf: write at stream.jl:484 [inlined]\" role=\"graphics-symbol\" aria-roledescription=\"rect mark\" d=\"M34.51428571428571,335.25h0.2057142857142864v2.25h-0.2057142857142864Z\" fill=\"#4c78a8\" fill-opacity=\"1\" stroke=\"#505050\" stroke-width=\"0\"/><path aria-label=\"x1: 151; x2: 151.9; level: 26; level2: 26.9; status: Default; sf: flushbufferall at stream.jl:601 [inlined]\" role=\"graphics-symbol\" aria-roledescription=\"rect mark\" d=\"M34.51428571428571,332.75h0.2057142857142864v2.25h-0.2057142857142864Z\" fill=\"#4c78a8\" fill-opacity=\"1\" stroke=\"#505050\" stroke-width=\"0\"/><path aria-label=\"x1: 151; x2: 151.9; level: 27; level2: 27.9; status: Default; sf: flushbuffer(stream::TranscodingStreams.TranscodingStream{CodecZlib.ZlibCompressor, IOBuffer}, all::Bool) at stream.jl:594\" role=\"graphics-symbol\" aria-roledescription=\"rect mark\" d=\"M34.51428571428571,330.25h0.2057142857142864v2.25h-0.2057142857142864Z\" fill=\"#4c78a8\" fill-opacity=\"1\" stroke=\"#505050\" stroke-width=\"0\"/><path aria-label=\"x1: 151; x2: 151.9; level: 28; level2: 28.9; status: Default; sf: callprocess(stream::TranscodingStreams.TranscodingStream{CodecZlib.ZlibCompressor, IOBuffer}, inbuf::TranscodingStreams.Buffer, outbuf::TranscodingStreams.Buffer) at stream.jl:637\" role=\"graphics-symbol\" aria-roledescription=\"rect mark\" d=\"M34.51428571428571,327.75h0.2057142857142864v2.25h-0.2057142857142864Z\" fill=\"#4c78a8\" fill-opacity=\"1\" stroke=\"#505050\" stroke-width=\"0\"/><path aria-label=\"x1: 151; x2: 151.9; level: 29; level2: 29.9; status: Default; sf: process(codec::CodecZlib.ZlibCompressor, input::TranscodingStreams.Memory, output::TranscodingStreams.Memory, error::TranscodingStreams.Error) at compression.jl:175\" role=\"graphics-symbol\" aria-roledescription=\"rect mark\" d=\"M34.51428571428571,325.25h0.2057142857142864v2.25h-0.2057142857142864Z\" fill=\"#4c78a8\" fill-opacity=\"1\" stroke=\"#505050\" stroke-width=\"0\"/><path aria-label=\"x1: 151; x2: 151.9; level: 30; level2: 30.9; status: Default; sf: deflate! at libz.jl:77 [inlined]\" role=\"graphics-symbol\" aria-roledescription=\"rect mark\" d=\"M34.51428571428571,322.75h0.2057142857142864v2.25h-0.2057142857142864Z\" fill=\"#4c78a8\" fill-opacity=\"1\" stroke=\"#505050\" stroke-width=\"0\"/><path aria-label=\"x1: 152; x2: 152.9; level: 20; level2: 20.9; status: Default; sf: add_cells!(vtk::WriteVTK.DatasetFile, xml_piece::LightXML.XMLElement, number_attr::String, xml_name::String, cells::Vector{MeshCell{WriteVTK.PolyData.Polys, UnitRange{Int64}}}; with_types::Val{false}) at unstructured.jl:110\" role=\"graphics-symbol\" aria-roledescription=\"rect mark\" d=\"M34.74285714285714,347.75h0.2057142857142864v2.25h-0.2057142857142864Z\" fill=\"#4c78a8\" fill-opacity=\"1\" stroke=\"#505050\" stroke-width=\"0\"/><path aria-label=\"x1: 152; x2: 152.9; level: 21; level2: 21.9; status: Default; sf: data_to_xml at write_data.jl:198 [inlined]\" role=\"graphics-symbol\" aria-roledescription=\"rect mark\" d=\"M34.74285714285714,345.25h0.2057142857142864v2.25h-0.2057142857142864Z\" fill=\"#4c78a8\" fill-opacity=\"1\" stroke=\"#505050\" stroke-width=\"0\"/><path aria-label=\"x1: 152; x2: 152.9; level: 22; level2: 22.9; status: Default; sf: data_to_xml at write_data.jl:198 [inlined]\" role=\"graphics-symbol\" aria-roledescription=\"rect mark\" d=\"M34.74285714285714,342.75h0.2057142857142864v2.25h-0.2057142857142864Z\" fill=\"#4c78a8\" fill-opacity=\"1\" stroke=\"#505050\" stroke-width=\"0\"/><path aria-label=\"x1: 152; x2: 152.9; level: 23; level2: 23.9; status: Default; sf: data_to_xml(vtk::WriteVTK.DatasetFile, xParent::LightXML.XMLElement, data::Vector{Int32}, name::String, Nc::Int64; component_names::Nothing) at write_data.jl:212\" role=\"graphics-symbol\" aria-roledescription=\"rect mark\" d=\"M34.74285714285714,340.25h0.2057142857142864v2.25h-0.2057142857142864Z\" fill=\"#4c78a8\" fill-opacity=\"1\" stroke=\"#505050\" stroke-width=\"0\"/><path aria-label=\"x1: 152; x2: 152.9; level: 24; level2: 24.9; status: Default; sf: data_to_xml_appended(vtk::WriteVTK.DatasetFile, xDA::LightXML.XMLElement, data::Vector{Int32}) at write_data.jl:269\" role=\"graphics-symbol\" aria-roledescription=\"rect mark\" d=\"M34.74285714285714,337.75h0.2057142857142864v2.25h-0.2057142857142864Z\" fill=\"#4c78a8\" fill-opacity=\"1\" stroke=\"#505050\" stroke-width=\"0\"/><path aria-label=\"x1: 152; x2: 152.9; level: 25; level2: 25.9; status: Default; sf: write_array at write_data.jl:136 [inlined]\" role=\"graphics-symbol\" aria-roledescription=\"rect mark\" d=\"M34.74285714285714,335.25h0.2057142857142864v2.25h-0.2057142857142864Z\" fill=\"#4c78a8\" fill-opacity=\"1\" stroke=\"#505050\" stroke-width=\"0\"/><path aria-label=\"x1: 152; x2: 152.9; level: 26; level2: 26.9; status: Default; sf: write at io.jl:671 [inlined]\" role=\"graphics-symbol\" aria-roledescription=\"rect mark\" d=\"M34.74285714285714,332.75h0.2057142857142864v2.25h-0.2057142857142864Z\" fill=\"#4c78a8\" fill-opacity=\"1\" stroke=\"#505050\" stroke-width=\"0\"/><path aria-label=\"x1: 152; x2: 152.9; level: 27; level2: 27.9; status: Default; sf: unsafe_write at io.jl:648 [inlined]\" role=\"graphics-symbol\" aria-roledescription=\"rect mark\" d=\"M34.74285714285714,330.25h0.2057142857142864v2.25h-0.2057142857142864Z\" fill=\"#4c78a8\" fill-opacity=\"1\" stroke=\"#505050\" stroke-width=\"0\"/><path aria-label=\"x1: 152; x2: 152.9; level: 28; level2: 28.9; status: Default; sf: unsafe_write(stream::TranscodingStreams.TranscodingStream{CodecZlib.ZlibCompressor, IOBuffer}, input::Ptr{UInt8}, nbytes::UInt64) at stream.jl:458\" role=\"graphics-symbol\" aria-roledescription=\"rect mark\" d=\"M34.74285714285714,327.75h0.2057142857142864v2.25h-0.2057142857142864Z\" fill=\"#4c78a8\" fill-opacity=\"1\" stroke=\"#505050\" stroke-width=\"0\"/><path aria-label=\"x1: 152; x2: 152.9; level: 29; level2: 29.9; status: Default; sf: flushbuffer at stream.jl:584 [inlined]\" role=\"graphics-symbol\" aria-roledescription=\"rect mark\" d=\"M34.74285714285714,325.25h0.2057142857142864v2.25h-0.2057142857142864Z\" fill=\"#4c78a8\" fill-opacity=\"1\" stroke=\"#505050\" stroke-width=\"0\"/><path aria-label=\"x1: 152; x2: 152.9; level: 30; level2: 30.9; status: Default; sf: flushbuffer(stream::TranscodingStreams.TranscodingStream{CodecZlib.ZlibCompressor, IOBuffer}, all::Bool) at stream.jl:594\" role=\"graphics-symbol\" aria-roledescription=\"rect mark\" d=\"M34.74285714285714,322.75h0.2057142857142864v2.25h-0.2057142857142864Z\" fill=\"#4c78a8\" fill-opacity=\"1\" stroke=\"#505050\" stroke-width=\"0\"/><path aria-label=\"x1: 152; x2: 152.9; level: 31; level2: 31.9; status: Default; sf: callprocess(stream::TranscodingStreams.TranscodingStream{CodecZlib.ZlibCompressor, IOBuffer}, inbuf::TranscodingStreams.Buffer, outbuf::TranscodingStreams.Buffer) at stream.jl:637\" role=\"graphics-symbol\" aria-roledescription=\"rect mark\" d=\"M34.74285714285714,320.25h0.2057142857142864v2.25h-0.2057142857142864Z\" fill=\"#4c78a8\" fill-opacity=\"1\" stroke=\"#505050\" stroke-width=\"0\"/><path aria-label=\"x1: 152; x2: 152.9; level: 32; level2: 32.9; status: Default; sf: process(codec::CodecZlib.ZlibCompressor, input::TranscodingStreams.Memory, output::TranscodingStreams.Memory, error::TranscodingStreams.Error) at compression.jl:175\" role=\"graphics-symbol\" aria-roledescription=\"rect mark\" d=\"M34.74285714285714,317.75h0.2057142857142864v2.25h-0.2057142857142864Z\" fill=\"#4c78a8\" fill-opacity=\"1\" stroke=\"#505050\" stroke-width=\"0\"/><path aria-label=\"x1: 152; x2: 152.9; level: 33; level2: 33.9; status: Default; sf: deflate! at libz.jl:77 [inlined]\" role=\"graphics-symbol\" aria-roledescription=\"rect mark\" d=\"M34.74285714285714,315.25h0.2057142857142864v2.25h-0.2057142857142864Z\" fill=\"#4c78a8\" fill-opacity=\"1\" stroke=\"#505050\" stroke-width=\"0\"/><path aria-label=\"x1: 153; x2: 153.9; level: 13; level2: 13.9; status: Runtime dispatch; sf: vtk_grid(::var&quot;#91#93&quot;{Markers, Float64}, ::String, ::Vararg{Any}; kwargs::Base.Pairs{Symbol, Union{}, Tuple{}, NamedTuple{(), Tuple{}}}) at WriteVTK.jl:166\" role=\"graphics-symbol\" aria-roledescription=\"rect mark\" d=\"M34.97142857142857,365.25h0.2057142857142864v2.25h-0.2057142857142864Z\" fill=\"#e45756\" fill-opacity=\"1\" stroke=\"#505050\" stroke-width=\"0\"/><path aria-label=\"x1: 153; x2: 153.9; level: 14; level2: 14.9; status: Runtime dispatch; sf: (::var&quot;#91#93&quot;{Markers, Float64})(vtk::WriteVTK.DatasetFile) at In[7]:203\" role=\"graphics-symbol\" aria-roledescription=\"rect mark\" d=\"M34.97142857142857,362.75h0.2057142857142864v2.25h-0.2057142857142864Z\" fill=\"#e45756\" fill-opacity=\"1\" stroke=\"#505050\" stroke-width=\"0\"/><path aria-label=\"x1: 153; x2: 153.9; level: 15; level2: 15.9; status: Default; sf: setindex!(vtk::WriteVTK.DatasetFile, data::Vector{Float64}, name::String) at write_data.jl:425\" role=\"graphics-symbol\" aria-roledescription=\"rect mark\" d=\"M34.97142857142857,360.25h0.2057142857142864v2.25h-0.2057142857142864Z\" fill=\"#4c78a8\" fill-opacity=\"1\" stroke=\"#505050\" stroke-width=\"0\"/><path aria-label=\"x1: 153; x2: 153.9; level: 16; level2: 16.9; status: Default; sf: setindex!(vtk::WriteVTK.DatasetFile, data::Vector{Float64}, name::String; kwargs::Base.Pairs{Symbol, Union{}, Tuple{}, NamedTuple{(), Tuple{}}}) at write_data.jl:426\" role=\"graphics-symbol\" aria-roledescription=\"rect mark\" d=\"M34.97142857142857,357.75h0.2057142857142864v2.25h-0.2057142857142864Z\" fill=\"#4c78a8\" fill-opacity=\"1\" stroke=\"#505050\" stroke-width=\"0\"/><path aria-label=\"x1: 153; x2: 153.9; level: 17; level2: 17.9; status: Default; sf: setindex! at write_data.jl:422 [inlined]\" role=\"graphics-symbol\" aria-roledescription=\"rect mark\" d=\"M34.97142857142857,355.25h0.2057142857142864v2.25h-0.2057142857142864Z\" fill=\"#4c78a8\" fill-opacity=\"1\" stroke=\"#505050\" stroke-width=\"0\"/><path aria-label=\"x1: 153; x2: 153.9; level: 18; level2: 18.9; status: Default; sf: #setindex!#15 at write_data.jl:422 [inlined]\" role=\"graphics-symbol\" aria-roledescription=\"rect mark\" d=\"M34.97142857142857,352.75h0.2057142857142864v2.25h-0.2057142857142864Z\" fill=\"#4c78a8\" fill-opacity=\"1\" stroke=\"#505050\" stroke-width=\"0\"/><path aria-label=\"x1: 153; x2: 153.9; level: 19; level2: 19.9; status: Default; sf: add_field_data at write_data.jl:366 [inlined]\" role=\"graphics-symbol\" aria-roledescription=\"rect mark\" d=\"M34.97142857142857,350.25h0.2057142857142864v2.25h-0.2057142857142864Z\" fill=\"#4c78a8\" fill-opacity=\"1\" stroke=\"#505050\" stroke-width=\"0\"/><path aria-label=\"x1: 153; x2: 153.9; level: 20; level2: 20.9; status: Default; sf: add_field_data(vtk::WriteVTK.DatasetFile, data::Vector{Float64}, name::String, loc::VTKPointData; component_names::Nothing) at write_data.jl:381\" role=\"graphics-symbol\" aria-roledescription=\"rect mark\" d=\"M34.97142857142857,347.75h0.2057142857142864v2.25h-0.2057142857142864Z\" fill=\"#4c78a8\" fill-opacity=\"1\" stroke=\"#505050\" stroke-width=\"0\"/><path aria-label=\"x1: 153; x2: 153.9; level: 21; level2: 21.9; status: Default; sf: data_to_xml at write_data.jl:198 [inlined]\" role=\"graphics-symbol\" aria-roledescription=\"rect mark\" d=\"M34.97142857142857,345.25h0.2057142857142864v2.25h-0.2057142857142864Z\" fill=\"#4c78a8\" fill-opacity=\"1\" stroke=\"#505050\" stroke-width=\"0\"/><path aria-label=\"x1: 153; x2: 153.9; level: 22; level2: 22.9; status: Default; sf: data_to_xml(vtk::WriteVTK.DatasetFile, xParent::LightXML.XMLElement, data::Vector{Float64}, name::String, Nc::VTKPointData; component_names::Nothing) at write_data.jl:212\" role=\"graphics-symbol\" aria-roledescription=\"rect mark\" d=\"M34.97142857142857,342.75h0.2057142857142864v2.25h-0.2057142857142864Z\" fill=\"#4c78a8\" fill-opacity=\"1\" stroke=\"#505050\" stroke-width=\"0\"/><path aria-label=\"x1: 153; x2: 153.9; level: 23; level2: 23.9; status: Default; sf: data_to_xml_appended(vtk::WriteVTK.DatasetFile, xDA::LightXML.XMLElement, data::Vector{Float64}) at write_data.jl:269\" role=\"graphics-symbol\" aria-roledescription=\"rect mark\" d=\"M34.97142857142857,340.25h0.2057142857142864v2.25h-0.2057142857142864Z\" fill=\"#4c78a8\" fill-opacity=\"1\" stroke=\"#505050\" stroke-width=\"0\"/><path aria-label=\"x1: 153; x2: 153.9; level: 24; level2: 24.9; status: Default; sf: write_array at write_data.jl:136 [inlined]\" role=\"graphics-symbol\" aria-roledescription=\"rect mark\" d=\"M34.97142857142857,337.75h0.2057142857142864v2.25h-0.2057142857142864Z\" fill=\"#4c78a8\" fill-opacity=\"1\" stroke=\"#505050\" stroke-width=\"0\"/><path aria-label=\"x1: 153; x2: 153.9; level: 25; level2: 25.9; status: Default; sf: write at io.jl:671 [inlined]\" role=\"graphics-symbol\" aria-roledescription=\"rect mark\" d=\"M34.97142857142857,335.25h0.2057142857142864v2.25h-0.2057142857142864Z\" fill=\"#4c78a8\" fill-opacity=\"1\" stroke=\"#505050\" stroke-width=\"0\"/><path aria-label=\"x1: 153; x2: 153.9; level: 26; level2: 26.9; status: Default; sf: unsafe_write at io.jl:648 [inlined]\" role=\"graphics-symbol\" aria-roledescription=\"rect mark\" d=\"M34.97142857142857,332.75h0.2057142857142864v2.25h-0.2057142857142864Z\" fill=\"#4c78a8\" fill-opacity=\"1\" stroke=\"#505050\" stroke-width=\"0\"/><path aria-label=\"x1: 153; x2: 153.9; level: 27; level2: 27.9; status: Default; sf: unsafe_write(stream::TranscodingStreams.TranscodingStream{CodecZlib.ZlibCompressor, IOBuffer}, input::Ptr{UInt8}, nbytes::UInt64) at stream.jl:458\" role=\"graphics-symbol\" aria-roledescription=\"rect mark\" d=\"M34.97142857142857,330.25h0.2057142857142864v2.25h-0.2057142857142864Z\" fill=\"#4c78a8\" fill-opacity=\"1\" stroke=\"#505050\" stroke-width=\"0\"/><path aria-label=\"x1: 153; x2: 153.9; level: 28; level2: 28.9; status: Default; sf: flushbuffer at stream.jl:584 [inlined]\" role=\"graphics-symbol\" aria-roledescription=\"rect mark\" d=\"M34.97142857142857,327.75h0.2057142857142864v2.25h-0.2057142857142864Z\" fill=\"#4c78a8\" fill-opacity=\"1\" stroke=\"#505050\" stroke-width=\"0\"/><path aria-label=\"x1: 153; x2: 153.9; level: 29; level2: 29.9; status: Default; sf: flushbuffer(stream::TranscodingStreams.TranscodingStream{CodecZlib.ZlibCompressor, IOBuffer}, all::Bool) at stream.jl:594\" role=\"graphics-symbol\" aria-roledescription=\"rect mark\" d=\"M34.97142857142857,325.25h0.2057142857142864v2.25h-0.2057142857142864Z\" fill=\"#4c78a8\" fill-opacity=\"1\" stroke=\"#505050\" stroke-width=\"0\"/><path aria-label=\"x1: 153; x2: 153.9; level: 30; level2: 30.9; status: Default; sf: callprocess(stream::TranscodingStreams.TranscodingStream{CodecZlib.ZlibCompressor, IOBuffer}, inbuf::TranscodingStreams.Buffer, outbuf::TranscodingStreams.Buffer) at stream.jl:637\" role=\"graphics-symbol\" aria-roledescription=\"rect mark\" d=\"M34.97142857142857,322.75h0.2057142857142864v2.25h-0.2057142857142864Z\" fill=\"#4c78a8\" fill-opacity=\"1\" stroke=\"#505050\" stroke-width=\"0\"/><path aria-label=\"x1: 153; x2: 153.9; level: 31; level2: 31.9; status: Default; sf: process(codec::CodecZlib.ZlibCompressor, input::TranscodingStreams.Memory, output::TranscodingStreams.Memory, error::TranscodingStreams.Error) at compression.jl:175\" role=\"graphics-symbol\" aria-roledescription=\"rect mark\" d=\"M34.97142857142857,320.25h0.2057142857142864v2.25h-0.2057142857142864Z\" fill=\"#4c78a8\" fill-opacity=\"1\" stroke=\"#505050\" stroke-width=\"0\"/><path aria-label=\"x1: 153; x2: 153.9; level: 32; level2: 32.9; status: Default; sf: deflate! at libz.jl:77 [inlined]\" role=\"graphics-symbol\" aria-roledescription=\"rect mark\" d=\"M34.97142857142857,317.75h0.2057142857142864v2.25h-0.2057142857142864Z\" fill=\"#4c78a8\" fill-opacity=\"1\" stroke=\"#505050\" stroke-width=\"0\"/><path aria-label=\"x1: 154; x2: 155.9; level: 9; level2: 9.9; status: Default; sf: single_timestep(ny::Int64, nx::Int64) at In[9]:77\" role=\"graphics-symbol\" aria-roledescription=\"rect mark\" d=\"M35.199999999999996,375.25h0.43428571428572127v2.25h-0.43428571428572127Z\" fill=\"#4c78a8\" fill-opacity=\"1\" stroke=\"#505050\" stroke-width=\"0\"/><path aria-label=\"x1: 154; x2: 154.9; level: 10; level2: 10.9; status: Default; sf: move_markers_rk2!(markers::Markers, grid::CartesianGrid, vxc::Matrix{Float64}, vyc::Matrix{Float64}, dt::Float64) at Markers.jl:507\" role=\"graphics-symbol\" aria-roledescription=\"rect mark\" d=\"M35.199999999999996,372.75h0.2057142857142864v2.25h-0.2057142857142864Z\" fill=\"#4c78a8\" fill-opacity=\"1\" stroke=\"#505050\" stroke-width=\"0\"/><path aria-label=\"x1: 154; x2: 154.9; level: 11; level2: 11.9; status: Default; sf: macro expansion at threadingconstructs.jl:97 [inlined]\" role=\"graphics-symbol\" aria-roledescription=\"rect mark\" d=\"M35.199999999999996,370.25h0.2057142857142864v2.25h-0.2057142857142864Z\" fill=\"#4c78a8\" fill-opacity=\"1\" stroke=\"#505050\" stroke-width=\"0\"/><path aria-label=\"x1: 154; x2: 154.9; level: 12; level2: 12.9; status: Default; sf: threading_run(func::Function) at threadingconstructs.jl:38\" role=\"graphics-symbol\" aria-roledescription=\"rect mark\" d=\"M35.199999999999996,367.75h0.2057142857142864v2.25h-0.2057142857142864Z\" fill=\"#4c78a8\" fill-opacity=\"1\" stroke=\"#505050\" stroke-width=\"0\"/><path aria-label=\"x1: 154; x2: 154.9; level: 13; level2: 13.9; status: Default; sf: wait at task.jl:332 [inlined]\" role=\"graphics-symbol\" aria-roledescription=\"rect mark\" d=\"M35.199999999999996,365.25h0.2057142857142864v2.25h-0.2057142857142864Z\" fill=\"#4c78a8\" fill-opacity=\"1\" stroke=\"#505050\" stroke-width=\"0\"/><path aria-label=\"x1: 154; x2: 154.9; level: 14; level2: 14.9; status: Runtime dispatch; sf: _wait(t::Task) at task.jl:293\" role=\"graphics-symbol\" aria-roledescription=\"rect mark\" d=\"M35.199999999999996,362.75h0.2057142857142864v2.25h-0.2057142857142864Z\" fill=\"#e45756\" fill-opacity=\"1\" stroke=\"#505050\" stroke-width=\"0\"/><path aria-label=\"x1: 154; x2: 154.9; level: 15; level2: 15.9; status: Default; sf: wait(c::Base.GenericCondition{Base.Threads.SpinLock}) at condition.jl:123\" role=\"graphics-symbol\" aria-roledescription=\"rect mark\" d=\"M35.199999999999996,360.25h0.2057142857142864v2.25h-0.2057142857142864Z\" fill=\"#4c78a8\" fill-opacity=\"1\" stroke=\"#505050\" stroke-width=\"0\"/><path aria-label=\"x1: 154; x2: 154.9; level: 16; level2: 16.9; status: Default; sf: wait() at task.jl:836\" role=\"graphics-symbol\" aria-roledescription=\"rect mark\" d=\"M35.199999999999996,357.75h0.2057142857142864v2.25h-0.2057142857142864Z\" fill=\"#4c78a8\" fill-opacity=\"1\" stroke=\"#505050\" stroke-width=\"0\"/><path aria-label=\"x1: 154; x2: 154.9; level: 17; level2: 17.9; status: Default; sf: poptask(W::Base.InvasiveLinkedListSynchronized{Task}) at task.jl:827\" role=\"graphics-symbol\" aria-roledescription=\"rect mark\" d=\"M35.199999999999996,355.25h0.2057142857142864v2.25h-0.2057142857142864Z\" fill=\"#4c78a8\" fill-opacity=\"1\" stroke=\"#505050\" stroke-width=\"0\"/><path aria-label=\"x1: 155; x2: 155.9; level: 10; level2: 10.9; status: Default; sf: move_markers_rk2!(markers::Markers, grid::CartesianGrid, vxc::Matrix{Float64}, vyc::Matrix{Float64}, dt::Float64) at Markers.jl:520\" role=\"graphics-symbol\" aria-roledescription=\"rect mark\" d=\"M35.42857142857142,372.75h0.2057142857142935v2.25h-0.2057142857142935Z\" fill=\"#4c78a8\" fill-opacity=\"1\" stroke=\"#505050\" stroke-width=\"0\"/><path aria-label=\"x1: 155; x2: 155.9; level: 11; level2: 11.9; status: Default; sf: macro expansion at threadingconstructs.jl:97 [inlined]\" role=\"graphics-symbol\" aria-roledescription=\"rect mark\" d=\"M35.42857142857142,370.25h0.2057142857142935v2.25h-0.2057142857142935Z\" fill=\"#4c78a8\" fill-opacity=\"1\" stroke=\"#505050\" stroke-width=\"0\"/><path aria-label=\"x1: 155; x2: 155.9; level: 12; level2: 12.9; status: Default; sf: threading_run(func::Function) at threadingconstructs.jl:38\" role=\"graphics-symbol\" aria-roledescription=\"rect mark\" d=\"M35.42857142857142,367.75h0.2057142857142935v2.25h-0.2057142857142935Z\" fill=\"#4c78a8\" fill-opacity=\"1\" stroke=\"#505050\" stroke-width=\"0\"/><path aria-label=\"x1: 155; x2: 155.9; level: 13; level2: 13.9; status: Default; sf: wait at task.jl:332 [inlined]\" role=\"graphics-symbol\" aria-roledescription=\"rect mark\" d=\"M35.42857142857142,365.25h0.2057142857142935v2.25h-0.2057142857142935Z\" fill=\"#4c78a8\" fill-opacity=\"1\" stroke=\"#505050\" stroke-width=\"0\"/><path aria-label=\"x1: 155; x2: 155.9; level: 14; level2: 14.9; status: Runtime dispatch; sf: _wait(t::Task) at task.jl:293\" role=\"graphics-symbol\" aria-roledescription=\"rect mark\" d=\"M35.42857142857142,362.75h0.2057142857142935v2.25h-0.2057142857142935Z\" fill=\"#e45756\" fill-opacity=\"1\" stroke=\"#505050\" stroke-width=\"0\"/><path aria-label=\"x1: 155; x2: 155.9; level: 15; level2: 15.9; status: Default; sf: wait(c::Base.GenericCondition{Base.Threads.SpinLock}) at condition.jl:123\" role=\"graphics-symbol\" aria-roledescription=\"rect mark\" d=\"M35.42857142857142,360.25h0.2057142857142935v2.25h-0.2057142857142935Z\" fill=\"#4c78a8\" fill-opacity=\"1\" stroke=\"#505050\" stroke-width=\"0\"/><path aria-label=\"x1: 155; x2: 155.9; level: 16; level2: 16.9; status: Default; sf: wait() at task.jl:836\" role=\"graphics-symbol\" aria-roledescription=\"rect mark\" d=\"M35.42857142857142,357.75h0.2057142857142935v2.25h-0.2057142857142935Z\" fill=\"#4c78a8\" fill-opacity=\"1\" stroke=\"#505050\" stroke-width=\"0\"/><path aria-label=\"x1: 155; x2: 155.9; level: 17; level2: 17.9; status: Default; sf: poptask(W::Base.InvasiveLinkedListSynchronized{Task}) at task.jl:827\" role=\"graphics-symbol\" aria-roledescription=\"rect mark\" d=\"M35.42857142857142,355.25h0.2057142857142935v2.25h-0.2057142857142935Z\" fill=\"#4c78a8\" fill-opacity=\"1\" stroke=\"#505050\" stroke-width=\"0\"/><path aria-label=\"x1: 156; x2: 159.9; level: 1; level2: 1.9; status: Default; sf: (::var&quot;#465#threadsfor_fun#74&quot;{Markers, CartesianGrid, Matrix{Float64}, Vector{Float64}, UnitRange{Int64}})() at threadingconstructs.jl:52\" role=\"graphics-symbol\" aria-roledescription=\"rect mark\" d=\"M35.65714285714286,395.25h0.8914285714285697v2.25h-0.8914285714285697Z\" fill=\"#4c78a8\" fill-opacity=\"1\" stroke=\"#505050\" stroke-width=\"0\"/><path aria-label=\"x1: 156; x2: 159.9; level: 2; level2: 2.9; status: Default; sf: (::var&quot;#465#threadsfor_fun#74&quot;{Markers, CartesianGrid, Matrix{Float64}, Vector{Float64}, UnitRange{Int64}})(onethread::Bool) at threadingconstructs.jl:85\" role=\"graphics-symbol\" aria-roledescription=\"rect mark\" d=\"M35.65714285714286,392.75h0.8914285714285697v2.25h-0.8914285714285697Z\" fill=\"#4c78a8\" fill-opacity=\"1\" stroke=\"#505050\" stroke-width=\"0\"/><path aria-label=\"x1: 156; x2: 156.9; level: 3; level2: 3.9; status: Runtime dispatch; sf: macro expansion at Markers.jl:316 [inlined]\" role=\"graphics-symbol\" aria-roledescription=\"rect mark\" d=\"M35.65714285714286,390.25h0.2057142857142864v2.25h-0.2057142857142864Z\" fill=\"#e45756\" fill-opacity=\"1\" stroke=\"#505050\" stroke-width=\"0\"/><path aria-label=\"x1: 157; x2: 158.9; level: 3; level2: 3.9; status: Runtime dispatch; sf: macro expansion at Markers.jl:318 [inlined]\" role=\"graphics-symbol\" aria-roledescription=\"rect mark\" d=\"M35.885714285714286,390.25h0.43428571428571416v2.25h-0.43428571428571416Z\" fill=\"#e45756\" fill-opacity=\"1\" stroke=\"#505050\" stroke-width=\"0\"/><path aria-label=\"x1: 159; x2: 159.9; level: 3; level2: 3.9; status: Default; sf: macro expansion at Markers.jl:319 [inlined]\" role=\"graphics-symbol\" aria-roledescription=\"rect mark\" d=\"M36.34285714285714,390.25h0.2057142857142864v2.25h-0.2057142857142864Z\" fill=\"#4c78a8\" fill-opacity=\"1\" stroke=\"#505050\" stroke-width=\"0\"/><path aria-label=\"x1: 160; x2: 168.9; level: 1; level2: 1.9; status: Default; sf: (::var&quot;#482#threadsfor_fun#75&quot;{Markers, CartesianGrid, Matrix{Float64}, Int64, UnitRange{Int64}})() at threadingconstructs.jl:52\" role=\"graphics-symbol\" aria-roledescription=\"rect mark\" d=\"M36.57142857142857,395.25h2.0342857142857156v2.25h-2.0342857142857156Z\" fill=\"#4c78a8\" fill-opacity=\"1\" stroke=\"#505050\" stroke-width=\"0\"/><path aria-label=\"x1: 160; x2: 168.9; level: 2; level2: 2.9; status: Default; sf: (::var&quot;#482#threadsfor_fun#75&quot;{Markers, CartesianGrid, Matrix{Float64}, Int64, UnitRange{Int64}})(onethread::Bool) at threadingconstructs.jl:85\" role=\"graphics-symbol\" aria-roledescription=\"rect mark\" d=\"M36.57142857142857,392.75h2.0342857142857156v2.25h-2.0342857142857156Z\" fill=\"#4c78a8\" fill-opacity=\"1\" stroke=\"#505050\" stroke-width=\"0\"/><path aria-label=\"x1: 160; x2: 160.9; level: 3; level2: 3.9; status: Default; sf: macro expansion at Markers.jl:344 [inlined]\" role=\"graphics-symbol\" aria-roledescription=\"rect mark\" d=\"M36.57142857142857,390.25h0.2057142857142864v2.25h-0.2057142857142864Z\" fill=\"#4c78a8\" fill-opacity=\"1\" stroke=\"#505050\" stroke-width=\"0\"/><path aria-label=\"x1: 161; x2: 161.9; level: 3; level2: 3.9; status: Default; sf: macro expansion at Markers.jl:346 [inlined]\" role=\"graphics-symbol\" aria-roledescription=\"rect mark\" d=\"M36.8,390.25h0.2057142857142864v2.25h-0.2057142857142864Z\" fill=\"#4c78a8\" fill-opacity=\"1\" stroke=\"#505050\" stroke-width=\"0\"/><path aria-label=\"x1: 162; x2: 163.9; level: 3; level2: 3.9; status: Runtime dispatch; sf: macro expansion at Markers.jl:348 [inlined]\" role=\"graphics-symbol\" aria-roledescription=\"rect mark\" d=\"M37.028571428571425,390.25h0.43428571428571416v2.25h-0.43428571428571416Z\" fill=\"#e45756\" fill-opacity=\"1\" stroke=\"#505050\" stroke-width=\"0\"/><path aria-label=\"x1: 163; x2: 163.9; level: 4; level2: 4.9; status: Default; sf: -(x::Float64, y::Float64) at float.jl:402\" role=\"graphics-symbol\" aria-roledescription=\"rect mark\" d=\"M37.25714285714285,387.75h0.2057142857142864v2.25h-0.2057142857142864Z\" fill=\"#4c78a8\" fill-opacity=\"1\" stroke=\"#505050\" stroke-width=\"0\"/><path aria-label=\"x1: 164; x2: 168.9; level: 3; level2: 3.9; status: Garbage collection; sf: macro expansion at Markers.jl:349 [inlined]\" role=\"graphics-symbol\" aria-roledescription=\"rect mark\" d=\"M37.48571428571428,390.25h1.1200000000000045v2.25h-1.1200000000000045Z\" fill=\"#f58518\" fill-opacity=\"1\" stroke=\"#505050\" stroke-width=\"0\"/><path aria-label=\"x1: 164; x2: 164.9; level: 4; level2: 4.9; status: Default; sf: getindex at array.jl:862 [inlined]\" role=\"graphics-symbol\" aria-roledescription=\"rect mark\" d=\"M37.48571428571428,387.75h0.2057142857142864v2.25h-0.2057142857142864Z\" fill=\"#4c78a8\" fill-opacity=\"1\" stroke=\"#505050\" stroke-width=\"0\"/><path aria-label=\"x1: 169; x2: 180.9; level: 1; level2: 1.9; status: Default; sf: (::var&quot;#514#threadsfor_fun#78&quot;{Matrix{Float64}, Matrix{Int64}, CartesianGrid, Matrix{Float64}, Matrix{Float64}, Vector{Float64}, Vector{Float64}, UnitRange{Int64}})() at threadingconstructs.jl:52\" role=\"graphics-symbol\" aria-roledescription=\"rect mark\" d=\"M38.628571428571426,395.25h2.720000000000006v2.25h-2.720000000000006Z\" fill=\"#4c78a8\" fill-opacity=\"1\" stroke=\"#505050\" stroke-width=\"0\"/><path aria-label=\"x1: 169; x2: 180.9; level: 2; level2: 2.9; status: Default; sf: (::var&quot;#514#threadsfor_fun#78&quot;{Matrix{Float64}, Matrix{Int64}, CartesianGrid, Matrix{Float64}, Matrix{Float64}, Vector{Float64}, Vector{Float64}, UnitRange{Int64}})(onethread::Bool) at threadingconstructs.jl:85\" role=\"graphics-symbol\" aria-roledescription=\"rect mark\" d=\"M38.628571428571426,392.75h2.720000000000006v2.25h-2.720000000000006Z\" fill=\"#4c78a8\" fill-opacity=\"1\" stroke=\"#505050\" stroke-width=\"0\"/><path aria-label=\"x1: 169; x2: 170.9; level: 3; level2: 3.9; status: Runtime dispatch; sf: macro expansion at Markers.jl:463 [inlined]\" role=\"graphics-symbol\" aria-roledescription=\"rect mark\" d=\"M38.628571428571426,390.25h0.43428571428571416v2.25h-0.43428571428571416Z\" fill=\"#e45756\" fill-opacity=\"1\" stroke=\"#505050\" stroke-width=\"0\"/><path aria-label=\"x1: 171; x2: 172.9; level: 3; level2: 3.9; status: Garbage collection; sf: macro expansion at Markers.jl:464 [inlined]\" role=\"graphics-symbol\" aria-roledescription=\"rect mark\" d=\"M39.08571428571428,390.25h0.43428571428571416v2.25h-0.43428571428571416Z\" fill=\"#f58518\" fill-opacity=\"1\" stroke=\"#505050\" stroke-width=\"0\"/><path aria-label=\"x1: 173; x2: 177.9; level: 3; level2: 3.9; status: Runtime dispatch; sf: macro expansion at Markers.jl:465 [inlined]\" role=\"graphics-symbol\" aria-roledescription=\"rect mark\" d=\"M39.54285714285714,390.25h1.1200000000000045v2.25h-1.1200000000000045Z\" fill=\"#e45756\" fill-opacity=\"1\" stroke=\"#505050\" stroke-width=\"0\"/><path aria-label=\"x1: 178; x2: 180.9; level: 3; level2: 3.9; status: Runtime dispatch; sf: macro expansion at Markers.jl:466 [inlined]\" role=\"graphics-symbol\" aria-roledescription=\"rect mark\" d=\"M40.68571428571428,390.25h0.662857142857149v2.25h-0.662857142857149Z\" fill=\"#e45756\" fill-opacity=\"1\" stroke=\"#505050\" stroke-width=\"0\"/><path aria-label=\"x1: 181; x2: 185.9; level: 1; level2: 1.9; status: Default; sf: (::var&quot;#545#threadsfor_fun#80&quot;{Markers, Float64, Matrix{Float64}, UnitRange{Int64}})() at threadingconstructs.jl:52\" role=\"graphics-symbol\" aria-roledescription=\"rect mark\" d=\"M41.37142857142857,395.25h1.1200000000000045v2.25h-1.1200000000000045Z\" fill=\"#4c78a8\" fill-opacity=\"1\" stroke=\"#505050\" stroke-width=\"0\"/><path aria-label=\"x1: 181; x2: 185.9; level: 2; level2: 2.9; status: Default; sf: (::var&quot;#545#threadsfor_fun#80&quot;{Markers, Float64, Matrix{Float64}, UnitRange{Int64}})(onethread::Bool) at threadingconstructs.jl:85\" role=\"graphics-symbol\" aria-roledescription=\"rect mark\" d=\"M41.37142857142857,392.75h1.1200000000000045v2.25h-1.1200000000000045Z\" fill=\"#4c78a8\" fill-opacity=\"1\" stroke=\"#505050\" stroke-width=\"0\"/><path aria-label=\"x1: 181; x2: 183.9; level: 3; level2: 3.9; status: Runtime dispatch; sf: macro expansion at Markers.jl:508 [inlined]\" role=\"graphics-symbol\" aria-roledescription=\"rect mark\" d=\"M41.37142857142857,390.25h0.662857142857149v2.25h-0.662857142857149Z\" fill=\"#e45756\" fill-opacity=\"1\" stroke=\"#505050\" stroke-width=\"0\"/><path aria-label=\"x1: 181; x2: 181.9; level: 4; level2: 4.9; status: Default; sf: getindex at array.jl:862 [inlined]\" role=\"graphics-symbol\" aria-roledescription=\"rect mark\" d=\"M41.37142857142857,387.75h0.2057142857142935v2.25h-0.2057142857142935Z\" fill=\"#4c78a8\" fill-opacity=\"1\" stroke=\"#505050\" stroke-width=\"0\"/><path aria-label=\"x1: 184; x2: 185.9; level: 3; level2: 3.9; status: Runtime dispatch; sf: macro expansion at Markers.jl:509 [inlined]\" role=\"graphics-symbol\" aria-roledescription=\"rect mark\" d=\"M42.05714285714286,390.25h0.43428571428571416v2.25h-0.43428571428571416Z\" fill=\"#e45756\" fill-opacity=\"1\" stroke=\"#505050\" stroke-width=\"0\"/><path aria-label=\"x1: 186; x2: 191.9; level: 1; level2: 1.9; status: Default; sf: (::var&quot;#575#threadsfor_fun#82&quot;{Markers, Float64, UnitRange{Int64}})() at threadingconstructs.jl:52\" role=\"graphics-symbol\" aria-roledescription=\"rect mark\" d=\"M42.51428571428571,395.25h1.3485714285714323v2.25h-1.3485714285714323Z\" fill=\"#4c78a8\" fill-opacity=\"1\" stroke=\"#505050\" stroke-width=\"0\"/><path aria-label=\"x1: 186; x2: 191.9; level: 2; level2: 2.9; status: Default; sf: (::var&quot;#575#threadsfor_fun#82&quot;{Markers, Float64, UnitRange{Int64}})(onethread::Bool) at threadingconstructs.jl:85\" role=\"graphics-symbol\" aria-roledescription=\"rect mark\" d=\"M42.51428571428571,392.75h1.3485714285714323v2.25h-1.3485714285714323Z\" fill=\"#4c78a8\" fill-opacity=\"1\" stroke=\"#505050\" stroke-width=\"0\"/><path aria-label=\"x1: 186; x2: 188.9; level: 3; level2: 3.9; status: Garbage collection; sf: macro expansion at Markers.jl:521 [inlined]\" role=\"graphics-symbol\" aria-roledescription=\"rect mark\" d=\"M42.51428571428571,390.25h0.662857142857149v2.25h-0.662857142857149Z\" fill=\"#f58518\" fill-opacity=\"1\" stroke=\"#505050\" stroke-width=\"0\"/><path aria-label=\"x1: 186; x2: 187.9; level: 4; level2: 4.9; status: Runtime dispatch; sf: setindex! at array.jl:905 [inlined]\" role=\"graphics-symbol\" aria-roledescription=\"rect mark\" d=\"M42.51428571428571,387.75h0.43428571428572127v2.25h-0.43428571428572127Z\" fill=\"#e45756\" fill-opacity=\"1\" stroke=\"#505050\" stroke-width=\"0\"/><path aria-label=\"x1: 189; x2: 191.9; level: 3; level2: 3.9; status: Default; sf: macro expansion at Markers.jl:522 [inlined]\" role=\"graphics-symbol\" aria-roledescription=\"rect mark\" d=\"M43.2,390.25h0.6628571428571419v2.25h-0.6628571428571419Z\" fill=\"#4c78a8\" fill-opacity=\"1\" stroke=\"#505050\" stroke-width=\"0\"/><path aria-label=\"x1: 189; x2: 189.9; level: 4; level2: 4.9; status: Default; sf: getproperty at Base.jl:42 [inlined]\" role=\"graphics-symbol\" aria-roledescription=\"rect mark\" d=\"M43.2,387.75h0.2057142857142864v2.25h-0.2057142857142864Z\" fill=\"#4c78a8\" fill-opacity=\"1\" stroke=\"#505050\" stroke-width=\"0\"/><path aria-label=\"x1: 190; x2: 190.9; level: 4; level2: 4.9; status: Runtime dispatch; sf: setindex! at array.jl:905 [inlined]\" role=\"graphics-symbol\" aria-roledescription=\"rect mark\" d=\"M43.42857142857143,387.75h0.2057142857142864v2.25h-0.2057142857142864Z\" fill=\"#e45756\" fill-opacity=\"1\" stroke=\"#505050\" stroke-width=\"0\"/><path aria-label=\"x1: 192; x2: 192.9; level: 1; level2: 1.9; status: Default; sf: (::var&quot;#602#threadsfor_fun#85&quot;{Markers, CartesianGrid, Float64, Float64, Float64, Int64, Int64, Vector{Float64}, Float64, UnitRange{Int64}})() at threadingconstructs.jl:52\" role=\"graphics-symbol\" aria-roledescription=\"rect mark\" d=\"M43.885714285714286,395.25h0.2057142857142864v2.25h-0.2057142857142864Z\" fill=\"#4c78a8\" fill-opacity=\"1\" stroke=\"#505050\" stroke-width=\"0\"/><path aria-label=\"x1: 192; x2: 192.9; level: 2; level2: 2.9; status: Default; sf: (::var&quot;#602#threadsfor_fun#85&quot;{Markers, CartesianGrid, Float64, Float64, Float64, Int64, Int64, Vector{Float64}, Float64, UnitRange{Int64}})(onethread::Bool) at threadingconstructs.jl:85\" role=\"graphics-symbol\" aria-roledescription=\"rect mark\" d=\"M43.885714285714286,392.75h0.2057142857142864v2.25h-0.2057142857142864Z\" fill=\"#4c78a8\" fill-opacity=\"1\" stroke=\"#505050\" stroke-width=\"0\"/><path aria-label=\"x1: 192; x2: 192.9; level: 3; level2: 3.9; status: Runtime dispatch; sf: macro expansion at In[7]:152 [inlined]\" role=\"graphics-symbol\" aria-roledescription=\"rect mark\" d=\"M43.885714285714286,390.25h0.2057142857142864v2.25h-0.2057142857142864Z\" fill=\"#e45756\" fill-opacity=\"1\" stroke=\"#505050\" stroke-width=\"0\"/><path aria-label=\"x1: 193; x2: 3385.9; level: 1; level2: 1.9; status: Default; sf: task_done_hook(t::Task) at task.jl:544\" role=\"graphics-symbol\" aria-roledescription=\"rect mark\" d=\"M44.114285714285714,395.25h729.8057142857143v2.25h-729.8057142857143Z\" fill=\"#4c78a8\" fill-opacity=\"1\" stroke=\"#505050\" stroke-width=\"0\"/><path aria-label=\"x1: 193; x2: 3385.9; level: 2; level2: 2.9; status: Default; sf: wait() at task.jl:836\" role=\"graphics-symbol\" aria-roledescription=\"rect mark\" d=\"M44.114285714285714,392.75h729.8057142857143v2.25h-729.8057142857143Z\" fill=\"#4c78a8\" fill-opacity=\"1\" stroke=\"#505050\" stroke-width=\"0\"/><path aria-label=\"x1: 193; x2: 3385.9; level: 3; level2: 3.9; status: Default; sf: poptask(W::Base.InvasiveLinkedListSynchronized{Task}) at task.jl:827\" role=\"graphics-symbol\" aria-roledescription=\"rect mark\" d=\"M44.114285714285714,390.25h729.8057142857143v2.25h-729.8057142857143Z\" fill=\"#4c78a8\" fill-opacity=\"1\" stroke=\"#505050\" stroke-width=\"0\"/></g><g class=\"mark-group role-legend\" role=\"graphics-symbol\" aria-roledescription=\"legend\" aria-label=\"Symbol legend for fill color with 3 values: Default, Garbage collection, Runtime dispatch\"><g transform=\"translate(0,418)\"><path class=\"background\" aria-hidden=\"true\" d=\"M0,0h288v13h-288Z\" pointer-events=\"none\"/><g><g class=\"mark-group role-legend-entry\"><g transform=\"translate(0,0)\"><path class=\"background\" aria-hidden=\"true\" d=\"M0,0h0v0h0Z\" pointer-events=\"none\"/><g><g class=\"mark-group role-scope\" role=\"graphics-object\" aria-roledescription=\"group mark container\"><g transform=\"translate(0,0.25)\"><path class=\"background\" aria-hidden=\"true\" d=\"M0,0h53v12.5h-53Z\" pointer-events=\"none\" opacity=\"1\"/><g><g class=\"mark-symbol role-legend-symbol\" pointer-events=\"none\"><path transform=\"translate(6,6)\" d=\"M-5,-5h10v10h-10Z\" fill=\"#4c78a8\" stroke=\"#505050\" stroke-width=\"1.5\" opacity=\"1\"/></g><g class=\"mark-text role-legend-label\" pointer-events=\"none\"><text text-anchor=\"start\" transform=\"translate(16,9)\" font-family=\"sans-serif\" font-size=\"10px\" fill=\"#000\" opacity=\"1\">Default</text></g></g><path class=\"foreground\" aria-hidden=\"true\" d=\"\" pointer-events=\"none\" display=\"none\"/></g><g transform=\"translate(64,0.25)\"><path class=\"background\" aria-hidden=\"true\" d=\"M0,0h110v12.5h-110Z\" pointer-events=\"none\" opacity=\"1\"/><g><g class=\"mark-symbol role-legend-symbol\" pointer-events=\"none\"><path transform=\"translate(6,6)\" d=\"M-5,-5h10v10h-10Z\" fill=\"#f58518\" stroke=\"#505050\" stroke-width=\"1.5\" opacity=\"1\"/></g><g class=\"mark-text role-legend-label\" pointer-events=\"none\"><text text-anchor=\"start\" transform=\"translate(16,9)\" font-family=\"sans-serif\" font-size=\"10px\" fill=\"#000\" opacity=\"1\">Garbage collection</text></g></g><path class=\"foreground\" aria-hidden=\"true\" d=\"\" pointer-events=\"none\" display=\"none\"/></g><g transform=\"translate(185,0.25)\"><path class=\"background\" aria-hidden=\"true\" d=\"M0,0h103v12.5h-103Z\" pointer-events=\"none\" opacity=\"1\"/><g><g class=\"mark-symbol role-legend-symbol\" pointer-events=\"none\"><path transform=\"translate(6,6)\" d=\"M-5,-5h10v10h-10Z\" fill=\"#e45756\" stroke=\"#505050\" stroke-width=\"1.5\" opacity=\"1\"/></g><g class=\"mark-text role-legend-label\" pointer-events=\"none\"><text text-anchor=\"start\" transform=\"translate(16,9)\" font-family=\"sans-serif\" font-size=\"10px\" fill=\"#000\" opacity=\"1\">Runtime dispatch</text></g></g><path class=\"foreground\" aria-hidden=\"true\" d=\"\" pointer-events=\"none\" display=\"none\"/></g></g></g><path class=\"foreground\" aria-hidden=\"true\" d=\"\" pointer-events=\"none\" display=\"none\"/></g></g></g><path class=\"foreground\" aria-hidden=\"true\" d=\"\" pointer-events=\"none\" display=\"none\"/></g></g><g class=\"mark-group role-title\"><g transform=\"translate(400,-17)\"><path class=\"background\" aria-hidden=\"true\" d=\"M0,0h0v0h0Z\" pointer-events=\"none\"/><g><g class=\"mark-text role-title-text\" role=\"graphics-symbol\" aria-roledescription=\"title\" aria-label=\"Title text 'Profile Results'\" pointer-events=\"none\"><text text-anchor=\"middle\" transform=\"translate(0,10)\" font-family=\"sans-serif\" font-size=\"13px\" font-weight=\"bold\" fill=\"#000\" opacity=\"1\">Profile Results</text></g></g><path class=\"foreground\" aria-hidden=\"true\" d=\"\" pointer-events=\"none\" display=\"none\"/></g></g></g><path class=\"foreground\" aria-hidden=\"true\" d=\"\" display=\"none\"/></g></g></g><defs><clipPath id=\"clip1\"><rect x=\"0\" y=\"0\" width=\"800\" height=\"400\"/></clipPath></defs></svg>\n"
      ],
      "text/plain": [
       "@vlplot(\n",
       "    mark={\n",
       "        type=\"rect\",\n",
       "        stroke=\"#505050\"\n",
       "    },\n",
       "    transform=[\n",
       "        {\n",
       "            calculate=\"datum.level+0.9\",\n",
       "            as=\"level2\"\n",
       "        }\n",
       "    ],\n",
       "    selection={\n",
       "        grid={\n",
       "            type=\"interval\",\n",
       "            bind=\"scales\"\n",
       "        },\n",
       "        highlight={\n",
       "            type=\"single\",\n",
       "            on=\"mouseover\",\n",
       "            empty=\"none\"\n",
       "        },\n",
       "        select={\n",
       "            type=\"multi\",\n",
       "            empty=\"none\"\n",
       "        }\n",
       "    },\n",
       "    width=800,\n",
       "    height=400,\n",
       "    title=\"Profile Results\",\n",
       "    encoding={\n",
       "        x={\n",
       "            axis=nothing,\n",
       "            field=\"x1\"\n",
       "        },\n",
       "        x2={\n",
       "            field=\"x2\"\n",
       "        },\n",
       "        y={\n",
       "            axis=nothing,\n",
       "            field=\"level\",\n",
       "            type=\"quantitative\"\n",
       "        },\n",
       "        y2={\n",
       "            field=\"level2\",\n",
       "            type=\"quantitative\"\n",
       "        },\n",
       "        fillOpacity={\n",
       "            condition=[\n",
       "                {\n",
       "                    selection=\"highlight\",\n",
       "                    value=0.6\n",
       "                },\n",
       "                {\n",
       "                    selection=\"select\",\n",
       "                    value=0.5\n",
       "                }\n",
       "            ],\n",
       "            value=1\n",
       "        },\n",
       "        strokeWidth={\n",
       "            condition=[\n",
       "                {\n",
       "                    selection=\"highlight\",\n",
       "                    value=0.5\n",
       "                },\n",
       "                {\n",
       "                    selection=\"select\",\n",
       "                    value=0.5\n",
       "                }\n",
       "            ],\n",
       "            value=0\n",
       "        },\n",
       "        color={\n",
       "            legend={\n",
       "                title=nothing,\n",
       "                orient=\"bottom\"\n",
       "            },\n",
       "            field=\"status\",\n",
       "            type=\"nominal\"\n",
       "        },\n",
       "        tooltip={\n",
       "            field=\"sf\"\n",
       "        }\n",
       "    },\n",
       "    data={\n",
       "        values=...\n",
       "    }\n",
       ")"
      ]
     },
     "execution_count": 9,
     "metadata": {},
     "output_type": "execute_result"
    }
   ],
   "source": [
    "function single_timestep(ny,nx)\n",
    "    W = 5e5\n",
    "    H = 5e5\n",
    "    gx = 0.0\n",
    "    gy = 10.0\n",
    "    bc = BoundaryConditions(0,0,0,0) # currently does nothing but is required argument to stokes solver.\n",
    "    markx = 5\n",
    "    marky = 5\n",
    "    seconds_in_year = 3.15e7\n",
    "    plot_interval = 1e5*seconds_in_year # plot interval in seconds\n",
    "    end_time = 3e7*seconds_in_year\n",
    "    dtmax = plot_interval\n",
    "    grid = CartesianGrid(W,H,nx,ny)\n",
    "    println(\"Creating Markers...\")\n",
    "    markers = Markers(grid,[\"T\",\"rho\",\"eta\"],[\"material\"] ; nmx=markx,nmy=marky,random=false)\n",
    "    println(\"Initial condition...\")\n",
    "    @time initial_conditions!(markers)\n",
    "\n",
    "    # define arrays for k, rho, cp, H at the basic nodes. Fill them with constant values for now.\n",
    "    kThermal = 3.0 .*ones(grid.ny,grid.nx);\n",
    "    Cp = 1250. .* ones(grid.ny,grid.nx);\n",
    "    H = zeros(grid.ny,grid.nx);\n",
    "\n",
    "    time = 0.0\n",
    "    iout=0\n",
    "    # Get density and viscosity from the markers.\n",
    "    tmp = marker_to_basic_node(markers,grid,[\"rho\",\"eta\"]);\n",
    "    rho_new = tmp[1,:,:];\n",
    "    eta_s_new = tmp[2,:,:];\n",
    "    \n",
    "    if time > 0.0\n",
    "        nanind = findall(isnan.(rho_new))\n",
    "        rho_new[nanind] = rho[nanind]\n",
    "        eta_s_new[nanind] = eta_s[nanind]     \n",
    "    end\n",
    "    \n",
    "    rho   = copy(rho_new)\n",
    "    eta_s = copy(eta_s_new) \n",
    "    \n",
    "    eta_n = viscosity_to_cell_centers(grid,eta_s_new)\n",
    "\n",
    "    # assemble and solve the stokes equations\n",
    "    L,R = form_stokes(grid,eta_s_new,eta_n,rho_new,bc,gx,gy)\n",
    "    solution = L\\R\n",
    "    vx,vy,P = unpack(solution,grid;ghost=true)\n",
    "    vxc,vyc = velocity_to_centers(grid,vx,vy)\n",
    "    dt = compute_timestep(grid,vxc,vyc;dtmax=dtmax)\n",
    "    \n",
    "    # get temperature at cell centers\n",
    "    tmp = marker_to_cell_center(markers,grid,[\"T\",])\n",
    "    Tlast = tmp[1,:,:]\n",
    "    Tlast = ghost_temperature(grid,Tlast);\n",
    "\n",
    "    # assemble and solve the energy equation\n",
    "    L,R = assemble_energy_equation_center(grid,rho,Cp,kThermal,H,Tlast,dt);\n",
    "    Tnew = L\\R;\n",
    "    Tnew = reshape(Tnew,grid.ny,grid.nx);\n",
    "    Tnew = ghost_temperature(grid,Tnew);\n",
    "    \n",
    "    dTemp = Tnew-Tlast\n",
    "    dT_subgrid_node = subgrid_temperature_relaxation!(markers,grid,Tlast,Cp[1,1],kThermal[1,1],dt)\n",
    "    dT_remaining = dTemp - dT_subgrid_node\n",
    "    cell_center_change_to_markers!(markers,grid,dT_remaining,\"T\")\n",
    "    \n",
    "    if time == 0.0 || time - last_plot >= plot_interval\n",
    "        last_plot = time \n",
    "        name = @sprintf(\"output_chapter11/viz.%04d.vtr\",iout)\n",
    "        eta_s = zeros(grid.ny,grid.nx)\n",
    "        vn = velocity_to_basic_nodes(grid,vxc,vyc)\n",
    "\n",
    "        visualization(grid,rho,eta_s,vn,P,Tnew,time/seconds_in_year;filename=name)\n",
    "        name = @sprintf(\"output_chapter11/markers.%04d.vtp\",iout)\n",
    "        visualization(markers,time/seconds_in_year;filename=name)\n",
    "        iout += 1\n",
    "    end\n",
    "    print(markers.nmark)\n",
    "    move_markers_rk2!(markers,grid,vxc,vyc,dt)\n",
    "    time += dt\n",
    "end\n",
    "\n",
    "using ProfileSVG\n",
    "@profview single_timestep(21,21)"
   ]
  },
  {
   "cell_type": "code",
   "execution_count": null,
   "id": "a5b10a2c",
   "metadata": {},
   "outputs": [],
   "source": []
  }
 ],
 "metadata": {
  "kernelspec": {
   "display_name": "Julia 20 Threads 1.7.1",
   "language": "julia",
   "name": "julia-20-threads-1.7"
  },
  "language_info": {
   "file_extension": ".jl",
   "mimetype": "application/julia",
   "name": "julia",
   "version": "1.7.1"
  }
 },
 "nbformat": 4,
 "nbformat_minor": 5
}
