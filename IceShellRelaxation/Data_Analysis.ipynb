{
 "cells": [
  {
   "cell_type": "markdown",
   "id": "ad0dede7",
   "metadata": {},
   "source": [
    "This notebook combines the output from many runs of Christian Aguirre's ice shell relaxation models."
   ]
  },
  {
   "cell_type": "code",
   "execution_count": null,
   "id": "cfccf38a",
   "metadata": {},
   "outputs": [
    {
     "name": "stderr",
     "output_type": "stream",
     "text": [
      "\u001b[32m\u001b[1m   Resolving\u001b[22m\u001b[39m package versions...\n",
      "\u001b[32m\u001b[1m   Installed\u001b[22m\u001b[39m x265_jll ───────────────────── v3.5.0+0\n",
      "\u001b[32m\u001b[1m   Installed\u001b[22m\u001b[39m LERC_jll ───────────────────── v4.0.0+0\n",
      "\u001b[32m\u001b[1m   Installed\u001b[22m\u001b[39m JpegTurbo_jll ──────────────── v3.0.4+0\n",
      "\u001b[32m\u001b[1m   Installed\u001b[22m\u001b[39m Libmount_jll ───────────────── v2.40.1+0\n",
      "\u001b[32m\u001b[1m   Installed\u001b[22m\u001b[39m libdecor_jll ───────────────── v0.2.2+0\n",
      "\u001b[32m\u001b[1m   Installed\u001b[22m\u001b[39m libfdk_aac_jll ─────────────── v2.0.3+0\n",
      "\u001b[32m\u001b[1m   Installed\u001b[22m\u001b[39m GR_jll ─────────────────────── v0.73.8+0\n",
      "\u001b[32m\u001b[1m   Installed\u001b[22m\u001b[39m LoggingExtras ──────────────── v1.1.0\n",
      "\u001b[32m\u001b[1m   Installed\u001b[22m\u001b[39m Opus_jll ───────────────────── v1.3.3+0\n",
      "\u001b[32m\u001b[1m   Installed\u001b[22m\u001b[39m Xorg_xkbcomp_jll ───────────── v1.4.6+0\n",
      "\u001b[32m\u001b[1m   Installed\u001b[22m\u001b[39m ConcurrentUtilities ────────── v2.4.2\n",
      "\u001b[32m\u001b[1m   Installed\u001b[22m\u001b[39m RelocatableFolders ─────────── v1.0.1\n",
      "\u001b[32m\u001b[1m   Installed\u001b[22m\u001b[39m Measures ───────────────────── v0.3.2\n",
      "\u001b[32m\u001b[1m   Installed\u001b[22m\u001b[39m Contour ────────────────────── v0.6.3\n",
      "\u001b[32m\u001b[1m   Installed\u001b[22m\u001b[39m Grisu ──────────────────────── v1.0.2\n",
      "\u001b[32m\u001b[1m   Installed\u001b[22m\u001b[39m PlotUtils ──────────────────── v1.4.3\n",
      "\u001b[32m\u001b[1m   Installed\u001b[22m\u001b[39m RecipesPipeline ────────────── v0.6.12\n",
      "\u001b[32m\u001b[1m   Installed\u001b[22m\u001b[39m OpenSSL ────────────────────── v1.4.3\n",
      "\u001b[32m\u001b[1m   Installed\u001b[22m\u001b[39m Xorg_libpthread_stubs_jll ──── v0.1.1+0\n",
      "\u001b[32m\u001b[1m   Installed\u001b[22m\u001b[39m Xorg_xcb_util_wm_jll ───────── v0.4.1+1\n",
      "\u001b[32m\u001b[1m   Installed\u001b[22m\u001b[39m Xorg_xcb_util_image_jll ────── v0.4.0+1\n",
      "\u001b[32m\u001b[1m   Installed\u001b[22m\u001b[39m Xorg_libSM_jll ─────────────── v1.2.4+0\n",
      "\u001b[32m\u001b[1m   Installed\u001b[22m\u001b[39m HTTP ───────────────────────── v1.10.10\n",
      "\u001b[32m\u001b[1m   Installed\u001b[22m\u001b[39m Libgpg_error_jll ───────────── v1.50.0+0\n",
      "\u001b[32m\u001b[1m   Installed\u001b[22m\u001b[39m Fontconfig_jll ─────────────── v2.13.96+0\n",
      "\u001b[32m\u001b[1m   Installed\u001b[22m\u001b[39m Cairo_jll ──────────────────── v1.18.2+1\n",
      "\u001b[32m\u001b[1m   Installed\u001b[22m\u001b[39m Xorg_xcb_util_jll ──────────── v0.4.0+1\n",
      "\u001b[32m\u001b[1m   Installed\u001b[22m\u001b[39m Xorg_libxkbfile_jll ────────── v1.1.2+0\n",
      "\u001b[32m\u001b[1m   Installed\u001b[22m\u001b[39m Xorg_libXinerama_jll ───────── v1.1.4+4\n",
      "\u001b[32m\u001b[1m   Installed\u001b[22m\u001b[39m Xorg_libXau_jll ────────────── v1.0.11+0\n",
      "\u001b[32m\u001b[1m   Installed\u001b[22m\u001b[39m EpollShim_jll ──────────────── v0.0.20230411+0\n",
      "\u001b[32m\u001b[1m   Installed\u001b[22m\u001b[39m Showoff ────────────────────── v1.0.3\n",
      "\u001b[32m\u001b[1m   Installed\u001b[22m\u001b[39m FFMPEG ─────────────────────── v0.4.2\n",
      "\u001b[32m\u001b[1m   Installed\u001b[22m\u001b[39m Pango_jll ──────────────────── v1.54.1+0\n",
      "\u001b[32m\u001b[1m   Installed\u001b[22m\u001b[39m ADTypes ────────────────────── v1.10.0\n",
      "\u001b[32m\u001b[1m   Installed\u001b[22m\u001b[39m xkbcommon_jll ──────────────── v1.4.1+1\n",
      "\u001b[32m\u001b[1m   Installed\u001b[22m\u001b[39m Xorg_xcb_util_keysyms_jll ──── v0.4.0+1\n",
      "\u001b[32m\u001b[1m   Installed\u001b[22m\u001b[39m Bzip2_jll ──────────────────── v1.0.8+2\n",
      "\u001b[32m\u001b[1m   Installed\u001b[22m\u001b[39m LinearSolve ────────────────── v2.37.0\n",
      "\u001b[32m\u001b[1m   Installed\u001b[22m\u001b[39m ColorSchemes ───────────────── v3.27.1\n",
      "\u001b[32m\u001b[1m   Installed\u001b[22m\u001b[39m SciMLBase ──────────────────── v2.61.0\n",
      "\u001b[32m\u001b[1m   Installed\u001b[22m\u001b[39m XZ_jll ─────────────────────── v5.6.3+0\n",
      "\u001b[32m\u001b[1m   Installed\u001b[22m\u001b[39m SimpleBufferStream ─────────── v1.2.0\n",
      "\u001b[32m\u001b[1m   Installed\u001b[22m\u001b[39m Pipe ───────────────────────── v1.3.0\n",
      "\u001b[32m\u001b[1m   Installed\u001b[22m\u001b[39m GR ─────────────────────────── v0.73.8\n",
      "\u001b[32m\u001b[1m   Installed\u001b[22m\u001b[39m LZO_jll ────────────────────── v2.10.2+1\n",
      "\u001b[32m\u001b[1m   Installed\u001b[22m\u001b[39m HarfBuzz_jll ───────────────── v8.3.1+0\n",
      "\u001b[32m\u001b[1m   Installed\u001b[22m\u001b[39m PlotThemes ─────────────────── v3.3.0\n",
      "\u001b[32m\u001b[1m   Installed\u001b[22m\u001b[39m fzf_jll ────────────────────── v0.53.0+0\n",
      "\u001b[32m\u001b[1m   Installed\u001b[22m\u001b[39m UnicodeFun ─────────────────── v0.4.1\n",
      "\u001b[32m\u001b[1m   Installed\u001b[22m\u001b[39m FreeType2_jll ──────────────── v2.13.2+0\n",
      "\u001b[32m\u001b[1m   Installed\u001b[22m\u001b[39m FriBidi_jll ────────────────── v1.0.14+0\n",
      "\u001b[32m\u001b[1m   Installed\u001b[22m\u001b[39m GLFW_jll ───────────────────── v3.4.0+1\n",
      "\u001b[32m\u001b[1m   Installed\u001b[22m\u001b[39m x264_jll ───────────────────── v2021.5.5+0\n",
      "\u001b[32m\u001b[1m   Installed\u001b[22m\u001b[39m Xorg_libxcb_jll ────────────── v1.17.0+0\n",
      "\u001b[32m\u001b[1m   Installed\u001b[22m\u001b[39m JLFzf ──────────────────────── v0.1.8\n",
      "\u001b[32m\u001b[1m   Installed\u001b[22m\u001b[39m libpng_jll ─────────────────── v1.6.44+0\n",
      "\u001b[32m\u001b[1m   Installed\u001b[22m\u001b[39m mtdev_jll ──────────────────── v1.1.6+0\n",
      "\u001b[32m\u001b[1m   Installed\u001b[22m\u001b[39m ExceptionUnwrapping ────────── v0.1.10\n",
      "\u001b[32m\u001b[1m   Installed\u001b[22m\u001b[39m eudev_jll ──────────────────── v3.2.9+0\n",
      "\u001b[32m\u001b[1m   Installed\u001b[22m\u001b[39m Dbus_jll ───────────────────── v1.14.10+0\n",
      "\u001b[32m\u001b[1m   Installed\u001b[22m\u001b[39m libaom_jll ─────────────────── v3.9.0+0\n",
      "\u001b[32m\u001b[1m   Installed\u001b[22m\u001b[39m gperf_jll ──────────────────── v3.1.1+0\n",
      "\u001b[32m\u001b[1m   Installed\u001b[22m\u001b[39m Scratch ────────────────────── v1.2.1\n",
      "\u001b[32m\u001b[1m   Installed\u001b[22m\u001b[39m Xorg_libXext_jll ───────────── v1.3.6+0\n",
      "\u001b[32m\u001b[1m   Installed\u001b[22m\u001b[39m TensorCore ─────────────────── v0.1.1\n",
      "\u001b[32m\u001b[1m   Installed\u001b[22m\u001b[39m Plots ──────────────────────── v1.40.9\n",
      "\u001b[32m\u001b[1m   Installed\u001b[22m\u001b[39m Zstd_jll ───────────────────── v1.5.6+1\n",
      "\u001b[32m\u001b[1m   Installed\u001b[22m\u001b[39m Xorg_xcb_util_cursor_jll ───── v0.1.4+0\n",
      "\u001b[32m\u001b[1m   Installed\u001b[22m\u001b[39m Expat_jll ──────────────────── v2.6.4+0\n",
      "\u001b[32m\u001b[1m   Installed\u001b[22m\u001b[39m Libtiff_jll ────────────────── v4.7.0+0\n",
      "\u001b[32m\u001b[1m   Installed\u001b[22m\u001b[39m Libffi_jll ─────────────────── v3.2.2+1\n",
      "\u001b[32m\u001b[1m   Installed\u001b[22m\u001b[39m Format ─────────────────────── v1.3.7\n",
      "\u001b[32m\u001b[1m   Installed\u001b[22m\u001b[39m ColorVectorSpace ───────────── v0.10.0\n",
      "\u001b[32m\u001b[1m   Installed\u001b[22m\u001b[39m Xorg_libXrender_jll ────────── v0.9.11+0\n",
      "\u001b[32m\u001b[1m   Installed\u001b[22m\u001b[39m libevdev_jll ───────────────── v1.11.0+0\n",
      "\u001b[32m\u001b[1m   Installed\u001b[22m\u001b[39m libinput_jll ───────────────── v1.18.0+0\n",
      "\u001b[32m\u001b[1m   Installed\u001b[22m\u001b[39m Xorg_libXi_jll ─────────────── v1.7.10+4\n",
      "\u001b[32m\u001b[1m   Installed\u001b[22m\u001b[39m Ogg_jll ────────────────────── v1.3.5+1\n",
      "\u001b[32m\u001b[1m   Installed\u001b[22m\u001b[39m Vulkan_Loader_jll ──────────── v1.3.243+0\n",
      "\u001b[32m\u001b[1m   Installed\u001b[22m\u001b[39m XSLT_jll ───────────────────── v1.1.41+0\n",
      "\u001b[32m\u001b[1m   Installed\u001b[22m\u001b[39m Qt6ShaderTools_jll ─────────── v6.7.1+1\n",
      "\u001b[32m\u001b[1m   Installed\u001b[22m\u001b[39m Qt6Declarative_jll ─────────── v6.7.1+2\n",
      "\u001b[32m\u001b[1m   Installed\u001b[22m\u001b[39m Xorg_libXcursor_jll ────────── v1.2.0+4\n",
      "\u001b[32m\u001b[1m   Installed\u001b[22m\u001b[39m Wayland_protocols_jll ──────── v1.31.0+0\n",
      "\u001b[32m\u001b[1m   Installed\u001b[22m\u001b[39m Xorg_xcb_util_renderutil_jll ─ v0.3.9+1\n",
      "\u001b[32m\u001b[1m   Installed\u001b[22m\u001b[39m Libuuid_jll ────────────────── v2.40.1+0\n",
      "\u001b[32m\u001b[1m   Installed\u001b[22m\u001b[39m Xorg_libICE_jll ────────────── v1.1.1+0\n",
      "\u001b[32m\u001b[1m   Installed\u001b[22m\u001b[39m libass_jll ─────────────────── v0.15.2+0\n",
      "\u001b[32m\u001b[1m   Installed\u001b[22m\u001b[39m StableRNGs ─────────────────── v1.0.2\n",
      "\u001b[32m\u001b[1m   Installed\u001b[22m\u001b[39m Graphite2_jll ──────────────── v1.3.14+0\n",
      "\u001b[32m\u001b[1m   Installed\u001b[22m\u001b[39m Wayland_jll ────────────────── v1.21.0+1\n",
      "\u001b[32m\u001b[1m   Installed\u001b[22m\u001b[39m Xorg_xtrans_jll ────────────── v1.5.0+0\n",
      "\u001b[32m\u001b[1m   Installed\u001b[22m\u001b[39m Gettext_jll ────────────────── v0.21.0+0\n",
      "\u001b[32m\u001b[1m   Installed\u001b[22m\u001b[39m FFMPEG_jll ─────────────────── v4.4.4+1\n",
      "\u001b[32m\u001b[1m   Installed\u001b[22m\u001b[39m Libgcrypt_jll ──────────────── v1.11.0+0\n",
      "\u001b[32m\u001b[1m   Installed\u001b[22m\u001b[39m BitFlags ───────────────────── v0.1.9\n",
      "\u001b[32m\u001b[1m   Installed\u001b[22m\u001b[39m Latexify ───────────────────── v0.16.5\n",
      "\u001b[32m\u001b[1m   Installed\u001b[22m\u001b[39m Xorg_xkeyboard_config_jll ──── v2.39.0+0\n",
      "\u001b[32m\u001b[1m   Installed\u001b[22m\u001b[39m Xorg_libXfixes_jll ─────────── v5.0.3+4\n",
      "\u001b[32m\u001b[1m   Installed\u001b[22m\u001b[39m Xorg_libXrandr_jll ─────────── v1.5.2+4\n",
      "\u001b[32m\u001b[1m   Installed\u001b[22m\u001b[39m Qt6Base_jll ────────────────── v6.7.1+1\n",
      "\u001b[32m\u001b[1m   Installed\u001b[22m\u001b[39m LAME_jll ───────────────────── v3.100.2+0\n",
      "\u001b[32m\u001b[1m   Installed\u001b[22m\u001b[39m Qt6Wayland_jll ─────────────── v6.7.1+1\n",
      "\u001b[32m\u001b[1m   Installed\u001b[22m\u001b[39m Glib_jll ───────────────────── v2.80.5+0\n",
      "\u001b[32m\u001b[1m   Installed\u001b[22m\u001b[39m Xorg_libX11_jll ────────────── v1.8.6+0\n",
      "\u001b[32m\u001b[1m   Installed\u001b[22m\u001b[39m libvorbis_jll ──────────────── v1.3.7+2\n",
      "\u001b[32m\u001b[1m   Installed\u001b[22m\u001b[39m Libglvnd_jll ───────────────── v1.6.0+0\n",
      "\u001b[32m\u001b[1m   Installed\u001b[22m\u001b[39m Unzip ──────────────────────── v0.2.0\n",
      "\u001b[32m\u001b[1m   Installed\u001b[22m\u001b[39m Xorg_libXdmcp_jll ──────────── v1.1.4+0\n",
      "\u001b[32m\u001b[1m   Installed\u001b[22m\u001b[39m UnitfulLatexify ────────────── v1.6.4\n",
      "\u001b[32m\u001b[1m   Installed\u001b[22m\u001b[39m Pixman_jll ─────────────────── v0.43.4+0\n"
     ]
    }
   ],
   "source": [
    "using Pkg\n",
    "Pkg.add(\"PyPlot\")"
   ]
  },
  {
   "cell_type": "code",
   "execution_count": 4,
   "id": "feee692c",
   "metadata": {
    "tags": []
   },
   "outputs": [
    {
     "data": {
      "text/plain": [
       "combine_hdf5_files (generic function with 2 methods)"
      ]
     },
     "execution_count": 4,
     "metadata": {},
     "output_type": "execute_result"
    }
   ],
   "source": [
    "using HDF5\n",
    "using PyPlot\n",
    "include(\"PostProcess.jl\")"
   ]
  },
  {
   "cell_type": "markdown",
   "id": "de4c6ebb",
   "metadata": {},
   "source": [
    "Enter the range of ice shell thicknesses, wavelengths, amplitude, gravity, and output path below."
   ]
  },
  {
   "cell_type": "code",
   "execution_count": 6,
   "id": "6d86b3af-88f5-4862-83c3-3d1f015e230b",
   "metadata": {},
   "outputs": [
    {
     "name": "stdout",
     "output_type": "stream",
     "text": [
      "Finished Saving Data into a HDF5 File\n"
     ]
    }
   ],
   "source": [
    "ice_shell_thickness_range = range(5.0,60.0,15)  # Define your ice shell thickness range\n",
    "wavelength_range = range(5.0,300.0,14)  # Define your wavelength range\n",
    "amplitude = 20.0  # Define the amplitude value\n",
    "gravity = 0.113 # Define gravity\n",
    "output_path = \"combined_output.hdf5\"  # Define the output file path\n",
    "combine_hdf5_files(ice_shell_thickness_range,wavelength_range,amplitude,gravity,output_path,\"BAPS_Enceladus\")"
   ]
  },
  {
   "cell_type": "code",
   "execution_count": 7,
   "id": "80e0e15f",
   "metadata": {
    "tags": []
   },
   "outputs": [
    {
     "name": "stdout",
     "output_type": "stream",
     "text": [
      "HDF5.Dataset: /Combined Model Run/Fitted Thickening Time (file: combined_output.hdf5 xfer_mode: 0)\n"
     ]
    },
    {
     "data": {
      "text/plain": [
       "0×0 Matrix{Float64}"
      ]
     },
     "metadata": {},
     "output_type": "display_data"
    },
    {
     "name": "stdout",
     "output_type": "stream",
     "text": [
      "HDF5.Dataset: /Combined Model Run/Fitted Viscous Relaxation Time (file: combined_output.hdf5 xfer_mode: 0)\n"
     ]
    },
    {
     "data": {
      "text/plain": [
       "0×0 Matrix{Float64}"
      ]
     },
     "metadata": {},
     "output_type": "display_data"
    },
    {
     "name": "stdout",
     "output_type": "stream",
     "text": [
      "HDF5.Dataset: /Combined Model Run/Ice Shell Thickness (file: combined_output.hdf5 xfer_mode: 0)\n"
     ]
    },
    {
     "data": {
      "text/plain": [
       "Float64[]"
      ]
     },
     "metadata": {},
     "output_type": "display_data"
    },
    {
     "name": "stdout",
     "output_type": "stream",
     "text": [
      "HDF5.Dataset: /Combined Model Run/Thickening Time (file: combined_output.hdf5 xfer_mode: 0)\n"
     ]
    },
    {
     "data": {
      "text/plain": [
       "0×0 Matrix{Float64}"
      ]
     },
     "metadata": {},
     "output_type": "display_data"
    },
    {
     "name": "stdout",
     "output_type": "stream",
     "text": [
      "HDF5.Dataset: /Combined Model Run/Viscous Relaxation Time(Half-Space) (file: combined_output.hdf5 xfer_mode: 0)\n"
     ]
    },
    {
     "data": {
      "text/plain": [
       "0×0 Matrix{Float64}"
      ]
     },
     "metadata": {},
     "output_type": "display_data"
    },
    {
     "name": "stdout",
     "output_type": "stream",
     "text": [
      "HDF5.Dataset: /Combined Model Run/Viscous Relaxation Time(Model) (file: combined_output.hdf5 xfer_mode: 0)\n"
     ]
    },
    {
     "data": {
      "text/plain": [
       "0×0 Matrix{Float64}"
      ]
     },
     "metadata": {},
     "output_type": "display_data"
    },
    {
     "name": "stdout",
     "output_type": "stream",
     "text": [
      "HDF5.Dataset: /Combined Model Run/Wavelength (file: combined_output.hdf5 xfer_mode: 0)\n"
     ]
    },
    {
     "data": {
      "text/plain": [
       "Float64[]"
      ]
     },
     "metadata": {},
     "output_type": "display_data"
    }
   ],
   "source": [
    "fname = \"combined_output.hdf5\"\n",
    "# Displaying all of the file's information\n",
    "fid = h5open(fname, \"r\")\n",
    "\n",
    "# Reading Data from file\n",
    "modeldata = fid[\"Combined Model Run\"];\n",
    "\n",
    "# Displaying the contents in Model Run group \n",
    "for obj in modeldata\n",
    "    data = read(obj)\n",
    "    println(obj)\n",
    "    display(data)\n",
    "end\n",
    "\n",
    "# # Accessing Model Run contents that I want\n",
    "Wavelength = read(modeldata,\"Wavelength\");\n",
    "Ice_shell = read(modeldata, \"Ice Shell Thickness\");\n",
    "# Time_halfspace = read(modeldata,\"Viscous Relaxation Time(Half-Space)\");\n",
    "# Time_rel = read(modeldata,\"Viscous Relaxation Time(Model)\");\n",
    "# Time_thickening = read(modeldata, \"Thickening Time\");\n",
    "# Time_thickening_fit = read(modeldata, \"Fitted Thickening Time\");\n",
    "Time_rel_fit = read(modeldata, \"Fitted Viscous Relaxation Time\");\n",
    "\n",
    "# Close file\n",
    "close(fid)\n",
    "\n",
    "# t_prime = Time_rel_fit./Time_thickening_fit;"
   ]
  },
  {
   "cell_type": "code",
   "execution_count": 8,
   "id": "c1df195e-29fc-40b7-a4ea-a421ad98d098",
   "metadata": {},
   "outputs": [
    {
     "name": "stdout",
     "output_type": "stream",
     "text": [
      "Finished Saving Data into a HDF5 File\n"
     ]
    }
   ],
   "source": [
    "ice_shell_thickness_range = range(10.0,60.0,15)  # Define your ice shell thickness range\n",
    "wavelength_range = range(5.0,300.0,14)  # Define your wavelength range\n",
    "amplitude = 20.0  # Define the amplitude value\n",
    "gravity = 0.113 # Define gravity\n",
    "output_path = \"nothick_combined_output.hdf5\"  # Define the output file path\n",
    "combine_hdf5_files(ice_shell_thickness_range,wavelength_range,amplitude,gravity,output_path,\"NoThickening\")"
   ]
  },
  {
   "cell_type": "code",
   "execution_count": 9,
   "id": "a23d8036-4c3a-43d0-b82a-54b2a85acc00",
   "metadata": {},
   "outputs": [
    {
     "name": "stdout",
     "output_type": "stream",
     "text": [
      "HDF5.Dataset: /Combined Model Run/Fitted Thickening Time (file: nothick_combined_output.hdf5 xfer_mode: 0)\n"
     ]
    },
    {
     "data": {
      "text/plain": [
       "0×0 Matrix{Float64}"
      ]
     },
     "metadata": {},
     "output_type": "display_data"
    },
    {
     "name": "stdout",
     "output_type": "stream",
     "text": [
      "HDF5.Dataset: /Combined Model Run/Fitted Viscous Relaxation Time (file: nothick_combined_output.hdf5 xfer_mode: 0)\n"
     ]
    },
    {
     "data": {
      "text/plain": [
       "0×0 Matrix{Float64}"
      ]
     },
     "metadata": {},
     "output_type": "display_data"
    },
    {
     "name": "stdout",
     "output_type": "stream",
     "text": [
      "HDF5.Dataset: /Combined Model Run/Ice Shell Thickness (file: nothick_combined_output.hdf5 xfer_mode: 0)\n"
     ]
    },
    {
     "data": {
      "text/plain": [
       "Float64[]"
      ]
     },
     "metadata": {},
     "output_type": "display_data"
    },
    {
     "name": "stdout",
     "output_type": "stream",
     "text": [
      "HDF5.Dataset: /Combined Model Run/Thickening Time (file: nothick_combined_output.hdf5 xfer_mode: 0)\n"
     ]
    },
    {
     "data": {
      "text/plain": [
       "0×0 Matrix{Float64}"
      ]
     },
     "metadata": {},
     "output_type": "display_data"
    },
    {
     "name": "stdout",
     "output_type": "stream",
     "text": [
      "HDF5.Dataset: /Combined Model Run/Viscous Relaxation Time(Half-Space) (file: nothick_combined_output.hdf5 xfer_mode: 0)\n"
     ]
    },
    {
     "data": {
      "text/plain": [
       "0×0 Matrix{Float64}"
      ]
     },
     "metadata": {},
     "output_type": "display_data"
    },
    {
     "name": "stdout",
     "output_type": "stream",
     "text": [
      "HDF5.Dataset: /Combined Model Run/Viscous Relaxation Time(Model) (file: nothick_combined_output.hdf5 xfer_mode: 0)\n"
     ]
    },
    {
     "data": {
      "text/plain": [
       "0×0 Matrix{Float64}"
      ]
     },
     "metadata": {},
     "output_type": "display_data"
    },
    {
     "name": "stdout",
     "output_type": "stream",
     "text": [
      "HDF5.Dataset: /Combined Model Run/Wavelength (file: nothick_combined_output.hdf5 xfer_mode: 0)\n"
     ]
    },
    {
     "data": {
      "text/plain": [
       "Float64[]"
      ]
     },
     "metadata": {},
     "output_type": "display_data"
    }
   ],
   "source": [
    "fname = \"nothick_combined_output.hdf5\"\n",
    "# Displaying all of the file's information\n",
    "fid = h5open(fname, \"r\")\n",
    "\n",
    "# Reading Data from file\n",
    "modeldata = fid[\"Combined Model Run\"];\n",
    "\n",
    "# Displaying the contents in Model Run group \n",
    "for obj in modeldata\n",
    "    data = read(obj)\n",
    "    println(obj)\n",
    "    display(data)\n",
    "end\n",
    "\n",
    "# # Accessing Model Run contents that I want\n",
    "Time_rel_fit_nothick = read(modeldata, \"Fitted Viscous Relaxation Time\");\n",
    "\n",
    "# Close file\n",
    "close(fid)"
   ]
  },
  {
   "cell_type": "code",
   "execution_count": 10,
   "id": "30eccb1c-3ebe-459d-be55-da04c56aa03b",
   "metadata": {},
   "outputs": [
    {
     "ename": "LoadError",
     "evalue": "PyError ($(Expr(:escape, :(ccall(#= /home/rudolph/.julia/packages/PyCall/1gn3u/src/pyfncall.jl:43 =# @pysym(:PyObject_Call), PyPtr, (PyPtr, PyPtr, PyPtr), o, pyargsptr, kw))))) <class 'TypeError'>\nTypeError('Input z must be at least a (2, 2) shaped array, but has shape (0, 0)')\n  File \"/home/rudolph/miniconda3/lib/python3.11/site-packages/matplotlib/pyplot.py\", line 2927, in contour\n    __ret = gca().contour(\n            ^^^^^^^^^^^^^^\n  File \"/home/rudolph/miniconda3/lib/python3.11/site-packages/matplotlib/__init__.py\", line 1465, in inner\n    return func(ax, *map(sanitize_sequence, args), **kwargs)\n           ^^^^^^^^^^^^^^^^^^^^^^^^^^^^^^^^^^^^^^^^^^^^^^^^^\n  File \"/home/rudolph/miniconda3/lib/python3.11/site-packages/matplotlib/axes/_axes.py\", line 6512, in contour\n    contours = mcontour.QuadContourSet(self, *args, **kwargs)\n               ^^^^^^^^^^^^^^^^^^^^^^^^^^^^^^^^^^^^^^^^^^^^^^\n  File \"/home/rudolph/miniconda3/lib/python3.11/site-packages/matplotlib/contour.py\", line 847, in __init__\n    kwargs = self._process_args(*args, **kwargs)\n             ^^^^^^^^^^^^^^^^^^^^^^^^^^^^^^^^^^^\n  File \"/home/rudolph/miniconda3/lib/python3.11/site-packages/matplotlib/contour.py\", line 1533, in _process_args\n    x, y, z = self._contour_args(args, kwargs)\n              ^^^^^^^^^^^^^^^^^^^^^^^^^^^^^^^^\n  File \"/home/rudolph/miniconda3/lib/python3.11/site-packages/matplotlib/contour.py\", line 1573, in _contour_args\n    x, y, z = self._check_xyz(x, y, z_orig, kwargs)\n              ^^^^^^^^^^^^^^^^^^^^^^^^^^^^^^^^^^^^^\n  File \"/home/rudolph/miniconda3/lib/python3.11/site-packages/matplotlib/contour.py\", line 1601, in _check_xyz\n    raise TypeError(f\"Input z must be at least a (2, 2) shaped array, \"\n",
     "output_type": "error",
     "traceback": [
      "PyError ($(Expr(:escape, :(ccall(#= /home/rudolph/.julia/packages/PyCall/1gn3u/src/pyfncall.jl:43 =# @pysym(:PyObject_Call), PyPtr, (PyPtr, PyPtr, PyPtr), o, pyargsptr, kw))))) <class 'TypeError'>\nTypeError('Input z must be at least a (2, 2) shaped array, but has shape (0, 0)')\n  File \"/home/rudolph/miniconda3/lib/python3.11/site-packages/matplotlib/pyplot.py\", line 2927, in contour\n    __ret = gca().contour(\n            ^^^^^^^^^^^^^^\n  File \"/home/rudolph/miniconda3/lib/python3.11/site-packages/matplotlib/__init__.py\", line 1465, in inner\n    return func(ax, *map(sanitize_sequence, args), **kwargs)\n           ^^^^^^^^^^^^^^^^^^^^^^^^^^^^^^^^^^^^^^^^^^^^^^^^^\n  File \"/home/rudolph/miniconda3/lib/python3.11/site-packages/matplotlib/axes/_axes.py\", line 6512, in contour\n    contours = mcontour.QuadContourSet(self, *args, **kwargs)\n               ^^^^^^^^^^^^^^^^^^^^^^^^^^^^^^^^^^^^^^^^^^^^^^\n  File \"/home/rudolph/miniconda3/lib/python3.11/site-packages/matplotlib/contour.py\", line 847, in __init__\n    kwargs = self._process_args(*args, **kwargs)\n             ^^^^^^^^^^^^^^^^^^^^^^^^^^^^^^^^^^^\n  File \"/home/rudolph/miniconda3/lib/python3.11/site-packages/matplotlib/contour.py\", line 1533, in _process_args\n    x, y, z = self._contour_args(args, kwargs)\n              ^^^^^^^^^^^^^^^^^^^^^^^^^^^^^^^^\n  File \"/home/rudolph/miniconda3/lib/python3.11/site-packages/matplotlib/contour.py\", line 1573, in _contour_args\n    x, y, z = self._check_xyz(x, y, z_orig, kwargs)\n              ^^^^^^^^^^^^^^^^^^^^^^^^^^^^^^^^^^^^^\n  File \"/home/rudolph/miniconda3/lib/python3.11/site-packages/matplotlib/contour.py\", line 1601, in _check_xyz\n    raise TypeError(f\"Input z must be at least a (2, 2) shaped array, \"\n",
      "",
      "Stacktrace:",
      "  [1] pyerr_check",
      "    @ ~/.julia/packages/PyCall/1gn3u/src/exception.jl:75 [inlined]",
      "  [2] pyerr_check",
      "    @ ~/.julia/packages/PyCall/1gn3u/src/exception.jl:79 [inlined]",
      "  [3] _handle_error(msg::String)",
      "    @ PyCall ~/.julia/packages/PyCall/1gn3u/src/exception.jl:96",
      "  [4] macro expansion",
      "    @ ~/.julia/packages/PyCall/1gn3u/src/exception.jl:110 [inlined]",
      "  [5] #107",
      "    @ ~/.julia/packages/PyCall/1gn3u/src/pyfncall.jl:43 [inlined]",
      "  [6] disable_sigint",
      "    @ ./c.jl:167 [inlined]",
      "  [7] __pycall!",
      "    @ ~/.julia/packages/PyCall/1gn3u/src/pyfncall.jl:42 [inlined]",
      "  [8] _pycall!(ret::PyCall.PyObject, o::PyCall.PyObject, args::Tuple{Vector{Float64}, Vector{Float64}, Matrix{Float64}}, nargs::Int64, kw::Ptr{Nothing})",
      "    @ PyCall ~/.julia/packages/PyCall/1gn3u/src/pyfncall.jl:29",
      "  [9] _pycall!(ret::PyCall.PyObject, o::PyCall.PyObject, args::Tuple{Vector{Float64}, Vector{Float64}, Matrix{Float64}}, kwargs::@Kwargs{})",
      "    @ PyCall ~/.julia/packages/PyCall/1gn3u/src/pyfncall.jl:11",
      " [10] pycall(::PyCall.PyObject, ::Type{PyCall.PyAny}, ::Vector{Float64}, ::Vararg{Any}; kwargs::@Kwargs{})",
      "    @ PyCall ~/.julia/packages/PyCall/1gn3u/src/pyfncall.jl:83",
      " [11] contour(::Vector{Float64}, ::Vararg{Any}; kws::@Kwargs{})",
      "    @ PyPlot ~/.julia/packages/PyPlot/rWSdf/src/PyPlot.jl:194",
      " [12] contour(::Vector{Float64}, ::Vector{Float64}, ::Matrix{Float64})",
      "    @ PyPlot ~/.julia/packages/PyPlot/rWSdf/src/PyPlot.jl:190",
      " [13] top-level scope",
      "    @ In[10]:3"
     ]
    }
   ],
   "source": [
    "dtrel = abs.(Time_rel_fit.-Time_rel_fit_nothick)\n",
    "figure()\n",
    "cs = contour(Ice_shell/1e3,Wavelength/1e3,dtrel/1e3)\n",
    "contourf(cs,cmap=get_cmap(\"viridis\"))\n",
    "title(L\"dt_{relaxation}\")\n",
    "colorbar(label=L\"dt_{relaxation}\"*\" (kyr)\",location=\"right\")\n",
    "gca().yaxis.set_label_position(\"left\")\n",
    "gca().set_ylabel(L\"\\lambda\"*\" (km)\",fontsize=12)\n",
    "gca().set_xlabel(\"H (km)\",fontsize=12,rotation=0)\n",
    "tight_layout()\n",
    "# savefig(\"/Users/christianaguirre/Desktop/BAPS_Figures/dt_rel.pdf\",dpi=300)\n",
    "show()"
   ]
  },
  {
   "cell_type": "code",
   "execution_count": 11,
   "id": "c7f56628-4c69-4dc4-9077-f82c47727f76",
   "metadata": {},
   "outputs": [
    {
     "ename": "LoadError",
     "evalue": "UndefVarError: `t_prime` not defined in `Main`\nSuggestion: check for spelling errors or missing imports.",
     "output_type": "error",
     "traceback": [
      "UndefVarError: `t_prime` not defined in `Main`\nSuggestion: check for spelling errors or missing imports.",
      "",
      "Stacktrace:",
      " [1] top-level scope",
      "   @ In[11]:4"
     ]
    }
   ],
   "source": [
    "cm = PyPlot.matplotlib[:cm]\n",
    "TwoSlopeNorm = PyPlot.matplotlib[:colors][:TwoSlopeNorm]\n",
    "# ticker = PyPlot.matplotlib[:ticker]\n",
    "norm = TwoSlopeNorm(vmin=minimum(log10.(t_prime)),vcenter=log10(1),vmax=maximum(abs.(log10.(t_prime))))\n",
    "\n",
    "figure()\n",
    "cs = contour(Ice_shell/1e3,Wavelength/1e3,log10.(t_prime))\n",
    "clabel(cs,inline=true,fmt=\"%0.1f\",colors=\"k\",fontsize=10)\n",
    "contourf(cs,cmap=cm.RdYlBu,norm=norm)\n",
    "# title(strip(\"Enceladus\"))\n",
    "# title(strip(L\"log_{10}\"*\"(t')\"))\n",
    "colorbar(label=strip(L\"log_{10}\"*\"(t')\"),location=\"right\")\n",
    "gca().yaxis.set_label_position(\"left\")\n",
    "gca().set_ylabel(L\"\\lambda\"*\" (km)\",fontsize=12)\n",
    "gca().set_xlabel(\"H (km)\",fontsize=12,rotation=0)\n",
    "tight_layout()\n",
    "# savefig(\"/Users/christianaguirre/Desktop/BAPS_Figures/Enceladus_t_prime.svg\",dpi=300)\n",
    "show()"
   ]
  },
  {
   "cell_type": "code",
   "execution_count": null,
   "id": "a925c848-f190-4ca6-91bb-17df10e4ac19",
   "metadata": {},
   "outputs": [],
   "source": [
    "figure()\n",
    "cs = contour(Ice_shell/1e3,Wavelength/1e3,Time_rel_fit/1e3)\n",
    "contourf(cs,cmap=get_cmap(\"viridis\"))\n",
    "title(L\"t_{relaxation}\")\n",
    "colorbar(label=L\"t_{relaxation}\"*\" (kyr)\",location=\"right\")\n",
    "gca().yaxis.set_label_position(\"left\")\n",
    "gca().set_ylabel(L\"\\lambda\"*\" (km)\",fontsize=12)\n",
    "gca().set_xlabel(\"H (km)\",fontsize=12,rotation=0)\n",
    "tight_layout()\n",
    "# savefig(\"/Users/christianaguirre/Desktop/BAPS_Figures/NoThick_Trel.pdf\",dpi=300)\n",
    "show()\n",
    "\n",
    "# figure()\n",
    "# cs = contour(Ice_shell/1e3,Wavelength/1e3,Time_thickening_fit/1e3)\n",
    "# contourf(cs,cmap=get_cmap(\"viridis\"))\n",
    "# title(L\"t_{thickening}\")\n",
    "# colorbar(label=L\"t_{thickening}\"*\" (kyr)\",location=\"right\")\n",
    "# gca().yaxis.set_label_position(\"left\")\n",
    "# gca().set_ylabel(L\"\\lambda\"*\" (km)\",fontsize=12)\n",
    "# gca().set_xlabel(\"H (km)\",fontsize=12,rotation=0)\n",
    "# tight_layout()\n",
    "# show()"
   ]
  },
  {
   "cell_type": "code",
   "execution_count": null,
   "id": "16208b67-3dc5-4180-88dc-3030efd9235c",
   "metadata": {
    "tags": []
   },
   "outputs": [],
   "source": [
    "figure() \n",
    "cs = contour(Ice_shell/1e3,Wavelength/1e3,log10.(t_prime))\n",
    "contourf(cs,cmap=get_cmap(\"viridis\"))\n",
    "title(L\"t'\")\n",
    "colorbar(label=L\"log_{10}\"*\"(t')\",location=\"right\")\n",
    "gca().yaxis.set_label_position(\"left\")\n",
    "gca().set_ylabel(L\"\\lambda\"*\" (km)\",fontsize=12)\n",
    "gca().set_xlabel(\"H (km)\",fontsize=12,rotation=0)\n",
    "tight_layout()\n",
    "show()"
   ]
  },
  {
   "cell_type": "code",
   "execution_count": null,
   "id": "61f80619",
   "metadata": {
    "tags": []
   },
   "outputs": [],
   "source": [
    "# println(\"Wavelength: \",Wavelength/1e3,\"(km)\")\n",
    "# println(\"Ice Shell Thickness: \",Ice_shell/1e3,\"(km)\")\n",
    "# println(\"Viscous Relaxation Time (Half-Space): \",Time_halfspace/1e3,\"(kyr)\")\n",
    "# println(\"Viscous Relaxation Time (Model): \",Time_rel/1e3,\"(kyr)\")\n",
    "# println(\"Thickening Time: \",Time_thickening/1e3,\"(kyr)\")\n",
    "# println(\"Thickening Time: \",Time_thickening_fit/1e3,\"(kyr)\")\n",
    "# println(\"Fitted Viscous Relaxation Time: \",Time_rel_fitted/1e3,\"(kyr)\""
   ]
  },
  {
   "cell_type": "code",
   "execution_count": null,
   "id": "b00d99a2-598f-4c3e-b03e-e101299915a9",
   "metadata": {
    "tags": []
   },
   "outputs": [],
   "source": [
    "# time is in yrs \n",
    "# time/1e6 is Millions of Years\n",
    "# time/1e3 is Thousands of Years"
   ]
  },
  {
   "cell_type": "code",
   "execution_count": null,
   "id": "a71d522f-27f0-47b3-a1db-4f4c0b6604e3",
   "metadata": {},
   "outputs": [],
   "source": [
    "# figure()\n",
    "# #pcolor(Ice_shell/1e3,Wavelength/1e3,Time_rel_fit/1e3)\n",
    "# cs = contour(Ice_shell/1e3,Wavelength/1e3,Time_rel_fit/1e3,levels=10)\n",
    "# contourf(cs,cmap=get_cmap(\"viridis\"))\n",
    "# title(L\"No\\,Thickening\")\n",
    "# colorbar(label=L\"t_{relaxation}(kyr)\",location=\"right\")\n",
    "# gca().yaxis.set_label_position(\"left\")\n",
    "# gca().set_ylabel(L\"\\lambda\\,(km)\")\n",
    "# gca().set_xlabel(L\"h_{ice\\,shell}\\,(km)\",rotation=0)\n",
    "# gca().spines[\"top\"].set_visible(false) # Hide the top edge of the axis\n",
    "# gca().spines[\"right\"].set_visible(false) # Hide the right edge of the axis\n",
    "# tight_layout()\n",
    "# # savefig(\"Trel_WithThickening.pdf\",dpi=300)\n",
    "# # savefig(\"Trel_NoThickening.pdf\",dpi=300)\n",
    "# show()\n",
    "\n",
    "# figure()\n",
    "# levels = LinRange(0.0,1.0,10)  # Creates 10 evenly spaced levels between 0.0 and 1.0\n",
    "# # pcolor(Ice_shell/1e3,Wavelength/1e3,Time_rel_fit./Time_thickening_fit)\n",
    "# cs = contour(Ice_shell/1e3,Wavelength/1e3,Time_rel_fit./Time_thickening_fit,levels=levels)\n",
    "# contourf(cs,cmap=get_cmap(\"viridis\"))\n",
    "# title(L\"t'\")\n",
    "# colorbar(label=L\"t'\",location=\"right\")\n",
    "# gca().yaxis.set_label_position(\"left\")\n",
    "# gca().set_ylabel(L\"\\lambda\\,(km)\")\n",
    "# gca().set_xlabel(L\"h_{ice\\,shell}\\,(km)\",rotation=0)\n",
    "# gca().spines[\"top\"].set_visible(false) # Hide the top edge of the axis\n",
    "# gca().spines[\"right\"].set_visible(false) # Hide the right edge of the axis\n",
    "# tight_layout()\n",
    "# savefig(\"Trel_Ttic_no_thickening.pdf\",dpi=300)\n",
    "# # savefig(\"Trel_Ttic_with_thickening.pdf\",dpi=300)\n",
    "# show()"
   ]
  },
  {
   "cell_type": "code",
   "execution_count": null,
   "id": "f7b05144-bc1e-4006-a662-5e23c0544282",
   "metadata": {},
   "outputs": [],
   "source": [
    "# # figure()\n",
    "# # scatter(Ice_shell/Wfigure()\n",
    "# #levels = LinRange(0.0,1.0,10)  # Creates 10 evenly spaced levels between 0.5 and 1.5\n",
    "# cs = contour(Ice_shell/1e3,Wavelength/1e3,Time_rel_fit./Time_thickening_fit,levels=10)\n",
    "# #clabel(cs,inline=true,fmt=\"%0.1f                       \",colors=\"w\",fontsize=10)\n",
    "# contourf(cs,cmap=get_cmap(\"viridis\"))\n",
    "# title(L\"Ganymede\")\n",
    "# colorbar(label=L\"t'\",location=\"right\")\n",
    "# gca().yaxis.set_label_position(\"left\")\n",
    "# gca().set_ylabel(L\"\\lambda\\,(km)\")\n",
    "# gca().set_xlabel(L\"h_{ice\\,shell}\\,(km)\",rotation=0)\n",
    "# # gca().yaxis.set_label_coords(-0.23,0.5)\n",
    "# gca().spines[\"top\"].set_visible(false) # Hide the top edge of the axis\n",
    "# gca().spines[\"right\"].set_visible(false) # Hide the right edge of the axis\n",
    "# #gca().xaxis.set_ticks_position(\"bottom\")\n",
    "# #gca().yaxis.set_ticks_position(\"left\")\n",
    "# #gca().spines[\"left\"].set_position((\"axes\",-0.03)) # Offset the left scale from the axis\n",
    "# #gca().spines[\"bottom\"].set_position((\"axes\",-0.03)) # Offset the bottom scale from the axis\n",
    "# # gca().spines[\"top\"].set_color(\"none\") # Remove the top axis boundary\n",
    "# # gca().spines[\"right\"].set_color(\"none\") # Remove the right axis boundary\n",
    "# # gca().set_xlim([10.0,30.0])\n",
    "# # gca().set_ylim([10.0,100.0])\n",
    "# tight_layout()\n",
    "# savefig(\"/Users/christianaguirre/Results/Icy_Moons/Trel_Ttic_for_Ganymede.pdf\",dpi=300)\n",
    "# show()\n",
    "\n",
    "# figure()\n",
    "# cs = contour(Ice_shell/1e3,Wavelength/1e3,Time_rel_fit/1e3,levels=10)\n",
    "# #clabel(cs,inline=true,fmt=\"%0.1f                       \",colors=\"w\",fontsize=10)\n",
    "# contourf(cs,cmap=get_cmap(\"viridis\"))\n",
    "# title(L\"Ganymede\")\n",
    "# colorbar(label=L\"t_{relaxation}(kyr)\",location=\"right\")\n",
    "# gca().yaxis.set_label_position(\"left\")\n",
    "# gca().set_ylabel(L\"\\lambda\\,(km)\")\n",
    "# gca().set_xlabel(L\"h_{ice\\,shell}\\,(km)\",rotation=0)\n",
    "# # gca().yaxis.set_label_coords(-0.23,0.5)\n",
    "# gca().spines[\"top\"].set_visible(false) # Hide the top edge of the axis\n",
    "# gca().spines[\"right\"].set_visible(false) # Hide the right edge of the axis\n",
    "# # gca().xaxis.set_ticks_position(\"bottom\")\n",
    "# # gca().yaxis.set_ticks_position(\"left\")\n",
    "# # gca().spines[\"left\"].set_position((\"axes\",-0.03)) # Offset the left scale from the axis\n",
    "# # gca().spines[\"bottom\"].set_position((\"axes\",-0.03)) # Offset the bottom scale from the axis\n",
    "# # gca().spines[\"top\"].set_color(\"none\") # Remove the top axis boundary\n",
    "# # gca().spines[\"right\"].set_color(\"none\") # Remove the right axis boundary\n",
    "# # gca().set_xlim([10.0,30.0])\n",
    "# # gca().set_ylim([10.0,100.0])\n",
    "# tight_layout()\n",
    "# savefig(\"/Users/christianaguirre/Results/Icy_Moons/Trel_for_Ganymede.pdf\",dpi=300)\n",
    "# show()\n",
    "\n",
    "# figure()\n",
    "# cs = contour(Ice_shell/1e3,Wavelength/1e3,Time_thickening_fit/1e3)\n",
    "# #clabel(cs,inline=true,fmt=\"%0.1f                       \",colors=\"w\",fontsize=10)\n",
    "# contourf(cs,cmap=get_cmap(\"viridis\"))\n",
    "# title(L\"Ganymede\")\n",
    "# colorbar(label=L\"t_{thickening}(kyr)\",location=\"right\")\n",
    "# gca().yaxis.set_label_position(\"left\")\n",
    "# gca().set_ylabel(L\"\\lambda\\,(km)\")\n",
    "# gca().set_xlabel(L\"h_{ice\\,shell}\\,(km)\",rotation=0)\n",
    "# # gca().yaxis.set_label_coords(-0.23,0.5)\n",
    "# gca().spines[\"top\"].set_visible(false) # Hide the top edge of the axis\n",
    "# gca().spines[\"right\"].set_visible(false) # Hide the right edge of the axis\n",
    "# # gca().xaxis.set_ticks_position(\"bottom\")\n",
    "# # gca().yaxis.set_ticks_position(\"left\")\n",
    "# # gca().spines[\"left\"].set_position((\"axes\",-0.03)) # Offset the left scale from the axis\n",
    "# # gca().spines[\"bottom\"].set_position((\"axes\",-0.03)) # Offset the bottom scale from the axis\n",
    "# # gca().spines[\"top\"].set_color(\"none\") # Remove the top axis boundary\n",
    "# # gca().spines[\"right\"].set_color(\"none\") # Remove the right axis boundary\n",
    "# # gca().set_xlim([10.0,30.0])\n",
    "# # gca().set_ylim([10.0,100.0])\n",
    "# tight_layout()\n",
    "# savefig(\"/Users/christianaguirre/Results/Icy_Moons/Ttic_for_Ganymede.pdf\",dpi=300)\n",
    "# show()avelength,Time_rel_fit./Time_thickening_fit)\n",
    "# # gca().set_ylim([0.0,10.0])\n",
    "# # gca().yaxis.set_label_position(\"left\")\n",
    "# # gca().set_ylabel(L\"t'\",rotation=0)\n",
    "# # gca().set_xlabel(L\"\\lambda/h_{ice}\",rotation=0)\n",
    "# # gca().spines[\"top\"].set_visible(false) # Hide the top edge of the axis\n",
    "# # gca().spines[\"right\"].set_visible(false) # Hide the right edge of the axis\n",
    "# # tight_layout()\n",
    "# # show()"
   ]
  },
  {
   "cell_type": "code",
   "execution_count": null,
   "id": "db7f5d65-e060-44f4-9e6a-7ebf88c614e3",
   "metadata": {},
   "outputs": [],
   "source": []
  }
 ],
 "metadata": {
  "kernelspec": {
   "display_name": "Julia 1.11.1",
   "language": "julia",
   "name": "julia-1.11"
  },
  "language_info": {
   "file_extension": ".jl",
   "mimetype": "application/julia",
   "name": "julia",
   "version": "1.11.1"
  }
 },
 "nbformat": 4,
 "nbformat_minor": 5
}
