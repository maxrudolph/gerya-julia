{
 "cells": [
  {
   "cell_type": "code",
   "execution_count": 3,
   "id": "feee692c",
   "metadata": {
    "tags": []
   },
   "outputs": [
    {
     "data": {
      "text/plain": [
       "get_numerical_time_viscous (generic function with 1 method)"
      ]
     },
     "execution_count": 3,
     "metadata": {},
     "output_type": "execute_result"
    }
   ],
   "source": [
    "using HDF5\n",
    "using PyPlot\n",
    "include(\"../Grid.jl\")\n",
    "include(\"../Markers.jl\")\n",
    "include(\"Topo.jl\")"
   ]
  },
  {
   "cell_type": "code",
   "execution_count": 5,
   "id": "80e0e15f",
   "metadata": {
    "tags": []
   },
   "outputs": [
    {
     "data": {
      "text/plain": [
       "🗂️ HDF5.File: (read-only) combined_output.hdf5\n",
       "└─ 📂 Combined Model Run\n",
       "   ├─ 🏷️ Description\n",
       "   ├─ 🔢 Fitted Thickening Time\n",
       "   ├─ 🔢 Fitted Viscous Relaxation Time\n",
       "   ├─ 🔢 Ice Shell Thickness\n",
       "   ├─ 🔢 Thickening Time\n",
       "   ├─ 🔢 Viscous Relaxation Time(Half-Space)\n",
       "   ├─ 🔢 Viscous Relaxation Time(Model)\n",
       "   └─ 🔢 Wavelength"
      ]
     },
     "execution_count": 5,
     "metadata": {},
     "output_type": "execute_result"
    }
   ],
   "source": [
    "# fname = \"Model_Outputs/ModelRun09-08-2023_15:53:04/data.hdf5\" # modeul run for 10 - 25km of lambda and hice\n",
    "# fname = \"Model_Outputs/ModelRun09-09-2023_21:41:35/data.hdf5\" # model run for 10km hice and 100km lambda\n",
    "# fname = \"Model_Outputs/ModelRun09-10-2023_14:42:33/data.hdf5\" #  model run for 10km hice and 100km lambda\n",
    "# fname = \"Model_Outputs/ModelRun09-10-2023_15:33:52/data.hdf5\" # model run for 10 - 100km of lambda and hice\n",
    "# fname = \"Model_Outputs/ModelRun09-11-2023_14:11:07/data.hdf5\"\n",
    "fname = \"combined_output.hdf5\"\n",
    "# Displaying all of the file's information\n",
    "fid = h5open(fname, \"r\")"
   ]
  },
  {
   "cell_type": "code",
   "execution_count": 7,
   "id": "59a2dd46",
   "metadata": {
    "tags": []
   },
   "outputs": [],
   "source": [
    "# Reading Data from file\n",
    "modeldata = fid[\"Combined Model Run\"];"
   ]
  },
  {
   "cell_type": "code",
   "execution_count": 8,
   "id": "0777484f",
   "metadata": {
    "tags": []
   },
   "outputs": [
    {
     "name": "stdout",
     "output_type": "stream",
     "text": [
      "HDF5.Dataset: /Combined Model Run/Fitted Thickening Time (file: combined_output.hdf5 xfer_mode: 0)\n"
     ]
    },
    {
     "data": {
      "text/plain": [
       "0×0 Matrix{Float64}"
      ]
     },
     "metadata": {},
     "output_type": "display_data"
    },
    {
     "name": "stdout",
     "output_type": "stream",
     "text": [
      "HDF5.Dataset: /Combined Model Run/Fitted Viscous Relaxation Time (file: combined_output.hdf5 xfer_mode: 0)\n"
     ]
    },
    {
     "data": {
      "text/plain": [
       "0×0 Matrix{Float64}"
      ]
     },
     "metadata": {},
     "output_type": "display_data"
    },
    {
     "name": "stdout",
     "output_type": "stream",
     "text": [
      "HDF5.Dataset: /Combined Model Run/Ice Shell Thickness (file: combined_output.hdf5 xfer_mode: 0)\n"
     ]
    },
    {
     "data": {
      "text/plain": [
       "Float64[]"
      ]
     },
     "metadata": {},
     "output_type": "display_data"
    },
    {
     "name": "stdout",
     "output_type": "stream",
     "text": [
      "HDF5.Dataset: /Combined Model Run/Thickening Time (file: combined_output.hdf5 xfer_mode: 0)\n"
     ]
    },
    {
     "data": {
      "text/plain": [
       "0×0 Matrix{Float64}"
      ]
     },
     "metadata": {},
     "output_type": "display_data"
    },
    {
     "name": "stdout",
     "output_type": "stream",
     "text": [
      "HDF5.Dataset: /Combined Model Run/Viscous Relaxation Time(Half-Space) (file: combined_output.hdf5 xfer_mode: 0)\n"
     ]
    },
    {
     "data": {
      "text/plain": [
       "0×0 Matrix{Float64}"
      ]
     },
     "metadata": {},
     "output_type": "display_data"
    },
    {
     "name": "stdout",
     "output_type": "stream",
     "text": [
      "HDF5.Dataset: /Combined Model Run/Viscous Relaxation Time(Model) (file: combined_output.hdf5 xfer_mode: 0)\n"
     ]
    },
    {
     "data": {
      "text/plain": [
       "0×0 Matrix{Float64}"
      ]
     },
     "metadata": {},
     "output_type": "display_data"
    },
    {
     "name": "stdout",
     "output_type": "stream",
     "text": [
      "HDF5.Dataset: /Combined Model Run/Wavelength (file: combined_output.hdf5 xfer_mode: 0)\n"
     ]
    },
    {
     "data": {
      "text/plain": [
       "Float64[]"
      ]
     },
     "metadata": {},
     "output_type": "display_data"
    },
    {
     "ename": "LoadError",
     "evalue": "KeyError: key \"Viscous Relaxation Time(Halfspace)\" not found",
     "output_type": "error",
     "traceback": [
      "KeyError: key \"Viscous Relaxation Time(Halfspace)\" not found",
      "",
      "Stacktrace:",
      " [1] getindex(parent::HDF5.Group, path::String; pv::@Kwargs{})",
      "   @ HDF5 ~/.julia/packages/HDF5/Z859u/src/highlevel.jl:75",
      " [2] getindex",
      "   @ ~/.julia/packages/HDF5/Z859u/src/highlevel.jl:74 [inlined]",
      " [3] read(parent::HDF5.Group, name::String; pv::@Kwargs{})",
      "   @ HDF5 ~/.julia/packages/HDF5/Z859u/src/readwrite.jl:23",
      " [4] read(parent::HDF5.Group, name::String)",
      "   @ HDF5 ~/.julia/packages/HDF5/Z859u/src/readwrite.jl:22",
      " [5] top-level scope",
      "   @ In[8]:10"
     ]
    }
   ],
   "source": [
    "# Displaying the contents in Model Run group \n",
    "for obj in modeldata\n",
    "    data = read(obj)\n",
    "    println(obj)\n",
    "    display(data)\n",
    "end\n",
    "\n",
    "# Accessing Model Run contents that I want\n",
    "Wavelength = read(modeldata,\"Wavelength\");\n",
    "Ice_shell = read(modeldata, \"Ice Shell Thickness\");\n",
    "Time_halfspace = read(modeldata,\"Viscous Relaxation Time(Halfspace)\");\n",
    "Time_rel = read(modeldata,\"Viscous Relaxation Time(Model)\");\n",
    "Time_thickening = read(modeldata, \"Thickening Time\");\n",
    "# Time_rel_fitted = read(modeldata, \"Fitted Viscous Relaxation Time\");\n",
    "# Time_rel_fitted_amp = read(modeldata,\"Viscous Relaxation Time with Fitted Amplitude(Model)\");"
   ]
  },
  {
   "cell_type": "code",
   "execution_count": 7,
   "id": "f39a3067",
   "metadata": {
    "tags": []
   },
   "outputs": [],
   "source": [
    "# Close file\n",
    "close(fid)"
   ]
  },
  {
   "cell_type": "code",
   "execution_count": 8,
   "id": "61f80619",
   "metadata": {
    "tags": []
   },
   "outputs": [
    {
     "name": "stdout",
     "output_type": "stream",
     "text": [
      "Wavelength: [10.0, 22.857142857142858, 35.714285714285715, 48.57142857142857, 61.42857142857143, 74.28571428571429, 87.14285714285714, 100.0]\n",
      "Ice Shell Thickness: [10.0, 21.25, 32.5, 43.75, 55.0, 66.25, 77.5, 88.75, 100.0]\n",
      "Viscous Relaxation Time (Half-Space): [4412.969031591225 0.0 0.0 0.0 0.0 0.0 0.0 0.0 0.0; 1930.6739513211612 1930.6739513211612 0.0 0.0 0.0 0.0 0.0 0.0 0.0; 1235.631328845543 1235.631328845543 1235.631328845543 0.0 0.0 0.0 0.0 0.0 0.0; 908.5524476805464 908.5524476805464 908.5524476805464 908.5524476805464 0.0 0.0 0.0 0.0 0.0; 718.3903074683391 718.3903074683391 718.3903074683391 718.3903074683391 718.3903074683391 0.0 0.0 0.0 0.0; 594.0535234834342 594.0535234834342 594.0535234834342 594.0535234834342 594.0535234834342 594.0535234834342 0.0 0.0 0.0; 506.40628231374717 506.40628231374717 506.40628231374717 506.40628231374717 506.40628231374717 506.40628231374717 506.40628231374717 0.0 0.0; 441.29690315912256 441.29690315912256 441.29690315912256 441.29690315912256 441.29690315912256 441.29690315912256 441.29690315912256 441.29690315912256 441.29690315912256]\n",
      "Viscous Relaxation Time (Model): [27517.56208441162 0.0 0.0 0.0 0.0 0.0 0.0 0.0 0.0; 149153.7024096039 19614.088344726908 0.0 0.0 0.0 0.0 0.0 0.0 0.0; 352298.8963182858 47576.05976757065 14057.820478273316 0.0 0.0 0.0 0.0 0.0 0.0; 611379.0223909353 95110.61954915035 26362.11978101714 10184.271479339412 0.0 0.0 0.0 0.0 0.0; 943604.2777291649 151728.33082752884 45718.8372555454 15947.86042673862 8681.868284661927 0.0 0.0 0.0 0.0; 1.3375467152393127e6 219489.37707790418 68532.17555130484 25227.82590431876 12124.058509665005 7268.060757037305 0.0 0.0 0.0; 1.8000211280438409e6 295140.63980215444 94565.61568802499 36862.74913056829 17956.337499738096 9723.952614780601 6180.632116615526 0.0 0.0; 2.326613349473746e6 375345.8565835998 128264.03294128008 51263.07781622219 24944.273962695115 13625.119024718475 7931.519040450898 5242.763161091679 4183.366694088718]\n",
      "Thickening Time: [2.785910300361167e6 0.0 0.0 0.0 0.0 0.0 0.0 0.0 0.0; 2.785910300361167e6 1.2580126200068396e7 0.0 0.0 0.0 0.0 0.0 0.0 0.0; 2.785910300361167e6 1.2580126200068396e7 2.9426177547564827e7 0.0 0.0 0.0 0.0 0.0 0.0; 2.785910300361167e6 1.2580126200068396e7 2.9426177547564827e7 5.332406434285047e7 0.0 0.0 0.0 0.0 0.0; 2.785910300361167e6 1.2580126200068396e7 2.9426177547564827e7 5.332406434285047e7 8.42737865859253e7 0.0 0.0 0.0 0.0; 2.785910300361167e6 1.2580126200068396e7 2.9426177547564827e7 5.332406434285047e7 8.42737865859253e7 1.2227534427678935e8 0.0 0.0 0.0; 2.785910300361167e6 1.2580126200068396e7 2.9426177547564827e7 5.332406434285047e7 8.42737865859253e7 1.2227534427678935e8 1.6732873741544262e8 0.0 0.0; 2.785910300361167e6 1.2580126200068396e7 2.9426177547564827e7 5.332406434285047e7 8.42737865859253e7 1.2227534427678935e8 1.6732873741544262e8 2.1943396600188506e8 2.785910300361167e8]\n"
     ]
    }
   ],
   "source": [
    "println(\"Wavelength: $Wavelength\")\n",
    "println(\"Ice Shell Thickness: $Ice_shell\")\n",
    "println(\"Viscous Relaxation Time (Half-Space): $Time_halfspace\")\n",
    "println(\"Viscous Relaxation Time (Model): $Time_rel\")\n",
    "println(\"Thickening Time: $Time_thickening\")\n",
    "# println(\"Fitted Viscous Relaxation Time: $Time_rel_fitted\")\n",
    "# println(\"Viscous Relaxation Time with Fitted Amplitude(Model): $Time_rel_fitted_amp\")"
   ]
  },
  {
   "cell_type": "code",
   "execution_count": 9,
   "id": "25840f52-d3f7-402c-a9bc-48117c8dfb23",
   "metadata": {
    "tags": []
   },
   "outputs": [
    {
     "data": {
      "text/plain": [
       "true"
      ]
     },
     "execution_count": 9,
     "metadata": {},
     "output_type": "execute_result"
    }
   ],
   "source": [
    "vec(Time_thickening) > vec(Time_rel)"
   ]
  },
  {
   "cell_type": "code",
   "execution_count": 10,
   "id": "9b1804c7-681c-48e8-b418-dd7501b3135c",
   "metadata": {
    "tags": []
   },
   "outputs": [
    {
     "data": {
      "text/plain": [
       "true"
      ]
     },
     "execution_count": 10,
     "metadata": {},
     "output_type": "execute_result"
    }
   ],
   "source": [
    "vec(Time_rel) > vec(Time_halfspace)"
   ]
  },
  {
   "cell_type": "code",
   "execution_count": 24,
   "id": "bf46604d-df7f-4245-b803-c7cc289f0deb",
   "metadata": {
    "tags": []
   },
   "outputs": [
    {
     "data": {
      "text/plain": [
       "8×9 Matrix{Float64}:\n",
       "  27517.6            0.0        …      0.0      0.0      0.0      0.0\n",
       "      1.49154e5  19614.1               0.0      0.0      0.0      0.0\n",
       "      3.52299e5  47576.1               0.0      0.0      0.0      0.0\n",
       " 611379.0        95110.6               0.0      0.0      0.0      0.0\n",
       "      9.43604e5      1.51728e5         0.0      0.0      0.0      0.0\n",
       "      1.33755e6      2.19489e5  …   7268.06     0.0      0.0      0.0\n",
       "      1.80002e6      2.95141e5      9723.95  6180.63     0.0      0.0\n",
       "      2.32661e6      3.75346e5     13625.1   7931.52  5242.76  4183.37"
      ]
     },
     "metadata": {},
     "output_type": "display_data"
    },
    {
     "data": {
      "text/plain": [
       "8×9 Matrix{Float64}:\n",
       " 2.78591e6  0.0        0.0        …  0.0        0.0        0.0\n",
       " 2.78591e6  1.25801e7  0.0           0.0        0.0        0.0\n",
       " 2.78591e6  1.25801e7  2.94262e7     0.0        0.0        0.0\n",
       " 2.78591e6  1.25801e7  2.94262e7     0.0        0.0        0.0\n",
       " 2.78591e6  1.25801e7  2.94262e7     0.0        0.0        0.0\n",
       " 2.78591e6  1.25801e7  2.94262e7  …  0.0        0.0        0.0\n",
       " 2.78591e6  1.25801e7  2.94262e7     1.67329e8  0.0        0.0\n",
       " 2.78591e6  1.25801e7  2.94262e7     1.67329e8  2.19434e8  2.78591e8"
      ]
     },
     "metadata": {},
     "output_type": "display_data"
    }
   ],
   "source": [
    "display(Time_rel)\n",
    "display(Time_thickening)\n"
   ]
  },
  {
   "cell_type": "code",
   "execution_count": 12,
   "id": "9fe9e49e-39db-4375-9383-2032720e8dc6",
   "metadata": {
    "tags": []
   },
   "outputs": [
    {
     "data": {
      "text/plain": [
       "8×8 Matrix{Float64}:\n",
       "   6.23561    0.0      0.0     -0.0      …   0.0           0.0\n",
       "  29.3543    10.1592   0.0     -0.0          0.0           0.0\n",
       "  69.0517    17.3609  11.377   -0.0          0.0           0.0\n",
       " 116.989     35.6085  13.0928  11.2093       0.0          -1.84338e-15\n",
       " 179.443     54.908   24.0937   7.99733      1.55536e-15  -1.38253e-15\n",
       " 253.357     78.1889  35.0463  14.4227   …   7.77681e-16   0.0\n",
       " 341.013    103.889   46.6991  20.8094      12.2049       -3.68676e-15\n",
       " 442.167    127.977   62.3171  28.9678       6.35548      10.68"
      ]
     },
     "execution_count": 12,
     "metadata": {},
     "output_type": "execute_result"
    }
   ],
   "source": [
    "Time_rel/Time_halfspace"
   ]
  },
  {
   "cell_type": "code",
   "execution_count": 13,
   "id": "33c71f34-8d3b-4f98-ab20-20a71f933574",
   "metadata": {
    "tags": []
   },
   "outputs": [],
   "source": [
    "# display(Time_rel/Time_rel_fitted_amp)"
   ]
  },
  {
   "cell_type": "code",
   "execution_count": 14,
   "id": "47267fb4-980b-4cbc-bd2b-851c0464e529",
   "metadata": {
    "tags": []
   },
   "outputs": [],
   "source": [
    "# display(Time_rel_fitted_amp/Time_halfspace)"
   ]
  },
  {
   "cell_type": "code",
   "execution_count": 15,
   "id": "f8deee18-11e6-4458-ae8d-a313757f9485",
   "metadata": {
    "tags": []
   },
   "outputs": [
    {
     "data": {
      "text/plain": [
       "9×8 Matrix{Float64}:\n",
       " 1.0       2.28571   3.57143   4.85714   …  7.42857   8.71429   10.0\n",
       " 0.470588  1.07563   1.68067   2.28571      3.4958    4.10084    4.70588\n",
       " 0.307692  0.703297  1.0989    1.49451      2.28571   2.68132    3.07692\n",
       " 0.228571  0.522449  0.816327  1.1102       1.69796   1.99184    2.28571\n",
       " 0.181818  0.415584  0.649351  0.883117     1.35065   1.58442    1.81818\n",
       " 0.150943  0.345013  0.539084  0.733154  …  1.12129   1.31536    1.50943\n",
       " 0.129032  0.294931  0.460829  0.626728     0.958525  1.12442    1.29032\n",
       " 0.112676  0.257545  0.402414  0.547284     0.837022  0.981891   1.12676\n",
       " 0.1       0.228571  0.357143  0.485714     0.742857  0.871429   1.0"
      ]
     },
     "metadata": {},
     "output_type": "display_data"
    }
   ],
   "source": [
    "display(transpose(Wavelength)./Ice_shell)"
   ]
  },
  {
   "cell_type": "code",
   "execution_count": 28,
   "id": "5b030a73-e0f7-45f4-bdbd-07c71ef37909",
   "metadata": {
    "tags": []
   },
   "outputs": [
    {
     "data": {
      "text/plain": [
       "(9,)"
      ]
     },
     "execution_count": 28,
     "metadata": {},
     "output_type": "execute_result"
    }
   ],
   "source": [
    "size(Wavelength)\n",
    "size(Ice_shell)\n"
   ]
  },
  {
   "cell_type": "code",
   "execution_count": 34,
   "id": "009f5e32-227c-4ae8-9568-6d6500cd9da1",
   "metadata": {
    "tags": []
   },
   "outputs": [
    {
     "data": {
      "image/png": "[encoded data removed]",
      "text/plain": [
       "Figure(PyObject <Figure size 640x480 with 2 Axes>)"
      ]
     },
     "metadata": {},
     "output_type": "display_data"
    },
    {
     "data": {
      "text/plain": [
       "Figure(PyObject <Figure size 640x480 with 0 Axes>)"
      ]
     },
     "execution_count": 34,
     "metadata": {},
     "output_type": "execute_result"
    }
   ],
   "source": [
    "figure()\n",
    "\n",
    "# cs = contour(Wavelength,Ice_shell,Time_vis/Time_thickening,locator=plt.LogLocator())\n",
    "# clabel(cs,inline=true,colors=\"w\",fontsize=10)\n",
    "# contourf(Wavelength,Ice_shell,Time_vis./Time_thickening,cmap=get_cmap(\"viridis\"))\n",
    "\n",
    "cs = contour(Ice_shell,Wavelength,Time_rel ./ Time_thickening)\n",
    "clabel(cs,inline=true,fmt=\"%0.4f\",colors=\"w\",fontsize=10)\n",
    "contourf(Ice_shell,Wavelength,Time_rel ./ Time_thickening,cmap=get_cmap(\"viridis\"))\n",
    "#title(L\"\\frac{t_{relaxation}}{t_{thickening}}\")\n",
    "colorbar(label=L\"\\frac{t_{relaxation}}{t_{thickening}}\")\n",
    "gca().set_ylabel(L\"\\lambda\\,(km)\")\n",
    "gca().set_xlabel(L\"h_{ice\\,shell}\\,(km)\",rotation=0)\n",
    "# gca().yaxis.set_label_coords(-0.23,0.5)\n",
    "# gca().spines[\"top\"].set_visible(false) # Hide the top edge of the axis\n",
    "# gca().spines[\"right\"].set_visible(false) # Hide the right edge of the axis\n",
    "# gca().xaxis.set_ticks_position(\"bottom\")\n",
    "# gca().yaxis.set_ticks_position(\"left\")\n",
    "# gca().spines[\"left\"].set_position((\"axes\",-0.03)) # Offset the left scale from the axis\n",
    "# gca().spines[\"bottom\"].set_position((\"axes\",-0.03)) # Offset the bottom scale from the axis\n",
    "# gca().spines[\"top\"].set_color(\"none\") # Remove the top axis boundary\n",
    "# gca().spines[\"right\"].set_color(\"none\") # Remove the right axis boundary\n",
    "show()\n",
    "\n",
    "figure()\n",
    "\n",
    "# cs = contour(Time_halfspace./Time_thickening)\n",
    "# clabel(cs,inline=true,colors=\"w\",fontsize=10)\n",
    "# contourf(Time_halfspace./Time_thickening,cmap=get_cmap(\"viridis\"))\n",
    "\n",
    "# cs = contour(Wavelength,Ice_shell,(Time_halfspace./Time_thickening))\n",
    "# clabel(cs,inline=true,colors=\"w\",fontsize=10)\n",
    "# contourf(Wavelength,Ice_shell,(Time_halfspace./Time_thickening),cmap=get_cmap(\"viridis\"))\n",
    "# title(L\"\\frac{t_{half-space}}{t_{thickening}}\")\n",
    "\n",
    "# colorbar(label=L\"\\frac{t_{half-space}}{t_{thickening}}\")\n",
    "# gca().set_xlabel(L\"\\lambda\\,(km)\")\n",
    "# gca().set_ylabel(L\"h_{ice\\,shell}\\,(km)\",rotation=0)\n",
    "# gca().yaxis.set_label_coords(-0.23,0.5)\n",
    "# gca().spines[\"top\"].set_visible(false) # Hide the top edge of the axis\n",
    "# gca().spines[\"right\"].set_visible(false) # Hide the right edge of the axis\n",
    "# gca().xaxis.set_ticks_position(\"bottom\")\n",
    "# gca().yaxis.set_ticks_position(\"left\")\n",
    "# gca().spines[\"left\"].set_position((\"axes\",-0.03)) # Offset the left scale from the axis\n",
    "# gca().spines[\"bottom\"].set_position((\"axes\",-0.03)) # Offset the bottom scale from the axis\n",
    "# # gca().spines[\"top\"].set_color(\"none\") # Remove the top axis boundary\n",
    "# # gca().spines[\"right\"].set_color(\"none\") # Remove the right axis boundary\n",
    "# show()"
   ]
  },
  {
   "cell_type": "code",
   "execution_count": 28,
   "id": "472d18e1-b9e3-4f83-a7ad-42b6c28286b9",
   "metadata": {
    "tags": []
   },
   "outputs": [
    {
     "data": {
      "image/png": "[encoded data removed]",
      "text/plain": [
       "Figure(PyObject <Figure size 640x480 with 1 Axes>)"
      ]
     },
     "metadata": {},
     "output_type": "display_data"
    },
    {
     "data": {
      "image/png": "[encoded data removed]",
      "text/plain": [
       "Figure(PyObject <Figure size 640x480 with 1 Axes>)"
      ]
     },
     "metadata": {},
     "output_type": "display_data"
    }
   ],
   "source": [
    "figure()\n",
    "plot(transpose(Wavelength)./Ice_shell,Time_rel/Time_halfspace,\".-\")\n",
    "gca().set_xlabel(L\"\\frac{\\lambda}{h}\")\n",
    "gca().set_ylabel(L\"\\frac{t_{relaxation}}{t_{half-space}}\",rotation=0)\n",
    "gca().yaxis.set_label_coords(-0.2,0.5)\n",
    "gca().spines[\"top\"].set_visible(false) # Hide the top edge of the axis\n",
    "gca().spines[\"right\"].set_visible(false) # Hide the right edge of the axis\n",
    "gca().xaxis.set_ticks_position(\"bottom\")\n",
    "gca().yaxis.set_ticks_position(\"left\")\n",
    "gca().spines[\"left\"].set_position((\"axes\",-0.03)) # Offset the left scale from the axis\n",
    "gca().spines[\"bottom\"].set_position((\"axes\",-0.03)) # Offset the bottom scale from the axis\n",
    "show()\n",
    "\n",
    "figure()\n",
    "plot(transpose(Wavelength)./Ice_shell,Time_rel/Time_thickening,\".-\")\n",
    "gca().set_xlabel(L\"\\frac{\\lambda}{h}\")\n",
    "gca().set_ylabel(L\"\\frac{t_{relaxation}}{t_{thickening}}\",rotation=0)\n",
    "gca().yaxis.set_label_coords(-0.2,0.5)\n",
    "gca().spines[\"top\"].set_visible(false) # Hide the top edge of the axis\n",
    "gca().spines[\"right\"].set_visible(false) # Hide the right edge of the axis\n",
    "gca().xaxis.set_ticks_position(\"bottom\")\n",
    "gca().yaxis.set_ticks_position(\"left\")\n",
    "gca().spines[\"left\"].set_position((\"axes\",-0.03)) # Offset the left scale from the axis\n",
    "gca().spines[\"bottom\"].set_position((\"axes\",-0.03)) # Offset the bottom scale from the axis\n",
    "show()"
   ]
  },
  {
   "cell_type": "code",
   "execution_count": null,
   "id": "ab8b0c82",
   "metadata": {
    "tags": []
   },
   "outputs": [],
   "source": [
    "nx = 6\n",
    "ny = 6\n",
    "x = range(10.0,100.0,nx)\n",
    "y = range(10.0,100.0,ny)\n",
    "# z = zeros(nx,ny)\n",
    "f(x,y) = get_halfspace_time_viscous(x*1e3)/get_thickening_time(y*1e3)\n",
    "# z = @.f(x,y')\n",
    "\n",
    "# figure()\n",
    "# cs = contour(x,y,z)\n",
    "# clabel(cs,inline=true,colors=\"w\",fontsize=10)\n",
    "# contourf(x,y,z)\n",
    "# colorbar(label=L\"\\frac{t_{half-space}}{t_{thickening}}\")\n",
    "# title(L\"\\frac{t_{half-space}}{t_{thickening}}\")\n",
    "# gca().set_xlabel(L\"\\lambda\")\n",
    "# gca().set_ylabel(L\"h_{ice\\,shell}\\,(km)\",rotation=0)\n",
    "# # gca().set_xlim([0.0,0.2])\n",
    "# # gca().set_ylim([1.0,3.0])\n",
    "# gca().yaxis.set_label_coords(-0.23,0.5)\n",
    "# gca().spines[\"top\"].set_visible(false) # Hide the top edge of the axis\n",
    "# gca().spines[\"right\"].set_visible(false) # Hide the right edge of the axis\n",
    "# gca().xaxis.set_ticks_position(\"bottom\")\n",
    "# gca().yaxis.set_ticks_position(\"left\")\n",
    "# gca().spines[\"left\"].set_position((\"axes\",-0.03)) # Offset the left scale from the axis\n",
    "# gca().spines[\"bottom\"].set_position((\"axes\",-0.03)) # Offset the bottom scale from the axis\n",
    "# show()\n",
    "# close() # Remove this line to show graph\n",
    "\n",
    "\"\"\" or \"\"\"\n",
    "\n",
    "k = [f(i,j) for i in x, j in y]\n",
    "\n",
    "figure()\n",
    "cs = contour(x,y,k)\n",
    "clabel(cs,inline=true,colors=\"w\",fontsize=10)\n",
    "contourf(x,y,k)\n",
    "title(L\"\\frac{t_{half-space}}{t_{thickening}}\")\n",
    "colorbar(label=L\"\\frac{t_{half-space}}{t_{thickening}}\")\n",
    "gca().set_xlabel(L\"\\lambda\\,(km)\")\n",
    "gca().set_ylabel(L\"h_{ice\\,shell}\\,(km)\",rotation=0)\n",
    "# gca().set_xlim([0.0,0.2])\n",
    "# gca().set_ylim([1.0,1.7])\n",
    "gca().yaxis.set_label_coords(-0.23,0.5)\n",
    "gca().spines[\"top\"].set_visible(false) # Hide the top edge of the axis\n",
    "gca().spines[\"right\"].set_visible(false) # Hide the right edge of the axis\n",
    "gca().xaxis.set_ticks_position(\"bottom\")\n",
    "gca().yaxis.set_ticks_position(\"left\")\n",
    "gca().spines[\"left\"].set_position((\"axes\",-0.03)) # Offset the left scale from the axis\n",
    "gca().spines[\"bottom\"].set_position((\"axes\",-0.03)) # Offset the bottom scale from the axis\n",
    "show()\n",
    "\n",
    "figure()\n",
    "plot(transpose(x)./y,k,\".-\",label=\"21\")\n",
    "gca().set_xlabel(L\"\\frac{\\lambda}{h}\")\n",
    "gca().set_ylabel(L\"\\frac{t_{half-space}}{t_{thickening}}\",rotation=0)\n",
    "# gca().yaxis.set_label_coords(-0.2,0.5)\n",
    "gca().spines[\"top\"].set_visible(false) # Hide the top edge of the axis\n",
    "gca().spines[\"right\"].set_visible(false) # Hide the right edge of the axis\n",
    "gca().xaxis.set_ticks_position(\"bottom\")\n",
    "gca().yaxis.set_ticks_position(\"left\")\n",
    "gca().spines[\"left\"].set_position((\"axes\",-0.03)) # Offset the left scale from the axis\n",
    "gca().spines[\"bottom\"].set_position((\"axes\",-0.03)) # Offset the bottom scale from the axis\n",
    "legend(loc=\"upper center\", bbox_to_anchor=(0.5,-0.15),fancybox=\"True\",shadow=\"True\",ncol=5)\n",
    "show()"
   ]
  },
  {
   "cell_type": "code",
   "execution_count": null,
   "id": "009d5626-46b1-4cda-a4f0-a7d59a29a4fb",
   "metadata": {
    "tags": []
   },
   "outputs": [],
   "source": []
  },
  {
   "cell_type": "code",
   "execution_count": null,
   "id": "f24d63dc-ca2f-4196-8fcc-3e2343fedc4b",
   "metadata": {
    "tags": []
   },
   "outputs": [],
   "source": []
  },
  {
   "cell_type": "code",
   "execution_count": null,
   "id": "96c837c6-92a8-47a7-bc09-99fab6602fab",
   "metadata": {
    "tags": []
   },
   "outputs": [],
   "source": []
  },
  {
   "cell_type": "code",
   "execution_count": null,
   "id": "f570dc12-9147-43cf-920c-f97bb56bca63",
   "metadata": {
    "tags": []
   },
   "outputs": [],
   "source": []
  },
  {
   "cell_type": "code",
   "execution_count": null,
   "id": "d2eab22f-4239-42fe-9a4c-eb310c2da74f",
   "metadata": {},
   "outputs": [],
   "source": []
  },
  {
   "cell_type": "code",
   "execution_count": null,
   "id": "bbc96fbc-c7b2-43e1-9fe1-8c68ba92b767",
   "metadata": {
    "tags": []
   },
   "outputs": [],
   "source": [
    "# Time_vis = vcat(map(x->x',Time_vis)...)"
   ]
  },
  {
   "cell_type": "code",
   "execution_count": null,
   "id": "51f5a253-496e-4d71-8cd6-bf7df1612343",
   "metadata": {
    "tags": []
   },
   "outputs": [],
   "source": [
    "# Time_halfspace = vcat(map(x->x',Time_halfspace)...)"
   ]
  },
  {
   "cell_type": "code",
   "execution_count": null,
   "id": "ecc41220-a832-4899-8487-3be23f21b03a",
   "metadata": {
    "tags": []
   },
   "outputs": [],
   "source": [
    "# tt = xx/yy\n",
    "# tt = vcat(map(x->x',tt)...)"
   ]
  },
  {
   "cell_type": "code",
   "execution_count": null,
   "id": "90accd0f-3804-498c-827c-6a6746b2811d",
   "metadata": {
    "tags": []
   },
   "outputs": [],
   "source": [
    "# zz = Time_vis/Time_halfspace\n",
    "# zz = vcat(map(x->x',zz)...)"
   ]
  },
  {
   "cell_type": "code",
   "execution_count": null,
   "id": "9a5c20d1",
   "metadata": {},
   "outputs": [],
   "source": [
    "# nlambda = 2\n",
    "# nhice = 2\n",
    "# lambda = range(10.0,25.0,nlambda)\n",
    "# h_ice = range(10.0,25.0,nhice)\n",
    "# t_halfspace = zeros(nlambda,nhice)\n",
    "# t_tic = zeros(nlambda,nhice)\n",
    "# for i in 1:nlambda\n",
    "#     for j in 1:nhice\n",
    "#         ths = get_time_viscous(lambda[i]*1e3)\n",
    "#         t_halfspace[i,j] = ths\n",
    "#         ttic = get_thickening_time(h_ice[j]*1e3)\n",
    "#         t_tic[i,j] = ttic\n",
    "#     end\n",
    "# end\n",
    "\n",
    "# figure()\n",
    "# contourf(t_halfspace./t_tic)\n",
    "# colorbar(label=L\"\\frac{t_{halfspace}}{t_{thickening}}\")\n",
    "# gca().set_xlabel(L\"\\lambda\")\n",
    "# gca().set_ylabel(L\"h_{ice\\,shell}\\,(km)\",rotation=0)\n",
    "# # gca().set_xlim([0.0,0.2])\n",
    "# # gca().set_ylim([1.0,3.0])\n",
    "# gca().yaxis.set_label_coords(-0.23,0.5)\n",
    "# gca().spines[\"top\"].set_visible(false) # Hide the top edge of the axis\n",
    "# gca().spines[\"right\"].set_visible(false) # Hide the right edge of the axis\n",
    "# gca().xaxis.set_ticks_position(\"bottom\")\n",
    "# gca().yaxis.set_ticks_position(\"left\")\n",
    "# gca().spines[\"left\"].set_position((\"axes\",-0.03)) # Offset the left scale from the axis\n",
    "# gca().spines[\"bottom\"].set_position((\"axes\",-0.03)) # Offset the bottom scale from the axis\n",
    "# show()\n",
    "\n",
    "# \"\"\" or \"\"\"\n",
    "# k = [f(x,y) for x in lambda, y in h_ice]\n",
    "\n",
    "# figure()\n",
    "# contourf(k)\n",
    "# colorbar(label=L\"\\frac{t_{halfspace}}{t_{thickening}}\")\n",
    "# gca().set_xlabel(L\"\\lambda\")\n",
    "# gca().set_ylabel(L\"h_{ice\\,shell}\\,(km)\",rotation=0)\n",
    "# # gca().set_xlim([0.0,0.2])\n",
    "# # gca().set_ylim([1.0,3.0])\n",
    "# gca().yaxis.set_label_coords(-0.23,0.5)\n",
    "# gca().spines[\"top\"].set_visible(false) # Hide the top edge of the axis\n",
    "# gca().spines[\"right\"].set_visible(false) # Hide the right edge of the axis\n",
    "# gca().xaxis.set_ticks_position(\"bottom\")\n",
    "# gca().yaxis.set_ticks_position(\"left\")\n",
    "# gca().spines[\"left\"].set_position((\"axes\",-0.03)) # Offset the left scale from the axis\n",
    "# gca().spines[\"bottom\"].set_position((\"axes\",-0.03)) # Offset the bottom scale from the axis\n",
    "# show()"
   ]
  },
  {
   "cell_type": "code",
   "execution_count": null,
   "id": "98b813b5-3e13-4cb0-a5c7-291bcd1db753",
   "metadata": {},
   "outputs": [],
   "source": []
  }
 ],
 "metadata": {
  "kernelspec": {
   "display_name": "Julia 1.11.1",
   "language": "julia",
   "name": "julia-1.11"
  },
  "language_info": {
   "file_extension": ".jl",
   "mimetype": "application/julia",
   "name": "julia",
   "version": "1.11.1"
  }
 },
 "nbformat": 4,
 "nbformat_minor": 5
}
